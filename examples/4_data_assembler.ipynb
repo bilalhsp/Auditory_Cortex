{
 "cells": [
  {
   "cell_type": "markdown",
   "id": "735f4ce3",
   "metadata": {},
   "source": [
    "# Data Assember\n",
    "Uses a dataloader object underneath to load spikes and features. This object provides training and test data in paired fashion for model fitting/training the model. \n",
    "This abstract the details loading data and pairing the spikes and features in response to a stimulus.\\\n",
    "Also we can simply sub-class the base data assember class to customize the feature e.g. to use spectrogram features, to use all layer features combined etc."
   ]
  },
  {
   "cell_type": "code",
   "execution_count": 1,
   "id": "4467f1da",
   "metadata": {},
   "outputs": [
    {
     "name": "stdout",
     "output_type": "stream",
     "text": [
      "WARNING:SoX could not be found!\n",
      "\n",
      "    If you do not have SoX, proceed here:\n",
      "     - - - http://sox.sourceforge.net/ - - -\n",
      "\n",
      "    If you do (or think that you should) have SoX, double-check your\n",
      "    path variables.\n",
      "    \n"
     ]
    },
    {
     "name": "stderr",
     "output_type": "stream",
     "text": [
      "/bin/sh: line 1: sox: command not found\n",
      "/home/ahmedb/projects/Wav2Letter/deepspeech.pytorch/deepspeech_pytorch/loader/data_loader.py:17: UserWarning: torchaudio._backend.set_audio_backend has been deprecated. With dispatcher enabled, this function is no-op. You can remove the function call.\n",
      "  torchaudio.set_audio_backend(\"sox_io\")\n"
     ]
    },
    {
     "name": "stdout",
     "output_type": "stream",
     "text": [
      "INFO:Changing convolution kernels for: whisper_tiny\n"
     ]
    },
    {
     "name": "stderr",
     "output_type": "stream",
     "text": [
      "Special tokens have been added in the vocabulary, make sure the associated word embeddings are fine-tuned or trained.\n"
     ]
    }
   ],
   "source": [
    "from auditory_cortex.utils import set_up_logging\n",
    "set_up_logging()\n",
    "\n",
    "from auditory_cortex.neural_data import create_neural_dataset\n",
    "from auditory_cortex.dnn_feature_extractor import create_feature_extractor\n",
    "from auditory_cortex.data_assembler import DNNDataAssembler\n",
    "\n",
    "dataset_name = 'ucdavis'\n",
    "session_id = 3\n",
    "neural_dataset = create_neural_dataset(dataset_name, session_id)\n",
    "\n",
    "model_name = 'whisper_tiny'\n",
    "feature_extractor = create_feature_extractor(model_name)\n"
   ]
  },
  {
   "cell_type": "code",
   "execution_count": 2,
   "id": "60b130f5",
   "metadata": {},
   "outputs": [
    {
     "name": "stdout",
     "output_type": "stream",
     "text": [
      "INFO:creating Dataset for timit data.\n",
      "INFO:Loading data for session at bin_width-50ms.\n",
      "INFO:Reading features for model: whisper_tiny\n",
      "INFO:Resamping ANN features at bin-width: 50\n"
     ]
    }
   ],
   "source": [
    "layer_id = 2\n",
    "bin_width = 50\n",
    "mVocs = False\n",
    "\n",
    "data_assembler = DNNDataAssembler(\n",
    "        neural_dataset, feature_extractor, layer_id, bin_width=bin_width, mVocs=mVocs,\n",
    "        )\n"
   ]
  },
  {
   "cell_type": "code",
   "execution_count": 26,
   "id": "1243ad26",
   "metadata": {},
   "outputs": [],
   "source": [
    "features_list, spikes_list = data_assembler.get_training_data()"
   ]
  },
  {
   "cell_type": "code",
   "execution_count": 27,
   "id": "fbbb36cd",
   "metadata": {},
   "outputs": [
    {
     "name": "stdout",
     "output_type": "stream",
     "text": [
      "Length of features list: 451\n",
      "Length of spikes  list: 451\n"
     ]
    }
   ],
   "source": [
    "print(f'Length of features list: {len(features_list)}')\n",
    "print(f'Length of spikes  list: {len(spikes_list)}')"
   ]
  },
  {
   "cell_type": "code",
   "execution_count": 28,
   "id": "8ae43f58",
   "metadata": {},
   "outputs": [
    {
     "data": {
      "text/plain": [
       "(48, 384)"
      ]
     },
     "execution_count": 28,
     "metadata": {},
     "output_type": "execute_result"
    }
   ],
   "source": [
    "features_list[0].shape"
   ]
  },
  {
   "cell_type": "code",
   "execution_count": 29,
   "id": "ccc3805a",
   "metadata": {},
   "outputs": [
    {
     "data": {
      "text/plain": [
       "(41, 9)"
      ]
     },
     "execution_count": 29,
     "metadata": {},
     "output_type": "execute_result"
    }
   ],
   "source": [
    "spikes_list[0].shape"
   ]
  },
  {
   "cell_type": "code",
   "execution_count": 30,
   "id": "cd651629",
   "metadata": {},
   "outputs": [
    {
     "data": {
      "text/plain": [
       "[1001, 1002, 201, 202, 2001, 301, 3001, 4001, 4002]"
      ]
     },
     "execution_count": 30,
     "metadata": {},
     "output_type": "execute_result"
    }
   ],
   "source": [
    "data_assembler.channel_ids"
   ]
  },
  {
   "cell_type": "markdown",
   "id": "e8b40fea",
   "metadata": {},
   "source": [
    "Spikes for all channels (or units in general) have been stacked together for ease of handling and modelling but we can map channel index e.g. 4 to actual channel id, as shown in the next cell. We can use these actual ids to interpret or save the results so that they can be understood properly. "
   ]
  },
  {
   "cell_type": "code",
   "execution_count": 23,
   "id": "c693c4f3",
   "metadata": {},
   "outputs": [
    {
     "name": "stdout",
     "output_type": "stream",
     "text": [
      "Unit id at index 4 is 2001\n"
     ]
    }
   ],
   "source": [
    "ch = 4\n",
    "print(f\"Unit id at index {ch} is {data_assembler.channel_ids[ch]}\")"
   ]
  },
  {
   "cell_type": "markdown",
   "id": "feb4705c",
   "metadata": {},
   "source": [
    "#### Loading spikes for other sessions\n",
    "Once data assembler object has been created, in order to get training and test data for a different session, we don't need to create a new object. Rather we can use the same object so that we don't have to reload the DNN features. \\\n",
    "We can use **read_session_spikes** method to get the data pairs for the new session, as shown below. We can tell the difference by the different channel_ids (or unit_ids) "
   ]
  },
  {
   "cell_type": "code",
   "execution_count": 8,
   "id": "9e742945",
   "metadata": {},
   "outputs": [
    {
     "name": "stdout",
     "output_type": "stream",
     "text": [
      "INFO:Loading data for session at bin_width-50ms.\n"
     ]
    }
   ],
   "source": [
    "session = 4\n",
    "neural_data = create_neural_dataset(dataset_name, session)\n",
    "data_assembler.read_session_spikes(neural_data)"
   ]
  },
  {
   "cell_type": "code",
   "execution_count": 9,
   "id": "22a3de22",
   "metadata": {},
   "outputs": [
    {
     "data": {
      "text/plain": [
       "[101, 201, 3001, 3002, 3003, 3004, 4001]"
      ]
     },
     "execution_count": 9,
     "metadata": {},
     "output_type": "execute_result"
    }
   ],
   "source": [
    "data_assembler.channel_ids"
   ]
  },
  {
   "cell_type": "code",
   "execution_count": 10,
   "id": "db674e23",
   "metadata": {},
   "outputs": [
    {
     "data": {
      "text/plain": [
       "4"
      ]
     },
     "execution_count": 10,
     "metadata": {},
     "output_type": "execute_result"
    }
   ],
   "source": [
    "data_assembler.get_session_id()"
   ]
  }
 ],
 "metadata": {
  "kernelspec": {
   "display_name": "Python 3",
   "language": "python",
   "name": "python3"
  },
  "language_info": {
   "codemirror_mode": {
    "name": "ipython",
    "version": 3
   },
   "file_extension": ".py",
   "mimetype": "text/x-python",
   "name": "python",
   "nbconvert_exporter": "python",
   "pygments_lexer": "ipython3",
   "version": "3.8.5"
  }
 },
 "nbformat": 4,
 "nbformat_minor": 5
}
