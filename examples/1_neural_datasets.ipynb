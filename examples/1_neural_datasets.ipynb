{
 "cells": [
  {
   "cell_type": "markdown",
   "id": "5f93009e",
   "metadata": {},
   "source": [
    "# Neural datasets\n",
    "Neural dataset objects provide an interface to integrate neural data to this repository. You can read about how to add a new neural data to the already supported datasets in the documents section [here](./../docs/1_neural_data.md).\n",
    "This notebook is a good place to start working with datasets already supported by this repo. \\\\\n",
    "\n",
    "Each dataset is identified by a unique name or identifier. Retrieve a list of dataset names that are available."
   ]
  },
  {
   "cell_type": "code",
   "execution_count": 1,
   "id": "0887990b",
   "metadata": {},
   "outputs": [
    {
     "data": {
      "text/plain": [
       "['ucsf', 'ucdavis']"
      ]
     },
     "execution_count": 1,
     "metadata": {},
     "output_type": "execute_result"
    }
   ],
   "source": [
    "from auditory_cortex.neural_data import list_neural_datasets\n",
    "list_neural_datasets()"
   ]
  },
  {
   "cell_type": "markdown",
   "id": "9009d7b4",
   "metadata": {},
   "source": [
    "There can multiple recoring sessions for each dataset. There are two kinds of objects for each neural data. \n",
    "- **metadata**: common for all the sessions, provides general information about stimuli used e.g. sampling rate, stimulus ids, stimulus durations etc.\n",
    "- **dataset**: separate object created for every session, provides functionality to access neural spikes for all the stimuli for a specific session.\n",
    "\n",
    "Given below are the examples of creating `metadata` and `dataset` object.  \n"
   ]
  },
  {
   "cell_type": "code",
   "execution_count": 1,
   "id": "77262ab8",
   "metadata": {},
   "outputs": [
    {
     "name": "stderr",
     "output_type": "stream",
     "text": [
      "numexpr.utils - INFO - Note: NumExpr detected 20 cores but \"NUMEXPR_MAX_THREADS\" not set, so enforcing safe limit of 8.\n",
      "numexpr.utils - INFO - NumExpr defaulting to 8 threads.\n"
     ]
    },
    {
     "data": {
      "text/plain": [
       "array(['180413', '180420', '180501', '180502', '180613', '180622',\n",
       "       '180627', '180717', '180719', '180720', '180724', '180728',\n",
       "       '180730', '180731', '180807', '180808', '180810', '180814',\n",
       "       '190604', '190605', '190606', '190703', '190726', '190801',\n",
       "       '191113', '191115', '191121', '191125', '191206', '191209',\n",
       "       '191210', '191211', '191219', '200205', '200206', '200207',\n",
       "       '200212', '200213', '200219', '200313', '200318'], dtype='<U6')"
      ]
     },
     "execution_count": 1,
     "metadata": {},
     "output_type": "execute_result"
    }
   ],
   "source": [
    "from auditory_cortex.neural_data import create_neural_metadata\n",
    "\n",
    "metadata = create_neural_metadata('ucsf')\n",
    "metadata.get_all_available_sessions()"
   ]
  },
  {
   "cell_type": "code",
   "execution_count": 66,
   "id": "7d2a4c5b",
   "metadata": {},
   "outputs": [
    {
     "name": "stdout",
     "output_type": "stream",
     "text": [
      "dict_keys(['repeated', 'unique'])\n"
     ]
    }
   ],
   "source": [
    "stim_ids = metadata.get_stim_ids()\n",
    "print(f\"{stim_ids.keys()}\")"
   ]
  },
  {
   "cell_type": "code",
   "execution_count": 29,
   "id": "28f30bd1",
   "metadata": {},
   "outputs": [
    {
     "name": "stderr",
     "output_type": "stream",
     "text": [
      "auditory_cortex.neural_data.ucsf_data.ucsf_dataset - INFO - NeuralData:  Creating object for session: 200206 ... \n",
      "auditory_cortex.neural_data.ucsf_data.ucsf_dataset - INFO - Done.\n"
     ]
    }
   ],
   "source": [
    "from auditory_cortex.neural_data import create_neural_dataset\n",
    "\n",
    "dataset_name = 'ucsf'\n",
    "session_id = '200206'   # can also be in int of float\n",
    "dataset = create_neural_dataset(dataset_name, session_id)"
   ]
  },
  {
   "cell_type": "markdown",
   "id": "67cb0ac8",
   "metadata": {},
   "source": [
    "#### spikes for unique stimuli.."
   ]
  },
  {
   "cell_type": "code",
   "execution_count": 7,
   "id": "02b9842c",
   "metadata": {},
   "outputs": [],
   "source": [
    "bin_width=50    # in milliseconds\n",
    "repeated=False  # if True, gives data for repeated trials (test data)\n",
    "mVocs=False     # if True, gives spikes for monkey vocalizations, otherwise for timit\n",
    "spikes = dataset.extract_spikes(bin_width=bin_width, repeated=repeated, mVocs=mVocs)"
   ]
  },
  {
   "cell_type": "code",
   "execution_count": null,
   "id": "d2381d11",
   "metadata": {},
   "outputs": [
    {
     "name": "stdout",
     "output_type": "stream",
     "text": [
      "stim_ids: dict_keys([1, 2, 3, 4, 5, 6, 7, 8, 9, 10, 11, 14, 15, 16, 17, 18, 19, 20, 21, 22, 23, 24, 25, 26, 27, 28, 29, 30, 31, 33, 34, 35, 36, 37, 38, 39, 40, 41, 42, 44, 45, 46, 47, 48, 49, 50, 51, 52, 53, 54, 55, 57, 58, 59, 60, 61, 62, 63, 64, 65, 66, 67, 68, 69, 70, 71, 72, 73, 74, 75, 76, 77, 78, 79, 80, 81, 82, 83, 84, 85, 86, 87, 88, 89, 90, 91, 92, 93, 94, 95, 96, 97, 98, 99, 100, 101, 102, 103, 104, 105, 106, 107, 108, 109, 110, 111, 112, 113, 114, 115, 116, 117, 118, 119, 120, 121, 122, 123, 124, 125, 126, 127, 128, 129, 130, 131, 132, 133, 134, 135, 136, 137, 138, 139, 140, 141, 142, 143, 144, 145, 146, 147, 148, 149, 150, 151, 152, 153, 154, 155, 156, 157, 158, 159, 160, 161, 162, 164, 165, 166, 167, 168, 169, 170, 171, 172, 173, 174, 175, 176, 177, 178, 179, 180, 181, 182, 183, 184, 185, 186, 187, 188, 189, 190, 191, 192, 193, 194, 195, 196, 197, 198, 199, 200, 201, 202, 203, 204, 205, 206, 207, 208, 209, 210, 211, 213, 214, 215, 216, 217, 219, 220, 221, 222, 223, 224, 225, 226, 227, 228, 229, 230, 231, 232, 233, 234, 235, 236, 237, 238, 239, 240, 241, 242, 243, 244, 245, 246, 247, 248, 249, 250, 251, 252, 253, 254, 255, 256, 257, 258, 259, 260, 261, 262, 263, 264, 265, 266, 267, 268, 269, 270, 271, 272, 273, 274, 275, 276, 277, 278, 279, 280, 281, 282, 283, 284, 285, 286, 288, 289, 290, 291, 292, 293, 294, 295, 296, 297, 298, 299, 300, 301, 302, 303, 304, 305, 306, 307, 309, 310, 311, 312, 313, 314, 315, 316, 317, 318, 319, 320, 321, 322, 323, 324, 325, 326, 327, 328, 329, 330, 331, 332, 333, 334, 335, 336, 337, 338, 339, 340, 341, 342, 343, 344, 345, 346, 347, 348, 349, 350, 351, 352, 353, 354, 355, 356, 357, 358, 359, 360, 361, 362, 363, 364, 365, 366, 367, 368, 369, 370, 371, 372, 373, 374, 375, 376, 377, 378, 379, 380, 381, 382, 383, 384, 385, 386, 387, 388, 389, 390, 391, 392, 393, 394, 395, 396, 397, 398, 399, 400, 401, 402, 403, 404, 405, 406, 407, 408, 409, 410, 411, 412, 413, 414, 415, 416, 417, 418, 419, 420, 421, 422, 423, 424, 425, 426, 427, 428, 429, 430, 431, 432, 433, 434, 435, 436, 437, 438, 439, 440, 441, 442, 443, 444, 445, 446, 447, 448, 449, 450, 451, 452, 453, 454, 455, 456, 457, 458, 459, 460, 461, 462, 463, 464, 465, 466, 467, 468, 469, 470, 471, 472, 473, 474, 475, 476, 477, 478, 479, 480, 481, 482, 483, 484, 485, 486, 487, 488, 489, 490, 491, 492, 493, 494, 495, 496, 497, 498, 499])\n"
     ]
    }
   ],
   "source": [
    "print(f\"stim_ids (for unique):\\n {spikes.keys()}\")"
   ]
  },
  {
   "cell_type": "code",
   "execution_count": 9,
   "id": "dcb54081",
   "metadata": {},
   "outputs": [
    {
     "name": "stdout",
     "output_type": "stream",
     "text": [
      "Channel ids for stim: 1\n",
      "dict_keys([0, 1, 2, 3, 4, 5, 6, 7, 8, 9, 10, 11, 12, 13, 14, 15, 16, 17, 18, 19, 20, 21, 22, 23, 24, 25, 26, 27, 28, 29, 30, 31, 32, 33, 34, 35, 36, 37, 38, 39, 40, 41, 42, 43, 44, 45, 46, 47, 48, 49, 50, 51, 52, 53, 54, 55, 56, 57, 58, 59, 60, 61, 62, 63])\n"
     ]
    }
   ],
   "source": [
    "stim_id = 1  # example stim id\n",
    "print(f\"Channel ids for stim: {stim_id}\")\n",
    "print(f\"{spikes[stim_id].keys()}\")"
   ]
  },
  {
   "cell_type": "code",
   "execution_count": 10,
   "id": "eee7a5e6",
   "metadata": {},
   "outputs": [
    {
     "name": "stdout",
     "output_type": "stream",
     "text": [
      "Shape of spikes for stim 1, channel 0:\n",
      "(1, 36)\n"
     ]
    }
   ],
   "source": [
    "stim_id = 1     # example stim id\n",
    "channel_id = 0  # example channel id\n",
    "print(f\"Shape of spikes for stim {stim_id}, channel {channel_id}:\")\n",
    "print(f\"{spikes[stim_id][channel_id].shape}\")"
   ]
  },
  {
   "cell_type": "markdown",
   "id": "36033f9d",
   "metadata": {},
   "source": [
    "#### spikes for repeated stimuli.."
   ]
  },
  {
   "cell_type": "code",
   "execution_count": 30,
   "id": "9a4af36b",
   "metadata": {},
   "outputs": [],
   "source": [
    "bin_width=50    # in milliseconds\n",
    "repeated=True  # if True, gives data for repeated trials (test data)\n",
    "mVocs=False     # if True, gives spikes for monkey vocalizations, otherwise for timit\n",
    "spikes = dataset.extract_spikes(bin_width=bin_width, repeated=repeated, mVocs=mVocs)"
   ]
  },
  {
   "cell_type": "code",
   "execution_count": 5,
   "id": "be5892e7",
   "metadata": {},
   "outputs": [
    {
     "name": "stdout",
     "output_type": "stream",
     "text": [
      "stim_ids (for repeated):\n",
      " dict_keys([12, 13, 32, 43, 56, 163, 212, 218, 287, 308])\n"
     ]
    }
   ],
   "source": [
    "print(f\"stim_ids (for repeated):\\n {spikes.keys()}\")"
   ]
  },
  {
   "cell_type": "code",
   "execution_count": 31,
   "id": "fe59671e",
   "metadata": {},
   "outputs": [
    {
     "name": "stdout",
     "output_type": "stream",
     "text": [
      "Channel ids for stim: 12\n",
      "dict_keys([0, 1, 2, 3, 4, 5, 6, 7, 8, 9, 10, 11, 12, 13, 14, 15, 16, 17, 18, 19, 20, 21, 22, 23, 24, 25, 26, 27, 28, 29, 30, 31, 32, 33, 34, 35, 36, 37, 38, 39, 40, 41, 42, 43, 44, 45, 46, 47, 48, 49, 50, 51, 52, 53, 54, 55, 56, 57, 58, 59, 60, 61, 62, 63])\n"
     ]
    }
   ],
   "source": [
    "stim_id = 12  # example stim id\n",
    "print(f\"Channel ids for stim: {stim_id}\")\n",
    "print(f\"{spikes[stim_id].keys()}\")"
   ]
  },
  {
   "cell_type": "code",
   "execution_count": 32,
   "id": "212a2749",
   "metadata": {},
   "outputs": [
    {
     "name": "stdout",
     "output_type": "stream",
     "text": [
      "Shape of spikes for stim 12, channel 3:\n",
      "(11, 27)\n"
     ]
    }
   ],
   "source": [
    "stim_id = 12     # example stim id\n",
    "channel_id = 3  # example channel id\n",
    "print(f\"Shape of spikes for stim {stim_id}, channel {channel_id}:\")\n",
    "print(f\"{spikes[stim_id][channel_id].shape}\")"
   ]
  },
  {
   "cell_type": "code",
   "execution_count": 33,
   "id": "de148a7d",
   "metadata": {},
   "outputs": [
    {
     "data": {
      "text/plain": [
       "array([0, 0, 0, 1, 3, 1, 4, 2, 3, 0, 1, 4, 2, 2, 0, 0, 0, 1, 0, 1, 2, 1,\n",
       "       1, 0, 1, 1, 1], dtype=int32)"
      ]
     },
     "execution_count": 33,
     "metadata": {},
     "output_type": "execute_result"
    }
   ],
   "source": [
    "spikes[stim_id][channel_id][0]"
   ]
  },
  {
   "cell_type": "markdown",
   "id": "60b9e1bc",
   "metadata": {},
   "source": [
    "### ucdavis "
   ]
  },
  {
   "cell_type": "code",
   "execution_count": 9,
   "id": "2a6c022f",
   "metadata": {},
   "outputs": [
    {
     "data": {
      "text/plain": [
       "[0, 1, 2, 3, 4, 5, 6, 7, 8]"
      ]
     },
     "execution_count": 9,
     "metadata": {},
     "output_type": "execute_result"
    }
   ],
   "source": [
    "from auditory_cortex.neural_data import create_neural_metadata\n",
    "\n",
    "dataset_name = 'ucdavis'\n",
    "metadata = create_neural_metadata(dataset_name)\n",
    "metadata.get_all_available_sessions()"
   ]
  },
  {
   "cell_type": "markdown",
   "id": "5e23080f",
   "metadata": {},
   "source": [
    "Some sessions were recorded with 3 repeats of stimuli in the test set and others with 12 repeats. To get only the sessions with specific number of repeats, we can specify *num_repeats*"
   ]
  },
  {
   "cell_type": "code",
   "execution_count": 10,
   "id": "dad699e2",
   "metadata": {},
   "outputs": [
    {
     "data": {
      "text/plain": [
       "[3, 4, 5, 6, 7, 8]"
      ]
     },
     "execution_count": 10,
     "metadata": {},
     "output_type": "execute_result"
    }
   ],
   "source": [
    "num_repeats = 12\n",
    "metadata.get_all_available_sessions(num_repeats)"
   ]
  },
  {
   "cell_type": "markdown",
   "id": "009f9c86",
   "metadata": {},
   "source": [
    "Session IDs in this case are the indices assigned to each session for ease of use. To get the full name of recording session that has recording data and monkey id, additional method is provided.\n",
    "\n",
    "This might be needed for finding out further details about session for interpretation of results but for the purpose of running code and computing results, session IDs would suffice."
   ]
  },
  {
   "cell_type": "code",
   "execution_count": 18,
   "id": "cf9808f6",
   "metadata": {},
   "outputs": [
    {
     "data": {
      "text/plain": [
       "'relayz_2024-10-28b_boilermaker.mat'"
      ]
     },
     "execution_count": 18,
     "metadata": {},
     "output_type": "execute_result"
    }
   ],
   "source": [
    "sess_id = 0 # example session id\n",
    "metadata.full_session_name(sess_id)"
   ]
  },
  {
   "cell_type": "code",
   "execution_count": 19,
   "id": "292a5303",
   "metadata": {},
   "outputs": [
    {
     "data": {
      "text/plain": [
       "3"
      ]
     },
     "execution_count": 19,
     "metadata": {},
     "output_type": "execute_result"
    }
   ],
   "source": [
    "sess_id = 0 # example session id\n",
    "metadata.num_repeats_for_sess(sess_id)"
   ]
  },
  {
   "cell_type": "markdown",
   "id": "90ce1f11",
   "metadata": {},
   "source": [
    "Next is the unique identifier of each stimulus presented to the monkeys. We can also get lists of stimuli presented once or repeated using metadata object. \n",
    "\n",
    "Note: These stimulus ids are valid ONLY for 12-repeat experiments. For 3-repeat experiments we rely on the neural recording files, so metadata object MUST NOT be used for stimlus ids of 3-repeat experiments."
   ]
  },
  {
   "cell_type": "code",
   "execution_count": 8,
   "id": "e7c55ada",
   "metadata": {},
   "outputs": [
    {
     "name": "stdout",
     "output_type": "stream",
     "text": [
      "For TIMIT:\n",
      "\t: repeated, number of stimuli: 46\n",
      "\t: unique, number of stimuli: 451\n"
     ]
    }
   ],
   "source": [
    "timit_stim_ids = metadata.get_stim_ids(mVocs=False)\n",
    "print(f\"For TIMIT:\")\n",
    "for stim_type in timit_stim_ids:\n",
    "    print(f\"\\t: {stim_type}, number of stimuli: {len(timit_stim_ids[stim_type])}\")"
   ]
  },
  {
   "cell_type": "code",
   "execution_count": 9,
   "id": "66a8c6c4",
   "metadata": {},
   "outputs": [
    {
     "name": "stdout",
     "output_type": "stream",
     "text": [
      "For mVocs:\n",
      "\t: repeated, number of stimuli: 153\n",
      "\t: unique, number of stimuli: 1415\n"
     ]
    }
   ],
   "source": [
    "mVocs = True  # if True, gives spikes for monkey vocalizations, otherwise for timit\n",
    "mVocs_stim_ids = metadata.get_stim_ids(mVocs=mVocs)\n",
    "print(f\"For mVocs:\")\n",
    "for stim_type in mVocs_stim_ids:\n",
    "    print(f\"\\t: {stim_type}, number of stimuli: {len(mVocs_stim_ids[stim_type])}\")"
   ]
  },
  {
   "cell_type": "code",
   "execution_count": 4,
   "id": "c4955e6c",
   "metadata": {},
   "outputs": [
    {
     "data": {
      "text/plain": [
       "{'unique': 762.4506249999997, 'repeated': 84.8345}"
      ]
     },
     "execution_count": 4,
     "metadata": {},
     "output_type": "execute_result"
    }
   ],
   "source": [
    "metadata.total_stimuli_duration(mVocs=False)"
   ]
  },
  {
   "cell_type": "code",
   "execution_count": 3,
   "id": "5d07a7a9",
   "metadata": {},
   "outputs": [
    {
     "data": {
      "text/plain": [
       "{'unique': 900.2547708333341, 'repeated': 100.06502083333329}"
      ]
     },
     "execution_count": 3,
     "metadata": {},
     "output_type": "execute_result"
    }
   ],
   "source": [
    "metadata.total_stimuli_duration(mVocs=True)"
   ]
  },
  {
   "cell_type": "markdown",
   "id": "37136a23",
   "metadata": {},
   "source": [
    "Here is how we can use stimulus ids using the neural dataset object. I initially found some issues in stimulus ids from metadata files and dataset objects to not be matched. \n",
    "\n",
    "**06-23-25**: I found the *indUsed* field in metadata files to be accurate and matching the experimental setup in the neural dataset objects. "
   ]
  },
  {
   "cell_type": "code",
   "execution_count": 12,
   "id": "07680f1b",
   "metadata": {},
   "outputs": [],
   "source": [
    "from auditory_cortex.neural_data import create_neural_dataset\n",
    "dataset_name = 'ucdavis'\n",
    "session_id = 3\n",
    "dataset = create_neural_dataset(dataset_name, session_id)"
   ]
  },
  {
   "cell_type": "code",
   "execution_count": 59,
   "id": "963bc962",
   "metadata": {},
   "outputs": [
    {
     "name": "stdout",
     "output_type": "stream",
     "text": [
      "# of stimuli: \n",
      "For: mVocs\n",
      "\tunique: (451,)\n",
      "\trepeated: (46,)\n",
      "For: mVocs\n",
      "\tunique: (1415,)\n",
      "\trepeated: (153,)\n"
     ]
    }
   ],
   "source": [
    "print(f\"# of stimuli: \")\n",
    "stim_type = 'mVocs' if mVocs else 'timit'\n",
    "for mVocs in [False, True]:\n",
    "    stim_ids = dataset.get_stim_ids(mVocs=mVocs)\n",
    "    print(f\"For: {stim_type}\")\n",
    "    for typee in stim_ids:\n",
    "        print(f\"\\t{typee}: {stim_ids[typee].shape}\")"
   ]
  },
  {
   "cell_type": "code",
   "execution_count": 13,
   "id": "475b285b",
   "metadata": {},
   "outputs": [],
   "source": [
    "bin_width=50    # in milliseconds\n",
    "repeated=True  # if True, gives data for repeated trials (test data)\n",
    "mVocs=False     # if True, gives spikes for monkey vocalizations, otherwise for timit\n",
    "spikes = dataset.extract_spikes(bin_width=bin_width, repeated=repeated, mVocs=mVocs)"
   ]
  },
  {
   "cell_type": "code",
   "execution_count": 15,
   "id": "ad87bdb6",
   "metadata": {},
   "outputs": [
    {
     "name": "stdout",
     "output_type": "stream",
     "text": [
      "stim_ids (for repeated):\n",
      " ['103-fmjf0_si1254.wfm', '120-frew0_si1030.wfm', '124-fsah0_si1874.wfm', '13-fcaj0_si1804.wfm', '138-ftaj0_si1329.wfm', '142-ftmg0_si2162.wfm', '145-fvkb0_si1789.wfm', '148-mabw0_si2294.wfm', '151-maeo0_si1956.wfm', '153-majc0_si2095.wfm', '16-fcft0_si1808.wfm', '164-mbcg0_si486.wfm', '174-mbom0_si1644.wfm', '183-mccs0_si2099.wfm', '186-mcem0_si1398.wfm', '187-mchh0_si1634.wfm', '189-mcmb0_si1898.wfm', '193-mctm0_si720.wfm', '195-mctw0_si2003.wfm', '206-mdhs0_si1530.wfm', '240-meal0_si2177.wfm', '263-mges0_si1481.wfm', '278-mjar0_si2247.wfm', '292-mjeb0_si656.wfm', '308-mjmm0_si625.wfm', '315-mjrh0_si1125.wfm', '340-mklt0_si583.wfm', '345-mljc0_si1855.wfm', '360-mmdm1_si2043.wfm', '362-mmds0_si1973.wfm', '373-mmrp0_si2034.wfm', '387-mpgh0_si924.wfm', '394-mrab0_si1224.wfm', '396-mram0_si1905.wfm', '4-fawf0_si1000.wfm', '401-mrdm0_si1595.wfm', '402-mrds0_si1167.wfm', '404-mreh1_si2229.wfm', '41-fdrw0_si1423.wfm', '412-mrgg0_si1199.wfm', '440-mrxb0_si1585.wfm', '484-mvrw0_si2115.wfm', '491-mwem0_si1950.wfm', '53-fgmd0_si2107.wfm', '72-fjsp0_si804.wfm', '73-fjwb1_si2055.wfm']\n"
     ]
    }
   ],
   "source": [
    "stim_ids = list(spikes.keys())\n",
    "print(f\"stim_ids (for repeated):\\n {stim_ids}\")"
   ]
  },
  {
   "cell_type": "code",
   "execution_count": 19,
   "id": "4d969edc",
   "metadata": {},
   "outputs": [
    {
     "name": "stdout",
     "output_type": "stream",
     "text": [
      "unit_ids ids for stim: '103-fmjf0_si1254.wfm' \n",
      " [1001, 1002, 201, 202, 2001, 301, 3001, 4001, 4002]\n"
     ]
    }
   ],
   "source": [
    "stim_id = stim_ids[0]  # example stim id\n",
    "unit_ids = list(spikes[stim_id].keys())\n",
    "print(f\"unit_ids ids for stim: '{stim_id}' \\n {unit_ids}\")"
   ]
  },
  {
   "cell_type": "code",
   "execution_count": 21,
   "id": "a5028fa8",
   "metadata": {},
   "outputs": [
    {
     "name": "stdout",
     "output_type": "stream",
     "text": [
      "Shape of spikes for stim '103-fmjf0_si1254.wfm', unit 1001:\n",
      "(12, 41)\n"
     ]
    }
   ],
   "source": [
    "stim_id = stim_ids[0]  # example stim id\n",
    "unit_id = unit_ids[0]  # example channel id\n",
    "print(f\"Shape of spikes for stim '{stim_id}', unit {unit_id}:\")\n",
    "print(f\"{spikes[stim_id][unit_id].shape}\")"
   ]
  },
  {
   "cell_type": "code",
   "execution_count": 24,
   "id": "f64ee111",
   "metadata": {},
   "outputs": [
    {
     "data": {
      "text/plain": [
       "array([0, 0, 0, 0, 0, 0, 0, 0, 0, 0, 0, 0, 0, 0, 0, 0, 0, 0, 0, 0, 0, 0,\n",
       "       0, 1, 0, 0, 0, 0, 0, 0, 0, 0, 0, 0, 0, 0, 1, 0, 0, 0, 1])"
      ]
     },
     "execution_count": 24,
     "metadata": {},
     "output_type": "execute_result"
    }
   ],
   "source": [
    "spikes[stim_id][unit_id][3]"
   ]
  }
 ],
 "metadata": {
  "kernelspec": {
   "display_name": "Python 3",
   "language": "python",
   "name": "python3"
  },
  "language_info": {
   "codemirror_mode": {
    "name": "ipython",
    "version": 3
   },
   "file_extension": ".py",
   "mimetype": "text/x-python",
   "name": "python",
   "nbconvert_exporter": "python",
   "pygments_lexer": "ipython3",
   "version": "3.8.5"
  }
 },
 "nbformat": 4,
 "nbformat_minor": 5
}
