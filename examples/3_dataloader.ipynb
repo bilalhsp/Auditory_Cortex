{
 "cells": [
  {
   "cell_type": "markdown",
   "id": "3a11c49a",
   "metadata": {},
   "source": [
    "# Dataloader\n",
    "This object takes in neural dataset and feature extractor objects and provides high level acccess to DNN features and neural spikes. Since extracting hidden layer features from all the layers of the DNN for all the stimuli takes time, the dataloader method implements features caching mechanism. It is recommended to call the get features method once at the start, that makes sure they are saved to the cache memory and sub-sequent access is faster."
   ]
  },
  {
   "cell_type": "code",
   "execution_count": 2,
   "id": "f9c426ed",
   "metadata": {},
   "outputs": [
    {
     "name": "stdout",
     "output_type": "stream",
     "text": [
      "WARNING:SoX could not be found!\n",
      "\n",
      "    If you do not have SoX, proceed here:\n",
      "     - - - http://sox.sourceforge.net/ - - -\n",
      "\n",
      "    If you do (or think that you should) have SoX, double-check your\n",
      "    path variables.\n",
      "    \n"
     ]
    },
    {
     "name": "stderr",
     "output_type": "stream",
     "text": [
      "/bin/sh: line 1: sox: command not found\n",
      "/home/ahmedb/projects/Wav2Letter/deepspeech.pytorch/deepspeech_pytorch/loader/data_loader.py:17: UserWarning: torchaudio._backend.set_audio_backend has been deprecated. With dispatcher enabled, this function is no-op. You can remove the function call.\n",
      "  torchaudio.set_audio_backend(\"sox_io\")\n"
     ]
    },
    {
     "name": "stdout",
     "output_type": "stream",
     "text": [
      "INFO:Changing convolution kernels for: whisper_tiny\n"
     ]
    },
    {
     "name": "stderr",
     "output_type": "stream",
     "text": [
      "Special tokens have been added in the vocabulary, make sure the associated word embeddings are fine-tuned or trained.\n"
     ]
    }
   ],
   "source": [
    "from auditory_cortex.utils import set_up_logging\n",
    "set_up_logging()\n",
    "\n",
    "from auditory_cortex.neural_data import create_neural_dataset\n",
    "from auditory_cortex.dnn_feature_extractor import create_feature_extractor\n",
    "from auditory_cortex.dataloader2 import DataLoader\n",
    "\n",
    "dataset_name = 'ucdavis'\n",
    "session_id = 3\n",
    "neural_dataset = create_neural_dataset(dataset_name, session_id)\n",
    "\n",
    "model_name = 'whisper_tiny'\n",
    "feature_extractor = create_feature_extractor(model_name)\n",
    "\n",
    "dataloader = DataLoader(neural_dataset, feature_extractor)"
   ]
  },
  {
   "cell_type": "code",
   "execution_count": 18,
   "id": "4beb6a54",
   "metadata": {},
   "outputs": [],
   "source": [
    "bin_width = 50\n",
    "repeated=False\n",
    "mVocs=False\n",
    "spikes = dataloader.get_session_spikes(\n",
    "    bin_width, repeated=repeated, mVocs=mVocs\n",
    ")"
   ]
  },
  {
   "cell_type": "code",
   "execution_count": 19,
   "id": "078b7c32",
   "metadata": {},
   "outputs": [
    {
     "name": "stdout",
     "output_type": "stream",
     "text": [
      "Number of stimulus IDs: 451\n"
     ]
    }
   ],
   "source": [
    "stim_ids = list(spikes.keys())\n",
    "print(f\"Number of stimulus IDs: {len(stim_ids)}\")"
   ]
  },
  {
   "cell_type": "code",
   "execution_count": 20,
   "id": "fead23a8",
   "metadata": {},
   "outputs": [
    {
     "name": "stdout",
     "output_type": "stream",
     "text": [
      "[1001, 1002, 201, 202, 2001, 301, 3001, 4001, 4002]\n"
     ]
    }
   ],
   "source": [
    "stim_ids = list(spikes.keys())\n",
    "channel_ids = list(spikes[stim_ids[0]].keys())\n",
    "print(channel_ids)"
   ]
  },
  {
   "cell_type": "code",
   "execution_count": 21,
   "id": "250ccc6c",
   "metadata": {},
   "outputs": [
    {
     "name": "stdout",
     "output_type": "stream",
     "text": [
      "(1, 41)\n"
     ]
    }
   ],
   "source": [
    "stim_ids = list(spikes.keys())\n",
    "channel_ids = list(spikes[stim_ids[0]].keys())\n",
    "print(spikes[stim_ids[0]][channel_ids[0]].shape)"
   ]
  },
  {
   "cell_type": "markdown",
   "id": "f2f5bcf3",
   "metadata": {},
   "source": [
    "#### DNN features"
   ]
  },
  {
   "cell_type": "code",
   "execution_count": 3,
   "id": "f6f5784d",
   "metadata": {},
   "outputs": [
    {
     "name": "stdout",
     "output_type": "stream",
     "text": [
      "INFO:Reading features for model: whisper_tiny\n",
      "INFO:Resamping ANN features at bin-width: 50\n"
     ]
    }
   ],
   "source": [
    "bin_width=50\n",
    "mVocs=False\n",
    "features = dataloader.get_resampled_DNN_features(\n",
    "    bin_width, mVocs=mVocs\n",
    ")"
   ]
  },
  {
   "cell_type": "code",
   "execution_count": 5,
   "id": "84fc1718",
   "metadata": {},
   "outputs": [
    {
     "data": {
      "text/plain": [
       "dict_keys([0, 1, 2, 3, 4, 5])"
      ]
     },
     "execution_count": 5,
     "metadata": {},
     "output_type": "execute_result"
    }
   ],
   "source": [
    "features.keys()"
   ]
  },
  {
   "cell_type": "code",
   "execution_count": 6,
   "id": "89fe8525",
   "metadata": {},
   "outputs": [
    {
     "data": {
      "text/plain": [
       "dict_keys(['319-mjsw0_si1640.wfm', '117-fpls0_si1590.wfm', '269-mgsl0_si534.wfm', '225-mdrd0_si1382.wfm', '126-fsbk0_si1699.wfm', '403-mreb0_si745.wfm', '286-mjdg0_si1705.wfm', '175-mbom0_si2274.wfm', '191-mcre0_si1725.wfm', '285-mjde0_si463.wfm', '274-milb0_si2163.wfm', '405-mrem0_si961.wfm', '40-fdrd1_si1544.wfm', '219-mdma0_si1238.wfm', '458-mtab0_si2202.wfm', '377-mmws1_si1701.wfm', '176-mbpm0_si1577.wfm', '390-mprd0_si2061.wfm', '158-marc0_si1818.wfm', '316-mjrk0_si1662.wfm', '26-fcmr0_si1735.wfm', '157-marc0_si1188.wfm', '301-mjlb0_si2246.wfm', '310-mjpg0_si1191.wfm', '93-flmc0_si2002.wfm', '122-frjb0_si1794.wfm', '90-fljg0_si2241.wfm', '309-mjmp0_si1535.wfm', '493-mwew0_si731.wfm', '428-mrms0_si2100.wfm', '476-mtqc0_si480.wfm', '106-fmkc0_si1702.wfm', '384-mpeb0_si1034.wfm', '238-mdwh0_si1925.wfm', '162-mbbr0_si1685.wfm', '217-mdls0_si2258.wfm', '395-mrab0_si594.wfm', '146-mabc0_si1620.wfm', '59-fjhk0_si1652.wfm', '19-fcjs0_si2237.wfm', '349-mmab1_si2124.wfm', '154-majp0_si1074.wfm', '267-mgrp0_si1947.wfm', '355-mmdb1_si1625.wfm', '420-mrjo0_si1624.wfm', '155-makr0_si1352.wfm', '161-mbar0_si1949.wfm', '111-fntb0_si573.wfm', '87-flja0_si2338.wfm', '20-fcke0_si1111.wfm', '112-fpac0_si2011.wfm', '35-fdjh0_si1565.wfm', '326-mjxl0_si1795.wfm', '419-mrjm4_si2119.wfm', '351-mmam0_si2227.wfm', '348-mmab1_si1494.wfm', '208-mdks0_si1066.wfm', '23-fcmh1_si1493.wfm', '255-mfxs0_si2304.wfm', '381-mntw0_si2328.wfm', '37-fdml0_si2075.wfm', '118-fpmy0_si1783.wfm', '31-fdaw0_si1406.wfm', '280-mjbr0_si1001.wfm', '374-mmrp0_si717.wfm', '36-fdml0_si1779.wfm', '226-mdrm0_si1643.wfm', '61-fjkl0_si2192.wfm', '358-mmdm0_si681.wfm', '88-fljd0_si2146.wfm', '130-fsjs0_si1171.wfm', '392-mpsw0_si1067.wfm', '39-fdnc0_si2287.wfm', '341-mklw0_si1844.wfm', '133-fslb1_si644.wfm', '8-fbmh0_si1766.wfm', '284-mjdc0_si2165.wfm', '21-fclt0_si2068.wfm', '266-mgrl0_si1497.wfm', '91-flkd0_si1369.wfm', '321-mjth0_si1926.wfm', '366-mmeb0_si727.wfm', '455-msrg0_si1851.wfm', '213-mdld0_si1543.wfm', '46-fedw0_si1653.wfm', '261-mgar0_si1842.wfm', '44-feac0_si1245.wfm', '33-fdfb0_si2010.wfm', '376-mmws0_si559.wfm', '456-mstf0_si766.wfm', '257-mgaf0_si652.wfm', '207-mdhs0_si2160.wfm', '279-mjbg0_si1724.wfm', '477-mtrc0_si1623.wfm', '329-mkch0_si2008.wfm', '302-mjlb0_si986.wfm', '150-maeb0_si2250.wfm', '203-mdcd0_si2045.wfm', '275-mjac0_si2148.wfm', '42-fdxw0_si1511.wfm', '282-mjda0_si1661.wfm', '247-mewm0_si1348.wfm', '101-fmbg0_si2264.wfm', '273-mhrm0_si1475.wfm', '421-mrjs0_si1523.wfm', '160-marw0_si646.wfm', '356-mmdg0_si2035.wfm', '224-mdrb0_si1174.wfm', '131-fskc0_si786.wfm', '256-mfxv0_si1635.wfm', '125-fsak0_si1930.wfm', '365-mmeb0_si1987.wfm', '105-fmju0_si2019.wfm', '119-freh0_si685.wfm', '465-mtdt0_si2254.wfm', '67-fjre0_si1746.wfm', '24-fcmm0_si1083.wfm', '147-mabw0_si1664.wfm', '128-fsdj0_si485.wfm', '431-mrpc1_si2026.wfm', '474-mtpp0_si878.wfm', '443-msat0_si2156.wfm', '367-mmgc0_si2184.wfm', '399-mrcs0_si1223.wfm', '289-mjdm0_si1937.wfm', '29-fcrz0_si2053.wfm', '311-mjpm1_si1897.wfm', '168-mbjv0_si1877.wfm', '346-mlll0_si1993.wfm', '17-fcft0_si548.wfm', '469-mtju0_si2269.wfm', '252-mfwk0_si1879.wfm', '110-fnlp0_si678.wfm', '109-fnkl0_si2152.wfm', '179-mbwm0_si1934.wfm', '32-fdfb0_si1948.wfm', '472-mtpg0_si2013.wfm', '78-fklc1_si2308.wfm', '132-fskp0_si1728.wfm', '370-mmlm0_si1527.wfm', '3-falr0_si1955.wfm', '163-mbbr0_si2315.wfm', '214-mdlf0_si2213.wfm', '262-mgaw0_si535.wfm', '291-mjdm1_si455.wfm', '10-fcag0_si1503.wfm', '297-mjjb0_si1277.wfm', '442-msah1_si1679.wfm', '398-mrbc0_si1665.wfm', '323-mjwg0_si2155.wfm', '369-mmjb1_si778.wfm', '490-mwem0_si1393.wfm', '314-mjrg0_si1996.wfm', '334-mkjo0_si2147.wfm', '342-mkxl0_si1185.wfm', '433-mrrk0_si1716.wfm', '388-mpgr0_si780.wfm', '425-mrlj0_si2050.wfm', '445-msdb0_si2267.wfm', '447-msdh0_si2240.wfm', '444-msat0_si896.wfm', '202-mdbb1_si1636.wfm', '485-mwad0_si1749.wfm', '215-mdlh0_si574.wfm', '194-mctt0_si1144.wfm', '241-medr0_si1374.wfm', '379-mmxs0_si876.wfm', '475-mtpr0_si506.wfm', '461-mtat1_si1627.wfm', '411-mrfl0_si1786.wfm', '135-fsrh0_si1719.wfm', '71-fjsp0_si1763.wfm', '165-mbdg0_si833.wfm', '149-madd0_si1295.wfm', '479-mtrt0_si597.wfm', '159-marw0_si1906.wfm', '498-mwsb0_si2256.wfm', '304-mjls0_si466.wfm', '173-mbml0_si539.wfm', '14-fceg0_si1878.wfm', '205-mdef0_si2193.wfm', '97-fltm0_si2330.wfm', '494-mwjg0_si494.wfm', '232-mdss1_si1713.wfm', '393-mpsw0_si2327.wfm', '47-feeh0_si471.wfm', '62-fjlg0_si1506.wfm', '52-fgjd0_si1179.wfm', '22-fcmh0_si2084.wfm', '299-mjjg0_si2263.wfm', '352-mmbs0_si1781.wfm', '295-mjfr0_si2235.wfm', '51-fgdp0_si1618.wfm', '464-mtdp0_si1274.wfm', '244-mers0_si1649.wfm', '156-makr0_si722.wfm', '129-fsjk1_si2285.wfm', '482-mtxs0_si1690.wfm', '171-mbma1_si2207.wfm', '324-mjws0_si1143.wfm', '337-mkls0_si1533.wfm', '408-mrew1_si2130.wfm', '283-mjdc0_si1161.wfm', '336-mklr0_si2319.wfm', '318-mjrp0_si1835.wfm', '466-mthc0_si2275.wfm', '350-mmam0_si1668.wfm', '454-msms0_si2063.wfm', '92-flma0_si1243.wfm', '6-fbcg1_si2242.wfm', '361-mmdm2_si1555.wfm', '400-mrcz0_si2171.wfm', '143-fvfb0_si2292.wfm', '15-fceg0_si618.wfm', '2-faem0_si2022.wfm', '258-mgag0_si645.wfm', '134-fspm0_si611.wfm', '234-mdtb0_si1830.wfm', '104-fmjf0_si1884.wfm', '201-mdas0_si1266.wfm', '223-mdpk0_si552.wfm', '462-mtcs0_si1972.wfm', '196-mctw0_si743.wfm', '415-mrjh0_si914.wfm', '75-fkfb0_si2238.wfm', '306-mjmd0_si1658.wfm', '407-mrew1_si1500.wfm', '259-mgak0_si2296.wfm', '236-mdwa0_si1445.wfm', '95-flod0_si1917.wfm', '391-mprt0_si495.wfm', '82-flas0_si1026.wfm', '204-mddc0_si2049.wfm', '410-mrfk0_si2336.wfm', '210-mdlc0_si765.wfm', '115-fpaz0_si1593.wfm', '253-mfxs0_si1674.wfm', '144-fvkb0_si1159.wfm', '427-mrml0_si2051.wfm', '270-mhit0_si2243.wfm', '63-fjlg0_si2306.wfm', '359-mmdm1_si1650.wfm', '79-flac0_si2161.wfm', '271-mhmr0_si1119.wfm', '18-fcjs0_si1607.wfm', '84-fleh0_si1681.wfm', '480-mtwh0_si1629.wfm', '246-mesj0_si2257.wfm', '354-mmdb0_si1617.wfm', '495-mwre0_si1687.wfm', '83-flbw0_si2253.wfm', '231-mdss0_si621.wfm', '467-mtjg0_si2157.wfm', '276-mjae0_si2154.wfm', '116-fpkt0_si2168.wfm', '305-mjmd0_si1028.wfm', '330-mkcl0_si1721.wfm', '453-msmr0_si775.wfm', '414-mrgs0_si1986.wfm', '209-mdks0_si1696.wfm', '296-mjhi0_si555.wfm', '303-mjln0_si2079.wfm', '198-mdab0_si1669.wfm', '483-mvlo0_si1777.wfm', '468-mtjs0_si1192.wfm', '108-fnkl0_si1522.wfm', '185-mcdd0_si1513.wfm', '423-mrjt0_si1805.wfm', '7-fbjl0_si2182.wfm', '184-mcdc0_si1922.wfm', '332-mkdt0_si2153.wfm', '307-mjmm0_si1885.wfm', '237-mdwd0_si557.wfm', '28-fcrh0_si1718.wfm', '382-mpam1_si1029.wfm', '254-mfxs0_si2225.wfm', '229-mdsj0_si2092.wfm', '251-mfwk0_si1249.wfm', '471-mtls0_si740.wfm', '56-fisb0_si2209.wfm', '488-mwch0_si1895.wfm', '492-mwew0_si1361.wfm', '249-mfer0_si2122.wfm', '489-mwdk0_si2017.wfm', '322-mjvw0_si1758.wfm', '331-mkdb0_si588.wfm', '416-mrjm0_si1095.wfm', '317-mjrk0_si2103.wfm', '102-fmcm0_si1810.wfm', '233-mdtb0_si1200.wfm', '216-mdlm0_si1864.wfm', '386-mpfu0_si628.wfm', '363-mmds0_si713.wfm', '77-fklc1_si1678.wfm', '338-mkls1_si2175.wfm', '211-mdlc1_si2144.wfm', '437-mrvg0_si510.wfm', '167-mbjk0_si545.wfm', '260-mgar0_si1694.wfm', '64-fjlr0_si1861.wfm', '438-mrwa0_si1603.wfm', '264-mgjf0_si776.wfm', '34-fdhc0_si2189.wfm', '68-fjrp1_si802.wfm', '426-mrlj1_si2332.wfm', '180-mbwp0_si1531.wfm', '333-mkjl0_si470.wfm', '457-mtaa0_si596.wfm', '141-ftmg0_si1532.wfm', '99-fmah1_si2139.wfm', '429-mroa0_si677.wfm', '470-mtlb0_si1764.wfm', '166-mbef0_si1911.wfm', '389-mprb0_si1205.wfm', '177-mbsb0_si1983.wfm', '235-mdvc0_si2174.wfm', '406-mres0_si1847.wfm', '54-fgrw0_si1990.wfm', '481-mtwh1_si2142.wfm', '199-mdac0_si1837.wfm', '441-msah1_si1049.wfm', '272-mhpg0_si1720.wfm', '80-flac0_si901.wfm', '357-mmdm0_si1941.wfm', '58-fjcs0_si1833.wfm', '250-mfrm0_si1717.wfm', '460-mtas0_si755.wfm', '172-mbml0_si1169.wfm', '418-mrjm4_si1489.wfm', '496-mwre0_si2317.wfm', '325-mjxa0_si877.wfm', '227-mdrm0_si2273.wfm', '170-mbma0_si592.wfm', '290-mjdm0_si974.wfm', '86-flja0_si1708.wfm', '417-mrjm3_si1809.wfm', '137-fssb0_si2342.wfm', '380-mnjm0_si2210.wfm', '242-megj0_si1967.wfm', '230-mdss0_si1881.wfm', '5-fbcg1_si1612.wfm', '139-ftaj0_si474.wfm', '222-mdpk0_si1683.wfm', '239-mdwk0_si910.wfm', '497-mwrp0_si1525.wfm', '70-fjsj0_si854.wfm', '169-mbma0_si1852.wfm', '243-mejl0_si1592.wfm', '293-mjfc0_si1033.wfm', '55-fhlm0_si1560.wfm', '50-fgcs0_si856.wfm', '38-fdms0_si1218.wfm', '446-msdh0_si2113.wfm', '100-fmbg0_si1790.wfm', '430-mrpc0_si933.wfm', '432-mrpp0_si1814.wfm', '65-fjrb0_si672.wfm', '436-mrvg0_si1770.wfm', '221-mdmt0_si2341.wfm', '448-msfv0_si1262.wfm', '107-fmld0_si925.wfm', '459-mtas0_si2015.wfm', '114-fpas0_si944.wfm', '313-mjrf0_si1114.wfm', '371-mmlm0_si897.wfm', '245-mesg0_si1962.wfm', '48-feme0_si2135.wfm', '30-fdas1_si2091.wfm', '218-mdls0_si998.wfm', '435-mrtk0_si1723.wfm', '1-fadg0_si1279.wfm', '449-msjs1_si1899.wfm', '424-mrld0_si2224.wfm', '353-mmcc0_si1968.wfm', '397-mrav0_si1008.wfm', '152-mafm0_si2199.wfm', '368-mmgk0_si1952.wfm', '486-mwad0_si2322.wfm', '422-mrjs0_si2074.wfm', '452-msmc0_si1907.wfm', '473-mtpp0_si2138.wfm', '375-mmwh0_si1089.wfm', '121-frew0_si1910.wfm', '182-mcal0_si508.wfm', '281-mjbr0_si2261.wfm', '364-mmea0_si2018.wfm', '85-flhd0_si1827.wfm', '60-fjkl0_si1562.wfm', '12-fcaj0_si1479.wfm', '212-mdlc2_si2244.wfm', '372-mmpm0_si2321.wfm', '49-fetb0_si1148.wfm', '344-mlel0_si1876.wfm', '220-mdmt0_si1832.wfm', '478-mtrc0_si993.wfm', '200-mdac2_si999.wfm', '57-fjas0_si2030.wfm', '190-mcrc0_si1092.wfm', '123-frll0_si1514.wfm', '140-ftbw0_si1345.wfm', '197-mcxm0_si721.wfm', '277-mjar0_si1988.wfm', '320-mjsw0_si2270.wfm', '385-mpfu0_si1888.wfm', '248-mewm0_si1978.wfm', '69-fjsj0_si2114.wfm', '327-mkag0_si2239.wfm', '434-mrtj0_si2032.wfm', '127-fsdc0_si2234.wfm', '378-mmws1_si2331.wfm', '74-fkde0_si2221.wfm', '439-mrws0_si1732.wfm', '288-mjdh0_si724.wfm', '451-mslb0_si1193.wfm', '11-fcag0_si1641.wfm', '294-mjfc0_si1663.wfm', '450-msjs1_si639.wfm', '181-mcal0_si1768.wfm', '45-fear0_si1882.wfm', '268-mgrt0_si2080.wfm', '188-mclk0_si1660.wfm', '343-mlbc0_si1869.wfm', '192-mcth0_si1839.wfm', '300-mjjj0_si1793.wfm', '25-fcmm0_si453.wfm', '339-mklt0_si1213.wfm', '335-mklr0_si1689.wfm', '66-fjre0_si1116.wfm', '487-mwar0_si2305.wfm', '94-flmk0_si2295.wfm', '9-fbmj0_si815.wfm', '96-fltm0_si1070.wfm', '347-mlns0_si1407.wfm', '463-mtdb0_si2031.wfm', '298-mjjb0_si1769.wfm', '413-mrgg0_si569.wfm', '113-fpad0_si1976.wfm', '265-mglb0_si2164.wfm', '89-fljd0_si886.wfm', '43-fdxw0_si2141.wfm', '76-fklc0_si2245.wfm', '287-mjdh0_si1984.wfm', '328-mkch0_si1425.wfm', '499-mzmb0_si1796.wfm', '136-fsrh0_si1931.wfm', '383-mpar0_si946.wfm', '228-mdsc0_si2298.wfm', '98-fmah0_si1289.wfm', '409-mrfk0_si1706.wfm', '81-flag0_si2094.wfm', '178-mbth0_si757.wfm', '103-fmjf0_si1254.wfm', '120-frew0_si1030.wfm', '124-fsah0_si1874.wfm', '13-fcaj0_si1804.wfm', '138-ftaj0_si1329.wfm', '142-ftmg0_si2162.wfm', '145-fvkb0_si1789.wfm', '148-mabw0_si2294.wfm', '151-maeo0_si1956.wfm', '153-majc0_si2095.wfm', '16-fcft0_si1808.wfm', '164-mbcg0_si486.wfm', '174-mbom0_si1644.wfm', '183-mccs0_si2099.wfm', '186-mcem0_si1398.wfm', '187-mchh0_si1634.wfm', '189-mcmb0_si1898.wfm', '193-mctm0_si720.wfm', '195-mctw0_si2003.wfm', '206-mdhs0_si1530.wfm', '240-meal0_si2177.wfm', '263-mges0_si1481.wfm', '278-mjar0_si2247.wfm', '292-mjeb0_si656.wfm', '308-mjmm0_si625.wfm', '315-mjrh0_si1125.wfm', '340-mklt0_si583.wfm', '345-mljc0_si1855.wfm', '360-mmdm1_si2043.wfm', '362-mmds0_si1973.wfm', '373-mmrp0_si2034.wfm', '387-mpgh0_si924.wfm', '394-mrab0_si1224.wfm', '396-mram0_si1905.wfm', '4-fawf0_si1000.wfm', '401-mrdm0_si1595.wfm', '402-mrds0_si1167.wfm', '404-mreh1_si2229.wfm', '41-fdrw0_si1423.wfm', '412-mrgg0_si1199.wfm', '440-mrxb0_si1585.wfm', '484-mvrw0_si2115.wfm', '491-mwem0_si1950.wfm', '53-fgmd0_si2107.wfm', '72-fjsp0_si804.wfm', '73-fjwb1_si2055.wfm'])"
      ]
     },
     "execution_count": 6,
     "metadata": {},
     "output_type": "execute_result"
    }
   ],
   "source": [
    "layer_ids = list(features.keys())\n",
    "features[layer_ids[0]].keys()"
   ]
  },
  {
   "cell_type": "code",
   "execution_count": 7,
   "id": "94e30022",
   "metadata": {},
   "outputs": [
    {
     "data": {
      "text/plain": [
       "(33, 384)"
      ]
     },
     "execution_count": 7,
     "metadata": {},
     "output_type": "execute_result"
    }
   ],
   "source": [
    "layer_ids = list(features.keys())\n",
    "stim_ids = list(features[layer_ids[0]].keys())\n",
    "features[layer_ids[0]][stim_ids[0]].shape    #(time, feature_dim)"
   ]
  }
 ],
 "metadata": {
  "kernelspec": {
   "display_name": "Python 3",
   "language": "python",
   "name": "python3"
  },
  "language_info": {
   "codemirror_mode": {
    "name": "ipython",
    "version": 3
   },
   "file_extension": ".py",
   "mimetype": "text/x-python",
   "name": "python",
   "nbconvert_exporter": "python",
   "pygments_lexer": "ipython3",
   "version": "3.8.5"
  }
 },
 "nbformat": 4,
 "nbformat_minor": 5
}
