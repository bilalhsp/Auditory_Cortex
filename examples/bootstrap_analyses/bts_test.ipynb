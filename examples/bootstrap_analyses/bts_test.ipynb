{
 "cells": [
  {
   "cell_type": "markdown",
   "metadata": {},
   "source": [
    "# # Bootstrap analysis for testing with num_repeats\n",
    "\n",
    "\n",
    "```\n",
    "./bootstrap_test.sh \"-m whisper_base -l 2 -d ucdavis -b 50 -i itr\"\n",
    "```"
   ]
  },
  {
   "cell_type": "markdown",
   "metadata": {},
   "source": [
    "# Bootstrap analysis for testing with num_repeats\n",
    "This notebook is to guide through the process of doing bootstrap analysis for the number of trial repeats used at test time to compute the correlations.\n",
    "\n",
    "Here is step by step process;\n",
    "\n",
    "**1. Using different number of trial repeats test the model** \\\n",
    "This repository provides functionality to fit TRF (temporal receptive field) model from features representations -- DNN features of STRF -- to neural data. I have also provided script using the pipeline for the bootstrap analysis.  \n",
    "`/scripts/bootstrap_fit.py`: provides functionaltiy to do the bootstrap analysis for both training data and number of trials for testing. This provides quite generic implementation and flags are specified at job submission time to get the desired functionality.  \n",
    "`/Gilbreth_job_submission/bootstrap_fit.sh`: This job submission scripts request resources (GPU, memory etc.) from slurm and the runs the script mentioned above.  \n",
    "`/Gilbreth_job_submission/bootstrap_test.sh`: This .sh script takes in the command line arguments and adds specific options like number of trials in a loop and submits the above scripts. This basically uses *bootstrap_fit.sh* and it meant to make job submissions easier. Here is an example command to submit scripts for test bootstrap for one iteration. \n",
    "```\n",
    "./bootstrap_test.sh \"-m whisper_base -l 2 -d ucdavis -b 50 -i itr\"\n",
    "```\n",
    "This will submit 3 jobs and results will be saved with identifiers; \n",
    "- $[ucdavis]\\_timit\\_trf\\_lags300\\_bw50\\_boot_test_\\_[itr]\\_1$\n",
    "- $[ucdavis]\\_timit\\_trf\\_lags300\\_bw50\\_boot_test_\\_[itr]\\_2$\n",
    "- $[ucdavis]\\_timit\\_trf\\_lags300\\_bw50\\_boot_test_\\_[itr]\\_3$\n",
    "\n",
    "Modify the *bootstrap_test.sh* script in case this needs to be done for number of repeats greater than 3.\n",
    "\n",
    "In order to do, say, 80 samples of bootstrap, run this command with itr from 1 to 80. This will \n",
    "\n",
    "**2. Make sure the normalizer are computed and saved** \\\n",
    "Make sure the normalizers are computed and saved to the memory for all the sessions (or at least the ones that are included in the bootstrap analysis). Sessions to be included in the bootsrap analysis can be specified within the script `bootstrap_fit.py`. In case there are large number of sessions being analysed, running this code as a batch script would be a better option. Nevertheless the code is a couple of lines of code as given below."
   ]
  },
  {
   "cell_type": "code",
   "execution_count": 1,
   "metadata": {},
   "outputs": [],
   "source": [
    "from auditory_cortex.neural_data.normalizer_calculator import NormalizerCalculator\n",
    "bin_width = 50\n",
    "mVocs = True\n",
    "session_ids = [0,1,2]\n",
    "for sess_id in session_ids:\n",
    "    normalizer = NormalizerCalculator('ucdavis', sess_id)\n",
    "\n",
    "    dist = normalizer.get_normalizer_for_session_random_pairs(\n",
    "        bin_width=bin_width, mVocs=mVocs\n",
    "    )"
   ]
  },
  {
   "cell_type": "markdown",
   "metadata": {},
   "source": [
    "**3. Make sure the null distributions are computed** \\\n",
    "Make sure the null distribution is computed and saved to the memory. Normally null distribution using random poisson sequences is used so one null distributions is computed for the entire stimulus set. It actually depends on the length of the long sequences (i.e. duration of repeated stimuli)."
   ]
  },
  {
   "cell_type": "code",
   "execution_count": null,
   "metadata": {},
   "outputs": [],
   "source": [
    "from auditory_cortex.neural_data.normalizer_calculator import NormalizerCalculator\n",
    "# any session id will work, as the stimuli are the same for all sessions in a dataset\n",
    "sess_id = 0\t\n",
    "bin_width = 50\n",
    "mVocs = True\n",
    "num_itr=100000\n",
    "normalizer = NormalizerCalculator('ucdavis', sess_id)\n",
    "null_dist_ucdavis = normalizer.get_normalizer_null_dist_using_poisson(\n",
    "    bin_width=bin_width, num_itr=num_itr, mVocs=mVocs)"
   ]
  },
  {
   "cell_type": "markdown",
   "metadata": {},
   "source": [
    "**4. Combining results, adding normalizers to all the results saved in the first step** \\\n",
    "After we have saved all the results of the first step, and computed normalizer as well as null distribution, we can start analyzing the results of bootsrap analysis. The first step is to combine the results for number of trials used for testing, for each iteration, so that we have only one file for one iteration. **In every saved results, N_sents corresponds to the number of trials used for testing. N_sents means other things for e.g. bootstrap_training analysis.** Next we incorporate the normalizer into the saved results. For 80 iterations of bootsrap, we will have 80*3=240 files saved to the memory. After combining they would reduce to 80 and we'll then update the normalizer for each of these files in a loop. So I have written the helper functions to help with that. For now, I am defining them within this notebook, I might move them to a separate helper class."
   ]
  },
  {
   "cell_type": "code",
   "execution_count": 1,
   "metadata": {},
   "outputs": [],
   "source": [
    "import logging\n",
    "from auditory_cortex.utils import set_up_logging\n",
    "set_up_logging()\n",
    "\n",
    "import numpy as np\n",
    "from auditory_cortex.io_utils import ResultsManager\n",
    "from auditory_cortex.analyses.correlations_analyzer import Correlations\n",
    "\n",
    "def check_bootstrap_results(\n",
    "    model_names, identifier, num_sessions, bin_width=50,\n",
    "    verbose=False, n_test_trials_list=None, percent_durations=None\n",
    "    ):\n",
    "    \"\"\"Check if the bootstrap results are done for all sessions\n",
    "    \"\"\"\n",
    "    models_not_done = []\n",
    "    if n_test_trials_list is None:\n",
    "        n_test_trials_list = [1, 2, 3]\n",
    "    if percent_durations is None:\n",
    "        percent_durations = [20, 40, 60, 80, 100]\n",
    "    for model_name in model_names:\n",
    "        for n_test_trials in n_test_trials_list:\n",
    "            for dur in percent_durations:\n",
    "                not_done = ResultsManager.check_results(\n",
    "                    model_name, f'{identifier}_tr_{n_test_trials}_dur_{dur}',\n",
    "                    verbose=verbose, num_sessions=num_sessions\n",
    "                )\n",
    "                models_not_done.extend(not_done)\n",
    "\n",
    "    # remove None entries..\n",
    "    while None in models_not_done:\n",
    "        models_not_done.remove(None)\n",
    "    \n",
    "    if len(models_not_done) ==0:\n",
    "        logging.info(f\"All models done..for {identifier}\")\n",
    "    else:\n",
    "        logging.info(f\"Models with incomplete resutls:\")\n",
    "        for iden in models_not_done:\n",
    "            logging.info(iden)\n",
    "\n",
    "def combine_bootstrap_results(\n",
    "    model_names, identifier, n_test_trials_list=None, percent_durations=None\n",
    "    ):\n",
    "    \"\"\"Combines results for the list of models provided\"\"\"\n",
    "\n",
    "    if n_test_trials_list is None:\n",
    "        n_test_trials_list = [1, 2, 3]\n",
    "    if percent_durations is None:\n",
    "        percent_durations = [20, 40, 60, 80, 100]\n",
    "    for model_name in model_names:\n",
    "        # ids = [f'{identifier}_{N}' for N in N_sents]\n",
    "        ids = [\n",
    "            f'{identifier}_tr_{n_test_trials}_dur_{dur}'\n",
    "            for n_test_trials in n_test_trials_list\n",
    "            for dur in percent_durations\n",
    "        ]\n",
    "        ResultsManager.merge_correlation_results(\n",
    "            model_name,\n",
    "            ids, \n",
    "            output_identifier=identifier\n",
    "        )"
   ]
  },
  {
   "cell_type": "code",
   "execution_count": null,
   "metadata": {},
   "outputs": [],
   "source": [
    "model_names = [\n",
    "    'whisper_base',\n",
    "]\n",
    "dataset_name = 'ucdavis'\n",
    "mVocs = False\n",
    "bin_width = 50\n",
    "num_sessions = 9\n",
    "identifier = 'exp_design'\n",
    "stim = 'mVocs' if mVocs else 'timit'\n",
    "results_identifier = ResultsManager.get_run_id(\n",
    "            dataset_name, bin_width, identifier, mVocs=mVocs, shuffled=False, lag=200,\n",
    "            bootstrap=True, test_bootstrap=True\n",
    "        )\n",
    "identifiers = [f\"{results_identifier}_{i}\" for i in range(1, 51)]\n",
    "n_test_trials_list = np.arange(1, 13)\n",
    "percent_durations = [20, 40, 60, 80, 100]"
   ]
  },
  {
   "cell_type": "code",
   "execution_count": null,
   "metadata": {},
   "outputs": [],
   "source": [
    "verbose = False\n",
    "for identifier in identifiers:\n",
    "    check_bootstrap_results(\n",
    "        model_names, identifier, num_sessions, bin_width=bin_width, verbose=verbose,\n",
    "        n_test_trials_list=n_test_trials_list, percent_durations=percent_durations\n",
    "        )"
   ]
  },
  {
   "cell_type": "markdown",
   "metadata": {},
   "source": [
    "Combining all files of one iteration into 1. Within that file, **n_test_trials** specifies number of trial repeats used for testing and **percent_duration** specifies the duration of test data used to evaluate."
   ]
  },
  {
   "cell_type": "code",
   "execution_count": null,
   "metadata": {},
   "outputs": [],
   "source": [
    "for identifier in identifiers:\n",
    "    combine_bootstrap_results(\n",
    "        model_names, identifier, n_test_trials_list, percent_durations\n",
    "        )"
   ]
  },
  {
   "cell_type": "markdown",
   "metadata": {},
   "source": [
    "Adding the normalizer to each file."
   ]
  },
  {
   "cell_type": "code",
   "execution_count": null,
   "metadata": {},
   "outputs": [],
   "source": [
    "dataset_name = 'ucdavis'\n",
    "mVocs = False\n",
    "bin_width = 50\n",
    "num_sessions = 9\n",
    "identifier = 'exp_design'\n",
    "stim = 'mVocs' if mVocs else 'timit'\n",
    "results_identifier = ResultsManager.get_run_id(\n",
    "            dataset_name, bin_width, identifier, mVocs=mVocs, shuffled=False, lag=200,\n",
    "            bootstrap=True, test_bootstrap=True\n",
    "        )\n",
    "identifiers = [f\"{results_identifier}_{i}\" for i in range(1, 51)]"
   ]
  },
  {
   "cell_type": "code",
   "execution_count": null,
   "metadata": {},
   "outputs": [],
   "source": [
    "model_name = 'whisper_base'\n",
    "for identifier in identifiers:\n",
    "    corr_obj = Correlations(model_name+'_'+identifier)\n",
    "    corr_obj.set_normalizers_using_bootsrap(mVocs=mVocs)\n",
    "    print(f\"Done for identifier: {identifier}\")"
   ]
  },
  {
   "cell_type": "markdown",
   "metadata": {},
   "source": [
    "**5. Computing medians of distributions and saving to disk**"
   ]
  },
  {
   "cell_type": "code",
   "execution_count": 19,
   "metadata": {},
   "outputs": [],
   "source": [
    "from auditory_cortex.analyses.correlations_analyzer import Correlations\n",
    "from auditory_cortex.io_utils import io\n",
    "def get_medians_for_single_itr(corr_obj, bin_width=50, mVocs=False):\n",
    "    \"\"\"Get median of corr distribution for each N_sents, for a single iteration\n",
    "    \"\"\"\n",
    "    threshold = corr_obj.get_normalizer_threshold(bin_width=bin_width, mVocs=mVocs)\n",
    "    select_data = corr_obj.get_selected_data(threshold=threshold, bin_width=bin_width, mVocs=mVocs)\n",
    "    if mVocs:\n",
    "        column = 'mVocs_normalized_test_cc'\n",
    "    else:\n",
    "        column = 'normalized_test_cc'\n",
    "    medians = {}\n",
    "    N_sents = select_data['N_sents'].unique()\n",
    "    for N in N_sents:\n",
    "        medians[N] = select_data[select_data['N_sents'] == N][column].median()\n",
    "    return medians\n",
    "\n",
    "def get_median_dist_for_all_itr(identifiers, model_name, bin_width=50, mVocs=False):\n",
    "\n",
    "    median_dists = {}\n",
    "    for identifier in identifiers:\n",
    "        corr_obj = Correlations(model_name+'_'+identifier)\n",
    "        medians = get_medians_for_single_itr(corr_obj, bin_width=bin_width, mVocs=mVocs)\n",
    "        for N, median in medians.items():\n",
    "            if N not in median_dists:\n",
    "                median_dists[N] = []\n",
    "            median_dists[N].append(median)\n",
    "\n",
    "    return median_dists\n",
    "\n",
    "def get_bootstrap_medians(\n",
    "    identifiers, model_name, dataset_name='ucsf', force_redo=False, test=False, mVocs=False\n",
    "    ):\n",
    "    if not force_redo:\n",
    "        median_dist = io.read_bootstrap_median_dist(\n",
    "            model_name, bin_width=50, mVocs=mVocs, verbose=True, test=test,\n",
    "            dataset_name=dataset_name\n",
    "            )\n",
    "        if median_dist is not None:\n",
    "            return median_dist\n",
    "    median_dist = get_median_dist_for_all_itr(identifiers, model_name=model_name, bin_width=50, mVocs=mVocs)\n",
    "    io.write_bootstrap_median_dist(\n",
    "        median_dist, model_name, bin_width=50, mVocs=mVocs, test=test,\n",
    "        dataset_name=dataset_name\n",
    "        )\n",
    "    return median_dist"
   ]
  },
  {
   "cell_type": "code",
   "execution_count": 20,
   "metadata": {},
   "outputs": [
    {
     "name": "stdout",
     "output_type": "stream",
     "text": [
      "Applying threshold: 0.032 on column: 'normalizer'...\n",
      "Applying threshold: 0.032 on column: 'normalizer'...\n",
      "Applying threshold: 0.032 on column: 'normalizer'...\n",
      "Applying threshold: 0.032 on column: 'normalizer'...\n",
      "Applying threshold: 0.032 on column: 'normalizer'...\n",
      "Applying threshold: 0.032 on column: 'normalizer'...\n",
      "Applying threshold: 0.032 on column: 'normalizer'...\n",
      "Applying threshold: 0.032 on column: 'normalizer'...\n",
      "Applying threshold: 0.032 on column: 'normalizer'...\n",
      "Applying threshold: 0.032 on column: 'normalizer'...\n",
      "Applying threshold: 0.032 on column: 'normalizer'...\n",
      "Applying threshold: 0.032 on column: 'normalizer'...\n",
      "Applying threshold: 0.032 on column: 'normalizer'...\n",
      "Applying threshold: 0.032 on column: 'normalizer'...\n",
      "Applying threshold: 0.032 on column: 'normalizer'...\n",
      "Applying threshold: 0.032 on column: 'normalizer'...\n",
      "Applying threshold: 0.032 on column: 'normalizer'...\n",
      "Applying threshold: 0.032 on column: 'normalizer'...\n",
      "Applying threshold: 0.032 on column: 'normalizer'...\n",
      "Applying threshold: 0.032 on column: 'normalizer'...\n",
      "Applying threshold: 0.032 on column: 'normalizer'...\n",
      "Applying threshold: 0.032 on column: 'normalizer'...\n",
      "Applying threshold: 0.032 on column: 'normalizer'...\n",
      "Applying threshold: 0.032 on column: 'normalizer'...\n",
      "Applying threshold: 0.032 on column: 'normalizer'...\n",
      "Applying threshold: 0.032 on column: 'normalizer'...\n",
      "Applying threshold: 0.032 on column: 'normalizer'...\n",
      "Applying threshold: 0.032 on column: 'normalizer'...\n",
      "Applying threshold: 0.032 on column: 'normalizer'...\n",
      "Applying threshold: 0.032 on column: 'normalizer'...\n",
      "Applying threshold: 0.032 on column: 'normalizer'...\n",
      "Applying threshold: 0.032 on column: 'normalizer'...\n",
      "Applying threshold: 0.032 on column: 'normalizer'...\n",
      "Applying threshold: 0.032 on column: 'normalizer'...\n",
      "Applying threshold: 0.032 on column: 'normalizer'...\n",
      "Applying threshold: 0.032 on column: 'normalizer'...\n",
      "Applying threshold: 0.032 on column: 'normalizer'...\n",
      "Applying threshold: 0.032 on column: 'normalizer'...\n",
      "Applying threshold: 0.032 on column: 'normalizer'...\n",
      "Applying threshold: 0.032 on column: 'normalizer'...\n",
      "Applying threshold: 0.032 on column: 'normalizer'...\n",
      "Applying threshold: 0.032 on column: 'normalizer'...\n",
      "Applying threshold: 0.032 on column: 'normalizer'...\n",
      "Applying threshold: 0.032 on column: 'normalizer'...\n",
      "Applying threshold: 0.032 on column: 'normalizer'...\n",
      "Applying threshold: 0.032 on column: 'normalizer'...\n",
      "Applying threshold: 0.032 on column: 'normalizer'...\n",
      "Applying threshold: 0.032 on column: 'normalizer'...\n",
      "Applying threshold: 0.032 on column: 'normalizer'...\n",
      "Applying threshold: 0.032 on column: 'normalizer'...\n",
      "Applying threshold: 0.032 on column: 'normalizer'...\n",
      "Applying threshold: 0.032 on column: 'normalizer'...\n",
      "Applying threshold: 0.032 on column: 'normalizer'...\n",
      "Applying threshold: 0.032 on column: 'normalizer'...\n",
      "Applying threshold: 0.032 on column: 'normalizer'...\n",
      "Applying threshold: 0.032 on column: 'normalizer'...\n",
      "Applying threshold: 0.032 on column: 'normalizer'...\n",
      "Applying threshold: 0.032 on column: 'normalizer'...\n",
      "Applying threshold: 0.032 on column: 'normalizer'...\n",
      "Applying threshold: 0.032 on column: 'normalizer'...\n",
      "Applying threshold: 0.032 on column: 'normalizer'...\n",
      "Applying threshold: 0.032 on column: 'normalizer'...\n",
      "Applying threshold: 0.032 on column: 'normalizer'...\n",
      "Applying threshold: 0.032 on column: 'normalizer'...\n",
      "Applying threshold: 0.032 on column: 'normalizer'...\n",
      "Applying threshold: 0.032 on column: 'normalizer'...\n",
      "Applying threshold: 0.032 on column: 'normalizer'...\n",
      "Applying threshold: 0.032 on column: 'normalizer'...\n",
      "Applying threshold: 0.032 on column: 'normalizer'...\n",
      "Applying threshold: 0.032 on column: 'normalizer'...\n",
      "Applying threshold: 0.032 on column: 'normalizer'...\n",
      "Applying threshold: 0.032 on column: 'normalizer'...\n",
      "Applying threshold: 0.032 on column: 'normalizer'...\n",
      "Applying threshold: 0.032 on column: 'normalizer'...\n",
      "Applying threshold: 0.032 on column: 'normalizer'...\n",
      "Applying threshold: 0.032 on column: 'normalizer'...\n",
      "Applying threshold: 0.032 on column: 'normalizer'...\n",
      "Applying threshold: 0.032 on column: 'normalizer'...\n",
      "Applying threshold: 0.032 on column: 'normalizer'...\n",
      "Applying threshold: 0.032 on column: 'normalizer'...\n"
     ]
    }
   ],
   "source": [
    "model_name = 'whisper_base'\n",
    "dataset_name='ucdavis'\n",
    "mVocs = False\n",
    "test=True\n",
    "dist = get_bootstrap_medians(identifiers, model_name, dataset_name=dataset_name, test=test, mVocs=mVocs,\n",
    "    force_redo=True)"
   ]
  },
  {
   "cell_type": "markdown",
   "metadata": {},
   "source": [
    "**6. Plotting...**\n",
    "- timit"
   ]
  },
  {
   "cell_type": "code",
   "execution_count": 21,
   "metadata": {},
   "outputs": [
    {
     "data": {
      "text/plain": [
       "Text(0.5, 1.0, \"Bootstrap: test trials for 'ucdavis' and 'timit'\")"
      ]
     },
     "execution_count": 21,
     "metadata": {},
     "output_type": "execute_result"
    },
    {
     "data": {
      "image/png": "[encoded data removed]",
      "text/plain": [
       "<Figure size 432x288 with 1 Axes>"
      ]
     },
     "metadata": {
      "needs_background": "light"
     },
     "output_type": "display_data"
    }
   ],
   "source": [
    "import numpy as np\n",
    "import matplotlib.pyplot as plt\n",
    "\n",
    "model_name = 'whisper_base'\n",
    "dataset_name = 'ucdavis'\n",
    "mVocs=False\n",
    "test=True\n",
    "bin_width = 50\n",
    "if mVocs:\n",
    "    stim = 'mVocs'\n",
    "else:\n",
    "    stim = 'timit'\n",
    "\n",
    "identifiers = [f'{dataset_name}_{stim}_trf_lags300_bw{bin_width}_boot_test_{i}' for i in range(1, 81)]\n",
    "median_dists = get_bootstrap_medians(\n",
    "    identifiers, model_name, dataset_name=dataset_name, test=test, mVocs=mVocs)\n",
    "proportion_of_data = list(median_dists.keys())\n",
    "means = [np.mean(median_dists[N]) for N in proportion_of_data]\n",
    "std_errors = [np.std(median_dists[N]) for N in proportion_of_data]\n",
    "\n",
    "std_errors = np.array(std_errors)\n",
    "plt.plot(proportion_of_data, means, label='Mean', color='tab:blue')\n",
    "\n",
    "# Plot the standard error as shaded region\n",
    "plt.fill_between(proportion_of_data, means - std_errors/2, means + std_errors/2, \n",
    "                 color='tab:blue', alpha=0.4, label='Standard Error')\n",
    "plt.xticks(proportion_of_data)\n",
    "plt.xlabel('Number of trials used to test (%)')\n",
    "plt.ylabel(\"mean of 'corr medians' and std. dev\")\n",
    "plt.title(f\"Bootstrap: test trials for '{dataset_name}' and '{stim}'\")"
   ]
  },
  {
   "cell_type": "markdown",
   "metadata": {},
   "source": [
    "- mVocs"
   ]
  },
  {
   "cell_type": "code",
   "execution_count": 14,
   "metadata": {},
   "outputs": [
    {
     "data": {
      "text/plain": [
       "Text(0.5, 1.0, \"Bootstrap: test trials for 'ucdavis' and 'mVocs'\")"
      ]
     },
     "execution_count": 14,
     "metadata": {},
     "output_type": "execute_result"
    },
    {
     "data": {
      "image/png": "[encoded data removed]",
      "text/plain": [
       "<Figure size 432x288 with 1 Axes>"
      ]
     },
     "metadata": {
      "needs_background": "light"
     },
     "output_type": "display_data"
    }
   ],
   "source": [
    "import numpy as np\n",
    "import matplotlib.pyplot as plt\n",
    "\n",
    "model_name = 'whisper_base'\n",
    "dataset_name = 'ucdavis'\n",
    "mVocs=True\n",
    "test=True\n",
    "bin_width = 50\n",
    "if mVocs:\n",
    "    stim = 'mVocs'\n",
    "else:\n",
    "    stim = 'timit'\n",
    "\n",
    "identifiers = [f'{dataset_name}_{stim}_trf_lags300_bw{bin_width}_boot_test_{i}' for i in range(1, 81)]\n",
    "median_dists = get_bootstrap_medians(\n",
    "    identifiers, model_name, dataset_name=dataset_name, test=test, mVocs=mVocs)\n",
    "proportion_of_data = list(median_dists.keys())\n",
    "means = [np.mean(median_dists[N]) for N in proportion_of_data]\n",
    "std_errors = [np.std(median_dists[N]) for N in proportion_of_data]\n",
    "\n",
    "std_errors = np.array(std_errors)\n",
    "plt.plot(proportion_of_data, means, label='Mean', color='tab:blue')\n",
    "\n",
    "# Plot the standard error as shaded region\n",
    "plt.fill_between(proportion_of_data, means - std_errors/2, means + std_errors/2, \n",
    "                 color='tab:blue', alpha=0.4, label='Standard Error')\n",
    "plt.xticks(proportion_of_data)\n",
    "plt.xlabel('Number of trials used to test (%)')\n",
    "plt.ylabel(\"mean of 'corr medians' and std. dev\")\n",
    "plt.title(f\"Bootstrap: test trials for '{dataset_name}' and '{stim}'\")"
   ]
  },
  {
   "cell_type": "code",
   "execution_count": null,
   "metadata": {},
   "outputs": [],
   "source": []
  }
 ],
 "metadata": {
  "kernelspec": {
   "display_name": "Python 3",
   "language": "python",
   "name": "python3"
  },
  "language_info": {
   "codemirror_mode": {
    "name": "ipython",
    "version": 3
   },
   "file_extension": ".py",
   "mimetype": "text/x-python",
   "name": "python",
   "nbconvert_exporter": "python",
   "pygments_lexer": "ipython3",
   "version": "3.8.5"
  }
 },
 "nbformat": 4,
 "nbformat_minor": 2
}
