{
 "cells": [
  {
   "cell_type": "code",
   "execution_count": 1,
   "metadata": {},
   "outputs": [
    {
     "name": "stderr",
     "output_type": "stream",
     "text": [
      "/bin/sh: line 1: sox: command not found\n",
      "SoX could not be found!\n",
      "\n",
      "    If you do not have SoX, proceed here:\n",
      "     - - - http://sox.sourceforge.net/ - - -\n",
      "\n",
      "    If you do (or think that you should) have SoX, double-check your\n",
      "    path variables.\n",
      "    \n",
      "/home/ahmedb/projects/Wav2Letter/deepspeech.pytorch/deepspeech_pytorch/loader/data_loader.py:17: UserWarning: torchaudio._backend.set_audio_backend has been deprecated. With dispatcher enabled, this function is no-op. You can remove the function call.\n",
      "  torchaudio.set_audio_backend(\"sox_io\")\n"
     ]
    },
    {
     "data": {
      "text/plain": [
       "['wav2letter_modified',\n",
       " 'wav2vec2',\n",
       " 'speech2text',\n",
       " 'whisper_tiny',\n",
       " 'whisper_base',\n",
       " 'deepspeech2',\n",
       " 'w2v2_audioset',\n",
       " 'cochresnet50',\n",
       " 'cochcnn9']"
      ]
     },
     "execution_count": 1,
     "metadata": {},
     "output_type": "execute_result"
    }
   ],
   "source": [
    "from auditory_cortex.dnn_feature_extractor import list_dnn_models\n",
    "list_dnn_models()"
   ]
  },
  {
   "cell_type": "code",
   "execution_count": 2,
   "metadata": {},
   "outputs": [
    {
     "name": "stderr",
     "output_type": "stream",
     "text": [
      "Lightning automatically upgraded your loaded checkpoint from v1.6.0 to v2.0.8. To apply the upgrade to your files permanently, run `python -m pytorch_lightning.utilities.upgrade_checkpoint --file ../../../../../../depot/jgmakin/data/auditory_cortex/results/pretrained_weights/wav2letter_modified/Wav2letter-epoch=024-val_loss=0.37.ckpt`\n"
     ]
    }
   ],
   "source": [
    "from auditory_cortex.dnn_feature_extractor import create_feature_extractor\n",
    "\n",
    "model_name = 'wav2letter_modified'\n",
    "shuffled = False\n",
    "feature_extractor = create_feature_extractor(model_name, shuffled=shuffled)"
   ]
  },
  {
   "cell_type": "code",
   "execution_count": 3,
   "metadata": {},
   "outputs": [
    {
     "name": "stdout",
     "output_type": "stream",
     "text": [
      "Help on method extract_features in module auditory_cortex.dnn_feature_extractor.base_feature_extractor:\n",
      "\n",
      "extract_features(stim_audios, sampling_rate, stim_durations=None, pad_time=None) method of auditory_cortex.dnn_feature_extractor.dnn_feature_extractors.Wav2LetterModified instance\n",
      "    Returns raw features for all layers of the DNN..!\n",
      "    \n",
      "    Args:\n",
      "        stim_audios (dict): dictionary of audio inputs for each sentence.\n",
      "            {stim_id: audio}\n",
      "        sampling_rate (int): sampling rate of the audio inputs.\n",
      "        stim_durations (dict): dictionary of sentence durations.\n",
      "            {stim_id: duration}\n",
      "        pad_time (float): amount of padding time in seconds.\n",
      "    \n",
      "    Returns:\n",
      "        dict of dict: read this as features[layer_id][stim_id]\n",
      "\n"
     ]
    }
   ],
   "source": [
    "help(feature_extractor.extract_features)"
   ]
  }
 ],
 "metadata": {
  "kernelspec": {
   "display_name": "Python 3",
   "language": "python",
   "name": "python3"
  },
  "language_info": {
   "codemirror_mode": {
    "name": "ipython",
    "version": 3
   },
   "file_extension": ".py",
   "mimetype": "text/x-python",
   "name": "python",
   "nbconvert_exporter": "python",
   "pygments_lexer": "ipython3",
   "version": "3.8.5"
  }
 },
 "nbformat": 4,
 "nbformat_minor": 2
}
