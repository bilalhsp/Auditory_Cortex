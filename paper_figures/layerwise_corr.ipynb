{
 "cells": [
  {
   "cell_type": "code",
   "execution_count": 1,
   "metadata": {},
   "outputs": [
    {
     "name": "stderr",
     "output_type": "stream",
     "text": [
      "/bin/sh: line 1: sox: command not found\n",
      "WARNING:sox:SoX could not be found!\n",
      "\n",
      "    If you do not have SoX, proceed here:\n",
      "     - - - http://sox.sourceforge.net/ - - -\n",
      "\n",
      "    If you do (or think that you should) have SoX, double-check your\n",
      "    path variables.\n",
      "    \n",
      "/home/ahmedb/projects/Wav2Letter/deepspeech.pytorch/deepspeech_pytorch/loader/data_loader.py:17: UserWarning: torchaudio._backend.set_audio_backend has been deprecated. With dispatcher enabled, this function is no-op. You can remove the function call.\n",
      "  torchaudio.set_audio_backend(\"sox_io\")\n"
     ]
    }
   ],
   "source": [
    "# adjsut the basic logging lovel of notebook\n",
    "import logging\n",
    "logging.basicConfig(level=logging.WARNING)\n",
    "from auditory_cortex.plotters import tikzplots\n",
    "from auditory_cortex.analyses import Correlations, STRFCorrelations\n",
    "from auditory_cortex.plotters.correlation_plotter import RegPlotter\n",
    "from auditory_cortex.plotters.plotter_utils import PlotterUtils\n",
    "\n",
    "import numpy as np\n",
    "import seaborn as sns\n",
    "from functools import reduce\n",
    "import scipy\n",
    "import os\n",
    "\n",
    "import matplotlib.pylab as plt\n",
    "import matplotlib as mpl\n",
    "%matplotlib inline\n"
   ]
  },
  {
   "cell_type": "markdown",
   "metadata": {},
   "source": [
    "### layerwise correlations"
   ]
  },
  {
   "cell_type": "code",
   "execution_count": 12,
   "metadata": {},
   "outputs": [
    {
     "name": "stdout",
     "output_type": "stream",
     "text": [
      "Plotting trained and shuffled distributions for deepspeech2\n",
      "Extracting column: normalized_test_cc\n",
      "Applying threshold: 0.072 on column: 'normalizer'...\n",
      "Number of channels returned: (258,)\n",
      "Extracting column: normalized_test_cc\n",
      "Applying threshold: 0.072 on column: 'normalizer'...\n",
      "Peak corr (median): 0.6484780021166769, occurs at x_coordinate: 2\n",
      "Peak corr (max): 0.9511698206379672, occurs at x_coordinate: 1\n",
      "Peak corr (median): 0.5601141372031923, occurs at x_coordinate: 0\n",
      "Peak corr (max): 0.9107809231102884, occurs at x_coordinate: 2\n",
      "p-value for 0: 1.2421585823288656e-15\n",
      "p-value for 1: 9.102089838681114e-29\n",
      "p-value for 2: 2.5295433463204678e-30\n",
      "p-value for 3: 2.9898282732320413e-33\n",
      "p-value for 4: 5.890014838369647e-17\n",
      "p-value for 5: 0.9997871213415861\n",
      "p-value for 6: 0.9918032629515148\n",
      "Applying threshold: 0.072 on column: 'normalizer'...\n",
      "model_name 'baseline' not recognizable!!!\n",
      "p-value for 0: 4.3329404342987945e-35\n",
      "p-value for 1: 1.7483323011204672e-43\n",
      "p-value for 2: 4.119074996481954e-42\n",
      "p-value for 3: 8.046742055214412e-33\n",
      "p-value for 4: 5.52720346189051e-14\n",
      "p-value for 5: 0.9999999999758076\n",
      "p-value for 6: 1.0\n",
      "Peak corr (median): 0.47488478780102816, occurs at x_coordinate: 0\n",
      "Peak corr (max): 0.786178797630192, occurs at x_coordinate: 0\n"
     ]
    },
    {
     "data": {
      "image/png": "[encoded data removed]",
      "text/plain": [
       "<Figure size 432x288 with 1 Axes>"
      ]
     },
     "metadata": {
      "needs_background": "light"
     },
     "output_type": "display_data"
    }
   ],
   "source": [
    "from auditory_cortex.plotters.tikzplots import plot_trained_vs_shuffled_network_results\n",
    "model_names = [\n",
    "\t# 'wav2letter_modified',\n",
    "\t# 'wav2vec2',\n",
    "\t# 'speech2text',\n",
    "\t# 'whisper_tiny',\n",
    "\t# 'whisper_base',\n",
    "\t'deepspeech2',\n",
    "    #\n",
    "\t# 'w2v2_generic'\n",
    "]\n",
    "threshold=None\n",
    "trained_identifier = 'timit_trf_lags300_bw50_naplib_matched'\n",
    "untrained_identifiers = [f'reset_{trained_identifier}']\n",
    "tikz_indicator = 'trf'\n",
    "baseline_identifier = f\"STRF_freqs80_mel_{trained_identifier}\"\n",
    "if 'mVocs' in trained_identifier:\n",
    "\tmVocs=True\n",
    "else:\n",
    "\tmVocs=False\n",
    "save_tikz = False\n",
    "normalized=True\n",
    "bin_width = 50\n",
    "plot_trained_vs_shuffled_network_results(\n",
    "\t\tmodel_names=model_names,\n",
    "\t\tnormalized=normalized,\n",
    "\t\tthreshold=threshold,\n",
    "\t\tuntrained_identifiers = untrained_identifiers,\n",
    "\t\ttrained_identifier = trained_identifier,\n",
    "\t\t# areas = ['core', 'belt', 'parabelt'],\n",
    "\t\tbaseline_identifier=baseline_identifier,\n",
    "\t\tindicate_significance=True,\n",
    "\t\tplot_difference=False,\n",
    "\t\tdisplay_dotted_lines=False,\n",
    "\t\tmVocs=mVocs,\n",
    "\t\tsave_tikz=save_tikz,\n",
    "\t\tarch_ind_lw=8,\n",
    "\t\tsig_ind_size=1,\n",
    "\t\ttikz_indicator=tikz_indicator,\n",
    "\t\tbin_width=bin_width,\n",
    "\t\tplot_baseline=True,\n",
    "\t\tuse_stat_inclusion=False,\n",
    ")\n",
    "model_name = model_names[0]\n",
    "plt.savefig(f\"layerwise_{model_name}.svg\", dpi=300, bbox_inches='tight')"
   ]
  },
  {
   "cell_type": "code",
   "execution_count": null,
   "metadata": {},
   "outputs": [],
   "source": [
    "from auditory_cortex.plotters.tikzplots import plot_trained_vs_shuffled_network_results\n",
    "model_names = [\n",
    "\t'wav2letter_modified',\n",
    "\t# 'wav2vec2',\n",
    "\t# 'speech2text',\n",
    "\t# 'whisper_tiny',\n",
    "\t# 'whisper_base',\n",
    "\t# 'deepspeech2',\n",
    "    #\n",
    "\t# 'w2v2_generic'\n",
    "]\n",
    "threshold=None\n",
    "trained_identifier = 'timit_trf_lags300_bw50_naplib_matched'\n",
    "untrained_identifiers = [f'reset_{trained_identifier}']\n",
    "tikz_indicator = 'trf'\n",
    "baseline_identifier = f\"STRF_freqs80_mel_{trained_identifier}\"\n",
    "if 'mVocs' in trained_identifier:\n",
    "\tmVocs=True\n",
    "else:\n",
    "\tmVocs=False\n",
    "save_tikz = False\n",
    "normalized=True\n",
    "bin_width = 50\n",
    "plot_trained_vs_shuffled_network_results(\n",
    "\t\tmodel_names=model_names,\n",
    "\t\tnormalized=normalized,\n",
    "\t\tthreshold=threshold,\n",
    "\t\tuntrained_identifiers = untrained_identifiers,\n",
    "\t\ttrained_identifier = trained_identifier,\n",
    "\t\t# areas = ['core', 'belt', 'parabelt'],\n",
    "\t\tbaseline_identifier=baseline_identifier,\n",
    "\t\tindicate_significance=True,\n",
    "\t\tplot_difference=False,\n",
    "\t\tdisplay_dotted_lines=False,\n",
    "\t\tmVocs=mVocs,\n",
    "\t\tsave_tikz=save_tikz,\n",
    "\t\tarch_ind_lw=8,\n",
    "\t\tsig_ind_size=1,\n",
    "\t\ttikz_indicator=tikz_indicator,\n",
    "\t\tbin_width=bin_width,\n",
    "\t\tplot_baseline=True,\n",
    "\t\tuse_stat_inclusion=False,\n",
    ")\n",
    "model_name = model_names[0]\n",
    "plt.savefig(f\"layerwise_{model_name}.svg\", dpi=300, bbox_inches='tight')"
   ]
  },
  {
   "cell_type": "markdown",
   "metadata": {},
   "source": [
    "### summary of peak correlations"
   ]
  },
  {
   "cell_type": "code",
   "execution_count": 3,
   "metadata": {},
   "outputs": [
    {
     "name": "stdout",
     "output_type": "stream",
     "text": [
      "Poisson Process: Null distribution for bin_width: 50, spike_rate: 50...\n",
      "Extracting column: normalized_test_cc\n",
      "Applying threshold: 0.072 on column: 'normalizer'...\n",
      "At bin_width: 50, layer with peak median is: 3\n",
      "Number of sig. neurons = 258\n",
      "Extracting column: normalized_test_cc\n",
      "Applying threshold: 0.072 on column: 'normalizer'...\n",
      "At bin_width: 50, layer with peak median is: 0\n",
      "Number of sig. neurons = 258\n",
      "Extracting column: normalized_test_cc\n",
      "Applying threshold: 0.072 on column: 'normalizer'...\n",
      "At bin_width: 50, layer with peak median is: 5\n",
      "Number of sig. neurons = 258\n",
      "Extracting column: normalized_test_cc\n",
      "Applying threshold: 0.072 on column: 'normalizer'...\n",
      "At bin_width: 50, layer with peak median is: 1\n",
      "Number of sig. neurons = 258\n",
      "Extracting column: normalized_test_cc\n",
      "Applying threshold: 0.072 on column: 'normalizer'...\n",
      "At bin_width: 50, layer with peak median is: 5\n",
      "Number of sig. neurons = 258\n",
      "Extracting column: normalized_test_cc\n",
      "Applying threshold: 0.072 on column: 'normalizer'...\n",
      "At bin_width: 50, layer with peak median is: 13\n",
      "Number of sig. neurons = 258\n",
      "Extracting column: normalized_test_cc\n",
      "Applying threshold: 0.072 on column: 'normalizer'...\n",
      "At bin_width: 50, layer with peak median is: 1\n",
      "Number of sig. neurons = 258\n",
      "Extracting column: normalized_test_cc\n",
      "Applying threshold: 0.072 on column: 'normalizer'...\n",
      "At bin_width: 50, layer with peak median is: 1\n",
      "Number of sig. neurons = 258\n",
      "Extracting column: normalized_test_cc\n",
      "Applying threshold: 0.072 on column: 'normalizer'...\n",
      "At bin_width: 50, layer with peak median is: 2\n",
      "Number of sig. neurons = 258\n",
      "Extracting column: normalized_test_cc\n",
      "Applying threshold: 0.072 on column: 'normalizer'...\n",
      "At bin_width: 50, layer with peak median is: 1\n",
      "Number of sig. neurons = 258\n",
      "Extracting column: normalized_test_cc\n",
      "Applying threshold: 0.072 on column: 'normalizer'...\n",
      "At bin_width: 50, layer with peak median is: 2\n",
      "Number of sig. neurons = 258\n",
      "Extracting column: normalized_test_cc\n",
      "Applying threshold: 0.072 on column: 'normalizer'...\n",
      "At bin_width: 50, layer with peak median is: 0\n",
      "Number of sig. neurons = 258\n",
      "Applying threshold: 0.072 on column: 'normalizer'...\n",
      "model_name 'STRF' not recognizable!!!\n",
      "result saved at: /depot/jgmakin/data/auditory_cortex/results/tikz_plots/correlations-summary-bar-timit-50ms-all-models.tex\n"
     ]
    },
    {
     "data": {
      "image/png": "[encoded data removed]",
      "text/plain": [
       "<Figure size 360x288 with 1 Axes>"
      ]
     },
     "metadata": {
      "needs_background": "light"
     },
     "output_type": "display_data"
    }
   ],
   "source": [
    "model_names = [\n",
    "\t'wav2letter_modified',\n",
    "\t'wav2vec2',\n",
    "\t'speech2text',\n",
    "\t'whisper_tiny',\n",
    "\t'whisper_base',\n",
    "\t'deepspeech2',\n",
    "\t]\n",
    "identifier = 'timit_trf_lags300_bw50_naplib_matched'\n",
    "mVocs=False\n",
    "bin_width = 50\n",
    "save_tikz = True\n",
    "tikzplots.plot_correlations_summary(\n",
    "\tmodel_names,\n",
    "\tidentifier,\n",
    "\tbin_width=bin_width,\n",
    "\tmVocs=mVocs,\n",
    "\twidth = 0.4,\n",
    "\talpha=0.4,\n",
    "\tsave_tikz=save_tikz\n",
    "\t)\n"
   ]
  },
  {
   "cell_type": "code",
   "execution_count": 2,
   "metadata": {},
   "outputs": [
    {
     "name": "stdout",
     "output_type": "stream",
     "text": [
      "Poisson Process: Null distribution for bin_width: 50, spike_rate: 50...\n",
      "Extracting column: mVocs_normalized_test_cc\n",
      "Applying threshold: 0.087 on column: 'mVocs_normalizer'...\n",
      "At bin_width: 50, layer with peak median is: 6\n",
      "Number of sig. neurons = 314\n",
      "Extracting column: mVocs_normalized_test_cc\n",
      "Applying threshold: 0.087 on column: 'mVocs_normalizer'...\n",
      "At bin_width: 50, layer with peak median is: 0\n",
      "Number of sig. neurons = 314\n",
      "Extracting column: mVocs_normalized_test_cc\n",
      "Applying threshold: 0.087 on column: 'mVocs_normalizer'...\n",
      "At bin_width: 50, layer with peak median is: 5\n",
      "Number of sig. neurons = 314\n",
      "Extracting column: mVocs_normalized_test_cc\n",
      "Applying threshold: 0.087 on column: 'mVocs_normalizer'...\n",
      "At bin_width: 50, layer with peak median is: 14\n",
      "Number of sig. neurons = 314\n",
      "Extracting column: mVocs_normalized_test_cc\n",
      "Applying threshold: 0.087 on column: 'mVocs_normalizer'...\n",
      "At bin_width: 50, layer with peak median is: 8\n",
      "Number of sig. neurons = 314\n",
      "Extracting column: mVocs_normalized_test_cc\n",
      "Applying threshold: 0.087 on column: 'mVocs_normalizer'...\n",
      "At bin_width: 50, layer with peak median is: 12\n",
      "Number of sig. neurons = 314\n",
      "Extracting column: mVocs_normalized_test_cc\n",
      "Applying threshold: 0.087 on column: 'mVocs_normalizer'...\n",
      "At bin_width: 50, layer with peak median is: 1\n",
      "Number of sig. neurons = 314\n",
      "Extracting column: mVocs_normalized_test_cc\n",
      "Applying threshold: 0.087 on column: 'mVocs_normalizer'...\n",
      "At bin_width: 50, layer with peak median is: 1\n",
      "Number of sig. neurons = 314\n",
      "Extracting column: mVocs_normalized_test_cc\n",
      "Applying threshold: 0.087 on column: 'mVocs_normalizer'...\n",
      "At bin_width: 50, layer with peak median is: 2\n",
      "Number of sig. neurons = 314\n",
      "Extracting column: mVocs_normalized_test_cc\n",
      "Applying threshold: 0.087 on column: 'mVocs_normalizer'...\n",
      "At bin_width: 50, layer with peak median is: 1\n",
      "Number of sig. neurons = 314\n",
      "Extracting column: mVocs_normalized_test_cc\n",
      "Applying threshold: 0.087 on column: 'mVocs_normalizer'...\n",
      "At bin_width: 50, layer with peak median is: 2\n",
      "Number of sig. neurons = 314\n",
      "Extracting column: mVocs_normalized_test_cc\n",
      "Applying threshold: 0.087 on column: 'mVocs_normalizer'...\n",
      "At bin_width: 50, layer with peak median is: 2\n",
      "Number of sig. neurons = 314\n",
      "Applying threshold: 0.087 on column: 'mVocs_normalizer'...\n",
      "model_name 'STRF' not recognizable!!!\n",
      "result saved at: /depot/jgmakin/data/auditory_cortex/results/tikz_plots/correlations-summary-bar-mVocs-50ms-all-models.tex\n"
     ]
    },
    {
     "data": {
      "image/png": "[encoded data removed]",
      "text/plain": [
       "<Figure size 360x288 with 1 Axes>"
      ]
     },
     "metadata": {
      "needs_background": "light"
     },
     "output_type": "display_data"
    }
   ],
   "source": [
    "model_names = [\n",
    "\t'wav2letter_modified',\n",
    "\t'wav2vec2',\n",
    "\t'speech2text',\n",
    "\t'whisper_tiny',\n",
    "\t'whisper_base',\n",
    "\t'deepspeech2',\n",
    "\t]\n",
    "identifier = 'mVocs_trf_lags300_bw50_naplib_matched'\n",
    "mVocs=True\n",
    "bin_width = 50\n",
    "save_tikz = True\n",
    "tikzplots.plot_correlations_summary(\n",
    "\tmodel_names,\n",
    "\tidentifier,\n",
    "\tbin_width=bin_width,\n",
    "\tmVocs=mVocs,\n",
    "\twidth = 0.4,\n",
    "\talpha=0.4,\n",
    "\tsave_tikz=save_tikz\n",
    "\t)\n"
   ]
  },
  {
   "cell_type": "code",
   "execution_count": null,
   "metadata": {},
   "outputs": [],
   "source": []
  }
 ],
 "metadata": {
  "kernelspec": {
   "display_name": "Python 3",
   "language": "python",
   "name": "python3"
  },
  "language_info": {
   "codemirror_mode": {
    "name": "ipython",
    "version": 3
   },
   "file_extension": ".py",
   "mimetype": "text/x-python",
   "name": "python",
   "nbconvert_exporter": "python",
   "pygments_lexer": "ipython3",
   "version": "3.8.5"
  }
 },
 "nbformat": 4,
 "nbformat_minor": 2
}
