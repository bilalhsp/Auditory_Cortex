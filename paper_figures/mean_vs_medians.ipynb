{
 "cells": [
  {
   "cell_type": "code",
   "execution_count": 2,
   "id": "2de1c49a",
   "metadata": {},
   "outputs": [],
   "source": [
    "# ------------------  set up logging ----------------------\n",
    "import logging\n",
    "from auditory_cortex.utils import set_up_logging\n",
    "set_up_logging()\n",
    "\n",
    "import os\n",
    "from scipy import stats\n",
    "from scipy.stats import mannwhitneyu\n",
    "import numpy as np\n",
    "import matplotlib.pyplot as plt\n",
    "from auditory_cortex.neural_data import NormalizerCalculator\n",
    "from auditory_cortex.neural_data import create_neural_metadata, create_neural_dataset\n",
    "from auditory_cortex import results_dir\n",
    "from auditory_cortex.plotters.plotter_utils import PlotterUtils"
   ]
  },
  {
   "cell_type": "code",
   "execution_count": 3,
   "id": "2551ff3d",
   "metadata": {},
   "outputs": [],
   "source": [
    "dataset_name = 'ucsf'\n",
    "metadata = create_neural_metadata(dataset_name)\n",
    "sessions = metadata.get_all_available_sessions()\n",
    "norm_obj = NormalizerCalculator(dataset_name)"
   ]
  },
  {
   "cell_type": "code",
   "execution_count": 6,
   "id": "811104b7",
   "metadata": {},
   "outputs": [
    {
     "name": "stdout",
     "output_type": "stream",
     "text": [
      "INFO:auditory_cortex.neural_data.normalizer_calculator:Getting normalizer dist. for sess-180413, bw-50, mVocs=True\n",
      "INFO:auditory_cortex.neural_data.normalizer_calculator:Getting normalizer dist. for sess-180420, bw-50, mVocs=True\n",
      "INFO:auditory_cortex.neural_data.normalizer_calculator:Getting normalizer dist. for sess-180501, bw-50, mVocs=True\n",
      "INFO:auditory_cortex.neural_data.normalizer_calculator:Getting normalizer dist. for sess-180502, bw-50, mVocs=True\n",
      "INFO:auditory_cortex.neural_data.normalizer_calculator:Getting normalizer dist. for sess-180613, bw-50, mVocs=True\n",
      "INFO:auditory_cortex.neural_data.normalizer_calculator:Getting normalizer dist. for sess-180622, bw-50, mVocs=True\n",
      "INFO:auditory_cortex.neural_data.normalizer_calculator:Getting normalizer dist. for sess-180627, bw-50, mVocs=True\n",
      "INFO:auditory_cortex.neural_data.normalizer_calculator:Getting normalizer dist. for sess-180717, bw-50, mVocs=True\n",
      "INFO:auditory_cortex.neural_data.normalizer_calculator:Getting normalizer dist. for sess-180719, bw-50, mVocs=True\n",
      "INFO:auditory_cortex.neural_data.normalizer_calculator:Getting normalizer dist. for sess-180720, bw-50, mVocs=True\n",
      "INFO:auditory_cortex.neural_data.normalizer_calculator:Getting normalizer dist. for sess-180724, bw-50, mVocs=True\n",
      "INFO:auditory_cortex.neural_data.normalizer_calculator:Getting normalizer dist. for sess-180728, bw-50, mVocs=True\n",
      "INFO:auditory_cortex.neural_data.normalizer_calculator:Getting normalizer dist. for sess-180730, bw-50, mVocs=True\n",
      "INFO:auditory_cortex.neural_data.normalizer_calculator:Getting normalizer dist. for sess-180731, bw-50, mVocs=True\n",
      "INFO:auditory_cortex.neural_data.normalizer_calculator:Getting normalizer dist. for sess-180807, bw-50, mVocs=True\n",
      "INFO:auditory_cortex.neural_data.normalizer_calculator:Getting normalizer dist. for sess-180808, bw-50, mVocs=True\n",
      "INFO:auditory_cortex.neural_data.normalizer_calculator:Getting normalizer dist. for sess-180810, bw-50, mVocs=True\n",
      "INFO:auditory_cortex.neural_data.normalizer_calculator:Getting normalizer dist. for sess-180814, bw-50, mVocs=True\n",
      "INFO:auditory_cortex.neural_data.normalizer_calculator:Getting normalizer dist. for sess-190604, bw-50, mVocs=True\n",
      "INFO:auditory_cortex.neural_data.normalizer_calculator:Getting normalizer dist. for sess-190605, bw-50, mVocs=True\n",
      "INFO:auditory_cortex.neural_data.normalizer_calculator:Getting normalizer dist. for sess-190606, bw-50, mVocs=True\n",
      "INFO:auditory_cortex.neural_data.normalizer_calculator:Getting normalizer dist. for sess-190703, bw-50, mVocs=True\n",
      "INFO:auditory_cortex.neural_data.normalizer_calculator:Getting normalizer dist. for sess-190726, bw-50, mVocs=True\n",
      "INFO:auditory_cortex.neural_data.normalizer_calculator:Getting normalizer dist. for sess-190801, bw-50, mVocs=True\n",
      "INFO:auditory_cortex.neural_data.normalizer_calculator:Getting normalizer dist. for sess-191113, bw-50, mVocs=True\n",
      "INFO:auditory_cortex.neural_data.normalizer_calculator:Getting normalizer dist. for sess-191115, bw-50, mVocs=True\n",
      "INFO:auditory_cortex.neural_data.normalizer_calculator:Getting normalizer dist. for sess-191121, bw-50, mVocs=True\n",
      "INFO:auditory_cortex.neural_data.normalizer_calculator:Getting normalizer dist. for sess-191125, bw-50, mVocs=True\n",
      "INFO:auditory_cortex.neural_data.normalizer_calculator:Getting normalizer dist. for sess-191206, bw-50, mVocs=True\n",
      "INFO:auditory_cortex.neural_data.normalizer_calculator:Getting normalizer dist. for sess-191209, bw-50, mVocs=True\n",
      "INFO:auditory_cortex.neural_data.normalizer_calculator:Getting normalizer dist. for sess-191210, bw-50, mVocs=True\n",
      "INFO:auditory_cortex.neural_data.normalizer_calculator:Getting normalizer dist. for sess-191211, bw-50, mVocs=True\n",
      "INFO:auditory_cortex.neural_data.normalizer_calculator:Getting normalizer dist. for sess-191219, bw-50, mVocs=True\n",
      "INFO:auditory_cortex.neural_data.normalizer_calculator:Getting normalizer dist. for sess-200205, bw-50, mVocs=True\n",
      "INFO:auditory_cortex.neural_data.normalizer_calculator:Getting normalizer dist. for sess-200206, bw-50, mVocs=True\n",
      "INFO:auditory_cortex.neural_data.normalizer_calculator:Getting normalizer dist. for sess-200207, bw-50, mVocs=True\n",
      "INFO:auditory_cortex.neural_data.normalizer_calculator:Getting normalizer dist. for sess-200212, bw-50, mVocs=True\n",
      "INFO:auditory_cortex.neural_data.normalizer_calculator:Getting normalizer dist. for sess-200213, bw-50, mVocs=True\n",
      "INFO:auditory_cortex.neural_data.normalizer_calculator:Getting normalizer dist. for sess-200219, bw-50, mVocs=True\n",
      "INFO:auditory_cortex.neural_data.normalizer_calculator:Getting normalizer dist. for sess-200313, bw-50, mVocs=True\n",
      "INFO:auditory_cortex.neural_data.normalizer_calculator:Getting normalizer dist. for sess-200318, bw-50, mVocs=True\n"
     ]
    }
   ],
   "source": [
    "bin_width = 50\n",
    "mVocs = True\n",
    "p_value = 0.05\n",
    "tuned_channels = []\n",
    "all_p_values = []\n",
    "highly_tuned_channels = []\n",
    "session_null_dist = {}\n",
    "session_norm_dist = {}\n",
    "for session in sessions:\n",
    "    shifted_null = norm_obj.get_normalizer_null_dist_using_random_shifts(\n",
    "        session, bin_width=bin_width, mVocs=mVocs, force_redo=False\n",
    "    )\n",
    "    norm_dist = norm_obj.get_normalizer_for_session(\n",
    "        session, bin_width=bin_width, mVocs=mVocs\n",
    "    ) \n",
    "    session_null_dist[session] = shifted_null\n",
    "    session_norm_dist[session] = norm_dist"
   ]
  },
  {
   "cell_type": "markdown",
   "id": "8b59194a",
   "metadata": {},
   "source": [
    "### mean vs medians - all channels"
   ]
  },
  {
   "cell_type": "code",
   "execution_count": 7,
   "id": "dd98a6f7",
   "metadata": {},
   "outputs": [
    {
     "name": "stdout",
     "output_type": "stream",
     "text": [
      "result saved at: /depot/jgmakin/data/auditory_cortex/results/tikz_plots/normalizers-mean-median-all-mVocs.tex\n"
     ]
    },
    {
     "data": {
      "image/png": "[encoded data removed]",
      "text/plain": [
       "<Figure size 432x288 with 1 Axes>"
      ]
     },
     "metadata": {
      "needs_background": "light"
     },
     "output_type": "display_data"
    }
   ],
   "source": [
    "sess_wise_means = {}\n",
    "sess_wise_medians = {}\n",
    "sess_wise_stds = {}\n",
    "num_samples = {}\n",
    "all_differences = []\n",
    "for session in sessions:\n",
    "    sess_norm_dist =  session_norm_dist[session]\n",
    "    mean = np.mean(sess_norm_dist, axis=0)\n",
    "    median = np.median(sess_norm_dist, axis=0)\n",
    "    diff = mean - median\n",
    "    all_differences.extend(diff)\n",
    "    sess_wise_means[session] = mean\n",
    "    sess_wise_medians[session] = median\n",
    "    sess_wise_stds[session] = np.std(sess_norm_dist, axis=0)\n",
    "    num_samples[session] = sess_norm_dist.shape[0]\n",
    "\n",
    "plt.hist(all_differences, bins=100)\n",
    "plt.axvline(x=0, color='r', linestyle='--')\n",
    "plt.xlim(-0.1, 0.1)\n",
    "plt.xticks([-0.1, 0, 0.1],)\n",
    "plt.xlabel('Mean - Median')\n",
    "plt.ylabel('Counts')\n",
    "plt.title('Mean - Median across all channels')\n",
    "\n",
    "if mVocs:\n",
    "    stim = 'mVocs'\n",
    "else:\n",
    "    stim = 'timit'\n",
    "filepath = os.path.join(\n",
    "    results_dir,\n",
    "    'tikz_plots',\n",
    "    f\"normalizers-mean-median-all-{stim}.tex\"\n",
    "    )\n",
    "PlotterUtils.save_tikz(filepath)\n"
   ]
  },
  {
   "cell_type": "markdown",
   "id": "5c9b12db",
   "metadata": {},
   "source": [
    "### tuned-channels"
   ]
  },
  {
   "cell_type": "code",
   "execution_count": 34,
   "id": "5f3d0201",
   "metadata": {},
   "outputs": [],
   "source": [
    "p_value = 0.05\n",
    "all_p_values = []\n",
    "session_wise_tuned_channels = {}\n",
    "for session in sessions:    \n",
    "    shifted_null = session_null_dist[session]\n",
    "    norm_dist = session_norm_dist[session]\n",
    "    tuned_channels = []\n",
    "    for ch in range(shifted_null.shape[1]):\n",
    "        dist1 = norm_dist[:,ch]\n",
    "        dist2 = shifted_null[:,ch]\n",
    "        stat, p = mannwhitneyu(dist1, dist2, alternative='greater')  # dist1 > dist2\n",
    "        all_p_values.append(p)\n",
    "        if p < p_value:\n",
    "            tuned_channels.append(ch)\n",
    "    session_wise_tuned_channels[session] = tuned_channels\n",
    "all_p_values = np.array(all_p_values)  "
   ]
  },
  {
   "cell_type": "code",
   "execution_count": 35,
   "id": "8fdbc02c",
   "metadata": {},
   "outputs": [],
   "source": [
    "tuned_means = []\n",
    "tuned_medians = []\n",
    "for sess in sessions:\n",
    "    if sess in session_wise_tuned_channels.keys():\n",
    "        ch_ids = np.array(session_wise_tuned_channels[sess])\n",
    "        if len(ch_ids) == 0:\n",
    "            continue\n",
    "        mean = sess_wise_means[sess][ch_ids]\n",
    "        median = sess_wise_medians[sess][ch_ids]\n",
    "\n",
    "        tuned_means.extend(mean)\n",
    "        tuned_medians.extend(median)\n",
    "tuned_differences = np.array(tuned_means) - np.array(tuned_medians)"
   ]
  },
  {
   "cell_type": "code",
   "execution_count": 36,
   "id": "c5987fb2",
   "metadata": {},
   "outputs": [
    {
     "name": "stdout",
     "output_type": "stream",
     "text": [
      "result saved at: /depot/jgmakin/data/auditory_cortex/results/tikz_plots/normalizers-mean-median-tuned-timit.tex\n"
     ]
    },
    {
     "data": {
      "image/png": "[encoded data removed]",
      "text/plain": [
       "<Figure size 432x288 with 1 Axes>"
      ]
     },
     "metadata": {
      "needs_background": "light"
     },
     "output_type": "display_data"
    }
   ],
   "source": [
    "plt.hist(tuned_differences, bins=100)\n",
    "plt.axvline(x=0, color='r', linestyle='--')\n",
    "plt.xlim(-0.1, 0.1)\n",
    "plt.xlabel('Mean - Median')\n",
    "plt.ylabel('Counts')\n",
    "plt.title('Mean - Median across tuned channels')\n",
    "\n",
    "if mVocs:\n",
    "    stim = 'mVocs'\n",
    "else:\n",
    "    stim = 'timit'\n",
    "filepath = os.path.join(\n",
    "    results_dir,\n",
    "    'tikz_plots',\n",
    "    f\"normalizers-mean-median-tuned-{stim}.tex\"\n",
    "    )\n",
    "PlotterUtils.save_tikz(filepath)"
   ]
  },
  {
   "cell_type": "markdown",
   "id": "afb7900f",
   "metadata": {},
   "source": [
    "### highly-tuned"
   ]
  },
  {
   "cell_type": "code",
   "execution_count": 37,
   "id": "6d232737",
   "metadata": {},
   "outputs": [],
   "source": [
    "tuned_channels = []\n",
    "all_p_values = []\n",
    "highly_tuned_channels = []\n",
    "\n",
    "std_deviations_away = [0.1, 0.3, 1.0]\n",
    "total_highly_tuned = {s:0 for s in std_deviations_away}\n",
    "total_highly_tuned_medians = {s:0 for s in std_deviations_away}\n",
    "highly_tuned_sess_channels = {s:{} for s in std_deviations_away}\n",
    "for session in sessions:\n",
    "    norm_dist = session_norm_dist[session]\n",
    "    shifted_null = session_null_dist[session]\n",
    "\n",
    "    norm_means = np.mean(norm_dist, axis=0)\n",
    "    null_means = np.mean(shifted_null, axis=0)\n",
    "\n",
    "    norm_medians = np.median(norm_dist, axis=0)\n",
    "    null_medians = np.median(shifted_null, axis=0)\n",
    "\n",
    "    null_std = np.std(shifted_null, axis=0)\n",
    "\n",
    "    for s in std_deviations_away:\n",
    "        thresh = null_means + (s * null_std)\n",
    "        highly_tuned = np.where(norm_means > thresh)[0]\n",
    "        total_highly_tuned[s] += len(highly_tuned)\n",
    "        highly_tuned_sess_channels[s][session] = highly_tuned\n",
    "\n",
    "        thresh = null_medians + (s * null_std)\n",
    "        highly_tuned = np.where(norm_medians > thresh)[0]\n",
    "        total_highly_tuned_medians[s] += len(highly_tuned)\n"
   ]
  },
  {
   "cell_type": "code",
   "execution_count": 38,
   "id": "723ff0c3",
   "metadata": {},
   "outputs": [
    {
     "name": "stdout",
     "output_type": "stream",
     "text": [
      "result saved at: /depot/jgmakin/data/auditory_cortex/results/tikz_plots/normalizers-mean-median-highly-tuned-gap-0.3-timit.tex\n"
     ]
    },
    {
     "data": {
      "image/png": "[encoded data removed]",
      "text/plain": [
       "<Figure size 432x288 with 1 Axes>"
      ]
     },
     "metadata": {
      "needs_background": "light"
     },
     "output_type": "display_data"
    }
   ],
   "source": [
    "gap = 0.3\n",
    "highly_tuned_means = []\n",
    "highly_tuned_medians = []\n",
    "sess_wise_highly_tuned = highly_tuned_sess_channels[gap]\n",
    "for sess in sessions:\n",
    "    if sess in sess_wise_highly_tuned.keys():\n",
    "        ch_ids = np.array(sess_wise_highly_tuned[sess])\n",
    "        mean = sess_wise_means[sess][ch_ids]\n",
    "        median = sess_wise_medians[sess][ch_ids]\n",
    "\n",
    "        highly_tuned_means.extend(mean)\n",
    "        highly_tuned_medians.extend(median)\n",
    "highly_tuned_differences = np.array(highly_tuned_means) - np.array(highly_tuned_medians)\n",
    "# plotting...\n",
    "plt.hist(highly_tuned_differences, bins=100)\n",
    "plt.axvline(x=0, color='r', linestyle='--')\n",
    "plt.xlim(-0.1, 0.1)\n",
    "plt.xlabel('Mean - Median')\n",
    "plt.ylabel('Counts')\n",
    "plt.title(f'highly tuned channels at gap={gap}')\n",
    "\n",
    "if mVocs:\n",
    "    stim = 'mVocs'\n",
    "else:\n",
    "    stim = 'timit'\n",
    "filepath = os.path.join(\n",
    "    results_dir,\n",
    "    'tikz_plots',\n",
    "    f\"normalizers-mean-median-highly-tuned-gap-{gap}-{stim}.tex\"\n",
    "    )\n",
    "PlotterUtils.save_tikz(filepath)"
   ]
  },
  {
   "cell_type": "code",
   "execution_count": 39,
   "id": "a8bc5e90",
   "metadata": {},
   "outputs": [
    {
     "name": "stdout",
     "output_type": "stream",
     "text": [
      "result saved at: /depot/jgmakin/data/auditory_cortex/results/tikz_plots/normalizers-mean-median-highly-tuned-gap-1.0-timit.tex\n"
     ]
    },
    {
     "data": {
      "image/png": "[encoded data removed]",
      "text/plain": [
       "<Figure size 432x288 with 1 Axes>"
      ]
     },
     "metadata": {
      "needs_background": "light"
     },
     "output_type": "display_data"
    }
   ],
   "source": [
    "gap = 1.0\n",
    "highly_tuned_means = []\n",
    "highly_tuned_medians = []\n",
    "sess_wise_highly_tuned = highly_tuned_sess_channels[gap]\n",
    "for sess in sessions:\n",
    "    if sess in sess_wise_highly_tuned.keys():\n",
    "        ch_ids = np.array(sess_wise_highly_tuned[sess])\n",
    "        mean = sess_wise_means[sess][ch_ids]\n",
    "        median = sess_wise_medians[sess][ch_ids]\n",
    "\n",
    "        highly_tuned_means.extend(mean)\n",
    "        highly_tuned_medians.extend(median)\n",
    "highly_tuned_differences = np.array(highly_tuned_means) - np.array(highly_tuned_medians)\n",
    "# plotting...\n",
    "plt.hist(highly_tuned_differences, bins=100)\n",
    "plt.axvline(x=0, color='r', linestyle='--')\n",
    "plt.xlim(-0.1, 0.1)\n",
    "plt.xlabel('Mean - Median')\n",
    "plt.ylabel('Counts')\n",
    "plt.title(f'highly tuned channels at gap={gap}')\n",
    "\n",
    "if mVocs:\n",
    "    stim = 'mVocs'\n",
    "else:\n",
    "    stim = 'timit'\n",
    "filepath = os.path.join(\n",
    "    results_dir,\n",
    "    'tikz_plots',\n",
    "    f\"normalizers-mean-median-highly-tuned-gap-{gap}-{stim}.tex\"\n",
    "    )\n",
    "PlotterUtils.save_tikz(filepath)"
   ]
  },
  {
   "cell_type": "code",
   "execution_count": null,
   "id": "fc510b8f",
   "metadata": {},
   "outputs": [],
   "source": []
  }
 ],
 "metadata": {
  "kernelspec": {
   "display_name": "Python 3",
   "language": "python",
   "name": "python3"
  },
  "language_info": {
   "codemirror_mode": {
    "name": "ipython",
    "version": 3
   },
   "file_extension": ".py",
   "mimetype": "text/x-python",
   "name": "python",
   "nbconvert_exporter": "python",
   "pygments_lexer": "ipython3",
   "version": "3.8.5"
  }
 },
 "nbformat": 4,
 "nbformat_minor": 5
}
