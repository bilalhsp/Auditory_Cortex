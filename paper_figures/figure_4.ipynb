{
 "cells": [
  {
   "cell_type": "code",
   "execution_count": 3,
   "metadata": {},
   "outputs": [],
   "source": [
    "# adjsut the basic logging lovel of notebook\n",
    "import logging\n",
    "logging.basicConfig(level=logging.WARNING)\n",
    "from auditory_cortex.plotters import tikzplots\n",
    "from auditory_cortex.analyses import Correlations, STRFCorrelations\n",
    "from auditory_cortex.plotters.correlation_plotter import RegPlotter\n",
    "from auditory_cortex.plotters.plotter_utils import PlotterUtils\n",
    "\n",
    "import numpy as np\n",
    "import seaborn as sns\n",
    "from functools import reduce\n",
    "import scipy\n",
    "import os\n",
    "\n",
    "import matplotlib.pylab as plt\n",
    "import matplotlib as mpl\n",
    "%matplotlib inline"
   ]
  },
  {
   "cell_type": "markdown",
   "metadata": {},
   "source": [
    "### TIMIT "
   ]
  },
  {
   "cell_type": "code",
   "execution_count": 4,
   "metadata": {},
   "outputs": [
    {
     "name": "stdout",
     "output_type": "stream",
     "text": [
      "Extracting column: normalized_test_cc\n",
      "Applying threshold: 0.072 on column: 'normalizer'...\n",
      "Extracting column: normalized_test_cc\n",
      "Applying threshold: 0.072 on column: 'normalizer'...\n"
     ]
    },
    {
     "name": "stderr",
     "output_type": "stream",
     "text": [
      "/tmp/ipykernel_1161046/2152745868.py:13: FutureWarning: arrays to stack must be passed as a \"sequence\" type such as list or tuple. Support for non-sequence iterables such as generators is deprecated as of NumPy 1.16 and will raise an error in the future.\n",
      "  tikzplots.plot_peak_layer_histograms_all_models(\n",
      "/tmp/ipykernel_1161046/2152745868.py:13: FutureWarning: arrays to stack must be passed as a \"sequence\" type such as list or tuple. Support for non-sequence iterables such as generators is deprecated as of NumPy 1.16 and will raise an error in the future.\n",
      "  tikzplots.plot_peak_layer_histograms_all_models(\n"
     ]
    },
    {
     "name": "stdout",
     "output_type": "stream",
     "text": [
      "Extracting column: normalized_test_cc\n",
      "Applying threshold: 0.072 on column: 'normalizer'...\n",
      "Extracting column: normalized_test_cc\n",
      "Applying threshold: 0.072 on column: 'normalizer'...\n"
     ]
    },
    {
     "name": "stderr",
     "output_type": "stream",
     "text": [
      "/tmp/ipykernel_1161046/2152745868.py:13: FutureWarning: arrays to stack must be passed as a \"sequence\" type such as list or tuple. Support for non-sequence iterables such as generators is deprecated as of NumPy 1.16 and will raise an error in the future.\n",
      "  tikzplots.plot_peak_layer_histograms_all_models(\n",
      "/tmp/ipykernel_1161046/2152745868.py:13: FutureWarning: arrays to stack must be passed as a \"sequence\" type such as list or tuple. Support for non-sequence iterables such as generators is deprecated as of NumPy 1.16 and will raise an error in the future.\n",
      "  tikzplots.plot_peak_layer_histograms_all_models(\n"
     ]
    },
    {
     "name": "stdout",
     "output_type": "stream",
     "text": [
      "Extracting column: normalized_test_cc\n",
      "Applying threshold: 0.072 on column: 'normalizer'...\n",
      "Extracting column: normalized_test_cc\n",
      "Applying threshold: 0.072 on column: 'normalizer'...\n"
     ]
    },
    {
     "name": "stderr",
     "output_type": "stream",
     "text": [
      "/tmp/ipykernel_1161046/2152745868.py:13: FutureWarning: arrays to stack must be passed as a \"sequence\" type such as list or tuple. Support for non-sequence iterables such as generators is deprecated as of NumPy 1.16 and will raise an error in the future.\n",
      "  tikzplots.plot_peak_layer_histograms_all_models(\n",
      "/tmp/ipykernel_1161046/2152745868.py:13: FutureWarning: arrays to stack must be passed as a \"sequence\" type such as list or tuple. Support for non-sequence iterables such as generators is deprecated as of NumPy 1.16 and will raise an error in the future.\n",
      "  tikzplots.plot_peak_layer_histograms_all_models(\n"
     ]
    },
    {
     "name": "stdout",
     "output_type": "stream",
     "text": [
      "Extracting column: normalized_test_cc\n",
      "Applying threshold: 0.072 on column: 'normalizer'...\n",
      "Extracting column: normalized_test_cc\n",
      "Applying threshold: 0.072 on column: 'normalizer'...\n"
     ]
    },
    {
     "name": "stderr",
     "output_type": "stream",
     "text": [
      "/tmp/ipykernel_1161046/2152745868.py:13: FutureWarning: arrays to stack must be passed as a \"sequence\" type such as list or tuple. Support for non-sequence iterables such as generators is deprecated as of NumPy 1.16 and will raise an error in the future.\n",
      "  tikzplots.plot_peak_layer_histograms_all_models(\n",
      "/tmp/ipykernel_1161046/2152745868.py:13: FutureWarning: arrays to stack must be passed as a \"sequence\" type such as list or tuple. Support for non-sequence iterables such as generators is deprecated as of NumPy 1.16 and will raise an error in the future.\n",
      "  tikzplots.plot_peak_layer_histograms_all_models(\n"
     ]
    },
    {
     "name": "stdout",
     "output_type": "stream",
     "text": [
      "Extracting column: normalized_test_cc\n",
      "Applying threshold: 0.072 on column: 'normalizer'...\n",
      "Extracting column: normalized_test_cc\n",
      "Applying threshold: 0.072 on column: 'normalizer'...\n"
     ]
    },
    {
     "name": "stderr",
     "output_type": "stream",
     "text": [
      "/tmp/ipykernel_1161046/2152745868.py:13: FutureWarning: arrays to stack must be passed as a \"sequence\" type such as list or tuple. Support for non-sequence iterables such as generators is deprecated as of NumPy 1.16 and will raise an error in the future.\n",
      "  tikzplots.plot_peak_layer_histograms_all_models(\n",
      "/tmp/ipykernel_1161046/2152745868.py:13: FutureWarning: arrays to stack must be passed as a \"sequence\" type such as list or tuple. Support for non-sequence iterables such as generators is deprecated as of NumPy 1.16 and will raise an error in the future.\n",
      "  tikzplots.plot_peak_layer_histograms_all_models(\n"
     ]
    },
    {
     "name": "stdout",
     "output_type": "stream",
     "text": [
      "Extracting column: normalized_test_cc\n",
      "Applying threshold: 0.072 on column: 'normalizer'...\n",
      "Extracting column: normalized_test_cc\n",
      "Applying threshold: 0.072 on column: 'normalizer'...\n",
      "Number of channels in core: 1344\n",
      "Number of channels in non-primary: 204\n"
     ]
    },
    {
     "name": "stderr",
     "output_type": "stream",
     "text": [
      "/tmp/ipykernel_1161046/2152745868.py:13: FutureWarning: arrays to stack must be passed as a \"sequence\" type such as list or tuple. Support for non-sequence iterables such as generators is deprecated as of NumPy 1.16 and will raise an error in the future.\n",
      "  tikzplots.plot_peak_layer_histograms_all_models(\n",
      "/tmp/ipykernel_1161046/2152745868.py:13: FutureWarning: arrays to stack must be passed as a \"sequence\" type such as list or tuple. Support for non-sequence iterables such as generators is deprecated as of NumPy 1.16 and will raise an error in the future.\n",
      "  tikzplots.plot_peak_layer_histograms_all_models(\n"
     ]
    },
    {
     "name": "stdout",
     "output_type": "stream",
     "text": [
      "Saved: /depot/jgmakin/data/auditory_cortex/results/tikz_plots/peak-layer-histogram-timit-50ms-all-models.png\n"
     ]
    },
    {
     "data": {
      "image/png": "[encoded data removed]",
      "text/plain": [
       "<Figure size 180x144 with 2 Axes>"
      ]
     },
     "metadata": {
      "needs_background": "light"
     },
     "output_type": "display_data"
    }
   ],
   "source": [
    "model_names = [\n",
    "\t'deepspeech2',\n",
    "\t'speech2text',\n",
    "\t'whisper_tiny',\n",
    "\t'whisper_base',\n",
    "\t'wav2vec2',\n",
    "\t'wav2letter_modified',\n",
    "\t]\n",
    "identifier = 'timit_trf_lags300_bw50_naplib_matched'\n",
    "bin_width = 50\n",
    "mVocs = False\n",
    "threshold = None\n",
    "tikzplots.plot_peak_layer_histograms_all_models(\n",
    "\tmodel_names,\n",
    "\tidentifier,\n",
    "\tbin_width=bin_width,\n",
    "\tmVocs=mVocs,\n",
    "\tthreshold = None,\n",
    "\tsave_tikz=True,\n",
    "\tfontsize=20,\n",
    "\tfigsize=(2.5,2),\n",
    "\t)\n"
   ]
  },
  {
   "cell_type": "markdown",
   "metadata": {},
   "source": [
    "### mVocs"
   ]
  },
  {
   "cell_type": "code",
   "execution_count": 5,
   "metadata": {},
   "outputs": [
    {
     "name": "stdout",
     "output_type": "stream",
     "text": [
      "Extracting column: mVocs_normalized_test_cc\n",
      "Applying threshold: 0.087 on column: 'mVocs_normalizer'...\n",
      "Extracting column: mVocs_normalized_test_cc\n",
      "Applying threshold: 0.087 on column: 'mVocs_normalizer'...\n"
     ]
    },
    {
     "name": "stderr",
     "output_type": "stream",
     "text": [
      "/tmp/ipykernel_1161046/3864094812.py:13: FutureWarning: arrays to stack must be passed as a \"sequence\" type such as list or tuple. Support for non-sequence iterables such as generators is deprecated as of NumPy 1.16 and will raise an error in the future.\n",
      "  tikzplots.plot_peak_layer_histograms_all_models(\n",
      "/tmp/ipykernel_1161046/3864094812.py:13: FutureWarning: arrays to stack must be passed as a \"sequence\" type such as list or tuple. Support for non-sequence iterables such as generators is deprecated as of NumPy 1.16 and will raise an error in the future.\n",
      "  tikzplots.plot_peak_layer_histograms_all_models(\n"
     ]
    },
    {
     "name": "stdout",
     "output_type": "stream",
     "text": [
      "Extracting column: mVocs_normalized_test_cc\n",
      "Applying threshold: 0.087 on column: 'mVocs_normalizer'...\n",
      "Extracting column: mVocs_normalized_test_cc\n",
      "Applying threshold: 0.087 on column: 'mVocs_normalizer'...\n"
     ]
    },
    {
     "name": "stderr",
     "output_type": "stream",
     "text": [
      "/tmp/ipykernel_1161046/3864094812.py:13: FutureWarning: arrays to stack must be passed as a \"sequence\" type such as list or tuple. Support for non-sequence iterables such as generators is deprecated as of NumPy 1.16 and will raise an error in the future.\n",
      "  tikzplots.plot_peak_layer_histograms_all_models(\n",
      "/tmp/ipykernel_1161046/3864094812.py:13: FutureWarning: arrays to stack must be passed as a \"sequence\" type such as list or tuple. Support for non-sequence iterables such as generators is deprecated as of NumPy 1.16 and will raise an error in the future.\n",
      "  tikzplots.plot_peak_layer_histograms_all_models(\n"
     ]
    },
    {
     "name": "stdout",
     "output_type": "stream",
     "text": [
      "Extracting column: mVocs_normalized_test_cc\n",
      "Applying threshold: 0.087 on column: 'mVocs_normalizer'...\n",
      "Extracting column: mVocs_normalized_test_cc\n",
      "Applying threshold: 0.087 on column: 'mVocs_normalizer'...\n"
     ]
    },
    {
     "name": "stderr",
     "output_type": "stream",
     "text": [
      "/tmp/ipykernel_1161046/3864094812.py:13: FutureWarning: arrays to stack must be passed as a \"sequence\" type such as list or tuple. Support for non-sequence iterables such as generators is deprecated as of NumPy 1.16 and will raise an error in the future.\n",
      "  tikzplots.plot_peak_layer_histograms_all_models(\n",
      "/tmp/ipykernel_1161046/3864094812.py:13: FutureWarning: arrays to stack must be passed as a \"sequence\" type such as list or tuple. Support for non-sequence iterables such as generators is deprecated as of NumPy 1.16 and will raise an error in the future.\n",
      "  tikzplots.plot_peak_layer_histograms_all_models(\n"
     ]
    },
    {
     "name": "stdout",
     "output_type": "stream",
     "text": [
      "Extracting column: mVocs_normalized_test_cc\n",
      "Applying threshold: 0.087 on column: 'mVocs_normalizer'...\n",
      "Extracting column: mVocs_normalized_test_cc\n",
      "Applying threshold: 0.087 on column: 'mVocs_normalizer'...\n"
     ]
    },
    {
     "name": "stderr",
     "output_type": "stream",
     "text": [
      "/tmp/ipykernel_1161046/3864094812.py:13: FutureWarning: arrays to stack must be passed as a \"sequence\" type such as list or tuple. Support for non-sequence iterables such as generators is deprecated as of NumPy 1.16 and will raise an error in the future.\n",
      "  tikzplots.plot_peak_layer_histograms_all_models(\n",
      "/tmp/ipykernel_1161046/3864094812.py:13: FutureWarning: arrays to stack must be passed as a \"sequence\" type such as list or tuple. Support for non-sequence iterables such as generators is deprecated as of NumPy 1.16 and will raise an error in the future.\n",
      "  tikzplots.plot_peak_layer_histograms_all_models(\n"
     ]
    },
    {
     "name": "stdout",
     "output_type": "stream",
     "text": [
      "Extracting column: mVocs_normalized_test_cc\n",
      "Applying threshold: 0.087 on column: 'mVocs_normalizer'...\n",
      "Extracting column: mVocs_normalized_test_cc\n",
      "Applying threshold: 0.087 on column: 'mVocs_normalizer'...\n"
     ]
    },
    {
     "name": "stderr",
     "output_type": "stream",
     "text": [
      "/tmp/ipykernel_1161046/3864094812.py:13: FutureWarning: arrays to stack must be passed as a \"sequence\" type such as list or tuple. Support for non-sequence iterables such as generators is deprecated as of NumPy 1.16 and will raise an error in the future.\n",
      "  tikzplots.plot_peak_layer_histograms_all_models(\n",
      "/tmp/ipykernel_1161046/3864094812.py:13: FutureWarning: arrays to stack must be passed as a \"sequence\" type such as list or tuple. Support for non-sequence iterables such as generators is deprecated as of NumPy 1.16 and will raise an error in the future.\n",
      "  tikzplots.plot_peak_layer_histograms_all_models(\n"
     ]
    },
    {
     "name": "stdout",
     "output_type": "stream",
     "text": [
      "Extracting column: mVocs_normalized_test_cc\n",
      "Applying threshold: 0.087 on column: 'mVocs_normalizer'...\n",
      "Extracting column: mVocs_normalized_test_cc\n",
      "Applying threshold: 0.087 on column: 'mVocs_normalizer'...\n",
      "Number of channels in core: 1386\n",
      "Number of channels in non-primary: 498\n",
      "Saved: /depot/jgmakin/data/auditory_cortex/results/tikz_plots/peak-layer-histogram-mVocs-50ms-all-models.png\n"
     ]
    },
    {
     "name": "stderr",
     "output_type": "stream",
     "text": [
      "/tmp/ipykernel_1161046/3864094812.py:13: FutureWarning: arrays to stack must be passed as a \"sequence\" type such as list or tuple. Support for non-sequence iterables such as generators is deprecated as of NumPy 1.16 and will raise an error in the future.\n",
      "  tikzplots.plot_peak_layer_histograms_all_models(\n",
      "/tmp/ipykernel_1161046/3864094812.py:13: FutureWarning: arrays to stack must be passed as a \"sequence\" type such as list or tuple. Support for non-sequence iterables such as generators is deprecated as of NumPy 1.16 and will raise an error in the future.\n",
      "  tikzplots.plot_peak_layer_histograms_all_models(\n"
     ]
    },
    {
     "data": {
      "image/png": "[encoded data removed]",
      "text/plain": [
       "<Figure size 180x144 with 2 Axes>"
      ]
     },
     "metadata": {
      "needs_background": "light"
     },
     "output_type": "display_data"
    }
   ],
   "source": [
    "model_names = [\n",
    "\t'deepspeech2',\n",
    "\t'speech2text',\n",
    "\t'whisper_tiny',\n",
    "\t'whisper_base',\n",
    "\t'wav2vec2',\n",
    "\t'wav2letter_modified',\n",
    "\t]\n",
    "identifier = 'mVocs_trf_lags300_bw50_naplib_matched'\n",
    "bin_width = 50\n",
    "mVocs = True\n",
    "threshold = None\n",
    "tikzplots.plot_peak_layer_histograms_all_models(\n",
    "\tmodel_names,\n",
    "\tidentifier,\n",
    "\tbin_width=bin_width,\n",
    "\tmVocs=mVocs,\n",
    "\tthreshold = None,\n",
    "\tsave_tikz=True,\n",
    "\tfontsize=20,\n",
    "\tfigsize=(2.5,2),\n",
    "\t)\n"
   ]
  },
  {
   "cell_type": "markdown",
   "metadata": {},
   "source": []
  }
 ],
 "metadata": {
  "kernelspec": {
   "display_name": "Python 3",
   "language": "python",
   "name": "python3"
  },
  "language_info": {
   "codemirror_mode": {
    "name": "ipython",
    "version": 3
   },
   "file_extension": ".py",
   "mimetype": "text/x-python",
   "name": "python",
   "nbconvert_exporter": "python",
   "pygments_lexer": "ipython3",
   "version": "3.8.5"
  }
 },
 "nbformat": 4,
 "nbformat_minor": 2
}
