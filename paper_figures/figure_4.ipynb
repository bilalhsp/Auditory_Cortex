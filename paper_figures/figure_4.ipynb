{
 "cells": [
  {
   "cell_type": "code",
   "execution_count": null,
   "metadata": {},
   "outputs": [],
   "source": [
    "# adjsut the basic logging lovel of notebook\n",
    "import logging\n",
    "logging.basicConfig(level=logging.WARNING)\n",
    "from auditory_cortex.plotters import tikzplots\n",
    "from auditory_cortex.analyses import Correlations, STRFCorrelations\n",
    "from auditory_cortex.plotters.correlation_plotter import RegPlotter\n",
    "from auditory_cortex.plotters.plotter_utils import PlotterUtils\n",
    "\n",
    "import numpy as np\n",
    "import seaborn as sns\n",
    "from functools import reduce\n",
    "import scipy\n",
    "import os\n",
    "\n",
    "import matplotlib.pylab as plt\n",
    "import matplotlib as mpl\n",
    "%matplotlib inline"
   ]
  },
  {
   "cell_type": "markdown",
   "metadata": {},
   "source": [
    "### TIMIT "
   ]
  },
  {
   "cell_type": "code",
   "execution_count": null,
   "metadata": {},
   "outputs": [],
   "source": [
    "model_names = [\n",
    "\t'deepspeech2',\n",
    "\t'speech2text',\n",
    "\t'whisper_tiny',\n",
    "\t'whisper_base',\n",
    "\t'wav2vec2',\n",
    "\t'wav2letter_modified',\n",
    "\t]\n",
    "identifier = 'timit_trf_lags300_bw50_naplib_matched'\n",
    "bin_width = 50\n",
    "mVocs = False\n",
    "threshold = None\n",
    "tikzplots.plot_peak_layer_histograms_all_models(\n",
    "\tmodel_names,\n",
    "\tidentifier,\n",
    "\tbin_width=bin_width,\n",
    "\tmVocs=mVocs,\n",
    "\tthreshold = None,\n",
    "\tsave_tikz=True,\n",
    "\tfontsize=20,\n",
    "\tfigsize=(2.5,2),\n",
    "\t)\n"
   ]
  },
  {
   "cell_type": "markdown",
   "metadata": {},
   "source": [
    "### mVocs"
   ]
  },
  {
   "cell_type": "markdown",
   "metadata": {},
   "source": []
  }
 ],
 "metadata": {
  "language_info": {
   "name": "python"
  }
 },
 "nbformat": 4,
 "nbformat_minor": 2
}
