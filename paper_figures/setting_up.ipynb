{
 "cells": [
  {
   "cell_type": "markdown",
   "metadata": {},
   "source": [
    "```\n",
    "auditory_cortex/\n",
    "├── analyses              # Analysis scripts and results\n",
    "├── dnn_feature_extractor # Code for extracting features from DNNs\n",
    "├── neural_data           # Raw and processed neural data\n",
    "└── encoding_models       # Code for encoding model fitting and evaluation\n",
    "\n",
    "config/                   # Configuration files for experiments\n",
    "scripts/                  # Helper scripts for preprocessing, training, etc.\n",
    "notebooks/                # Jupyter notebooks for exploration and prototyping\n",
    "```\n"
   ]
  },
  {
   "cell_type": "markdown",
   "metadata": {},
   "source": [
    "### Initialize the directories to generata/analyze results\n",
    "- Configurations are specified in the file **config/regression_config.yaml**, there are three directories that need to be specified there:\n",
    "    + neural_data_dir\n",
    "    + results_dir\n",
    "    + cache_dir\n",
    "- Make sure to copy the following things to **neural_data_dir**:\n",
    "    + recording sessions of neural activity\n",
    "    + meta data files:\n",
    "        * MonkVocs_15Blocks.wav\n",
    "        * SqMoPhys_MVOCStimcodes.mat\n",
    "        * out_sentence_details_timit_all_loudness.mat\n",
    "- Run the following cell to create metadata object, this reads the metadata files and does the required preprocessing."
   ]
  },
  {
   "cell_type": "code",
   "execution_count": null,
   "metadata": {
    "vscode": {
     "languageId": "plaintext"
    }
   },
   "outputs": [],
   "source": [
    "from auditory_cortex.neural_data import NeuralMetaData\n",
    "# First time, creating this object extracts the desired information about the \n",
    "# stimuli and saves in an easy to load format for future use.\n",
    "metadata = NeuralMetaData()"
   ]
  },
  {
   "cell_type": "markdown",
   "metadata": {},
   "source": []
  }
 ],
 "metadata": {
  "language_info": {
   "name": "python"
  }
 },
 "nbformat": 4,
 "nbformat_minor": 2
}
