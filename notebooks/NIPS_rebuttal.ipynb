{
 "cells": [
  {
   "cell_type": "code",
   "execution_count": 2,
   "metadata": {},
   "outputs": [],
   "source": [
    "# adjsut the basic logging lovel of notebook\n",
    "import logging\n",
    "logging.basicConfig(level=logging.WARNING)\n",
    "\n",
    "import os\n",
    "import yaml\n",
    "import numpy as np\n",
    "import pandas as pd\n",
    "import scipy as scp\n",
    "import pickle\n",
    "import matplotlib.pyplot as plt\n",
    "import matplotlib as mpl\n",
    "# import seaborn as sns\n",
    "from matplotlib.lines import Line2D\n",
    "from palettable.colorbrewer import qualitative\n",
    "\n",
    "import auditory_cortex.analysis as analysis\n",
    "from auditory_cortex import results_dir, aux_dir, saved_corr_dir\n",
    "from auditory_cortex.utils import CorrelationUtils\n",
    "\n",
    "from pycolormap_2d import ColorMap2DBremm, ColorMap2DZiegler\n",
    "%matplotlib inline"
   ]
  },
  {
   "cell_type": "markdown",
   "metadata": {},
   "source": [
    "### separate strf for thirds..."
   ]
  },
  {
   "cell_type": "code",
   "execution_count": 5,
   "metadata": {},
   "outputs": [
    {
     "data": {
      "text/html": [
       "<div>\n",
       "<style scoped>\n",
       "    .dataframe tbody tr th:only-of-type {\n",
       "        vertical-align: middle;\n",
       "    }\n",
       "\n",
       "    .dataframe tbody tr th {\n",
       "        vertical-align: top;\n",
       "    }\n",
       "\n",
       "    .dataframe thead th {\n",
       "        text-align: right;\n",
       "    }\n",
       "</style>\n",
       "<table border=\"1\" class=\"dataframe\">\n",
       "  <thead>\n",
       "    <tr style=\"text-align: right;\">\n",
       "      <th></th>\n",
       "      <th>session</th>\n",
       "      <th>channel</th>\n",
       "      <th>bin_width</th>\n",
       "      <th>delay</th>\n",
       "      <th>strf_corr</th>\n",
       "      <th>normalizer</th>\n",
       "      <th>strf_corr_normalized</th>\n",
       "    </tr>\n",
       "  </thead>\n",
       "  <tbody>\n",
       "    <tr>\n",
       "      <th>0</th>\n",
       "      <td>200206.0</td>\n",
       "      <td>0.0</td>\n",
       "      <td>20.0</td>\n",
       "      <td>0.0</td>\n",
       "      <td>0.118883</td>\n",
       "      <td>0.183260</td>\n",
       "      <td>0.277706</td>\n",
       "    </tr>\n",
       "    <tr>\n",
       "      <th>1</th>\n",
       "      <td>200206.0</td>\n",
       "      <td>1.0</td>\n",
       "      <td>20.0</td>\n",
       "      <td>0.0</td>\n",
       "      <td>0.197218</td>\n",
       "      <td>0.221996</td>\n",
       "      <td>0.418575</td>\n",
       "    </tr>\n",
       "    <tr>\n",
       "      <th>2</th>\n",
       "      <td>200206.0</td>\n",
       "      <td>2.0</td>\n",
       "      <td>20.0</td>\n",
       "      <td>0.0</td>\n",
       "      <td>0.154856</td>\n",
       "      <td>0.139223</td>\n",
       "      <td>0.415023</td>\n",
       "    </tr>\n",
       "    <tr>\n",
       "      <th>3</th>\n",
       "      <td>200206.0</td>\n",
       "      <td>3.0</td>\n",
       "      <td>20.0</td>\n",
       "      <td>0.0</td>\n",
       "      <td>0.331080</td>\n",
       "      <td>0.413683</td>\n",
       "      <td>0.509952</td>\n",
       "    </tr>\n",
       "    <tr>\n",
       "      <th>4</th>\n",
       "      <td>200206.0</td>\n",
       "      <td>4.0</td>\n",
       "      <td>20.0</td>\n",
       "      <td>0.0</td>\n",
       "      <td>0.087961</td>\n",
       "      <td>0.122561</td>\n",
       "      <td>0.251256</td>\n",
       "    </tr>\n",
       "  </tbody>\n",
       "</table>\n",
       "</div>"
      ],
      "text/plain": [
       "    session  channel  bin_width  delay  strf_corr  normalizer  \\\n",
       "0  200206.0      0.0       20.0    0.0   0.118883    0.183260   \n",
       "1  200206.0      1.0       20.0    0.0   0.197218    0.221996   \n",
       "2  200206.0      2.0       20.0    0.0   0.154856    0.139223   \n",
       "3  200206.0      3.0       20.0    0.0   0.331080    0.413683   \n",
       "4  200206.0      4.0       20.0    0.0   0.087961    0.122561   \n",
       "\n",
       "   strf_corr_normalized  \n",
       "0              0.277706  \n",
       "1              0.418575  \n",
       "2              0.415023  \n",
       "3              0.509952  \n",
       "4              0.251256  "
      ]
     },
     "execution_count": 5,
     "metadata": {},
     "output_type": "execute_result"
    }
   ],
   "source": [
    "STRF_file_path = os.path.join(saved_corr_dir, 'STRF_corr_results.csv')\n",
    "baseline_corr = pd.read_csv(STRF_file_path)\n",
    "baseline_corr.head(5)"
   ]
  },
  {
   "cell_type": "code",
   "execution_count": 10,
   "metadata": {},
   "outputs": [
    {
     "data": {
      "text/html": [
       "<div>\n",
       "<style scoped>\n",
       "    .dataframe tbody tr th:only-of-type {\n",
       "        vertical-align: middle;\n",
       "    }\n",
       "\n",
       "    .dataframe tbody tr th {\n",
       "        vertical-align: top;\n",
       "    }\n",
       "\n",
       "    .dataframe thead th {\n",
       "        text-align: right;\n",
       "    }\n",
       "</style>\n",
       "<table border=\"1\" class=\"dataframe\">\n",
       "  <thead>\n",
       "    <tr style=\"text-align: right;\">\n",
       "      <th></th>\n",
       "      <th>session</th>\n",
       "      <th>channel</th>\n",
       "      <th>bin_width</th>\n",
       "      <th>delay</th>\n",
       "      <th>strf_corr</th>\n",
       "      <th>normalizer</th>\n",
       "    </tr>\n",
       "  </thead>\n",
       "  <tbody>\n",
       "    <tr>\n",
       "      <th>0</th>\n",
       "      <td>180413.0</td>\n",
       "      <td>0.0</td>\n",
       "      <td>20.0</td>\n",
       "      <td>0.0</td>\n",
       "      <td>0.061003</td>\n",
       "      <td>0.010217</td>\n",
       "    </tr>\n",
       "    <tr>\n",
       "      <th>1</th>\n",
       "      <td>180413.0</td>\n",
       "      <td>1.0</td>\n",
       "      <td>20.0</td>\n",
       "      <td>0.0</td>\n",
       "      <td>-0.005814</td>\n",
       "      <td>-0.007085</td>\n",
       "    </tr>\n",
       "    <tr>\n",
       "      <th>2</th>\n",
       "      <td>180413.0</td>\n",
       "      <td>2.0</td>\n",
       "      <td>20.0</td>\n",
       "      <td>0.0</td>\n",
       "      <td>-0.015251</td>\n",
       "      <td>0.005469</td>\n",
       "    </tr>\n",
       "    <tr>\n",
       "      <th>3</th>\n",
       "      <td>180413.0</td>\n",
       "      <td>3.0</td>\n",
       "      <td>20.0</td>\n",
       "      <td>0.0</td>\n",
       "      <td>0.020227</td>\n",
       "      <td>-0.005645</td>\n",
       "    </tr>\n",
       "    <tr>\n",
       "      <th>4</th>\n",
       "      <td>180413.0</td>\n",
       "      <td>4.0</td>\n",
       "      <td>20.0</td>\n",
       "      <td>0.0</td>\n",
       "      <td>0.003566</td>\n",
       "      <td>-0.023340</td>\n",
       "    </tr>\n",
       "  </tbody>\n",
       "</table>\n",
       "</div>"
      ],
      "text/plain": [
       "    session  channel  bin_width  delay  strf_corr  normalizer\n",
       "0  180413.0      0.0       20.0    0.0   0.061003    0.010217\n",
       "1  180413.0      1.0       20.0    0.0  -0.005814   -0.007085\n",
       "2  180413.0      2.0       20.0    0.0  -0.015251    0.005469\n",
       "3  180413.0      3.0       20.0    0.0   0.020227   -0.005645\n",
       "4  180413.0      4.0       20.0    0.0   0.003566   -0.023340"
      ]
     },
     "execution_count": 10,
     "metadata": {},
     "output_type": "execute_result"
    }
   ],
   "source": [
    "STRF_file_path = os.path.join(saved_corr_dir, 'STRF_1_third_corr_results.csv')\n",
    "baseline_corr = pd.read_csv(STRF_file_path)\n",
    "baseline_corr.head(5)"
   ]
  },
  {
   "cell_type": "markdown",
   "metadata": {},
   "source": [
    "### copy normalizer for strf files..."
   ]
  },
  {
   "cell_type": "code",
   "execution_count": 9,
   "metadata": {},
   "outputs": [
    {
     "name": "stdout",
     "output_type": "stream",
     "text": [
      "Copying normalizer...\n",
      "Reading file from: \n",
      " /depot/jgmakin/data/auditory_cortex/results/cross_validated_correlations/STRF_3_third_corr_results.csv\n",
      "Reading normalizers from: \n",
      " /depot/jgmakin/data/auditory_cortex/results/cross_validated_correlations/wave2letter_modified_normalizer2_corr_results.csv\n",
      "Normalizer updated and written back to file: \n",
      " /depot/jgmakin/data/auditory_cortex/results/cross_validated_correlations/STRF_3_third_corr_results.csv\n"
     ]
    }
   ],
   "source": [
    "from auditory_cortex.utils import CorrelationUtils\n",
    "print(\"Copying normalizer...\")\n",
    "strf_identifier = 'STRF_3_third'\n",
    "CorrelationUtils.copy_normalizer(strf_identifier)"
   ]
  },
  {
   "cell_type": "markdown",
   "metadata": {},
   "source": [
    "### separate reporting for core and belt..."
   ]
  },
  {
   "cell_type": "code",
   "execution_count": 7,
   "metadata": {},
   "outputs": [
    {
     "name": "stdout",
     "output_type": "stream",
     "text": [
      "Baseline median: 0.163\n"
     ]
    },
    {
     "data": {
      "text/plain": [
       "Text(0.5, 1.0, 'wave2letter_modified_robust_26, area-core')"
      ]
     },
     "execution_count": 7,
     "metadata": {},
     "output_type": "execute_result"
    },
    {
     "data": {
      "image/png": "[encoded data removed]",
      "text/plain": [
       "<Figure size 432x288 with 1 Axes>"
      ]
     },
     "metadata": {
      "needs_background": "light"
     },
     "output_type": "display_data"
    }
   ],
   "source": [
    "from auditory_cortex import area_to_sessions\n",
    "\n",
    "# third = 1\n",
    "# corr_results = 'wave2letter_modified_neural_delay_only'\n",
    "# corr_results = 'wave2letter_modified'\n",
    "model_name = 'wave2letter_modified'\n",
    "# model_name = 'deepspeech2'\n",
    "# model_name = 'wave2vec2'\n",
    "# model_name = 'speech2text'\n",
    "\n",
    "# id = 'robust1'\n",
    "# id = 'normal_109'\n",
    "id = 'robust_26'\n",
    "# id = 'opt_neural_delay'\n",
    "# id = f'opt_neural_delay_{third}_third'\n",
    "corr_results = model_name + '_' + id\n",
    "corr_obj = analysis.Correlations(corr_results)\n",
    "\n",
    "area = 'core'\n",
    "# area = 'belt'\n",
    "\n",
    "sessions = area_to_sessions[area]\n",
    "ax, layer_spread = corr_obj.box_plot_correlations(\n",
    "    sessions=sessions,\n",
    "    threshold=0.068\n",
    ")\n",
    "ax.set_title(f\"{corr_results}, area-{area}\")"
   ]
  },
  {
   "cell_type": "code",
   "execution_count": 8,
   "metadata": {},
   "outputs": [
    {
     "name": "stdout",
     "output_type": "stream",
     "text": [
      "Layer-0, Median: 0.12, Max: 0.50\n",
      "Layer-1, Median: 0.17, Max: 0.55\n",
      "Layer-2, Median: 0.17, Max: 0.57\n",
      "Layer-3, Median: 0.20, Max: 0.56\n",
      "Layer-4, Median: 0.19, Max: 0.56\n",
      "Layer-5, Median: 0.20, Max: 0.63\n",
      "Layer-6, Median: 0.20, Max: 0.64\n",
      "Layer-7, Median: 0.21, Max: 0.64\n",
      "Layer-8, Median: 0.19, Max: 0.59\n",
      "Layer-9, Median: 0.18, Max: 0.58\n",
      "Layer-10, Median: 0.17, Max: 0.53\n",
      "Layer-11, Median: 0.14, Max: 0.49\n"
     ]
    }
   ],
   "source": [
    "for k,v in layer_spread.items():\n",
    "    print(f\"Layer-{k}\", end=', ')\n",
    "    print(f\"Median: {np.median(v):.2f}\", end=\", \")\n",
    "    print(f\"Max: {np.max(v):.2f}\")"
   ]
  },
  {
   "cell_type": "code",
   "execution_count": null,
   "metadata": {},
   "outputs": [],
   "source": []
  },
  {
   "cell_type": "code",
   "execution_count": 4,
   "metadata": {},
   "outputs": [
    {
     "name": "stdout",
     "output_type": "stream",
     "text": [
      "For 'core' using 'wave2vec2', optimal delays are: \n",
      "     min: 25.00, mean: 39.25,     median: 42.50, max: 50.00\n",
      "0     50.0\n",
      "1     30.0\n",
      "2     30.0\n",
      "3     25.0\n",
      "4     25.0\n",
      "5     25.0\n",
      "6     25.0\n",
      "7     45.0\n",
      "8     40.0\n",
      "9     40.0\n",
      "10    40.0\n",
      "11    40.0\n",
      "12    45.0\n",
      "13    45.0\n",
      "14    45.0\n",
      "15    50.0\n",
      "16    45.0\n",
      "17    45.0\n",
      "18    45.0\n",
      "19    50.0\n",
      "Name: opt_delays, dtype: float64\n"
     ]
    }
   ],
   "source": [
    "\n",
    "# model_name = 'deepspeech2'\n",
    "# model_name = 'speech2text'\n",
    "model_name = 'wave2vec2'\n",
    "# model_name = 'wave2letter_modified'\n",
    "# id = 'robust1'\n",
    "id = 'opt_neural_delay'\n",
    "# id = f'opt_neural_delay_{third}_third'\n",
    "corr_results = model_name + '_' + id\n",
    "corr_obj = analysis.Correlations(corr_results)\n",
    "\n",
    "area = 'core'\n",
    "# area = 'belt'\n",
    "\n",
    "sessions = area_to_sessions[area]\n",
    "\n",
    "select_data = corr_obj.get_session_data(\n",
    "    sessions,\n",
    "    threshold=0.068)\n",
    "layer_opt_delays = select_data.groupby('layer', as_index=False).median()['opt_delays']\n",
    "print(f\"For '{area}' using '{model_name}', optimal delays are: \\n \\\n",
    "    min: {np.min(layer_opt_delays):.2f}, mean: {np.mean(layer_opt_delays):.2f}, \\\n",
    "    median: {np.median(layer_opt_delays):.2f}, max: {np.max(layer_opt_delays):.2f}\")\n",
    "\n",
    "print(layer_opt_delays)\n",
    "\n"
   ]
  },
  {
   "cell_type": "markdown",
   "metadata": {},
   "source": [
    "### plotting sig. recording sites.."
   ]
  },
  {
   "cell_type": "code",
   "execution_count": 2,
   "metadata": {},
   "outputs": [],
   "source": [
    "normalizer_results = 'wave2letter_modified_normalizer2'\n",
    "corr_obj = analysis.Correlations(normalizer_results)"
   ]
  },
  {
   "cell_type": "code",
   "execution_count": 7,
   "metadata": {},
   "outputs": [
    {
     "data": {
      "text/plain": [
       "<matplotlib.legend.Legend at 0x2b6021fd2e20>"
      ]
     },
     "execution_count": 7,
     "metadata": {},
     "output_type": "execute_result"
    },
    {
     "data": {
      "image/png": "[encoded data removed]",
      "text/plain": [
       "<Figure size 432x288 with 1 Axes>"
      ]
     },
     "metadata": {
      "needs_background": "light"
     },
     "output_type": "display_data"
    }
   ],
   "source": [
    "legend_handles = []\n",
    "color_options = qualitative.Dark2_8.mpl_colors\n",
    "ax = corr_obj.plot_session_coordinates(\n",
    "        # subject_specific_color=True,\n",
    "        core_belt_color=True,\n",
    "        dot_size=100,\n",
    "        threshold=0.08\n",
    "        )\n",
    "ax.set_xticklabels([])\n",
    "ax.set_yticklabels([])\n",
    "ax.set_title(f\"Recording sites\")\n",
    "legend_handles.append(Line2D([0], [0], label='core', color=color_options[3]))\n",
    "legend_handles.append(Line2D([0], [0], label='belt', color=color_options[4]))\n",
    "plt.legend(handles = legend_handles)\n"
   ]
  },
  {
   "cell_type": "markdown",
   "metadata": {},
   "source": [
    "### delete after watching..."
   ]
  },
  {
   "cell_type": "code",
   "execution_count": 2,
   "metadata": {},
   "outputs": [
    {
     "name": "stdout",
     "output_type": "stream",
     "text": [
      "Loading Neural data for session: 200206 ... Done.\n"
     ]
    }
   ],
   "source": [
    "from auditory_cortex import STRF\n",
    "\n",
    "session = 200206\n",
    "strf = STRF.STRF(session)\n"
   ]
  },
  {
   "cell_type": "code",
   "execution_count": 3,
   "metadata": {},
   "outputs": [
    {
     "name": "stdout",
     "output_type": "stream",
     "text": [
      "(69, 128)\n",
      "(23, 128)\n"
     ]
    }
   ],
   "source": [
    "out = strf.get_sample(sent=12, third=1)"
   ]
  },
  {
   "cell_type": "code",
   "execution_count": 8,
   "metadata": {},
   "outputs": [
    {
     "data": {
      "text/plain": [
       "(21914,)"
      ]
     },
     "execution_count": 8,
     "metadata": {},
     "output_type": "execute_result"
    }
   ],
   "source": [
    "strf.dataset.audio(12).shape"
   ]
  },
  {
   "cell_type": "code",
   "execution_count": 4,
   "metadata": {},
   "outputs": [
    {
     "data": {
      "text/plain": [
       "(23, 32)"
      ]
     },
     "execution_count": 4,
     "metadata": {},
     "output_type": "execute_result"
    }
   ],
   "source": [
    "out[0].shape"
   ]
  },
  {
   "cell_type": "code",
   "execution_count": 5,
   "metadata": {},
   "outputs": [
    {
     "data": {
      "text/plain": [
       "(23, 64)"
      ]
     },
     "execution_count": 5,
     "metadata": {},
     "output_type": "execute_result"
    }
   ],
   "source": [
    "out[1].shape"
   ]
  },
  {
   "cell_type": "code",
   "execution_count": null,
   "metadata": {},
   "outputs": [],
   "source": []
  }
 ],
 "metadata": {
  "kernelspec": {
   "display_name": "Python 3",
   "language": "python",
   "name": "python3"
  },
  "language_info": {
   "codemirror_mode": {
    "name": "ipython",
    "version": 3
   },
   "file_extension": ".py",
   "mimetype": "text/x-python",
   "name": "python",
   "nbconvert_exporter": "python",
   "pygments_lexer": "ipython3",
   "version": "3.8.5"
  },
  "orig_nbformat": 4
 },
 "nbformat": 4,
 "nbformat_minor": 2
}
