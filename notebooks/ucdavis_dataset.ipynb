{
 "cells": [
  {
   "cell_type": "code",
   "execution_count": null,
   "metadata": {},
   "outputs": [
    {
     "name": "stderr",
     "output_type": "stream",
     "text": [
      "/home/ahmedb/projects/Wav2Letter/deepspeech.pytorch/deepspeech_pytorch/loader/data_loader.py:17: UserWarning: torchaudio._backend.set_audio_backend has been deprecated. With dispatcher enabled, this function is no-op. You can remove the function call.\n",
      "  torchaudio.set_audio_backend(\"sox_io\")\n"
     ]
    }
   ],
   "source": [
    "import os\n",
    "import torch\n",
    "import struct\n",
    "import scipy\n",
    "from scipy import io\n",
    "import numpy as np\n",
    "import matplotlib.pyplot as plt\n",
    "\n",
    "from auditory_cortex.dnn_feature_extractor import create_feature_extractor\n",
    "from auditory_cortex.neural_data import UCDavisDataset, UCSFDataset, create_neural_dataset\n",
    "from auditory_cortex.dataloader2 import DataLoader\n",
    "from auditory_cortex.data_assembler import STRFDataAssembler, DNNDataAssembler\n",
    "from auditory_cortex.encoding import TRF\n",
    "import numpy as np\n",
    "%matplotlib inline\n",
    "import logging\n",
    "\n",
    "# Configure the logging system\n",
    "logging.basicConfig(\n",
    "    level=logging.INFO,  # Set the logging level\n",
    "    # format=\"%(name)s - %(message)s\",\n",
    "\t# format=\"%(name)s - %(levelname)s - %(message)s\",\n",
    ")"
   ]
  },
  {
   "cell_type": "code",
   "execution_count": 16,
   "metadata": {},
   "outputs": [],
   "source": [
    "dataset_name = 'ucdavis'\n",
    "session_id = 2\n",
    "dataset = create_neural_dataset(dataset_name, session_id)"
   ]
  },
  {
   "cell_type": "code",
   "execution_count": 17,
   "metadata": {},
   "outputs": [
    {
     "data": {
      "text/plain": [
       "{'__header__': b'MATLAB 5.0 MAT-file, Platform: PCWIN64, Created on: Fri Nov 22 16:10:34 2024',\n",
       " '__version__': '1.0',\n",
       " '__globals__': [],\n",
       " 'TrialStimData': array([<scipy.io.matlab.mio5_params.mat_struct object at 0x2b360cae7f70>,\n",
       "        <scipy.io.matlab.mio5_params.mat_struct object at 0x2b360cae7fa0>],\n",
       "       dtype=object),\n",
       " 'WM_1': <scipy.io.matlab.mio5_params.mat_struct at 0x2b360dc8f040>,\n",
       " 'WM_2': <scipy.io.matlab.mio5_params.mat_struct at 0x2b360dc8f070>,\n",
       " 'WM_3': <scipy.io.matlab.mio5_params.mat_struct at 0x2b360dc8f0a0>,\n",
       " 'WM_4': <scipy.io.matlab.mio5_params.mat_struct at 0x2b360dc8f0d0>}"
      ]
     },
     "execution_count": 17,
     "metadata": {},
     "output_type": "execute_result"
    }
   ],
   "source": [
    "dataset.data"
   ]
  },
  {
   "cell_type": "code",
   "execution_count": 18,
   "metadata": {},
   "outputs": [
    {
     "data": {
      "text/plain": [
       "2"
      ]
     },
     "execution_count": 18,
     "metadata": {},
     "output_type": "execute_result"
    }
   ],
   "source": [
    "dataset.data['TrialStimData'].size"
   ]
  },
  {
   "cell_type": "code",
   "execution_count": 19,
   "metadata": {},
   "outputs": [
    {
     "data": {
      "text/plain": [
       "['StimulusName',\n",
       " 'StimulusTimeOn',\n",
       " 'StimulusIsSimultaneous',\n",
       " 'StimulusPWA',\n",
       " 'StimulusType',\n",
       " 'StimulusWhichTrial',\n",
       " 'StimulusSpeaker',\n",
       " 'StimulusDirection',\n",
       " 'StimulusTrialAtten',\n",
       " 'StimulusTargetdB',\n",
       " 'StimulusDuration',\n",
       " 'StimulusCarrierLow',\n",
       " 'StimulusCarrierHigh',\n",
       " 'StimulusSeed',\n",
       " 'StimulusAMPhaseDeg',\n",
       " 'StimulusAMDepth',\n",
       " 'StimulusAMHz',\n",
       " 'StimulusAMHz2',\n",
       " 'StimulusTonePhaseDeg',\n",
       " 'StimulusFMSweepStart',\n",
       " 'StimulusFMSweepEnd',\n",
       " 'StimulusCarrierType',\n",
       " 'StimulusCombType',\n",
       " 'StimulusCombToothBW',\n",
       " 'StimulusCombToothSpacing',\n",
       " 'StimulusGapInt',\n",
       " 'StimulusGapMS',\n",
       " 'StimulusCompleted',\n",
       " 'StimulusTimeDone',\n",
       " 'StimulusCountPerTrial',\n",
       " 'StimulusResult',\n",
       " 'StimulusAudiogramPreviousdB',\n",
       " 'StimulusTimeOff',\n",
       " 'TrialResult',\n",
       " 'TrialCorrect',\n",
       " 'TrialStartBlink',\n",
       " 'TrialResponseTime',\n",
       " 'InitRewardMS',\n",
       " 'InitRewardTime',\n",
       " 'InitRewardTrial',\n",
       " 'HoldRewardMS',\n",
       " 'HoldRewardTime',\n",
       " 'HoldRewardTrial',\n",
       " 'RewardMS',\n",
       " 'RewardTime',\n",
       " 'RewardTrial',\n",
       " 'Error',\n",
       " 'ErrorTime']"
      ]
     },
     "execution_count": 19,
     "metadata": {},
     "output_type": "execute_result"
    }
   ],
   "source": [
    "dataset.data['TrialStimData'][0]._fieldnames # StimulusType"
   ]
  },
  {
   "cell_type": "code",
   "execution_count": 20,
   "metadata": {},
   "outputs": [
    {
     "data": {
      "text/plain": [
       "array(['BMM3'], dtype=object)"
      ]
     },
     "execution_count": 20,
     "metadata": {},
     "output_type": "execute_result"
    }
   ],
   "source": [
    "np.unique(dataset.data['TrialStimData'][0].StimulusType)"
   ]
  },
  {
   "cell_type": "code",
   "execution_count": 21,
   "metadata": {},
   "outputs": [
    {
     "data": {
      "text/plain": [
       "array(['BMT3'], dtype=object)"
      ]
     },
     "execution_count": 21,
     "metadata": {},
     "output_type": "execute_result"
    }
   ],
   "source": [
    "np.unique(dataset.data['TrialStimData'][1].StimulusType)"
   ]
  },
  {
   "cell_type": "code",
   "execution_count": 56,
   "metadata": {},
   "outputs": [
    {
     "data": {
      "text/plain": [
       "array([1, 0, 2])"
      ]
     },
     "execution_count": 56,
     "metadata": {},
     "output_type": "execute_result"
    }
   ],
   "source": [
    "total_trial_repeats = 3\n",
    "trial_ids = np.random.choice(3, size=num_trials, replace=True)\n",
    "trial_ids"
   ]
  },
  {
   "cell_type": "code",
   "execution_count": 57,
   "metadata": {},
   "outputs": [
    {
     "data": {
      "text/plain": [
       "array([1, 0, 0])"
      ]
     },
     "execution_count": 57,
     "metadata": {},
     "output_type": "execute_result"
    }
   ],
   "source": [
    "max_num_trials =3\n",
    "num_trials = 3\n",
    "trial_ids = np.random.choice(max_num_trials, size=num_trials, replace=True)\n",
    "trial_ids"
   ]
  },
  {
   "cell_type": "code",
   "execution_count": null,
   "metadata": {},
   "outputs": [],
   "source": [
    "total_trial_repeats = y_all_trials.shape[0]\n",
    "\ttrial_ids = np.arange(total_trial_repeats)\n",
    "\tif test_trial is not None:\n",
    "\t\tnp.random.shuffle(trial_ids)\n",
    "\t\ttrial_ids = trial_ids[:test_trial]"
   ]
  },
  {
   "cell_type": "markdown",
   "metadata": {},
   "source": [
    "### exploring data..."
   ]
  },
  {
   "cell_type": "code",
   "execution_count": 2,
   "metadata": {},
   "outputs": [
    {
     "name": "stderr",
     "output_type": "stream",
     "text": [
      "INFO:auditory_cortex.neural_data.ucsf_data.ucsf_dataset:NeuralData:  Creating object for session: 200206 ... \n"
     ]
    },
    {
     "name": "stderr",
     "output_type": "stream",
     "text": [
      "INFO:auditory_cortex.neural_data.ucsf_data.ucsf_dataset:Done.\n"
     ]
    }
   ],
   "source": [
    "dataset_name = 'ucsf'\n",
    "session_id = 200206\n",
    "dataset_obj = create_neural_dataset(dataset_name, session_id)\n",
    "\n",
    "# print(f\"Experiments: {dataset_obj.exp_tr_data.keys()}\")\n"
   ]
  },
  {
   "cell_type": "code",
   "execution_count": 5,
   "metadata": {},
   "outputs": [
    {
     "name": "stdout",
     "output_type": "stream",
     "text": [
      "Total stimuli duration: 1005.54\n"
     ]
    }
   ],
   "source": [
    "mVocs = False\n",
    "# stim_duration = dataset_obj.total_stimuli_duration(mVocs)\n",
    "stim_ids = dataset_obj.get_training_stim_ids(mVocs)\n",
    "duration = 0\n",
    "for stim_id in stim_ids:\n",
    "    duration += dataset_obj.get_stim_duration(stim_id)\n",
    "print(f\"Total stimuli duration: {duration:.2f}\")\n",
    "\n",
    "\n",
    "# print(f\"Unique stimuli duration: {stim_duration['unique']:.2f}\")\n",
    "# print(f\"Repeated stimuli duration: {stim_duration['repeated']:.2f}\")"
   ]
  },
  {
   "cell_type": "markdown",
   "metadata": {},
   "source": [
    "#### timit stimuli..."
   ]
  },
  {
   "cell_type": "code",
   "execution_count": 30,
   "metadata": {},
   "outputs": [
    {
     "name": "stdout",
     "output_type": "stream",
     "text": [
      "Unique stimuli duration: 762.45\n",
      "Repeated stimuli duration: 84.83\n"
     ]
    }
   ],
   "source": [
    "mVocs = False\n",
    "stim_duration = dataset_obj.total_stimuli_duration(mVocs)\n",
    "\n",
    "print(f\"Unique stimuli duration: {stim_duration['unique']:.2f}\")\n",
    "print(f\"Repeated stimuli duration: {stim_duration['repeated']:.2f}\")"
   ]
  },
  {
   "cell_type": "code",
   "execution_count": 20,
   "metadata": {},
   "outputs": [
    {
     "name": "stdout",
     "output_type": "stream",
     "text": [
      "For 'repeated' stimuli: \n",
      "Number of stumiuli: 46\n",
      "Number of channels: 4\n",
      "Channel IDs: ['WM_1', 'WM_2', 'WM_3', 'WM_4']\n",
      "Shape of spikes: (3, 41)\n",
      "Number of repeats: 3\n"
     ]
    }
   ],
   "source": [
    "mVocs = False\n",
    "repeated=True\n",
    "spikes = dataset_obj.extract_spikes(repeated=repeated, mVocs=mVocs)\n",
    "\n",
    "stimuli_type = 'unique' if not repeated else 'repeated'\n",
    "print(f\"For '{stimuli_type}' stimuli: \")\n",
    "stim_ids = list(spikes.keys())\n",
    "print(f\"Number of stumiuli: {len(stim_ids)}\")\n",
    "channels = list(spikes[stim_ids[0]].keys())\n",
    "print(f\"Number of channels: {len(channels)}\")\n",
    "print(f\"Channel IDs: {channels}\")\n",
    "print(f\"Shape of spikes: {spikes[stim_ids[0]][channels[0]].shape}\")\n",
    "print(f\"Number of repeats: {spikes[stim_ids[0]][channels[0]].shape[0]}\")"
   ]
  },
  {
   "cell_type": "code",
   "execution_count": 21,
   "metadata": {},
   "outputs": [
    {
     "name": "stdout",
     "output_type": "stream",
     "text": [
      "For 'unique' stimuli: \n",
      "Number of stumiuli: 451\n",
      "Number of channels: 4\n",
      "Channel IDs: ['WM_1', 'WM_2', 'WM_3', 'WM_4']\n",
      "Shape of spikes: (1, 39)\n",
      "Number of repeats: 1\n"
     ]
    }
   ],
   "source": [
    "mVocs = False\n",
    "repeated=False\n",
    "spikes = dataset_obj.extract_spikes(repeated=repeated, mVocs=mVocs)\n",
    "\n",
    "stimuli_type = 'unique' if not repeated else 'repeated'\n",
    "print(f\"For '{stimuli_type}' stimuli: \")\n",
    "stim_ids = list(spikes.keys())\n",
    "print(f\"Number of stumiuli: {len(stim_ids)}\")\n",
    "channels = list(spikes[stim_ids[0]].keys())\n",
    "print(f\"Number of channels: {len(channels)}\")\n",
    "print(f\"Channel IDs: {channels}\")\n",
    "print(f\"Shape of spikes: {spikes[stim_ids[0]][channels[0]].shape}\")\n",
    "print(f\"Number of repeats: {spikes[stim_ids[0]][channels[0]].shape[0]}\")"
   ]
  },
  {
   "cell_type": "markdown",
   "metadata": {},
   "source": [
    "#### mVocs stimuli..."
   ]
  },
  {
   "cell_type": "code",
   "execution_count": 10,
   "metadata": {},
   "outputs": [
    {
     "name": "stdout",
     "output_type": "stream",
     "text": [
      "Unique stimuli duration: 900.25\n",
      "Repeated stimuli duration: 100.07\n"
     ]
    }
   ],
   "source": [
    "mVocs = True\n",
    "stim_duration = dataset_obj.total_stimuli_duration(mVocs)\n",
    "\n",
    "print(f\"Unique stimuli duration: {stim_duration['unique']:.2f}\")\n",
    "print(f\"Repeated stimuli duration: {stim_duration['repeated']:.2f}\")"
   ]
  },
  {
   "cell_type": "code",
   "execution_count": 8,
   "metadata": {},
   "outputs": [
    {
     "name": "stdout",
     "output_type": "stream",
     "text": [
      "For 'repeated' stimuli: \n",
      "Number of stumiuli: 153\n",
      "Number of channels: 4\n",
      "Channel IDs: ['WM_1', 'WM_2', 'WM_3', 'WM_4']\n",
      "Shape of spikes: (3, 21)\n",
      "Number of repeats: 3\n"
     ]
    }
   ],
   "source": [
    "mVocs = True\n",
    "repeated=True\n",
    "spikes = dataset_obj.extract_spikes(repeated=repeated, mVocs=mVocs)\n",
    "\n",
    "stimuli_type = 'unique' if not repeated else 'repeated'\n",
    "print(f\"For '{stimuli_type}' stimuli: \")\n",
    "stim_ids = list(spikes.keys())\n",
    "print(f\"Number of stumiuli: {len(stim_ids)}\")\n",
    "channels = list(spikes[stim_ids[0]].keys())\n",
    "print(f\"Number of channels: {len(channels)}\")\n",
    "print(f\"Channel IDs: {channels}\")\n",
    "print(f\"Shape of spikes: {spikes[stim_ids[0]][channels[0]].shape}\")\n",
    "print(f\"Number of repeats: {spikes[stim_ids[0]][channels[0]].shape[0]}\")"
   ]
  },
  {
   "cell_type": "code",
   "execution_count": 10,
   "metadata": {},
   "outputs": [
    {
     "name": "stdout",
     "output_type": "stream",
     "text": [
      "For 'unique' stimuli: \n",
      "Number of stumiuli: 1415\n",
      "Number of channels: 4\n",
      "Channel IDs: ['WM_1', 'WM_2', 'WM_3', 'WM_4']\n",
      "Shape of spikes: (1, 15)\n",
      "Number of repeats: 1\n"
     ]
    }
   ],
   "source": [
    "mVocs = True\n",
    "repeated=False\n",
    "spikes = dataset_obj.extract_spikes(repeated=repeated, mVocs=mVocs)\n",
    "\n",
    "stimuli_type = 'unique' if not repeated else 'repeated'\n",
    "print(f\"For '{stimuli_type}' stimuli: \")\n",
    "stim_ids = list(spikes.keys())\n",
    "print(f\"Number of stumiuli: {len(stim_ids)}\")\n",
    "channels = list(spikes[stim_ids[0]].keys())\n",
    "print(f\"Number of channels: {len(channels)}\")\n",
    "print(f\"Channel IDs: {channels}\")\n",
    "print(f\"Shape of spikes: {spikes[stim_ids[0]][channels[0]].shape}\")\n",
    "print(f\"Number of repeats: {spikes[stim_ids[0]][channels[0]].shape[0]}\")"
   ]
  },
  {
   "cell_type": "code",
   "execution_count": 4,
   "metadata": {},
   "outputs": [],
   "source": [
    "unique_stim_ids = dataset_obj.get_stim_ids(mVocs)['unique']"
   ]
  },
  {
   "cell_type": "code",
   "execution_count": 5,
   "metadata": {},
   "outputs": [],
   "source": [
    "for stim_id in unique_stim_ids:\n",
    "\tstim_dur = dataset_obj.metadata.mVocs_dur_dict[stim_id]\n",
    "\tif np.isnan(stim_dur):\n",
    "\t\tprint(f\"Stimulus ID: {stim_id} is NaN\")\n",
    "\t\tbreak"
   ]
  },
  {
   "cell_type": "code",
   "execution_count": 6,
   "metadata": {},
   "outputs": [
    {
     "data": {
      "text/plain": [
       "'43-Cue-03-Grunt.wfm'"
      ]
     },
     "execution_count": 6,
     "metadata": {},
     "output_type": "execute_result"
    }
   ],
   "source": [
    "stim_id"
   ]
  },
  {
   "cell_type": "code",
   "execution_count": null,
   "metadata": {},
   "outputs": [],
   "source": [
    "if stim_id in mVocs_wfm_files:\n",
    "\tprint(f\"stim file exists\")\n",
    "else:\n",
    "\tprint(f\"stim file does not exist\")"
   ]
  },
  {
   "cell_type": "code",
   "execution_count": 15,
   "metadata": {},
   "outputs": [
    {
     "data": {
      "text/plain": [
       "['SoundID',\n",
       " 'SourceNum',\n",
       " 'CueNum',\n",
       " 'Dur',\n",
       " 'VocType',\n",
       " 'useThisSound',\n",
       " 'jeffVocType',\n",
       " 'actualDur',\n",
       " 'WFMname',\n",
       " 'indUsed3',\n",
       " 'indUsed12',\n",
       " 'indUsed',\n",
       " 'attenuationSpeaker1']"
      ]
     },
     "execution_count": 15,
     "metadata": {},
     "output_type": "execute_result"
    }
   ],
   "source": [
    "dataset_obj.metadata.mVocs_meta['MSL']._fieldnames"
   ]
  },
  {
   "cell_type": "code",
   "execution_count": 17,
   "metadata": {},
   "outputs": [
    {
     "data": {
      "text/plain": [
       "(3046,)"
      ]
     },
     "execution_count": 17,
     "metadata": {},
     "output_type": "execute_result"
    }
   ],
   "source": [
    "dataset_obj.metadata.mVocs_meta['MSL'].Dur.shape"
   ]
  },
  {
   "cell_type": "code",
   "execution_count": 19,
   "metadata": {},
   "outputs": [
    {
     "data": {
      "text/plain": [
       "(3046,)"
      ]
     },
     "execution_count": 19,
     "metadata": {},
     "output_type": "execute_result"
    }
   ],
   "source": [
    "dataset_obj.metadata.mVocs_meta['MSL'].actualDur.shape"
   ]
  },
  {
   "cell_type": "code",
   "execution_count": 20,
   "metadata": {},
   "outputs": [
    {
     "data": {
      "text/plain": [
       "(3046,)"
      ]
     },
     "execution_count": 20,
     "metadata": {},
     "output_type": "execute_result"
    }
   ],
   "source": [
    "dataset_obj.metadata.mVocs_meta['MSL'].WFMname.shape"
   ]
  },
  {
   "cell_type": "code",
   "execution_count": 23,
   "metadata": {},
   "outputs": [
    {
     "data": {
      "text/plain": [
       "(array([534]),)"
      ]
     },
     "execution_count": 23,
     "metadata": {},
     "output_type": "execute_result"
    }
   ],
   "source": [
    "np.where(dataset_obj.metadata.mVocs_meta['MSL'].WFMname == stim_id)"
   ]
  },
  {
   "cell_type": "code",
   "execution_count": 31,
   "metadata": {},
   "outputs": [
    {
     "data": {
      "text/plain": [
       "nan"
      ]
     },
     "execution_count": 31,
     "metadata": {},
     "output_type": "execute_result"
    }
   ],
   "source": [
    "dataset_obj.metadata.mVocs_meta['MSL'].Dur[534]"
   ]
  },
  {
   "cell_type": "code",
   "execution_count": 32,
   "metadata": {},
   "outputs": [
    {
     "data": {
      "text/plain": [
       "0.792875"
      ]
     },
     "execution_count": 32,
     "metadata": {},
     "output_type": "execute_result"
    }
   ],
   "source": [
    "dataset_obj.metadata.mVocs_meta['MSL'].actualDur[534]"
   ]
  },
  {
   "cell_type": "code",
   "execution_count": 29,
   "metadata": {},
   "outputs": [],
   "source": [
    "aud = dataset_obj.metadata.get_stim_audio(stim_id, mVocs=True)"
   ]
  },
  {
   "cell_type": "code",
   "execution_count": 30,
   "metadata": {},
   "outputs": [
    {
     "data": {
      "text/plain": [
       "0.792875"
      ]
     },
     "execution_count": 30,
     "metadata": {},
     "output_type": "execute_result"
    }
   ],
   "source": [
    "aud.size/48000"
   ]
  },
  {
   "cell_type": "code",
   "execution_count": 10,
   "metadata": {},
   "outputs": [
    {
     "name": "stdout",
     "output_type": "stream",
     "text": [
      "mVocs waveforms in directory: 3040\n",
      "mVocs stimuli used (as per metadata): 3046\n"
     ]
    }
   ],
   "source": [
    "mVocs_wfm_files = np.array(os.listdir(os.path.join(dataset_obj.data_dir, 'NIMH_Mvoc_WFM'))).astype(str)\n",
    "print(f\"mVocs waveforms in directory: {mVocs_wfm_files.size}\")\n",
    "\n",
    "mVocs_ids_used = np.array(dataset_obj.metadata.mVocs_ids).astype(str)\n",
    "print(f\"mVocs stimuli used (as per metadata): {mVocs_ids_used.size}\")"
   ]
  },
  {
   "cell_type": "code",
   "execution_count": 4,
   "metadata": {},
   "outputs": [
    {
     "name": "stdout",
     "output_type": "stream",
     "text": [
      "For 'repeated' stimuli: \n",
      "Number of stumiuli: 153\n",
      "Number of channels: 4\n",
      "Channel IDs: ['WM_1', 'WM_2', 'WM_3', 'WM_4']\n",
      "Shape of spikes: (3, 21)\n",
      "Number of repeats: 3\n"
     ]
    }
   ],
   "source": [
    "mVocs = True\n",
    "repeated=True\n",
    "spikes = dataset_obj.extract_spikes(repeated=repeated, mVocs=mVocs)\n",
    "\n",
    "stimuli_type = 'unique' if not repeated else 'repeated'\n",
    "print(f\"For '{stimuli_type}' stimuli: \")\n",
    "stim_ids = list(spikes.keys())\n",
    "print(f\"Number of stumiuli: {len(stim_ids)}\")\n",
    "channels = list(spikes[stim_ids[0]].keys())\n",
    "print(f\"Number of channels: {len(channels)}\")\n",
    "print(f\"Channel IDs: {channels}\")\n",
    "print(f\"Shape of spikes: {spikes[stim_ids[0]][channels[0]].shape}\")\n",
    "print(f\"Number of repeats: {spikes[stim_ids[0]][channels[0]].shape[0]}\")"
   ]
  },
  {
   "cell_type": "code",
   "execution_count": null,
   "metadata": {},
   "outputs": [],
   "source": [
    "mVocs = True\n",
    "repeated=False\n",
    "spikes = dataset_obj.extract_spikes(repeated=repeated, mVocs=mVocs)\n",
    "\n",
    "stimuli_type = 'unique' if not repeated else 'repeated'\n",
    "print(f\"For '{stimuli_type}' stimuli: \")\n",
    "stim_ids = list(spikes.keys())\n",
    "print(f\"Number of stumiuli: {len(stim_ids)}\")\n",
    "channels = list(spikes[stim_ids[0]].keys())\n",
    "print(f\"Number of channels: {len(channels)}\")\n",
    "print(f\"Channel IDs: {channels}\")\n",
    "print(f\"Shape of spikes: {spikes[stim_ids[0]][channels[0]].shape}\")\n",
    "print(f\"Number of repeats: {spikes[stim_ids[0]][channels[0]].shape[0]}\")"
   ]
  },
  {
   "cell_type": "markdown",
   "metadata": {},
   "source": [
    "#### mVocs stimuli discrepency..."
   ]
  },
  {
   "cell_type": "code",
   "execution_count": 48,
   "metadata": {},
   "outputs": [
    {
     "name": "stdout",
     "output_type": "stream",
     "text": [
      "TIMIT waveforms in directory: 499\n",
      "Timit stimuli used (as per metadata): 497\n"
     ]
    }
   ],
   "source": [
    "timit_wfm_files = os.listdir(os.path.join(dataset_obj.data_dir, 'TIMIT_48000'))\n",
    "print(f\"TIMIT waveforms in directory: {len(timit_wfm_files)}\")\n",
    "\n",
    "timit_ids_used = dataset_obj.metadata.timit_ids\n",
    "print(f\"Timit stimuli used (as per metadata): {len(timit_ids_used)}\")"
   ]
  },
  {
   "cell_type": "code",
   "execution_count": 3,
   "metadata": {},
   "outputs": [
    {
     "name": "stdout",
     "output_type": "stream",
     "text": [
      "mVocs waveforms in directory: 3040\n",
      "mVocs stimuli used (as per metadata): 2198\n"
     ]
    }
   ],
   "source": [
    "mVocs_wfm_files = np.array(os.listdir(os.path.join(dataset_obj.data_dir, 'NIMH_Mvoc_WFM'))).astype(str)\n",
    "print(f\"mVocs waveforms in directory: {mVocs_wfm_files.size}\")\n",
    "\n",
    "mVocs_ids_used = np.array(dataset_obj.metadata.mVocs_ids).astype(str)\n",
    "print(f\"mVocs stimuli used (as per metadata): {mVocs_ids_used.size}\")"
   ]
  },
  {
   "cell_type": "code",
   "execution_count": 4,
   "metadata": {},
   "outputs": [
    {
     "name": "stdout",
     "output_type": "stream",
     "text": [
      "mVocs stimuli used (as per recording): 1568\n",
      "Files available: 1116\n",
      "Files not available: 452\n"
     ]
    }
   ],
   "source": [
    "mVocs_ids_rec_data = dataset_obj.exp_stim_ids['BMM3']\n",
    "mVocs_ids_rec_data = np.concatenate([mVocs_ids_rec_data['unique'], mVocs_ids_rec_data['repeated']]).astype(str)\n",
    "print(f\"mVocs stimuli used (as per recording): {mVocs_ids_rec_data.size}\")\n",
    "\n",
    "files_available = mVocs_ids_rec_data[np.isin(mVocs_ids_rec_data, mVocs_ids_used, invert=False)]\n",
    "files_not_available = mVocs_ids_rec_data[np.isin(mVocs_ids_rec_data, mVocs_ids_used, invert=True)]\n",
    "print(f\"Files available: {files_available.size}\")\n",
    "print(f\"Files not available: {files_not_available.size}\")"
   ]
  },
  {
   "cell_type": "code",
   "execution_count": 68,
   "metadata": {},
   "outputs": [
    {
     "name": "stdout",
     "output_type": "stream",
     "text": [
      "File available\n"
     ]
    }
   ],
   "source": [
    "if '03-Cue-263-Coo.wfm' in mVocs_wfm_files:\n",
    "\tprint(\"File available\")\n",
    "else:\n",
    "\tprint(\"File not available\")"
   ]
  },
  {
   "cell_type": "code",
   "execution_count": 59,
   "metadata": {},
   "outputs": [
    {
     "data": {
      "text/plain": [
       "array(['20-Cue-16-Scream.wfm', '10-Cue-02-Coo.wfm',\n",
       "       '35-Cue-208-Scream.wfm', '03-Cue-263-Coo.wfm',\n",
       "       '38-Cue-04-Scream.wfm', '47-Cue-262-Grunt.wfm',\n",
       "       '12-Cue-57-Grunt.wfm', '26-Cue-65-Coo.wfm', '46-Cue-11-Grunt.wfm',\n",
       "       '8-Cue-117-Coo.wfm', '42-Cue-04-Grunt.wfm', '22-Cue-136-Coo.wfm',\n",
       "       '8-Cue-70-Coo.wfm', '25-Cue-23-Scream.wfm', '35-Cue-50-Grunt.wfm',\n",
       "       '20-Cue-04-Scream.wfm', '38-Cue-02-Scream.wfm',\n",
       "       '03-Cue-412-Scream.wfm', '15-Cue-152-Coo.wfm', '15-Cue-54-Coo.wfm',\n",
       "       '47-Cue-81-Coo.wfm', '03-Cue-116-Grunt.wfm', '35-Cue-19-Grunt.wfm',\n",
       "       '12-Cue-133-Scream.wfm', '03-Cue-255-Coo.wfm',\n",
       "       '03-Cue-257-Coo.wfm', '04-Cue-16-Coo.wfm', '34-Cue-14-Coo.wfm',\n",
       "       '28-Cue-17-Coo.wfm', '21-Cue-56-Grunt.wfm', '35-Cue-107-Grunt.wfm',\n",
       "       '03-Cue-524-Grunt.wfm', '03-Cue-188-Coo.wfm',\n",
       "       '47-Cue-293-Grunt.wfm', '15-Cue-37-Coo.wfm',\n",
       "       '12-Cue-23-Scream.wfm', '34-Cue-61-Scream.wfm',\n",
       "       '8-Cue-110-Coo.wfm', '03-Cue-184-Grunt.wfm',\n",
       "       '35-Cue-170-Scream.wfm', '47-Cue-06-Coo.wfm', '35-Cue-168-Coo.wfm',\n",
       "       '22-Cue-140-Scream.wfm', '33-Cue-56-Coo.wfm', '38-Cue-11-Coo.wfm',\n",
       "       '21-Cue-34-Coo.wfm', '12-Cue-60-Grunt.wfm', '13-Cue-18-Coo.wfm',\n",
       "       '8-Cue-92-Coo.wfm', '15-Cue-175-Coo.wfm', '22-Cue-12-Grunt.wfm',\n",
       "       '47-Cue-05-Coo.wfm', '35-Cue-52-Grunt.wfm', '15-Cue-88-Coo.wfm',\n",
       "       '8-Cue-116-Coo.wfm', '15-Cue-13-Coo.wfm', '03-Cue-220-Grunt.wfm',\n",
       "       '35-Cue-45-Grunt.wfm', '13-Cue-09-Grunt.wfm', '03-Cue-225-Coo.wfm',\n",
       "       '21-Cue-53-Coo.wfm', '5-Cue-13-Scream.wfm', '15-Cue-94-Coo.wfm',\n",
       "       '03-Cue-165-Grunt.wfm', '5-Cue-90-Coo.wfm', '21-Cue-35-Coo.wfm',\n",
       "       '21-Cue-07-Coo.wfm', '25-Cue-31-Grunt.wfm', '03-Cue-98-Grunt.wfm',\n",
       "       '22-Cue-97-Grunt.wfm', '04-Cue-03-Coo.wfm', '8-Cue-03-Coo.wfm',\n",
       "       '15-Cue-01-Coo.wfm', '13-Cue-11-Coo.wfm', '15-Cue-16-Coo.wfm',\n",
       "       '47-Cue-52-Grunt.wfm', '12-Cue-66-Coo.wfm',\n",
       "       '03-Cue-435-Scream.wfm', '12-Cue-61-Grunt.wfm',\n",
       "       '04-Cue-02-Coo.wfm', '28-Cue-76-Coo.wfm', '34-Cue-17-Grunt.wfm',\n",
       "       '7-Cue-61-Grunt.wfm', '7-Cue-50-Scream.wfm', '8-Cue-131-Coo.wfm',\n",
       "       '03-Cue-114-Grunt.wfm', '15-Cue-07-Grunt.wfm',\n",
       "       '35-Cue-212-Scream.wfm', '8-Cue-114-Scream.wfm',\n",
       "       '7-Cue-59-Coo.wfm', '12-Cue-05-Grunt.wfm', '13-Cue-22-Coo.wfm',\n",
       "       '21-Cue-59-Grunt.wfm', '03-Cue-112-Coo.wfm', '21-Cue-18-Grunt.wfm',\n",
       "       '38-Cue-12-Grunt.wfm', '15-Cue-107-Coo.wfm', '20-Cue-09-Coo.wfm',\n",
       "       '35-Cue-72-Scream.wfm', '03-Cue-74-Coo.wfm',\n",
       "       '12-Cue-106-Grunt.wfm', '13-Cue-06-Coo.wfm', '15-Cue-116-Coo.wfm',\n",
       "       '33-Cue-10-Scream.wfm', '20-Cue-25-Coo.wfm', '23-Cue-06-Coo.wfm',\n",
       "       '8-Cue-42-Coo.wfm', '22-Cue-95-Grunt.wfm', '39-Cue-01-Coo.wfm',\n",
       "       '6-Cue-03-Coo.wfm', '03-Cue-160-Coo.wfm', '03-Cue-158-Coo.wfm',\n",
       "       '12-Cue-75-Scream.wfm', '43-Cue-34-Coo.wfm',\n",
       "       '38-Cue-03-Scream.wfm', '7-Cue-60-Scream.wfm',\n",
       "       '22-Cue-137-Grunt.wfm', '22-Cue-102-Coo.wfm', '35-Cue-135-Coo.wfm',\n",
       "       '12-Cue-59-Coo.wfm', '6-Cue-02-Coo.wfm', '15-Cue-117-Coo.wfm',\n",
       "       '36-Cue-14-Coo.wfm', '47-Cue-265-Grunt.wfm',\n",
       "       '14-Cue-04-Scream.wfm', '35-Cue-154-Coo.wfm', '13-Cue-34-Coo.wfm',\n",
       "       '22-Cue-98-Grunt.wfm', '34-Cue-50-Grunt.wfm', '35-Cue-204-Coo.wfm',\n",
       "       '7-Cue-18-Coo.wfm', '34-Cue-05-Coo.wfm', '47-Cue-281-Grunt.wfm',\n",
       "       '12-Cue-90-Coo.wfm', '47-Cue-22-Coo.wfm', '21-Cue-28-Coo.wfm',\n",
       "       '03-Cue-60-Scream.wfm', '19-Cue-01-Coo.wfm', '12-Cue-42-Grunt.wfm',\n",
       "       '9-Cue-39-Grunt.wfm', '03-Cue-498-Coo.wfm', '35-Cue-40-Grunt.wfm',\n",
       "       '03-Cue-377-Coo.wfm', '15-Cue-203-Coo.wfm', '03-Cue-256-Coo.wfm',\n",
       "       '28-Cue-15-Coo.wfm', '33-Cue-117-Scream.wfm', '43-Cue-11-Coo.wfm',\n",
       "       '40-Cue-24-Coo.wfm', '22-Cue-20-Grunt.wfm', '36-Cue-20-Scream.wfm',\n",
       "       '21-Cue-29-Coo.wfm', '12-Cue-101-Grunt.wfm',\n",
       "       '03-Cue-117-Grunt.wfm', '34-Cue-13-Coo.wfm',\n",
       "       '34-Cue-84-Scream.wfm', '12-Cue-77-Grunt.wfm',\n",
       "       '34-Cue-80-Scream.wfm', '03-Cue-201-Coo.wfm', '21-Cue-41-Coo.wfm',\n",
       "       '21-Cue-17-Grunt.wfm', '8-Cue-207-Grunt.wfm',\n",
       "       '34-Cue-62-Scream.wfm', '33-Cue-03-Grunt.wfm',\n",
       "       '03-Cue-141-Scream.wfm', '03-Cue-425-Coo.wfm',\n",
       "       '15-Cue-189-Coo.wfm', '33-Cue-119-Coo.wfm', '15-Cue-71-Coo.wfm',\n",
       "       '21-Cue-42-Coo.wfm', '38-Cue-08-Scream.wfm',\n",
       "       '03-Cue-407-Scream.wfm', '47-Cue-232-Coo.wfm',\n",
       "       '12-Cue-54-Grunt.wfm', '03-Cue-70-Grunt.wfm',\n",
       "       '35-Cue-207-Scream.wfm', '8-Cue-65-Coo.wfm', '15-Cue-63-Grunt.wfm',\n",
       "       '03-Cue-534-Grunt.wfm', '20-Cue-28-Coo.wfm', '15-Cue-180-Coo.wfm',\n",
       "       '47-Cue-160-Coo.wfm', '29-Cue-21-Coo.wfm', '15-Cue-181-Coo.wfm',\n",
       "       '8-Cue-27-Grunt.wfm', '8-Cue-56-Coo.wfm', '03-Cue-44-Grunt.wfm',\n",
       "       '38-Cue-09-Scream.wfm', '15-Cue-19-Coo.wfm',\n",
       "       '15-Cue-119-Grunt.wfm', '15-Cue-15-Scream.wfm',\n",
       "       '35-Cue-28-Coo.wfm', '03-Cue-105-Grunt.wfm',\n",
       "       '03-Cue-320-Scream.wfm', '03-Cue-111-Grunt.wfm',\n",
       "       '33-Cue-116-Coo.wfm', '20-Cue-14-Grunt.wfm',\n",
       "       '47-Cue-260-Grunt.wfm', '03-Cue-143-Grunt.wfm',\n",
       "       '13-Cue-24-Coo.wfm', '22-Cue-07-Grunt.wfm', '34-Cue-44-Grunt.wfm',\n",
       "       '22-Cue-156-Coo.wfm', '35-Cue-51-Grunt.wfm', '03-Cue-69-Grunt.wfm',\n",
       "       '22-Cue-160-Grunt.wfm', '15-Cue-129-Coo.wfm',\n",
       "       '8-Cue-158-Scream.wfm', '12-Cue-35-Coo.wfm', '21-Cue-16-Grunt.wfm',\n",
       "       '35-Cue-134-Coo.wfm', '12-Cue-21-Scream.wfm',\n",
       "       '47-Cue-263-Grunt.wfm', '33-Cue-23-Grunt.wfm', '8-Cue-86-Coo.wfm',\n",
       "       '03-Cue-311-Scream.wfm', '9-Cue-06-Grunt.wfm', '21-Cue-37-Coo.wfm',\n",
       "       '8-Cue-46-Coo.wfm', '33-Cue-95-Coo.wfm', '47-Cue-104-Coo.wfm',\n",
       "       '33-Cue-19-Coo.wfm', '8-Cue-139-Grunt.wfm', '03-Cue-200-Coo.wfm',\n",
       "       '33-Cue-105-Coo.wfm', '33-Cue-11-Grunt.wfm', '8-Cue-38-Scream.wfm',\n",
       "       '26-Cue-12-Coo.wfm', '46-Cue-08-Grunt.wfm', '8-Cue-53-Grunt.wfm',\n",
       "       '28-Cue-27-Coo.wfm', '03-Cue-368-Coo.wfm', '42-Cue-10-Scream.wfm',\n",
       "       '12-Cue-25-Scream.wfm', '34-Cue-19-Scream.wfm',\n",
       "       '20-Cue-02-Grunt.wfm', '5-Cue-15-Coo.wfm', '8-Cue-189-Coo.wfm',\n",
       "       '34-Cue-77-Grunt.wfm', '03-Cue-73-Grunt.wfm', '21-Cue-48-Coo.wfm',\n",
       "       '47-Cue-261-Grunt.wfm', '15-Cue-24-Coo.wfm', '13-Cue-35-Coo.wfm',\n",
       "       '36-Cue-07-Scream.wfm', '35-Cue-193-Coo.wfm',\n",
       "       '12-Cue-58-Grunt.wfm', '42-Cue-11-Coo.wfm', '34-Cue-06-Coo.wfm',\n",
       "       '20-Cue-13-Coo.wfm', '43-Cue-21-Coo.wfm', '03-Cue-445-Scream.wfm',\n",
       "       '34-Cue-63-Scream.wfm', '15-Cue-95-Coo.wfm', '12-Cue-40-Grunt.wfm',\n",
       "       '8-Cue-171-Coo.wfm', '15-Cue-173-Coo.wfm', '47-Cue-197-Coo.wfm',\n",
       "       '03-Cue-518-Grunt.wfm', '34-Cue-79-Scream.wfm',\n",
       "       '41-Cue-02-Grunt.wfm', '47-Cue-21-Coo.wfm', '15-Cue-26-Grunt.wfm',\n",
       "       '03-Cue-259-Coo.wfm', '25-Cue-10-Grunt.wfm',\n",
       "       '03-Cue-176-Grunt.wfm', '35-Cue-48-Grunt.wfm', '33-Cue-55-Coo.wfm',\n",
       "       '21-Cue-49-Coo.wfm', '36-Cue-06-Coo.wfm', '47-Cue-105-Scream.wfm',\n",
       "       '03-Cue-68-Grunt.wfm', '03-Cue-520-Grunt.wfm',\n",
       "       '24-Cue-01-Scream.wfm', '04-Cue-08-Grunt.wfm', '31-Cue-24-Coo.wfm',\n",
       "       '7-Cue-12-Scream.wfm', '20-Cue-26-Coo.wfm', '35-Cue-132-Coo.wfm',\n",
       "       '03-Cue-240-Coo.wfm', '21-Cue-67-Coo.wfm', '35-Cue-105-Grunt.wfm',\n",
       "       '28-Cue-36-Coo.wfm', '46-Cue-13-Coo.wfm', '40-Cue-28-Coo.wfm',\n",
       "       '03-Cue-177-Grunt.wfm', '12-Cue-36-Grunt.wfm',\n",
       "       '15-Cue-177-Scream.wfm', '35-Cue-31-Grunt.wfm',\n",
       "       '15-Cue-193-Coo.wfm', '35-Cue-128-Coo.wfm', '7-Cue-46-Coo.wfm',\n",
       "       '5-Cue-34-Coo.wfm', '03-Cue-468-Scream.wfm',\n",
       "       '12-Cue-27-Scream.wfm', '21-Cue-30-Coo.wfm',\n",
       "       '03-Cue-436-Scream.wfm', '34-Cue-78-Scream.wfm',\n",
       "       '04-Cue-15-Grunt.wfm', '12-Cue-135-Coo.wfm',\n",
       "       '35-Cue-106-Grunt.wfm', '9-Cue-28-Coo.wfm', '13-Cue-12-Coo.wfm',\n",
       "       '03-Cue-162-Coo.wfm', '26-Cue-04-Coo.wfm', '8-Cue-176-Coo.wfm',\n",
       "       '04-Cue-10-Coo.wfm', '35-Cue-197-Coo.wfm', '21-Cue-44-Coo.wfm',\n",
       "       '03-Cue-133-Grunt.wfm', '43-Cue-24-Scream.wfm',\n",
       "       '33-Cue-28-Grunt.wfm', '15-Cue-113-Grunt.wfm', '35-Cue-67-Coo.wfm',\n",
       "       '12-Cue-67-Scream.wfm', '35-Cue-149-Grunt.wfm',\n",
       "       '03-Cue-248-Coo.wfm', '12-Cue-132-Coo.wfm', '03-Cue-517-Grunt.wfm',\n",
       "       '21-Cue-64-Coo.wfm', '12-Cue-116-Coo.wfm', '35-Cue-29-Scream.wfm',\n",
       "       '5-Cue-12-Grunt.wfm', '47-Cue-167-Grunt.wfm',\n",
       "       '12-Cue-120-Scream.wfm', '21-Cue-33-Coo.wfm', '34-Cue-15-Coo.wfm',\n",
       "       '46-Cue-06-Grunt.wfm', '03-Cue-181-Grunt.wfm',\n",
       "       '03-Cue-61-Scream.wfm', '03-Cue-417-Coo.wfm', '15-Cue-70-Coo.wfm',\n",
       "       '47-Cue-253-Coo.wfm', '03-Cue-54-Grunt.wfm', '21-Cue-54-Coo.wfm',\n",
       "       '15-Cue-192-Scream.wfm', '33-Cue-123-Coo.wfm',\n",
       "       '03-Cue-213-Grunt.wfm', '03-Cue-476-Coo.wfm', '21-Cue-39-Coo.wfm',\n",
       "       '43-Cue-35-Coo.wfm', '21-Cue-09-Grunt.wfm', '40-Cue-23-Coo.wfm',\n",
       "       '03-Cue-429-Coo.wfm', '33-Cue-52-Grunt.wfm', '33-Cue-67-Grunt.wfm',\n",
       "       '47-Cue-58-Coo.wfm', '03-Cue-175-Grunt.wfm',\n",
       "       '47-Cue-292-Grunt.wfm', '47-Cue-96-Coo.wfm',\n",
       "       '13-Cue-15-Scream.wfm', '23-Cue-02-Coo.wfm', '35-Cue-47-Grunt.wfm',\n",
       "       '12-Cue-131-Coo.wfm', '33-Cue-27-Coo.wfm', '33-Cue-132-Coo.wfm',\n",
       "       '03-Cue-366-Scream.wfm', '12-Cue-134-Coo.wfm',\n",
       "       '15-Cue-148-Coo.wfm', '43-Cue-37-Scream.wfm', '8-Cue-184-Coo.wfm',\n",
       "       '33-Cue-118-Coo.wfm', '43-Cue-16-Coo.wfm', '03-Cue-174-Coo.wfm',\n",
       "       '03-Cue-310-Grunt.wfm', '47-Cue-277-Grunt.wfm',\n",
       "       '13-Cue-07-Grunt.wfm', '7-Cue-65-Coo.wfm', '03-Cue-516-Grunt.wfm',\n",
       "       '46-Cue-10-Grunt.wfm', '21-Cue-08-Coo.wfm',\n",
       "       '03-Cue-483-Scream.wfm', '35-Cue-131-Coo.wfm',\n",
       "       '03-Cue-528-Grunt.wfm', '13-Cue-54-Grunt.wfm',\n",
       "       '03-Cue-43-Grunt.wfm', '22-Cue-44-Coo.wfm', '12-Cue-64-Coo.wfm',\n",
       "       '16-Cue-02-Coo.wfm', '03-Cue-103-Grunt.wfm', '15-Cue-118-Coo.wfm',\n",
       "       '15-Cue-82-Coo.wfm', '03-Cue-489-Coo.wfm', '8-Cue-89-Coo.wfm',\n",
       "       '47-Cue-01-Coo.wfm', '03-Cue-478-Coo.wfm', '03-Cue-38-Grunt.wfm',\n",
       "       '03-Cue-519-Grunt.wfm', '13-Cue-14-Scream.wfm',\n",
       "       '15-Cue-52-Coo.wfm', '47-Cue-169-Coo.wfm', '33-Cue-122-Coo.wfm',\n",
       "       '43-Cue-22-Scream.wfm', '03-Cue-427-Coo.wfm', '12-Cue-65-Coo.wfm',\n",
       "       '26-Cue-93-Coo.wfm', '36-Cue-03-Coo.wfm', '15-Cue-100-Coo.wfm',\n",
       "       '41-Cue-03-Grunt.wfm', '04-Cue-05-Grunt.wfm', '03-Cue-306-Coo.wfm',\n",
       "       '21-Cue-66-Coo.wfm', '15-Cue-83-Grunt.wfm', '8-Cue-19-Coo.wfm',\n",
       "       '21-Cue-50-Coo.wfm', '36-Cue-05-Coo.wfm', '8-Cue-88-Coo.wfm',\n",
       "       '47-Cue-79-Grunt.wfm', '33-Cue-02-Coo.wfm', '13-Cue-01-Coo.wfm',\n",
       "       '47-Cue-31-Coo.wfm', '03-Cue-214-Coo.wfm', '03-Cue-222-Grunt.wfm',\n",
       "       '03-Cue-245-Coo.wfm', '03-Cue-254-Coo.wfm', '03-Cue-262-Coo.wfm',\n",
       "       '03-Cue-30-Grunt.wfm', '03-Cue-392-Coo.wfm',\n",
       "       '03-Cue-418-Scream.wfm', '03-Cue-446-Coo.wfm',\n",
       "       '03-Cue-52-Grunt.wfm', '03-Cue-72-Grunt.wfm', '04-Cue-01-Coo.wfm',\n",
       "       '13-Cue-02-Coo.wfm', '13-Cue-23-Grunt.wfm', '15-Cue-104-Coo.wfm',\n",
       "       '15-Cue-130-Coo.wfm', '15-Cue-174-Coo.wfm', '15-Cue-195-Coo.wfm',\n",
       "       '15-Cue-62-Coo.wfm', '18-Cue-03-Coo.wfm', '21-Cue-02-Coo.wfm',\n",
       "       '21-Cue-05-Scream.wfm', '21-Cue-06-Grunt.wfm', '21-Cue-45-Coo.wfm',\n",
       "       '22-Cue-101-Coo.wfm', '22-Cue-103-Grunt.wfm', '28-Cue-61-Coo.wfm',\n",
       "       '33-Cue-68-Grunt.wfm', '33-Cue-79-Grunt.wfm',\n",
       "       '33-Cue-88-Scream.wfm', '35-Cue-124-Coo.wfm', '35-Cue-146-Coo.wfm',\n",
       "       '46-Cue-02-Grunt.wfm', '47-Cue-07-Coo.wfm', '47-Cue-255-Coo.wfm',\n",
       "       '47-Cue-279-Grunt.wfm', '5-Cue-42-Coo.wfm', '5-Cue-53-Coo.wfm',\n",
       "       '7-Cue-20-Scream.wfm', '7-Cue-21-Coo.wfm', '8-Cue-73-Coo.wfm'],\n",
       "      dtype='<U21')"
      ]
     },
     "execution_count": 59,
     "metadata": {},
     "output_type": "execute_result"
    }
   ],
   "source": [
    "files_not_available"
   ]
  },
  {
   "cell_type": "code",
   "execution_count": 55,
   "metadata": {},
   "outputs": [
    {
     "data": {
      "text/plain": [
       "(1116,)"
      ]
     },
     "execution_count": 55,
     "metadata": {},
     "output_type": "execute_result"
    }
   ],
   "source": [
    "mVocs_ids_rec_data[np.isin(mVocs_ids_rec_data, mVocs_ids_used, invert=False)]"
   ]
  },
  {
   "cell_type": "code",
   "execution_count": 56,
   "metadata": {},
   "outputs": [
    {
     "data": {
      "text/plain": [
       "(452,)"
      ]
     },
     "execution_count": 56,
     "metadata": {},
     "output_type": "execute_result"
    }
   ],
   "source": [
    "mVocs_ids_rec_data[np.isin(mVocs_ids_rec_data, mVocs_ids_used, invert=True)].shape"
   ]
  },
  {
   "cell_type": "code",
   "execution_count": 43,
   "metadata": {},
   "outputs": [
    {
     "data": {
      "text/plain": [
       "{'BMM3': {'unique': array(['20-Cue-16-Scream.wfm', '10-Cue-02-Coo.wfm',\n",
       "         '35-Cue-208-Scream.wfm', ..., '40-Cue-16-Grunt.wfm',\n",
       "         '03-Cue-488-Coo.wfm', '43-Cue-03-Grunt.wfm'], dtype='<U21'),\n",
       "  'repeated': array(['03-Cue-04-Coo.wfm', '03-Cue-11-Grunt.wfm', '03-Cue-145-Grunt.wfm',\n",
       "         '03-Cue-198-Grunt.wfm', '03-Cue-210-Grunt.wfm',\n",
       "         '03-Cue-214-Coo.wfm', '03-Cue-222-Grunt.wfm', '03-Cue-245-Coo.wfm',\n",
       "         '03-Cue-254-Coo.wfm', '03-Cue-262-Coo.wfm',\n",
       "         '03-Cue-288-Scream.wfm', '03-Cue-291-Scream.wfm',\n",
       "         '03-Cue-30-Grunt.wfm', '03-Cue-303-Coo.wfm',\n",
       "         '03-Cue-358-Scream.wfm', '03-Cue-381-Scream.wfm',\n",
       "         '03-Cue-392-Coo.wfm', '03-Cue-393-Scream.wfm',\n",
       "         '03-Cue-400-Scream.wfm', '03-Cue-418-Scream.wfm',\n",
       "         '03-Cue-433-Scream.wfm', '03-Cue-446-Coo.wfm',\n",
       "         '03-Cue-471-Scream.wfm', '03-Cue-501-Scream.wfm',\n",
       "         '03-Cue-52-Grunt.wfm', '03-Cue-72-Grunt.wfm',\n",
       "         '03-Cue-75-Grunt.wfm', '04-Cue-01-Coo.wfm', '04-Cue-06-Coo.wfm',\n",
       "         '12-Cue-04-Grunt.wfm', '12-Cue-33-Scream.wfm',\n",
       "         '12-Cue-99-Grunt.wfm', '13-Cue-02-Coo.wfm', '13-Cue-23-Grunt.wfm',\n",
       "         '15-Cue-08-Scream.wfm', '15-Cue-102-Coo.wfm', '15-Cue-104-Coo.wfm',\n",
       "         '15-Cue-127-Coo.wfm', '15-Cue-130-Coo.wfm', '15-Cue-17-Grunt.wfm',\n",
       "         '15-Cue-174-Coo.wfm', '15-Cue-195-Coo.wfm', '15-Cue-25-Grunt.wfm',\n",
       "         '15-Cue-41-Grunt.wfm', '15-Cue-48-Coo.wfm', '15-Cue-59-Scream.wfm',\n",
       "         '15-Cue-62-Coo.wfm', '18-Cue-03-Coo.wfm', '20-Cue-18-Coo.wfm',\n",
       "         '21-Cue-02-Coo.wfm', '21-Cue-05-Scream.wfm', '21-Cue-06-Grunt.wfm',\n",
       "         '21-Cue-24-Grunt.wfm', '21-Cue-45-Coo.wfm', '22-Cue-101-Coo.wfm',\n",
       "         '22-Cue-103-Grunt.wfm', '22-Cue-109-Scream.wfm',\n",
       "         '22-Cue-122-Grunt.wfm', '22-Cue-131-Scream.wfm',\n",
       "         '22-Cue-138-Scream.wfm', '22-Cue-144-Grunt.wfm',\n",
       "         '22-Cue-154-Grunt.wfm', '22-Cue-18-Grunt.wfm',\n",
       "         '22-Cue-55-Grunt.wfm', '22-Cue-78-Grunt.wfm',\n",
       "         '25-Cue-34-Grunt.wfm', '26-Cue-10-Coo.wfm', '26-Cue-25-Coo.wfm',\n",
       "         '26-Cue-71-Coo.wfm', '27-Cue-11-Scream.wfm', '27-Cue-14-Grunt.wfm',\n",
       "         '27-Cue-30-Coo.wfm', '27-Cue-46-Scream.wfm', '28-Cue-42-Coo.wfm',\n",
       "         '28-Cue-54-Coo.wfm', '28-Cue-57-Grunt.wfm', '28-Cue-61-Coo.wfm',\n",
       "         '28-Cue-71-Coo.wfm', '28-Cue-75-Coo.wfm', '29-Cue-03-Coo.wfm',\n",
       "         '29-Cue-07-Coo.wfm', '30-Cue-01-Coo.wfm', '31-Cue-11-Grunt.wfm',\n",
       "         '33-Cue-114-Grunt.wfm', '33-Cue-125-Coo.wfm',\n",
       "         '33-Cue-127-Scream.wfm', '33-Cue-26-Grunt.wfm',\n",
       "         '33-Cue-54-Grunt.wfm', '33-Cue-68-Grunt.wfm',\n",
       "         '33-Cue-79-Grunt.wfm', '33-Cue-88-Scream.wfm',\n",
       "         '34-Cue-41-Grunt.wfm', '34-Cue-87-Grunt.wfm',\n",
       "         '35-Cue-100-Grunt.wfm', '35-Cue-117-Scream.wfm',\n",
       "         '35-Cue-12-Grunt.wfm', '35-Cue-124-Coo.wfm',\n",
       "         '35-Cue-143-Grunt.wfm', '35-Cue-146-Coo.wfm',\n",
       "         '35-Cue-181-Grunt.wfm', '35-Cue-213-Grunt.wfm',\n",
       "         '35-Cue-44-Grunt.wfm', '35-Cue-63-Scream.wfm',\n",
       "         '35-Cue-69-Grunt.wfm', '35-Cue-99-Grunt.wfm', '40-Cue-08-Coo.wfm',\n",
       "         '40-Cue-40-Grunt.wfm', '42-Cue-07-Grunt.wfm',\n",
       "         '43-Cue-09-Scream.wfm', '46-Cue-02-Grunt.wfm', '47-Cue-07-Coo.wfm',\n",
       "         '47-Cue-131-Grunt.wfm', '47-Cue-132-Grunt.wfm',\n",
       "         '47-Cue-141-Scream.wfm', '47-Cue-147-Coo.wfm',\n",
       "         '47-Cue-153-Scream.wfm', '47-Cue-157-Coo.wfm',\n",
       "         '47-Cue-186-Grunt.wfm', '47-Cue-206-Scream.wfm',\n",
       "         '47-Cue-212-Coo.wfm', '47-Cue-219-Grunt.wfm', '47-Cue-248-Coo.wfm',\n",
       "         '47-Cue-249-Coo.wfm', '47-Cue-255-Coo.wfm', '47-Cue-279-Grunt.wfm',\n",
       "         '47-Cue-285-Grunt.wfm', '47-Cue-33-Coo.wfm', '47-Cue-43-Grunt.wfm',\n",
       "         '47-Cue-45-Grunt.wfm', '47-Cue-55-Grunt.wfm', '47-Cue-95-Coo.wfm',\n",
       "         '5-Cue-103-Scream.wfm', '5-Cue-107-Grunt.wfm', '5-Cue-42-Coo.wfm',\n",
       "         '5-Cue-53-Coo.wfm', '5-Cue-71-Grunt.wfm', '7-Cue-06-Scream.wfm',\n",
       "         '7-Cue-13-Coo.wfm', '7-Cue-20-Scream.wfm', '7-Cue-21-Coo.wfm',\n",
       "         '7-Cue-35-Grunt.wfm', '7-Cue-55-Grunt.wfm', '8-Cue-111-Coo.wfm',\n",
       "         '8-Cue-126-Grunt.wfm', '8-Cue-128-Grunt.wfm', '8-Cue-160-Coo.wfm',\n",
       "         '8-Cue-165-Scream.wfm', '8-Cue-166-Grunt.wfm',\n",
       "         '8-Cue-222-Grunt.wfm', '8-Cue-39-Grunt.wfm', '8-Cue-50-Coo.wfm',\n",
       "         '8-Cue-73-Coo.wfm', '9-Cue-21-Grunt.wfm'], dtype='<U21')},\n",
       " 'BMT3': {'unique': array(['384-mpeb0_si1034.wfm', '33-fdfb0_si2010.wfm',\n",
       "         '3-falr0_si1955.wfm', '470-mtlb0_si1764.wfm', '9-fbmj0_si815.wfm',\n",
       "         '361-mmdm2_si1555.wfm', '372-mmpm0_si2321.wfm',\n",
       "         '123-frll0_si1514.wfm', '190-mcrc0_si1092.wfm',\n",
       "         '223-mdpk0_si552.wfm', '20-fcke0_si1111.wfm',\n",
       "         '334-mkjo0_si2147.wfm', '234-mdtb0_si1830.wfm',\n",
       "         '280-mjbr0_si1001.wfm', '82-flas0_si1026.wfm',\n",
       "         '202-mdbb1_si1636.wfm', '284-mjdc0_si2165.wfm',\n",
       "         '59-fjhk0_si1652.wfm', '116-fpkt0_si2168.wfm',\n",
       "         '286-mjdg0_si1705.wfm', '331-mkdb0_si588.wfm',\n",
       "         '434-mrtj0_si2032.wfm', '91-flkd0_si1369.wfm',\n",
       "         '391-mprt0_si495.wfm', '40-fdrd1_si1544.wfm',\n",
       "         '290-mjdm0_si974.wfm', '351-mmam0_si2227.wfm',\n",
       "         '197-mcxm0_si721.wfm', '58-fjcs0_si1833.wfm', '2-faem0_si2022.wfm',\n",
       "         '244-mers0_si1649.wfm', '200-mdac2_si999.wfm',\n",
       "         '327-mkag0_si2239.wfm', '354-mmdb0_si1617.wfm',\n",
       "         '85-flhd0_si1827.wfm', '32-fdfb0_si1948.wfm',\n",
       "         '257-mgaf0_si652.wfm', '248-mewm0_si1978.wfm',\n",
       "         '374-mmrp0_si717.wfm', '428-mrms0_si2100.wfm',\n",
       "         '316-mjrk0_si1662.wfm', '237-mdwd0_si557.wfm',\n",
       "         '21-fclt0_si2068.wfm', '348-mmab1_si1494.wfm',\n",
       "         '322-mjvw0_si1758.wfm', '133-fslb1_si644.wfm',\n",
       "         '277-mjar0_si1988.wfm', '456-mstf0_si766.wfm',\n",
       "         '475-mtpr0_si506.wfm', '221-mdmt0_si2341.wfm',\n",
       "         '319-mjsw0_si1640.wfm', '107-fmld0_si925.wfm',\n",
       "         '445-msdb0_si2267.wfm', '229-mdsj0_si2092.wfm',\n",
       "         '405-mrem0_si961.wfm', '210-mdlc0_si765.wfm',\n",
       "         '115-fpaz0_si1593.wfm', '463-mtdb0_si2031.wfm',\n",
       "         '94-flmk0_si2295.wfm', '17-fcft0_si548.wfm',\n",
       "         '449-msjs1_si1899.wfm', '464-mtdp0_si1274.wfm',\n",
       "         '443-msat0_si2156.wfm', '70-fjsj0_si854.wfm',\n",
       "         '250-mfrm0_si1717.wfm', '97-fltm0_si2330.wfm',\n",
       "         '363-mmds0_si713.wfm', '86-flja0_si1708.wfm',\n",
       "         '167-mbjk0_si545.wfm', '385-mpfu0_si1888.wfm',\n",
       "         '346-mlll0_si1993.wfm', '35-fdjh0_si1565.wfm',\n",
       "         '298-mjjb0_si1769.wfm', '101-fmbg0_si2264.wfm',\n",
       "         '377-mmws1_si1701.wfm', '92-flma0_si1243.wfm',\n",
       "         '246-mesj0_si2257.wfm', '139-ftaj0_si474.wfm',\n",
       "         '420-mrjo0_si1624.wfm', '241-medr0_si1374.wfm',\n",
       "         '262-mgaw0_si535.wfm', '26-fcmr0_si1735.wfm',\n",
       "         '117-fpls0_si1590.wfm', '353-mmcc0_si1968.wfm',\n",
       "         '147-mabw0_si1664.wfm', '57-fjas0_si2030.wfm',\n",
       "         '69-fjsj0_si2114.wfm', '228-mdsc0_si2298.wfm',\n",
       "         '218-mdls0_si998.wfm', '423-mrjt0_si1805.wfm',\n",
       "         '268-mgrt0_si2080.wfm', '118-fpmy0_si1783.wfm',\n",
       "         '498-mwsb0_si2256.wfm', '214-mdlf0_si2213.wfm',\n",
       "         '347-mlns0_si1407.wfm', '460-mtas0_si755.wfm',\n",
       "         '182-mcal0_si508.wfm', '125-fsak0_si1930.wfm',\n",
       "         '279-mjbg0_si1724.wfm', '137-fssb0_si2342.wfm',\n",
       "         '177-mbsb0_si1983.wfm', '130-fsjs0_si1171.wfm',\n",
       "         '235-mdvc0_si2174.wfm', '301-mjlb0_si2246.wfm',\n",
       "         '238-mdwh0_si1925.wfm', '415-mrjh0_si914.wfm',\n",
       "         '98-fmah0_si1289.wfm', '104-fmjf0_si1884.wfm',\n",
       "         '495-mwre0_si1687.wfm', '239-mdwk0_si910.wfm',\n",
       "         '112-fpac0_si2011.wfm', '6-fbcg1_si2242.wfm',\n",
       "         '261-mgar0_si1842.wfm', '497-mwrp0_si1525.wfm',\n",
       "         '266-mgrl0_si1497.wfm', '156-makr0_si722.wfm',\n",
       "         '328-mkch0_si1425.wfm', '119-freh0_si685.wfm',\n",
       "         '161-mbar0_si1949.wfm', '458-mtab0_si2202.wfm',\n",
       "         '432-mrpp0_si1814.wfm', '253-mfxs0_si1674.wfm',\n",
       "         '486-mwad0_si2322.wfm', '111-fntb0_si573.wfm',\n",
       "         '135-fsrh0_si1719.wfm', '356-mmdg0_si2035.wfm',\n",
       "         '49-fetb0_si1148.wfm', '259-mgak0_si2296.wfm',\n",
       "         '461-mtat1_si1627.wfm', '251-mfwk0_si1249.wfm',\n",
       "         '332-mkdt0_si2153.wfm', '198-mdab0_si1669.wfm',\n",
       "         '448-msfv0_si1262.wfm', '75-fkfb0_si2238.wfm',\n",
       "         '310-mjpg0_si1191.wfm', '471-mtls0_si740.wfm',\n",
       "         '381-mntw0_si2328.wfm', '175-mbom0_si2274.wfm',\n",
       "         '485-mwad0_si1749.wfm', '433-mrrk0_si1716.wfm',\n",
       "         '480-mtwh0_si1629.wfm', '225-mdrd0_si1382.wfm',\n",
       "         '71-fjsp0_si1763.wfm', '452-msmc0_si1907.wfm',\n",
       "         '427-mrml0_si2051.wfm', '199-mdac0_si1837.wfm',\n",
       "         '233-mdtb0_si1200.wfm', '81-flag0_si2094.wfm',\n",
       "         '272-mhpg0_si1720.wfm', '39-fdnc0_si2287.wfm',\n",
       "         '323-mjwg0_si2155.wfm', '23-fcmh1_si1493.wfm',\n",
       "         '100-fmbg0_si1790.wfm', '296-mjhi0_si555.wfm',\n",
       "         '422-mrjs0_si2074.wfm', '435-mrtk0_si1723.wfm',\n",
       "         '230-mdss0_si1881.wfm', '417-mrjm3_si1809.wfm',\n",
       "         '215-mdlh0_si574.wfm', '410-mrfk0_si2336.wfm',\n",
       "         '224-mdrb0_si1174.wfm', '444-msat0_si896.wfm',\n",
       "         '311-mjpm1_si1897.wfm', '188-mclk0_si1660.wfm',\n",
       "         '407-mrew1_si1500.wfm', '305-mjmd0_si1028.wfm',\n",
       "         '437-mrvg0_si510.wfm', '403-mreb0_si745.wfm',\n",
       "         '291-mjdm1_si455.wfm', '365-mmeb0_si1987.wfm',\n",
       "         '337-mkls0_si1533.wfm', '205-mdef0_si2193.wfm',\n",
       "         '313-mjrf0_si1114.wfm', '211-mdlc1_si2144.wfm',\n",
       "         '367-mmgc0_si2184.wfm', '276-mjae0_si2154.wfm',\n",
       "         '450-msjs1_si639.wfm', '269-mgsl0_si534.wfm',\n",
       "         '231-mdss0_si621.wfm', '472-mtpg0_si2013.wfm',\n",
       "         '459-mtas0_si2015.wfm', '451-mslb0_si1193.wfm',\n",
       "         '178-mbth0_si757.wfm', '47-feeh0_si471.wfm',\n",
       "         '106-fmkc0_si1702.wfm', '479-mtrt0_si597.wfm',\n",
       "         '487-mwar0_si2305.wfm', '99-fmah1_si2139.wfm',\n",
       "         '350-mmam0_si1668.wfm', '203-mdcd0_si2045.wfm',\n",
       "         '317-mjrk0_si2103.wfm', '414-mrgs0_si1986.wfm',\n",
       "         '400-mrcz0_si2171.wfm', '170-mbma0_si592.wfm',\n",
       "         '216-mdlm0_si1864.wfm', '419-mrjm4_si2119.wfm',\n",
       "         '408-mrew1_si2130.wfm', '344-mlel0_si1876.wfm',\n",
       "         '131-fskc0_si786.wfm', '28-fcrh0_si1718.wfm',\n",
       "         '243-mejl0_si1592.wfm', '341-mklw0_si1844.wfm',\n",
       "         '256-mfxv0_si1635.wfm', '309-mjmp0_si1535.wfm',\n",
       "         '194-mctt0_si1144.wfm', '245-mesg0_si1962.wfm',\n",
       "         '109-fnkl0_si2152.wfm', '96-fltm0_si1070.wfm',\n",
       "         '390-mprd0_si2061.wfm', '477-mtrc0_si1623.wfm',\n",
       "         '421-mrjs0_si1523.wfm', '299-mjjg0_si2263.wfm',\n",
       "         '411-mrfl0_si1786.wfm', '1-fadg0_si1279.wfm',\n",
       "         '254-mfxs0_si2225.wfm', '79-flac0_si2161.wfm',\n",
       "         '163-mbbr0_si2315.wfm', '62-fjlg0_si1506.wfm',\n",
       "         '45-fear0_si1882.wfm', '418-mrjm4_si1489.wfm',\n",
       "         '136-fsrh0_si1931.wfm', '95-flod0_si1917.wfm',\n",
       "         '336-mklr0_si2319.wfm', '494-mwjg0_si494.wfm',\n",
       "         '242-megj0_si1967.wfm', '227-mdrm0_si2273.wfm',\n",
       "         '12-fcaj0_si1479.wfm', '172-mbml0_si1169.wfm',\n",
       "         '165-mbdg0_si833.wfm', '293-mjfc0_si1033.wfm',\n",
       "         '196-mctw0_si743.wfm', '5-fbcg1_si1612.wfm', '66-fjre0_si1116.wfm',\n",
       "         '30-fdas1_si2091.wfm', '436-mrvg0_si1770.wfm',\n",
       "         '483-mvlo0_si1777.wfm', '466-mthc0_si2275.wfm',\n",
       "         '389-mprb0_si1205.wfm', '89-fljd0_si886.wfm',\n",
       "         '413-mrgg0_si569.wfm', '398-mrbc0_si1665.wfm',\n",
       "         '31-fdaw0_si1406.wfm', '173-mbml0_si539.wfm',\n",
       "         '56-fisb0_si2209.wfm', '88-fljd0_si2146.wfm',\n",
       "         '426-mrlj1_si2332.wfm', '397-mrav0_si1008.wfm',\n",
       "         '295-mjfr0_si2235.wfm', '185-mcdd0_si1513.wfm',\n",
       "         '102-fmcm0_si1810.wfm', '474-mtpp0_si878.wfm',\n",
       "         '247-mewm0_si1348.wfm', '393-mpsw0_si2327.wfm',\n",
       "         '76-fklc0_si2245.wfm', '87-flja0_si2338.wfm',\n",
       "         '48-feme0_si2135.wfm', '226-mdrm0_si1643.wfm',\n",
       "         '14-fceg0_si1878.wfm', '330-mkcl0_si1721.wfm',\n",
       "         '192-mcth0_si1839.wfm', '110-fnlp0_si678.wfm',\n",
       "         '260-mgar0_si1694.wfm', '78-fklc1_si2308.wfm',\n",
       "         '465-mtdt0_si2254.wfm', '65-fjrb0_si672.wfm',\n",
       "         '478-mtrc0_si993.wfm', '303-mjln0_si2079.wfm',\n",
       "         '481-mtwh1_si2142.wfm', '93-flmc0_si2002.wfm',\n",
       "         '19-fcjs0_si2237.wfm', '325-mjxa0_si877.wfm',\n",
       "         '54-fgrw0_si1990.wfm', '43-fdxw0_si2141.wfm',\n",
       "         '338-mkls1_si2175.wfm', '343-mlbc0_si1869.wfm',\n",
       "         '255-mfxs0_si2304.wfm', '236-mdwa0_si1445.wfm',\n",
       "         '10-fcag0_si1503.wfm', '25-fcmm0_si453.wfm',\n",
       "         '146-mabc0_si1620.wfm', '84-fleh0_si1681.wfm',\n",
       "         '304-mjls0_si466.wfm', '442-msah1_si1679.wfm',\n",
       "         '44-feac0_si1245.wfm', '446-msdh0_si2113.wfm',\n",
       "         '289-mjdm0_si1937.wfm', '285-mjde0_si463.wfm',\n",
       "         '399-mrcs0_si1223.wfm', '492-mwew0_si1361.wfm',\n",
       "         '108-fnkl0_si1522.wfm', '160-marw0_si646.wfm',\n",
       "         '64-fjlr0_si1861.wfm', '52-fgjd0_si1179.wfm',\n",
       "         '179-mbwm0_si1934.wfm', '42-fdxw0_si1511.wfm',\n",
       "         '438-mrwa0_si1603.wfm', '489-mwdk0_si2017.wfm',\n",
       "         '55-fhlm0_si1560.wfm', '46-fedw0_si1653.wfm',\n",
       "         '61-fjkl0_si2192.wfm', '274-milb0_si2163.wfm',\n",
       "         '300-mjjj0_si1793.wfm', '488-mwch0_si1895.wfm',\n",
       "         '376-mmws0_si559.wfm', '430-mrpc0_si933.wfm',\n",
       "         '267-mgrp0_si1947.wfm', '217-mdls0_si2258.wfm',\n",
       "         '219-mdma0_si1238.wfm', '249-mfer0_si2122.wfm',\n",
       "         '77-fklc1_si1678.wfm', '425-mrlj0_si2050.wfm',\n",
       "         '105-fmju0_si2019.wfm', '431-mrpc1_si2026.wfm',\n",
       "         '213-mdld0_si1543.wfm', '204-mddc0_si2049.wfm',\n",
       "         '406-mres0_si1847.wfm', '150-maeb0_si2250.wfm',\n",
       "         '416-mrjm0_si1095.wfm', '379-mmxs0_si876.wfm',\n",
       "         '126-fsbk0_si1699.wfm', '302-mjlb0_si986.wfm',\n",
       "         '314-mjrg0_si1996.wfm', '352-mmbs0_si1781.wfm',\n",
       "         '388-mpgr0_si780.wfm', '122-frjb0_si1794.wfm',\n",
       "         '36-fdml0_si1779.wfm', '252-mfwk0_si1879.wfm',\n",
       "         '496-mwre0_si2317.wfm', '339-mklt0_si1213.wfm',\n",
       "         '454-msms0_si2063.wfm', '184-mcdc0_si1922.wfm',\n",
       "         '60-fjkl0_si1562.wfm', '34-fdhc0_si2189.wfm',\n",
       "         '37-fdml0_si2075.wfm', '333-mkjl0_si470.wfm',\n",
       "         '157-marc0_si1188.wfm', '270-mhit0_si2243.wfm',\n",
       "         '490-mwem0_si1393.wfm', '15-fceg0_si618.wfm',\n",
       "         '127-fsdc0_si2234.wfm', '209-mdks0_si1696.wfm',\n",
       "         '409-mrfk0_si1706.wfm', '141-ftmg0_si1532.wfm',\n",
       "         '18-fcjs0_si1607.wfm', '38-fdms0_si1218.wfm',\n",
       "         '321-mjth0_si1926.wfm', '232-mdss1_si1713.wfm',\n",
       "         '326-mjxl0_si1795.wfm', '80-flac0_si901.wfm',\n",
       "         '453-msmr0_si775.wfm', '220-mdmt0_si1832.wfm',\n",
       "         '462-mtcs0_si1972.wfm', '357-mmdm0_si1941.wfm',\n",
       "         '283-mjdc0_si1161.wfm', '320-mjsw0_si2270.wfm',\n",
       "         '499-mzmb0_si1796.wfm', '468-mtjs0_si1192.wfm',\n",
       "         '129-fsjk1_si2285.wfm', '155-makr0_si1352.wfm',\n",
       "         '134-fspm0_si611.wfm', '222-mdpk0_si1683.wfm',\n",
       "         '162-mbbr0_si1685.wfm', '50-fgcs0_si856.wfm',\n",
       "         '424-mrld0_si2224.wfm', '159-marw0_si1906.wfm',\n",
       "         '342-mkxl0_si1185.wfm', '166-mbef0_si1911.wfm',\n",
       "         '368-mmgk0_si1952.wfm', '467-mtjg0_si2157.wfm',\n",
       "         '383-mpar0_si946.wfm', '476-mtqc0_si480.wfm', '7-fbjl0_si2182.wfm',\n",
       "         '191-mcre0_si1725.wfm', '287-mjdh0_si1984.wfm',\n",
       "         '349-mmab1_si2124.wfm', '176-mbpm0_si1577.wfm',\n",
       "         '121-frew0_si1910.wfm', '355-mmdb1_si1625.wfm',\n",
       "         '152-mafm0_si2199.wfm', '264-mgjf0_si776.wfm',\n",
       "         '11-fcag0_si1641.wfm', '366-mmeb0_si727.wfm',\n",
       "         '493-mwew0_si731.wfm', '212-mdlc2_si2244.wfm',\n",
       "         '457-mtaa0_si596.wfm', '24-fcmm0_si1083.wfm',\n",
       "         '51-fgdp0_si1618.wfm', '386-mpfu0_si628.wfm',\n",
       "         '297-mjjb0_si1277.wfm', '359-mmdm1_si1650.wfm',\n",
       "         '318-mjrp0_si1835.wfm', '201-mdas0_si1266.wfm',\n",
       "         '369-mmjb1_si778.wfm', '22-fcmh0_si2084.wfm',\n",
       "         '358-mmdm0_si681.wfm', '324-mjws0_si1143.wfm',\n",
       "         '429-mroa0_si677.wfm', '67-fjre0_si1746.wfm',\n",
       "         '307-mjmm0_si1885.wfm', '143-fvfb0_si2292.wfm',\n",
       "         '169-mbma0_si1852.wfm', '180-mbwp0_si1531.wfm',\n",
       "         '68-fjrp1_si802.wfm', '154-majp0_si1074.wfm',\n",
       "         '329-mkch0_si2008.wfm', '208-mdks0_si1066.wfm',\n",
       "         '370-mmlm0_si1527.wfm', '158-marc0_si1818.wfm',\n",
       "         '265-mglb0_si2164.wfm', '375-mmwh0_si1089.wfm',\n",
       "         '29-fcrz0_si2053.wfm', '364-mmea0_si2018.wfm',\n",
       "         '371-mmlm0_si897.wfm', '281-mjbr0_si2261.wfm',\n",
       "         '482-mtxs0_si1690.wfm', '469-mtju0_si2269.wfm',\n",
       "         '288-mjdh0_si724.wfm', '439-mrws0_si1732.wfm',\n",
       "         '380-mnjm0_si2210.wfm', '382-mpam1_si1029.wfm',\n",
       "         '113-fpad0_si1976.wfm', '335-mklr0_si1689.wfm',\n",
       "         '128-fsdj0_si485.wfm', '455-msrg0_si1851.wfm',\n",
       "         '8-fbmh0_si1766.wfm', '207-mdhs0_si2160.wfm',\n",
       "         '271-mhmr0_si1119.wfm', '275-mjac0_si2148.wfm',\n",
       "         '392-mpsw0_si1067.wfm', '378-mmws1_si2331.wfm',\n",
       "         '90-fljg0_si2241.wfm', '132-fskp0_si1728.wfm',\n",
       "         '258-mgag0_si645.wfm', '63-fjlg0_si2306.wfm',\n",
       "         '294-mjfc0_si1663.wfm', '149-madd0_si1295.wfm',\n",
       "         '168-mbjv0_si1877.wfm', '83-flbw0_si2253.wfm',\n",
       "         '74-fkde0_si2221.wfm', '181-mcal0_si1768.wfm',\n",
       "         '441-msah1_si1049.wfm', '273-mhrm0_si1475.wfm',\n",
       "         '395-mrab0_si594.wfm', '447-msdh0_si2240.wfm',\n",
       "         '171-mbma1_si2207.wfm', '114-fpas0_si944.wfm',\n",
       "         '144-fvkb0_si1159.wfm', '306-mjmd0_si1658.wfm',\n",
       "         '282-mjda0_si1661.wfm', '140-ftbw0_si1345.wfm',\n",
       "         '473-mtpp0_si2138.wfm'], dtype='<U20'),\n",
       "  'repeated': array(['103-fmjf0_si1254.wfm', '120-frew0_si1030.wfm',\n",
       "         '124-fsah0_si1874.wfm', '13-fcaj0_si1804.wfm',\n",
       "         '138-ftaj0_si1329.wfm', '142-ftmg0_si2162.wfm',\n",
       "         '145-fvkb0_si1789.wfm', '148-mabw0_si2294.wfm',\n",
       "         '151-maeo0_si1956.wfm', '153-majc0_si2095.wfm',\n",
       "         '16-fcft0_si1808.wfm', '164-mbcg0_si486.wfm',\n",
       "         '174-mbom0_si1644.wfm', '183-mccs0_si2099.wfm',\n",
       "         '186-mcem0_si1398.wfm', '187-mchh0_si1634.wfm',\n",
       "         '189-mcmb0_si1898.wfm', '193-mctm0_si720.wfm',\n",
       "         '195-mctw0_si2003.wfm', '206-mdhs0_si1530.wfm',\n",
       "         '240-meal0_si2177.wfm', '263-mges0_si1481.wfm',\n",
       "         '278-mjar0_si2247.wfm', '292-mjeb0_si656.wfm',\n",
       "         '308-mjmm0_si625.wfm', '315-mjrh0_si1125.wfm',\n",
       "         '340-mklt0_si583.wfm', '345-mljc0_si1855.wfm',\n",
       "         '360-mmdm1_si2043.wfm', '362-mmds0_si1973.wfm',\n",
       "         '373-mmrp0_si2034.wfm', '387-mpgh0_si924.wfm',\n",
       "         '394-mrab0_si1224.wfm', '396-mram0_si1905.wfm',\n",
       "         '4-fawf0_si1000.wfm', '401-mrdm0_si1595.wfm',\n",
       "         '402-mrds0_si1167.wfm', '404-mreh1_si2229.wfm',\n",
       "         '41-fdrw0_si1423.wfm', '412-mrgg0_si1199.wfm',\n",
       "         '440-mrxb0_si1585.wfm', '484-mvrw0_si2115.wfm',\n",
       "         '491-mwem0_si1950.wfm', '53-fgmd0_si2107.wfm',\n",
       "         '72-fjsp0_si804.wfm', '73-fjwb1_si2055.wfm'], dtype='<U20')}}"
      ]
     },
     "execution_count": 43,
     "metadata": {},
     "output_type": "execute_result"
    }
   ],
   "source": [
    "dataset_obj.exp_stim_ids\n",
    "total_stim_ids"
   ]
  },
  {
   "cell_type": "code",
   "execution_count": null,
   "metadata": {},
   "outputs": [],
   "source": []
  },
  {
   "cell_type": "code",
   "execution_count": null,
   "metadata": {},
   "outputs": [],
   "source": [
    "mVocs = True\n",
    "repeated=True\n",
    "spikes = dataset_obj.extract_spikes(repeated=repeated, mVocs=mVocs)\n",
    "\n",
    "stimuli_type = 'unique' if not repeated else 'repeated'\n",
    "print(f\"For '{stimuli_type}' stimuli: \")\n",
    "stim_ids = list(spikes.keys())\n",
    "print(f\"Number of stumiuli: {len(stim_ids)}\")\n",
    "channels = list(spikes[stim_ids[0]].keys())\n",
    "print(f\"Number of channels: {len(channels)}\")\n",
    "print(f\"Channel IDs: {channels}\")\n",
    "print(f\"Shape of spikes: {spikes[stim_ids[0]][channels[0]].shape}\")\n",
    "print(f\"Number of repeats: {spikes[stim_ids[0]][channels[0]].shape[0]}\")"
   ]
  },
  {
   "cell_type": "code",
   "execution_count": 13,
   "metadata": {},
   "outputs": [
    {
     "name": "stdout",
     "output_type": "stream",
     "text": [
      "Unique stimuli duration: 762.45\n",
      "Repeated stimuli duration: 84.83\n"
     ]
    }
   ],
   "source": [
    "stim_duration = dataset_obj.total_stimuli_duration(mVocs)\n",
    "print(f\"Unique stimuli duration: {stim_duration['unique']:.2f}\")\n",
    "print(f\"Repeated stimuli duration: {stim_duration['repeated']:.2f}\")"
   ]
  },
  {
   "cell_type": "markdown",
   "metadata": {},
   "source": [
    "### setting up the dataset..."
   ]
  }
 ],
 "metadata": {
  "kernelspec": {
   "display_name": "Python 3",
   "language": "python",
   "name": "python3"
  },
  "language_info": {
   "codemirror_mode": {
    "name": "ipython",
    "version": 3
   },
   "file_extension": ".py",
   "mimetype": "text/x-python",
   "name": "python",
   "nbconvert_exporter": "python",
   "pygments_lexer": "ipython3",
   "version": "3.8.5"
  }
 },
 "nbformat": 4,
 "nbformat_minor": 2
}
