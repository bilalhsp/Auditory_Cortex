{
 "cells": [
  {
   "cell_type": "code",
   "execution_count": 1,
   "id": "9eaef7ee",
   "metadata": {},
   "outputs": [],
   "source": [
    "# ------------------  set up logging ----------------------\n",
    "import logging\n",
    "from auditory_cortex.utils import set_up_logging\n",
    "set_up_logging('info')\n",
    "\n",
    "import numpy as np\n",
    "import matplotlib.pylab as plt\n",
    "import matplotlib as mpl\n",
    "%matplotlib inline\n",
    "from matplotlib.lines import Line2D\n",
    "\n",
    "from auditory_cortex import utils\n",
    "from auditory_cortex.analyses import Correlations, STRFCorrelations\n",
    "from auditory_cortex.plotters.plotter_utils import PlotterUtils\n",
    "from auditory_cortex.plotters.correlation_plotter import RegPlotter\n"
   ]
  },
  {
   "cell_type": "code",
   "execution_count": 7,
   "id": "c5fea41b",
   "metadata": {},
   "outputs": [
    {
     "name": "stdout",
     "output_type": "stream",
     "text": [
      "INFO:Filtering 'normalizer' using multiple of 0.500 with std dev ...\n",
      "INFO:Filtering 'normalizer' using multiple of 0.500 with std dev ...\n",
      "INFO:Filtering 'normalizer' using multiple of 0.500 with std dev ...\n"
     ]
    },
    {
     "data": {
      "text/plain": [
       "(-0.5, 2.0)"
      ]
     },
     "execution_count": 7,
     "metadata": {},
     "output_type": "execute_result"
    },
    {
     "data": {
      "image/png": "[encoded data removed]",
      "text/plain": [
       "<Figure size 864x432 with 3 Axes>"
      ]
     },
     "metadata": {
      "needs_background": "light"
     },
     "output_type": "display_data"
    }
   ],
   "source": [
    "model_name = 'whisper_tiny'\n",
    "threshold = 0.5\n",
    "mVocs = False\n",
    "lmbda_column = 'opt_lmbda'\n",
    "corr_column = 'normalized_test_cc'\n",
    "fig, axes = plt.subplots(1, 3, figsize=(12, 6), sharey=True)\n",
    "i = 0\n",
    "identifier = 'ucsf_timit_trf_lags50_bw50_plos_review_middle_layers'\n",
    "strf_obj = Correlations(model_name + '_' + identifier)\n",
    "data = strf_obj.get_highly_tuned_channels(strf_obj.data, threshold=threshold, mVocs=mVocs)\n",
    "axes[i].scatter(data[lmbda_column], data[corr_column])\n",
    "axes[i].axhline(0, color='black', linestyle='--')\n",
    "axes[i].set_ylim(-0.5, 2)\n",
    "# axes[i].hist(strf_obj.data['lmbda'])\n",
    "# axes[i].set_xlim(-5, 10)\n",
    "\n",
    "i=1\n",
    "identifier = 'ucsf_timit_trf_lags300_bw50_plos_review_middle_layers'\n",
    "strf_obj = Correlations(model_name + '_' + identifier)\n",
    "data = strf_obj.get_highly_tuned_channels(strf_obj.data, threshold=threshold, mVocs=mVocs)\n",
    "axes[i].scatter(data[lmbda_column], data[corr_column])\n",
    "axes[i].axhline(0, color='black', linestyle='--')\n",
    "axes[i].set_ylim(-0.5, 2)\n",
    "# axes[i].hist(strf_obj.data['lmbda'])\n",
    "# axes[i].set_xlim(-5, 10)\n",
    "\n",
    "i=2\n",
    "identifier = 'ucsf_timit_trf_lags300_bw50_regression_improved_middle_layers'\n",
    "strf_obj = Correlations(model_name + '_' + identifier)\n",
    "data = strf_obj.get_highly_tuned_channels(strf_obj.data, threshold=threshold, mVocs=mVocs)\n",
    "axes[i].scatter(data[lmbda_column], data[corr_column])\n",
    "axes[i].axhline(0, color='black', linestyle='--')\n",
    "axes[i].set_ylim(-0.5, 2)\n",
    "# axes[i].hist(strf_obj.data['lmbda'])\n",
    "# axes[i].set_xlim(-5, 10)"
   ]
  },
  {
   "cell_type": "markdown",
   "id": "01ff320d",
   "metadata": {},
   "source": [
    "### middle layers"
   ]
  },
  {
   "cell_type": "code",
   "execution_count": 2,
   "id": "a347db07",
   "metadata": {},
   "outputs": [],
   "source": [
    "threshold = 0.5\n",
    "area = 'all'\n",
    "bin_width = 50\n",
    "normalized = True"
   ]
  },
  {
   "cell_type": "code",
   "execution_count": 5,
   "id": "34664aa1",
   "metadata": {},
   "outputs": [
    {
     "name": "stdout",
     "output_type": "stream",
     "text": [
      "INFO:Extracting column: normalized_test_cc\n",
      "INFO:Filtering 'normalizer' using multiple of 0.500 with std dev ...\n",
      "INFO:Extracting column: normalized_test_cc\n",
      "INFO:Filtering 'normalizer' using multiple of 0.500 with std dev ...\n"
     ]
    }
   ],
   "source": [
    "identifier = 'ucsf_timit_trf_lags200_bw50_regression_improved'\n",
    "model_name = 'whisper_tiny'\n",
    "\n",
    "mVocs = True if 'mVocs' in identifier else False\n",
    "corr_obj = Correlations(model_name+'_' + identifier)\n",
    "all_layer_dists = corr_obj.get_corr_all_layers_for_bin_width(\n",
    "        neural_area=area, bin_width=bin_width,\n",
    "        threshold=threshold, normalized=normalized,\n",
    "        mVocs=mVocs,\n",
    "    )\n",
    "\n",
    "# identifier = 'ucsf_timit_trf_lags300_bw50_plos_review_middle_layers'\n",
    "# identifier = 'ucsf_timit_trf_lags50_bw50_plos_review_middle_layers'\n",
    "# identifier = 'ucsf_timit_trf_lags200_bw50_regression_improved_middle_layers'\n",
    "identifier = 'ucsf_timit_trf_lags200_bw50_regression_improved_all_layers'\n",
    "# identifier = 'ucsf_timit_trf_lags300_bw50_regression_improved_all_layers'\n",
    "model_name = 'whisper_tiny'\n",
    "\n",
    "mVocs = True if 'mVocs' in identifier else False\n",
    "corr_obj = Correlations(model_name+'_' + identifier)\n",
    "all_dists = corr_obj.get_corr_all_layers_for_bin_width(\n",
    "        neural_area=area, bin_width=bin_width,\n",
    "        threshold=threshold, normalized=normalized,\n",
    "        mVocs=mVocs,\n",
    "    )\n",
    "combined_dist = all_dists[0]"
   ]
  },
  {
   "cell_type": "code",
   "execution_count": 6,
   "id": "c3ccec5d",
   "metadata": {},
   "outputs": [
    {
     "name": "stdout",
     "output_type": "stream",
     "text": [
      "INFO:Peak corr (median): 0.5924593921399006, occurs at x_coordinate: 2\n",
      "INFO:Peak corr (max): 0.9298824673090876, occurs at x_coordinate: 2\n",
      "INFO:Peak corr (median): 0.5963481281728162, occurs at x_coordinate: 0\n"
     ]
    },
    {
     "name": "stdout",
     "output_type": "stream",
     "text": [
      "INFO:Peak corr (max): 0.9283325901424864, occurs at x_coordinate: 0\n"
     ]
    },
    {
     "data": {
      "text/plain": [
       "(0.0, 1.0)"
      ]
     },
     "execution_count": 6,
     "metadata": {},
     "output_type": "execute_result"
    },
    {
     "data": {
      "image/png": "[encoded data removed]",
      "text/plain": [
       "<Figure size 432x288 with 1 Axes>"
      ]
     },
     "metadata": {
      "needs_background": "light"
     },
     "output_type": "display_data"
    }
   ],
   "source": [
    "ax = None\n",
    "alpha = 0.1\n",
    "legends = []\n",
    "display_inter_quartile_range = True\n",
    "color = PlotterUtils.get_model_specific_color(model_name)\n",
    "ax=RegPlotter.plot_line_with_shaded_region(\n",
    "        data_dict=all_layer_dists, color=color, alpha=alpha, ax=ax,\n",
    "        display_inter_quartile_range=display_inter_quartile_range,\n",
    "        display_dotted_lines=False,\n",
    "        )\n",
    "baseline_color = 'tab:blue'\n",
    "middle_dist_all_layers = {key: combined_dist for key in all_layer_dists.keys()}\n",
    "RegPlotter.plot_line_with_shaded_region(\n",
    "    data_dict=middle_dist_all_layers,\n",
    "    color=baseline_color, alpha=alpha, ax = ax,\n",
    "    display_dotted_lines=False,\n",
    "    display_inter_quartile_range=display_inter_quartile_range,\n",
    "    # median_ls='--'\n",
    "    )\n",
    "legends.append(\n",
    "    Line2D([0], [0], color=baseline_color, lw=2, label='all layers'),\n",
    ")\n",
    "\n",
    "\n",
    "plt.ylabel(f\"$\\\\rho$\")\n",
    "plt.title(f\"{model_name}\")\n",
    "plt.xlabel(f\"layer IDs\")\n",
    "# plt.axhline(0.4167, color='black', lw=1, ls='--')\n",
    "plt.legend(handles=legends)\n",
    "ax.set_ylim(0.0, 1.0)"
   ]
  },
  {
   "cell_type": "code",
   "execution_count": 14,
   "id": "9e6b7428",
   "metadata": {},
   "outputs": [
    {
     "name": "stdout",
     "output_type": "stream",
     "text": [
      "INFO:Extracting column: normalized_test_cc\n",
      "INFO:Filtering 'normalizer' using multiple of 0.500 with std dev ...\n",
      "INFO:Extracting column: normalized_test_cc\n",
      "INFO:Filtering 'normalizer' using multiple of 0.500 with std dev ...\n"
     ]
    }
   ],
   "source": [
    "threshold = 0.5\n",
    "area = 'all'\n",
    "bin_width = 50\n",
    "normalized = True\n",
    "\n",
    "identifier = 'timit_trf_lags300_bw50_naplib_matched'\n",
    "model_name = 'whisper_tiny'\n",
    "\n",
    "mVocs = True if 'mVocs' in identifier else False\n",
    "corr_obj = Correlations(model_name+'_' + identifier)\n",
    "all_layer_dists = corr_obj.get_corr_all_layers_for_bin_width(\n",
    "        neural_area=area, bin_width=bin_width,\n",
    "        threshold=threshold, normalized=normalized,\n",
    "        mVocs=mVocs,\n",
    "    )\n",
    "\n",
    "identifier = 'ucsf_timit_trf_lags300_bw50_plos_review_middle_layers'\n",
    "# identifier = 'ucsf_timit_trf_lags50_bw50_plos_review_middle_layers'\n",
    "# identifier = 'ucsf_timit_trf_lags300_bw50_regression_improved_middle_layers'\n",
    "model_name = 'whisper_tiny'\n",
    "\n",
    "mVocs = True if 'mVocs' in identifier else False\n",
    "corr_obj = Correlations(model_name+'_' + identifier)\n",
    "all_dists = corr_obj.get_corr_all_layers_for_bin_width(\n",
    "        neural_area=area, bin_width=bin_width,\n",
    "        threshold=threshold, normalized=normalized,\n",
    "        mVocs=mVocs,\n",
    "    )\n",
    "combined_dist = all_dists[0]"
   ]
  },
  {
   "cell_type": "code",
   "execution_count": null,
   "id": "7f05b0be",
   "metadata": {},
   "outputs": [
    {
     "name": "stdout",
     "output_type": "stream",
     "text": [
      "INFO:Peak corr (median): 0.5793349635051107, occurs at x_coordinate: 1\n",
      "INFO:Peak corr (max): 1.3296977999683492, occurs at x_coordinate: 2\n",
      "INFO:Peak corr (median): 0.551791627138073, occurs at x_coordinate: 0\n",
      "INFO:Peak corr (max): 0.9500869796747116, occurs at x_coordinate: 0\n"
     ]
    },
    {
     "data": {
      "text/plain": [
       "(0.0, 1.0)"
      ]
     },
     "execution_count": 15,
     "metadata": {},
     "output_type": "execute_result"
    },
    {
     "data": {
      "image/png": "[encoded data removed]",
      "text/plain": [
       "<Figure size 432x288 with 1 Axes>"
      ]
     },
     "metadata": {
      "needs_background": "light"
     },
     "output_type": "display_data"
    }
   ],
   "source": [
    "ax = None\n",
    "alpha = 0.1\n",
    "legends = []\n",
    "display_inter_quartile_range = True\n",
    "color = PlotterUtils.get_model_specific_color(model_name)\n",
    "ax=RegPlotter.plot_line_with_shaded_region(\n",
    "        data_dict=all_layer_dists, color=color, alpha=alpha, ax=ax,\n",
    "        display_inter_quartile_range=display_inter_quartile_range,\n",
    "        display_dotted_lines=False,\n",
    "        )\n",
    "baseline_color = 'tab:blue'\n",
    "middle_dist_all_layers = {key: combined_dist for key in all_layer_dists.keys()}\n",
    "RegPlotter.plot_line_with_shaded_region(\n",
    "    data_dict=middle_dist_all_layers,\n",
    "    color=baseline_color, alpha=alpha, ax = ax,\n",
    "    display_dotted_lines=False,\n",
    "    display_inter_quartile_range=display_inter_quartile_range,\n",
    "    # median_ls='--'\n",
    "    )\n",
    "legends.append(\n",
    "    Line2D([0], [0], color=baseline_color, lw=2, label='layers 1-3'),\n",
    ")\n",
    "\n",
    "plt.ylabel(f\"$\\\\rho$\")\n",
    "plt.title(f\"{model_name}\")\n",
    "plt.xlabel(f\"layer IDs\")\n",
    "# plt.axhline(0.4167, color='black', lw=1, ls='--')\n",
    "plt.legend(handles=legends)\n",
    "ax.set_ylim(0.0, 1.0)"
   ]
  },
  {
   "cell_type": "code",
   "execution_count": 11,
   "id": "71e39cac",
   "metadata": {},
   "outputs": [
    {
     "data": {
      "text/plain": [
       "<matplotlib.legend.Legend at 0x14f8b22373a0>"
      ]
     },
     "execution_count": 11,
     "metadata": {},
     "output_type": "execute_result"
    },
    {
     "data": {
      "image/png": "[encoded data removed]",
      "text/plain": [
       "<Figure size 1080x360 with 4 Axes>"
      ]
     },
     "metadata": {
      "needs_background": "light"
     },
     "output_type": "display_data"
    }
   ],
   "source": [
    "fig, axes = plt.subplots(4, 1, figsize=(15, 5))\n",
    "medians = []\n",
    "layer_ids = [1,2,3]\n",
    "colors = ['blue', 'orange', 'green', 'red', 'gray']\n",
    "layer_scores = []\n",
    "for idx, layer_id in enumerate(layer_ids):\n",
    "    axes[idx].hist(all_layer_dists[layer_id], color=colors[idx], alpha=0.5, bins=100, label=f'Layer {layer_id}')\n",
    "    axes[idx].axvline(x=np.median(all_layer_dists[layer_id]), color=colors[idx], linestyle='--')\n",
    "    axes[idx].set_xlim(-0.5, 1.2)\n",
    "    medians.append(np.median(all_layer_dists[layer_id]))\n",
    "    layer_scores.append(all_layer_dists[layer_id])\n",
    "\n",
    "# idx=3\n",
    "# median_scores = np.stack(layer_scores)\n",
    "# median_scores = np.median(median_scores, axis=0)\n",
    "# axes[idx].hist(median_scores, color=colors[idx], alpha=0.5, bins=100, label='median scores')\n",
    "# axes[idx].axvline(x=np.median(median_scores), color=colors[idx], linestyle='--')\n",
    "# axes[idx].set_xlim(-0.5, 1.2)\n",
    "\n",
    "idx=-1\n",
    "axes[idx].hist(combined_dist, color=colors[idx], alpha=0.5, bins=100, label='Combined')\n",
    "axes[idx].axvline(x=np.median(combined_dist), color=colors[idx], linestyle='--')\n",
    "axes[idx].set_xlim(-0.5, 1.2)\n",
    "plt.legend()"
   ]
  },
  {
   "cell_type": "markdown",
   "id": "51eac5bb",
   "metadata": {},
   "source": [
    "### all layers combined"
   ]
  },
  {
   "cell_type": "code",
   "execution_count": 47,
   "id": "624c8e35",
   "metadata": {},
   "outputs": [
    {
     "name": "stdout",
     "output_type": "stream",
     "text": [
      "Extracting column: normalized_test_cc\n",
      "Filtering 'normalizer' using multiple of 0.300 with std dev ...\n",
      "Extracting column: normalized_test_cc\n",
      "Filtering 'normalizer' using multiple of 0.300 with std dev ...\n"
     ]
    }
   ],
   "source": [
    "identifier = 'timit_trf_lags300_bw50_naplib_matched'\n",
    "model_name = 'whisper_tiny'\n",
    "\n",
    "area = 'all'\n",
    "bin_width = 50\n",
    "threshold = 0.3\n",
    "normalized = True\n",
    "mVocs = True if 'mVocs' in identifier else False\n",
    "corr_obj = Correlations(model_name+'_' + identifier)\n",
    "all_layer_dists = corr_obj.get_corr_all_layers_for_bin_width(\n",
    "        neural_area=area, bin_width=bin_width,\n",
    "        threshold=threshold, normalized=normalized,\n",
    "        mVocs=mVocs,\n",
    "    )\n",
    "\n",
    "identifier = 'ucsf_timit_trf_lags300_bw50_plot_review_all_layers'\n",
    "model_name = 'whisper_tiny'\n",
    "\n",
    "area = 'all'\n",
    "bin_width = 50\n",
    "threshold = 0.3\n",
    "normalized = True\n",
    "mVocs = True if 'mVocs' in identifier else False\n",
    "corr_obj = Correlations(model_name+'_' + identifier)\n",
    "\n",
    "all_dists = corr_obj.get_corr_all_layers_for_bin_width(\n",
    "        neural_area=area, bin_width=bin_width,\n",
    "        threshold=threshold, normalized=normalized,\n",
    "        mVocs=mVocs,\n",
    "    )\n",
    "combined_dist = all_dists[0]"
   ]
  },
  {
   "cell_type": "code",
   "execution_count": 51,
   "id": "2534cbab",
   "metadata": {},
   "outputs": [
    {
     "data": {
      "text/plain": [
       "<matplotlib.legend.Legend at 0x14e3e2103f10>"
      ]
     },
     "execution_count": 51,
     "metadata": {},
     "output_type": "execute_result"
    },
    {
     "data": {
      "image/png": "[encoded data removed]",
      "text/plain": [
       "<Figure size 1080x360 with 8 Axes>"
      ]
     },
     "metadata": {
      "needs_background": "light"
     },
     "output_type": "display_data"
    }
   ],
   "source": [
    "fig, axes = plt.subplots(8, 1, figsize=(15, 5))\n",
    "medians = []\n",
    "layer_ids = [0,1,2,3,4,5]\n",
    "colors = ['cyan','blue', 'orange', 'green', 'purple', 'yellow','red', 'gray']\n",
    "layer_scores = []\n",
    "for idx, layer_id in enumerate(layer_ids):\n",
    "    axes[idx].hist(all_layer_dists[layer_id], color=colors[idx], alpha=0.5, bins=100, label=f'Layer {layer_id}')\n",
    "    axes[idx].axvline(x=np.median(all_layer_dists[layer_id]), color=colors[idx], linestyle='--')\n",
    "    axes[idx].set_xlim(-0.5, 1.2)\n",
    "    medians.append(np.median(all_layer_dists[layer_id]))\n",
    "    layer_scores.append(all_layer_dists[layer_id])\n",
    "\n",
    "idx=-2\n",
    "median_scores = np.stack(layer_scores)\n",
    "median_scores = np.median(median_scores, axis=0)\n",
    "axes[idx].hist(median_scores, color=colors[idx], alpha=0.5, bins=100, label='mean scores')\n",
    "axes[idx].axvline(x=np.median(median_scores), color=colors[idx], linestyle='--')\n",
    "axes[idx].set_xlim(-0.5, 1.2)\n",
    "\n",
    "idx=-1\n",
    "axes[idx].hist(combined_dist, color=colors[idx], alpha=0.5, bins=100, label='Combined')\n",
    "axes[idx].axvline(x=np.median(combined_dist), color=colors[idx], linestyle='--')\n",
    "axes[idx].set_xlim(-0.5, 1.2)\n",
    "plt.legend()"
   ]
  },
  {
   "cell_type": "code",
   "execution_count": null,
   "id": "a315dd78",
   "metadata": {},
   "outputs": [],
   "source": []
  },
  {
   "cell_type": "code",
   "execution_count": null,
   "id": "9bdd5b87",
   "metadata": {},
   "outputs": [],
   "source": []
  },
  {
   "cell_type": "code",
   "execution_count": 44,
   "id": "6ba0f75d",
   "metadata": {},
   "outputs": [
    {
     "data": {
      "text/plain": [
       "<matplotlib.legend.Legend at 0x14e3e34efd30>"
      ]
     },
     "execution_count": 44,
     "metadata": {},
     "output_type": "execute_result"
    },
    {
     "data": {
      "image/png": "[encoded data removed]",
      "text/plain": [
       "<Figure size 1080x360 with 2 Axes>"
      ]
     },
     "metadata": {
      "needs_background": "light"
     },
     "output_type": "display_data"
    }
   ],
   "source": [
    "fig, axes = plt.subplots(2, 1, figsize=(15, 5))\n",
    "idx = 0\n",
    "axes[idx].hist(mean_scores, color='blue', alpha=0.5, bins=100, label='mean scores')\n",
    "axes[idx].axvline(x=np.median(mean_scores), color='blue', linestyle='--')\n",
    "axes[idx].set_xlim(-0.5, 1.2)\n",
    "\n",
    "idx = 1\n",
    "axes[idx].hist(combined_dist, color='gray', alpha=0.5, bins=100, label='Combined')\n",
    "axes[idx].axvline(x=np.median(combined_dist), color='gray', linestyle='--')\n",
    "axes[idx].set_xlim(-0.5, 1.2)\n",
    "plt.legend()"
   ]
  },
  {
   "cell_type": "code",
   "execution_count": 32,
   "id": "71da7ac7",
   "metadata": {},
   "outputs": [
    {
     "data": {
      "text/plain": [
       "[0.5452941238157727, 0.5252056807246963, 0.4852838804269922]"
      ]
     },
     "execution_count": 32,
     "metadata": {},
     "output_type": "execute_result"
    }
   ],
   "source": [
    "medians"
   ]
  },
  {
   "cell_type": "code",
   "execution_count": 33,
   "id": "dda7bfdd",
   "metadata": {},
   "outputs": [
    {
     "data": {
      "text/plain": [
       "0.5185945616558204"
      ]
     },
     "execution_count": 33,
     "metadata": {},
     "output_type": "execute_result"
    }
   ],
   "source": [
    "np.mean(medians)"
   ]
  },
  {
   "cell_type": "code",
   "execution_count": 34,
   "id": "31d53120",
   "metadata": {},
   "outputs": [
    {
     "data": {
      "text/plain": [
       "0.5231495925149776"
      ]
     },
     "execution_count": 34,
     "metadata": {},
     "output_type": "execute_result"
    }
   ],
   "source": [
    "np.median(combined_dist)"
   ]
  },
  {
   "cell_type": "code",
   "execution_count": null,
   "id": "8a5f3b0d",
   "metadata": {},
   "outputs": [],
   "source": []
  }
 ],
 "metadata": {
  "kernelspec": {
   "display_name": "Python 3",
   "language": "python",
   "name": "python3"
  },
  "language_info": {
   "codemirror_mode": {
    "name": "ipython",
    "version": 3
   },
   "file_extension": ".py",
   "mimetype": "text/x-python",
   "name": "python",
   "nbconvert_exporter": "python",
   "pygments_lexer": "ipython3",
   "version": "3.8.5"
  }
 },
 "nbformat": 4,
 "nbformat_minor": 5
}
