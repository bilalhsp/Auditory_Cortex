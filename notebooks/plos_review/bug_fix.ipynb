{
 "cells": [
  {
   "cell_type": "code",
   "execution_count": 1,
   "id": "ef61c6bc",
   "metadata": {},
   "outputs": [
    {
     "name": "stdout",
     "output_type": "stream",
     "text": [
      "WARNING:SoX could not be found!\n",
      "\n",
      "    If you do not have SoX, proceed here:\n",
      "     - - - http://sox.sourceforge.net/ - - -\n",
      "\n",
      "    If you do (or think that you should) have SoX, double-check your\n",
      "    path variables.\n",
      "    \n"
     ]
    },
    {
     "name": "stderr",
     "output_type": "stream",
     "text": [
      "/bin/sh: line 1: sox: command not found\n",
      "/home/ahmedb/projects/Wav2Letter/deepspeech.pytorch/deepspeech_pytorch/loader/data_loader.py:17: UserWarning: torchaudio._backend.set_audio_backend has been deprecated. With dispatcher enabled, this function is no-op. You can remove the function call.\n",
      "  torchaudio.set_audio_backend(\"sox_io\")\n"
     ]
    }
   ],
   "source": [
    "# ------------------  set up logging ----------------------\n",
    "import logging\n",
    "from auditory_cortex.utils import set_up_logging\n",
    "set_up_logging('info')\n",
    "\n",
    "import torch\n",
    "import numpy as np\n",
    "from auditory_cortex.dnn_feature_extractor import create_feature_extractor\n",
    "from auditory_cortex.neural_data import create_neural_dataset, create_neural_metadata\n",
    "from auditory_cortex.data_assembler import DNNDataAssembler, RandProjAssembler, STRFDataAssembler\n",
    "from auditory_cortex import utils\n",
    "from auditory_cortex.analyses import Correlations, STRFCorrelations\n",
    "\n",
    "import numpy as np\n",
    "import matplotlib.pylab as plt\n",
    "import matplotlib as mpl\n",
    "%matplotlib inline"
   ]
  },
  {
   "cell_type": "code",
   "execution_count": 3,
   "id": "bfe4ad79",
   "metadata": {},
   "outputs": [],
   "source": [
    "model_name = 'wav2vec2'\n",
    "identifier = 'ucsf_timit_trf_lags200_bw50_saving_for_qualitative'\n",
    "corr_obj = Correlations(model_name+'_'+identifier)"
   ]
  },
  {
   "cell_type": "code",
   "execution_count": 5,
   "id": "f4a4df77",
   "metadata": {},
   "outputs": [
    {
     "data": {
      "text/plain": [
       "Text(0.5, 0.98, 'timit, bw-50, window=200ms,')"
      ]
     },
     "execution_count": 5,
     "metadata": {},
     "output_type": "execute_result"
    },
    {
     "data": {
      "image/png": "[encoded data removed]",
      "text/plain": [
       "<Figure size 864x432 with 4 Axes>"
      ]
     },
     "metadata": {
      "needs_background": "light"
     },
     "output_type": "display_data"
    }
   ],
   "source": [
    "model_names = [\n",
    "    'whisper_tiny',\n",
    "    # 'whisper_base',\n",
    "    # 'wav2letter_modified',\n",
    "\n",
    "    'wav2vec2',\n",
    "    'speech2text',\n",
    "    'deepspeech2',\n",
    "    ]\n",
    "threshold = 0.5\n",
    "mVocs = False\n",
    "lmbda_column = 'opt_lmbda'\n",
    "corr_column = 'test_cc_raw'\n",
    "num_models = len(model_names)\n",
    "fig, axes = plt.subplots(1, num_models, figsize=(12, 6), sharey=True)\n",
    "lag = 200\n",
    "bw = 50\n",
    "for i, model_name in enumerate(model_names):\n",
    "    identifier = 'ucsf_timit_trf_lags200_bw50_saving_for_qualitative'\n",
    "    corr_obj = Correlations(model_name + '_' + identifier)\n",
    "    data = corr_obj.data\n",
    "    axes[i].scatter(data[lmbda_column], data[corr_column])\n",
    "    axes[i].axhline(0, color='black', linestyle='--')\n",
    "    axes[i].set_ylim(-0.5, 2)\n",
    "    axes[i].set_xlim(-5, 15)\n",
    "    axes[i].set_title(model_name)\n",
    "title = \"mVocs\" if mVocs else \"timit\"\n",
    "plt.suptitle(title+f\", bw-{bw}, window={lag}ms,\")"
   ]
  },
  {
   "cell_type": "code",
   "execution_count": null,
   "id": "92916adc",
   "metadata": {},
   "outputs": [],
   "source": []
  },
  {
   "cell_type": "markdown",
   "id": "c1b9d14b",
   "metadata": {},
   "source": [
    "### visualize"
   ]
  },
  {
   "cell_type": "code",
   "execution_count": 2,
   "id": "0eb55448",
   "metadata": {},
   "outputs": [],
   "source": [
    "from auditory_cortex.dataloader2 import DataLoader\n",
    "from auditory_cortex.plotters.plotter_utils import PlotterUtils\n",
    "from auditory_cortex.plotters import tikzplots\n",
    "import auditory_cortex.utils as utils\n",
    "from auditory_cortex.encoding import TRF\n",
    "import auditory_cortex.io_utils.io as io\n",
    "\n",
    "session = 200206\n",
    "save_tikz = False\n",
    "mVocs = False\n",
    "sent_id = 308\n",
    "plot_spectrogram = True\n",
    "bin_width = 50\n",
    "\n",
    "\n",
    "mean_line_width = 2\n",
    "ind_trial_width = 1\n",
    "alpha = 0.3\n",
    "\n",
    "trial_color = 'gray'\n",
    "mean_color = 'k'\n",
    "\n",
    "model_name = 'wav2vec2'\n",
    "lag = 200\n",
    "dataset_name = 'ucsf'\n",
    "shuffled = False\n"
   ]
  },
  {
   "cell_type": "code",
   "execution_count": 3,
   "id": "52ebd062",
   "metadata": {},
   "outputs": [
    {
     "name": "stdout",
     "output_type": "stream",
     "text": [
      "INFO:NeuralData:  Creating object for session: 200206 ... \n",
      "INFO:Done.\n"
     ]
    }
   ],
   "source": [
    "layers = {\n",
    "    'wav2vec2': 6,\n",
    "    'wav2letter_modified': 6,\n",
    "    'deepspeech2': 2,\n",
    "    'speech2text': 6,\n",
    "    'whisper_tiny': 2,\n",
    "    'whisper_base': 2\n",
    "}\n",
    "session = str(session)\n",
    "dataset_obj = create_neural_dataset('ucsf', session)\n",
    "dataloader = DataLoader(dataset_obj)\n",
    "test_stim_ids = dataloader.get_testing_stim_ids(mVocs)\n",
    "assert sent_id in test_stim_ids, \"Invalid sent ID, choose from\"+\\\n",
    "                f\" {list(test_stim_ids)}\"\n",
    "\n",
    "spikes = dataloader.get_session_spikes(\n",
    "    bin_width=bin_width, repeated=True, mVocs=mVocs\n",
    "    )\n",
    "all_trials_spike_counts = np.stack(\n",
    "    [spikes[sent_id][ch] for ch in spikes[sent_id].keys()],\n",
    "    axis=-1\n",
    "    )\n"
   ]
  },
  {
   "cell_type": "code",
   "execution_count": 4,
   "id": "dc8178a1",
   "metadata": {},
   "outputs": [
    {
     "name": "stderr",
     "output_type": "stream",
     "text": [
      "Some weights of the model checkpoint at facebook/wav2vec2-base-960h were not used when initializing Wav2Vec2ForCTC: ['wav2vec2.encoder.pos_conv_embed.conv.weight_g', 'wav2vec2.encoder.pos_conv_embed.conv.weight_v']\n",
      "- This IS expected if you are initializing Wav2Vec2ForCTC from the checkpoint of a model trained on another task or with another architecture (e.g. initializing a BertForSequenceClassification model from a BertForPreTraining model).\n",
      "- This IS NOT expected if you are initializing Wav2Vec2ForCTC from the checkpoint of a model that you expect to be exactly identical (initializing a BertForSequenceClassification model from a BertForSequenceClassification model).\n",
      "Some weights of Wav2Vec2ForCTC were not initialized from the model checkpoint at facebook/wav2vec2-base-960h and are newly initialized: ['wav2vec2.encoder.pos_conv_embed.conv.parametrizations.weight.original0', 'wav2vec2.encoder.pos_conv_embed.conv.parametrizations.weight.original1', 'wav2vec2.masked_spec_embed']\n",
      "You should probably TRAIN this model on a down-stream task to be able to use it for predictions and inference.\n"
     ]
    },
    {
     "name": "stdout",
     "output_type": "stream",
     "text": [
      "INFO:creating Dataset for timit data.\n",
      "INFO:Loading data for session at bin_width-50ms.\n",
      "INFO:Reading features for model: wav2vec2\n",
      "INFO:Resamping ANN features at bin-width: 50\n"
     ]
    }
   ],
   "source": [
    "layer = layers[model_name]\n",
    "    \n",
    "# dataset_obj = create_neural_dataset('ucsf', session)\n",
    "feature_extractor = create_feature_extractor(model_name, shuffled=False)\n",
    "dataset = DNNDataAssembler(\n",
    "    dataset_obj, feature_extractor, layer, bin_width=bin_width, mVocs=mVocs,\n",
    "    )"
   ]
  },
  {
   "cell_type": "code",
   "execution_count": 5,
   "id": "f70991ac",
   "metadata": {},
   "outputs": [
    {
     "name": "stdout",
     "output_type": "stream",
     "text": [
      "INFO:TRF object created for 'wav2vec2' model.\n",
      "INFO:\n",
      " Running for max lag=200 ms\n",
      "INFO:\n",
      " For fold=0: \n",
      "INFO:GpuTRF object created with alpha=1e-05, tmin=0.0, tmax=0.2, sfreq=20.0\n",
      "INFO:GpuTRF object created with alpha=0.0001, tmin=0.0, tmax=0.2, sfreq=20.0\n",
      "INFO:GpuTRF object created with alpha=0.001, tmin=0.0, tmax=0.2, sfreq=20.0\n",
      "INFO:GpuTRF object created with alpha=0.01, tmin=0.0, tmax=0.2, sfreq=20.0\n",
      "INFO:GpuTRF object created with alpha=0.1, tmin=0.0, tmax=0.2, sfreq=20.0\n",
      "INFO:GpuTRF object created with alpha=1.0, tmin=0.0, tmax=0.2, sfreq=20.0\n",
      "INFO:GpuTRF object created with alpha=10.0, tmin=0.0, tmax=0.2, sfreq=20.0\n",
      "INFO:GpuTRF object created with alpha=100.0, tmin=0.0, tmax=0.2, sfreq=20.0\n",
      "INFO:GpuTRF object created with alpha=1000.0, tmin=0.0, tmax=0.2, sfreq=20.0\n",
      "INFO:GpuTRF object created with alpha=10000.0, tmin=0.0, tmax=0.2, sfreq=20.0\n",
      "INFO:GpuTRF object created with alpha=100000.0, tmin=0.0, tmax=0.2, sfreq=20.0\n",
      "INFO:GpuTRF object created with alpha=1000000.0, tmin=0.0, tmax=0.2, sfreq=20.0\n",
      "INFO:GpuTRF object created with alpha=10000000.0, tmin=0.0, tmax=0.2, sfreq=20.0\n",
      "INFO:GpuTRF object created with alpha=100000000.0, tmin=0.0, tmax=0.2, sfreq=20.0\n",
      "INFO:GpuTRF object created with alpha=1000000000.0, tmin=0.0, tmax=0.2, sfreq=20.0\n",
      "INFO:GpuTRF object created with alpha=10000000000.0, tmin=0.0, tmax=0.2, sfreq=20.0\n",
      "INFO:GpuTRF object created with alpha=100000000000.0, tmin=0.0, tmax=0.2, sfreq=20.0\n",
      "INFO:GpuTRF object created with alpha=1000000000000.0, tmin=0.0, tmax=0.2, sfreq=20.0\n",
      "INFO:GpuTRF object created with alpha=10000000000000.0, tmin=0.0, tmax=0.2, sfreq=20.0\n",
      "INFO:GpuTRF object created with alpha=100000000000000.0, tmin=0.0, tmax=0.2, sfreq=20.0\n",
      "INFO:GpuTRF object created with alpha=1000000000000000.0, tmin=0.0, tmax=0.2, sfreq=20.0\n",
      "INFO:\n",
      " For fold=1: \n",
      "INFO:GpuTRF object created with alpha=1e-05, tmin=0.0, tmax=0.2, sfreq=20.0\n",
      "INFO:GpuTRF object created with alpha=0.0001, tmin=0.0, tmax=0.2, sfreq=20.0\n",
      "INFO:GpuTRF object created with alpha=0.001, tmin=0.0, tmax=0.2, sfreq=20.0\n",
      "INFO:GpuTRF object created with alpha=0.01, tmin=0.0, tmax=0.2, sfreq=20.0\n",
      "INFO:GpuTRF object created with alpha=0.1, tmin=0.0, tmax=0.2, sfreq=20.0\n",
      "INFO:GpuTRF object created with alpha=1.0, tmin=0.0, tmax=0.2, sfreq=20.0\n",
      "INFO:GpuTRF object created with alpha=10.0, tmin=0.0, tmax=0.2, sfreq=20.0\n",
      "INFO:GpuTRF object created with alpha=100.0, tmin=0.0, tmax=0.2, sfreq=20.0\n",
      "INFO:GpuTRF object created with alpha=1000.0, tmin=0.0, tmax=0.2, sfreq=20.0\n",
      "INFO:GpuTRF object created with alpha=10000.0, tmin=0.0, tmax=0.2, sfreq=20.0\n",
      "INFO:GpuTRF object created with alpha=100000.0, tmin=0.0, tmax=0.2, sfreq=20.0\n",
      "INFO:GpuTRF object created with alpha=1000000.0, tmin=0.0, tmax=0.2, sfreq=20.0\n",
      "INFO:GpuTRF object created with alpha=10000000.0, tmin=0.0, tmax=0.2, sfreq=20.0\n",
      "INFO:GpuTRF object created with alpha=100000000.0, tmin=0.0, tmax=0.2, sfreq=20.0\n",
      "INFO:GpuTRF object created with alpha=1000000000.0, tmin=0.0, tmax=0.2, sfreq=20.0\n",
      "INFO:GpuTRF object created with alpha=10000000000.0, tmin=0.0, tmax=0.2, sfreq=20.0\n",
      "INFO:GpuTRF object created with alpha=100000000000.0, tmin=0.0, tmax=0.2, sfreq=20.0\n",
      "INFO:GpuTRF object created with alpha=1000000000000.0, tmin=0.0, tmax=0.2, sfreq=20.0\n",
      "INFO:GpuTRF object created with alpha=10000000000000.0, tmin=0.0, tmax=0.2, sfreq=20.0\n",
      "INFO:GpuTRF object created with alpha=100000000000000.0, tmin=0.0, tmax=0.2, sfreq=20.0\n",
      "INFO:GpuTRF object created with alpha=1000000000000000.0, tmin=0.0, tmax=0.2, sfreq=20.0\n",
      "INFO:\n",
      " For fold=2: \n",
      "INFO:GpuTRF object created with alpha=1e-05, tmin=0.0, tmax=0.2, sfreq=20.0\n",
      "INFO:GpuTRF object created with alpha=0.0001, tmin=0.0, tmax=0.2, sfreq=20.0\n",
      "INFO:GpuTRF object created with alpha=0.001, tmin=0.0, tmax=0.2, sfreq=20.0\n",
      "INFO:GpuTRF object created with alpha=0.01, tmin=0.0, tmax=0.2, sfreq=20.0\n",
      "INFO:GpuTRF object created with alpha=0.1, tmin=0.0, tmax=0.2, sfreq=20.0\n",
      "INFO:GpuTRF object created with alpha=1.0, tmin=0.0, tmax=0.2, sfreq=20.0\n",
      "INFO:GpuTRF object created with alpha=10.0, tmin=0.0, tmax=0.2, sfreq=20.0\n",
      "INFO:GpuTRF object created with alpha=100.0, tmin=0.0, tmax=0.2, sfreq=20.0\n",
      "INFO:GpuTRF object created with alpha=1000.0, tmin=0.0, tmax=0.2, sfreq=20.0\n",
      "INFO:GpuTRF object created with alpha=10000.0, tmin=0.0, tmax=0.2, sfreq=20.0\n",
      "INFO:GpuTRF object created with alpha=100000.0, tmin=0.0, tmax=0.2, sfreq=20.0\n",
      "INFO:GpuTRF object created with alpha=1000000.0, tmin=0.0, tmax=0.2, sfreq=20.0\n",
      "INFO:GpuTRF object created with alpha=10000000.0, tmin=0.0, tmax=0.2, sfreq=20.0\n",
      "INFO:GpuTRF object created with alpha=100000000.0, tmin=0.0, tmax=0.2, sfreq=20.0\n",
      "INFO:GpuTRF object created with alpha=1000000000.0, tmin=0.0, tmax=0.2, sfreq=20.0\n",
      "INFO:GpuTRF object created with alpha=10000000000.0, tmin=0.0, tmax=0.2, sfreq=20.0\n",
      "INFO:GpuTRF object created with alpha=100000000000.0, tmin=0.0, tmax=0.2, sfreq=20.0\n",
      "INFO:GpuTRF object created with alpha=1000000000000.0, tmin=0.0, tmax=0.2, sfreq=20.0\n",
      "INFO:GpuTRF object created with alpha=10000000000000.0, tmin=0.0, tmax=0.2, sfreq=20.0\n",
      "INFO:GpuTRF object created with alpha=100000000000000.0, tmin=0.0, tmax=0.2, sfreq=20.0\n",
      "INFO:GpuTRF object created with alpha=1000000000000000.0, tmin=0.0, tmax=0.2, sfreq=20.0\n",
      "INFO:Fitting model using optimal lag=200 ms and optimal lmbda=[ 1.   1.   1.   1.   1.   1.   1.   1.   1.   1.   1.   1.   1.   1.\n",
      "  1.   1.   1.   1.   1.   1.   1.   1.   1.   1.   1.   1.   1.   1.\n",
      "  1.   1.   1.   1.   0.1  1.   1.   1.   1.   1.   1.   1.   1.   1.\n",
      " 10.   1.   1.   1.   1.   1.   1.   1.   1.   1.   1.   1.   1.   1.\n",
      "  1.   1.   1.   1.   0.1  1.   0.1  1. ]\n",
      "INFO:GpuTRF object created with alpha=[ 1.   1.   1.   1.   1.   1.   1.   1.   1.   1.   1.   1.   1.   1.\n",
      "  1.   1.   1.   1.   1.   1.   1.   1.   1.   1.   1.   1.   1.   1.\n",
      "  1.   1.   1.   1.   0.1  1.   1.   1.   1.   1.   1.   1.   1.   1.\n",
      " 10.   1.   1.   1.   1.   1.   1.   1.   1.   1.   1.   1.   1.   1.\n",
      "  1.   1.   1.   1.   0.1  1.   0.1  1. ], tmin=0, tmax=0.2, sfreq=20.0\n",
      "INFO:Computing corr for test set...\n"
     ]
    }
   ],
   "source": [
    "saved_predictions = {}\n",
    "prediction_colors = {}\n",
    "trf_obj = TRF(model_name, dataset)\n",
    "\n",
    "corr, opt_lag, opt_lmbda, trf_model = trf_obj.grid_search_CV(\n",
    "        lags=[lag], tmin=0,\n",
    "        num_folds=3,\n",
    "        # test_trial=test_trial\n",
    "    )\n",
    "\n",
    "X, y = dataset.get_testing_data([sent_id])\n",
    "saved_predictions[model_name] = trf_model.predict(X)[0]\n",
    "\n",
    "# saved_predictions[model_name] = trf_obj.neural_prediction(\n",
    "#         model_name, session, layer, bin_width, [sent_id], 'ucsf',\n",
    "#         lag=lag\n",
    "#     )[0]\n",
    "\n",
    "prediction_colors[model_name] = PlotterUtils.get_model_specific_color(model_name)"
   ]
  },
  {
   "cell_type": "code",
   "execution_count": null,
   "id": "e3e2a4dc",
   "metadata": {},
   "outputs": [
    {
     "name": "stdout",
     "output_type": "stream",
     "text": [
      "INFO:TRF object created for 'wav2vec2' model.\n",
      "INFO:\n",
      " Running for max lag=200 ms\n",
      "INFO:\n",
      " For fold=0: \n",
      "INFO:GpuTRF object created with alpha=1e-05, tmin=0.0, tmax=0.2, sfreq=20.0\n",
      "INFO:GpuTRF object created with alpha=0.0001, tmin=0.0, tmax=0.2, sfreq=20.0\n",
      "INFO:GpuTRF object created with alpha=0.001, tmin=0.0, tmax=0.2, sfreq=20.0\n",
      "INFO:GpuTRF object created with alpha=0.01, tmin=0.0, tmax=0.2, sfreq=20.0\n",
      "INFO:GpuTRF object created with alpha=0.1, tmin=0.0, tmax=0.2, sfreq=20.0\n",
      "INFO:GpuTRF object created with alpha=1.0, tmin=0.0, tmax=0.2, sfreq=20.0\n",
      "INFO:GpuTRF object created with alpha=10.0, tmin=0.0, tmax=0.2, sfreq=20.0\n",
      "INFO:GpuTRF object created with alpha=100.0, tmin=0.0, tmax=0.2, sfreq=20.0\n",
      "INFO:GpuTRF object created with alpha=1000.0, tmin=0.0, tmax=0.2, sfreq=20.0\n",
      "INFO:GpuTRF object created with alpha=10000.0, tmin=0.0, tmax=0.2, sfreq=20.0\n",
      "INFO:GpuTRF object created with alpha=100000.0, tmin=0.0, tmax=0.2, sfreq=20.0\n",
      "INFO:GpuTRF object created with alpha=1000000.0, tmin=0.0, tmax=0.2, sfreq=20.0\n",
      "INFO:GpuTRF object created with alpha=10000000.0, tmin=0.0, tmax=0.2, sfreq=20.0\n",
      "INFO:GpuTRF object created with alpha=100000000.0, tmin=0.0, tmax=0.2, sfreq=20.0\n",
      "INFO:GpuTRF object created with alpha=1000000000.0, tmin=0.0, tmax=0.2, sfreq=20.0\n",
      "INFO:GpuTRF object created with alpha=10000000000.0, tmin=0.0, tmax=0.2, sfreq=20.0\n",
      "INFO:GpuTRF object created with alpha=100000000000.0, tmin=0.0, tmax=0.2, sfreq=20.0\n",
      "INFO:GpuTRF object created with alpha=1000000000000.0, tmin=0.0, tmax=0.2, sfreq=20.0\n",
      "INFO:GpuTRF object created with alpha=10000000000000.0, tmin=0.0, tmax=0.2, sfreq=20.0\n",
      "INFO:GpuTRF object created with alpha=100000000000000.0, tmin=0.0, tmax=0.2, sfreq=20.0\n",
      "INFO:GpuTRF object created with alpha=1000000000000000.0, tmin=0.0, tmax=0.2, sfreq=20.0\n",
      "INFO:\n",
      " For fold=1: \n",
      "INFO:GpuTRF object created with alpha=1e-05, tmin=0.0, tmax=0.2, sfreq=20.0\n",
      "INFO:GpuTRF object created with alpha=0.0001, tmin=0.0, tmax=0.2, sfreq=20.0\n",
      "INFO:GpuTRF object created with alpha=0.001, tmin=0.0, tmax=0.2, sfreq=20.0\n",
      "INFO:GpuTRF object created with alpha=0.01, tmin=0.0, tmax=0.2, sfreq=20.0\n",
      "INFO:GpuTRF object created with alpha=0.1, tmin=0.0, tmax=0.2, sfreq=20.0\n",
      "INFO:GpuTRF object created with alpha=1.0, tmin=0.0, tmax=0.2, sfreq=20.0\n",
      "INFO:GpuTRF object created with alpha=10.0, tmin=0.0, tmax=0.2, sfreq=20.0\n",
      "INFO:GpuTRF object created with alpha=100.0, tmin=0.0, tmax=0.2, sfreq=20.0\n",
      "INFO:GpuTRF object created with alpha=1000.0, tmin=0.0, tmax=0.2, sfreq=20.0\n",
      "INFO:GpuTRF object created with alpha=10000.0, tmin=0.0, tmax=0.2, sfreq=20.0\n",
      "INFO:GpuTRF object created with alpha=100000.0, tmin=0.0, tmax=0.2, sfreq=20.0\n",
      "INFO:GpuTRF object created with alpha=1000000.0, tmin=0.0, tmax=0.2, sfreq=20.0\n",
      "INFO:GpuTRF object created with alpha=10000000.0, tmin=0.0, tmax=0.2, sfreq=20.0\n",
      "INFO:GpuTRF object created with alpha=100000000.0, tmin=0.0, tmax=0.2, sfreq=20.0\n",
      "INFO:GpuTRF object created with alpha=1000000000.0, tmin=0.0, tmax=0.2, sfreq=20.0\n",
      "INFO:GpuTRF object created with alpha=10000000000.0, tmin=0.0, tmax=0.2, sfreq=20.0\n",
      "INFO:GpuTRF object created with alpha=100000000000.0, tmin=0.0, tmax=0.2, sfreq=20.0\n",
      "INFO:GpuTRF object created with alpha=1000000000000.0, tmin=0.0, tmax=0.2, sfreq=20.0\n",
      "INFO:GpuTRF object created with alpha=10000000000000.0, tmin=0.0, tmax=0.2, sfreq=20.0\n",
      "INFO:GpuTRF object created with alpha=100000000000000.0, tmin=0.0, tmax=0.2, sfreq=20.0\n",
      "INFO:GpuTRF object created with alpha=1000000000000000.0, tmin=0.0, tmax=0.2, sfreq=20.0\n",
      "INFO:\n",
      " For fold=2: \n",
      "INFO:GpuTRF object created with alpha=1e-05, tmin=0.0, tmax=0.2, sfreq=20.0\n",
      "INFO:GpuTRF object created with alpha=0.0001, tmin=0.0, tmax=0.2, sfreq=20.0\n",
      "INFO:GpuTRF object created with alpha=0.001, tmin=0.0, tmax=0.2, sfreq=20.0\n",
      "INFO:GpuTRF object created with alpha=0.01, tmin=0.0, tmax=0.2, sfreq=20.0\n",
      "INFO:GpuTRF object created with alpha=0.1, tmin=0.0, tmax=0.2, sfreq=20.0\n",
      "INFO:GpuTRF object created with alpha=1.0, tmin=0.0, tmax=0.2, sfreq=20.0\n",
      "INFO:GpuTRF object created with alpha=10.0, tmin=0.0, tmax=0.2, sfreq=20.0\n",
      "INFO:GpuTRF object created with alpha=100.0, tmin=0.0, tmax=0.2, sfreq=20.0\n",
      "INFO:GpuTRF object created with alpha=1000.0, tmin=0.0, tmax=0.2, sfreq=20.0\n",
      "INFO:GpuTRF object created with alpha=10000.0, tmin=0.0, tmax=0.2, sfreq=20.0\n",
      "INFO:GpuTRF object created with alpha=100000.0, tmin=0.0, tmax=0.2, sfreq=20.0\n",
      "INFO:GpuTRF object created with alpha=1000000.0, tmin=0.0, tmax=0.2, sfreq=20.0\n",
      "INFO:GpuTRF object created with alpha=10000000.0, tmin=0.0, tmax=0.2, sfreq=20.0\n",
      "INFO:GpuTRF object created with alpha=100000000.0, tmin=0.0, tmax=0.2, sfreq=20.0\n",
      "INFO:GpuTRF object created with alpha=1000000000.0, tmin=0.0, tmax=0.2, sfreq=20.0\n",
      "INFO:GpuTRF object created with alpha=10000000000.0, tmin=0.0, tmax=0.2, sfreq=20.0\n",
      "INFO:GpuTRF object created with alpha=100000000000.0, tmin=0.0, tmax=0.2, sfreq=20.0\n",
      "INFO:GpuTRF object created with alpha=1000000000000.0, tmin=0.0, tmax=0.2, sfreq=20.0\n",
      "INFO:GpuTRF object created with alpha=10000000000000.0, tmin=0.0, tmax=0.2, sfreq=20.0\n",
      "INFO:GpuTRF object created with alpha=100000000000000.0, tmin=0.0, tmax=0.2, sfreq=20.0\n",
      "INFO:GpuTRF object created with alpha=1000000000000000.0, tmin=0.0, tmax=0.2, sfreq=20.0\n",
      "INFO:Fitting model using optimal lag=200 ms and optimal lmbda=[ 1.   1.   1.   1.   1.   1.   1.   1.   1.   1.   1.   1.   1.   1.\n",
      "  1.   1.   1.   1.   1.   1.   1.   1.   1.   1.   1.   1.   1.   1.\n",
      "  1.   1.   1.   1.   0.1  1.   1.   1.   1.   1.   1.   1.   1.   1.\n",
      " 10.   1.   1.   1.   1.   1.   1.   1.   1.   1.   1.   1.   1.   1.\n",
      "  1.   1.   1.   1.   0.1  1.   0.1  1. ]\n",
      "INFO:GpuTRF object created with alpha=[ 1.   1.   1.   1.   1.   1.   1.   1.   1.   1.   1.   1.   1.   1.\n",
      "  1.   1.   1.   1.   1.   1.   1.   1.   1.   1.   1.   1.   1.   1.\n",
      "  1.   1.   1.   1.   0.1  1.   1.   1.   1.   1.   1.   1.   1.   1.\n",
      " 10.   1.   1.   1.   1.   1.   1.   1.   1.   1.   1.   1.   1.   1.\n",
      "  1.   1.   1.   1.   0.1  1.   0.1  1. ], tmin=0, tmax=0.2, sfreq=20.0\n",
      "INFO:Computing corr for test set...\n"
     ]
    }
   ],
   "source": [
    "saved_predictions = {}\n",
    "prediction_colors = {}\n",
    "trf_obj = TRF(model_name, dataset)\n",
    "\n",
    "corr, opt_lag, opt_lmbda, trf_model = trf_obj.grid_search_CV(\n",
    "        lags=[lag], tmin=0,\n",
    "        num_folds=3,\n",
    "        # test_trial=test_trial\n",
    "    )\n",
    "\n",
    "X, y = dataset.get_testing_data([sent_id])\n",
    "saved_predictions[model_name] = trf_model.predict(X)[0]\n",
    "\n",
    "# saved_predictions[model_name] = trf_obj.neural_prediction(\n",
    "#         model_name, session, layer, bin_width, [sent_id], 'ucsf',\n",
    "#         lag=lag\n",
    "#     )[0]\n",
    "\n",
    "prediction_colors[model_name] = PlotterUtils.get_model_specific_color(model_name)"
   ]
  },
  {
   "cell_type": "code",
   "execution_count": 6,
   "id": "9fb1432a",
   "metadata": {},
   "outputs": [
    {
     "data": {
      "text/plain": [
       "((1, 2560), (1, 2560), (1, 64))"
      ]
     },
     "execution_count": 6,
     "metadata": {},
     "output_type": "execute_result"
    }
   ],
   "source": [
    "trf_model.X_mean_.shape, trf_model.X_std_.shape, trf_model.y_mean_.shape"
   ]
  },
  {
   "cell_type": "code",
   "execution_count": null,
   "id": "7d6d0598",
   "metadata": {},
   "outputs": [
    {
     "data": {
      "text/plain": [
       "True"
      ]
     },
     "execution_count": 8,
     "metadata": {},
     "output_type": "execute_result"
    }
   ],
   "source": [
    "getattr(trf_model, \"normalize_X\", True)"
   ]
  },
  {
   "cell_type": "code",
   "execution_count": 21,
   "id": "d3223ac5",
   "metadata": {},
   "outputs": [],
   "source": [
    "X, y = dataset.get_testing_data([sent_id])\n"
   ]
  },
  {
   "cell_type": "code",
   "execution_count": 23,
   "id": "1f4c4f18",
   "metadata": {},
   "outputs": [
    {
     "data": {
      "text/plain": [
       "(11, 47, 64)"
      ]
     },
     "execution_count": 23,
     "metadata": {},
     "output_type": "execute_result"
    }
   ],
   "source": [
    "y[0].shape"
   ]
  },
  {
   "cell_type": "code",
   "execution_count": 19,
   "id": "d8f7e012",
   "metadata": {},
   "outputs": [],
   "source": [
    "X_tmp,_ = trf_model._delay_and_reshape(X[0])\n",
    "# Normalize after delay-and-reshape using stored mean/std with matching shape\n",
    "# if hasattr(self, \"X_mean_\") and hasattr(self, \"X_std_\"):\n",
    "if getattr(trf_model, \"normalize_X\", True):\n",
    "    X_tmp = (X_tmp - trf_model.X_mean_) / trf_model.X_std_\n",
    "xx = X_tmp[dataset.n_offset:]"
   ]
  },
  {
   "cell_type": "code",
   "execution_count": 24,
   "id": "129a570a",
   "metadata": {},
   "outputs": [],
   "source": [
    "yp = trf_model.models[0].predict(xx)"
   ]
  },
  {
   "cell_type": "code",
   "execution_count": 27,
   "id": "1dcf41f9",
   "metadata": {},
   "outputs": [],
   "source": [
    "yp = yp + trf_model.y_mean_[:,0]"
   ]
  },
  {
   "cell_type": "code",
   "execution_count": 26,
   "id": "6b0f79ff",
   "metadata": {},
   "outputs": [
    {
     "data": {
      "text/plain": [
       "(47,)"
      ]
     },
     "execution_count": 26,
     "metadata": {},
     "output_type": "execute_result"
    }
   ],
   "source": [
    "yp.shape"
   ]
  },
  {
   "cell_type": "code",
   "execution_count": 25,
   "id": "a8617506",
   "metadata": {},
   "outputs": [
    {
     "data": {
      "text/plain": [
       "(1,)"
      ]
     },
     "execution_count": 25,
     "metadata": {},
     "output_type": "execute_result"
    }
   ],
   "source": [
    "trf_model.y_mean_[:,0].shape"
   ]
  },
  {
   "cell_type": "code",
   "execution_count": 11,
   "id": "d4d5aa28",
   "metadata": {},
   "outputs": [
    {
     "data": {
      "text/plain": [
       "array([[3.36640948, 1.89601361, 4.6358616 , ..., 3.33479719, 6.99186811,\n",
       "        5.6724044 ],\n",
       "       [3.30410387, 1.50832969, 4.14031178, ..., 2.47919947, 4.88817938,\n",
       "        3.89140111],\n",
       "       [3.11368198, 1.49491194, 4.05981804, ..., 2.49223552, 4.68752948,\n",
       "        4.2610569 ],\n",
       "       ...,\n",
       "       [3.27540762, 2.27357736, 4.72909024, ..., 3.70116541, 6.02852035,\n",
       "        4.19010006],\n",
       "       [2.93262066, 1.38500887, 4.92245066, ..., 2.51909515, 3.71974956,\n",
       "        2.76687623],\n",
       "       [2.26540349, 0.97739577, 4.01265953, ..., 1.5443066 , 2.92504207,\n",
       "        2.2328973 ]])"
      ]
     },
     "execution_count": 11,
     "metadata": {},
     "output_type": "execute_result"
    }
   ],
   "source": [
    "saved_predictions[model_name] + trf_model.y_mean_[0]"
   ]
  },
  {
   "cell_type": "code",
   "execution_count": null,
   "id": "7524cd61",
   "metadata": {},
   "outputs": [
    {
     "name": "stdout",
     "output_type": "stream",
     "text": [
      "0.1\n"
     ]
    },
    {
     "data": {
      "image/png": "[encoded data removed]",
      "text/plain": [
       "<Figure size 432x288 with 1 Axes>"
      ]
     },
     "metadata": {
      "needs_background": "light"
     },
     "output_type": "display_data"
    },
    {
     "ename": "",
     "evalue": "",
     "output_type": "error",
     "traceback": [
      "\u001b[1;31mThe Kernel crashed while executing code in the current cell or a previous cell. \n",
      "\u001b[1;31mPlease review the code in the cell(s) to identify a possible cause of the failure. \n",
      "\u001b[1;31mClick <a href='https://aka.ms/vscodeJupyterKernelCrash'>here</a> for more info. \n",
      "\u001b[1;31mView Jupyter <a href='command:jupyter.viewOutput'>log</a> for further details."
     ]
    }
   ],
   "source": [
    "ch = 32\n",
    "print(opt_lmbda[ch])\n",
    "ax = tikzplots.plot_spike_counts(\n",
    "        bin_width,\n",
    "        ch, all_trials_spike_counts, saved_predictions,\n",
    "        trial_color, mean_color, prediction_colors,\n",
    "        ind_trial_width, mean_line_width, alpha=alpha\n",
    "    )"
   ]
  },
  {
   "cell_type": "code",
   "execution_count": 31,
   "id": "b8c693ab",
   "metadata": {},
   "outputs": [
    {
     "data": {
      "text/plain": [
       "1.0"
      ]
     },
     "execution_count": 31,
     "metadata": {},
     "output_type": "execute_result"
    }
   ],
   "source": [
    "opt_lmbda[61]"
   ]
  },
  {
   "cell_type": "code",
   "execution_count": 29,
   "id": "cb05aab5",
   "metadata": {},
   "outputs": [
    {
     "data": {
      "image/png": "[encoded data removed]",
      "text/plain": [
       "<Figure size 432x288 with 1 Axes>"
      ]
     },
     "metadata": {
      "needs_background": "light"
     },
     "output_type": "display_data"
    }
   ],
   "source": [
    "ch = 61\n",
    "ax = tikzplots.plot_spike_counts(\n",
    "        bin_width,\n",
    "        ch, all_trials_spike_counts, saved_predictions,\n",
    "        trial_color, mean_color, prediction_colors,\n",
    "        ind_trial_width, mean_line_width, alpha=alpha\n",
    "    )"
   ]
  },
  {
   "cell_type": "code",
   "execution_count": 21,
   "id": "0d565b30",
   "metadata": {},
   "outputs": [
    {
     "name": "stdout",
     "output_type": "stream",
     "text": [
      "INFO:Reading TRF parameters for wav2vec2, session-200206,bin-width-50ms, shuffled-False, LPF-False, bias-False\n",
      "INFO:Reading TRF parameters for wav2vec2, session-200206,bin-width-50ms, shuffled-False, LPF-False, bias-True\n",
      "INFO:Reading from file: /scratch/gilbreth/ahmedb/cache/trf/wav2vec2/alphas/wav2vec2_layer_6_sess_200206_trf200_50ms.pkl\n",
      "INFO:GpuTRF object created with alpha=[ 1.   1.   1.   1.   1.   1.   1.   1.   1.   1.   1.   1.   1.   1.\n",
      "  1.   1.   1.   1.   1.   1.   1.   1.   1.   1.   1.   1.   1.   1.\n",
      "  1.   1.   1.   1.   1.   1.   1.   1.   1.   1.   1.   1.   1.   1.\n",
      " 10.   1.   1.   1.   1.   1.   1.   1.   1.   1.   1.   1.   1.   1.\n",
      "  1.   1.   1.   1.   0.1  1.   0.1  1. ], tmin=0, tmax=0.2, sfreq=20.0\n"
     ]
    }
   ],
   "source": [
    "trf_model = trf_obj.load_saved_model(\n",
    "            model_name, session, layer, bin_width, shuffled=False,\n",
    "            LPF=False, mVocs=mVocs, dataset_name=dataset_name,\n",
    "            tmax=lag\n",
    "            )"
   ]
  },
  {
   "cell_type": "code",
   "execution_count": 26,
   "id": "bb813deb",
   "metadata": {},
   "outputs": [
    {
     "name": "stdout",
     "output_type": "stream",
     "text": [
      "INFO:Reading TRF parameters for wav2vec2, session-200206,bin-width-50ms, shuffled-False, LPF-False, bias-True\n"
     ]
    }
   ],
   "source": [
    "biases = io.read_trf_parameters(\n",
    "        model_name, session, bin_width, shuffled,\n",
    "        verbose=False, LPF=False, mVocs=mVocs,\n",
    "        bias=True, dataset_name=dataset_name,\n",
    "        lag=lag\n",
    "    )"
   ]
  },
  {
   "cell_type": "code",
   "execution_count": 27,
   "id": "85b8f906",
   "metadata": {},
   "outputs": [
    {
     "data": {
      "text/plain": [
       "{6: array([-2.12911673e-16, -4.14813872e-17,  1.31918196e-16, -3.06149380e-17,\n",
       "         1.85003370e-16,  3.92390580e-16, -5.96595523e-16, -1.43239909e-16,\n",
       "         8.83246471e-17,  1.04327455e-16, -1.65347458e-16, -1.99459407e-16,\n",
       "        -1.91156266e-16, -4.91413294e-16,  1.66125416e-16, -2.30888244e-16,\n",
       "         4.48531537e-16, -2.53886711e-16, -7.54924641e-17, -1.11607071e-16,\n",
       "        -8.74975979e-17,  1.39216214e-16,  1.47177439e-16,  1.01701093e-16,\n",
       "        -8.62576192e-16, -7.78290943e-17,  1.57370509e-16, -1.81367543e-16,\n",
       "         2.17755776e-17,  3.15801959e-16, -6.75972279e-17, -3.44095768e-16,\n",
       "        -1.74409750e-16, -6.30974518e-17,  1.54946838e-16,  5.38100507e-17,\n",
       "        -3.07385281e-17,  1.00111994e-17, -2.78377954e-16, -6.17629443e-18,\n",
       "         1.01742325e-16, -3.00914868e-16, -7.08130091e-17, -1.57612674e-16,\n",
       "        -1.37965358e-16,  3.05686031e-17,  8.58106472e-17,  1.38318146e-16,\n",
       "         5.02221945e-16, -6.80783534e-17,  2.64007234e-16, -4.28795152e-16,\n",
       "        -5.13422886e-16,  5.01794248e-17,  3.19545840e-16,  3.82192934e-16,\n",
       "        -2.89331881e-16,  4.48471141e-16, -2.03436937e-16,  4.43691223e-16,\n",
       "         3.54132995e-16, -9.94990006e-17,  2.22381576e-16, -1.95847906e-17])}"
      ]
     },
     "execution_count": 27,
     "metadata": {},
     "output_type": "execute_result"
    }
   ],
   "source": [
    "biases"
   ]
  },
  {
   "cell_type": "markdown",
   "id": "904b8099",
   "metadata": {},
   "source": [
    "### correcting the regression..."
   ]
  },
  {
   "cell_type": "code",
   "execution_count": 7,
   "id": "0fc71a54",
   "metadata": {},
   "outputs": [],
   "source": [
    "tmin = 0\n",
    "tmax = lag\n",
    "sfreq = 1000 / bin_width\n",
    "lmbda = 0.1"
   ]
  },
  {
   "cell_type": "code",
   "execution_count": 8,
   "id": "47face1b",
   "metadata": {},
   "outputs": [],
   "source": [
    "train_x, train_y = dataset.get_training_data()"
   ]
  },
  {
   "cell_type": "code",
   "execution_count": 10,
   "id": "5e4bfdb0",
   "metadata": {},
   "outputs": [
    {
     "name": "stdout",
     "output_type": "stream",
     "text": [
      "INFO:GpuTRF object created with alpha=0.1, tmin=0, tmax=200, sfreq=20.0\n"
     ]
    },
    {
     "ename": "",
     "evalue": "",
     "output_type": "error",
     "traceback": [
      "\u001b[1;31mThe Kernel crashed while executing code in the current cell or a previous cell. \n",
      "\u001b[1;31mPlease review the code in the cell(s) to identify a possible cause of the failure. \n",
      "\u001b[1;31mClick <a href='https://aka.ms/vscodeJupyterKernelCrash'>here</a> for more info. \n",
      "\u001b[1;31mView Jupyter <a href='command:jupyter.viewOutput'>log</a> for further details."
     ]
    }
   ],
   "source": [
    "from auditory_cortex.encoding import GpuTRF\n",
    "\n",
    "trf_model = GpuTRF(\n",
    "        tmin, tmax, sfreq, alpha=lmbda,\n",
    "        )\n",
    "trf_model.fit(X=train_x, y=train_y, n_offset=dataset.n_offset)\n",
    "\n",
    "# save validation score for lmbda..\n",
    "# lmbda_score[i] += trf_model.score(X=val_x, y=val_y, n_offset=self.dataset_assembler.n_offset)"
   ]
  },
  {
   "cell_type": "code",
   "execution_count": null,
   "id": "c1cbe7cf",
   "metadata": {},
   "outputs": [],
   "source": []
  }
 ],
 "metadata": {
  "kernelspec": {
   "display_name": "Python (My wav2letter Kernel)",
   "language": "python",
   "name": "wav2letter"
  },
  "language_info": {
   "codemirror_mode": {
    "name": "ipython",
    "version": 3
   },
   "file_extension": ".py",
   "mimetype": "text/x-python",
   "name": "python",
   "nbconvert_exporter": "python",
   "pygments_lexer": "ipython3",
   "version": "3.8.5"
  }
 },
 "nbformat": 4,
 "nbformat_minor": 5
}
