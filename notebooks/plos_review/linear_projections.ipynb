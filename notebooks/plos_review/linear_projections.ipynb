{
 "cells": [
  {
   "cell_type": "code",
   "execution_count": 2,
   "id": "25a4106b",
   "metadata": {},
   "outputs": [
    {
     "name": "stdout",
     "output_type": "stream",
     "text": [
      "INFO:Please install tensorboardX: pip install tensorboardX\n",
      "WARNING:SoX could not be found!\n",
      "\n",
      "    If you do not have SoX, proceed here:\n",
      "     - - - http://sox.sourceforge.net/ - - -\n",
      "\n",
      "    If you do (or think that you should) have SoX, double-check your\n",
      "    path variables.\n",
      "    \n"
     ]
    },
    {
     "name": "stderr",
     "output_type": "stream",
     "text": [
      "/bin/sh: line 1: sox: command not found\n",
      "/home/ahmedb/projects/Wav2Letter/deepspeech.pytorch/deepspeech_pytorch/loader/data_loader.py:17: UserWarning: torchaudio._backend.set_audio_backend has been deprecated. With dispatcher enabled, this function is no-op. You can remove the function call.\n",
      "  torchaudio.set_audio_backend(\"sox_io\")\n"
     ]
    }
   ],
   "source": [
    "# ------------------  set up logging ----------------------\n",
    "import logging\n",
    "from auditory_cortex.utils import set_up_logging\n",
    "set_up_logging('info')\n",
    "\n",
    "import os\n",
    "import scipy\n",
    "import numpy as np\n",
    "import seaborn as sns\n",
    "from functools import reduce\n",
    "\n",
    "from auditory_cortex.plotters import tikzplots\n",
    "from auditory_cortex.analyses import Correlations, STRFCorrelations\n",
    "from auditory_cortex.plotters.correlation_plotter import RegPlotter\n",
    "from auditory_cortex.plotters.plotter_utils import PlotterUtils\n",
    "\n",
    "import matplotlib.pylab as plt\n",
    "import matplotlib as mpl\n",
    "from matplotlib.lines import Line2D\n",
    "%matplotlib inline\n"
   ]
  },
  {
   "cell_type": "code",
   "execution_count": 30,
   "id": "9659a9ca",
   "metadata": {},
   "outputs": [
    {
     "data": {
      "text/plain": [
       "'/depot/jgmakin/data/auditory_cortex/results/'"
      ]
     },
     "execution_count": 30,
     "metadata": {},
     "output_type": "execute_result"
    }
   ],
   "source": [
    "from auditory_cortex import results_dir\n",
    "results_dir"
   ]
  },
  {
   "cell_type": "markdown",
   "id": "d5d51a3f",
   "metadata": {},
   "source": [
    "### random linear projections"
   ]
  },
  {
   "cell_type": "code",
   "execution_count": 2,
   "id": "38ca51cd",
   "metadata": {},
   "outputs": [
    {
     "name": "stdout",
     "output_type": "stream",
     "text": [
      "Plotting trained and shuffled distributions for whisper_tiny\n",
      "Extracting column: normalized_test_cc\n",
      "Filtering 'normalizer' using multiple of 0.300 with std dev ...\n",
      "Number of channels returned: (498,)\n",
      "Extracting column: normalized_test_cc\n",
      "Filtering 'normalizer' using multiple of 0.300 with std dev ...\n",
      "Peak corr (median): 0.5080787616539588, occurs at x_coordinate: 4\n",
      "Peak corr (max): 0.9260937429247744, occurs at x_coordinate: 2\n",
      "Peak corr (median): 0.5243391870583959, occurs at x_coordinate: 1\n",
      "Peak corr (max): 1.3606717522361382, occurs at x_coordinate: 1\n",
      "p-value for 0: 3.9536671874844157e-07\n",
      "p-value for 1: 1.0\n",
      "p-value for 2: 3.0021812086284696e-23\n",
      "p-value for 3: 7.775060064540459e-32\n",
      "p-value for 4: 2.4327528636225134e-35\n",
      "p-value for 5: 4.172971555327394e-42\n"
     ]
    },
    {
     "data": {
      "image/png": "[encoded data removed]",
      "text/plain": [
       "<Figure size 432x288 with 1 Axes>"
      ]
     },
     "metadata": {
      "needs_background": "light"
     },
     "output_type": "display_data"
    }
   ],
   "source": [
    "model_name = 'whisper_tiny'\n",
    "trained_identifier = 'timit_trf_lags300_bw50_naplib_matched'\n",
    "untrained_identifiers = [f'reset_{trained_identifier}']\n",
    "tikz_indicator = 'trf'\n",
    "baseline_identifier = f\"STRF_freqs80_mel_{trained_identifier}\"\n",
    "trained_identifier = 'ucsf_timit_trf_lags300_bw50_random_proj'\n",
    "bin_width = 50\n",
    "area = 'all'\n",
    "threshold = 0.3\n",
    "mVocs = True if 'mVocs' in trained_identifier else False\n",
    "normalized=True\n",
    "save_tikz=False\n",
    "dists = RegPlotter.plot_all_layers_trained_and_shuffled(\n",
    "        model_name=model_name,\n",
    "        bin_width=bin_width,\n",
    "        area=area,\n",
    "        normalized=normalized,\n",
    "        threshold=threshold,\n",
    "        mVocs=mVocs,\n",
    "        save_tikz=save_tikz,\n",
    "        trained_identifier=trained_identifier,\n",
    "        untrained_identifiers=untrained_identifiers,\n",
    "        baseline_identifier=baseline_identifier,\n",
    "        )"
   ]
  },
  {
   "cell_type": "code",
   "execution_count": 4,
   "id": "54b8c3b0",
   "metadata": {},
   "outputs": [
    {
     "name": "stdout",
     "output_type": "stream",
     "text": [
      "Trained medians: [0.477, 0.482, 0.497, 0.502, 0.508, 0.507]\n",
      "Untrained medians: [0.466, 0.524, 0.4, 0.402, 0.402, 0.399]\n"
     ]
    }
   ],
   "source": [
    "trained_medians = [round(np.median(dist),3) for dist in dists[0].values()]\n",
    "untrained_medians = [round(np.median(dist),3) for dist in dists[1].values()]\n",
    "print(f\"Trained medians: {trained_medians}\")\n",
    "print(f\"Untrained medians: {untrained_medians}\")"
   ]
  },
  {
   "cell_type": "markdown",
   "id": "71ee3ee4",
   "metadata": {},
   "source": [
    "### random conv layers"
   ]
  },
  {
   "cell_type": "code",
   "execution_count": 5,
   "id": "ffc768e2",
   "metadata": {},
   "outputs": [
    {
     "name": "stdout",
     "output_type": "stream",
     "text": [
      "Plotting trained and shuffled distributions for whisper_tiny\n",
      "Extracting column: normalized_test_cc\n",
      "Filtering 'normalizer' using multiple of 0.300 with std dev ...\n",
      "Number of channels returned: (498,)\n",
      "Extracting column: normalized_test_cc\n",
      "Filtering 'normalizer' using multiple of 0.300 with std dev ...\n",
      "Peak corr (median): 0.5112371746355466, occurs at x_coordinate: 5\n",
      "Peak corr (max): 0.9293739364701986, occurs at x_coordinate: 1\n",
      "Peak corr (median): 0.5243391870583959, occurs at x_coordinate: 1\n",
      "Peak corr (max): 1.3606717522361382, occurs at x_coordinate: 1\n",
      "p-value for 0: 1.0796385424467754e-07\n",
      "p-value for 1: 1.0\n",
      "p-value for 2: 1.3206622401627286e-32\n",
      "p-value for 3: 2.8197430331852675e-39\n",
      "p-value for 4: 8.662864009198411e-46\n",
      "p-value for 5: 3.34652063096176e-49\n"
     ]
    },
    {
     "data": {
      "image/png": "[encoded data removed]",
      "text/plain": [
       "<Figure size 432x288 with 1 Axes>"
      ]
     },
     "metadata": {
      "needs_background": "light"
     },
     "output_type": "display_data"
    }
   ],
   "source": [
    "model_name = 'whisper_tiny'\n",
    "bin_width = 50\n",
    "area = 'all'\n",
    "threshold = 0.3\n",
    "mVocs = True if 'mVocs' in trained_identifier else False\n",
    "normalized=True\n",
    "save_tikz=False\n",
    "trained_identifier = 'timit_trf_lags300_bw50_naplib_matched'\n",
    "untrained_identifiers = [f'reset_{trained_identifier}']\n",
    "tikz_indicator = 'trf'\n",
    "baseline_identifier = f\"STRF_freqs80_mel_{trained_identifier}\"\n",
    "trained_identifier = 'ucsf_timit_trf_lags300_bw50_random_conv'\n",
    "dists = RegPlotter.plot_all_layers_trained_and_shuffled(\n",
    "                model_name=model_name,\n",
    "                bin_width=bin_width,\n",
    "                area=area,\n",
    "                normalized=normalized,\n",
    "                threshold=threshold,\n",
    "                mVocs=mVocs,\n",
    "                save_tikz=save_tikz,\n",
    "                trained_identifier=trained_identifier,\n",
    "                untrained_identifiers=untrained_identifiers,\n",
    "                baseline_identifier=baseline_identifier,\n",
    "                )"
   ]
  },
  {
   "cell_type": "code",
   "execution_count": 6,
   "id": "225e51e6",
   "metadata": {},
   "outputs": [
    {
     "name": "stdout",
     "output_type": "stream",
     "text": [
      "Trained medians: [0.471, 0.47, 0.505, 0.509, 0.511, 0.511]\n",
      "Untrained medians: [0.466, 0.524, 0.4, 0.402, 0.402, 0.399]\n"
     ]
    }
   ],
   "source": [
    "trained_medians = [round(np.median(dist),3) for dist in dists[0].values()]\n",
    "untrained_medians = [round(np.median(dist),3) for dist in dists[1].values()]\n",
    "print(f\"Trained medians: {trained_medians}\")\n",
    "print(f\"Untrained medians: {untrained_medians}\")"
   ]
  },
  {
   "cell_type": "markdown",
   "id": "6acf6010",
   "metadata": {},
   "source": [
    "### random conv GELU"
   ]
  },
  {
   "cell_type": "code",
   "execution_count": 7,
   "id": "b5460b01",
   "metadata": {},
   "outputs": [
    {
     "name": "stdout",
     "output_type": "stream",
     "text": [
      "INFO:Plotting trained and shuffled distributions for whisper_tiny\n",
      "INFO:Extracting column: normalized_test_cc\n",
      "INFO:Filtering 'normalizer' using multiple of 0.300 with std dev ...\n",
      "INFO:Number of channels returned: (498,)\n",
      "INFO:Extracting column: normalized_test_cc\n",
      "INFO:Filtering 'normalizer' using multiple of 0.300 with std dev ...\n",
      "INFO:Peak corr (median): 0.5454176503550063, occurs at x_coordinate: 2\n",
      "INFO:Peak corr (max): 0.9951102695460958, occurs at x_coordinate: 4\n",
      "INFO:Peak corr (median): 0.5243391870583959, occurs at x_coordinate: 1\n",
      "INFO:Peak corr (max): 1.3606717522361382, occurs at x_coordinate: 1\n"
     ]
    },
    {
     "data": {
      "image/png": "[encoded data removed]",
      "text/plain": [
       "<Figure size 432x288 with 1 Axes>"
      ]
     },
     "metadata": {
      "needs_background": "light"
     },
     "output_type": "display_data"
    }
   ],
   "source": [
    "model_name = 'whisper_tiny'\n",
    "bin_width = 50\n",
    "area = 'all'\n",
    "threshold = 0.3\n",
    "normalized=True\n",
    "save_tikz=False\n",
    "trained_identifier = 'timit_trf_lags300_bw50_naplib_matched'\n",
    "untrained_identifiers = [f'reset_{trained_identifier}']\n",
    "tikz_indicator = 'trf'\n",
    "baseline_identifier = f\"STRF_freqs80_mel_{trained_identifier}\"\n",
    "trained_identifier = 'ucsf_timit_trf_lags300_bw50_random_conv_gelu'\n",
    "mVocs = True if 'mVocs' in trained_identifier else False\n",
    "dists = RegPlotter.plot_all_layers_trained_and_shuffled(\n",
    "                model_name=model_name,\n",
    "                bin_width=bin_width,\n",
    "                area=area,\n",
    "                normalized=normalized,\n",
    "                threshold=threshold,\n",
    "                mVocs=mVocs,\n",
    "                save_tikz=save_tikz,\n",
    "                trained_identifier=trained_identifier,\n",
    "                untrained_identifiers=untrained_identifiers,\n",
    "                baseline_identifier=baseline_identifier,\n",
    "                )"
   ]
  },
  {
   "cell_type": "markdown",
   "id": "3573229e",
   "metadata": {},
   "source": [
    "### all linear projections"
   ]
  },
  {
   "cell_type": "code",
   "execution_count": 4,
   "id": "9e98867d",
   "metadata": {},
   "outputs": [
    {
     "name": "stdout",
     "output_type": "stream",
     "text": [
      "Identifier: timit_trf_lags300_bw50_naplib_matched\n",
      "INFO:Extracting column: normalized_test_cc\n",
      "INFO:Filtering 'normalizer' using multiple of 0.500 with std dev ...\n",
      "INFO:Peak corr (median): 0.5793349635051107, occurs at x_coordinate: 1\n",
      "INFO:Peak corr (max): 1.3296977999683492, occurs at x_coordinate: 2\n",
      "Identifier: reset_timit_trf_lags300_bw50_naplib_matched\n",
      "INFO:Extracting column: normalized_test_cc\n",
      "INFO:Filtering 'normalizer' using multiple of 0.500 with std dev ...\n",
      "INFO:Peak corr (median): 0.5459963485760408, occurs at x_coordinate: 1\n",
      "INFO:Peak corr (max): 1.232099991047162, occurs at x_coordinate: 1\n",
      "Identifier: ucsf_timit_trf_lags300_bw50_random_proj\n",
      "INFO:Extracting column: normalized_test_cc\n",
      "INFO:Filtering 'normalizer' using multiple of 0.500 with std dev ...\n",
      "INFO:Peak corr (median): 0.5295415678871297, occurs at x_coordinate: 4\n",
      "INFO:Peak corr (max): 0.8429256667237373, occurs at x_coordinate: 5\n",
      "Identifier: ucsf_timit_trf_lags300_bw50_random_conv\n",
      "INFO:Extracting column: normalized_test_cc\n",
      "INFO:Filtering 'normalizer' using multiple of 0.500 with std dev ...\n",
      "INFO:Peak corr (median): 0.5304623466531455, occurs at x_coordinate: 5\n",
      "INFO:Peak corr (max): 0.8566990505676134, occurs at x_coordinate: 4\n"
     ]
    },
    {
     "data": {
      "text/plain": [
       "(0.0, 1.0)"
      ]
     },
     "execution_count": 4,
     "metadata": {},
     "output_type": "execute_result"
    },
    {
     "data": {
      "image/png": "[encoded data removed]",
      "text/plain": [
       "<Figure size 432x288 with 1 Axes>"
      ]
     },
     "metadata": {
      "needs_background": "light"
     },
     "output_type": "display_data"
    }
   ],
   "source": [
    "from matplotlib.lines import Line2D\n",
    "\n",
    "model_name = 'whisper_tiny'\n",
    "identifiers = {\n",
    "    'trained': 'timit_trf_lags300_bw50_naplib_matched',\n",
    "    'reset': 'reset_timit_trf_lags300_bw50_naplib_matched',\n",
    "    # 'reset_1': 'ucsf_reset_timit_trf_lags300_bw50_naplib_matched_1',\n",
    "    # 'reset_2': 'ucsf_reset_timit_trf_lags300_bw50_naplib_matched_2',\n",
    "    # 'reset_3': 'ucsf_reset_timit_trf_lags300_bw50_naplib_matched_3',\n",
    "    'rand_linear': 'ucsf_timit_trf_lags300_bw50_random_proj',\n",
    "    'rand_conv': 'ucsf_timit_trf_lags300_bw50_random_conv',\n",
    "    # 'rand_conv_gelu': 'ucsf_timit_trf_lags300_bw50_random_conv_gelu',\n",
    "    \n",
    "}\n",
    "blues = ['#00008B', '#003366', '#4682B4', '#87CEEB', '#ADD8E6']\n",
    "colors = {\n",
    "    'trained': 'red', 'rand_linear': 'green', 'rand_conv': 'orange',\n",
    "    'rand_conv_gelu': 'purple', 'reset': blues[0], 'reset_1': blues[1], \n",
    "    'reset_2': blues[2], 'reset_3': blues[3], \n",
    "}\n",
    "area = 'all'\n",
    "bin_width = 50\n",
    "delay = 0\n",
    "threshold = 0.5\n",
    "mVocs = False\n",
    "normalized=True\n",
    "save_tikz=False\n",
    "# colors = ['red', 'blue', 'green', 'orange', 'purple', 'yellow', 'gray', 'black']\n",
    "ax = None\n",
    "alpha = 0.1\n",
    "legends = []\n",
    "display_inter_quartile_range = False\n",
    "for idx, (label, iden) in enumerate(identifiers.items()):\n",
    "    print(f\"Identifier: {iden}\")\n",
    "    color = colors[label]\n",
    "    corr_obj = Correlations(model_name+'_'+iden)\n",
    "    data_dist = corr_obj.get_corr_all_layers_for_bin_width(\n",
    "                    neural_area=area, bin_width=bin_width, delay=delay,\n",
    "                    threshold=threshold, normalized=normalized,\n",
    "                    mVocs=mVocs, \n",
    "                )\n",
    "    # plotting individual distributions...\n",
    "    ax=RegPlotter.plot_line_with_shaded_region(\n",
    "        data_dict=data_dist, color=color, alpha=alpha, ax=ax,\n",
    "        display_inter_quartile_range=display_inter_quartile_range,\n",
    "        display_dotted_lines=False,\n",
    "        )\n",
    "\n",
    "    legends.append(\n",
    "        Line2D([0], [0], color=color, lw=2, label=label,),\n",
    "    )\n",
    "\n",
    "plt.axhline(0.4167, color='black', lw=1, ls='--')\n",
    "plt.legend(handles=legends)\n",
    "ax.set_ylim(0.0, 1.0)\n",
    "# ax.set_xlim(0.0, 8)"
   ]
  },
  {
   "cell_type": "code",
   "execution_count": 20,
   "id": "eeb2f470",
   "metadata": {},
   "outputs": [
    {
     "name": "stdout",
     "output_type": "stream",
     "text": [
      "Identifier: timit_trf_lags300_bw50_naplib_matched\n",
      "INFO:Extracting column: normalized_test_cc\n",
      "INFO:Filtering 'normalizer' using multiple of 1.000 with std dev ...\n",
      "INFO:Peak corr (median): 0.5994906353516909, occurs at x_coordinate: 1\n",
      "INFO:Peak corr (max): 1.0445834885727974, occurs at x_coordinate: 1\n",
      "Identifier: reset_timit_trf_lags300_bw50_naplib_matched\n",
      "INFO:Extracting column: normalized_test_cc\n",
      "INFO:Filtering 'normalizer' using multiple of 1.000 with std dev ...\n",
      "INFO:Peak corr (median): 0.5634217203390322, occurs at x_coordinate: 1\n",
      "INFO:Peak corr (max): 1.0005916242681347, occurs at x_coordinate: 1\n",
      "Identifier: ucsf_reset_timit_trf_lags300_bw50_naplib_matched_1\n",
      "INFO:Extracting column: normalized_test_cc\n",
      "INFO:Filtering 'normalizer' using multiple of 1.000 with std dev ...\n",
      "INFO:Peak corr (median): 0.5749627037234071, occurs at x_coordinate: 1\n",
      "INFO:Peak corr (max): 0.9001510909400163, occurs at x_coordinate: 4\n",
      "Identifier: ucsf_reset_timit_trf_lags300_bw50_naplib_matched_2\n",
      "INFO:Extracting column: normalized_test_cc\n",
      "INFO:Filtering 'normalizer' using multiple of 1.000 with std dev ...\n",
      "INFO:Peak corr (median): 0.574962703723408, occurs at x_coordinate: 1\n",
      "INFO:Peak corr (max): 0.9001510909403162, occurs at x_coordinate: 4\n",
      "Identifier: ucsf_reset_timit_trf_lags300_bw50_naplib_matched_3\n",
      "INFO:Extracting column: normalized_test_cc\n",
      "INFO:Filtering 'normalizer' using multiple of 1.000 with std dev ...\n",
      "INFO:Peak corr (median): 0.5758240857701442, occurs at x_coordinate: 1\n",
      "INFO:Peak corr (max): 0.9001510909398827, occurs at x_coordinate: 4\n",
      "Identifier: ucsf_timit_trf_lags300_bw50_random_proj\n",
      "INFO:Extracting column: normalized_test_cc\n",
      "INFO:Filtering 'normalizer' using multiple of 1.000 with std dev ...\n",
      "INFO:Peak corr (median): 0.5407099891023737, occurs at x_coordinate: 4\n",
      "INFO:Peak corr (max): 0.7839302824523849, occurs at x_coordinate: 5\n",
      "Identifier: ucsf_timit_trf_lags300_bw50_random_conv\n",
      "INFO:Extracting column: normalized_test_cc\n",
      "INFO:Filtering 'normalizer' using multiple of 1.000 with std dev ...\n",
      "INFO:Peak corr (median): 0.5463921813624657, occurs at x_coordinate: 4\n",
      "INFO:Peak corr (max): 0.8566990505676134, occurs at x_coordinate: 4\n",
      "Identifier: ucsf_timit_trf_lags300_bw50_random_conv_gelu\n",
      "INFO:Extracting column: normalized_test_cc\n",
      "INFO:Filtering 'normalizer' using multiple of 1.000 with std dev ...\n",
      "INFO:Peak corr (median): 0.5842584508631997, occurs at x_coordinate: 2\n",
      "INFO:Peak corr (max): 0.8988018846515932, occurs at x_coordinate: 1\n"
     ]
    },
    {
     "data": {
      "text/plain": [
       "(0.0, 8.0)"
      ]
     },
     "execution_count": 20,
     "metadata": {},
     "output_type": "execute_result"
    },
    {
     "data": {
      "image/png": "[encoded data removed]",
      "text/plain": [
       "<Figure size 432x288 with 1 Axes>"
      ]
     },
     "metadata": {
      "needs_background": "light"
     },
     "output_type": "display_data"
    }
   ],
   "source": [
    "from matplotlib.lines import Line2D\n",
    "\n",
    "model_name = 'whisper_tiny'\n",
    "identifiers = {\n",
    "    'trained': 'timit_trf_lags300_bw50_naplib_matched',\n",
    "    'reset': 'reset_timit_trf_lags300_bw50_naplib_matched',\n",
    "    'reset_1': 'ucsf_reset_timit_trf_lags300_bw50_naplib_matched_1',\n",
    "    'reset_2': 'ucsf_reset_timit_trf_lags300_bw50_naplib_matched_2',\n",
    "    'reset_3': 'ucsf_reset_timit_trf_lags300_bw50_naplib_matched_3',\n",
    "    'rand_linear': 'ucsf_timit_trf_lags300_bw50_random_proj',\n",
    "    'rand_conv': 'ucsf_timit_trf_lags300_bw50_random_conv',\n",
    "    'rand_conv_gelu': 'ucsf_timit_trf_lags300_bw50_random_conv_gelu',\n",
    "    \n",
    "}\n",
    "blues = ['#00008B', '#003366', '#4682B4', '#87CEEB', '#ADD8E6']\n",
    "colors = {\n",
    "    'trained': 'red', 'rand_linear': 'green', 'rand_conv': 'orange',\n",
    "    'rand_conv_gelu': 'purple', 'reset': blues[0], 'reset_1': blues[1], \n",
    "    'reset_2': blues[2], 'reset_3': blues[3], \n",
    "}\n",
    "area = 'all'\n",
    "bin_width = 50\n",
    "delay = 0\n",
    "threshold = 1.0\n",
    "mVocs = False\n",
    "normalized=True\n",
    "save_tikz=False\n",
    "# colors = ['red', 'blue', 'green', 'orange', 'purple', 'yellow', 'gray', 'black']\n",
    "ax = None\n",
    "alpha = 0.1\n",
    "legends = []\n",
    "display_inter_quartile_range = False\n",
    "for idx, (label, iden) in enumerate(identifiers.items()):\n",
    "    print(f\"Identifier: {iden}\")\n",
    "    color = colors[label]\n",
    "    corr_obj = Correlations(model_name+'_'+iden)\n",
    "    data_dist = corr_obj.get_corr_all_layers_for_bin_width(\n",
    "                    neural_area=area, bin_width=bin_width, delay=delay,\n",
    "                    threshold=threshold, normalized=normalized,\n",
    "                    mVocs=mVocs, \n",
    "                )\n",
    "    # plotting individual distributions...\n",
    "    ax=RegPlotter.plot_line_with_shaded_region(\n",
    "        data_dict=data_dist, color=color, alpha=alpha, ax=ax,\n",
    "        display_inter_quartile_range=display_inter_quartile_range,\n",
    "        display_dotted_lines=False,\n",
    "        )\n",
    "\n",
    "    legends.append(\n",
    "        Line2D([0], [0], color=color, lw=2, label=label,),\n",
    "    )\n",
    "\n",
    "plt.axhline(0.4167, color='black', lw=1, ls='--')\n",
    "plt.legend(handles=legends)\n",
    "ax.set_ylim(0.0, 1.0)\n",
    "ax.set_xlim(0.0, 8)"
   ]
  },
  {
   "cell_type": "markdown",
   "id": "565c38b7",
   "metadata": {},
   "source": [
    "### setting up..."
   ]
  },
  {
   "cell_type": "code",
   "execution_count": 27,
   "id": "2a9a1d97",
   "metadata": {},
   "outputs": [],
   "source": [
    "import numpy as np\n",
    "import torch\n",
    "from scipy.signal import resample\n",
    "import torch.nn as nn\n",
    "from collections import OrderedDict\n",
    "from auditory_cortex.neural_data import create_neural_dataset\n",
    "from auditory_cortex.dnn_feature_extractor import create_feature_extractor\n",
    "from auditory_cortex.dataloader2 import DataLoader\n",
    "\n",
    "from auditory_cortex.data_assembler import RandProjAssembler, STRFDataAssembler"
   ]
  },
  {
   "cell_type": "code",
   "execution_count": 28,
   "id": "d110b948",
   "metadata": {},
   "outputs": [],
   "source": [
    "model_name = 'whisper_tiny'\n",
    "shuffled = False\n",
    "dataset_name = 'ucsf'\n",
    "session = 200206"
   ]
  },
  {
   "cell_type": "code",
   "execution_count": 29,
   "id": "6373a1c6",
   "metadata": {},
   "outputs": [
    {
     "name": "stderr",
     "output_type": "stream",
     "text": [
      "Special tokens have been added in the vocabulary, make sure the associated word embeddings are fine-tuned or trained.\n"
     ]
    },
    {
     "name": "stdout",
     "output_type": "stream",
     "text": [
      "INFO:NeuralData:  Creating object for session: 200206 ... \n",
      "INFO:Done.\n"
     ]
    }
   ],
   "source": [
    "feature_extractor = create_feature_extractor(model_name, shuffled=shuffled)\n",
    "dataset_obj = create_neural_dataset(dataset_name, session)"
   ]
  },
  {
   "cell_type": "code",
   "execution_count": 7,
   "id": "99c79656",
   "metadata": {},
   "outputs": [
    {
     "name": "stdout",
     "output_type": "stream",
     "text": [
      "INFO:creating Dataset for timit data.\n",
      "INFO:Reading features for model: whisper_tiny\n",
      "INFO:Resamping ANN features at bin-width: 50\n",
      "INFO:Loading data for session at bin_width-50ms.\n"
     ]
    }
   ],
   "source": [
    "torch.manual_seed(42)\n",
    "\n",
    "layer_id = 0\n",
    "bin_width = 50\n",
    "mVocs = False\n",
    "dataset = RandProjAssembler(\n",
    "        dataset_obj, feature_extractor, layer_id, bin_width=bin_width, mVocs=mVocs,\n",
    "        conv_layers=False, non_linearity=False\n",
    "        )"
   ]
  },
  {
   "cell_type": "code",
   "execution_count": 8,
   "id": "d7c579fc",
   "metadata": {},
   "outputs": [
    {
     "data": {
      "text/plain": [
       "Sequential(\n",
       "  (rand_linear_0): Linear(in_features=80, out_features=384, bias=True)\n",
       ")"
      ]
     },
     "execution_count": 8,
     "metadata": {},
     "output_type": "execute_result"
    }
   ],
   "source": [
    "dataset.linear_stack"
   ]
  },
  {
   "cell_type": "code",
   "execution_count": 9,
   "id": "aaff9392",
   "metadata": {},
   "outputs": [],
   "source": [
    "sampling_rate = dataset.dataloader.get_sampling_rate(mVocs=dataset.mVocs)\n",
    "        \n",
    "all_stim_ids = np.concatenate([dataset.training_stim_ids, dataset.testing_stim_ids])\n",
    "features = {}\n",
    "        "
   ]
  },
  {
   "cell_type": "code",
   "execution_count": 10,
   "id": "f6d55524",
   "metadata": {},
   "outputs": [],
   "source": [
    "stim_id = all_stim_ids[0]\n",
    "aud = dataset.dataloader.get_stim_audio(stim_id, mVocs=dataset.mVocs)\n",
    "num_bins = dataset.dataloader.get_num_bins(stim_id, bin_width=dataset.bin_width, mVocs=dataset.mVocs)\n",
    "spect = dataset.get_spectrogram(aud, sampling_rate)"
   ]
  },
  {
   "cell_type": "code",
   "execution_count": 19,
   "id": "053dd6b2",
   "metadata": {},
   "outputs": [
    {
     "data": {
      "text/plain": [
       "50"
      ]
     },
     "execution_count": 19,
     "metadata": {},
     "output_type": "execute_result"
    }
   ],
   "source": [
    "dataset.bin_width"
   ]
  },
  {
   "cell_type": "code",
   "execution_count": 11,
   "id": "7dda67bf",
   "metadata": {},
   "outputs": [
    {
     "data": {
      "text/plain": [
       "(181, 80)"
      ]
     },
     "execution_count": 11,
     "metadata": {},
     "output_type": "execute_result"
    }
   ],
   "source": [
    "spect.shape"
   ]
  },
  {
   "cell_type": "code",
   "execution_count": 12,
   "id": "f76e77b8",
   "metadata": {},
   "outputs": [
    {
     "data": {
      "text/plain": [
       "36"
      ]
     },
     "execution_count": 12,
     "metadata": {},
     "output_type": "execute_result"
    }
   ],
   "source": [
    "num_bins"
   ]
  },
  {
   "cell_type": "code",
   "execution_count": 13,
   "id": "c352be0b",
   "metadata": {},
   "outputs": [],
   "source": [
    "import torch\n",
    "with torch.no_grad():\n",
    "    spect = torch.from_numpy(spect).to(dataset.device)\n",
    "    feats = dataset.linear_stack(spect).cpu().numpy()"
   ]
  },
  {
   "cell_type": "code",
   "execution_count": 14,
   "id": "86feb58f",
   "metadata": {},
   "outputs": [
    {
     "data": {
      "text/plain": [
       "(181, 384)"
      ]
     },
     "execution_count": 14,
     "metadata": {},
     "output_type": "execute_result"
    }
   ],
   "source": [
    "feats.shape"
   ]
  },
  {
   "cell_type": "code",
   "execution_count": 15,
   "id": "10101672",
   "metadata": {},
   "outputs": [],
   "source": [
    "if dataset.conv_layers:\n",
    "    feats = feats.squeeze().transpose() # (t, num_freqs)"
   ]
  },
  {
   "cell_type": "code",
   "execution_count": 16,
   "id": "00021af5",
   "metadata": {},
   "outputs": [
    {
     "data": {
      "text/plain": [
       "(181, 384)"
      ]
     },
     "execution_count": 16,
     "metadata": {},
     "output_type": "execute_result"
    }
   ],
   "source": [
    "feats.shape"
   ]
  },
  {
   "cell_type": "code",
   "execution_count": 17,
   "id": "2fc25f19",
   "metadata": {},
   "outputs": [],
   "source": [
    "features[stim_id] = resample(feats, num_bins, axis=0)   # (t, num_freqs)"
   ]
  },
  {
   "cell_type": "code",
   "execution_count": 18,
   "id": "621a5865",
   "metadata": {},
   "outputs": [
    {
     "data": {
      "text/plain": [
       "(36, 384)"
      ]
     },
     "execution_count": 18,
     "metadata": {},
     "output_type": "execute_result"
    }
   ],
   "source": [
    "features[stim_id].shape"
   ]
  },
  {
   "cell_type": "code",
   "execution_count": 6,
   "id": "ff28cd8c",
   "metadata": {},
   "outputs": [
    {
     "data": {
      "text/plain": [
       "dict_keys([1, 2, 3, 4, 5, 6, 7, 8, 9, 10, 11, 14, 15, 16, 17, 18, 19, 20, 21, 22, 23, 24, 25, 26, 27, 28, 29, 30, 31, 33, 34, 35, 36, 37, 38, 39, 40, 41, 42, 44, 45, 46, 47, 48, 49, 50, 51, 52, 53, 54, 55, 57, 58, 59, 60, 61, 62, 63, 64, 65, 66, 67, 68, 69, 70, 71, 72, 73, 74, 75, 76, 77, 78, 79, 80, 81, 82, 83, 84, 85, 86, 87, 88, 89, 90, 91, 92, 93, 94, 95, 96, 97, 98, 99, 100, 101, 102, 103, 104, 105, 106, 107, 108, 109, 110, 111, 112, 113, 114, 115, 116, 117, 118, 119, 120, 121, 122, 123, 124, 125, 126, 127, 128, 129, 130, 131, 132, 133, 134, 135, 136, 137, 138, 139, 140, 141, 142, 143, 144, 145, 146, 147, 148, 149, 150, 151, 152, 153, 154, 155, 156, 157, 158, 159, 160, 161, 162, 164, 165, 166, 167, 168, 169, 170, 171, 172, 173, 174, 175, 176, 177, 178, 179, 180, 181, 182, 183, 184, 185, 186, 187, 188, 189, 190, 191, 192, 193, 194, 195, 196, 197, 198, 199, 200, 201, 202, 203, 204, 205, 206, 207, 208, 209, 210, 211, 213, 214, 215, 216, 217, 219, 220, 221, 222, 223, 224, 225, 226, 227, 228, 229, 230, 231, 232, 233, 234, 235, 236, 237, 238, 239, 240, 241, 242, 243, 244, 245, 246, 247, 248, 249, 250, 251, 252, 253, 254, 255, 256, 257, 258, 259, 260, 261, 262, 263, 264, 265, 266, 267, 268, 269, 270, 271, 272, 273, 274, 275, 276, 277, 278, 279, 280, 281, 282, 283, 284, 285, 286, 288, 289, 290, 291, 292, 293, 294, 295, 296, 297, 298, 299, 300, 301, 302, 303, 304, 305, 306, 307, 309, 310, 311, 312, 313, 314, 315, 316, 317, 318, 319, 320, 321, 322, 323, 324, 325, 326, 327, 328, 329, 330, 331, 332, 333, 334, 335, 336, 337, 338, 339, 340, 341, 342, 343, 344, 345, 346, 347, 348, 349, 350, 351, 352, 353, 354, 355, 356, 357, 358, 359, 360, 361, 362, 363, 364, 365, 366, 367, 368, 369, 370, 371, 372, 373, 374, 375, 376, 377, 378, 379, 380, 381, 382, 383, 384, 385, 386, 387, 388, 389, 390, 391, 392, 393, 394, 395, 396, 397, 398, 399, 400, 401, 402, 403, 404, 405, 406, 407, 408, 409, 410, 411, 412, 413, 414, 415, 416, 417, 418, 419, 420, 421, 422, 423, 424, 425, 426, 427, 428, 429, 430, 431, 432, 433, 434, 435, 436, 437, 438, 439, 440, 441, 442, 443, 444, 445, 446, 447, 448, 449, 450, 451, 452, 453, 454, 455, 456, 457, 458, 459, 460, 461, 462, 463, 464, 465, 466, 467, 468, 469, 470, 471, 472, 473, 474, 475, 476, 477, 478, 479, 480, 481, 482, 483, 484, 485, 486, 487, 488, 489, 490, 491, 492, 493, 494, 495, 496, 497, 498, 499, 12, 13, 32, 43, 56, 163, 212, 218, 287, 308])"
      ]
     },
     "execution_count": 6,
     "metadata": {},
     "output_type": "execute_result"
    }
   ],
   "source": [
    "dataset.data_cache['features'].keys()"
   ]
  },
  {
   "cell_type": "code",
   "execution_count": 7,
   "id": "e0c5c2dd",
   "metadata": {},
   "outputs": [
    {
     "data": {
      "text/plain": [
       "(36, 384)"
      ]
     },
     "execution_count": 7,
     "metadata": {},
     "output_type": "execute_result"
    }
   ],
   "source": [
    "dataset.data_cache['features'][1].shape"
   ]
  },
  {
   "cell_type": "code",
   "execution_count": 8,
   "id": "edfa651a",
   "metadata": {},
   "outputs": [
    {
     "data": {
      "text/plain": [
       "(1, 36)"
      ]
     },
     "execution_count": 8,
     "metadata": {},
     "output_type": "execute_result"
    }
   ],
   "source": [
    "dataset.data_cache['training_spikes'][1][1].shape"
   ]
  },
  {
   "cell_type": "code",
   "execution_count": 25,
   "id": "75137d33",
   "metadata": {},
   "outputs": [
    {
     "data": {
      "text/plain": [
       "dict_keys([0, 1, 2, 3, 4, 5, 6, 7, 8, 9, 10, 11, 12, 13, 14, 15, 16, 17, 18, 19, 20, 21, 22, 23, 24, 25, 26, 27, 28, 29, 30, 31, 32, 33, 34, 35, 36, 37, 38, 39, 40, 41, 42, 43, 44, 45, 46, 47, 48, 49, 50, 51, 52, 53, 54, 55, 56, 57, 58, 59, 60, 61, 62, 63])"
      ]
     },
     "execution_count": 25,
     "metadata": {},
     "output_type": "execute_result"
    }
   ],
   "source": [
    "dataset.data_cache['testing_spikes'][12].keys()"
   ]
  },
  {
   "cell_type": "code",
   "execution_count": 23,
   "id": "e20b2311",
   "metadata": {},
   "outputs": [
    {
     "data": {
      "text/plain": [
       "dict_keys(['features', 'training_spikes', 'testing_spikes'])"
      ]
     },
     "execution_count": 23,
     "metadata": {},
     "output_type": "execute_result"
    }
   ],
   "source": [
    "dataset.data_cache.keys()"
   ]
  },
  {
   "cell_type": "code",
   "execution_count": 19,
   "id": "1bc8245d",
   "metadata": {},
   "outputs": [
    {
     "data": {
      "text/plain": [
       "(1, 36)"
      ]
     },
     "execution_count": 19,
     "metadata": {},
     "output_type": "execute_result"
    }
   ],
   "source": [
    "dataset.data_cache['training_spikes'][1][0].shape"
   ]
  },
  {
   "cell_type": "code",
   "execution_count": 5,
   "id": "eee17add",
   "metadata": {},
   "outputs": [
    {
     "data": {
      "text/plain": [
       "(1000, 4)"
      ]
     },
     "execution_count": 5,
     "metadata": {},
     "output_type": "execute_result"
    }
   ],
   "source": [
    "a = np.random.randn(4, 1000)\n",
    "a.transpose().shape"
   ]
  },
  {
   "cell_type": "code",
   "execution_count": 8,
   "id": "0d1ffc1f",
   "metadata": {},
   "outputs": [
    {
     "data": {
      "text/plain": [
       "(1, 4, 1000)"
      ]
     },
     "execution_count": 8,
     "metadata": {},
     "output_type": "execute_result"
    }
   ],
   "source": [
    "np.expand_dims(a, axis=0).shape"
   ]
  },
  {
   "cell_type": "code",
   "execution_count": 7,
   "id": "4906b03d",
   "metadata": {},
   "outputs": [],
   "source": [
    "dataloader = DataLoader(dataset_obj, feature_extractor)"
   ]
  },
  {
   "cell_type": "code",
   "execution_count": 16,
   "id": "e4e87599",
   "metadata": {},
   "outputs": [],
   "source": [
    "test_aud = np.random.randn(1, 16000)\n",
    "spect = dataloader.feature_extractor.process_input(test_aud)\n",
    "spect_dims = spect.shape[1]"
   ]
  },
  {
   "cell_type": "code",
   "execution_count": 19,
   "id": "47f10d88",
   "metadata": {},
   "outputs": [
    {
     "data": {
      "text/plain": [
       "tensor([[0.7887, 1.0917, 1.2110,  ..., 1.1432, 1.0428, 1.0067],\n",
       "        [0.8875, 1.1419, 1.2149,  ..., 1.1542, 1.0260, 1.2088],\n",
       "        [1.1442, 1.2387, 1.1834,  ..., 1.1389, 1.0771, 1.1856],\n",
       "        ...,\n",
       "        [1.0857, 1.1917, 1.1705,  ..., 1.0639, 1.1124, 1.1534],\n",
       "        [1.0250, 1.1663, 1.1555,  ..., 1.1534, 1.1482, 1.1632],\n",
       "        [1.0900, 1.1001, 1.0687,  ..., 1.1596, 1.1015, 1.1462]])"
      ]
     },
     "execution_count": 19,
     "metadata": {},
     "output_type": "execute_result"
    }
   ],
   "source": [
    "spect[0]"
   ]
  },
  {
   "cell_type": "code",
   "execution_count": 20,
   "id": "2d888e79",
   "metadata": {},
   "outputs": [],
   "source": [
    "out = resample(spect[0], 50, axis=1)"
   ]
  },
  {
   "cell_type": "code",
   "execution_count": 21,
   "id": "36533290",
   "metadata": {},
   "outputs": [
    {
     "data": {
      "text/plain": [
       "array([[0.8786483, 1.1998795, 1.0743364, ..., 1.0100435, 1.0752099,\n",
       "        1.0917673],\n",
       "       [1.0370783, 1.1682376, 1.1212031, ..., 1.0672693, 1.1874471,\n",
       "        1.1045382],\n",
       "       [1.2088573, 1.1424588, 1.1507007, ..., 1.1684867, 1.1594061,\n",
       "        1.0938338],\n",
       "       ...,\n",
       "       [1.1452688, 1.1707325, 1.1120845, ..., 1.1204675, 1.1089002,\n",
       "        1.0935537],\n",
       "       [1.0984689, 1.1474259, 1.1389393, ..., 1.1089834, 1.1233714,\n",
       "        1.1545224],\n",
       "       [1.098413 , 1.0879328, 1.1447287, ..., 1.1221571, 1.1154056,\n",
       "        1.1413833]], dtype=float32)"
      ]
     },
     "execution_count": 21,
     "metadata": {},
     "output_type": "execute_result"
    }
   ],
   "source": [
    "out"
   ]
  },
  {
   "cell_type": "code",
   "execution_count": 22,
   "id": "61d5e3b8",
   "metadata": {},
   "outputs": [],
   "source": [
    "aud = np.random.randn(16000)\n",
    "spect = dataloader.feature_extractor.process_input(aud)"
   ]
  },
  {
   "cell_type": "code",
   "execution_count": 28,
   "id": "110f31fb",
   "metadata": {},
   "outputs": [],
   "source": [
    "assert aud.ndim == 1, \"Spectrogram should be 1D\""
   ]
  },
  {
   "cell_type": "code",
   "execution_count": 23,
   "id": "27cb8d81",
   "metadata": {},
   "outputs": [
    {
     "data": {
      "text/plain": [
       "torch.Size([1, 80, 100])"
      ]
     },
     "execution_count": 23,
     "metadata": {},
     "output_type": "execute_result"
    }
   ],
   "source": [
    "spect.shape"
   ]
  },
  {
   "cell_type": "code",
   "execution_count": 30,
   "id": "a7fbf562",
   "metadata": {},
   "outputs": [
    {
     "ename": "AttributeError",
     "evalue": "'DataLoader' object has no attribute 'device'",
     "output_type": "error",
     "traceback": [
      "\u001b[0;31m---------------------------------------------------------------------------\u001b[0m",
      "\u001b[0;31mAttributeError\u001b[0m                            Traceback (most recent call last)",
      "Input \u001b[0;32mIn [30]\u001b[0m, in \u001b[0;36m<cell line: 1>\u001b[0;34m()\u001b[0m\n\u001b[0;32m----> 1\u001b[0m \u001b[43mdataloader\u001b[49m\u001b[38;5;241;43m.\u001b[39;49m\u001b[43mdevice\u001b[49m()\n",
      "\u001b[0;31mAttributeError\u001b[0m: 'DataLoader' object has no attribute 'device'"
     ]
    }
   ],
   "source": [
    "dataloader.device()"
   ]
  },
  {
   "cell_type": "code",
   "execution_count": 4,
   "id": "94115b1d",
   "metadata": {},
   "outputs": [
    {
     "name": "stderr",
     "output_type": "stream",
     "text": [
      "INFO:auditory_cortex.io_utils.io:Reading features for model: whisper_tiny\n",
      "INFO:auditory_cortex.dataloader2:Resamping ANN features at bin-width: 50\n"
     ]
    }
   ],
   "source": [
    "bin_width = 50\n",
    "mVocs = False\n",
    "all_layer_features = dataloader.get_resampled_DNN_features(bin_width=bin_width, mVocs=mVocs)"
   ]
  },
  {
   "cell_type": "code",
   "execution_count": null,
   "id": "2ecbe4ff",
   "metadata": {},
   "outputs": [
    {
     "data": {
      "text/plain": [
       "(36, 384)"
      ]
     },
     "execution_count": 8,
     "metadata": {},
     "output_type": "execute_result"
    }
   ],
   "source": [
    "layer_id = 0\n",
    "all_layer_features[layer_id][1].shape"
   ]
  },
  {
   "cell_type": "code",
   "execution_count": 9,
   "id": "769faa30",
   "metadata": {},
   "outputs": [
    {
     "data": {
      "text/plain": [
       "(36, 384)"
      ]
     },
     "execution_count": 9,
     "metadata": {},
     "output_type": "execute_result"
    }
   ],
   "source": [
    "layer_id = 1\n",
    "all_layer_features[layer_id][1].shape"
   ]
  },
  {
   "cell_type": "code",
   "execution_count": null,
   "id": "b72494f0",
   "metadata": {},
   "outputs": [
    {
     "name": "stdout",
     "output_type": "stream",
     "text": [
      "0\n"
     ]
    }
   ],
   "source": [
    "layer_id = 0\n",
    "spect_dims = 80\n",
    "feature_dims = {}\n",
    "for lid in range(layer_id,-1,-1):\n",
    "    print(lid)\n",
    "    feature_dims[lid] = all_layer_features[lid][1].shape[1]\n",
    "feature_dims[-1] = spect_dims"
   ]
  },
  {
   "cell_type": "code",
   "execution_count": 31,
   "id": "12584564",
   "metadata": {},
   "outputs": [
    {
     "data": {
      "text/plain": [
       "{0: 384, -1: 80}"
      ]
     },
     "execution_count": 31,
     "metadata": {},
     "output_type": "execute_result"
    }
   ],
   "source": [
    "feature_dims"
   ]
  },
  {
   "cell_type": "code",
   "execution_count": null,
   "id": "0fae9899",
   "metadata": {},
   "outputs": [],
   "source": []
  },
  {
   "cell_type": "code",
   "execution_count": null,
   "id": "94d4b43a",
   "metadata": {},
   "outputs": [],
   "source": [
    "\n",
    "linear_proj_layers = []\n",
    "for lid in range(layer_id+1):\n",
    "    linear_proj_layers.append(\n",
    "        nn.Linear(feature_dims[lid-1], feature_dims[lid])\n",
    "    )\n",
    "linear_stack = nn.Sequential(*linear_proj_layers)\n",
    "\n"
   ]
  },
  {
   "cell_type": "code",
   "execution_count": 43,
   "id": "4c2df0db",
   "metadata": {},
   "outputs": [
    {
     "data": {
      "text/plain": [
       "Sequential(\n",
       "  (0): Linear(in_features=80, out_features=384, bias=True)\n",
       ")"
      ]
     },
     "execution_count": 43,
     "metadata": {},
     "output_type": "execute_result"
    }
   ],
   "source": [
    "linear_stack"
   ]
  },
  {
   "cell_type": "code",
   "execution_count": 44,
   "id": "805a0b31",
   "metadata": {},
   "outputs": [],
   "source": [
    "random_input = torch.randn(1, 80)\n",
    "out = linear_stack(random_input)"
   ]
  },
  {
   "cell_type": "code",
   "execution_count": 45,
   "id": "ef9e6de2",
   "metadata": {},
   "outputs": [
    {
     "data": {
      "text/plain": [
       "torch.Size([1, 384])"
      ]
     },
     "execution_count": 45,
     "metadata": {},
     "output_type": "execute_result"
    }
   ],
   "source": [
    "out.shape"
   ]
  },
  {
   "cell_type": "code",
   "execution_count": null,
   "id": "8e63d49a",
   "metadata": {},
   "outputs": [],
   "source": [
    "self.processor = AutoProcessor.from_pretrained(repo_name, cache_dir=HF_CACHE_DIR)"
   ]
  },
  {
   "cell_type": "code",
   "execution_count": 36,
   "id": "0932c013",
   "metadata": {},
   "outputs": [
    {
     "data": {
      "text/plain": [
       "OrderedDict([(0, 1), (1, 2)])"
      ]
     },
     "execution_count": 36,
     "metadata": {},
     "output_type": "execute_result"
    }
   ],
   "source": [
    "OrderedDict({0:1, 1:2})"
   ]
  },
  {
   "cell_type": "code",
   "execution_count": null,
   "id": "2829cb42",
   "metadata": {},
   "outputs": [
    {
     "name": "stdout",
     "output_type": "stream",
     "text": [
      "0\n"
     ]
    }
   ],
   "source": [
    "layer_id = 0\n"
   ]
  },
  {
   "cell_type": "code",
   "execution_count": 20,
   "id": "18c71116",
   "metadata": {},
   "outputs": [
    {
     "data": {
      "text/plain": [
       "{3: 384, 2: 384, 1: 384, 0: 384}"
      ]
     },
     "execution_count": 20,
     "metadata": {},
     "output_type": "execute_result"
    }
   ],
   "source": [
    "feature_dims"
   ]
  },
  {
   "cell_type": "code",
   "execution_count": null,
   "id": "51f8aa7b",
   "metadata": {},
   "outputs": [
    {
     "ename": "KeyError",
     "evalue": "6",
     "output_type": "error",
     "traceback": [
      "\u001b[0;31m---------------------------------------------------------------------------\u001b[0m",
      "\u001b[0;31mKeyError\u001b[0m                                  Traceback (most recent call last)",
      "Input \u001b[0;32mIn [14]\u001b[0m, in \u001b[0;36m<cell line: 2>\u001b[0;34m()\u001b[0m\n\u001b[1;32m      1\u001b[0m layer_id \u001b[38;5;241m=\u001b[39m \u001b[38;5;241m6\u001b[39m\n\u001b[0;32m----> 2\u001b[0m \u001b[43mall_layer_features\u001b[49m\u001b[43m[\u001b[49m\u001b[43mlayer_id\u001b[49m\u001b[43m]\u001b[49m[\u001b[38;5;241m1\u001b[39m]\u001b[38;5;241m.\u001b[39mshape\n",
      "\u001b[0;31mKeyError\u001b[0m: 6"
     ]
    }
   ],
   "source": [
    "layer_features = all_layer_features[layer_id]"
   ]
  },
  {
   "cell_type": "code",
   "execution_count": null,
   "id": "b4bbfb91",
   "metadata": {},
   "outputs": [],
   "source": []
  }
 ],
 "metadata": {
  "kernelspec": {
   "display_name": "Python 3",
   "language": "python",
   "name": "python3"
  },
  "language_info": {
   "codemirror_mode": {
    "name": "ipython",
    "version": 3
   },
   "file_extension": ".py",
   "mimetype": "text/x-python",
   "name": "python",
   "nbconvert_exporter": "python",
   "pygments_lexer": "ipython3",
   "version": "3.8.5"
  }
 },
 "nbformat": 4,
 "nbformat_minor": 5
}
