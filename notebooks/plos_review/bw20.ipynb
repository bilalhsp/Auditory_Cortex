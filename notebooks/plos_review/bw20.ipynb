{
 "cells": [
  {
   "cell_type": "code",
   "execution_count": 2,
   "id": "3b2189b3",
   "metadata": {},
   "outputs": [
    {
     "name": "stdout",
     "output_type": "stream",
     "text": [
      "INFO:Please install tensorboardX: pip install tensorboardX\n",
      "WARNING:SoX could not be found!\n",
      "\n",
      "    If you do not have SoX, proceed here:\n",
      "     - - - http://sox.sourceforge.net/ - - -\n",
      "\n",
      "    If you do (or think that you should) have SoX, double-check your\n",
      "    path variables.\n",
      "    \n"
     ]
    },
    {
     "name": "stderr",
     "output_type": "stream",
     "text": [
      "/bin/sh: line 1: sox: command not found\n",
      "/home/ahmedb/projects/Wav2Letter/deepspeech.pytorch/deepspeech_pytorch/loader/data_loader.py:17: UserWarning: torchaudio._backend.set_audio_backend has been deprecated. With dispatcher enabled, this function is no-op. You can remove the function call.\n",
      "  torchaudio.set_audio_backend(\"sox_io\")\n"
     ]
    }
   ],
   "source": [
    "# ------------------  set up logging ----------------------\n",
    "import logging\n",
    "from auditory_cortex.utils import set_up_logging\n",
    "set_up_logging('info')\n",
    "\n",
    "import os\n",
    "import scipy\n",
    "import numpy as np\n",
    "import seaborn as sns\n",
    "from functools import reduce\n",
    "\n",
    "from auditory_cortex.plotters import tikzplots\n",
    "from auditory_cortex.analyses import Correlations, STRFCorrelations\n",
    "from auditory_cortex.plotters.correlation_plotter import RegPlotter\n",
    "from auditory_cortex.plotters.plotter_utils import PlotterUtils\n",
    "\n",
    "import matplotlib.pylab as plt\n",
    "import matplotlib as mpl\n",
    "from matplotlib.lines import Line2D\n",
    "%matplotlib inline\n"
   ]
  },
  {
   "cell_type": "code",
   "execution_count": 2,
   "id": "4c0229ed",
   "metadata": {},
   "outputs": [
    {
     "name": "stdout",
     "output_type": "stream",
     "text": [
      "INFO:Plotting trained and shuffled distributions for deepspeech2\n",
      "INFO:Extracting column: normalized_test_cc\n",
      "INFO:Filtering 'normalizer' using multiple of 0.500 with std dev ...\n",
      "INFO:Number of channels returned: (411,)\n",
      "INFO:Extracting column: normalized_test_cc\n",
      "INFO:Filtering 'normalizer' using multiple of 0.500 with std dev ...\n",
      "INFO:Peak corr (median): 0.4787677400333628, occurs at x_coordinate: 1\n",
      "INFO:Peak corr (max): 0.9478309884158528, occurs at x_coordinate: 1\n",
      "INFO:Peak corr (median): 0.493435076704129, occurs at x_coordinate: 1\n",
      "INFO:Peak corr (max): 0.8949343411115729, occurs at x_coordinate: 1\n"
     ]
    },
    {
     "data": {
      "image/png": "[encoded data removed]",
      "text/plain": [
       "<Figure size 432x288 with 1 Axes>"
      ]
     },
     "metadata": {
      "needs_background": "light"
     },
     "output_type": "display_data"
    }
   ],
   "source": [
    "model_name = 'deepspeech2'\n",
    "trained_identifier = 'ucsf_timit_trf_lags80_bw20_plos_review_l1'\n",
    "untrained_identifiers = ['ucsf_reset_timit_trf_lags80_bw20_plos_review_l1']\n",
    "tikz_indicator = 'trf'\n",
    "baseline_identifier = f\"STRF_freqs80_mel_wh_ucsf_timit_trf_lags80_bw20_plos_review\"\n",
    "bin_width = 20\n",
    "area = 'all'\n",
    "threshold = 0.5\n",
    "mVocs = True if 'mVocs' in trained_identifier else False\n",
    "normalized=True\n",
    "save_tikz=False\n",
    "dists = RegPlotter.plot_all_layers_trained_and_shuffled(\n",
    "        model_name=model_name,\n",
    "        bin_width=bin_width,\n",
    "        area=area,\n",
    "        normalized=normalized,\n",
    "        threshold=threshold,\n",
    "        mVocs=mVocs,\n",
    "        save_tikz=save_tikz,\n",
    "        trained_identifier=trained_identifier,\n",
    "        untrained_identifiers=untrained_identifiers,\n",
    "        baseline_identifier=baseline_identifier,\n",
    "        )"
   ]
  },
  {
   "cell_type": "code",
   "execution_count": 2,
   "id": "2113ebac",
   "metadata": {},
   "outputs": [
    {
     "name": "stdout",
     "output_type": "stream",
     "text": [
      "INFO:Plotting trained and shuffled distributions for deepspeech2\n",
      "INFO:Extracting column: normalized_test_cc\n",
      "INFO:Filtering 'normalizer' using multiple of 0.500 with std dev ...\n",
      "INFO:Number of channels returned: (404,)\n",
      "INFO:Extracting column: normalized_test_cc\n",
      "INFO:Filtering 'normalizer' using multiple of 0.500 with std dev ...\n",
      "INFO:Peak corr (median): 0.5578390831766007, occurs at x_coordinate: 2\n",
      "INFO:Peak corr (max): 0.964278401234914, occurs at x_coordinate: 1\n",
      "INFO:Peak corr (median): 0.5385852192988718, occurs at x_coordinate: 3\n",
      "INFO:Peak corr (max): 0.9726200970935044, occurs at x_coordinate: 5\n",
      "INFO:Filtering 'normalizer' using multiple of 0.500 with std dev ...\n",
      "model_name 'baseline' not recognizable!!!\n",
      "INFO:Peak corr (median): 0.4831198830295137, occurs at x_coordinate: 0\n",
      "INFO:Peak corr (max): 0.7957039808344931, occurs at x_coordinate: 0\n"
     ]
    },
    {
     "data": {
      "image/png": "[encoded data removed]",
      "text/plain": [
       "<Figure size 432x288 with 1 Axes>"
      ]
     },
     "metadata": {
      "needs_background": "light"
     },
     "output_type": "display_data"
    }
   ],
   "source": [
    "model_name = 'deepspeech2'\n",
    "trained_identifier = 'ucsf_timit_trf_lags50_bw50_padded_features'\n",
    "untrained_identifiers = ['ucsf_reset_timit_trf_lags50_bw50_padded_features']\n",
    "tikz_indicator = 'trf'\n",
    "baseline_identifier = f\"STRF_freqs80_mel_wh_ucsf_timit_trf_lags50_bw50_plos_review\"\n",
    "bin_width = 50\n",
    "area = 'all'\n",
    "threshold = 0.5\n",
    "mVocs = True if 'mVocs' in trained_identifier else False\n",
    "normalized=True\n",
    "save_tikz=False\n",
    "dists = RegPlotter.plot_all_layers_trained_and_shuffled(\n",
    "        model_name=model_name,\n",
    "        bin_width=bin_width,\n",
    "        area=area,\n",
    "        normalized=normalized,\n",
    "        threshold=threshold,\n",
    "        mVocs=mVocs,\n",
    "        save_tikz=save_tikz,\n",
    "        trained_identifier=trained_identifier,\n",
    "        untrained_identifiers=untrained_identifiers,\n",
    "        baseline_identifier=baseline_identifier,\n",
    "        plot_baseline=True,\n",
    "        indicate_significance=True,\n",
    "        display_dotted_lines=False,\n",
    "        )"
   ]
  },
  {
   "cell_type": "code",
   "execution_count": 3,
   "id": "0c9bb84f",
   "metadata": {},
   "outputs": [
    {
     "name": "stdout",
     "output_type": "stream",
     "text": [
      "INFO:Plotting trained and shuffled distributions for speech2text\n",
      "INFO:Extracting column: mVocs_normalized_test_cc\n",
      "INFO:Filtering 'mVocs_normalizer' using multiple of 0.500 with std dev ...\n",
      "INFO:Number of channels returned: (489,)\n",
      "INFO:Extracting column: mVocs_normalized_test_cc\n",
      "INFO:Filtering 'mVocs_normalizer' using multiple of 0.500 with std dev ...\n",
      "INFO:Peak corr (median): 0.6242815739704269, occurs at x_coordinate: 6\n",
      "INFO:Peak corr (max): 1.012445494738564, occurs at x_coordinate: 6\n",
      "INFO:Peak corr (median): 0.5627548689696819, occurs at x_coordinate: 13\n",
      "INFO:Peak corr (max): 0.9808710001165984, occurs at x_coordinate: 4\n",
      "INFO:Filtering 'mVocs_normalizer' using multiple of 0.500 with std dev ...\n",
      "model_name 'baseline' not recognizable!!!\n",
      "INFO:Peak corr (median): 0.5350587171323624, occurs at x_coordinate: 0\n",
      "INFO:Peak corr (max): 1.142803155166307, occurs at x_coordinate: 0\n"
     ]
    },
    {
     "data": {
      "text/plain": [
       "<matplotlib.lines.Line2D at 0x14812ba13880>"
      ]
     },
     "execution_count": 3,
     "metadata": {},
     "output_type": "execute_result"
    },
    {
     "data": {
      "image/png": "[encoded data removed]",
      "text/plain": [
       "<Figure size 432x288 with 1 Axes>"
      ]
     },
     "metadata": {
      "needs_background": "light"
     },
     "output_type": "display_data"
    }
   ],
   "source": [
    "model_name = 'speech2text'\n",
    "trained_identifier = 'ucsf_mVocs_trf_lags50_bw50_padded_features'\n",
    "untrained_identifiers = ['ucsf_reset_mVocs_trf_lags50_bw50_padded_features']\n",
    "tikz_indicator = 'trf'\n",
    "baseline_identifier = f\"STRF_freqs80_mel_wh_ucsf_mVocs_trf_lags50_bw50_plos_review\"\n",
    "bin_width = 50\n",
    "area = 'all'\n",
    "threshold = 0.5\n",
    "mVocs = True if 'mVocs' in trained_identifier else False\n",
    "normalized=True\n",
    "save_tikz=False\n",
    "dists = RegPlotter.plot_all_layers_trained_and_shuffled(\n",
    "        model_name=model_name,\n",
    "        bin_width=bin_width,\n",
    "        area=area,\n",
    "        normalized=normalized,\n",
    "        threshold=threshold,\n",
    "        mVocs=mVocs,\n",
    "        save_tikz=save_tikz,\n",
    "        trained_identifier=trained_identifier,\n",
    "        untrained_identifiers=untrained_identifiers,\n",
    "        baseline_identifier=baseline_identifier,\n",
    "        plot_baseline=True,\n",
    "        indicate_significance=True,\n",
    "        display_dotted_lines=False,\n",
    "        )\n",
    "plt.axhline(0.6, color='black', linestyle='--')"
   ]
  },
  {
   "cell_type": "code",
   "execution_count": 7,
   "id": "39856224",
   "metadata": {},
   "outputs": [
    {
     "data": {
      "text/plain": [
       "0.4812752785374689"
      ]
     },
     "execution_count": 7,
     "metadata": {},
     "output_type": "execute_result"
    }
   ],
   "source": [
    "np.mean(dists[0][1])"
   ]
  },
  {
   "cell_type": "code",
   "execution_count": 8,
   "id": "8e1d571d",
   "metadata": {},
   "outputs": [
    {
     "data": {
      "text/plain": [
       "0.4852020777442072"
      ]
     },
     "execution_count": 8,
     "metadata": {},
     "output_type": "execute_result"
    }
   ],
   "source": [
    "np.mean(dists[1][1])"
   ]
  },
  {
   "cell_type": "code",
   "execution_count": null,
   "id": "503235ad",
   "metadata": {},
   "outputs": [],
   "source": []
  }
 ],
 "metadata": {
  "kernelspec": {
   "display_name": "Python 3",
   "language": "python",
   "name": "python3"
  },
  "language_info": {
   "codemirror_mode": {
    "name": "ipython",
    "version": 3
   },
   "file_extension": ".py",
   "mimetype": "text/x-python",
   "name": "python",
   "nbconvert_exporter": "python",
   "pygments_lexer": "ipython3",
   "version": "3.8.5"
  }
 },
 "nbformat": 4,
 "nbformat_minor": 5
}
