{
 "cells": [
  {
   "cell_type": "code",
   "execution_count": null,
   "metadata": {},
   "outputs": [],
   "source": [
    "\n",
    "from auditory_cortex.Regression import transformer_regression\n",
    "\n",
    "reg = transformer_regression('/depot/jgmakin/data/auditory_cortex/josh_data/data',\"200213\")"
   ]
  },
  {
   "cell_type": "code",
   "execution_count": 1,
   "metadata": {},
   "outputs": [
    {
     "name": "stderr",
     "output_type": "stream",
     "text": [
      "/home/akamsali/anaconda3/envs/research_env/lib/python3.8/site-packages/torch/_tensor.py:575: UserWarning: floor_divide is deprecated, and will be removed in a future version of pytorch. It currently rounds toward 0 (like the 'trunc' function NOT 'floor'). This results in incorrect rounding for negative values.\n",
      "To keep the current behavior, use torch.div(a, b, rounding_mode='trunc'), or for actual floor division, use torch.div(a, b, rounding_mode='floor'). (Triggered internally at  /opt/conda/conda-bld/pytorch_1631630815121/work/aten/src/ATen/native/BinaryOps.cpp:467.)\n",
      "  return torch.floor_divide(self, other)\n"
     ]
    },
    {
     "name": "stdout",
     "output_type": "stream",
     "text": [
      "0\n",
      "{'train': [0.40158456884580945, 0.38840371794859974, 0.3520056232123462, 0.3400956613433498, 0.3254221578015007, 0.29949494964561685, 0.2932240613721855, 0.3042464010606303, 0.26685854734460385, 0.265867646672254, 0.23328097153970684, 0.23050325733366442], 'val': [0.15058827489277243, 0.24827574856529364, 0.24953493817396932, 0.24619654660042825, 0.22580355543297323, 0.19066884386728758, 0.1874836044192631, 0.21604950644166113, 0.16479209806116835, 0.1599434554842108, 0.1298446583895555, 0.11221851132200208], 'test': [0.1350776740980918, 0.1876022572900164, 0.2556807006979675, 0.20231112264886927, 0.2018179641903762, 0.15472357891297492, 0.16540686310703467, 0.17130890916365032, 0.19237131879833425, 0.15364782103767743, 0.12626484630134724, 0.09669826596681515]}\n"
     ]
    }
   ],
   "source": [
    "from auditory_cortex.Regression import transformer_regression\n",
    "\n",
    "import json \n",
    "import sys\n",
    "\n",
    "# print(sys.argv)\n",
    "# sub = sys.argv[1]\n",
    "# w = sys.argv[2]\n",
    "\n",
    "# print(\"arg vals\",sub, int(w))\n",
    "sub = '200206'\n",
    "w = 80\n",
    "reg = transformer_regression('/depot/jgmakin/data/auditory_cortex/josh_data/data',sub)\n",
    "\n",
    "# channels = np.arange(0,reg.dataset.num_channels).tolist()\n",
    "num_layers = len(reg.layers)\n",
    "corr_values = {}\n",
    "for ch in range(1):\n",
    "    print(ch)\n",
    "    R2t =[]  \n",
    "    R2v =[] \n",
    "    R2tt =[]\n",
    "    for l in range(num_layers):\n",
    "        r2t, r2v,r2tt = reg.get_cc_norm(l,int(w),channel=ch, delay=0)\n",
    "        # print(r2t)\n",
    "        R2t.append(r2t.item())\n",
    "        R2v.append(r2v.item())\n",
    "        R2tt.append(r2tt.item())\n",
    "        # PCt.append(pct)\n",
    "        # PCv.append(pcv)\n",
    "        # PCtt.append(pctt)\n",
    "    corr_values[ch] =  {\"train\": R2t, \"val\": R2v, \"test\": R2tt}\n",
    "    print(corr_values[ch])\n",
    "# fig, ax = plt.subplots(1,2, figsize=(14,6), sharey=True)\n",
    "\n",
    "# with open(\"/scratch/gilbreth/akamsali/Research/Makin/outputs/neuron_corr/\"+sub + \"_\" + str(w), 'w') as f:\n",
    "#     json.dump(corr_values, f)\n",
    "\n",
    "with open(\"/scratch/gilbreth/akamsali/Research/Makin/Auditory_Cortex/\"+sub + \"_\" + str(w), 'a') as f:\n",
    "    json.dump(corr_values, f)\n",
    "\n",
    "    \n",
    "# plt.plot(R2t, label='Training')\n",
    "# plt.plot(R2v, label='Val')\n",
    "# plt.plot(R2tt, label='Test')\n",
    "# plt.legend()\n",
    "\n",
    "\n",
    "# ax[0].plot(R2t, label='Training')\n",
    "# ax[0].plot(R2v, label='Val')\n",
    "# ax[0].plot(R2tt, label='Test')\n",
    "# ax[0].legend()\n",
    "# ax[0].set_title(\"R2\")\n",
    "\n",
    "\n",
    "# ax[1].plot(PCt, label='Training')\n",
    "# ax[1].plot(PCv, label='Val')\n",
    "# ax[1].plot(PCtt, label='Test')\n",
    "# ax[1].legend()\n",
    "# ax[1].set_title(\"PC\")\n",
    "\n",
    "# plt.title(\"200213, bin_width=\"+ str(w))\n",
    "# # plt.savefig(\"/Users/akshita/Documents/Research/Makin/outputs/200213_\" + str(w))\n",
    "# plt.show()"
   ]
  },
  {
   "cell_type": "code",
   "execution_count": 2,
   "metadata": {},
   "outputs": [
    {
     "data": {
      "text/plain": [
       "{'train': [0.3115128597708815,\n",
       "  0.3218009411421693,\n",
       "  0.27938657525349225,\n",
       "  0.26711345889490445,\n",
       "  0.25036891524575644,\n",
       "  0.22708000288565935,\n",
       "  0.22527623325839005,\n",
       "  0.23908007172288367,\n",
       "  0.20310490589248603,\n",
       "  0.20403977048717348,\n",
       "  0.17580348185498057,\n",
       "  0.17530708430285527],\n",
       " 'val': [0.14428956894270556,\n",
       "  0.231517672779382,\n",
       "  0.20676200664841743,\n",
       "  0.20080429223829305,\n",
       "  0.18441504334136158,\n",
       "  0.15552776887951142,\n",
       "  0.1569185124633094,\n",
       "  0.18050189703576375,\n",
       "  0.1374521846954002,\n",
       "  0.13094323919673273,\n",
       "  0.09994744908549905,\n",
       "  0.08987211662450732],\n",
       " 'test': [0.11738918745623832,\n",
       "  0.16375395218036204,\n",
       "  0.19736951255980542,\n",
       "  0.16666605876203938,\n",
       "  0.15723431511229335,\n",
       "  0.12420531248431069,\n",
       "  0.12530547278422827,\n",
       "  0.13394675441852535,\n",
       "  0.15991873322796082,\n",
       "  0.12988555923979958,\n",
       "  0.11775602353595374,\n",
       "  0.08222827650070745]}"
      ]
     },
     "execution_count": 2,
     "metadata": {},
     "output_type": "execute_result"
    }
   ],
   "source": [
    "corr_values[0]"
   ]
  },
  {
   "cell_type": "code",
   "execution_count": null,
   "metadata": {},
   "outputs": [],
   "source": [
    "import numpy as np\n",
    "\n",
    "from Dataset import Neural_Data\n",
    "\n",
    "\n",
    "neural_data = Neural_Data('/Users/akshita/Documents/Research/Makin/data',\"200206\")"
   ]
  },
  {
   "cell_type": "code",
   "execution_count": null,
   "metadata": {},
   "outputs": [],
   "source": [
    "repeated_sents = {}\n",
    "for i in range(499):\n",
    "    data = neural_data.retrieve_spikes_count_for_all_trials(i, w=100)\n",
    "    if data[1].shape[0] > 1:\n",
    "        repeated_sents[i] = data[1].shape\n",
    "print(repeated_sents)"
   ]
  },
  {
   "cell_type": "code",
   "execution_count": null,
   "metadata": {},
   "outputs": [],
   "source": [
    "from scipy import stats\n",
    "import matplotlib.pyplot as plt\n",
    "import csv\n",
    "# print(channel.shape)\n",
    "\n",
    "# sents = [12,13,32,43,56,163,212,218,287,308]\n",
    "sents = [12]\n",
    "# sent_vals = {}\n",
    "# wins = [1,5,10,20,30,40,50,75,100,200]\n",
    "wins = [10]\n",
    "for w in wins:\n",
    "    for sent in sents:\n",
    "        data = neural_data.retrieve_spikes_count_for_all_trials(sent, w=w)\n",
    "\n",
    "        for j in range(len(data)):\n",
    "            channel = data[j]\n",
    "            # print(channel.shape)\n",
    "            cnt = 0\n",
    "            val = []\n",
    "            p_r = []\n",
    "            for shift in [0]:#1, 5, 10]:\n",
    "                for i in range(11):\n",
    "                    cnt+=1.0\n",
    "                    ind = np.arange(0,11,1)\n",
    "                    b_ind = ind[i]\n",
    "                    a_ind = np.delete(ind, i)\n",
    "                    # print(a_ind, b_ind)\n",
    "                    a = np.mean(channel[a_ind, :], axis=0)\n",
    "                    b = channel[b_ind,:]\n",
    "                    b = np.roll(b, shift)\n",
    "                    \n",
    "                    res = stats.linregress(a, b)\n",
    "                    pearson_r = stats.pearsonr(a, b)\n",
    "                    val.append(res.rvalue**2)\n",
    "                    p_r.append(pearson_r[0]**2)\n",
    "\n",
    "                with open(\"/home/amy/Documents/Research/Makin/outputs/good_sessions/linreg_cs_win_\" + str(w)+ \"_\"+ str(sent) +\"_\" + str(shift)+\".csv\", 'a') as f:\n",
    "                    writer=csv.writer(f)\n",
    "                    row = val \n",
    "                    writer.writerow(row)\n",
    "                    f.close()\n",
    "    print(\"done: \", w)\n"
   ]
  },
  {
   "cell_type": "code",
   "execution_count": null,
   "metadata": {},
   "outputs": [],
   "source": [
    "ind = np.arange(0,11,1)\n",
    "b_ind = ind[i]\n",
    "a_ind = np.delete(ind, i)\n",
    "print(a_ind, b_ind)"
   ]
  },
  {
   "cell_type": "code",
   "execution_count": null,
   "metadata": {},
   "outputs": [],
   "source": [
    "import pandas as pd\n",
    "fig, ax = plt.subplots(4, len(wins),sharey=True,figsize=(5,6))\n",
    "\n",
    "for i, shift in enumerate([0, 1, 5, 10]):\n",
    "    for j, w in enumerate(wins):\n",
    "        for sent in sents:\n",
    "        # plt.figure()\n",
    "            d = pd.read_csv(\"/home/amy/Documents/Research/Makin/outputs/good_sessions/linreg_cs_win_\" + str(w)+ \"_\"+ str(sent) +\"_\" + str(shift)+ \".csv\", header=None)\n",
    "            d.columns = [\"channels\", \"reg_r2\", \"pearson_r2\"]\n",
    "\n",
    "            avg_r2 = d['reg_r2'].to_numpy()\n",
    "            pearson_r2 = d['pearson_r2'].to_numpy()\n",
    "            # print(avg_r2.shape, pearson_r2.shape)\n",
    "\n",
    "            # channels = d['channels'].to_numpy()\n",
    "            # plt.figure()\n",
    "            # ax[i, j].plot(channels, avg_r2, label=str(sent))\n",
    "            ax[i].plot(avg_r2-pearson_r2, label=str(sent))\n",
    "            ax[0].set_title(f\"Win={w}\")\n",
    "            ax[i].set_ylabel(f\"Shift={shift}\")\n",
    "            plt.ylim(-1.25, 0.8)\n",
    "        # plt.xlabel(\"channels\")\n",
    "    # plt.title(f\"Win = {w}\" , fontsize=16)plt.legend()\n",
    "        # plt.savefig(\"/home/amy/Documents/Research/Makin/outputs/correlation/linreg_cs_win_\" + str(w)+ \".png\")\n",
    "plt.show()"
   ]
  },
  {
   "cell_type": "code",
   "execution_count": null,
   "metadata": {},
   "outputs": [],
   "source": [
    "for j, w in enumerate(wins):\n",
    "    for i, shift in enumerate([0,1, 5, 10]):\n",
    "        plt.figure()\n",
    "        for sent in sents:\n",
    "            d = pd.read_csv(\"/home/amy/Documents/Research/Makin/outputs/correlation/linreg_cs_win_\" + str(w)+ \"_\"+ str(sent) +\"_\" + str(shift)+ \".csv\", header=None)\n",
    "            d.columns = [\"channels\", \"reg_r2\", \"pearson_r2\"]\n",
    "\n",
    "            avg_r2 = d['reg_r2'].to_list()\n",
    "            pearson_r2 = d['pearson_r2'].to_list()\n",
    "            channels = d['channels'].to_list()\n",
    "            # plt.figure()\n",
    "            plt.plot(channels, avg_r2, label=str(sent))\n",
    "            plt.title(f\"Win={w}, Shift={shift}\")\n",
    "            # ax[i,j].set_ylabel(f\"Shift={shift}\")\n",
    "            plt.ylim(-0.5, 0.4)\n",
    "        # plt.xlabel(\"channels\")\n",
    "    # plt.title(f\"Win = {w}\" , fontsize=16)plt.legend()\n",
    "        # plt.savefig(\"/home/amy/Documents/Research/Makin/outputs/correlation/linreg_cs_win_\" + str(w)+ \".png\")\n",
    "        plt.show()"
   ]
  },
  {
   "cell_type": "code",
   "execution_count": null,
   "metadata": {},
   "outputs": [],
   "source": [
    "import pandas as pd\n",
    "\n",
    "for sent in sents:\n",
    "    d2 = pd.read_csv(\"/home/amy/Documents/Research/Makin/outputs/correlation/linreg_loo_win_ms10_\"+ str(sent) +\".csv\", header=None)\n",
    "    d2.columns = [\"channels\", \"avg_r2\"]\n",
    "\n",
    "    avg_R2 = d2['avg_r2'].to_list()\n",
    "    channels = d2['channels'].to_list()\n",
    "    \n",
    "    plt.plot(channels, avg_R2 ,label=str(sent))\n",
    "    plt.ylim(-1.25, 0.8)\n",
    "plt.title(\"Correlation for sentences ms vs channels, w=10\", fontsize=16)\n",
    "plt.legend()\n",
    "plt.show()"
   ]
  },
  {
   "cell_type": "code",
   "execution_count": null,
   "metadata": {},
   "outputs": [],
   "source": [
    "import numpy as np\n",
    "\n",
    "a = np.zeros(100)\n",
    "b = np.zeros(100)\n",
    "ind_a = np.random.randint(0,100,10)\n",
    "ind_b = np.random.randint(0,100,10)\n",
    "\n",
    "a[ind_a] = 1    \n",
    "b[ind_b] = 1\n",
    "res = stats.linregress(a,b)\n",
    "\n",
    "res.rvalue**2"
   ]
  },
  {
   "cell_type": "code",
   "execution_count": null,
   "metadata": {},
   "outputs": [],
   "source": [
    "for w in [1]:\n",
    "    for sent in [12]:\n",
    "        data = neural_data.retrieve_spikes_count_for_all_trials(sent, w=w)\n",
    "\n",
    "        for j in [20]:\n",
    "            channel = data[j]\n",
    "            # for shift in [1, 5, 10]:\n",
    "            for i in range(1):\n",
    "                plt.plot(channel[i], label=j)\n",
    "\n",
    "    plt.legend()\n",
    "    plt.show()"
   ]
  }
 ],
 "metadata": {
  "interpreter": {
   "hash": "39ee5902541f8d9473741304b8cb1bb6d4326f8af27c9be63d89c1642eb0d066"
  },
  "kernelspec": {
   "display_name": "Python 3.9.6 64-bit ('research': conda)",
   "name": "python3"
  },
  "language_info": {
   "codemirror_mode": {
    "name": "ipython",
    "version": 3
   },
   "file_extension": ".py",
   "mimetype": "text/x-python",
   "name": "python",
   "nbconvert_exporter": "python",
   "pygments_lexer": "ipython3",
   "version": "3.8.12"
  },
  "orig_nbformat": 4
 },
 "nbformat": 4,
 "nbformat_minor": 2
}
