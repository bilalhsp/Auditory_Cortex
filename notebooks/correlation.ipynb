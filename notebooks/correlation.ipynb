{
 "cells": [
  {
   "cell_type": "code",
   "execution_count": 22,
   "metadata": {},
   "outputs": [],
   "source": [
    "import yaml\n",
    "from yaml import Loader\n",
    "\n",
    "conf_path = '/Users/akshita/Documents/Research/Makin/Auditory_Cortex/conf/ridge_conf.yaml'\n",
    "with open(conf_path, \"r\") as f:\n",
    "    manifest = yaml.load(f, Loader=Loader)\n",
    "\n",
    "data_path = manifest['data_path']\n",
    "subject = manifest['sub']\n"
   ]
  },
  {
   "cell_type": "code",
   "execution_count": 23,
   "metadata": {},
   "outputs": [
    {
     "data": {
      "text/plain": [
       "{'data_path': '/depot/jgmakin/data/auditory_cortex/josh_data/data',\n",
       " 'sub': '200206',\n",
       " 'output_dir': '/scratch/gilbreth/akamsali/Research/Makin/outputs/neuron_corr/ridge_regression'}"
      ]
     },
     "execution_count": 23,
     "metadata": {},
     "output_type": "execute_result"
    }
   ],
   "source": [
    "manifest"
   ]
  },
  {
   "cell_type": "code",
   "execution_count": 1,
   "metadata": {},
   "outputs": [],
   "source": [
    "from auditory_cortex.Regression import transformer_regression\n",
    "\n",
    "import numpy as np\n",
    "\n",
    "reg = transformer_regression(\"/Users/akshita/Documents/Research/Makin/data\", '200206')"
   ]
  },
  {
   "cell_type": "code",
   "execution_count": 15,
   "metadata": {},
   "outputs": [
    {
     "name": "stdout",
     "output_type": "stream",
     "text": [
      "layer extract time = 9.90459394454956\n",
      "spike extract time = 50.53598380088806\n",
      "(1025, 1025)\n",
      "one iter time = 620.7318079471588, [0.024613460858018882, 0.04920637637034571, 0.23183328757946922]\n",
      "(1025, 1025)\n",
      "one iter time = 857.3485221862793, [0.10176304131394884, 0.12093131105970505, 0.5003983855133335]\n",
      "(1025, 1025)\n",
      "one iter time = 878.3620851039886, [0.15076351402257215, 0.32361124245023265, 0.7716481880978996]\n",
      "(1025, 1025)\n",
      "one iter time = 851.9852223396301, [0.23663748945747792, 0.23116299459214198, 1.0368130291887059]\n",
      "(1025, 1025)\n",
      "one iter time = 849.7227997779846, [0.2939962672312589, 0.3555912918242024, 1.2482885918871236]\n"
     ]
    }
   ],
   "source": [
    "from sklearn.model_selection import KFold\n",
    "import time\n",
    "from auditory_cortex.ridge_regression import RidgeRegression \n",
    "\n",
    "r2t = 0\n",
    "r2v = 0\n",
    "r2tt = 0\n",
    "sp = 1\n",
    "l = 0\n",
    "w = 80\n",
    "\n",
    "test_list = np.arange(450,499).tolist()\n",
    "train_val_list = np.arange(1,450)\n",
    "\n",
    "\n",
    "start = time.time()\n",
    "k_val_test , def_w_test, offset_test, z_vals_test = reg.get_layer_values(l, win=w, sent_list=test_list)\n",
    "print(f\"layer extract time = {time.time() - start}\")\n",
    "start = time.time()\n",
    "n_vals_test = reg.get_all_channels(def_w=def_w_test, offset=offset_test, k_val=k_val_test, sent_list=test_list)\n",
    "print(f\"spike extract time = {time.time() - start}\")\n",
    "\n",
    "\n",
    "kf = KFold(n_splits=5, shuffle=True)\n",
    "# kf.get_n_splits(train_val_list)\n",
    "\n",
    "# for alpha in \n",
    "ridge_model = RidgeRegression(alpha=10)\n",
    "for train, val in kf.split(train_val_list):\n",
    "    start = time.time()\n",
    "    \n",
    "    k_val_train , def_w_train, offset_train, z_vals_train = reg.get_layer_values(layer=l, win=w, sent_list=train_val_list[train])\n",
    "    n_vals_train = reg.get_all_channels(def_w=def_w_train, offset=offset_train, k_val=k_val_train, sent_list=train_val_list[train])\n",
    "\n",
    "    k_val_val , def_w_val, offset_val, z_vals_val = reg.get_layer_values(layer=l,win=w, sent_list=train_val_list[val])\n",
    "    n_vals_val = reg.get_all_channels(def_w=def_w_val, offset=offset_val, k_val=k_val_val, sent_list=train_val_list[val])\n",
    "\n",
    "    ridge_model.fit(z_vals_train, n_vals_train)\n",
    "    n_hat_train = ridge_model.predict(z_vals_train)\n",
    "    n_hat_val = ridge_model.predict(z_vals_val)\n",
    "\n",
    "    n_hat_test = ridge_model.predict(z_vals_test)\n",
    "    r2t += reg.cc_norm(n_hat_train, n_vals_train, sp=sp)\n",
    "    r2v += reg.cc_norm(n_hat_val, n_vals_val, sp=sp)\n",
    "    r2tt += reg.cc_norm(n_hat_test, n_vals_test, sp=sp)\n",
    "    print(f\"one iter time = {time.time() - start}, {[r2t, r2v, r2tt]}\")\n"
   ]
  },
  {
   "cell_type": "code",
   "execution_count": 1,
   "metadata": {},
   "outputs": [
    {
     "name": "stderr",
     "output_type": "stream",
     "text": [
      "/home/akamsali/anaconda3/envs/research_env/lib/python3.8/site-packages/torch/_tensor.py:575: UserWarning: floor_divide is deprecated, and will be removed in a future version of pytorch. It currently rounds toward 0 (like the 'trunc' function NOT 'floor'). This results in incorrect rounding for negative values.\n",
      "To keep the current behavior, use torch.div(a, b, rounding_mode='trunc'), or for actual floor division, use torch.div(a, b, rounding_mode='floor'). (Triggered internally at  /opt/conda/conda-bld/pytorch_1631630815121/work/aten/src/ATen/native/BinaryOps.cpp:467.)\n",
      "  return torch.floor_divide(self, other)\n"
     ]
    },
    {
     "name": "stdout",
     "output_type": "stream",
     "text": [
      "0\n",
      "{'train': [0.3218077348683456, 0.3899081205000163, 0.35454461371827206, 0.3543961330861095, 0.3445456526471164, 0.32071031788373433, 0.3184274042862006, 0.320425945454863, 0.3030256070758387, 0.2934304631292377, 0.2851580342688245, 0.27108428531378215], 'val': [0.2056477240942051, 0.24880887053054063, 0.25082439133975687, 0.25722088504772755, 0.24108598195182487, 0.20623103219882505, 0.20336928317963507, 0.2245079969803741, 0.18140871890469296, 0.16967012435263001, 0.15788541065265255, 0.1257959259611648], 'test': [0.14655752190020152, 0.185419083508866, 0.2615541987084618, 0.2107761655510611, 0.20502966576455223, 0.1722682160663232, 0.17428930390233013, 0.1835482748473299, 0.19003016359664793, 0.16813908876063358, 0.1514884329554947, 0.14721644348375587]}\n"
     ]
    }
   ],
   "source": [
    "from auditory_cortex.Regression import transformer_regression\n",
    "\n",
    "import json \n",
    "import sys\n",
    "\n",
    "# print(sys.argv)\n",
    "# sub = sys.argv[1]\n",
    "# w = sys.argv[2]\n",
    "\n",
    "# print(\"arg vals\",sub, int(w))\n",
    "sub = '200206'\n",
    "w = 80\n",
    "reg = transformer_regression('/depot/jgmakin/data/auditory_cortex/josh_data/data',sub)\n",
    "\n",
    "# channels = np.arange(0,reg.dataset.num_channels).tolist()\n",
    "num_layers = len(reg.layers)\n",
    "corr_values = {}\n",
    "for ch in range(1):\n",
    "    print(ch)\n",
    "    R2t =[]  \n",
    "    R2v =[] \n",
    "    R2tt =[]\n",
    "    for l in range(num_layers):\n",
    "        r2t, r2v,r2tt = reg.get_cc_norm(l,int(w),channel=ch, delay=0)\n",
    "        # print(r2t)\n",
    "        R2t.append(r2t.item())\n",
    "        R2v.append(r2v.item())\n",
    "        R2tt.append(r2tt.item())\n",
    "        # PCt.append(pct)\n",
    "        # PCv.append(pcv)\n",
    "        # PCtt.append(pctt)\n",
    "    corr_values[ch] =  {\"train\": R2t, \"val\": R2v, \"test\": R2tt}\n",
    "    print(corr_values[ch])\n",
    "# fig, ax = plt.subplots(1,2, figsize=(14,6), sharey=True)\n",
    "\n",
    "# with open(\"/scratch/gilbreth/akamsali/Research/Makin/outputs/neuron_corr/\"+sub + \"_\" + str(w), 'w') as f:\n",
    "#     json.dump(corr_values, f)\n",
    "\n",
    "with open(\"/scratch/gilbreth/akamsali/Research/Makin/Auditory_Cortex/\"+sub + \"_\" + str(w), 'a') as f:\n",
    "    json.dump(corr_values, f)\n",
    "\n",
    "    \n",
    "# plt.plot(R2t, label='Training')\n",
    "# plt.plot(R2v, label='Val')\n",
    "# plt.plot(R2tt, label='Test')\n",
    "# plt.legend()\n",
    "\n",
    "\n",
    "# ax[0].plot(R2t, label='Training')\n",
    "# ax[0].plot(R2v, label='Val')\n",
    "# ax[0].plot(R2tt, label='Test')\n",
    "# ax[0].legend()\n",
    "# ax[0].set_title(\"R2\")\n",
    "\n",
    "\n",
    "# ax[1].plot(PCt, label='Training')\n",
    "# ax[1].plot(PCv, label='Val')\n",
    "# ax[1].plot(PCtt, label='Test')\n",
    "# ax[1].legend()\n",
    "# ax[1].set_title(\"PC\")\n",
    "\n",
    "# plt.title(\"200213, bin_width=\"+ str(w))\n",
    "# # plt.savefig(\"/Users/akshita/Documents/Research/Makin/outputs/200213_\" + str(w))\n",
    "# plt.show()"
   ]
  },
  {
   "cell_type": "code",
   "execution_count": 2,
   "metadata": {},
   "outputs": [
    {
     "data": {
      "text/plain": [
       "{0: {'train': [0.3218077348683456,\n",
       "   0.3899081205000163,\n",
       "   0.35454461371827206,\n",
       "   0.3543961330861095,\n",
       "   0.3445456526471164,\n",
       "   0.32071031788373433,\n",
       "   0.3184274042862006,\n",
       "   0.320425945454863,\n",
       "   0.3030256070758387,\n",
       "   0.2934304631292377,\n",
       "   0.2851580342688245,\n",
       "   0.27108428531378215],\n",
       "  'val': [0.2056477240942051,\n",
       "   0.24880887053054063,\n",
       "   0.25082439133975687,\n",
       "   0.25722088504772755,\n",
       "   0.24108598195182487,\n",
       "   0.20623103219882505,\n",
       "   0.20336928317963507,\n",
       "   0.2245079969803741,\n",
       "   0.18140871890469296,\n",
       "   0.16967012435263001,\n",
       "   0.15788541065265255,\n",
       "   0.1257959259611648],\n",
       "  'test': [0.14655752190020152,\n",
       "   0.185419083508866,\n",
       "   0.2615541987084618,\n",
       "   0.2107761655510611,\n",
       "   0.20502966576455223,\n",
       "   0.1722682160663232,\n",
       "   0.17428930390233013,\n",
       "   0.1835482748473299,\n",
       "   0.19003016359664793,\n",
       "   0.16813908876063358,\n",
       "   0.1514884329554947,\n",
       "   0.14721644348375587]}}"
      ]
     },
     "execution_count": 2,
     "metadata": {},
     "output_type": "execute_result"
    }
   ],
   "source": [
    "corr_values"
   ]
  },
  {
   "cell_type": "code",
   "execution_count": null,
   "metadata": {},
   "outputs": [],
   "source": [
    "import numpy as np\n",
    "\n",
    "from Dataset import Neural_Data\n",
    "\n",
    "\n",
    "neural_data = Neural_Data('/Users/akshita/Documents/Research/Makin/data',\"200206\")"
   ]
  },
  {
   "cell_type": "code",
   "execution_count": null,
   "metadata": {},
   "outputs": [],
   "source": [
    "repeated_sents = {}\n",
    "for i in range(499):\n",
    "    data = neural_data.retrieve_spikes_count_for_all_trials(i, w=100)\n",
    "    if data[1].shape[0] > 1:\n",
    "        repeated_sents[i] = data[1].shape\n",
    "print(repeated_sents)"
   ]
  },
  {
   "cell_type": "code",
   "execution_count": null,
   "metadata": {},
   "outputs": [],
   "source": [
    "from scipy import stats\n",
    "import matplotlib.pyplot as plt\n",
    "import csv\n",
    "# print(channel.shape)\n",
    "\n",
    "# sents = [12,13,32,43,56,163,212,218,287,308]\n",
    "sents = [12]\n",
    "# sent_vals = {}\n",
    "# wins = [1,5,10,20,30,40,50,75,100,200]\n",
    "wins = [10]\n",
    "for w in wins:\n",
    "    for sent in sents:\n",
    "        data = neural_data.retrieve_spikes_count_for_all_trials(sent, w=w)\n",
    "\n",
    "        for j in range(len(data)):\n",
    "            channel = data[j]\n",
    "            # print(channel.shape)\n",
    "            cnt = 0\n",
    "            val = []\n",
    "            p_r = []\n",
    "            for shift in [0]:#1, 5, 10]:\n",
    "                for i in range(11):\n",
    "                    cnt+=1.0\n",
    "                    ind = np.arange(0,11,1)\n",
    "                    b_ind = ind[i]\n",
    "                    a_ind = np.delete(ind, i)\n",
    "                    # print(a_ind, b_ind)\n",
    "                    a = np.mean(channel[a_ind, :], axis=0)\n",
    "                    b = channel[b_ind,:]\n",
    "                    b = np.roll(b, shift)\n",
    "                    \n",
    "                    res = stats.linregress(a, b)\n",
    "                    pearson_r = stats.pearsonr(a, b)\n",
    "                    val.append(res.rvalue**2)\n",
    "                    p_r.append(pearson_r[0]**2)\n",
    "\n",
    "                with open(\"/home/amy/Documents/Research/Makin/outputs/good_sessions/linreg_cs_win_\" + str(w)+ \"_\"+ str(sent) +\"_\" + str(shift)+\".csv\", 'a') as f:\n",
    "                    writer=csv.writer(f)\n",
    "                    row = val \n",
    "                    writer.writerow(row)\n",
    "                    f.close()\n",
    "    print(\"done: \", w)\n"
   ]
  },
  {
   "cell_type": "code",
   "execution_count": null,
   "metadata": {},
   "outputs": [],
   "source": [
    "ind = np.arange(0,11,1)\n",
    "b_ind = ind[i]\n",
    "a_ind = np.delete(ind, i)\n",
    "print(a_ind, b_ind)"
   ]
  },
  {
   "cell_type": "code",
   "execution_count": null,
   "metadata": {},
   "outputs": [],
   "source": [
    "import pandas as pd\n",
    "fig, ax = plt.subplots(4, len(wins),sharey=True,figsize=(5,6))\n",
    "\n",
    "for i, shift in enumerate([0, 1, 5, 10]):\n",
    "    for j, w in enumerate(wins):\n",
    "        for sent in sents:\n",
    "        # plt.figure()\n",
    "            d = pd.read_csv(\"/home/amy/Documents/Research/Makin/outputs/good_sessions/linreg_cs_win_\" + str(w)+ \"_\"+ str(sent) +\"_\" + str(shift)+ \".csv\", header=None)\n",
    "            d.columns = [\"channels\", \"reg_r2\", \"pearson_r2\"]\n",
    "\n",
    "            avg_r2 = d['reg_r2'].to_numpy()\n",
    "            pearson_r2 = d['pearson_r2'].to_numpy()\n",
    "            # print(avg_r2.shape, pearson_r2.shape)\n",
    "\n",
    "            # channels = d['channels'].to_numpy()\n",
    "            # plt.figure()\n",
    "            # ax[i, j].plot(channels, avg_r2, label=str(sent))\n",
    "            ax[i].plot(avg_r2-pearson_r2, label=str(sent))\n",
    "            ax[0].set_title(f\"Win={w}\")\n",
    "            ax[i].set_ylabel(f\"Shift={shift}\")\n",
    "            plt.ylim(-1.25, 0.8)\n",
    "        # plt.xlabel(\"channels\")\n",
    "    # plt.title(f\"Win = {w}\" , fontsize=16)plt.legend()\n",
    "        # plt.savefig(\"/home/amy/Documents/Research/Makin/outputs/correlation/linreg_cs_win_\" + str(w)+ \".png\")\n",
    "plt.show()"
   ]
  },
  {
   "cell_type": "code",
   "execution_count": null,
   "metadata": {},
   "outputs": [],
   "source": [
    "for j, w in enumerate(wins):\n",
    "    for i, shift in enumerate([0,1, 5, 10]):\n",
    "        plt.figure()\n",
    "        for sent in sents:\n",
    "            d = pd.read_csv(\"/home/amy/Documents/Research/Makin/outputs/correlation/linreg_cs_win_\" + str(w)+ \"_\"+ str(sent) +\"_\" + str(shift)+ \".csv\", header=None)\n",
    "            d.columns = [\"channels\", \"reg_r2\", \"pearson_r2\"]\n",
    "\n",
    "            avg_r2 = d['reg_r2'].to_list()\n",
    "            pearson_r2 = d['pearson_r2'].to_list()\n",
    "            channels = d['channels'].to_list()\n",
    "            # plt.figure()\n",
    "            plt.plot(channels, avg_r2, label=str(sent))\n",
    "            plt.title(f\"Win={w}, Shift={shift}\")\n",
    "            # ax[i,j].set_ylabel(f\"Shift={shift}\")\n",
    "            plt.ylim(-0.5, 0.4)\n",
    "        # plt.xlabel(\"channels\")\n",
    "    # plt.title(f\"Win = {w}\" , fontsize=16)plt.legend()\n",
    "        # plt.savefig(\"/home/amy/Documents/Research/Makin/outputs/correlation/linreg_cs_win_\" + str(w)+ \".png\")\n",
    "        plt.show()"
   ]
  },
  {
   "cell_type": "code",
   "execution_count": null,
   "metadata": {},
   "outputs": [],
   "source": [
    "import pandas as pd\n",
    "\n",
    "for sent in sents:\n",
    "    d2 = pd.read_csv(\"/home/amy/Documents/Research/Makin/outputs/correlation/linreg_loo_win_ms10_\"+ str(sent) +\".csv\", header=None)\n",
    "    d2.columns = [\"channels\", \"avg_r2\"]\n",
    "\n",
    "    avg_R2 = d2['avg_r2'].to_list()\n",
    "    channels = d2['channels'].to_list()\n",
    "    \n",
    "    plt.plot(channels, avg_R2 ,label=str(sent))\n",
    "    plt.ylim(-1.25, 0.8)\n",
    "plt.title(\"Correlation for sentences ms vs channels, w=10\", fontsize=16)\n",
    "plt.legend()\n",
    "plt.show()"
   ]
  },
  {
   "cell_type": "code",
   "execution_count": null,
   "metadata": {},
   "outputs": [],
   "source": [
    "import numpy as np\n",
    "\n",
    "a = np.zeros(100)\n",
    "b = np.zeros(100)\n",
    "ind_a = np.random.randint(0,100,10)\n",
    "ind_b = np.random.randint(0,100,10)\n",
    "\n",
    "a[ind_a] = 1    \n",
    "b[ind_b] = 1\n",
    "res = stats.linregress(a,b)\n",
    "\n",
    "res.rvalue**2"
   ]
  },
  {
   "cell_type": "code",
   "execution_count": null,
   "metadata": {},
   "outputs": [],
   "source": [
    "for w in [1]:\n",
    "    for sent in [12]:\n",
    "        data = neural_data.retrieve_spikes_count_for_all_trials(sent, w=w)\n",
    "\n",
    "        for j in [20]:\n",
    "            channel = data[j]\n",
    "            # for shift in [1, 5, 10]:\n",
    "            for i in range(1):\n",
    "                plt.plot(channel[i], label=j)\n",
    "\n",
    "    plt.legend()\n",
    "    plt.show()"
   ]
  }
 ],
 "metadata": {
  "interpreter": {
   "hash": "39ee5902541f8d9473741304b8cb1bb6d4326f8af27c9be63d89c1642eb0d066"
  },
  "kernelspec": {
   "display_name": "Python 3.9.6 64-bit ('research': conda)",
   "name": "python3"
  },
  "language_info": {
   "codemirror_mode": {
    "name": "ipython",
    "version": 3
   },
   "file_extension": ".py",
   "mimetype": "text/x-python",
   "name": "python",
   "nbconvert_exporter": "python",
   "pygments_lexer": "ipython3",
   "version": "3.9.7"
  },
  "orig_nbformat": 4
 },
 "nbformat": 4,
 "nbformat_minor": 2
}
