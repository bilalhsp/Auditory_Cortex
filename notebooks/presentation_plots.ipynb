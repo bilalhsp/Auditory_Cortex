{
 "cells": [
  {
   "cell_type": "code",
   "execution_count": 3,
   "metadata": {},
   "outputs": [],
   "source": [
    "# adjsut the basic logging lovel of notebook\n",
    "import logging\n",
    "logging.basicConfig(level=logging.WARNING)\n",
    "from auditory_cortex.plotters import tikzplots\n",
    "from auditory_cortex.analyses import Correlations, STRFCorrelations\n",
    "from auditory_cortex.plotters.correlation_plotter import RegPlotter\n",
    "from auditory_cortex.plotters.plotter_utils import PlotterUtils\n",
    "\n",
    "import numpy as np\n",
    "import seaborn as sns\n",
    "from functools import reduce\n",
    "import scipy\n",
    "import os\n",
    "\n",
    "import matplotlib.pylab as plt\n",
    "import matplotlib as mpl\n",
    "%matplotlib inline"
   ]
  },
  {
   "cell_type": "markdown",
   "metadata": {},
   "source": [
    "### summary...."
   ]
  },
  {
   "cell_type": "code",
   "execution_count": 4,
   "metadata": {},
   "outputs": [
    {
     "name": "stdout",
     "output_type": "stream",
     "text": [
      "Extracting column: normalized_test_cc\n",
      "Applying threshold: 0.073 on column: 'normalizer'...\n",
      "At bin_width: 50, layer with peak median is: 3\n",
      "Number of sig. neurons = 253\n",
      "Extracting column: normalized_test_cc\n",
      "Applying threshold: 0.073 on column: 'normalizer'...\n",
      "At bin_width: 50, layer with peak median is: 0\n",
      "Number of sig. neurons = 253\n",
      "Extracting column: normalized_test_cc\n",
      "Applying threshold: 0.073 on column: 'normalizer'...\n",
      "At bin_width: 50, layer with peak median is: 5\n",
      "Number of sig. neurons = 253\n",
      "Extracting column: normalized_test_cc\n",
      "Applying threshold: 0.073 on column: 'normalizer'...\n",
      "At bin_width: 50, layer with peak median is: 1\n",
      "Number of sig. neurons = 253\n",
      "Extracting column: normalized_test_cc\n",
      "Applying threshold: 0.073 on column: 'normalizer'...\n",
      "At bin_width: 50, layer with peak median is: 5\n",
      "Number of sig. neurons = 253\n",
      "Extracting column: normalized_test_cc\n",
      "Applying threshold: 0.073 on column: 'normalizer'...\n",
      "At bin_width: 50, layer with peak median is: 13\n",
      "Number of sig. neurons = 253\n",
      "Extracting column: normalized_test_cc\n",
      "Applying threshold: 0.073 on column: 'normalizer'...\n",
      "At bin_width: 50, layer with peak median is: 1\n",
      "Number of sig. neurons = 253\n",
      "Extracting column: normalized_test_cc\n",
      "Applying threshold: 0.073 on column: 'normalizer'...\n",
      "At bin_width: 50, layer with peak median is: 1\n",
      "Number of sig. neurons = 253\n",
      "Extracting column: normalized_test_cc\n",
      "Applying threshold: 0.073 on column: 'normalizer'...\n",
      "At bin_width: 50, layer with peak median is: 2\n",
      "Number of sig. neurons = 253\n",
      "Extracting column: normalized_test_cc\n",
      "Applying threshold: 0.073 on column: 'normalizer'...\n",
      "At bin_width: 50, layer with peak median is: 1\n",
      "Number of sig. neurons = 253\n",
      "Extracting column: normalized_test_cc\n",
      "Applying threshold: 0.073 on column: 'normalizer'...\n",
      "At bin_width: 50, layer with peak median is: 2\n",
      "Number of sig. neurons = 253\n",
      "Extracting column: normalized_test_cc\n",
      "Applying threshold: 0.073 on column: 'normalizer'...\n",
      "At bin_width: 50, layer with peak median is: 0\n",
      "Number of sig. neurons = 253\n",
      "Applying threshold: 0.073 on column: 'normalizer'...\n",
      "model_name 'STRF' not recognizable!!!\n"
     ]
    },
    {
     "data": {
      "image/png": "[encoded data removed]",
      "text/plain": [
       "<Figure size 720x360 with 1 Axes>"
      ]
     },
     "metadata": {
      "needs_background": "light"
     },
     "output_type": "display_data"
    }
   ],
   "source": [
    "model_names = [\n",
    "\t'wav2letter_modified',\n",
    "\t'wav2vec2',\n",
    "\t'speech2text',\n",
    "\t'whisper_tiny',\n",
    "\t'whisper_base',\n",
    "\t'deepspeech2',\n",
    "\t]\n",
    "identifier = 'timit_trf_lags300_bw50_naplib_matched'\n",
    "mVocs=False\n",
    "bin_width = 50\n",
    "save_tikz = False\n",
    "tikzplots.plot_correlations_summary(\n",
    "\tmodel_names,\n",
    "\tidentifier,\n",
    "\tbin_width=bin_width,\n",
    "\tmVocs=mVocs,\n",
    "\twidth = 0.4,\n",
    "\talpha=0.4,\n",
    "\tsave_tikz=save_tikz,\n",
    "\tset_xtick_labels=True,\n",
    "\tbar_plot=True,\n",
    "\tfigsize=(10, 5),\n",
    "\t)"
   ]
  },
  {
   "cell_type": "code",
   "execution_count": null,
   "metadata": {},
   "outputs": [],
   "source": []
  }
 ],
 "metadata": {
  "kernelspec": {
   "display_name": "Python 3",
   "language": "python",
   "name": "python3"
  },
  "language_info": {
   "codemirror_mode": {
    "name": "ipython",
    "version": 3
   },
   "file_extension": ".py",
   "mimetype": "text/x-python",
   "name": "python",
   "nbconvert_exporter": "python",
   "pygments_lexer": "ipython3",
   "version": "3.8.5"
  }
 },
 "nbformat": 4,
 "nbformat_minor": 2
}
