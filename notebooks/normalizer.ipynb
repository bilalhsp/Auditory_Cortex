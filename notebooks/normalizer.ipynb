{
 "cells": [
  {
   "cell_type": "code",
   "execution_count": 1,
   "metadata": {},
   "outputs": [],
   "source": [
    "import os\n",
    "import pandas as pd\n",
    "import numpy as np\n",
    "from auditory_cortex.analyses import Correlations\n",
    "from auditory_cortex import saved_corr_dir, results_dir\n",
    "from auditory_cortex.neural_data.normalizer import Normalizer\n",
    "\n",
    "import matplotlib.pylab as plt\n",
    "%matplotlib inline"
   ]
  },
  {
   "cell_type": "markdown",
   "metadata": {},
   "source": [
    "### Normalizer threshold, using Gaussian and Poisson "
   ]
  },
  {
   "cell_type": "code",
   "execution_count": 6,
   "metadata": {},
   "outputs": [
    {
     "name": "stdout",
     "output_type": "stream",
     "text": [
      "Reading existing dataframe.\n",
      "Reading exisiting normalizer thresholds...\n"
     ]
    },
    {
     "data": {
      "text/plain": [
       "0.06011905470334845"
      ]
     },
     "execution_count": 6,
     "metadata": {},
     "output_type": "execute_result"
    }
   ],
   "source": [
    "corr_obj = Correlations()\n",
    "\n"
   ]
  },
  {
   "cell_type": "code",
   "execution_count": 8,
   "metadata": {},
   "outputs": [
    {
     "name": "stdout",
     "output_type": "stream",
     "text": [
      "Reading exisiting normalizer thresholds...\n"
     ]
    },
    {
     "data": {
      "text/plain": [
       "0.3725365276167215"
      ]
     },
     "execution_count": 8,
     "metadata": {},
     "output_type": "execute_result"
    }
   ],
   "source": [
    "corr_obj.get_normalizer_threshold(800, True)"
   ]
  },
  {
   "cell_type": "code",
   "execution_count": 11,
   "metadata": {},
   "outputs": [
    {
     "name": "stdout",
     "output_type": "stream",
     "text": [
      "Reading exisiting normalizer thresholds...\n",
      "Computing null distribution for bin_width: 5, num_samples: 3314...\n",
      "Reading exisiting normalizer thresholds...\n",
      "Writing normalizers to the cache...\n",
      "Reading exisiting normalizer thresholds...\n",
      "Computing null distribution for bin_width: 10, num_samples: 1658...\n",
      "Reading exisiting normalizer thresholds...\n",
      "Writing normalizers to the cache...\n",
      "Reading exisiting normalizer thresholds...\n",
      "Computing null distribution for bin_width: 20, num_samples: 832...\n",
      "Reading exisiting normalizer thresholds...\n",
      "Writing normalizers to the cache...\n",
      "Reading exisiting normalizer thresholds...\n",
      "Computing null distribution for bin_width: 40, num_samples: 419...\n",
      "Reading exisiting normalizer thresholds...\n",
      "Writing normalizers to the cache...\n",
      "Reading exisiting normalizer thresholds...\n",
      "Computing null distribution for bin_width: 60, num_samples: 281...\n",
      "Reading exisiting normalizer thresholds...\n",
      "Writing normalizers to the cache...\n",
      "Reading exisiting normalizer thresholds...\n",
      "Computing null distribution for bin_width: 80, num_samples: 213...\n",
      "Reading exisiting normalizer thresholds...\n",
      "Writing normalizers to the cache...\n",
      "Reading exisiting normalizer thresholds...\n",
      "Computing null distribution for bin_width: 100, num_samples: 170...\n",
      "Reading exisiting normalizer thresholds...\n",
      "Writing normalizers to the cache...\n",
      "Reading exisiting normalizer thresholds...\n",
      "Computing null distribution for bin_width: 200, num_samples: 85...\n",
      "Reading exisiting normalizer thresholds...\n",
      "Writing normalizers to the cache...\n",
      "Reading exisiting normalizer thresholds...\n",
      "Computing null distribution for bin_width: 300, num_samples: 60...\n",
      "Reading exisiting normalizer thresholds...\n",
      "Writing normalizers to the cache...\n",
      "Reading exisiting normalizer thresholds...\n",
      "Computing null distribution for bin_width: 400, num_samples: 45...\n",
      "Reading exisiting normalizer thresholds...\n",
      "Writing normalizers to the cache...\n",
      "Reading exisiting normalizer thresholds...\n",
      "Computing null distribution for bin_width: 500, num_samples: 38...\n",
      "Reading exisiting normalizer thresholds...\n",
      "Writing normalizers to the cache...\n",
      "Reading exisiting normalizer thresholds...\n",
      "Computing null distribution for bin_width: 600, num_samples: 32...\n",
      "Reading exisiting normalizer thresholds...\n",
      "Writing normalizers to the cache...\n",
      "Reading exisiting normalizer thresholds...\n",
      "Computing null distribution for bin_width: 700, num_samples: 28...\n",
      "Reading exisiting normalizer thresholds...\n",
      "Writing normalizers to the cache...\n",
      "Reading exisiting normalizer thresholds...\n",
      "Reading exisiting normalizer thresholds...\n",
      "Computing null distribution for bin_width: 900, num_samples: 22...\n",
      "Reading exisiting normalizer thresholds...\n",
      "Writing normalizers to the cache...\n",
      "Reading exisiting normalizer thresholds...\n"
     ]
    }
   ],
   "source": [
    "bin_widths = [5, 10, 20, 40, 60, 80, 100, 200, 300, 400, 500, 600, 700, 800, 900, 1000]\n",
    "for bin_width in bin_widths:\n",
    "    corr_obj.get_normalizer_threshold(bin_width, False)"
   ]
  },
  {
   "cell_type": "code",
   "execution_count": null,
   "metadata": {},
   "outputs": [],
   "source": []
  },
  {
   "cell_type": "code",
   "execution_count": 2,
   "metadata": {},
   "outputs": [
    {
     "name": "stdout",
     "output_type": "stream",
     "text": [
      "Reading existing dataframe.\n",
      "Computing null distribution for bin_width: 1000, num_samples: 10...\n",
      "Poisson Process: Null distribution for bin_width: 1000, spike_rate: 50...\n"
     ]
    }
   ],
   "source": [
    "norm_obj = Normalizer()\n",
    "# bin_widths = [5, 10, 20, 40, 60, 80, 100, 200, 400, 500, 600, 700, 800, 900, 1000]\n",
    "bin_widths = [1000]\n",
    "# spike_rates = [10, 30, 50, 70, 90, 150, 200, 400]\n",
    "spike_rates = [50]\n",
    "\n",
    "threshold_g = []\n",
    "threshold_poissons = {spr: [] for spr in spike_rates}\n",
    "for bin_width in bin_widths:\n",
    "    threshold_g.append(norm_obj.compute_normalizer_threshold(bin_width=bin_width)[0])\n",
    "    for spike_rate in spike_rates:\n",
    "        threshold_poissons[spike_rate].append(\n",
    "            norm_obj.compute_normalizer_threshold_using_poisson(\n",
    "                bin_width=bin_width, spike_rate=spike_rate)[0]\n",
    "        )\n"
   ]
  },
  {
   "cell_type": "code",
   "execution_count": 3,
   "metadata": {},
   "outputs": [
    {
     "data": {
      "text/plain": [
       "[0.5612760939756597]"
      ]
     },
     "execution_count": 3,
     "metadata": {},
     "output_type": "execute_result"
    }
   ],
   "source": [
    "threshold_g"
   ]
  },
  {
   "cell_type": "code",
   "execution_count": 4,
   "metadata": {},
   "outputs": [
    {
     "data": {
      "text/plain": [
       "{50: [0.4133631614305362]}"
      ]
     },
     "execution_count": 4,
     "metadata": {},
     "output_type": "execute_result"
    }
   ],
   "source": [
    "threshold_poissons"
   ]
  },
  {
   "cell_type": "code",
   "execution_count": 4,
   "metadata": {},
   "outputs": [
    {
     "data": {
      "text/plain": [
       "<matplotlib.legend.Legend at 0x2b91a811ea90>"
      ]
     },
     "execution_count": 4,
     "metadata": {},
     "output_type": "execute_result"
    },
    {
     "data": {
      "image/png": "[encoded data removed]",
      "text/plain": [
       "<Figure size 432x288 with 1 Axes>"
      ]
     },
     "metadata": {
      "needs_background": "light"
     },
     "output_type": "display_data"
    }
   ],
   "source": [
    "plt.plot(bin_widths, threshold_g, label=\"gaussian-samples\")\n",
    "for spike_rate in spike_rates:\n",
    "    plt.plot(bin_widths, threshold_poissons[spike_rate], label=f\"Poisson-{spike_rate}\")\n",
    "plt.title(f\"Normalizer threshold as function of bin_width\")\n",
    "plt.xlabel(f\"bin widths (ms)\")\n",
    "plt.legend(loc='best')"
   ]
  },
  {
   "cell_type": "code",
   "execution_count": 7,
   "metadata": {},
   "outputs": [
    {
     "data": {
      "text/plain": [
       "0.06074503148578556"
      ]
     },
     "execution_count": 7,
     "metadata": {},
     "output_type": "execute_result"
    }
   ],
   "source": [
    "spike_rate = 50\n",
    "ind = bin_widths.index(20)\n",
    "threshold_poissons[spike_rate][ind]"
   ]
  },
  {
   "cell_type": "code",
   "execution_count": null,
   "metadata": {},
   "outputs": [],
   "source": [
    "bw_threshold = self.norm_obj.compute_normalizer_threshold(bin_width=bin_width)[0]"
   ]
  },
  {
   "cell_type": "code",
   "execution_count": 8,
   "metadata": {},
   "outputs": [],
   "source": [
    "duration = 0\n",
    "for sent in norm_obj.metadata.test_sent_IDs:\n",
    "        duration += norm_obj.metadata.stim_duration(sent)"
   ]
  },
  {
   "cell_type": "code",
   "execution_count": 9,
   "metadata": {},
   "outputs": [
    {
     "data": {
      "text/plain": [
       "16.550687500000002"
      ]
     },
     "execution_count": 9,
     "metadata": {},
     "output_type": "execute_result"
    }
   ],
   "source": [
    "duration"
   ]
  },
  {
   "cell_type": "markdown",
   "metadata": {},
   "source": [
    "### copying normalizers from norm_obj.."
   ]
  },
  {
   "cell_type": "code",
   "execution_count": 6,
   "metadata": {},
   "outputs": [
    {
     "name": "stdout",
     "output_type": "stream",
     "text": [
      "Creating normalizer object from: modified_bins_normalizer.csv\n",
      "Reading existing dataframe.\n",
      "Bin_width: 10.0,sessions done: 45\n",
      "Bin_width: 20.0,sessions done: 45\n",
      "Bin_width: 40.0,sessions done: 45\n",
      "Bin_width: 60.0,sessions done: 45\n",
      "Bin_width: 80.0,sessions done: 45\n",
      "Bin_width: 100.0,sessions done: 45\n",
      "Bin_width: 200.0,sessions done: 45\n",
      "Bin_width: 300.0,sessions done: 45\n",
      "Bin_width: 400.0,sessions done: 45\n",
      "Bin_width: 500.0,sessions done: 45\n",
      "Bin_width: 600.0,sessions done: 45\n",
      "Bin_width: 700.0,sessions done: 45\n",
      "Bin_width: 800.0,sessions done: 45\n"
     ]
    }
   ],
   "source": [
    "norm_identifier = 'modified_bins_normalizer.csv'\n",
    "norm_obj = Normalizer(norm_identifier)\n",
    "\n",
    "bin_widths = np.sort(norm_obj.dataframe['bin_width'].unique())\n",
    "for bin_width in bin_widths:\n",
    "    print(f\"Bin_width: {bin_width},\" +\n",
    "        f\"sessions done: {len(norm_obj.dataframe[norm_obj.dataframe['bin_width']==bin_width]['session'].unique())}\")"
   ]
  },
  {
   "cell_type": "code",
   "execution_count": 4,
   "metadata": {},
   "outputs": [
    {
     "name": "stdout",
     "output_type": "stream",
     "text": [
      "Creating normalizer object from: modified_bins_normalizer_10.csv\n",
      "Reading existing dataframe.\n",
      "Bin_width: 10.0,sessions done: 45\n"
     ]
    }
   ],
   "source": [
    "norm_identifier = 'modified_bins_normalizer_10.csv'\n",
    "norm_obj_to_copy = Normalizer(norm_identifier)\n",
    "bin_widths = np.sort(norm_obj_to_copy.dataframe['bin_width'].unique())\n",
    "for bin_width in bin_widths:\n",
    "    print(f\"Bin_width: {bin_width},\" +\n",
    "        f\"sessions done: {len(norm_obj_to_copy.dataframe[norm_obj_to_copy.dataframe['bin_width']==bin_width]['session'].unique())}\")"
   ]
  },
  {
   "cell_type": "code",
   "execution_count": 5,
   "metadata": {},
   "outputs": [
    {
     "name": "stdout",
     "output_type": "stream",
     "text": [
      "Creating normalizer object from: modified_bins_normalizer_10.csv\n",
      "Reading existing dataframe.\n",
      "Result updated...!\n"
     ]
    }
   ],
   "source": [
    "# ## copy data from other files...\n",
    "# norm_identifier = 'modified_bins_normalizer_10.csv'\n",
    "# norm_obj_to_copy = Normalizer(norm_identifier)\n",
    "# updated = norm_obj.write_data(norm_obj_to_copy.dataframe, norm_obj.filepath)"
   ]
  },
  {
   "cell_type": "code",
   "execution_count": 5,
   "metadata": {},
   "outputs": [
    {
     "data": {
      "text/plain": [
       "45"
      ]
     },
     "execution_count": 5,
     "metadata": {},
     "output_type": "execute_result"
    }
   ],
   "source": [
    "len(norm_obj.dataframe[norm_obj.dataframe['bin_width']==1000]['session'].unique())"
   ]
  },
  {
   "cell_type": "code",
   "execution_count": 20,
   "metadata": {},
   "outputs": [],
   "source": [
    "import torch\n",
    "\n",
    "Y = torch.randn((100,200))\n",
    "Y_hat = torch.randn((100,200))\n",
    "\n",
    "def correlation_loss(Y_hat, Y):\n",
    "\n",
    "    N = Y.shape[1]\n",
    "\n",
    "    Y_std = torch.std(Y, dim=0)\n",
    "    Y_hat_std = torch.std(Y_hat, dim=0)\n",
    "    inners = torch.matmul((Y - torch.mean(Y, dim=0)).T, (Y_hat - torch.mean(Y_hat, dim=0)))/N\n",
    "    corr = torch.diag(inners)/torch.sqrt(Y_std*Y_hat_std)\n",
    "    corr = torch.clip(corr, min=0, max=1)\n",
    "\n",
    "    return torch.mean(corr)"
   ]
  },
  {
   "cell_type": "code",
   "execution_count": 24,
   "metadata": {},
   "outputs": [
    {
     "name": "stdout",
     "output_type": "stream",
     "text": [
      "tensor([ 0.0226,  0.0894,  0.0574,  0.0232,  0.0642, -0.0350, -0.0265,  0.1378,\n",
      "        -0.0264, -0.0587,  0.0617,  0.0092, -0.1176, -0.0760,  0.0279, -0.1325,\n",
      "        -0.0825, -0.1252,  0.0609,  0.0444,  0.0675,  0.0904, -0.0100, -0.0731,\n",
      "        -0.1256, -0.0999,  0.0260,  0.0416, -0.0959,  0.0655, -0.1053, -0.0359,\n",
      "         0.0515, -0.0510, -0.1624,  0.0662,  0.1786, -0.0577, -0.0724,  0.0150,\n",
      "        -0.0626, -0.0603, -0.0403, -0.0292, -0.1211,  0.0101,  0.0317,  0.0113,\n",
      "        -0.0603, -0.1113, -0.0906, -0.1579,  0.0565, -0.0051, -0.1050,  0.0817,\n",
      "         0.0398, -0.0543, -0.0355, -0.0573,  0.0144, -0.1224, -0.0163, -0.1686,\n",
      "        -0.1016, -0.0307,  0.0005,  0.0178,  0.0253,  0.1265,  0.0678, -0.1454,\n",
      "        -0.1359,  0.0128,  0.0720,  0.1946,  0.1287, -0.0147,  0.0245, -0.1048,\n",
      "        -0.1409,  0.0252, -0.0740, -0.0779, -0.0615,  0.0540, -0.0399, -0.1266,\n",
      "        -0.0074,  0.0023,  0.1495,  0.0012, -0.0892,  0.0025,  0.0458, -0.1142,\n",
      "        -0.0498, -0.0283,  0.0737, -0.0173])\n"
     ]
    }
   ],
   "source": [
    "import torch.nn.functional as F\n",
    "input1 = torch.randn(100, 128)\n",
    "input2 = torch.randn(100, 128)\n",
    "output = F.cosine_similarity(input1, input2)\n",
    "print(output)"
   ]
  },
  {
   "cell_type": "code",
   "execution_count": 25,
   "metadata": {},
   "outputs": [
    {
     "data": {
      "text/plain": [
       "torch.Size([100])"
      ]
     },
     "execution_count": 25,
     "metadata": {},
     "output_type": "execute_result"
    }
   ],
   "source": [
    "output.shape"
   ]
  },
  {
   "cell_type": "code",
   "execution_count": 37,
   "metadata": {},
   "outputs": [
    {
     "name": "stdout",
     "output_type": "stream",
     "text": [
      "Computing null distribution for bin_width: 5, num_samples: 3314...\n",
      "Computing null distribution for bin_width: 10, num_samples: 1658...\n",
      "Computing null distribution for bin_width: 20, num_samples: 832...\n",
      "Computing null distribution for bin_width: 40, num_samples: 419...\n",
      "Computing null distribution for bin_width: 60, num_samples: 281...\n",
      "Computing null distribution for bin_width: 80, num_samples: 213...\n",
      "Computing null distribution for bin_width: 100, num_samples: 170...\n",
      "Computing null distribution for bin_width: 200, num_samples: 85...\n",
      "Computing null distribution for bin_width: 400, num_samples: 45...\n",
      "Computing null distribution for bin_width: 800, num_samples: 24...\n"
     ]
    },
    {
     "data": {
      "text/plain": [
       "[<matplotlib.lines.Line2D at 0x2abcec285040>]"
      ]
     },
     "execution_count": 37,
     "metadata": {},
     "output_type": "execute_result"
    },
    {
     "data": {
      "image/png": "[encoded data removed]",
      "text/plain": [
       "<Figure size 432x288 with 1 Axes>"
      ]
     },
     "metadata": {
      "needs_background": "light"
     },
     "output_type": "display_data"
    }
   ],
   "source": [
    "bin_widths= [5, 10, 20, 40, 60, 80, 100, 200, 400, 800]\n",
    "bw_threshold = {}\n",
    "for bin_width in bin_widths:\n",
    "    bw_threshold[bin_width] = norm_obj.compute_normalizer_threshold(bin_width=bin_width)[0]\n",
    "\n",
    "plt.plot(bw_threshold.keys(), bw_threshold.values())"
   ]
  },
  {
   "cell_type": "code",
   "execution_count": null,
   "metadata": {},
   "outputs": [],
   "source": [
    "bin_widths= [5, 10, 20, 40, 60, 80, 100, 200, 400, 800]\n",
    "bw_threshold = {}\n",
    "for bin_width in bin_widths:\n",
    "    bw_threshold[bin_width] = norm_obj.compute_normalizer_threshold(bin_width=bin_width)[0]\n",
    "\n",
    "plt.plot(bw_threshold.keys(), bw_threshold.values())\n",
    "\n",
    "compute_normalizer_threshold_using_poisson"
   ]
  },
  {
   "cell_type": "code",
   "execution_count": 7,
   "metadata": {},
   "outputs": [],
   "source": [
    "duration = 0\n",
    "for sent in norm_obj.metadata.test_sent_IDs:\n",
    "        duration += norm_obj.metadata.stim_duration(sent)\n",
    "spike_rate = 40\n",
    "\n",
    "bin_widths= [5, 10, 20, 40, 60, 80, 100, 200, 400, 800]\n",
    "# bin_widths = [20]\n",
    "\n",
    "thresholds = {}\n",
    "total_spikes = spike_rate * duration\n",
    "# for bin_width in bin_widths:\n",
    "bin_width = 20\n",
    "bins = int(np.ceil(round(1000*duration/bin_width, 3)))\n",
    "null_dist = []\n",
    "for i in range(1000):\n",
    "    spike_times_1 = np.random.uniform(0, duration, int(total_spikes))\n",
    "    counts_1,_ = np.histogram(spike_times_1, bins)\n",
    "\n",
    "    spike_times_2 = np.random.uniform(0, duration, int(total_spikes))\n",
    "    counts_2, _ = np.histogram(spike_times_2, bins)\n",
    "\n",
    "    null_dist.append(np.corrcoef(counts_1, counts_2)[0,1])\n",
    "\n",
    "thresholds[bin_width] = np.percentile(null_dist, 95)"
   ]
  },
  {
   "cell_type": "code",
   "execution_count": 18,
   "metadata": {},
   "outputs": [],
   "source": [
    "thresholds = {}"
   ]
  },
  {
   "cell_type": "code",
   "execution_count": 31,
   "metadata": {},
   "outputs": [],
   "source": [
    "duration = 0\n",
    "for sent in norm_obj.metadata.test_sent_IDs:\n",
    "        duration += norm_obj.metadata.stim_duration(sent)\n",
    "spike_rate = 400\n",
    "total_spikes = spike_rate * duration\n",
    "bin_widths= [5, 10, 20, 40, 60, 80, 100, 200, 400, 800]\n",
    "# bin_widths = [20]\n",
    "\n",
    "\n",
    "null_dists = {}\n",
    "for bin_width in bin_widths:\n",
    "    bins = int(np.ceil(round(1000*duration/bin_width, 3)))\n",
    "    null_dist = []\n",
    "    for i in range(1000):\n",
    "        spike_times_1 = np.random.uniform(0, duration, int(total_spikes))\n",
    "        counts_1,_ = np.histogram(spike_times_1, bins)\n",
    "\n",
    "        spike_times_2 = np.random.uniform(0, duration, int(total_spikes))\n",
    "        counts_2, _ = np.histogram(spike_times_2, bins)\n",
    "\n",
    "        null_dist.append(np.corrcoef(counts_1, counts_2)[0,1])\n",
    "    null_dists[bin_width] = null_dist\n",
    "\n",
    "    \n",
    "    thresholds[spike_rate]= {bin_width: np.percentile(null_dist, 95)}"
   ]
  },
  {
   "cell_type": "code",
   "execution_count": 17,
   "metadata": {},
   "outputs": [
    {
     "data": {
      "text/plain": [
       "0.08089956786707451"
      ]
     },
     "execution_count": 17,
     "metadata": {},
     "output_type": "execute_result"
    }
   ],
   "source": [
    "thresholds[40]"
   ]
  },
  {
   "cell_type": "code",
   "execution_count": 12,
   "metadata": {},
   "outputs": [
    {
     "data": {
      "text/plain": [
       "[<matplotlib.lines.Line2D at 0x2abce91187c0>]"
      ]
     },
     "execution_count": 12,
     "metadata": {},
     "output_type": "execute_result"
    },
    {
     "data": {
      "image/png": "[encoded data removed]",
      "text/plain": [
       "<Figure size 432x288 with 1 Axes>"
      ]
     },
     "metadata": {
      "needs_background": "light"
     },
     "output_type": "display_data"
    }
   ],
   "source": [
    "import matplotlib.pylab as plt\n",
    "%matplotlib inline\n",
    "\n",
    "plt.plot(thresholds.keys(), thresholds.values())"
   ]
  },
  {
   "cell_type": "code",
   "execution_count": 8,
   "metadata": {},
   "outputs": [
    {
     "data": {
      "text/plain": [
       "[<matplotlib.lines.Line2D at 0x2ad63fdb73d0>]"
      ]
     },
     "execution_count": 8,
     "metadata": {},
     "output_type": "execute_result"
    },
    {
     "data": {
      "image/png": "[encoded data removed]",
      "text/plain": [
       "<Figure size 432x288 with 1 Axes>"
      ]
     },
     "metadata": {
      "needs_background": "light"
     },
     "output_type": "display_data"
    }
   ],
   "source": [
    "import matplotlib.pylab as plt\n",
    "%matplotlib inline\n",
    "\n",
    "plt.plot(thresholds.keys(), thresholds.values())"
   ]
  },
  {
   "cell_type": "code",
   "execution_count": 15,
   "metadata": {},
   "outputs": [
    {
     "data": {
      "text/plain": [
       "(array([  6.,  27.,  83., 163., 201., 240., 182.,  69.,  23.,   6.]),\n",
       " array([-0.10289736, -0.08206092, -0.06122449, -0.04038805, -0.01955162,\n",
       "         0.00128482,  0.02212125,  0.04295769,  0.06379412,  0.08463056,\n",
       "         0.10546699]),\n",
       " <BarContainer object of 10 artists>)"
      ]
     },
     "execution_count": 15,
     "metadata": {},
     "output_type": "execute_result"
    },
    {
     "data": {
      "image/png": "[encoded data removed]",
      "text/plain": [
       "<Figure size 432x288 with 1 Axes>"
      ]
     },
     "metadata": {
      "needs_background": "light"
     },
     "output_type": "display_data"
    }
   ],
   "source": [
    "import matplotlib.pylab as plt\n",
    "%matplotlib inline\n",
    "bin_width = 20\n",
    "plt.hist(null_dists[bin_width])"
   ]
  },
  {
   "cell_type": "code",
   "execution_count": 5,
   "metadata": {},
   "outputs": [
    {
     "data": {
      "text/plain": [
       "(array([  4.,  17.,  78., 168., 263., 250., 137.,  65.,  16.,   2.]),\n",
       " array([-0.11077022, -0.0874779 , -0.06418557, -0.04089325, -0.01760092,\n",
       "         0.00569141,  0.02898373,  0.05227606,  0.07556838,  0.09886071,\n",
       "         0.12215303]),\n",
       " <BarContainer object of 10 artists>)"
      ]
     },
     "execution_count": 5,
     "metadata": {},
     "output_type": "execute_result"
    },
    {
     "data": {
      "image/png": "[encoded data removed]",
      "text/plain": [
       "<Figure size 432x288 with 1 Axes>"
      ]
     },
     "metadata": {
      "needs_background": "light"
     },
     "output_type": "display_data"
    }
   ],
   "source": [
    "import matplotlib.pylab as plt\n",
    "%matplotlib inline\n",
    "\n",
    "plt.hist(null_dist)"
   ]
  },
  {
   "cell_type": "code",
   "execution_count": 6,
   "metadata": {},
   "outputs": [
    {
     "data": {
      "text/plain": [
       "0.06084282840706959"
      ]
     },
     "execution_count": 6,
     "metadata": {},
     "output_type": "execute_result"
    }
   ],
   "source": [
    "np.percentile(null_dist, 95)"
   ]
  },
  {
   "cell_type": "code",
   "execution_count": 44,
   "metadata": {},
   "outputs": [
    {
     "data": {
      "text/plain": [
       "828"
      ]
     },
     "execution_count": 44,
     "metadata": {},
     "output_type": "execute_result"
    }
   ],
   "source": [
    "bins"
   ]
  },
  {
   "cell_type": "code",
   "execution_count": 45,
   "metadata": {},
   "outputs": [
    {
     "data": {
      "text/plain": [
       "array([2, 0, 1, 2, 1, 0, 1, 0, 0, 0, 1, 0, 0, 3, 1, 1, 0, 1, 1, 1, 1, 2,\n",
       "       2, 1, 1, 0, 0, 2, 1, 0, 0, 0, 0, 1, 0, 1, 0, 1, 1, 2, 2, 0, 1, 0,\n",
       "       1, 0, 1, 1, 1, 1, 1, 0, 1, 1, 0, 2, 1, 4, 1, 0, 1, 2, 1, 3, 0, 1,\n",
       "       1, 0, 4, 1, 0, 0, 0, 0, 0, 1, 1, 2, 0, 2, 0, 0, 2, 1, 1, 0, 0, 3,\n",
       "       0, 2, 1, 0, 0, 2, 1, 2, 1, 0, 0, 2, 0, 1, 1, 0, 1, 1, 0, 0, 2, 1,\n",
       "       2, 2, 0, 0, 0, 2, 1, 1, 1, 2, 2, 0, 0, 0, 0, 2, 1, 0, 2, 0, 0, 2,\n",
       "       1, 0, 0, 2, 1, 1, 0, 1, 0, 0, 1, 2, 0, 1, 2, 0, 0, 1, 1, 0, 3, 0,\n",
       "       0, 0, 1, 0, 0, 0, 2, 0, 0, 2, 2, 0, 3, 0, 0, 2, 2, 0, 1, 0, 3, 2,\n",
       "       0, 0, 0, 1, 0, 2, 0, 0, 1, 1, 0, 0, 1, 1, 0, 0, 2, 1, 0, 2, 1, 2,\n",
       "       1, 2, 2, 1, 1, 0, 1, 0, 1, 0, 0, 0, 1, 0, 2, 1, 0, 3, 0, 1, 1, 1,\n",
       "       0, 1, 1, 0, 2, 1, 0, 0, 0, 0, 2, 0, 1, 2, 0, 0, 2, 0, 2, 0, 0, 0,\n",
       "       4, 0, 2, 1, 1, 1, 1, 1, 1, 1, 0, 0, 1, 1, 0, 0, 2, 1, 5, 0, 1, 0,\n",
       "       0, 0, 0, 0, 1, 0, 0, 2, 0, 1, 0, 0, 0, 2, 0, 0, 0, 1, 1, 1, 1, 2,\n",
       "       0, 0, 1, 0, 2, 0, 0, 1, 1, 1, 0, 0, 2, 1, 3, 1, 1, 0, 1, 1, 1, 1,\n",
       "       0, 1, 0, 1, 2, 1, 1, 0, 0, 0, 1, 1, 1, 2, 0, 0, 1, 0, 1, 0, 2, 1,\n",
       "       1, 0, 1, 1, 2, 0, 0, 2, 2, 1, 1, 0, 2, 0, 0, 0, 0, 0, 0, 2, 0, 1,\n",
       "       3, 2, 0, 0, 2, 0, 1, 0, 1, 0, 3, 1, 0, 1, 3, 1, 1, 0, 0, 0, 2, 1,\n",
       "       0, 2, 0, 0, 2, 0, 0, 0, 0, 1, 0, 2, 0, 0, 1, 2, 1, 1, 1, 1, 3, 0,\n",
       "       1, 0, 1, 0, 2, 0, 1, 0, 1, 0, 2, 0, 1, 1, 1, 0, 0, 1, 1, 1, 0, 0,\n",
       "       0, 3, 1, 1, 0, 1, 0, 0, 1, 0, 2, 0, 0, 1, 0, 2, 0, 1, 0, 0, 2, 1,\n",
       "       1, 0, 3, 1, 0, 1, 0, 0, 0, 2, 1, 3, 0, 1, 0, 0, 1, 1, 0, 1, 2, 0,\n",
       "       0, 0, 0, 0, 0, 1, 1, 1, 1, 0, 1, 2, 1, 1, 0, 0, 1, 1, 0, 0, 0, 0,\n",
       "       1, 2, 4, 2, 2, 0, 0, 1, 0, 2, 0, 1, 1, 1, 0, 1, 3, 0, 1, 0, 3, 0,\n",
       "       1, 1, 0, 1, 0, 1, 2, 1, 1, 1, 0, 1, 1, 0, 0, 2, 0, 1, 0, 1, 1, 0,\n",
       "       1, 0, 0, 0, 0, 0, 2, 1, 2, 1, 0, 0, 1, 0, 0, 0, 0, 0, 1, 0, 2, 0,\n",
       "       0, 1, 0, 0, 1, 1, 1, 2, 1, 0, 1, 1, 0, 3, 0, 2, 1, 4, 3, 0, 1, 1,\n",
       "       0, 1, 1, 0, 0, 0, 0, 1, 0, 0, 1, 1, 1, 0, 0, 1, 3, 0, 1, 0, 1, 2,\n",
       "       1, 1, 0, 0, 1, 0, 1, 1, 1, 0, 0, 1, 0, 0, 2, 1, 1, 2, 1, 1, 1, 1,\n",
       "       1, 3, 1, 1, 0, 0, 1, 0, 0, 0, 1, 0, 0, 1, 1, 1, 1, 0, 0, 1, 0, 0,\n",
       "       1, 3, 0, 2, 0, 2, 1, 0, 0, 0, 1, 1, 0, 0, 0, 0, 0, 0, 0, 1, 0, 2,\n",
       "       0, 0, 0, 1, 0, 0, 2, 0, 0, 1, 0, 2, 0, 2, 0, 0, 1, 0, 0, 1, 1, 2,\n",
       "       3, 0, 1, 0, 1, 1, 0, 0, 1, 1, 1, 2, 0, 0, 2, 0, 0, 0, 0, 1, 0, 1,\n",
       "       1, 1, 2, 2, 2, 0, 2, 2, 0, 2, 0, 2, 1, 1, 0, 1, 1, 1, 1, 0, 1, 1,\n",
       "       0, 2, 0, 1, 2, 0, 0, 4, 0, 1, 1, 3, 2, 1, 0, 1, 0, 1, 1, 1, 1, 0,\n",
       "       0, 2, 0, 1, 1, 2, 0, 2, 2, 0, 0, 0, 1, 1, 2, 1, 0, 0, 1, 0, 2, 0,\n",
       "       0, 1, 0, 0, 2, 0, 0, 0, 2, 0, 1, 2, 0, 0, 1, 2, 1, 1, 2, 1, 1, 3,\n",
       "       1, 0, 1, 1, 0, 1, 1, 0, 1, 0, 2, 1, 1, 2, 2, 1, 0, 1, 1, 2, 1, 0,\n",
       "       1, 0, 2, 1, 0, 1, 1, 0, 1, 1, 1, 1, 0, 1])"
      ]
     },
     "execution_count": 45,
     "metadata": {},
     "output_type": "execute_result"
    }
   ],
   "source": [
    "counts"
   ]
  },
  {
   "cell_type": "code",
   "execution_count": 16,
   "metadata": {},
   "outputs": [
    {
     "name": "stdout",
     "output_type": "stream",
     "text": [
      "Loading Neural data for session: 200206 ... Done.\n"
     ]
    }
   ],
   "source": [
    "session = 200206\n",
    "bin_width = 20\n",
    "delay = 0\n",
    "\n",
    "dataset = norm_obj._get_dataset_obj(session)\n",
    "all_repeated_trials = dataset.get_repeated_trials(\n",
    "            sents=norm_obj.metadata.test_sent_IDs, bin_width=bin_width,\n",
    "            delay=delay\n",
    "            )"
   ]
  },
  {
   "cell_type": "code",
   "execution_count": 29,
   "metadata": {},
   "outputs": [
    {
     "data": {
      "text/plain": [
       "23.0"
      ]
     },
     "execution_count": 29,
     "metadata": {},
     "output_type": "execute_result"
    }
   ],
   "source": [
    "all_repeated_trials[0,:70,43].sum()"
   ]
  },
  {
   "cell_type": "code",
   "execution_count": null,
   "metadata": {},
   "outputs": [],
   "source": [
    "from auditory_cortex"
   ]
  },
  {
   "cell_type": "code",
   "execution_count": 19,
   "metadata": {},
   "outputs": [
    {
     "name": "stdout",
     "output_type": "stream",
     "text": [
      "Reading existing dataframe.\n"
     ]
    }
   ],
   "source": [
    "model_name = 'wave2letter_modified'\n",
    "model_name_full = model_name\n",
    "id = 'sampling_rate_opt_neural_delay'\n",
    "model_name_full = model_name_full + '_' + id\n",
    "corr_obj = Correlations(model_name=model_name_full)"
   ]
  },
  {
   "cell_type": "code",
   "execution_count": 21,
   "metadata": {},
   "outputs": [
    {
     "data": {
      "text/html": [
       "<div>\n",
       "<style scoped>\n",
       "    .dataframe tbody tr th:only-of-type {\n",
       "        vertical-align: middle;\n",
       "    }\n",
       "\n",
       "    .dataframe tbody tr th {\n",
       "        vertical-align: top;\n",
       "    }\n",
       "\n",
       "    .dataframe thead th {\n",
       "        text-align: right;\n",
       "    }\n",
       "</style>\n",
       "<table border=\"1\" class=\"dataframe\">\n",
       "  <thead>\n",
       "    <tr style=\"text-align: right;\">\n",
       "      <th></th>\n",
       "      <th>session</th>\n",
       "      <th>layer</th>\n",
       "      <th>channel</th>\n",
       "      <th>bin_width</th>\n",
       "      <th>delay</th>\n",
       "      <th>train_cc_raw</th>\n",
       "      <th>test_cc_raw</th>\n",
       "      <th>normalizer</th>\n",
       "      <th>N_sents</th>\n",
       "      <th>opt_delays</th>\n",
       "      <th>layer_type</th>\n",
       "    </tr>\n",
       "  </thead>\n",
       "  <tbody>\n",
       "    <tr>\n",
       "      <th>154224</th>\n",
       "      <td>180807.0</td>\n",
       "      <td>0.0</td>\n",
       "      <td>0.0</td>\n",
       "      <td>200.0</td>\n",
       "      <td>0.0</td>\n",
       "      <td>0.0</td>\n",
       "      <td>0.037082</td>\n",
       "      <td>0.109398</td>\n",
       "      <td>500.0</td>\n",
       "      <td>0.0</td>\n",
       "      <td>conv</td>\n",
       "    </tr>\n",
       "    <tr>\n",
       "      <th>154225</th>\n",
       "      <td>180807.0</td>\n",
       "      <td>0.0</td>\n",
       "      <td>1.0</td>\n",
       "      <td>200.0</td>\n",
       "      <td>0.0</td>\n",
       "      <td>0.0</td>\n",
       "      <td>0.234885</td>\n",
       "      <td>0.453179</td>\n",
       "      <td>500.0</td>\n",
       "      <td>5.0</td>\n",
       "      <td>conv</td>\n",
       "    </tr>\n",
       "    <tr>\n",
       "      <th>154226</th>\n",
       "      <td>180807.0</td>\n",
       "      <td>0.0</td>\n",
       "      <td>2.0</td>\n",
       "      <td>200.0</td>\n",
       "      <td>0.0</td>\n",
       "      <td>0.0</td>\n",
       "      <td>0.339241</td>\n",
       "      <td>0.339308</td>\n",
       "      <td>500.0</td>\n",
       "      <td>0.0</td>\n",
       "      <td>conv</td>\n",
       "    </tr>\n",
       "    <tr>\n",
       "      <th>154227</th>\n",
       "      <td>180807.0</td>\n",
       "      <td>0.0</td>\n",
       "      <td>3.0</td>\n",
       "      <td>200.0</td>\n",
       "      <td>0.0</td>\n",
       "      <td>0.0</td>\n",
       "      <td>0.304311</td>\n",
       "      <td>0.253618</td>\n",
       "      <td>500.0</td>\n",
       "      <td>0.0</td>\n",
       "      <td>conv</td>\n",
       "    </tr>\n",
       "    <tr>\n",
       "      <th>154228</th>\n",
       "      <td>180807.0</td>\n",
       "      <td>0.0</td>\n",
       "      <td>4.0</td>\n",
       "      <td>200.0</td>\n",
       "      <td>0.0</td>\n",
       "      <td>0.0</td>\n",
       "      <td>0.387910</td>\n",
       "      <td>0.222875</td>\n",
       "      <td>500.0</td>\n",
       "      <td>0.0</td>\n",
       "      <td>conv</td>\n",
       "    </tr>\n",
       "    <tr>\n",
       "      <th>154229</th>\n",
       "      <td>180807.0</td>\n",
       "      <td>0.0</td>\n",
       "      <td>5.0</td>\n",
       "      <td>200.0</td>\n",
       "      <td>0.0</td>\n",
       "      <td>0.0</td>\n",
       "      <td>0.252644</td>\n",
       "      <td>0.066257</td>\n",
       "      <td>500.0</td>\n",
       "      <td>30.0</td>\n",
       "      <td>conv</td>\n",
       "    </tr>\n",
       "    <tr>\n",
       "      <th>154230</th>\n",
       "      <td>180807.0</td>\n",
       "      <td>0.0</td>\n",
       "      <td>6.0</td>\n",
       "      <td>200.0</td>\n",
       "      <td>0.0</td>\n",
       "      <td>0.0</td>\n",
       "      <td>0.024976</td>\n",
       "      <td>0.026751</td>\n",
       "      <td>500.0</td>\n",
       "      <td>45.0</td>\n",
       "      <td>conv</td>\n",
       "    </tr>\n",
       "    <tr>\n",
       "      <th>154231</th>\n",
       "      <td>180807.0</td>\n",
       "      <td>0.0</td>\n",
       "      <td>7.0</td>\n",
       "      <td>200.0</td>\n",
       "      <td>0.0</td>\n",
       "      <td>0.0</td>\n",
       "      <td>0.412596</td>\n",
       "      <td>0.289013</td>\n",
       "      <td>500.0</td>\n",
       "      <td>0.0</td>\n",
       "      <td>conv</td>\n",
       "    </tr>\n",
       "    <tr>\n",
       "      <th>154232</th>\n",
       "      <td>180807.0</td>\n",
       "      <td>0.0</td>\n",
       "      <td>8.0</td>\n",
       "      <td>200.0</td>\n",
       "      <td>0.0</td>\n",
       "      <td>0.0</td>\n",
       "      <td>0.405631</td>\n",
       "      <td>0.314603</td>\n",
       "      <td>500.0</td>\n",
       "      <td>5.0</td>\n",
       "      <td>conv</td>\n",
       "    </tr>\n",
       "    <tr>\n",
       "      <th>154233</th>\n",
       "      <td>180807.0</td>\n",
       "      <td>0.0</td>\n",
       "      <td>9.0</td>\n",
       "      <td>200.0</td>\n",
       "      <td>0.0</td>\n",
       "      <td>0.0</td>\n",
       "      <td>-0.090580</td>\n",
       "      <td>-0.019528</td>\n",
       "      <td>500.0</td>\n",
       "      <td>95.0</td>\n",
       "      <td>conv</td>\n",
       "    </tr>\n",
       "    <tr>\n",
       "      <th>154234</th>\n",
       "      <td>180807.0</td>\n",
       "      <td>0.0</td>\n",
       "      <td>10.0</td>\n",
       "      <td>200.0</td>\n",
       "      <td>0.0</td>\n",
       "      <td>0.0</td>\n",
       "      <td>0.034108</td>\n",
       "      <td>0.018890</td>\n",
       "      <td>500.0</td>\n",
       "      <td>5.0</td>\n",
       "      <td>conv</td>\n",
       "    </tr>\n",
       "    <tr>\n",
       "      <th>154235</th>\n",
       "      <td>180807.0</td>\n",
       "      <td>0.0</td>\n",
       "      <td>11.0</td>\n",
       "      <td>200.0</td>\n",
       "      <td>0.0</td>\n",
       "      <td>0.0</td>\n",
       "      <td>0.285731</td>\n",
       "      <td>0.148361</td>\n",
       "      <td>500.0</td>\n",
       "      <td>0.0</td>\n",
       "      <td>conv</td>\n",
       "    </tr>\n",
       "    <tr>\n",
       "      <th>154236</th>\n",
       "      <td>180807.0</td>\n",
       "      <td>0.0</td>\n",
       "      <td>12.0</td>\n",
       "      <td>200.0</td>\n",
       "      <td>0.0</td>\n",
       "      <td>0.0</td>\n",
       "      <td>0.041338</td>\n",
       "      <td>0.122152</td>\n",
       "      <td>500.0</td>\n",
       "      <td>20.0</td>\n",
       "      <td>conv</td>\n",
       "    </tr>\n",
       "    <tr>\n",
       "      <th>154237</th>\n",
       "      <td>180807.0</td>\n",
       "      <td>0.0</td>\n",
       "      <td>13.0</td>\n",
       "      <td>200.0</td>\n",
       "      <td>0.0</td>\n",
       "      <td>0.0</td>\n",
       "      <td>0.192182</td>\n",
       "      <td>0.307845</td>\n",
       "      <td>500.0</td>\n",
       "      <td>5.0</td>\n",
       "      <td>conv</td>\n",
       "    </tr>\n",
       "    <tr>\n",
       "      <th>154238</th>\n",
       "      <td>180807.0</td>\n",
       "      <td>0.0</td>\n",
       "      <td>14.0</td>\n",
       "      <td>200.0</td>\n",
       "      <td>0.0</td>\n",
       "      <td>0.0</td>\n",
       "      <td>0.199331</td>\n",
       "      <td>0.122531</td>\n",
       "      <td>500.0</td>\n",
       "      <td>25.0</td>\n",
       "      <td>conv</td>\n",
       "    </tr>\n",
       "    <tr>\n",
       "      <th>154239</th>\n",
       "      <td>180807.0</td>\n",
       "      <td>0.0</td>\n",
       "      <td>15.0</td>\n",
       "      <td>200.0</td>\n",
       "      <td>0.0</td>\n",
       "      <td>0.0</td>\n",
       "      <td>0.339567</td>\n",
       "      <td>0.302515</td>\n",
       "      <td>500.0</td>\n",
       "      <td>5.0</td>\n",
       "      <td>conv</td>\n",
       "    </tr>\n",
       "  </tbody>\n",
       "</table>\n",
       "</div>"
      ],
      "text/plain": [
       "         session  layer  channel  bin_width  delay  train_cc_raw  test_cc_raw  \\\n",
       "154224  180807.0    0.0      0.0      200.0    0.0           0.0     0.037082   \n",
       "154225  180807.0    0.0      1.0      200.0    0.0           0.0     0.234885   \n",
       "154226  180807.0    0.0      2.0      200.0    0.0           0.0     0.339241   \n",
       "154227  180807.0    0.0      3.0      200.0    0.0           0.0     0.304311   \n",
       "154228  180807.0    0.0      4.0      200.0    0.0           0.0     0.387910   \n",
       "154229  180807.0    0.0      5.0      200.0    0.0           0.0     0.252644   \n",
       "154230  180807.0    0.0      6.0      200.0    0.0           0.0     0.024976   \n",
       "154231  180807.0    0.0      7.0      200.0    0.0           0.0     0.412596   \n",
       "154232  180807.0    0.0      8.0      200.0    0.0           0.0     0.405631   \n",
       "154233  180807.0    0.0      9.0      200.0    0.0           0.0    -0.090580   \n",
       "154234  180807.0    0.0     10.0      200.0    0.0           0.0     0.034108   \n",
       "154235  180807.0    0.0     11.0      200.0    0.0           0.0     0.285731   \n",
       "154236  180807.0    0.0     12.0      200.0    0.0           0.0     0.041338   \n",
       "154237  180807.0    0.0     13.0      200.0    0.0           0.0     0.192182   \n",
       "154238  180807.0    0.0     14.0      200.0    0.0           0.0     0.199331   \n",
       "154239  180807.0    0.0     15.0      200.0    0.0           0.0     0.339567   \n",
       "\n",
       "        normalizer  N_sents  opt_delays layer_type  \n",
       "154224    0.109398    500.0         0.0       conv  \n",
       "154225    0.453179    500.0         5.0       conv  \n",
       "154226    0.339308    500.0         0.0       conv  \n",
       "154227    0.253618    500.0         0.0       conv  \n",
       "154228    0.222875    500.0         0.0       conv  \n",
       "154229    0.066257    500.0        30.0       conv  \n",
       "154230    0.026751    500.0        45.0       conv  \n",
       "154231    0.289013    500.0         0.0       conv  \n",
       "154232    0.314603    500.0         5.0       conv  \n",
       "154233   -0.019528    500.0        95.0       conv  \n",
       "154234    0.018890    500.0         5.0       conv  \n",
       "154235    0.148361    500.0         0.0       conv  \n",
       "154236    0.122152    500.0        20.0       conv  \n",
       "154237    0.307845    500.0         5.0       conv  \n",
       "154238    0.122531    500.0        25.0       conv  \n",
       "154239    0.302515    500.0         5.0       conv  "
      ]
     },
     "execution_count": 21,
     "metadata": {},
     "output_type": "execute_result"
    }
   ],
   "source": [
    "corr_obj.get_selected_data([180807], bin_width=200, delay=0, layer=0)"
   ]
  },
  {
   "cell_type": "code",
   "execution_count": 22,
   "metadata": {},
   "outputs": [
    {
     "data": {
      "text/html": [
       "<div>\n",
       "<style scoped>\n",
       "    .dataframe tbody tr th:only-of-type {\n",
       "        vertical-align: middle;\n",
       "    }\n",
       "\n",
       "    .dataframe tbody tr th {\n",
       "        vertical-align: top;\n",
       "    }\n",
       "\n",
       "    .dataframe thead th {\n",
       "        text-align: right;\n",
       "    }\n",
       "</style>\n",
       "<table border=\"1\" class=\"dataframe\">\n",
       "  <thead>\n",
       "    <tr style=\"text-align: right;\">\n",
       "      <th></th>\n",
       "      <th>session</th>\n",
       "      <th>layer</th>\n",
       "      <th>channel</th>\n",
       "      <th>bin_width</th>\n",
       "      <th>delay</th>\n",
       "      <th>train_cc_raw</th>\n",
       "      <th>test_cc_raw</th>\n",
       "      <th>normalizer</th>\n",
       "      <th>N_sents</th>\n",
       "      <th>opt_delays</th>\n",
       "      <th>layer_type</th>\n",
       "    </tr>\n",
       "  </thead>\n",
       "  <tbody>\n",
       "    <tr>\n",
       "      <th>2896</th>\n",
       "      <td>180807.0</td>\n",
       "      <td>1.0</td>\n",
       "      <td>0.0</td>\n",
       "      <td>20.0</td>\n",
       "      <td>0.0</td>\n",
       "      <td>0.0</td>\n",
       "      <td>0.077897</td>\n",
       "      <td>0.109398</td>\n",
       "      <td>500.0</td>\n",
       "      <td>100.0</td>\n",
       "      <td>conv</td>\n",
       "    </tr>\n",
       "    <tr>\n",
       "      <th>2897</th>\n",
       "      <td>180807.0</td>\n",
       "      <td>1.0</td>\n",
       "      <td>1.0</td>\n",
       "      <td>20.0</td>\n",
       "      <td>0.0</td>\n",
       "      <td>0.0</td>\n",
       "      <td>0.248638</td>\n",
       "      <td>0.453179</td>\n",
       "      <td>500.0</td>\n",
       "      <td>30.0</td>\n",
       "      <td>conv</td>\n",
       "    </tr>\n",
       "    <tr>\n",
       "      <th>2898</th>\n",
       "      <td>180807.0</td>\n",
       "      <td>1.0</td>\n",
       "      <td>2.0</td>\n",
       "      <td>20.0</td>\n",
       "      <td>0.0</td>\n",
       "      <td>0.0</td>\n",
       "      <td>0.364426</td>\n",
       "      <td>0.339308</td>\n",
       "      <td>500.0</td>\n",
       "      <td>30.0</td>\n",
       "      <td>conv</td>\n",
       "    </tr>\n",
       "    <tr>\n",
       "      <th>2899</th>\n",
       "      <td>180807.0</td>\n",
       "      <td>1.0</td>\n",
       "      <td>3.0</td>\n",
       "      <td>20.0</td>\n",
       "      <td>0.0</td>\n",
       "      <td>0.0</td>\n",
       "      <td>0.333674</td>\n",
       "      <td>0.253618</td>\n",
       "      <td>500.0</td>\n",
       "      <td>0.0</td>\n",
       "      <td>conv</td>\n",
       "    </tr>\n",
       "    <tr>\n",
       "      <th>2900</th>\n",
       "      <td>180807.0</td>\n",
       "      <td>1.0</td>\n",
       "      <td>4.0</td>\n",
       "      <td>20.0</td>\n",
       "      <td>0.0</td>\n",
       "      <td>0.0</td>\n",
       "      <td>0.244013</td>\n",
       "      <td>0.222875</td>\n",
       "      <td>500.0</td>\n",
       "      <td>10.0</td>\n",
       "      <td>conv</td>\n",
       "    </tr>\n",
       "    <tr>\n",
       "      <th>2901</th>\n",
       "      <td>180807.0</td>\n",
       "      <td>1.0</td>\n",
       "      <td>5.0</td>\n",
       "      <td>20.0</td>\n",
       "      <td>0.0</td>\n",
       "      <td>0.0</td>\n",
       "      <td>0.035791</td>\n",
       "      <td>0.066257</td>\n",
       "      <td>500.0</td>\n",
       "      <td>100.0</td>\n",
       "      <td>conv</td>\n",
       "    </tr>\n",
       "    <tr>\n",
       "      <th>2902</th>\n",
       "      <td>180807.0</td>\n",
       "      <td>1.0</td>\n",
       "      <td>6.0</td>\n",
       "      <td>20.0</td>\n",
       "      <td>0.0</td>\n",
       "      <td>0.0</td>\n",
       "      <td>0.029460</td>\n",
       "      <td>0.026751</td>\n",
       "      <td>500.0</td>\n",
       "      <td>95.0</td>\n",
       "      <td>conv</td>\n",
       "    </tr>\n",
       "    <tr>\n",
       "      <th>2903</th>\n",
       "      <td>180807.0</td>\n",
       "      <td>1.0</td>\n",
       "      <td>7.0</td>\n",
       "      <td>20.0</td>\n",
       "      <td>0.0</td>\n",
       "      <td>0.0</td>\n",
       "      <td>0.207863</td>\n",
       "      <td>0.289013</td>\n",
       "      <td>500.0</td>\n",
       "      <td>35.0</td>\n",
       "      <td>conv</td>\n",
       "    </tr>\n",
       "    <tr>\n",
       "      <th>2904</th>\n",
       "      <td>180807.0</td>\n",
       "      <td>1.0</td>\n",
       "      <td>8.0</td>\n",
       "      <td>20.0</td>\n",
       "      <td>0.0</td>\n",
       "      <td>0.0</td>\n",
       "      <td>0.172783</td>\n",
       "      <td>0.314603</td>\n",
       "      <td>500.0</td>\n",
       "      <td>45.0</td>\n",
       "      <td>conv</td>\n",
       "    </tr>\n",
       "    <tr>\n",
       "      <th>2905</th>\n",
       "      <td>180807.0</td>\n",
       "      <td>1.0</td>\n",
       "      <td>9.0</td>\n",
       "      <td>20.0</td>\n",
       "      <td>0.0</td>\n",
       "      <td>0.0</td>\n",
       "      <td>-0.024887</td>\n",
       "      <td>-0.019528</td>\n",
       "      <td>500.0</td>\n",
       "      <td>95.0</td>\n",
       "      <td>conv</td>\n",
       "    </tr>\n",
       "    <tr>\n",
       "      <th>2906</th>\n",
       "      <td>180807.0</td>\n",
       "      <td>1.0</td>\n",
       "      <td>10.0</td>\n",
       "      <td>20.0</td>\n",
       "      <td>0.0</td>\n",
       "      <td>0.0</td>\n",
       "      <td>0.102992</td>\n",
       "      <td>0.018890</td>\n",
       "      <td>500.0</td>\n",
       "      <td>0.0</td>\n",
       "      <td>conv</td>\n",
       "    </tr>\n",
       "    <tr>\n",
       "      <th>2907</th>\n",
       "      <td>180807.0</td>\n",
       "      <td>1.0</td>\n",
       "      <td>11.0</td>\n",
       "      <td>20.0</td>\n",
       "      <td>0.0</td>\n",
       "      <td>0.0</td>\n",
       "      <td>0.157192</td>\n",
       "      <td>0.148361</td>\n",
       "      <td>500.0</td>\n",
       "      <td>35.0</td>\n",
       "      <td>conv</td>\n",
       "    </tr>\n",
       "    <tr>\n",
       "      <th>2908</th>\n",
       "      <td>180807.0</td>\n",
       "      <td>1.0</td>\n",
       "      <td>12.0</td>\n",
       "      <td>20.0</td>\n",
       "      <td>0.0</td>\n",
       "      <td>0.0</td>\n",
       "      <td>0.023545</td>\n",
       "      <td>0.122152</td>\n",
       "      <td>500.0</td>\n",
       "      <td>15.0</td>\n",
       "      <td>conv</td>\n",
       "    </tr>\n",
       "    <tr>\n",
       "      <th>2909</th>\n",
       "      <td>180807.0</td>\n",
       "      <td>1.0</td>\n",
       "      <td>13.0</td>\n",
       "      <td>20.0</td>\n",
       "      <td>0.0</td>\n",
       "      <td>0.0</td>\n",
       "      <td>0.284397</td>\n",
       "      <td>0.307845</td>\n",
       "      <td>500.0</td>\n",
       "      <td>10.0</td>\n",
       "      <td>conv</td>\n",
       "    </tr>\n",
       "    <tr>\n",
       "      <th>2910</th>\n",
       "      <td>180807.0</td>\n",
       "      <td>1.0</td>\n",
       "      <td>14.0</td>\n",
       "      <td>20.0</td>\n",
       "      <td>0.0</td>\n",
       "      <td>0.0</td>\n",
       "      <td>0.141761</td>\n",
       "      <td>0.122531</td>\n",
       "      <td>500.0</td>\n",
       "      <td>5.0</td>\n",
       "      <td>conv</td>\n",
       "    </tr>\n",
       "    <tr>\n",
       "      <th>2911</th>\n",
       "      <td>180807.0</td>\n",
       "      <td>1.0</td>\n",
       "      <td>15.0</td>\n",
       "      <td>20.0</td>\n",
       "      <td>0.0</td>\n",
       "      <td>0.0</td>\n",
       "      <td>0.133125</td>\n",
       "      <td>0.302515</td>\n",
       "      <td>500.0</td>\n",
       "      <td>45.0</td>\n",
       "      <td>conv</td>\n",
       "    </tr>\n",
       "  </tbody>\n",
       "</table>\n",
       "</div>"
      ],
      "text/plain": [
       "       session  layer  channel  bin_width  delay  train_cc_raw  test_cc_raw  \\\n",
       "2896  180807.0    1.0      0.0       20.0    0.0           0.0     0.077897   \n",
       "2897  180807.0    1.0      1.0       20.0    0.0           0.0     0.248638   \n",
       "2898  180807.0    1.0      2.0       20.0    0.0           0.0     0.364426   \n",
       "2899  180807.0    1.0      3.0       20.0    0.0           0.0     0.333674   \n",
       "2900  180807.0    1.0      4.0       20.0    0.0           0.0     0.244013   \n",
       "2901  180807.0    1.0      5.0       20.0    0.0           0.0     0.035791   \n",
       "2902  180807.0    1.0      6.0       20.0    0.0           0.0     0.029460   \n",
       "2903  180807.0    1.0      7.0       20.0    0.0           0.0     0.207863   \n",
       "2904  180807.0    1.0      8.0       20.0    0.0           0.0     0.172783   \n",
       "2905  180807.0    1.0      9.0       20.0    0.0           0.0    -0.024887   \n",
       "2906  180807.0    1.0     10.0       20.0    0.0           0.0     0.102992   \n",
       "2907  180807.0    1.0     11.0       20.0    0.0           0.0     0.157192   \n",
       "2908  180807.0    1.0     12.0       20.0    0.0           0.0     0.023545   \n",
       "2909  180807.0    1.0     13.0       20.0    0.0           0.0     0.284397   \n",
       "2910  180807.0    1.0     14.0       20.0    0.0           0.0     0.141761   \n",
       "2911  180807.0    1.0     15.0       20.0    0.0           0.0     0.133125   \n",
       "\n",
       "      normalizer  N_sents  opt_delays layer_type  \n",
       "2896    0.109398    500.0       100.0       conv  \n",
       "2897    0.453179    500.0        30.0       conv  \n",
       "2898    0.339308    500.0        30.0       conv  \n",
       "2899    0.253618    500.0         0.0       conv  \n",
       "2900    0.222875    500.0        10.0       conv  \n",
       "2901    0.066257    500.0       100.0       conv  \n",
       "2902    0.026751    500.0        95.0       conv  \n",
       "2903    0.289013    500.0        35.0       conv  \n",
       "2904    0.314603    500.0        45.0       conv  \n",
       "2905   -0.019528    500.0        95.0       conv  \n",
       "2906    0.018890    500.0         0.0       conv  \n",
       "2907    0.148361    500.0        35.0       conv  \n",
       "2908    0.122152    500.0        15.0       conv  \n",
       "2909    0.307845    500.0        10.0       conv  \n",
       "2910    0.122531    500.0         5.0       conv  \n",
       "2911    0.302515    500.0        45.0       conv  "
      ]
     },
     "execution_count": 22,
     "metadata": {},
     "output_type": "execute_result"
    }
   ],
   "source": [
    "corr_obj.get_selected_data([180807], bin_width=20, delay=0, layer=1)"
   ]
  },
  {
   "cell_type": "code",
   "execution_count": 23,
   "metadata": {},
   "outputs": [
    {
     "name": "stdout",
     "output_type": "stream",
     "text": [
      "Normalizers updated, writing back now...\n",
      "Saved at /depot/jgmakin/data/auditory_cortex/results/cross_validated_correlations/wave2letter_modified_sampling_rate_opt_neural_delay_corr_results.csv\n",
      "Normalizers updated, writing back now...\n",
      "Saved at /depot/jgmakin/data/auditory_cortex/results/cross_validated_correlations/wave2letter_modified_sampling_rate_opt_neural_delay_corr_results.csv\n",
      "Normalizers updated, writing back now...\n",
      "Saved at /depot/jgmakin/data/auditory_cortex/results/cross_validated_correlations/wave2letter_modified_sampling_rate_opt_neural_delay_corr_results.csv\n",
      "Normalizers updated, writing back now...\n",
      "Saved at /depot/jgmakin/data/auditory_cortex/results/cross_validated_correlations/wave2letter_modified_sampling_rate_opt_neural_delay_corr_results.csv\n",
      "Normalizers updated, writing back now...\n",
      "Saved at /depot/jgmakin/data/auditory_cortex/results/cross_validated_correlations/wave2letter_modified_sampling_rate_opt_neural_delay_corr_results.csv\n",
      "Normalizers updated, writing back now...\n",
      "Saved at /depot/jgmakin/data/auditory_cortex/results/cross_validated_correlations/wave2letter_modified_sampling_rate_opt_neural_delay_corr_results.csv\n",
      "Normalizers updated, writing back now...\n",
      "Saved at /depot/jgmakin/data/auditory_cortex/results/cross_validated_correlations/wave2letter_modified_sampling_rate_opt_neural_delay_corr_results.csv\n",
      "Normalizers updated, writing back now...\n",
      "Saved at /depot/jgmakin/data/auditory_cortex/results/cross_validated_correlations/wave2letter_modified_sampling_rate_opt_neural_delay_corr_results.csv\n",
      "Normalizers updated, writing back now...\n",
      "Saved at /depot/jgmakin/data/auditory_cortex/results/cross_validated_correlations/wave2letter_modified_sampling_rate_opt_neural_delay_corr_results.csv\n",
      "Normalizers updated, writing back now...\n",
      "Saved at /depot/jgmakin/data/auditory_cortex/results/cross_validated_correlations/wave2letter_modified_sampling_rate_opt_neural_delay_corr_results.csv\n"
     ]
    }
   ],
   "source": [
    "corr_obj.set_normalizers()"
   ]
  },
  {
   "cell_type": "code",
   "execution_count": 25,
   "metadata": {},
   "outputs": [
    {
     "data": {
      "text/html": [
       "<div>\n",
       "<style scoped>\n",
       "    .dataframe tbody tr th:only-of-type {\n",
       "        vertical-align: middle;\n",
       "    }\n",
       "\n",
       "    .dataframe tbody tr th {\n",
       "        vertical-align: top;\n",
       "    }\n",
       "\n",
       "    .dataframe thead th {\n",
       "        text-align: right;\n",
       "    }\n",
       "</style>\n",
       "<table border=\"1\" class=\"dataframe\">\n",
       "  <thead>\n",
       "    <tr style=\"text-align: right;\">\n",
       "      <th></th>\n",
       "      <th>session</th>\n",
       "      <th>layer</th>\n",
       "      <th>channel</th>\n",
       "      <th>bin_width</th>\n",
       "      <th>delay</th>\n",
       "      <th>train_cc_raw</th>\n",
       "      <th>test_cc_raw</th>\n",
       "      <th>normalizer</th>\n",
       "      <th>N_sents</th>\n",
       "      <th>opt_delays</th>\n",
       "      <th>layer_type</th>\n",
       "      <th>normalized_test_cc</th>\n",
       "    </tr>\n",
       "  </thead>\n",
       "  <tbody>\n",
       "    <tr>\n",
       "      <th>154240</th>\n",
       "      <td>180807.0</td>\n",
       "      <td>1.0</td>\n",
       "      <td>0.0</td>\n",
       "      <td>200.0</td>\n",
       "      <td>0.0</td>\n",
       "      <td>0.0</td>\n",
       "      <td>0.230532</td>\n",
       "      <td>0.293915</td>\n",
       "      <td>500.0</td>\n",
       "      <td>0.0</td>\n",
       "      <td>conv</td>\n",
       "      <td>0.425226</td>\n",
       "    </tr>\n",
       "    <tr>\n",
       "      <th>154241</th>\n",
       "      <td>180807.0</td>\n",
       "      <td>1.0</td>\n",
       "      <td>1.0</td>\n",
       "      <td>200.0</td>\n",
       "      <td>0.0</td>\n",
       "      <td>0.0</td>\n",
       "      <td>0.362544</td>\n",
       "      <td>0.661228</td>\n",
       "      <td>500.0</td>\n",
       "      <td>0.0</td>\n",
       "      <td>conv</td>\n",
       "      <td>0.445846</td>\n",
       "    </tr>\n",
       "    <tr>\n",
       "      <th>154242</th>\n",
       "      <td>180807.0</td>\n",
       "      <td>1.0</td>\n",
       "      <td>2.0</td>\n",
       "      <td>200.0</td>\n",
       "      <td>0.0</td>\n",
       "      <td>0.0</td>\n",
       "      <td>0.419270</td>\n",
       "      <td>0.632566</td>\n",
       "      <td>500.0</td>\n",
       "      <td>0.0</td>\n",
       "      <td>conv</td>\n",
       "      <td>0.527158</td>\n",
       "    </tr>\n",
       "    <tr>\n",
       "      <th>154243</th>\n",
       "      <td>180807.0</td>\n",
       "      <td>1.0</td>\n",
       "      <td>3.0</td>\n",
       "      <td>200.0</td>\n",
       "      <td>0.0</td>\n",
       "      <td>0.0</td>\n",
       "      <td>0.356665</td>\n",
       "      <td>0.553605</td>\n",
       "      <td>500.0</td>\n",
       "      <td>0.0</td>\n",
       "      <td>conv</td>\n",
       "      <td>0.479358</td>\n",
       "    </tr>\n",
       "    <tr>\n",
       "      <th>154244</th>\n",
       "      <td>180807.0</td>\n",
       "      <td>1.0</td>\n",
       "      <td>4.0</td>\n",
       "      <td>200.0</td>\n",
       "      <td>0.0</td>\n",
       "      <td>0.0</td>\n",
       "      <td>0.355660</td>\n",
       "      <td>0.554582</td>\n",
       "      <td>500.0</td>\n",
       "      <td>0.0</td>\n",
       "      <td>conv</td>\n",
       "      <td>0.477586</td>\n",
       "    </tr>\n",
       "    <tr>\n",
       "      <th>154245</th>\n",
       "      <td>180807.0</td>\n",
       "      <td>1.0</td>\n",
       "      <td>5.0</td>\n",
       "      <td>200.0</td>\n",
       "      <td>0.0</td>\n",
       "      <td>0.0</td>\n",
       "      <td>0.126037</td>\n",
       "      <td>0.105827</td>\n",
       "      <td>500.0</td>\n",
       "      <td>45.0</td>\n",
       "      <td>conv</td>\n",
       "      <td>0.387436</td>\n",
       "    </tr>\n",
       "    <tr>\n",
       "      <th>154246</th>\n",
       "      <td>180807.0</td>\n",
       "      <td>1.0</td>\n",
       "      <td>6.0</td>\n",
       "      <td>200.0</td>\n",
       "      <td>0.0</td>\n",
       "      <td>0.0</td>\n",
       "      <td>0.133075</td>\n",
       "      <td>0.063051</td>\n",
       "      <td>500.0</td>\n",
       "      <td>45.0</td>\n",
       "      <td>conv</td>\n",
       "      <td>0.529971</td>\n",
       "    </tr>\n",
       "    <tr>\n",
       "      <th>154247</th>\n",
       "      <td>180807.0</td>\n",
       "      <td>1.0</td>\n",
       "      <td>7.0</td>\n",
       "      <td>200.0</td>\n",
       "      <td>0.0</td>\n",
       "      <td>0.0</td>\n",
       "      <td>0.412822</td>\n",
       "      <td>0.549643</td>\n",
       "      <td>500.0</td>\n",
       "      <td>0.0</td>\n",
       "      <td>conv</td>\n",
       "      <td>0.556830</td>\n",
       "    </tr>\n",
       "    <tr>\n",
       "      <th>154248</th>\n",
       "      <td>180807.0</td>\n",
       "      <td>1.0</td>\n",
       "      <td>8.0</td>\n",
       "      <td>200.0</td>\n",
       "      <td>0.0</td>\n",
       "      <td>0.0</td>\n",
       "      <td>0.358899</td>\n",
       "      <td>0.625393</td>\n",
       "      <td>500.0</td>\n",
       "      <td>0.0</td>\n",
       "      <td>conv</td>\n",
       "      <td>0.453833</td>\n",
       "    </tr>\n",
       "    <tr>\n",
       "      <th>154249</th>\n",
       "      <td>180807.0</td>\n",
       "      <td>1.0</td>\n",
       "      <td>9.0</td>\n",
       "      <td>200.0</td>\n",
       "      <td>0.0</td>\n",
       "      <td>0.0</td>\n",
       "      <td>-0.007944</td>\n",
       "      <td>-0.032578</td>\n",
       "      <td>500.0</td>\n",
       "      <td>95.0</td>\n",
       "      <td>conv</td>\n",
       "      <td>NaN</td>\n",
       "    </tr>\n",
       "    <tr>\n",
       "      <th>154250</th>\n",
       "      <td>180807.0</td>\n",
       "      <td>1.0</td>\n",
       "      <td>10.0</td>\n",
       "      <td>200.0</td>\n",
       "      <td>0.0</td>\n",
       "      <td>0.0</td>\n",
       "      <td>-0.000522</td>\n",
       "      <td>0.138179</td>\n",
       "      <td>500.0</td>\n",
       "      <td>5.0</td>\n",
       "      <td>conv</td>\n",
       "      <td>-0.001405</td>\n",
       "    </tr>\n",
       "    <tr>\n",
       "      <th>154251</th>\n",
       "      <td>180807.0</td>\n",
       "      <td>1.0</td>\n",
       "      <td>11.0</td>\n",
       "      <td>200.0</td>\n",
       "      <td>0.0</td>\n",
       "      <td>0.0</td>\n",
       "      <td>0.299828</td>\n",
       "      <td>0.367917</td>\n",
       "      <td>500.0</td>\n",
       "      <td>0.0</td>\n",
       "      <td>conv</td>\n",
       "      <td>0.494307</td>\n",
       "    </tr>\n",
       "    <tr>\n",
       "      <th>154252</th>\n",
       "      <td>180807.0</td>\n",
       "      <td>1.0</td>\n",
       "      <td>12.0</td>\n",
       "      <td>200.0</td>\n",
       "      <td>0.0</td>\n",
       "      <td>0.0</td>\n",
       "      <td>-0.031140</td>\n",
       "      <td>0.269964</td>\n",
       "      <td>500.0</td>\n",
       "      <td>20.0</td>\n",
       "      <td>conv</td>\n",
       "      <td>-0.059932</td>\n",
       "    </tr>\n",
       "    <tr>\n",
       "      <th>154253</th>\n",
       "      <td>180807.0</td>\n",
       "      <td>1.0</td>\n",
       "      <td>13.0</td>\n",
       "      <td>200.0</td>\n",
       "      <td>0.0</td>\n",
       "      <td>0.0</td>\n",
       "      <td>0.173391</td>\n",
       "      <td>0.591004</td>\n",
       "      <td>500.0</td>\n",
       "      <td>0.0</td>\n",
       "      <td>conv</td>\n",
       "      <td>0.225543</td>\n",
       "    </tr>\n",
       "    <tr>\n",
       "      <th>154254</th>\n",
       "      <td>180807.0</td>\n",
       "      <td>1.0</td>\n",
       "      <td>14.0</td>\n",
       "      <td>200.0</td>\n",
       "      <td>0.0</td>\n",
       "      <td>0.0</td>\n",
       "      <td>0.180170</td>\n",
       "      <td>0.213665</td>\n",
       "      <td>500.0</td>\n",
       "      <td>20.0</td>\n",
       "      <td>conv</td>\n",
       "      <td>0.389777</td>\n",
       "    </tr>\n",
       "    <tr>\n",
       "      <th>154255</th>\n",
       "      <td>180807.0</td>\n",
       "      <td>1.0</td>\n",
       "      <td>15.0</td>\n",
       "      <td>200.0</td>\n",
       "      <td>0.0</td>\n",
       "      <td>0.0</td>\n",
       "      <td>0.160275</td>\n",
       "      <td>0.549081</td>\n",
       "      <td>500.0</td>\n",
       "      <td>0.0</td>\n",
       "      <td>conv</td>\n",
       "      <td>0.216295</td>\n",
       "    </tr>\n",
       "  </tbody>\n",
       "</table>\n",
       "</div>"
      ],
      "text/plain": [
       "         session  layer  channel  bin_width  delay  train_cc_raw  test_cc_raw  \\\n",
       "154240  180807.0    1.0      0.0      200.0    0.0           0.0     0.230532   \n",
       "154241  180807.0    1.0      1.0      200.0    0.0           0.0     0.362544   \n",
       "154242  180807.0    1.0      2.0      200.0    0.0           0.0     0.419270   \n",
       "154243  180807.0    1.0      3.0      200.0    0.0           0.0     0.356665   \n",
       "154244  180807.0    1.0      4.0      200.0    0.0           0.0     0.355660   \n",
       "154245  180807.0    1.0      5.0      200.0    0.0           0.0     0.126037   \n",
       "154246  180807.0    1.0      6.0      200.0    0.0           0.0     0.133075   \n",
       "154247  180807.0    1.0      7.0      200.0    0.0           0.0     0.412822   \n",
       "154248  180807.0    1.0      8.0      200.0    0.0           0.0     0.358899   \n",
       "154249  180807.0    1.0      9.0      200.0    0.0           0.0    -0.007944   \n",
       "154250  180807.0    1.0     10.0      200.0    0.0           0.0    -0.000522   \n",
       "154251  180807.0    1.0     11.0      200.0    0.0           0.0     0.299828   \n",
       "154252  180807.0    1.0     12.0      200.0    0.0           0.0    -0.031140   \n",
       "154253  180807.0    1.0     13.0      200.0    0.0           0.0     0.173391   \n",
       "154254  180807.0    1.0     14.0      200.0    0.0           0.0     0.180170   \n",
       "154255  180807.0    1.0     15.0      200.0    0.0           0.0     0.160275   \n",
       "\n",
       "        normalizer  N_sents  opt_delays layer_type  normalized_test_cc  \n",
       "154240    0.293915    500.0         0.0       conv            0.425226  \n",
       "154241    0.661228    500.0         0.0       conv            0.445846  \n",
       "154242    0.632566    500.0         0.0       conv            0.527158  \n",
       "154243    0.553605    500.0         0.0       conv            0.479358  \n",
       "154244    0.554582    500.0         0.0       conv            0.477586  \n",
       "154245    0.105827    500.0        45.0       conv            0.387436  \n",
       "154246    0.063051    500.0        45.0       conv            0.529971  \n",
       "154247    0.549643    500.0         0.0       conv            0.556830  \n",
       "154248    0.625393    500.0         0.0       conv            0.453833  \n",
       "154249   -0.032578    500.0        95.0       conv                 NaN  \n",
       "154250    0.138179    500.0         5.0       conv           -0.001405  \n",
       "154251    0.367917    500.0         0.0       conv            0.494307  \n",
       "154252    0.269964    500.0        20.0       conv           -0.059932  \n",
       "154253    0.591004    500.0         0.0       conv            0.225543  \n",
       "154254    0.213665    500.0        20.0       conv            0.389777  \n",
       "154255    0.549081    500.0         0.0       conv            0.216295  "
      ]
     },
     "execution_count": 25,
     "metadata": {},
     "output_type": "execute_result"
    }
   ],
   "source": [
    "corr_obj.get_selected_data([180807], bin_width=200, delay=0, layer=1)"
   ]
  },
  {
   "cell_type": "code",
   "execution_count": 8,
   "metadata": {},
   "outputs": [],
   "source": [
    "bin_widths = corr_obj.data['bin_width'].unique()\n",
    "bin_width = bin_widths[0]\n",
    "for bin_width in bin_widths:\n",
    "    select_data = corr_obj.get_selected_data(bin_width=bin_width)\n",
    "    sessions = select_data['session'].unique()\n",
    "    delays = select_data['delay'].unique()\n",
    "    for session in sessions:\n",
    "        for delay in delays:\n",
    "            select_data = corr_obj.get_selected_data(\n",
    "                sessions=[session], bin_width=bin_width, delay=delay\n",
    "            )\n",
    "            channels = select_data['channel'].unique()\n",
    "            selected_normalizers = norm_obj.get_normalizer_for_session(\n",
    "                session=session, bin_width=bin_width, delay=delay\n",
    "                )\n",
    "            for ch in channels:\n",
    "                ids = select_data[select_data['channel']==ch].index\n",
    "                ch_normalizer = selected_normalizers[\n",
    "                        selected_normalizers['channel']==ch\n",
    "                    ]['normalizer'].head(1).item()\n",
    "                corr_obj.data.loc[ids, 'normalizer'] = ch_normalizer"
   ]
  },
  {
   "cell_type": "code",
   "execution_count": 7,
   "metadata": {},
   "outputs": [],
   "source": [
    "session = 200206\n",
    "bin_width = 20\n",
    "delay = 0\n",
    "selected_normalizers = norm_obj.get_normalizer_for_session( session=session, bin_width=bin_width, delay=delay)"
   ]
  },
  {
   "cell_type": "code",
   "execution_count": 11,
   "metadata": {},
   "outputs": [
    {
     "data": {
      "text/plain": [
       "0.1830396695361907"
      ]
     },
     "execution_count": 11,
     "metadata": {},
     "output_type": "execute_result"
    }
   ],
   "source": [
    "ch = 0\n",
    "selected_normalizers[selected_normalizers['channel']==ch]['normalizer'].head(1).item()"
   ]
  },
  {
   "cell_type": "code",
   "execution_count": 14,
   "metadata": {},
   "outputs": [],
   "source": [
    "import numpy as np\n",
    "corr_obj.data.loc[:, 'new'] = np.nan\n",
    "\n"
   ]
  },
  {
   "cell_type": "code",
   "execution_count": 15,
   "metadata": {},
   "outputs": [
    {
     "data": {
      "text/html": [
       "<div>\n",
       "<style scoped>\n",
       "    .dataframe tbody tr th:only-of-type {\n",
       "        vertical-align: middle;\n",
       "    }\n",
       "\n",
       "    .dataframe tbody tr th {\n",
       "        vertical-align: top;\n",
       "    }\n",
       "\n",
       "    .dataframe thead th {\n",
       "        text-align: right;\n",
       "    }\n",
       "</style>\n",
       "<table border=\"1\" class=\"dataframe\">\n",
       "  <thead>\n",
       "    <tr style=\"text-align: right;\">\n",
       "      <th></th>\n",
       "      <th>session</th>\n",
       "      <th>layer</th>\n",
       "      <th>channel</th>\n",
       "      <th>bin_width</th>\n",
       "      <th>delay</th>\n",
       "      <th>train_cc_raw</th>\n",
       "      <th>test_cc_raw</th>\n",
       "      <th>normalizer</th>\n",
       "      <th>N_sents</th>\n",
       "      <th>normalized_test_cc</th>\n",
       "      <th>layer_type</th>\n",
       "      <th>new</th>\n",
       "    </tr>\n",
       "  </thead>\n",
       "  <tbody>\n",
       "    <tr>\n",
       "      <th>0</th>\n",
       "      <td>191113.0</td>\n",
       "      <td>0.0</td>\n",
       "      <td>0.0</td>\n",
       "      <td>40.0</td>\n",
       "      <td>0.0</td>\n",
       "      <td>0.046857</td>\n",
       "      <td>-0.016149</td>\n",
       "      <td>-0.005700</td>\n",
       "      <td>500.0</td>\n",
       "      <td>NaN</td>\n",
       "      <td>conv</td>\n",
       "      <td>NaN</td>\n",
       "    </tr>\n",
       "    <tr>\n",
       "      <th>1</th>\n",
       "      <td>191113.0</td>\n",
       "      <td>0.0</td>\n",
       "      <td>1.0</td>\n",
       "      <td>40.0</td>\n",
       "      <td>0.0</td>\n",
       "      <td>0.187930</td>\n",
       "      <td>0.123113</td>\n",
       "      <td>0.064661</td>\n",
       "      <td>500.0</td>\n",
       "      <td>0.484152</td>\n",
       "      <td>conv</td>\n",
       "      <td>NaN</td>\n",
       "    </tr>\n",
       "    <tr>\n",
       "      <th>2</th>\n",
       "      <td>191113.0</td>\n",
       "      <td>0.0</td>\n",
       "      <td>2.0</td>\n",
       "      <td>40.0</td>\n",
       "      <td>0.0</td>\n",
       "      <td>0.175732</td>\n",
       "      <td>0.124929</td>\n",
       "      <td>0.031331</td>\n",
       "      <td>500.0</td>\n",
       "      <td>0.705792</td>\n",
       "      <td>conv</td>\n",
       "      <td>NaN</td>\n",
       "    </tr>\n",
       "    <tr>\n",
       "      <th>3</th>\n",
       "      <td>191113.0</td>\n",
       "      <td>0.0</td>\n",
       "      <td>3.0</td>\n",
       "      <td>40.0</td>\n",
       "      <td>0.0</td>\n",
       "      <td>0.087614</td>\n",
       "      <td>0.034642</td>\n",
       "      <td>0.012075</td>\n",
       "      <td>500.0</td>\n",
       "      <td>0.315256</td>\n",
       "      <td>conv</td>\n",
       "      <td>NaN</td>\n",
       "    </tr>\n",
       "    <tr>\n",
       "      <th>4</th>\n",
       "      <td>191113.0</td>\n",
       "      <td>0.0</td>\n",
       "      <td>4.0</td>\n",
       "      <td>40.0</td>\n",
       "      <td>0.0</td>\n",
       "      <td>0.050437</td>\n",
       "      <td>-0.012446</td>\n",
       "      <td>-0.001426</td>\n",
       "      <td>500.0</td>\n",
       "      <td>NaN</td>\n",
       "      <td>conv</td>\n",
       "      <td>NaN</td>\n",
       "    </tr>\n",
       "    <tr>\n",
       "      <th>...</th>\n",
       "      <td>...</td>\n",
       "      <td>...</td>\n",
       "      <td>...</td>\n",
       "      <td>...</td>\n",
       "      <td>...</td>\n",
       "      <td>...</td>\n",
       "      <td>...</td>\n",
       "      <td>...</td>\n",
       "      <td>...</td>\n",
       "      <td>...</td>\n",
       "      <td>...</td>\n",
       "      <td>...</td>\n",
       "    </tr>\n",
       "    <tr>\n",
       "      <th>115135</th>\n",
       "      <td>191121.0</td>\n",
       "      <td>11.0</td>\n",
       "      <td>58.0</td>\n",
       "      <td>20.0</td>\n",
       "      <td>0.0</td>\n",
       "      <td>0.044128</td>\n",
       "      <td>-0.004785</td>\n",
       "      <td>0.003896</td>\n",
       "      <td>500.0</td>\n",
       "      <td>-0.076667</td>\n",
       "      <td>conv</td>\n",
       "      <td>NaN</td>\n",
       "    </tr>\n",
       "    <tr>\n",
       "      <th>115136</th>\n",
       "      <td>191121.0</td>\n",
       "      <td>11.0</td>\n",
       "      <td>59.0</td>\n",
       "      <td>20.0</td>\n",
       "      <td>0.0</td>\n",
       "      <td>0.184508</td>\n",
       "      <td>0.161731</td>\n",
       "      <td>0.173512</td>\n",
       "      <td>500.0</td>\n",
       "      <td>0.388266</td>\n",
       "      <td>conv</td>\n",
       "      <td>NaN</td>\n",
       "    </tr>\n",
       "    <tr>\n",
       "      <th>115137</th>\n",
       "      <td>191121.0</td>\n",
       "      <td>11.0</td>\n",
       "      <td>60.0</td>\n",
       "      <td>20.0</td>\n",
       "      <td>0.0</td>\n",
       "      <td>0.037813</td>\n",
       "      <td>0.016685</td>\n",
       "      <td>0.002105</td>\n",
       "      <td>500.0</td>\n",
       "      <td>0.363661</td>\n",
       "      <td>conv</td>\n",
       "      <td>NaN</td>\n",
       "    </tr>\n",
       "    <tr>\n",
       "      <th>115138</th>\n",
       "      <td>191121.0</td>\n",
       "      <td>11.0</td>\n",
       "      <td>61.0</td>\n",
       "      <td>20.0</td>\n",
       "      <td>0.0</td>\n",
       "      <td>0.037623</td>\n",
       "      <td>-0.000563</td>\n",
       "      <td>0.000737</td>\n",
       "      <td>500.0</td>\n",
       "      <td>-0.020756</td>\n",
       "      <td>conv</td>\n",
       "      <td>NaN</td>\n",
       "    </tr>\n",
       "    <tr>\n",
       "      <th>115139</th>\n",
       "      <td>191121.0</td>\n",
       "      <td>11.0</td>\n",
       "      <td>62.0</td>\n",
       "      <td>20.0</td>\n",
       "      <td>0.0</td>\n",
       "      <td>0.043139</td>\n",
       "      <td>0.002334</td>\n",
       "      <td>-0.003053</td>\n",
       "      <td>500.0</td>\n",
       "      <td>NaN</td>\n",
       "      <td>conv</td>\n",
       "      <td>NaN</td>\n",
       "    </tr>\n",
       "  </tbody>\n",
       "</table>\n",
       "<p>115140 rows × 12 columns</p>\n",
       "</div>"
      ],
      "text/plain": [
       "         session  layer  channel  bin_width  delay  train_cc_raw  test_cc_raw  \\\n",
       "0       191113.0    0.0      0.0       40.0    0.0      0.046857    -0.016149   \n",
       "1       191113.0    0.0      1.0       40.0    0.0      0.187930     0.123113   \n",
       "2       191113.0    0.0      2.0       40.0    0.0      0.175732     0.124929   \n",
       "3       191113.0    0.0      3.0       40.0    0.0      0.087614     0.034642   \n",
       "4       191113.0    0.0      4.0       40.0    0.0      0.050437    -0.012446   \n",
       "...          ...    ...      ...        ...    ...           ...          ...   \n",
       "115135  191121.0   11.0     58.0       20.0    0.0      0.044128    -0.004785   \n",
       "115136  191121.0   11.0     59.0       20.0    0.0      0.184508     0.161731   \n",
       "115137  191121.0   11.0     60.0       20.0    0.0      0.037813     0.016685   \n",
       "115138  191121.0   11.0     61.0       20.0    0.0      0.037623    -0.000563   \n",
       "115139  191121.0   11.0     62.0       20.0    0.0      0.043139     0.002334   \n",
       "\n",
       "        normalizer  N_sents  normalized_test_cc layer_type  new  \n",
       "0        -0.005700    500.0                 NaN       conv  NaN  \n",
       "1         0.064661    500.0            0.484152       conv  NaN  \n",
       "2         0.031331    500.0            0.705792       conv  NaN  \n",
       "3         0.012075    500.0            0.315256       conv  NaN  \n",
       "4        -0.001426    500.0                 NaN       conv  NaN  \n",
       "...            ...      ...                 ...        ...  ...  \n",
       "115135    0.003896    500.0           -0.076667       conv  NaN  \n",
       "115136    0.173512    500.0            0.388266       conv  NaN  \n",
       "115137    0.002105    500.0            0.363661       conv  NaN  \n",
       "115138    0.000737    500.0           -0.020756       conv  NaN  \n",
       "115139   -0.003053    500.0                 NaN       conv  NaN  \n",
       "\n",
       "[115140 rows x 12 columns]"
      ]
     },
     "execution_count": 15,
     "metadata": {},
     "output_type": "execute_result"
    }
   ],
   "source": [
    "corr_obj.data"
   ]
  },
  {
   "cell_type": "code",
   "execution_count": 10,
   "metadata": {},
   "outputs": [],
   "source": [
    "channels = select_data['channel'].unique()\n",
    "            for ch in channels:\n",
    "                ids = select_data[select_data['channel'] == ch].index\n",
    "\n",
    "                norm = data2[(data2['session']==session) &(data2['channel']==ch)]['normalizer'].head(1).item() \n",
    "\n",
    "                data1.loc[ids, 'normalizer'] = norm"
   ]
  },
  {
   "cell_type": "code",
   "execution_count": 12,
   "metadata": {},
   "outputs": [],
   "source": []
  },
  {
   "cell_type": "markdown",
   "metadata": {},
   "source": [
    "### Normalizer threshold for each bin_width..."
   ]
  },
  {
   "cell_type": "code",
   "execution_count": 13,
   "metadata": {},
   "outputs": [
    {
     "name": "stdout",
     "output_type": "stream",
     "text": [
      "Reading existing dataframe.\n"
     ]
    }
   ],
   "source": [
    "norm_obj = Normalizer()"
   ]
  },
  {
   "cell_type": "code",
   "execution_count": 14,
   "metadata": {},
   "outputs": [
    {
     "name": "stdout",
     "output_type": "stream",
     "text": [
      "Computing null distribution for bin_width: 800, num_samples: 24...\n"
     ]
    },
    {
     "data": {
      "text/plain": [
       "0.3330899522657686"
      ]
     },
     "execution_count": 14,
     "metadata": {},
     "output_type": "execute_result"
    }
   ],
   "source": [
    "norm_obj.compute_normalizer_threshold(bin_width=bin_width)[0]"
   ]
  },
  {
   "cell_type": "code",
   "execution_count": 3,
   "metadata": {},
   "outputs": [
    {
     "name": "stdout",
     "output_type": "stream",
     "text": [
      "Computing null distribution for bin_width: 5, num_samples: 3314...\n",
      "Computing null distribution for bin_width: 10, num_samples: 1658...\n",
      "Computing null distribution for bin_width: 20, num_samples: 832...\n",
      "Computing null distribution for bin_width: 40, num_samples: 419...\n",
      "Computing null distribution for bin_width: 60, num_samples: 281...\n",
      "Computing null distribution for bin_width: 80, num_samples: 213...\n",
      "Computing null distribution for bin_width: 100, num_samples: 170...\n",
      "Computing null distribution for bin_width: 200, num_samples: 85...\n",
      "Computing null distribution for bin_width: 400, num_samples: 45...\n",
      "Computing null distribution for bin_width: 800, num_samples: 24...\n"
     ]
    }
   ],
   "source": [
    "bin_widths = [5, 10, 20, 40, 60, 80, 100, 200, 400, 800]\n",
    "thresholds = {}\n",
    "for bin_width in bin_widths:\n",
    "    thresholds[bin_width] = norm_obj.compute_normalizer_threshold(bin_width=bin_width)[0]"
   ]
  },
  {
   "cell_type": "code",
   "execution_count": 4,
   "metadata": {},
   "outputs": [
    {
     "data": {
      "text/plain": [
       "Text(0, 0.5, '$\\\\rho$')"
      ]
     },
     "execution_count": 4,
     "metadata": {},
     "output_type": "execute_result"
    },
    {
     "data": {
      "image/png": "[encoded data removed]",
      "text/plain": [
       "<Figure size 432x288 with 1 Axes>"
      ]
     },
     "metadata": {
      "needs_background": "light"
     },
     "output_type": "display_data"
    }
   ],
   "source": [
    "import matplotlib.pylab as plt\n",
    "%matplotlib inline\n",
    "\n",
    "plt.plot(thresholds.keys(), thresholds.values())\n",
    "plt.title(f\"Normalizer sig. threshold as function of bin_width\")\n",
    "plt.xlabel(\"Bin_widths\")\n",
    "plt.ylabel(\"$\\\\rho$\")"
   ]
  },
  {
   "cell_type": "code",
   "execution_count": 11,
   "metadata": {},
   "outputs": [
    {
     "data": {
      "text/plain": [
       "0.05659032798002723"
      ]
     },
     "execution_count": 11,
     "metadata": {},
     "output_type": "execute_result"
    }
   ],
   "source": [
    "thresholds[20]"
   ]
  },
  {
   "cell_type": "code",
   "execution_count": 4,
   "metadata": {},
   "outputs": [
    {
     "name": "stdout",
     "output_type": "stream",
     "text": [
      "Computing null distribution for bin_width: 800\n"
     ]
    },
    {
     "data": {
      "text/plain": [
       "0.3408717501985366"
      ]
     },
     "execution_count": 4,
     "metadata": {},
     "output_type": "execute_result"
    }
   ],
   "source": [
    "bin_width = 800\n",
    "p_value = 5\n",
    "\n",
    "\n",
    "sent_IDs = norm_obj.metadata.test_sent_IDs\n",
    "total_samples_test_set = 0\n",
    "for sent in sent_IDs:\n",
    "    total_samples_test_set += norm_obj.metadata.stim_samples(sent, bin_width=bin_width)\n",
    "\n",
    "print(f\"Computing null distribution for bin_width: {bin_width}\")\n",
    "null_dist = []\n",
    "for i in range(10000):\n",
    "    gaussian_sample_of_same_length = np.random.randn(2, total_samples_test_set)\n",
    "    null_dist.append(np.corrcoef(gaussian_sample_of_same_length)[0,1])\n",
    "\n",
    "q = 100 - p_value\n",
    "np.percentile(null_dist, q)\n"
   ]
  },
  {
   "cell_type": "code",
   "execution_count": null,
   "metadata": {},
   "outputs": [],
   "source": [
    "import \n",
    "for sent in sent_IDs:\n",
    "    total_samples_test_set += norm_obj.metadata.stim_samples(sent, bin_width=bin_width)\n",
    "\n",
    "print(f\"Computing null distribution for bin_width: {bin_width}\")\n",
    "null_dist = []\n",
    "for i in range(10000):\n",
    "    gaussian_sample_of_same_length = np.random.randn(2, total_samples_test_set)\n",
    "    null_dist.append(np.corrcoef(gaussian_sample_of_same_length)[0,1])\n",
    "\n",
    "q = 100 - p_value\n",
    "np.percentile(null_dist, q)\n"
   ]
  },
  {
   "cell_type": "code",
   "execution_count": null,
   "metadata": {},
   "outputs": [],
   "source": [
    "norm_obj.metadata.stim_samples(sent, bin_width=bin_width)"
   ]
  },
  {
   "cell_type": "code",
   "execution_count": null,
   "metadata": {},
   "outputs": [],
   "source": []
  },
  {
   "cell_type": "code",
   "execution_count": null,
   "metadata": {},
   "outputs": [],
   "source": []
  },
  {
   "cell_type": "code",
   "execution_count": 6,
   "metadata": {},
   "outputs": [
    {
     "data": {
      "text/plain": [
       "Text(0.5, 1.0, 'Null distribution at bin_width: 800')"
      ]
     },
     "execution_count": 6,
     "metadata": {},
     "output_type": "execute_result"
    },
    {
     "data": {
      "image/png": "[encoded data removed]",
      "text/plain": [
       "<Figure size 432x288 with 1 Axes>"
      ]
     },
     "metadata": {
      "needs_background": "light"
     },
     "output_type": "display_data"
    }
   ],
   "source": [
    "import matplotlib.pylab as plt\n",
    "%matplotlib inline\n",
    "\n",
    "plt.hist(null_dist)\n",
    "plt.title(f\"Null distribution at bin_width: {bin_width}\")"
   ]
  },
  {
   "cell_type": "code",
   "execution_count": 10,
   "metadata": {},
   "outputs": [
    {
     "data": {
      "text/plain": [
       "array([[1.        , 0.11475796],\n",
       "       [0.11475796, 1.        ]])"
      ]
     },
     "execution_count": 10,
     "metadata": {},
     "output_type": "execute_result"
    }
   ],
   "source": [
    "length_of_samples = 24\n",
    "random_samples = np.random.randn(2, length_of_samples)\n",
    "np.corrcoef(random_samples)"
   ]
  },
  {
   "cell_type": "markdown",
   "metadata": {},
   "source": [
    "### rest of the code..."
   ]
  },
  {
   "cell_type": "code",
   "execution_count": 2,
   "metadata": {},
   "outputs": [
    {
     "name": "stdout",
     "output_type": "stream",
     "text": [
      "Reading existing dataframe.\n"
     ]
    }
   ],
   "source": [
    "from auditory_cortex.neural_data.normalizer import Normalizer\n",
    "\n",
    "norm_obj = Normalizer()"
   ]
  },
  {
   "cell_type": "code",
   "execution_count": 8,
   "metadata": {},
   "outputs": [],
   "source": [
    "norm = norm_obj.get_normalizer_for_session(180807)"
   ]
  },
  {
   "cell_type": "code",
   "execution_count": 9,
   "metadata": {},
   "outputs": [
    {
     "data": {
      "text/html": [
       "<div>\n",
       "<style scoped>\n",
       "    .dataframe tbody tr th:only-of-type {\n",
       "        vertical-align: middle;\n",
       "    }\n",
       "\n",
       "    .dataframe tbody tr th {\n",
       "        vertical-align: top;\n",
       "    }\n",
       "\n",
       "    .dataframe thead th {\n",
       "        text-align: right;\n",
       "    }\n",
       "</style>\n",
       "<table border=\"1\" class=\"dataframe\">\n",
       "  <thead>\n",
       "    <tr style=\"text-align: right;\">\n",
       "      <th></th>\n",
       "      <th>session</th>\n",
       "      <th>channel</th>\n",
       "      <th>bin_width</th>\n",
       "      <th>delay</th>\n",
       "      <th>normalizer</th>\n",
       "    </tr>\n",
       "  </thead>\n",
       "  <tbody>\n",
       "    <tr>\n",
       "      <th>16</th>\n",
       "      <td>180807.0</td>\n",
       "      <td>0.0</td>\n",
       "      <td>20.0</td>\n",
       "      <td>0.0</td>\n",
       "      <td>0.109266</td>\n",
       "    </tr>\n",
       "    <tr>\n",
       "      <th>17</th>\n",
       "      <td>180807.0</td>\n",
       "      <td>1.0</td>\n",
       "      <td>20.0</td>\n",
       "      <td>0.0</td>\n",
       "      <td>0.452635</td>\n",
       "    </tr>\n",
       "    <tr>\n",
       "      <th>18</th>\n",
       "      <td>180807.0</td>\n",
       "      <td>2.0</td>\n",
       "      <td>20.0</td>\n",
       "      <td>0.0</td>\n",
       "      <td>0.338900</td>\n",
       "    </tr>\n",
       "    <tr>\n",
       "      <th>19</th>\n",
       "      <td>180807.0</td>\n",
       "      <td>3.0</td>\n",
       "      <td>20.0</td>\n",
       "      <td>0.0</td>\n",
       "      <td>0.253313</td>\n",
       "    </tr>\n",
       "    <tr>\n",
       "      <th>20</th>\n",
       "      <td>180807.0</td>\n",
       "      <td>4.0</td>\n",
       "      <td>20.0</td>\n",
       "      <td>0.0</td>\n",
       "      <td>0.222607</td>\n",
       "    </tr>\n",
       "    <tr>\n",
       "      <th>21</th>\n",
       "      <td>180807.0</td>\n",
       "      <td>5.0</td>\n",
       "      <td>20.0</td>\n",
       "      <td>0.0</td>\n",
       "      <td>0.066178</td>\n",
       "    </tr>\n",
       "    <tr>\n",
       "      <th>22</th>\n",
       "      <td>180807.0</td>\n",
       "      <td>6.0</td>\n",
       "      <td>20.0</td>\n",
       "      <td>0.0</td>\n",
       "      <td>0.026719</td>\n",
       "    </tr>\n",
       "    <tr>\n",
       "      <th>23</th>\n",
       "      <td>180807.0</td>\n",
       "      <td>7.0</td>\n",
       "      <td>20.0</td>\n",
       "      <td>0.0</td>\n",
       "      <td>0.288665</td>\n",
       "    </tr>\n",
       "    <tr>\n",
       "      <th>24</th>\n",
       "      <td>180807.0</td>\n",
       "      <td>8.0</td>\n",
       "      <td>20.0</td>\n",
       "      <td>0.0</td>\n",
       "      <td>0.314225</td>\n",
       "    </tr>\n",
       "    <tr>\n",
       "      <th>25</th>\n",
       "      <td>180807.0</td>\n",
       "      <td>9.0</td>\n",
       "      <td>20.0</td>\n",
       "      <td>0.0</td>\n",
       "      <td>-0.019504</td>\n",
       "    </tr>\n",
       "    <tr>\n",
       "      <th>26</th>\n",
       "      <td>180807.0</td>\n",
       "      <td>10.0</td>\n",
       "      <td>20.0</td>\n",
       "      <td>0.0</td>\n",
       "      <td>0.018867</td>\n",
       "    </tr>\n",
       "    <tr>\n",
       "      <th>27</th>\n",
       "      <td>180807.0</td>\n",
       "      <td>11.0</td>\n",
       "      <td>20.0</td>\n",
       "      <td>0.0</td>\n",
       "      <td>0.148183</td>\n",
       "    </tr>\n",
       "    <tr>\n",
       "      <th>28</th>\n",
       "      <td>180807.0</td>\n",
       "      <td>12.0</td>\n",
       "      <td>20.0</td>\n",
       "      <td>0.0</td>\n",
       "      <td>0.122005</td>\n",
       "    </tr>\n",
       "    <tr>\n",
       "      <th>29</th>\n",
       "      <td>180807.0</td>\n",
       "      <td>13.0</td>\n",
       "      <td>20.0</td>\n",
       "      <td>0.0</td>\n",
       "      <td>0.307475</td>\n",
       "    </tr>\n",
       "    <tr>\n",
       "      <th>30</th>\n",
       "      <td>180807.0</td>\n",
       "      <td>14.0</td>\n",
       "      <td>20.0</td>\n",
       "      <td>0.0</td>\n",
       "      <td>0.122383</td>\n",
       "    </tr>\n",
       "    <tr>\n",
       "      <th>31</th>\n",
       "      <td>180807.0</td>\n",
       "      <td>15.0</td>\n",
       "      <td>20.0</td>\n",
       "      <td>0.0</td>\n",
       "      <td>0.302152</td>\n",
       "    </tr>\n",
       "  </tbody>\n",
       "</table>\n",
       "</div>"
      ],
      "text/plain": [
       "     session  channel  bin_width  delay  normalizer\n",
       "16  180807.0      0.0       20.0    0.0    0.109266\n",
       "17  180807.0      1.0       20.0    0.0    0.452635\n",
       "18  180807.0      2.0       20.0    0.0    0.338900\n",
       "19  180807.0      3.0       20.0    0.0    0.253313\n",
       "20  180807.0      4.0       20.0    0.0    0.222607\n",
       "21  180807.0      5.0       20.0    0.0    0.066178\n",
       "22  180807.0      6.0       20.0    0.0    0.026719\n",
       "23  180807.0      7.0       20.0    0.0    0.288665\n",
       "24  180807.0      8.0       20.0    0.0    0.314225\n",
       "25  180807.0      9.0       20.0    0.0   -0.019504\n",
       "26  180807.0     10.0       20.0    0.0    0.018867\n",
       "27  180807.0     11.0       20.0    0.0    0.148183\n",
       "28  180807.0     12.0       20.0    0.0    0.122005\n",
       "29  180807.0     13.0       20.0    0.0    0.307475\n",
       "30  180807.0     14.0       20.0    0.0    0.122383\n",
       "31  180807.0     15.0       20.0    0.0    0.302152"
      ]
     },
     "execution_count": 9,
     "metadata": {},
     "output_type": "execute_result"
    }
   ],
   "source": [
    "norm"
   ]
  },
  {
   "cell_type": "code",
   "execution_count": 10,
   "metadata": {},
   "outputs": [
    {
     "data": {
      "text/html": [
       "<div>\n",
       "<style scoped>\n",
       "    .dataframe tbody tr th:only-of-type {\n",
       "        vertical-align: middle;\n",
       "    }\n",
       "\n",
       "    .dataframe tbody tr th {\n",
       "        vertical-align: top;\n",
       "    }\n",
       "\n",
       "    .dataframe thead th {\n",
       "        text-align: right;\n",
       "    }\n",
       "</style>\n",
       "<table border=\"1\" class=\"dataframe\">\n",
       "  <thead>\n",
       "    <tr style=\"text-align: right;\">\n",
       "      <th></th>\n",
       "      <th>session</th>\n",
       "      <th>channel</th>\n",
       "      <th>bin_width</th>\n",
       "      <th>delay</th>\n",
       "      <th>normalizer</th>\n",
       "    </tr>\n",
       "  </thead>\n",
       "  <tbody>\n",
       "    <tr>\n",
       "      <th>1660</th>\n",
       "      <td>180807.0</td>\n",
       "      <td>0.0</td>\n",
       "      <td>200.0</td>\n",
       "      <td>0.0</td>\n",
       "      <td>0.293915</td>\n",
       "    </tr>\n",
       "    <tr>\n",
       "      <th>1661</th>\n",
       "      <td>180807.0</td>\n",
       "      <td>1.0</td>\n",
       "      <td>200.0</td>\n",
       "      <td>0.0</td>\n",
       "      <td>0.661228</td>\n",
       "    </tr>\n",
       "    <tr>\n",
       "      <th>1662</th>\n",
       "      <td>180807.0</td>\n",
       "      <td>2.0</td>\n",
       "      <td>200.0</td>\n",
       "      <td>0.0</td>\n",
       "      <td>0.632566</td>\n",
       "    </tr>\n",
       "    <tr>\n",
       "      <th>1663</th>\n",
       "      <td>180807.0</td>\n",
       "      <td>3.0</td>\n",
       "      <td>200.0</td>\n",
       "      <td>0.0</td>\n",
       "      <td>0.553605</td>\n",
       "    </tr>\n",
       "    <tr>\n",
       "      <th>1664</th>\n",
       "      <td>180807.0</td>\n",
       "      <td>4.0</td>\n",
       "      <td>200.0</td>\n",
       "      <td>0.0</td>\n",
       "      <td>0.554582</td>\n",
       "    </tr>\n",
       "    <tr>\n",
       "      <th>1665</th>\n",
       "      <td>180807.0</td>\n",
       "      <td>5.0</td>\n",
       "      <td>200.0</td>\n",
       "      <td>0.0</td>\n",
       "      <td>0.105827</td>\n",
       "    </tr>\n",
       "    <tr>\n",
       "      <th>1666</th>\n",
       "      <td>180807.0</td>\n",
       "      <td>6.0</td>\n",
       "      <td>200.0</td>\n",
       "      <td>0.0</td>\n",
       "      <td>0.063051</td>\n",
       "    </tr>\n",
       "    <tr>\n",
       "      <th>1667</th>\n",
       "      <td>180807.0</td>\n",
       "      <td>7.0</td>\n",
       "      <td>200.0</td>\n",
       "      <td>0.0</td>\n",
       "      <td>0.549643</td>\n",
       "    </tr>\n",
       "    <tr>\n",
       "      <th>1668</th>\n",
       "      <td>180807.0</td>\n",
       "      <td>8.0</td>\n",
       "      <td>200.0</td>\n",
       "      <td>0.0</td>\n",
       "      <td>0.625393</td>\n",
       "    </tr>\n",
       "    <tr>\n",
       "      <th>1669</th>\n",
       "      <td>180807.0</td>\n",
       "      <td>9.0</td>\n",
       "      <td>200.0</td>\n",
       "      <td>0.0</td>\n",
       "      <td>-0.032578</td>\n",
       "    </tr>\n",
       "    <tr>\n",
       "      <th>1670</th>\n",
       "      <td>180807.0</td>\n",
       "      <td>10.0</td>\n",
       "      <td>200.0</td>\n",
       "      <td>0.0</td>\n",
       "      <td>0.138179</td>\n",
       "    </tr>\n",
       "    <tr>\n",
       "      <th>1671</th>\n",
       "      <td>180807.0</td>\n",
       "      <td>11.0</td>\n",
       "      <td>200.0</td>\n",
       "      <td>0.0</td>\n",
       "      <td>0.367917</td>\n",
       "    </tr>\n",
       "    <tr>\n",
       "      <th>1672</th>\n",
       "      <td>180807.0</td>\n",
       "      <td>12.0</td>\n",
       "      <td>200.0</td>\n",
       "      <td>0.0</td>\n",
       "      <td>0.269964</td>\n",
       "    </tr>\n",
       "    <tr>\n",
       "      <th>1673</th>\n",
       "      <td>180807.0</td>\n",
       "      <td>13.0</td>\n",
       "      <td>200.0</td>\n",
       "      <td>0.0</td>\n",
       "      <td>0.591004</td>\n",
       "    </tr>\n",
       "    <tr>\n",
       "      <th>1674</th>\n",
       "      <td>180807.0</td>\n",
       "      <td>14.0</td>\n",
       "      <td>200.0</td>\n",
       "      <td>0.0</td>\n",
       "      <td>0.213665</td>\n",
       "    </tr>\n",
       "    <tr>\n",
       "      <th>1675</th>\n",
       "      <td>180807.0</td>\n",
       "      <td>15.0</td>\n",
       "      <td>200.0</td>\n",
       "      <td>0.0</td>\n",
       "      <td>0.549081</td>\n",
       "    </tr>\n",
       "  </tbody>\n",
       "</table>\n",
       "</div>"
      ],
      "text/plain": [
       "       session  channel  bin_width  delay  normalizer\n",
       "1660  180807.0      0.0      200.0    0.0    0.293915\n",
       "1661  180807.0      1.0      200.0    0.0    0.661228\n",
       "1662  180807.0      2.0      200.0    0.0    0.632566\n",
       "1663  180807.0      3.0      200.0    0.0    0.553605\n",
       "1664  180807.0      4.0      200.0    0.0    0.554582\n",
       "1665  180807.0      5.0      200.0    0.0    0.105827\n",
       "1666  180807.0      6.0      200.0    0.0    0.063051\n",
       "1667  180807.0      7.0      200.0    0.0    0.549643\n",
       "1668  180807.0      8.0      200.0    0.0    0.625393\n",
       "1669  180807.0      9.0      200.0    0.0   -0.032578\n",
       "1670  180807.0     10.0      200.0    0.0    0.138179\n",
       "1671  180807.0     11.0      200.0    0.0    0.367917\n",
       "1672  180807.0     12.0      200.0    0.0    0.269964\n",
       "1673  180807.0     13.0      200.0    0.0    0.591004\n",
       "1674  180807.0     14.0      200.0    0.0    0.213665\n",
       "1675  180807.0     15.0      200.0    0.0    0.549081"
      ]
     },
     "execution_count": 10,
     "metadata": {},
     "output_type": "execute_result"
    }
   ],
   "source": [
    "norm_200"
   ]
  },
  {
   "cell_type": "code",
   "execution_count": 7,
   "metadata": {},
   "outputs": [
    {
     "data": {
      "text/html": [
       "<div>\n",
       "<style scoped>\n",
       "    .dataframe tbody tr th:only-of-type {\n",
       "        vertical-align: middle;\n",
       "    }\n",
       "\n",
       "    .dataframe tbody tr th {\n",
       "        vertical-align: top;\n",
       "    }\n",
       "\n",
       "    .dataframe thead th {\n",
       "        text-align: right;\n",
       "    }\n",
       "</style>\n",
       "<table border=\"1\" class=\"dataframe\">\n",
       "  <thead>\n",
       "    <tr style=\"text-align: right;\">\n",
       "      <th></th>\n",
       "      <th>session</th>\n",
       "      <th>channel</th>\n",
       "      <th>bin_width</th>\n",
       "      <th>delay</th>\n",
       "      <th>normalizer</th>\n",
       "    </tr>\n",
       "  </thead>\n",
       "  <tbody>\n",
       "    <tr>\n",
       "      <th>1660</th>\n",
       "      <td>180807.0</td>\n",
       "      <td>0.0</td>\n",
       "      <td>200.0</td>\n",
       "      <td>0.0</td>\n",
       "      <td>0.293915</td>\n",
       "    </tr>\n",
       "    <tr>\n",
       "      <th>1661</th>\n",
       "      <td>180807.0</td>\n",
       "      <td>1.0</td>\n",
       "      <td>200.0</td>\n",
       "      <td>0.0</td>\n",
       "      <td>0.661228</td>\n",
       "    </tr>\n",
       "    <tr>\n",
       "      <th>1662</th>\n",
       "      <td>180807.0</td>\n",
       "      <td>2.0</td>\n",
       "      <td>200.0</td>\n",
       "      <td>0.0</td>\n",
       "      <td>0.632566</td>\n",
       "    </tr>\n",
       "    <tr>\n",
       "      <th>1663</th>\n",
       "      <td>180807.0</td>\n",
       "      <td>3.0</td>\n",
       "      <td>200.0</td>\n",
       "      <td>0.0</td>\n",
       "      <td>0.553605</td>\n",
       "    </tr>\n",
       "    <tr>\n",
       "      <th>1664</th>\n",
       "      <td>180807.0</td>\n",
       "      <td>4.0</td>\n",
       "      <td>200.0</td>\n",
       "      <td>0.0</td>\n",
       "      <td>0.554582</td>\n",
       "    </tr>\n",
       "    <tr>\n",
       "      <th>1665</th>\n",
       "      <td>180807.0</td>\n",
       "      <td>5.0</td>\n",
       "      <td>200.0</td>\n",
       "      <td>0.0</td>\n",
       "      <td>0.105827</td>\n",
       "    </tr>\n",
       "    <tr>\n",
       "      <th>1666</th>\n",
       "      <td>180807.0</td>\n",
       "      <td>6.0</td>\n",
       "      <td>200.0</td>\n",
       "      <td>0.0</td>\n",
       "      <td>0.063051</td>\n",
       "    </tr>\n",
       "    <tr>\n",
       "      <th>1667</th>\n",
       "      <td>180807.0</td>\n",
       "      <td>7.0</td>\n",
       "      <td>200.0</td>\n",
       "      <td>0.0</td>\n",
       "      <td>0.549643</td>\n",
       "    </tr>\n",
       "    <tr>\n",
       "      <th>1668</th>\n",
       "      <td>180807.0</td>\n",
       "      <td>8.0</td>\n",
       "      <td>200.0</td>\n",
       "      <td>0.0</td>\n",
       "      <td>0.625393</td>\n",
       "    </tr>\n",
       "    <tr>\n",
       "      <th>1669</th>\n",
       "      <td>180807.0</td>\n",
       "      <td>9.0</td>\n",
       "      <td>200.0</td>\n",
       "      <td>0.0</td>\n",
       "      <td>-0.032578</td>\n",
       "    </tr>\n",
       "    <tr>\n",
       "      <th>1670</th>\n",
       "      <td>180807.0</td>\n",
       "      <td>10.0</td>\n",
       "      <td>200.0</td>\n",
       "      <td>0.0</td>\n",
       "      <td>0.138179</td>\n",
       "    </tr>\n",
       "    <tr>\n",
       "      <th>1671</th>\n",
       "      <td>180807.0</td>\n",
       "      <td>11.0</td>\n",
       "      <td>200.0</td>\n",
       "      <td>0.0</td>\n",
       "      <td>0.367917</td>\n",
       "    </tr>\n",
       "    <tr>\n",
       "      <th>1672</th>\n",
       "      <td>180807.0</td>\n",
       "      <td>12.0</td>\n",
       "      <td>200.0</td>\n",
       "      <td>0.0</td>\n",
       "      <td>0.269964</td>\n",
       "    </tr>\n",
       "    <tr>\n",
       "      <th>1673</th>\n",
       "      <td>180807.0</td>\n",
       "      <td>13.0</td>\n",
       "      <td>200.0</td>\n",
       "      <td>0.0</td>\n",
       "      <td>0.591004</td>\n",
       "    </tr>\n",
       "    <tr>\n",
       "      <th>1674</th>\n",
       "      <td>180807.0</td>\n",
       "      <td>14.0</td>\n",
       "      <td>200.0</td>\n",
       "      <td>0.0</td>\n",
       "      <td>0.213665</td>\n",
       "    </tr>\n",
       "    <tr>\n",
       "      <th>1675</th>\n",
       "      <td>180807.0</td>\n",
       "      <td>15.0</td>\n",
       "      <td>200.0</td>\n",
       "      <td>0.0</td>\n",
       "      <td>0.549081</td>\n",
       "    </tr>\n",
       "  </tbody>\n",
       "</table>\n",
       "</div>"
      ],
      "text/plain": [
       "       session  channel  bin_width  delay  normalizer\n",
       "1660  180807.0      0.0      200.0    0.0    0.293915\n",
       "1661  180807.0      1.0      200.0    0.0    0.661228\n",
       "1662  180807.0      2.0      200.0    0.0    0.632566\n",
       "1663  180807.0      3.0      200.0    0.0    0.553605\n",
       "1664  180807.0      4.0      200.0    0.0    0.554582\n",
       "1665  180807.0      5.0      200.0    0.0    0.105827\n",
       "1666  180807.0      6.0      200.0    0.0    0.063051\n",
       "1667  180807.0      7.0      200.0    0.0    0.549643\n",
       "1668  180807.0      8.0      200.0    0.0    0.625393\n",
       "1669  180807.0      9.0      200.0    0.0   -0.032578\n",
       "1670  180807.0     10.0      200.0    0.0    0.138179\n",
       "1671  180807.0     11.0      200.0    0.0    0.367917\n",
       "1672  180807.0     12.0      200.0    0.0    0.269964\n",
       "1673  180807.0     13.0      200.0    0.0    0.591004\n",
       "1674  180807.0     14.0      200.0    0.0    0.213665\n",
       "1675  180807.0     15.0      200.0    0.0    0.549081"
      ]
     },
     "execution_count": 7,
     "metadata": {},
     "output_type": "execute_result"
    }
   ],
   "source": [
    "norm_200 = norm_obj.get_normalizer_for_session(180807, bin_width=200)\n",
    "norm_200"
   ]
  },
  {
   "cell_type": "code",
   "execution_count": 4,
   "metadata": {},
   "outputs": [
    {
     "name": "stdout",
     "output_type": "stream",
     "text": [
      "Significant sessions for bw-5.0 = 9\n",
      "Significant sessions for bw-10.0 = 14\n",
      "Significant sessions for bw-20.0 = 17\n",
      "Significant sessions for bw-40.0 = 23\n",
      "Significant sessions for bw-60.0 = 24\n",
      "Significant sessions for bw-80.0 = 25\n",
      "Significant sessions for bw-100.0 = 25\n",
      "Significant sessions for bw-200.0 = 27\n",
      "Significant sessions for bw-300.0 = 38\n",
      "Significant sessions for bw-400.0 = 39\n",
      "Significant sessions for bw-500.0 = 39\n",
      "Significant sessions for bw-600.0 = 39\n",
      "Significant sessions for bw-700.0 = 39\n",
      "Significant sessions for bw-800.0 = 40\n",
      "Significant sessions for bw-900.0 = 39\n",
      "Significant sessions for bw-1000.0 = 39\n"
     ]
    }
   ],
   "source": [
    "bin_widths = norm_obj.dataframe['bin_width'].unique()\n",
    "bin_widths.sort()\n",
    "for bin_width in bin_widths:\n",
    "    sig_sessions = norm_obj.get_significant_sessions(bin_width=bin_width)\n",
    "\n",
    "    print(f\"Significant sessions for bw-{bin_width} = {sig_sessions.shape[0]}\")"
   ]
  },
  {
   "cell_type": "code",
   "execution_count": null,
   "metadata": {},
   "outputs": [],
   "source": []
  },
  {
   "cell_type": "code",
   "execution_count": null,
   "metadata": {},
   "outputs": [],
   "source": []
  },
  {
   "cell_type": "code",
   "execution_count": 3,
   "metadata": {},
   "outputs": [
    {
     "name": "stdout",
     "output_type": "stream",
     "text": [
      "Sessions done for bw-5.0 = 45\n",
      "Sessions done for bw-10.0 = 45\n",
      "Sessions done for bw-20.0 = 45\n",
      "Sessions done for bw-40.0 = 45\n",
      "Sessions done for bw-60.0 = 45\n",
      "Sessions done for bw-80.0 = 45\n",
      "Sessions done for bw-100.0 = 45\n",
      "Sessions done for bw-200.0 = 45\n",
      "Sessions done for bw-300.0 = 45\n",
      "Sessions done for bw-400.0 = 45\n",
      "Sessions done for bw-500.0 = 45\n",
      "Sessions done for bw-600.0 = 45\n",
      "Sessions done for bw-700.0 = 45\n",
      "Sessions done for bw-800.0 = 45\n",
      "Sessions done for bw-900.0 = 45\n",
      "Sessions done for bw-1000.0 = 45\n"
     ]
    }
   ],
   "source": [
    "bin_widths = norm_obj.dataframe['bin_width'].unique()\n",
    "bin_widths.sort()\n",
    "for bin_width in bin_widths:\n",
    "    select_data = norm_obj._get_normalizers_for_bin_width_and_delay(bin_width=bin_width)\n",
    "    sessions_done = select_data['session'].unique()\n",
    "\n",
    "    print(f\"Sessions done for bw-{bin_width} = {sessions_done.shape[0]}\")\n",
    "    "
   ]
  },
  {
   "cell_type": "code",
   "execution_count": 12,
   "metadata": {},
   "outputs": [],
   "source": [
    "sessions = norm_obj.get_significant_sessions(threshold=0.0672)\n",
    "sum = 0\n",
    "for session in sessions:\n",
    "    channels = norm_obj.get_good_channels(session)\n",
    "    sum += channels.size"
   ]
  },
  {
   "cell_type": "code",
   "execution_count": 4,
   "metadata": {},
   "outputs": [
    {
     "data": {
      "text/plain": [
       "198"
      ]
     },
     "execution_count": 4,
     "metadata": {},
     "output_type": "execute_result"
    }
   ],
   "source": [
    "sum"
   ]
  },
  {
   "cell_type": "code",
   "execution_count": 16,
   "metadata": {},
   "outputs": [],
   "source": [
    "corr_obj = Correlations('wave2letter_modified'+'_opt_neural_delay')"
   ]
  },
  {
   "cell_type": "code",
   "execution_count": 17,
   "metadata": {},
   "outputs": [],
   "source": [
    "corr_sessions = corr_obj.get_significant_sessions(0.0672)"
   ]
  },
  {
   "cell_type": "code",
   "execution_count": 18,
   "metadata": {},
   "outputs": [
    {
     "data": {
      "text/plain": [
       "(18,)"
      ]
     },
     "execution_count": 18,
     "metadata": {},
     "output_type": "execute_result"
    }
   ],
   "source": [
    "corr_sessions.shape"
   ]
  },
  {
   "cell_type": "code",
   "execution_count": 19,
   "metadata": {},
   "outputs": [],
   "source": [
    "corr_sessions.sort()"
   ]
  },
  {
   "cell_type": "code",
   "execution_count": 20,
   "metadata": {},
   "outputs": [],
   "source": [
    "sessions.sort()"
   ]
  },
  {
   "cell_type": "code",
   "execution_count": 21,
   "metadata": {},
   "outputs": [
    {
     "name": "stdout",
     "output_type": "stream",
     "text": [
      "corr_sess: 180627.0, norm_sess: 180627.0\n",
      "corr_sess: 180719.0, norm_sess: 180719.0\n",
      "corr_sess: 180720.0, norm_sess: 180720.0\n",
      "corr_sess: 180731.0, norm_sess: 180731.0\n",
      "corr_sess: 180807.0, norm_sess: 180807.0\n",
      "corr_sess: 180808.0, norm_sess: 180808.0\n",
      "corr_sess: 180814.0, norm_sess: 180814.0\n",
      "corr_sess: 191113.0, norm_sess: 191113.0\n",
      "corr_sess: 191115.0, norm_sess: 191115.0\n",
      "corr_sess: 191121.0, norm_sess: 191121.0\n",
      "corr_sess: 191125.0, norm_sess: 191125.0\n",
      "corr_sess: 191206.0, norm_sess: 191206.0\n",
      "corr_sess: 191210.0, norm_sess: 191210.0\n",
      "corr_sess: 200205.0, norm_sess: 200205.0\n",
      "corr_sess: 200206.0, norm_sess: 200206.0\n",
      "corr_sess: 200207.0, norm_sess: 200207.0\n",
      "corr_sess: 200213.0, norm_sess: 200213.0\n",
      "corr_sess: 200313.0, norm_sess: 200313.0\n"
     ]
    }
   ],
   "source": [
    "for i in range(18):\n",
    "    print(f\"corr_sess: {corr_sessions[i]}, norm_sess: {sessions[i]}\")"
   ]
  },
  {
   "cell_type": "code",
   "execution_count": 5,
   "metadata": {},
   "outputs": [
    {
     "data": {
      "text/plain": [
       "array([180807., 191206., 180808., 180814.])"
      ]
     },
     "execution_count": 5,
     "metadata": {},
     "output_type": "execute_result"
    }
   ],
   "source": [
    "norm_obj.get_significant_sessions(threshold=0.068)"
   ]
  },
  {
   "cell_type": "code",
   "execution_count": 21,
   "metadata": {},
   "outputs": [
    {
     "data": {
      "text/plain": [
       "[1.0]"
      ]
     },
     "execution_count": 21,
     "metadata": {},
     "output_type": "execute_result"
    }
   ],
   "source": [
    "corr_obj.get_good_channels(180719, 0.068)"
   ]
  },
  {
   "cell_type": "code",
   "execution_count": 9,
   "metadata": {},
   "outputs": [
    {
     "data": {
      "text/plain": [
       "array([ 9., 14., 15., 18., 20., 23., 24., 26., 27., 28., 33.])"
      ]
     },
     "execution_count": 9,
     "metadata": {},
     "output_type": "execute_result"
    }
   ],
   "source": [
    "norm_obj.get_good_channels(180814)"
   ]
  },
  {
   "cell_type": "code",
   "execution_count": 121,
   "metadata": {},
   "outputs": [
    {
     "data": {
      "text/plain": [
       "(10,)"
      ]
     },
     "execution_count": 121,
     "metadata": {},
     "output_type": "execute_result"
    }
   ],
   "source": [
    "select_data = norm_obj._get_normalizers_for_bin_width_and_delay()\n",
    "select_data['session'].unique().shape"
   ]
  },
  {
   "cell_type": "code",
   "execution_count": 142,
   "metadata": {},
   "outputs": [
    {
     "data": {
      "text/plain": [
       "(0,)"
      ]
     },
     "execution_count": 142,
     "metadata": {},
     "output_type": "execute_result"
    }
   ],
   "source": [
    "norm_obj.dataframe[(norm_obj.dataframe['bin_width']==100) &\\\n",
    "    (norm_obj.dataframe['delay']==0)\n",
    "]['session'].unique().shape"
   ]
  },
  {
   "cell_type": "code",
   "execution_count": 143,
   "metadata": {},
   "outputs": [
    {
     "data": {
      "text/html": [
       "<div>\n",
       "<style scoped>\n",
       "    .dataframe tbody tr th:only-of-type {\n",
       "        vertical-align: middle;\n",
       "    }\n",
       "\n",
       "    .dataframe tbody tr th {\n",
       "        vertical-align: top;\n",
       "    }\n",
       "\n",
       "    .dataframe thead th {\n",
       "        text-align: right;\n",
       "    }\n",
       "</style>\n",
       "<table border=\"1\" class=\"dataframe\">\n",
       "  <thead>\n",
       "    <tr style=\"text-align: right;\">\n",
       "      <th></th>\n",
       "      <th>session</th>\n",
       "      <th>channel</th>\n",
       "      <th>bin_width</th>\n",
       "      <th>delay</th>\n",
       "      <th>normalizer</th>\n",
       "    </tr>\n",
       "  </thead>\n",
       "  <tbody>\n",
       "    <tr>\n",
       "      <th>0</th>\n",
       "      <td>180413.0</td>\n",
       "      <td>0.0</td>\n",
       "      <td>20.0</td>\n",
       "      <td>0.0</td>\n",
       "      <td>0.010205</td>\n",
       "    </tr>\n",
       "    <tr>\n",
       "      <th>1</th>\n",
       "      <td>180413.0</td>\n",
       "      <td>1.0</td>\n",
       "      <td>20.0</td>\n",
       "      <td>0.0</td>\n",
       "      <td>-0.007076</td>\n",
       "    </tr>\n",
       "    <tr>\n",
       "      <th>2</th>\n",
       "      <td>180413.0</td>\n",
       "      <td>2.0</td>\n",
       "      <td>20.0</td>\n",
       "      <td>0.0</td>\n",
       "      <td>0.005463</td>\n",
       "    </tr>\n",
       "    <tr>\n",
       "      <th>3</th>\n",
       "      <td>180413.0</td>\n",
       "      <td>3.0</td>\n",
       "      <td>20.0</td>\n",
       "      <td>0.0</td>\n",
       "      <td>-0.005638</td>\n",
       "    </tr>\n",
       "    <tr>\n",
       "      <th>4</th>\n",
       "      <td>180413.0</td>\n",
       "      <td>4.0</td>\n",
       "      <td>20.0</td>\n",
       "      <td>0.0</td>\n",
       "      <td>-0.023312</td>\n",
       "    </tr>\n",
       "    <tr>\n",
       "      <th>...</th>\n",
       "      <td>...</td>\n",
       "      <td>...</td>\n",
       "      <td>...</td>\n",
       "      <td>...</td>\n",
       "      <td>...</td>\n",
       "    </tr>\n",
       "    <tr>\n",
       "      <th>1934</th>\n",
       "      <td>200219.0</td>\n",
       "      <td>58.0</td>\n",
       "      <td>80.0</td>\n",
       "      <td>0.0</td>\n",
       "      <td>0.143576</td>\n",
       "    </tr>\n",
       "    <tr>\n",
       "      <th>1935</th>\n",
       "      <td>200219.0</td>\n",
       "      <td>59.0</td>\n",
       "      <td>80.0</td>\n",
       "      <td>0.0</td>\n",
       "      <td>-0.017678</td>\n",
       "    </tr>\n",
       "    <tr>\n",
       "      <th>1936</th>\n",
       "      <td>200219.0</td>\n",
       "      <td>60.0</td>\n",
       "      <td>80.0</td>\n",
       "      <td>0.0</td>\n",
       "      <td>0.011825</td>\n",
       "    </tr>\n",
       "    <tr>\n",
       "      <th>1937</th>\n",
       "      <td>200219.0</td>\n",
       "      <td>61.0</td>\n",
       "      <td>80.0</td>\n",
       "      <td>0.0</td>\n",
       "      <td>-0.001971</td>\n",
       "    </tr>\n",
       "    <tr>\n",
       "      <th>1938</th>\n",
       "      <td>200219.0</td>\n",
       "      <td>62.0</td>\n",
       "      <td>80.0</td>\n",
       "      <td>0.0</td>\n",
       "      <td>-0.004660</td>\n",
       "    </tr>\n",
       "  </tbody>\n",
       "</table>\n",
       "<p>1939 rows × 5 columns</p>\n",
       "</div>"
      ],
      "text/plain": [
       "       session  channel  bin_width  delay  normalizer\n",
       "0     180413.0      0.0       20.0    0.0    0.010205\n",
       "1     180413.0      1.0       20.0    0.0   -0.007076\n",
       "2     180413.0      2.0       20.0    0.0    0.005463\n",
       "3     180413.0      3.0       20.0    0.0   -0.005638\n",
       "4     180413.0      4.0       20.0    0.0   -0.023312\n",
       "...        ...      ...        ...    ...         ...\n",
       "1934  200219.0     58.0       80.0    0.0    0.143576\n",
       "1935  200219.0     59.0       80.0    0.0   -0.017678\n",
       "1936  200219.0     60.0       80.0    0.0    0.011825\n",
       "1937  200219.0     61.0       80.0    0.0   -0.001971\n",
       "1938  200219.0     62.0       80.0    0.0   -0.004660\n",
       "\n",
       "[1939 rows x 5 columns]"
      ]
     },
     "execution_count": 143,
     "metadata": {},
     "output_type": "execute_result"
    }
   ],
   "source": [
    "norm_obj.dataframe"
   ]
  },
  {
   "cell_type": "markdown",
   "metadata": {},
   "source": [
    "### Speedup using inner product method..."
   ]
  },
  {
   "cell_type": "code",
   "execution_count": 93,
   "metadata": {},
   "outputs": [],
   "source": [
    "import numpy as np\n",
    "def inter_trial_corr(spikes, n=100000):\n",
    "    \"\"\"Compute distribution of inter-trials correlations.\n",
    "\n",
    "    Args: \n",
    "        spikes (ndarray): (repeats, samples/time, channels)\n",
    "\n",
    "    Returns:\n",
    "        trials_corr (ndarray): (n, channels) distribution of inter-trial correlations\n",
    "    \"\"\"\n",
    "    trials_corr = np.zeros((n, spikes.shape[2]))\n",
    "    num_channels = spikes.shape[-1]\n",
    "    N = spikes.shape[1]\n",
    "    for t in range(n):\n",
    "        trials = np.random.choice(np.arange(0,spikes.shape[0]), size=2, replace=False)\n",
    "        X1 = spikes[trials[0]].squeeze()\n",
    "        X2 = spikes[trials[1]].squeeze()\n",
    "\n",
    "        X1 = X1 - np.mean(X1, axis=0)[None,:]\n",
    "        X2 = X2 - np.mean(X2, axis=0)[None,:]\n",
    "        sigma_1 = np.std(X1, axis=0)\n",
    "        sigma_2 = np.std(X2, axis=0)\n",
    "        cov = np.matmul(X1.T, X2)/(N)\n",
    "        normalizers = sigma_1[:,None]@sigma_2[None,:]\n",
    "        corr_mat = cov/normalizers\n",
    "        corr = np.diag(corr_mat)\n",
    "\n",
    "        trials_corr[t] = corr\n",
    "        # for ch in range(num_channels):\n",
    "        #     trials_corr[t, ch] = np.corrcoef(\n",
    "        #         spikes[trials[0],:,ch].squeeze(), spikes[trials[1],:,ch].squeeze()\n",
    "        #         )[0,1]\n",
    "    return trials_corr\n",
    "\n",
    "dataset = norm_obj._get_dataset_obj(200206)\n",
    "all_repeated_trials = dataset.get_repeated_trials(\n",
    "    sents=norm_obj.metadata.test_sent_IDs, bin_width=20,\n",
    "    delay=0\n",
    "    )\n",
    "\n",
    "normalizer_all = inter_trial_corr(all_repeated_trials, n=2)\n",
    "\n",
    "# normalizer_all = Normalizer.inter_trial_corr(all_repeated_trials, n=n)\n",
    "normalizer_all_med = np.median(normalizer_all, axis=0)"
   ]
  },
  {
   "cell_type": "code",
   "execution_count": 113,
   "metadata": {},
   "outputs": [
    {
     "data": {
      "text/plain": [
       "0.6359058389784193"
      ]
     },
     "execution_count": 113,
     "metadata": {},
     "output_type": "execute_result"
    }
   ],
   "source": [
    "ch = 32\n",
    "normalizer_all_med[ch]"
   ]
  },
  {
   "cell_type": "code",
   "execution_count": 114,
   "metadata": {},
   "outputs": [
    {
     "data": {
      "text/plain": [
       "92144    0.657779\n",
       "Name: normalizer, dtype: float64"
      ]
     },
     "execution_count": 114,
     "metadata": {},
     "output_type": "execute_result"
    }
   ],
   "source": [
    "chann = corr_obj.get_selected_data([200206], 20, 0, channel=ch)\n",
    "chann.head(1)['normalizer']"
   ]
  },
  {
   "cell_type": "code",
   "execution_count": null,
   "metadata": {},
   "outputs": [],
   "source": [
    "corr_obj = Correlations(\"wave2letter_modified\")"
   ]
  },
  {
   "cell_type": "code",
   "execution_count": 109,
   "metadata": {},
   "outputs": [
    {
     "data": {
      "text/plain": [
       "92112    0.18326\n",
       "Name: normalizer, dtype: float64"
      ]
     },
     "execution_count": 109,
     "metadata": {},
     "output_type": "execute_result"
    }
   ],
   "source": []
  },
  {
   "cell_type": "markdown",
   "metadata": {},
   "source": [
    "### back to sessions..."
   ]
  },
  {
   "cell_type": "code",
   "execution_count": 145,
   "metadata": {},
   "outputs": [
    {
     "data": {
      "text/plain": [
       "{1: 2, 12: 14}"
      ]
     },
     "execution_count": 145,
     "metadata": {},
     "output_type": "execute_result"
    }
   ],
   "source": [
    "dictt = {1: 2, 12: 14}\n",
    "dictt"
   ]
  },
  {
   "cell_type": "code",
   "execution_count": 146,
   "metadata": {},
   "outputs": [],
   "source": [
    "dictt.clear()"
   ]
  },
  {
   "cell_type": "code",
   "execution_count": 147,
   "metadata": {},
   "outputs": [
    {
     "data": {
      "text/plain": [
       "{}"
      ]
     },
     "execution_count": 147,
     "metadata": {},
     "output_type": "execute_result"
    }
   ],
   "source": [
    "dictt"
   ]
  },
  {
   "cell_type": "code",
   "execution_count": 18,
   "metadata": {},
   "outputs": [
    {
     "data": {
      "text/plain": [
       "array([180413., 180420., 180501., 180502., 180613., 180622., 180627.,\n",
       "       180717., 180719., 180720.])"
      ]
     },
     "execution_count": 18,
     "metadata": {},
     "output_type": "execute_result"
    }
   ],
   "source": [
    "select_data['session'].unique()"
   ]
  },
  {
   "cell_type": "code",
   "execution_count": 19,
   "metadata": {},
   "outputs": [
    {
     "data": {
      "text/html": [
       "<div>\n",
       "<style scoped>\n",
       "    .dataframe tbody tr th:only-of-type {\n",
       "        vertical-align: middle;\n",
       "    }\n",
       "\n",
       "    .dataframe tbody tr th {\n",
       "        vertical-align: top;\n",
       "    }\n",
       "\n",
       "    .dataframe thead th {\n",
       "        text-align: right;\n",
       "    }\n",
       "</style>\n",
       "<table border=\"1\" class=\"dataframe\">\n",
       "  <thead>\n",
       "    <tr style=\"text-align: right;\">\n",
       "      <th></th>\n",
       "      <th>session</th>\n",
       "      <th>channel</th>\n",
       "      <th>bin_width</th>\n",
       "      <th>delay</th>\n",
       "      <th>normalizer</th>\n",
       "    </tr>\n",
       "  </thead>\n",
       "  <tbody>\n",
       "    <tr>\n",
       "      <th>144</th>\n",
       "      <td>180720.0</td>\n",
       "      <td>0.0</td>\n",
       "      <td>20.0</td>\n",
       "      <td>0.0</td>\n",
       "      <td>0.003684</td>\n",
       "    </tr>\n",
       "    <tr>\n",
       "      <th>145</th>\n",
       "      <td>180720.0</td>\n",
       "      <td>1.0</td>\n",
       "      <td>20.0</td>\n",
       "      <td>0.0</td>\n",
       "      <td>0.058025</td>\n",
       "    </tr>\n",
       "    <tr>\n",
       "      <th>146</th>\n",
       "      <td>180720.0</td>\n",
       "      <td>2.0</td>\n",
       "      <td>20.0</td>\n",
       "      <td>0.0</td>\n",
       "      <td>0.120406</td>\n",
       "    </tr>\n",
       "    <tr>\n",
       "      <th>147</th>\n",
       "      <td>180720.0</td>\n",
       "      <td>3.0</td>\n",
       "      <td>20.0</td>\n",
       "      <td>0.0</td>\n",
       "      <td>0.072472</td>\n",
       "    </tr>\n",
       "    <tr>\n",
       "      <th>148</th>\n",
       "      <td>180720.0</td>\n",
       "      <td>4.0</td>\n",
       "      <td>20.0</td>\n",
       "      <td>0.0</td>\n",
       "      <td>0.066810</td>\n",
       "    </tr>\n",
       "    <tr>\n",
       "      <th>149</th>\n",
       "      <td>180720.0</td>\n",
       "      <td>5.0</td>\n",
       "      <td>20.0</td>\n",
       "      <td>0.0</td>\n",
       "      <td>0.007431</td>\n",
       "    </tr>\n",
       "    <tr>\n",
       "      <th>150</th>\n",
       "      <td>180720.0</td>\n",
       "      <td>6.0</td>\n",
       "      <td>20.0</td>\n",
       "      <td>0.0</td>\n",
       "      <td>0.062780</td>\n",
       "    </tr>\n",
       "    <tr>\n",
       "      <th>151</th>\n",
       "      <td>180720.0</td>\n",
       "      <td>7.0</td>\n",
       "      <td>20.0</td>\n",
       "      <td>0.0</td>\n",
       "      <td>0.282587</td>\n",
       "    </tr>\n",
       "    <tr>\n",
       "      <th>152</th>\n",
       "      <td>180720.0</td>\n",
       "      <td>8.0</td>\n",
       "      <td>20.0</td>\n",
       "      <td>0.0</td>\n",
       "      <td>0.036157</td>\n",
       "    </tr>\n",
       "    <tr>\n",
       "      <th>153</th>\n",
       "      <td>180720.0</td>\n",
       "      <td>9.0</td>\n",
       "      <td>20.0</td>\n",
       "      <td>0.0</td>\n",
       "      <td>-0.015161</td>\n",
       "    </tr>\n",
       "    <tr>\n",
       "      <th>154</th>\n",
       "      <td>180720.0</td>\n",
       "      <td>10.0</td>\n",
       "      <td>20.0</td>\n",
       "      <td>0.0</td>\n",
       "      <td>-0.004277</td>\n",
       "    </tr>\n",
       "    <tr>\n",
       "      <th>155</th>\n",
       "      <td>180720.0</td>\n",
       "      <td>11.0</td>\n",
       "      <td>20.0</td>\n",
       "      <td>0.0</td>\n",
       "      <td>0.013370</td>\n",
       "    </tr>\n",
       "    <tr>\n",
       "      <th>156</th>\n",
       "      <td>180720.0</td>\n",
       "      <td>12.0</td>\n",
       "      <td>20.0</td>\n",
       "      <td>0.0</td>\n",
       "      <td>0.008486</td>\n",
       "    </tr>\n",
       "    <tr>\n",
       "      <th>157</th>\n",
       "      <td>180720.0</td>\n",
       "      <td>13.0</td>\n",
       "      <td>20.0</td>\n",
       "      <td>0.0</td>\n",
       "      <td>0.024062</td>\n",
       "    </tr>\n",
       "    <tr>\n",
       "      <th>158</th>\n",
       "      <td>180720.0</td>\n",
       "      <td>14.0</td>\n",
       "      <td>20.0</td>\n",
       "      <td>0.0</td>\n",
       "      <td>0.051616</td>\n",
       "    </tr>\n",
       "    <tr>\n",
       "      <th>159</th>\n",
       "      <td>180720.0</td>\n",
       "      <td>15.0</td>\n",
       "      <td>20.0</td>\n",
       "      <td>0.0</td>\n",
       "      <td>0.002787</td>\n",
       "    </tr>\n",
       "  </tbody>\n",
       "</table>\n",
       "</div>"
      ],
      "text/plain": [
       "      session  channel  bin_width  delay  normalizer\n",
       "144  180720.0      0.0       20.0    0.0    0.003684\n",
       "145  180720.0      1.0       20.0    0.0    0.058025\n",
       "146  180720.0      2.0       20.0    0.0    0.120406\n",
       "147  180720.0      3.0       20.0    0.0    0.072472\n",
       "148  180720.0      4.0       20.0    0.0    0.066810\n",
       "149  180720.0      5.0       20.0    0.0    0.007431\n",
       "150  180720.0      6.0       20.0    0.0    0.062780\n",
       "151  180720.0      7.0       20.0    0.0    0.282587\n",
       "152  180720.0      8.0       20.0    0.0    0.036157\n",
       "153  180720.0      9.0       20.0    0.0   -0.015161\n",
       "154  180720.0     10.0       20.0    0.0   -0.004277\n",
       "155  180720.0     11.0       20.0    0.0    0.013370\n",
       "156  180720.0     12.0       20.0    0.0    0.008486\n",
       "157  180720.0     13.0       20.0    0.0    0.024062\n",
       "158  180720.0     14.0       20.0    0.0    0.051616\n",
       "159  180720.0     15.0       20.0    0.0    0.002787"
      ]
     },
     "execution_count": 19,
     "metadata": {},
     "output_type": "execute_result"
    }
   ],
   "source": [
    "select_data[select_data['session']==180720]"
   ]
  },
  {
   "cell_type": "code",
   "execution_count": 6,
   "metadata": {},
   "outputs": [
    {
     "data": {
      "text/plain": [
       "array([191113., 191125., 180731., 200207., 180720., 180807., 191206.,\n",
       "       191121., 191210., 180627., 200213., 200206., 200313., 191115.,\n",
       "       200205., 180814., 180719., 180808.])"
      ]
     },
     "execution_count": 6,
     "metadata": {},
     "output_type": "execute_result"
    }
   ],
   "source": [
    "corr_obj = Correlations(\"wave2letter_modified\")\n",
    "corr_obj.get_significant_sessions(0.068)"
   ]
  },
  {
   "cell_type": "code",
   "execution_count": 20,
   "metadata": {},
   "outputs": [
    {
     "data": {
      "text/plain": [
       "[2.0, 3.0, 7.0]"
      ]
     },
     "execution_count": 20,
     "metadata": {},
     "output_type": "execute_result"
    }
   ],
   "source": [
    "corr_obj.get_good_channels(180720, threshold=0.068)"
   ]
  },
  {
   "cell_type": "code",
   "execution_count": 10,
   "metadata": {},
   "outputs": [
    {
     "data": {
      "text/html": [
       "<div>\n",
       "<style scoped>\n",
       "    .dataframe tbody tr th:only-of-type {\n",
       "        vertical-align: middle;\n",
       "    }\n",
       "\n",
       "    .dataframe tbody tr th {\n",
       "        vertical-align: top;\n",
       "    }\n",
       "\n",
       "    .dataframe thead th {\n",
       "        text-align: right;\n",
       "    }\n",
       "</style>\n",
       "<table border=\"1\" class=\"dataframe\">\n",
       "  <thead>\n",
       "    <tr style=\"text-align: right;\">\n",
       "      <th></th>\n",
       "      <th>session</th>\n",
       "      <th>channel</th>\n",
       "      <th>bin_width</th>\n",
       "      <th>delay</th>\n",
       "      <th>normalizer</th>\n",
       "    </tr>\n",
       "  </thead>\n",
       "  <tbody>\n",
       "    <tr>\n",
       "      <th>1020</th>\n",
       "      <td>191115.0</td>\n",
       "      <td>0.0</td>\n",
       "      <td>80.0</td>\n",
       "      <td>0.0</td>\n",
       "      <td>NaN</td>\n",
       "    </tr>\n",
       "    <tr>\n",
       "      <th>1021</th>\n",
       "      <td>191115.0</td>\n",
       "      <td>1.0</td>\n",
       "      <td>80.0</td>\n",
       "      <td>0.0</td>\n",
       "      <td>0.026289</td>\n",
       "    </tr>\n",
       "    <tr>\n",
       "      <th>1022</th>\n",
       "      <td>191115.0</td>\n",
       "      <td>2.0</td>\n",
       "      <td>80.0</td>\n",
       "      <td>0.0</td>\n",
       "      <td>NaN</td>\n",
       "    </tr>\n",
       "    <tr>\n",
       "      <th>1023</th>\n",
       "      <td>191115.0</td>\n",
       "      <td>3.0</td>\n",
       "      <td>80.0</td>\n",
       "      <td>0.0</td>\n",
       "      <td>NaN</td>\n",
       "    </tr>\n",
       "    <tr>\n",
       "      <th>1024</th>\n",
       "      <td>191115.0</td>\n",
       "      <td>4.0</td>\n",
       "      <td>80.0</td>\n",
       "      <td>0.0</td>\n",
       "      <td>NaN</td>\n",
       "    </tr>\n",
       "    <tr>\n",
       "      <th>1025</th>\n",
       "      <td>191115.0</td>\n",
       "      <td>5.0</td>\n",
       "      <td>80.0</td>\n",
       "      <td>0.0</td>\n",
       "      <td>NaN</td>\n",
       "    </tr>\n",
       "    <tr>\n",
       "      <th>1026</th>\n",
       "      <td>191115.0</td>\n",
       "      <td>6.0</td>\n",
       "      <td>80.0</td>\n",
       "      <td>0.0</td>\n",
       "      <td>-0.009501</td>\n",
       "    </tr>\n",
       "    <tr>\n",
       "      <th>1027</th>\n",
       "      <td>191115.0</td>\n",
       "      <td>7.0</td>\n",
       "      <td>80.0</td>\n",
       "      <td>0.0</td>\n",
       "      <td>0.015198</td>\n",
       "    </tr>\n",
       "    <tr>\n",
       "      <th>1028</th>\n",
       "      <td>191115.0</td>\n",
       "      <td>8.0</td>\n",
       "      <td>80.0</td>\n",
       "      <td>0.0</td>\n",
       "      <td>NaN</td>\n",
       "    </tr>\n",
       "    <tr>\n",
       "      <th>1029</th>\n",
       "      <td>191115.0</td>\n",
       "      <td>9.0</td>\n",
       "      <td>80.0</td>\n",
       "      <td>0.0</td>\n",
       "      <td>0.014136</td>\n",
       "    </tr>\n",
       "    <tr>\n",
       "      <th>1030</th>\n",
       "      <td>191115.0</td>\n",
       "      <td>10.0</td>\n",
       "      <td>80.0</td>\n",
       "      <td>0.0</td>\n",
       "      <td>NaN</td>\n",
       "    </tr>\n",
       "    <tr>\n",
       "      <th>1031</th>\n",
       "      <td>191115.0</td>\n",
       "      <td>11.0</td>\n",
       "      <td>80.0</td>\n",
       "      <td>0.0</td>\n",
       "      <td>-0.017458</td>\n",
       "    </tr>\n",
       "    <tr>\n",
       "      <th>1032</th>\n",
       "      <td>191115.0</td>\n",
       "      <td>12.0</td>\n",
       "      <td>80.0</td>\n",
       "      <td>0.0</td>\n",
       "      <td>NaN</td>\n",
       "    </tr>\n",
       "    <tr>\n",
       "      <th>1033</th>\n",
       "      <td>191115.0</td>\n",
       "      <td>13.0</td>\n",
       "      <td>80.0</td>\n",
       "      <td>0.0</td>\n",
       "      <td>NaN</td>\n",
       "    </tr>\n",
       "    <tr>\n",
       "      <th>1034</th>\n",
       "      <td>191115.0</td>\n",
       "      <td>14.0</td>\n",
       "      <td>80.0</td>\n",
       "      <td>0.0</td>\n",
       "      <td>NaN</td>\n",
       "    </tr>\n",
       "    <tr>\n",
       "      <th>1035</th>\n",
       "      <td>191115.0</td>\n",
       "      <td>15.0</td>\n",
       "      <td>80.0</td>\n",
       "      <td>0.0</td>\n",
       "      <td>NaN</td>\n",
       "    </tr>\n",
       "    <tr>\n",
       "      <th>1036</th>\n",
       "      <td>191115.0</td>\n",
       "      <td>16.0</td>\n",
       "      <td>80.0</td>\n",
       "      <td>0.0</td>\n",
       "      <td>NaN</td>\n",
       "    </tr>\n",
       "    <tr>\n",
       "      <th>1037</th>\n",
       "      <td>191115.0</td>\n",
       "      <td>17.0</td>\n",
       "      <td>80.0</td>\n",
       "      <td>0.0</td>\n",
       "      <td>NaN</td>\n",
       "    </tr>\n",
       "    <tr>\n",
       "      <th>1038</th>\n",
       "      <td>191115.0</td>\n",
       "      <td>18.0</td>\n",
       "      <td>80.0</td>\n",
       "      <td>0.0</td>\n",
       "      <td>0.152879</td>\n",
       "    </tr>\n",
       "    <tr>\n",
       "      <th>1039</th>\n",
       "      <td>191115.0</td>\n",
       "      <td>19.0</td>\n",
       "      <td>80.0</td>\n",
       "      <td>0.0</td>\n",
       "      <td>NaN</td>\n",
       "    </tr>\n",
       "    <tr>\n",
       "      <th>1040</th>\n",
       "      <td>191115.0</td>\n",
       "      <td>20.0</td>\n",
       "      <td>80.0</td>\n",
       "      <td>0.0</td>\n",
       "      <td>NaN</td>\n",
       "    </tr>\n",
       "    <tr>\n",
       "      <th>1041</th>\n",
       "      <td>191115.0</td>\n",
       "      <td>21.0</td>\n",
       "      <td>80.0</td>\n",
       "      <td>0.0</td>\n",
       "      <td>NaN</td>\n",
       "    </tr>\n",
       "    <tr>\n",
       "      <th>1042</th>\n",
       "      <td>191115.0</td>\n",
       "      <td>22.0</td>\n",
       "      <td>80.0</td>\n",
       "      <td>0.0</td>\n",
       "      <td>-0.024029</td>\n",
       "    </tr>\n",
       "    <tr>\n",
       "      <th>1043</th>\n",
       "      <td>191115.0</td>\n",
       "      <td>23.0</td>\n",
       "      <td>80.0</td>\n",
       "      <td>0.0</td>\n",
       "      <td>NaN</td>\n",
       "    </tr>\n",
       "    <tr>\n",
       "      <th>1044</th>\n",
       "      <td>191115.0</td>\n",
       "      <td>24.0</td>\n",
       "      <td>80.0</td>\n",
       "      <td>0.0</td>\n",
       "      <td>NaN</td>\n",
       "    </tr>\n",
       "    <tr>\n",
       "      <th>1045</th>\n",
       "      <td>191115.0</td>\n",
       "      <td>25.0</td>\n",
       "      <td>80.0</td>\n",
       "      <td>0.0</td>\n",
       "      <td>NaN</td>\n",
       "    </tr>\n",
       "    <tr>\n",
       "      <th>1046</th>\n",
       "      <td>191115.0</td>\n",
       "      <td>26.0</td>\n",
       "      <td>80.0</td>\n",
       "      <td>0.0</td>\n",
       "      <td>NaN</td>\n",
       "    </tr>\n",
       "    <tr>\n",
       "      <th>1047</th>\n",
       "      <td>191115.0</td>\n",
       "      <td>27.0</td>\n",
       "      <td>80.0</td>\n",
       "      <td>0.0</td>\n",
       "      <td>NaN</td>\n",
       "    </tr>\n",
       "    <tr>\n",
       "      <th>1048</th>\n",
       "      <td>191115.0</td>\n",
       "      <td>28.0</td>\n",
       "      <td>80.0</td>\n",
       "      <td>0.0</td>\n",
       "      <td>NaN</td>\n",
       "    </tr>\n",
       "    <tr>\n",
       "      <th>1049</th>\n",
       "      <td>191115.0</td>\n",
       "      <td>29.0</td>\n",
       "      <td>80.0</td>\n",
       "      <td>0.0</td>\n",
       "      <td>NaN</td>\n",
       "    </tr>\n",
       "    <tr>\n",
       "      <th>1050</th>\n",
       "      <td>191115.0</td>\n",
       "      <td>30.0</td>\n",
       "      <td>80.0</td>\n",
       "      <td>0.0</td>\n",
       "      <td>0.204650</td>\n",
       "    </tr>\n",
       "    <tr>\n",
       "      <th>1051</th>\n",
       "      <td>191115.0</td>\n",
       "      <td>31.0</td>\n",
       "      <td>80.0</td>\n",
       "      <td>0.0</td>\n",
       "      <td>NaN</td>\n",
       "    </tr>\n",
       "    <tr>\n",
       "      <th>1052</th>\n",
       "      <td>191115.0</td>\n",
       "      <td>32.0</td>\n",
       "      <td>80.0</td>\n",
       "      <td>0.0</td>\n",
       "      <td>0.143906</td>\n",
       "    </tr>\n",
       "    <tr>\n",
       "      <th>1053</th>\n",
       "      <td>191115.0</td>\n",
       "      <td>33.0</td>\n",
       "      <td>80.0</td>\n",
       "      <td>0.0</td>\n",
       "      <td>NaN</td>\n",
       "    </tr>\n",
       "    <tr>\n",
       "      <th>1054</th>\n",
       "      <td>191115.0</td>\n",
       "      <td>34.0</td>\n",
       "      <td>80.0</td>\n",
       "      <td>0.0</td>\n",
       "      <td>0.057857</td>\n",
       "    </tr>\n",
       "    <tr>\n",
       "      <th>1055</th>\n",
       "      <td>191115.0</td>\n",
       "      <td>35.0</td>\n",
       "      <td>80.0</td>\n",
       "      <td>0.0</td>\n",
       "      <td>0.074692</td>\n",
       "    </tr>\n",
       "    <tr>\n",
       "      <th>1056</th>\n",
       "      <td>191115.0</td>\n",
       "      <td>36.0</td>\n",
       "      <td>80.0</td>\n",
       "      <td>0.0</td>\n",
       "      <td>0.045243</td>\n",
       "    </tr>\n",
       "    <tr>\n",
       "      <th>1057</th>\n",
       "      <td>191115.0</td>\n",
       "      <td>37.0</td>\n",
       "      <td>80.0</td>\n",
       "      <td>0.0</td>\n",
       "      <td>0.093224</td>\n",
       "    </tr>\n",
       "    <tr>\n",
       "      <th>1058</th>\n",
       "      <td>191115.0</td>\n",
       "      <td>38.0</td>\n",
       "      <td>80.0</td>\n",
       "      <td>0.0</td>\n",
       "      <td>0.170556</td>\n",
       "    </tr>\n",
       "    <tr>\n",
       "      <th>1059</th>\n",
       "      <td>191115.0</td>\n",
       "      <td>39.0</td>\n",
       "      <td>80.0</td>\n",
       "      <td>0.0</td>\n",
       "      <td>0.004180</td>\n",
       "    </tr>\n",
       "    <tr>\n",
       "      <th>1060</th>\n",
       "      <td>191115.0</td>\n",
       "      <td>40.0</td>\n",
       "      <td>80.0</td>\n",
       "      <td>0.0</td>\n",
       "      <td>NaN</td>\n",
       "    </tr>\n",
       "    <tr>\n",
       "      <th>1061</th>\n",
       "      <td>191115.0</td>\n",
       "      <td>41.0</td>\n",
       "      <td>80.0</td>\n",
       "      <td>0.0</td>\n",
       "      <td>0.058188</td>\n",
       "    </tr>\n",
       "    <tr>\n",
       "      <th>1062</th>\n",
       "      <td>191115.0</td>\n",
       "      <td>42.0</td>\n",
       "      <td>80.0</td>\n",
       "      <td>0.0</td>\n",
       "      <td>NaN</td>\n",
       "    </tr>\n",
       "    <tr>\n",
       "      <th>1063</th>\n",
       "      <td>191115.0</td>\n",
       "      <td>43.0</td>\n",
       "      <td>80.0</td>\n",
       "      <td>0.0</td>\n",
       "      <td>-0.019358</td>\n",
       "    </tr>\n",
       "    <tr>\n",
       "      <th>1064</th>\n",
       "      <td>191115.0</td>\n",
       "      <td>44.0</td>\n",
       "      <td>80.0</td>\n",
       "      <td>0.0</td>\n",
       "      <td>NaN</td>\n",
       "    </tr>\n",
       "    <tr>\n",
       "      <th>1065</th>\n",
       "      <td>191115.0</td>\n",
       "      <td>45.0</td>\n",
       "      <td>80.0</td>\n",
       "      <td>0.0</td>\n",
       "      <td>0.002297</td>\n",
       "    </tr>\n",
       "    <tr>\n",
       "      <th>1066</th>\n",
       "      <td>191115.0</td>\n",
       "      <td>46.0</td>\n",
       "      <td>80.0</td>\n",
       "      <td>0.0</td>\n",
       "      <td>0.029385</td>\n",
       "    </tr>\n",
       "    <tr>\n",
       "      <th>1067</th>\n",
       "      <td>191115.0</td>\n",
       "      <td>47.0</td>\n",
       "      <td>80.0</td>\n",
       "      <td>0.0</td>\n",
       "      <td>0.102830</td>\n",
       "    </tr>\n",
       "    <tr>\n",
       "      <th>1068</th>\n",
       "      <td>191115.0</td>\n",
       "      <td>48.0</td>\n",
       "      <td>80.0</td>\n",
       "      <td>0.0</td>\n",
       "      <td>NaN</td>\n",
       "    </tr>\n",
       "    <tr>\n",
       "      <th>1069</th>\n",
       "      <td>191115.0</td>\n",
       "      <td>49.0</td>\n",
       "      <td>80.0</td>\n",
       "      <td>0.0</td>\n",
       "      <td>0.013511</td>\n",
       "    </tr>\n",
       "    <tr>\n",
       "      <th>1070</th>\n",
       "      <td>191115.0</td>\n",
       "      <td>50.0</td>\n",
       "      <td>80.0</td>\n",
       "      <td>0.0</td>\n",
       "      <td>NaN</td>\n",
       "    </tr>\n",
       "    <tr>\n",
       "      <th>1071</th>\n",
       "      <td>191115.0</td>\n",
       "      <td>51.0</td>\n",
       "      <td>80.0</td>\n",
       "      <td>0.0</td>\n",
       "      <td>0.119979</td>\n",
       "    </tr>\n",
       "    <tr>\n",
       "      <th>1072</th>\n",
       "      <td>191115.0</td>\n",
       "      <td>52.0</td>\n",
       "      <td>80.0</td>\n",
       "      <td>0.0</td>\n",
       "      <td>-0.018531</td>\n",
       "    </tr>\n",
       "    <tr>\n",
       "      <th>1073</th>\n",
       "      <td>191115.0</td>\n",
       "      <td>53.0</td>\n",
       "      <td>80.0</td>\n",
       "      <td>0.0</td>\n",
       "      <td>0.046338</td>\n",
       "    </tr>\n",
       "    <tr>\n",
       "      <th>1074</th>\n",
       "      <td>191115.0</td>\n",
       "      <td>54.0</td>\n",
       "      <td>80.0</td>\n",
       "      <td>0.0</td>\n",
       "      <td>NaN</td>\n",
       "    </tr>\n",
       "    <tr>\n",
       "      <th>1075</th>\n",
       "      <td>191115.0</td>\n",
       "      <td>55.0</td>\n",
       "      <td>80.0</td>\n",
       "      <td>0.0</td>\n",
       "      <td>0.025936</td>\n",
       "    </tr>\n",
       "    <tr>\n",
       "      <th>1076</th>\n",
       "      <td>191115.0</td>\n",
       "      <td>56.0</td>\n",
       "      <td>80.0</td>\n",
       "      <td>0.0</td>\n",
       "      <td>NaN</td>\n",
       "    </tr>\n",
       "    <tr>\n",
       "      <th>1077</th>\n",
       "      <td>191115.0</td>\n",
       "      <td>57.0</td>\n",
       "      <td>80.0</td>\n",
       "      <td>0.0</td>\n",
       "      <td>NaN</td>\n",
       "    </tr>\n",
       "  </tbody>\n",
       "</table>\n",
       "</div>"
      ],
      "text/plain": [
       "       session  channel  bin_width  delay  normalizer\n",
       "1020  191115.0      0.0       80.0    0.0         NaN\n",
       "1021  191115.0      1.0       80.0    0.0    0.026289\n",
       "1022  191115.0      2.0       80.0    0.0         NaN\n",
       "1023  191115.0      3.0       80.0    0.0         NaN\n",
       "1024  191115.0      4.0       80.0    0.0         NaN\n",
       "1025  191115.0      5.0       80.0    0.0         NaN\n",
       "1026  191115.0      6.0       80.0    0.0   -0.009501\n",
       "1027  191115.0      7.0       80.0    0.0    0.015198\n",
       "1028  191115.0      8.0       80.0    0.0         NaN\n",
       "1029  191115.0      9.0       80.0    0.0    0.014136\n",
       "1030  191115.0     10.0       80.0    0.0         NaN\n",
       "1031  191115.0     11.0       80.0    0.0   -0.017458\n",
       "1032  191115.0     12.0       80.0    0.0         NaN\n",
       "1033  191115.0     13.0       80.0    0.0         NaN\n",
       "1034  191115.0     14.0       80.0    0.0         NaN\n",
       "1035  191115.0     15.0       80.0    0.0         NaN\n",
       "1036  191115.0     16.0       80.0    0.0         NaN\n",
       "1037  191115.0     17.0       80.0    0.0         NaN\n",
       "1038  191115.0     18.0       80.0    0.0    0.152879\n",
       "1039  191115.0     19.0       80.0    0.0         NaN\n",
       "1040  191115.0     20.0       80.0    0.0         NaN\n",
       "1041  191115.0     21.0       80.0    0.0         NaN\n",
       "1042  191115.0     22.0       80.0    0.0   -0.024029\n",
       "1043  191115.0     23.0       80.0    0.0         NaN\n",
       "1044  191115.0     24.0       80.0    0.0         NaN\n",
       "1045  191115.0     25.0       80.0    0.0         NaN\n",
       "1046  191115.0     26.0       80.0    0.0         NaN\n",
       "1047  191115.0     27.0       80.0    0.0         NaN\n",
       "1048  191115.0     28.0       80.0    0.0         NaN\n",
       "1049  191115.0     29.0       80.0    0.0         NaN\n",
       "1050  191115.0     30.0       80.0    0.0    0.204650\n",
       "1051  191115.0     31.0       80.0    0.0         NaN\n",
       "1052  191115.0     32.0       80.0    0.0    0.143906\n",
       "1053  191115.0     33.0       80.0    0.0         NaN\n",
       "1054  191115.0     34.0       80.0    0.0    0.057857\n",
       "1055  191115.0     35.0       80.0    0.0    0.074692\n",
       "1056  191115.0     36.0       80.0    0.0    0.045243\n",
       "1057  191115.0     37.0       80.0    0.0    0.093224\n",
       "1058  191115.0     38.0       80.0    0.0    0.170556\n",
       "1059  191115.0     39.0       80.0    0.0    0.004180\n",
       "1060  191115.0     40.0       80.0    0.0         NaN\n",
       "1061  191115.0     41.0       80.0    0.0    0.058188\n",
       "1062  191115.0     42.0       80.0    0.0         NaN\n",
       "1063  191115.0     43.0       80.0    0.0   -0.019358\n",
       "1064  191115.0     44.0       80.0    0.0         NaN\n",
       "1065  191115.0     45.0       80.0    0.0    0.002297\n",
       "1066  191115.0     46.0       80.0    0.0    0.029385\n",
       "1067  191115.0     47.0       80.0    0.0    0.102830\n",
       "1068  191115.0     48.0       80.0    0.0         NaN\n",
       "1069  191115.0     49.0       80.0    0.0    0.013511\n",
       "1070  191115.0     50.0       80.0    0.0         NaN\n",
       "1071  191115.0     51.0       80.0    0.0    0.119979\n",
       "1072  191115.0     52.0       80.0    0.0   -0.018531\n",
       "1073  191115.0     53.0       80.0    0.0    0.046338\n",
       "1074  191115.0     54.0       80.0    0.0         NaN\n",
       "1075  191115.0     55.0       80.0    0.0    0.025936\n",
       "1076  191115.0     56.0       80.0    0.0         NaN\n",
       "1077  191115.0     57.0       80.0    0.0         NaN"
      ]
     },
     "execution_count": 10,
     "metadata": {},
     "output_type": "execute_result"
    }
   ],
   "source": [
    "norm_obj.dataframe[norm_obj.dataframe['session']== 191115]"
   ]
  },
  {
   "cell_type": "code",
   "execution_count": 9,
   "metadata": {},
   "outputs": [
    {
     "data": {
      "text/plain": [
       "array([191113., 191125., 180731., 200207., 180720., 180807., 191206.,\n",
       "       191121., 191210., 180627., 200213., 200206., 200313., 191115.,\n",
       "       200205., 180814., 180719., 180808.])"
      ]
     },
     "execution_count": 9,
     "metadata": {},
     "output_type": "execute_result"
    }
   ],
   "source": [
    "corr_obj = Correlations(\"wave2letter_modified\")\n",
    "corr_obj.get_significant_sessions(0.068)"
   ]
  },
  {
   "cell_type": "code",
   "execution_count": 5,
   "metadata": {},
   "outputs": [],
   "source": [
    "bin_width = 20\n",
    "delay = 0\n",
    "\n",
    "sessions = norm_obj.metadata.get_all_available_sessions()\n",
    "select_data = norm_obj._get_normalizers_for_bin_width_and_delay(bin_width, delay)\n",
    "sessions_done = select_data['session'].unique()\n"
   ]
  },
  {
   "cell_type": "code",
   "execution_count": 6,
   "metadata": {},
   "outputs": [
    {
     "data": {
      "text/plain": [
       "array([], dtype=object)"
      ]
     },
     "execution_count": 6,
     "metadata": {},
     "output_type": "execute_result"
    }
   ],
   "source": [
    "sessions_done"
   ]
  },
  {
   "cell_type": "code",
   "execution_count": 7,
   "metadata": {},
   "outputs": [],
   "source": [
    "import numpy as np\n",
    "sessions_remaining = sessions[np.isin(sessions, sessions_done, invert=True)]"
   ]
  },
  {
   "cell_type": "code",
   "execution_count": 9,
   "metadata": {},
   "outputs": [
    {
     "data": {
      "text/plain": [
       "(45,)"
      ]
     },
     "execution_count": 9,
     "metadata": {},
     "output_type": "execute_result"
    }
   ],
   "source": [
    "sessions_remaining.shape"
   ]
  },
  {
   "cell_type": "code",
   "execution_count": 10,
   "metadata": {},
   "outputs": [
    {
     "data": {
      "text/plain": [
       "(45,)"
      ]
     },
     "execution_count": 10,
     "metadata": {},
     "output_type": "execute_result"
    }
   ],
   "source": [
    "sessions.shape"
   ]
  },
  {
   "cell_type": "code",
   "execution_count": 6,
   "metadata": {},
   "outputs": [
    {
     "data": {
      "text/plain": [
       "0"
      ]
     },
     "execution_count": 6,
     "metadata": {},
     "output_type": "execute_result"
    }
   ],
   "source": [
    "if res.shape[0] ==0:\n",
    "    "
   ]
  },
  {
   "cell_type": "code",
   "execution_count": 3,
   "metadata": {},
   "outputs": [
    {
     "name": "stdout",
     "output_type": "stream",
     "text": [
      "Loading Neural data for session: 200206 ... Done.\n"
     ]
    }
   ],
   "source": [
    "norm_dist = norm.compute_normalizer(200206, n=10)"
   ]
  },
  {
   "cell_type": "code",
   "execution_count": 4,
   "metadata": {},
   "outputs": [
    {
     "data": {
      "text/plain": [
       "64"
      ]
     },
     "execution_count": 4,
     "metadata": {},
     "output_type": "execute_result"
    }
   ],
   "source": [
    "norm_dist.size"
   ]
  },
  {
   "cell_type": "code",
   "execution_count": 5,
   "metadata": {},
   "outputs": [],
   "source": [
    "import numpy as np\n",
    "session = 200206\n",
    "bin_width = 20\n",
    "delay = 0"
   ]
  },
  {
   "cell_type": "code",
   "execution_count": 6,
   "metadata": {},
   "outputs": [],
   "source": [
    "num_channels = norm_dist.size\n",
    "data = np.stack([\n",
    "    session*np.ones(num_channels),\n",
    "    np.arange(num_channels),\n",
    "    bin_width*np.ones(num_channels),\n",
    "    delay*np.ones(num_channels),\n",
    "    norm_dist\n",
    "], axis=1\n",
    ")"
   ]
  },
  {
   "cell_type": "code",
   "execution_count": 9,
   "metadata": {},
   "outputs": [],
   "source": [
    "df = pd.DataFrame(\n",
    "    data= data,\n",
    "    columns=norm.dataframe.columns,\n",
    "                  )"
   ]
  },
  {
   "cell_type": "code",
   "execution_count": 14,
   "metadata": {},
   "outputs": [],
   "source": [
    "norm.dataframe = pd.concat([norm.dataframe, df], axis=0, ignore_index=True)"
   ]
  },
  {
   "cell_type": "code",
   "execution_count": 15,
   "metadata": {},
   "outputs": [
    {
     "data": {
      "text/html": [
       "<div>\n",
       "<style scoped>\n",
       "    .dataframe tbody tr th:only-of-type {\n",
       "        vertical-align: middle;\n",
       "    }\n",
       "\n",
       "    .dataframe tbody tr th {\n",
       "        vertical-align: top;\n",
       "    }\n",
       "\n",
       "    .dataframe thead th {\n",
       "        text-align: right;\n",
       "    }\n",
       "</style>\n",
       "<table border=\"1\" class=\"dataframe\">\n",
       "  <thead>\n",
       "    <tr style=\"text-align: right;\">\n",
       "      <th></th>\n",
       "      <th>session</th>\n",
       "      <th>channel</th>\n",
       "      <th>bin_width</th>\n",
       "      <th>delay</th>\n",
       "      <th>normalizer</th>\n",
       "    </tr>\n",
       "  </thead>\n",
       "  <tbody>\n",
       "    <tr>\n",
       "      <th>0</th>\n",
       "      <td>200206.0</td>\n",
       "      <td>0.0</td>\n",
       "      <td>20.0</td>\n",
       "      <td>0.0</td>\n",
       "      <td>0.173893</td>\n",
       "    </tr>\n",
       "    <tr>\n",
       "      <th>1</th>\n",
       "      <td>200206.0</td>\n",
       "      <td>1.0</td>\n",
       "      <td>20.0</td>\n",
       "      <td>0.0</td>\n",
       "      <td>0.1897</td>\n",
       "    </tr>\n",
       "    <tr>\n",
       "      <th>2</th>\n",
       "      <td>200206.0</td>\n",
       "      <td>2.0</td>\n",
       "      <td>20.0</td>\n",
       "      <td>0.0</td>\n",
       "      <td>0.109464</td>\n",
       "    </tr>\n",
       "    <tr>\n",
       "      <th>3</th>\n",
       "      <td>200206.0</td>\n",
       "      <td>3.0</td>\n",
       "      <td>20.0</td>\n",
       "      <td>0.0</td>\n",
       "      <td>0.411408</td>\n",
       "    </tr>\n",
       "    <tr>\n",
       "      <th>4</th>\n",
       "      <td>200206.0</td>\n",
       "      <td>4.0</td>\n",
       "      <td>20.0</td>\n",
       "      <td>0.0</td>\n",
       "      <td>0.134697</td>\n",
       "    </tr>\n",
       "    <tr>\n",
       "      <th>...</th>\n",
       "      <td>...</td>\n",
       "      <td>...</td>\n",
       "      <td>...</td>\n",
       "      <td>...</td>\n",
       "      <td>...</td>\n",
       "    </tr>\n",
       "    <tr>\n",
       "      <th>59</th>\n",
       "      <td>200206.0</td>\n",
       "      <td>59.0</td>\n",
       "      <td>20.0</td>\n",
       "      <td>0.0</td>\n",
       "      <td>0.4973</td>\n",
       "    </tr>\n",
       "    <tr>\n",
       "      <th>60</th>\n",
       "      <td>200206.0</td>\n",
       "      <td>60.0</td>\n",
       "      <td>20.0</td>\n",
       "      <td>0.0</td>\n",
       "      <td>0.55358</td>\n",
       "    </tr>\n",
       "    <tr>\n",
       "      <th>61</th>\n",
       "      <td>200206.0</td>\n",
       "      <td>61.0</td>\n",
       "      <td>20.0</td>\n",
       "      <td>0.0</td>\n",
       "      <td>0.434416</td>\n",
       "    </tr>\n",
       "    <tr>\n",
       "      <th>62</th>\n",
       "      <td>200206.0</td>\n",
       "      <td>62.0</td>\n",
       "      <td>20.0</td>\n",
       "      <td>0.0</td>\n",
       "      <td>0.48853</td>\n",
       "    </tr>\n",
       "    <tr>\n",
       "      <th>63</th>\n",
       "      <td>200206.0</td>\n",
       "      <td>63.0</td>\n",
       "      <td>20.0</td>\n",
       "      <td>0.0</td>\n",
       "      <td>0.441675</td>\n",
       "    </tr>\n",
       "  </tbody>\n",
       "</table>\n",
       "<p>64 rows × 5 columns</p>\n",
       "</div>"
      ],
      "text/plain": [
       "     session channel bin_width delay normalizer\n",
       "0   200206.0     0.0      20.0   0.0   0.173893\n",
       "1   200206.0     1.0      20.0   0.0     0.1897\n",
       "2   200206.0     2.0      20.0   0.0   0.109464\n",
       "3   200206.0     3.0      20.0   0.0   0.411408\n",
       "4   200206.0     4.0      20.0   0.0   0.134697\n",
       "..       ...     ...       ...   ...        ...\n",
       "59  200206.0    59.0      20.0   0.0     0.4973\n",
       "60  200206.0    60.0      20.0   0.0    0.55358\n",
       "61  200206.0    61.0      20.0   0.0   0.434416\n",
       "62  200206.0    62.0      20.0   0.0    0.48853\n",
       "63  200206.0    63.0      20.0   0.0   0.441675\n",
       "\n",
       "[64 rows x 5 columns]"
      ]
     },
     "execution_count": 15,
     "metadata": {},
     "output_type": "execute_result"
    }
   ],
   "source": [
    "norm.dataframe"
   ]
  },
  {
   "cell_type": "code",
   "execution_count": 11,
   "metadata": {},
   "outputs": [
    {
     "data": {
      "text/html": [
       "<div>\n",
       "<style scoped>\n",
       "    .dataframe tbody tr th:only-of-type {\n",
       "        vertical-align: middle;\n",
       "    }\n",
       "\n",
       "    .dataframe tbody tr th {\n",
       "        vertical-align: top;\n",
       "    }\n",
       "\n",
       "    .dataframe thead th {\n",
       "        text-align: right;\n",
       "    }\n",
       "</style>\n",
       "<table border=\"1\" class=\"dataframe\">\n",
       "  <thead>\n",
       "    <tr style=\"text-align: right;\">\n",
       "      <th></th>\n",
       "      <th>session</th>\n",
       "      <th>channel</th>\n",
       "      <th>bin_width</th>\n",
       "      <th>delay</th>\n",
       "      <th>normalizer</th>\n",
       "    </tr>\n",
       "  </thead>\n",
       "  <tbody>\n",
       "    <tr>\n",
       "      <th>0</th>\n",
       "      <td>200206.0</td>\n",
       "      <td>0.0</td>\n",
       "      <td>20.0</td>\n",
       "      <td>0.0</td>\n",
       "      <td>0.173893</td>\n",
       "    </tr>\n",
       "    <tr>\n",
       "      <th>1</th>\n",
       "      <td>200206.0</td>\n",
       "      <td>1.0</td>\n",
       "      <td>20.0</td>\n",
       "      <td>0.0</td>\n",
       "      <td>0.189700</td>\n",
       "    </tr>\n",
       "    <tr>\n",
       "      <th>2</th>\n",
       "      <td>200206.0</td>\n",
       "      <td>2.0</td>\n",
       "      <td>20.0</td>\n",
       "      <td>0.0</td>\n",
       "      <td>0.109464</td>\n",
       "    </tr>\n",
       "    <tr>\n",
       "      <th>3</th>\n",
       "      <td>200206.0</td>\n",
       "      <td>3.0</td>\n",
       "      <td>20.0</td>\n",
       "      <td>0.0</td>\n",
       "      <td>0.411408</td>\n",
       "    </tr>\n",
       "    <tr>\n",
       "      <th>4</th>\n",
       "      <td>200206.0</td>\n",
       "      <td>4.0</td>\n",
       "      <td>20.0</td>\n",
       "      <td>0.0</td>\n",
       "      <td>0.134697</td>\n",
       "    </tr>\n",
       "    <tr>\n",
       "      <th>...</th>\n",
       "      <td>...</td>\n",
       "      <td>...</td>\n",
       "      <td>...</td>\n",
       "      <td>...</td>\n",
       "      <td>...</td>\n",
       "    </tr>\n",
       "    <tr>\n",
       "      <th>59</th>\n",
       "      <td>200206.0</td>\n",
       "      <td>59.0</td>\n",
       "      <td>20.0</td>\n",
       "      <td>0.0</td>\n",
       "      <td>0.497300</td>\n",
       "    </tr>\n",
       "    <tr>\n",
       "      <th>60</th>\n",
       "      <td>200206.0</td>\n",
       "      <td>60.0</td>\n",
       "      <td>20.0</td>\n",
       "      <td>0.0</td>\n",
       "      <td>0.553580</td>\n",
       "    </tr>\n",
       "    <tr>\n",
       "      <th>61</th>\n",
       "      <td>200206.0</td>\n",
       "      <td>61.0</td>\n",
       "      <td>20.0</td>\n",
       "      <td>0.0</td>\n",
       "      <td>0.434416</td>\n",
       "    </tr>\n",
       "    <tr>\n",
       "      <th>62</th>\n",
       "      <td>200206.0</td>\n",
       "      <td>62.0</td>\n",
       "      <td>20.0</td>\n",
       "      <td>0.0</td>\n",
       "      <td>0.488530</td>\n",
       "    </tr>\n",
       "    <tr>\n",
       "      <th>63</th>\n",
       "      <td>200206.0</td>\n",
       "      <td>63.0</td>\n",
       "      <td>20.0</td>\n",
       "      <td>0.0</td>\n",
       "      <td>0.441675</td>\n",
       "    </tr>\n",
       "  </tbody>\n",
       "</table>\n",
       "<p>64 rows × 5 columns</p>\n",
       "</div>"
      ],
      "text/plain": [
       "     session  channel  bin_width  delay  normalizer\n",
       "0   200206.0      0.0       20.0    0.0    0.173893\n",
       "1   200206.0      1.0       20.0    0.0    0.189700\n",
       "2   200206.0      2.0       20.0    0.0    0.109464\n",
       "3   200206.0      3.0       20.0    0.0    0.411408\n",
       "4   200206.0      4.0       20.0    0.0    0.134697\n",
       "..       ...      ...        ...    ...         ...\n",
       "59  200206.0     59.0       20.0    0.0    0.497300\n",
       "60  200206.0     60.0       20.0    0.0    0.553580\n",
       "61  200206.0     61.0       20.0    0.0    0.434416\n",
       "62  200206.0     62.0       20.0    0.0    0.488530\n",
       "63  200206.0     63.0       20.0    0.0    0.441675\n",
       "\n",
       "[64 rows x 5 columns]"
      ]
     },
     "execution_count": 11,
     "metadata": {},
     "output_type": "execute_result"
    }
   ],
   "source": [
    "df"
   ]
  },
  {
   "cell_type": "code",
   "execution_count": 6,
   "metadata": {},
   "outputs": [
    {
     "data": {
      "text/html": [
       "<div>\n",
       "<style scoped>\n",
       "    .dataframe tbody tr th:only-of-type {\n",
       "        vertical-align: middle;\n",
       "    }\n",
       "\n",
       "    .dataframe tbody tr th {\n",
       "        vertical-align: top;\n",
       "    }\n",
       "\n",
       "    .dataframe thead th {\n",
       "        text-align: right;\n",
       "    }\n",
       "</style>\n",
       "<table border=\"1\" class=\"dataframe\">\n",
       "  <thead>\n",
       "    <tr style=\"text-align: right;\">\n",
       "      <th></th>\n",
       "      <th>session</th>\n",
       "      <th>channel</th>\n",
       "      <th>bin_width</th>\n",
       "      <th>delay</th>\n",
       "      <th>normalizer</th>\n",
       "    </tr>\n",
       "  </thead>\n",
       "  <tbody>\n",
       "  </tbody>\n",
       "</table>\n",
       "</div>"
      ],
      "text/plain": [
       "Empty DataFrame\n",
       "Columns: [session, channel, bin_width, delay, normalizer]\n",
       "Index: []"
      ]
     },
     "execution_count": 6,
     "metadata": {},
     "output_type": "execute_result"
    }
   ],
   "source": [
    "df"
   ]
  },
  {
   "cell_type": "code",
   "execution_count": 8,
   "metadata": {},
   "outputs": [],
   "source": [
    "filename = \"wave2letter_modified_normalizer2_corr_results.csv\"\n",
    "normalizer_file = os.path.join(saved_corr_dir, filename)\n",
    "data = pd.read_csv(normalizer_file)"
   ]
  },
  {
   "cell_type": "code",
   "execution_count": 10,
   "metadata": {},
   "outputs": [
    {
     "data": {
      "text/plain": [
       "'/depot/jgmakin/data/auditory_cortex/results/cross_validated_correlations'"
      ]
     },
     "execution_count": 10,
     "metadata": {},
     "output_type": "execute_result"
    }
   ],
   "source": [
    "saved_corr_dir"
   ]
  },
  {
   "cell_type": "code",
   "execution_count": 9,
   "metadata": {},
   "outputs": [
    {
     "data": {
      "text/html": [
       "<div>\n",
       "<style scoped>\n",
       "    .dataframe tbody tr th:only-of-type {\n",
       "        vertical-align: middle;\n",
       "    }\n",
       "\n",
       "    .dataframe tbody tr th {\n",
       "        vertical-align: top;\n",
       "    }\n",
       "\n",
       "    .dataframe thead th {\n",
       "        text-align: right;\n",
       "    }\n",
       "</style>\n",
       "<table border=\"1\" class=\"dataframe\">\n",
       "  <thead>\n",
       "    <tr style=\"text-align: right;\">\n",
       "      <th></th>\n",
       "      <th>session</th>\n",
       "      <th>layer</th>\n",
       "      <th>channel</th>\n",
       "      <th>bin_width</th>\n",
       "      <th>delay</th>\n",
       "      <th>train_cc_raw</th>\n",
       "      <th>test_cc_raw</th>\n",
       "      <th>normalizer</th>\n",
       "      <th>N_sents</th>\n",
       "      <th>opt_delays</th>\n",
       "    </tr>\n",
       "  </thead>\n",
       "  <tbody>\n",
       "    <tr>\n",
       "      <th>0</th>\n",
       "      <td>180420.0</td>\n",
       "      <td>0.0</td>\n",
       "      <td>0.0</td>\n",
       "      <td>20.0</td>\n",
       "      <td>0.0</td>\n",
       "      <td>0.036105</td>\n",
       "      <td>-0.007360</td>\n",
       "      <td>-0.006940</td>\n",
       "      <td>499.0</td>\n",
       "      <td>0.0</td>\n",
       "    </tr>\n",
       "    <tr>\n",
       "      <th>1</th>\n",
       "      <td>180420.0</td>\n",
       "      <td>0.0</td>\n",
       "      <td>1.0</td>\n",
       "      <td>20.0</td>\n",
       "      <td>0.0</td>\n",
       "      <td>0.046602</td>\n",
       "      <td>-0.016293</td>\n",
       "      <td>-0.024175</td>\n",
       "      <td>499.0</td>\n",
       "      <td>0.0</td>\n",
       "    </tr>\n",
       "    <tr>\n",
       "      <th>2</th>\n",
       "      <td>180420.0</td>\n",
       "      <td>0.0</td>\n",
       "      <td>2.0</td>\n",
       "      <td>20.0</td>\n",
       "      <td>0.0</td>\n",
       "      <td>0.045748</td>\n",
       "      <td>-0.016081</td>\n",
       "      <td>-0.024135</td>\n",
       "      <td>499.0</td>\n",
       "      <td>0.0</td>\n",
       "    </tr>\n",
       "    <tr>\n",
       "      <th>3</th>\n",
       "      <td>180420.0</td>\n",
       "      <td>0.0</td>\n",
       "      <td>3.0</td>\n",
       "      <td>20.0</td>\n",
       "      <td>0.0</td>\n",
       "      <td>0.046712</td>\n",
       "      <td>-0.011621</td>\n",
       "      <td>-0.024589</td>\n",
       "      <td>499.0</td>\n",
       "      <td>0.0</td>\n",
       "    </tr>\n",
       "    <tr>\n",
       "      <th>4</th>\n",
       "      <td>180420.0</td>\n",
       "      <td>0.0</td>\n",
       "      <td>4.0</td>\n",
       "      <td>20.0</td>\n",
       "      <td>0.0</td>\n",
       "      <td>0.045727</td>\n",
       "      <td>-0.011520</td>\n",
       "      <td>-0.024368</td>\n",
       "      <td>499.0</td>\n",
       "      <td>0.0</td>\n",
       "    </tr>\n",
       "    <tr>\n",
       "      <th>...</th>\n",
       "      <td>...</td>\n",
       "      <td>...</td>\n",
       "      <td>...</td>\n",
       "      <td>...</td>\n",
       "      <td>...</td>\n",
       "      <td>...</td>\n",
       "      <td>...</td>\n",
       "      <td>...</td>\n",
       "      <td>...</td>\n",
       "      <td>...</td>\n",
       "    </tr>\n",
       "    <tr>\n",
       "      <th>3833</th>\n",
       "      <td>180501.0</td>\n",
       "      <td>1.0</td>\n",
       "      <td>11.0</td>\n",
       "      <td>20.0</td>\n",
       "      <td>0.0</td>\n",
       "      <td>0.063529</td>\n",
       "      <td>0.016588</td>\n",
       "      <td>-0.012557</td>\n",
       "      <td>499.0</td>\n",
       "      <td>0.0</td>\n",
       "    </tr>\n",
       "    <tr>\n",
       "      <th>3834</th>\n",
       "      <td>180501.0</td>\n",
       "      <td>1.0</td>\n",
       "      <td>12.0</td>\n",
       "      <td>20.0</td>\n",
       "      <td>0.0</td>\n",
       "      <td>0.073001</td>\n",
       "      <td>0.018319</td>\n",
       "      <td>-0.013108</td>\n",
       "      <td>499.0</td>\n",
       "      <td>0.0</td>\n",
       "    </tr>\n",
       "    <tr>\n",
       "      <th>3835</th>\n",
       "      <td>180501.0</td>\n",
       "      <td>1.0</td>\n",
       "      <td>13.0</td>\n",
       "      <td>20.0</td>\n",
       "      <td>0.0</td>\n",
       "      <td>0.073247</td>\n",
       "      <td>0.019468</td>\n",
       "      <td>-0.022472</td>\n",
       "      <td>499.0</td>\n",
       "      <td>0.0</td>\n",
       "    </tr>\n",
       "    <tr>\n",
       "      <th>3836</th>\n",
       "      <td>180501.0</td>\n",
       "      <td>1.0</td>\n",
       "      <td>14.0</td>\n",
       "      <td>20.0</td>\n",
       "      <td>0.0</td>\n",
       "      <td>0.073651</td>\n",
       "      <td>0.018012</td>\n",
       "      <td>-0.013134</td>\n",
       "      <td>499.0</td>\n",
       "      <td>0.0</td>\n",
       "    </tr>\n",
       "    <tr>\n",
       "      <th>3837</th>\n",
       "      <td>180501.0</td>\n",
       "      <td>1.0</td>\n",
       "      <td>15.0</td>\n",
       "      <td>20.0</td>\n",
       "      <td>0.0</td>\n",
       "      <td>0.073579</td>\n",
       "      <td>0.020192</td>\n",
       "      <td>-0.025418</td>\n",
       "      <td>499.0</td>\n",
       "      <td>0.0</td>\n",
       "    </tr>\n",
       "  </tbody>\n",
       "</table>\n",
       "<p>3838 rows × 10 columns</p>\n",
       "</div>"
      ],
      "text/plain": [
       "       session  layer  channel  ...  normalizer  N_sents  opt_delays\n",
       "0     180420.0    0.0      0.0  ...   -0.006940    499.0         0.0\n",
       "1     180420.0    0.0      1.0  ...   -0.024175    499.0         0.0\n",
       "2     180420.0    0.0      2.0  ...   -0.024135    499.0         0.0\n",
       "3     180420.0    0.0      3.0  ...   -0.024589    499.0         0.0\n",
       "4     180420.0    0.0      4.0  ...   -0.024368    499.0         0.0\n",
       "...        ...    ...      ...  ...         ...      ...         ...\n",
       "3833  180501.0    1.0     11.0  ...   -0.012557    499.0         0.0\n",
       "3834  180501.0    1.0     12.0  ...   -0.013108    499.0         0.0\n",
       "3835  180501.0    1.0     13.0  ...   -0.022472    499.0         0.0\n",
       "3836  180501.0    1.0     14.0  ...   -0.013134    499.0         0.0\n",
       "3837  180501.0    1.0     15.0  ...   -0.025418    499.0         0.0\n",
       "\n",
       "[3838 rows x 10 columns]"
      ]
     },
     "execution_count": 9,
     "metadata": {},
     "output_type": "execute_result"
    }
   ],
   "source": [
    "data"
   ]
  },
  {
   "cell_type": "code",
   "execution_count": 2,
   "metadata": {},
   "outputs": [],
   "source": [
    "corr_obj = Correlations(\"wave2letter_modified_normalizer2\")"
   ]
  },
  {
   "cell_type": "code",
   "execution_count": 4,
   "metadata": {},
   "outputs": [
    {
     "data": {
      "text/html": [
       "<div>\n",
       "<style scoped>\n",
       "    .dataframe tbody tr th:only-of-type {\n",
       "        vertical-align: middle;\n",
       "    }\n",
       "\n",
       "    .dataframe tbody tr th {\n",
       "        vertical-align: top;\n",
       "    }\n",
       "\n",
       "    .dataframe thead th {\n",
       "        text-align: right;\n",
       "    }\n",
       "</style>\n",
       "<table border=\"1\" class=\"dataframe\">\n",
       "  <thead>\n",
       "    <tr style=\"text-align: right;\">\n",
       "      <th></th>\n",
       "      <th>session</th>\n",
       "      <th>layer</th>\n",
       "      <th>channel</th>\n",
       "      <th>bin_width</th>\n",
       "      <th>delay</th>\n",
       "      <th>train_cc_raw</th>\n",
       "      <th>test_cc_raw</th>\n",
       "      <th>normalizer</th>\n",
       "      <th>N_sents</th>\n",
       "      <th>opt_delays</th>\n",
       "      <th>normalized_test_cc</th>\n",
       "    </tr>\n",
       "  </thead>\n",
       "  <tbody>\n",
       "    <tr>\n",
       "      <th>3354</th>\n",
       "      <td>200206.0</td>\n",
       "      <td>0.0</td>\n",
       "      <td>0.0</td>\n",
       "      <td>20.0</td>\n",
       "      <td>0.0</td>\n",
       "      <td>0.093445</td>\n",
       "      <td>0.071359</td>\n",
       "      <td>0.183260</td>\n",
       "      <td>499.0</td>\n",
       "      <td>0.0</td>\n",
       "      <td>0.166692</td>\n",
       "    </tr>\n",
       "    <tr>\n",
       "      <th>3355</th>\n",
       "      <td>200206.0</td>\n",
       "      <td>0.0</td>\n",
       "      <td>1.0</td>\n",
       "      <td>20.0</td>\n",
       "      <td>0.0</td>\n",
       "      <td>0.054043</td>\n",
       "      <td>0.013222</td>\n",
       "      <td>0.221996</td>\n",
       "      <td>499.0</td>\n",
       "      <td>0.0</td>\n",
       "      <td>0.028063</td>\n",
       "    </tr>\n",
       "    <tr>\n",
       "      <th>3356</th>\n",
       "      <td>200206.0</td>\n",
       "      <td>0.0</td>\n",
       "      <td>2.0</td>\n",
       "      <td>20.0</td>\n",
       "      <td>0.0</td>\n",
       "      <td>0.038743</td>\n",
       "      <td>0.003472</td>\n",
       "      <td>0.139223</td>\n",
       "      <td>499.0</td>\n",
       "      <td>0.0</td>\n",
       "      <td>0.009306</td>\n",
       "    </tr>\n",
       "    <tr>\n",
       "      <th>3357</th>\n",
       "      <td>200206.0</td>\n",
       "      <td>0.0</td>\n",
       "      <td>3.0</td>\n",
       "      <td>20.0</td>\n",
       "      <td>0.0</td>\n",
       "      <td>0.085172</td>\n",
       "      <td>0.041210</td>\n",
       "      <td>0.413683</td>\n",
       "      <td>499.0</td>\n",
       "      <td>0.0</td>\n",
       "      <td>0.064072</td>\n",
       "    </tr>\n",
       "    <tr>\n",
       "      <th>3358</th>\n",
       "      <td>200206.0</td>\n",
       "      <td>0.0</td>\n",
       "      <td>4.0</td>\n",
       "      <td>20.0</td>\n",
       "      <td>0.0</td>\n",
       "      <td>0.077916</td>\n",
       "      <td>0.061912</td>\n",
       "      <td>0.122561</td>\n",
       "      <td>499.0</td>\n",
       "      <td>0.0</td>\n",
       "      <td>0.176847</td>\n",
       "    </tr>\n",
       "    <tr>\n",
       "      <th>...</th>\n",
       "      <td>...</td>\n",
       "      <td>...</td>\n",
       "      <td>...</td>\n",
       "      <td>...</td>\n",
       "      <td>...</td>\n",
       "      <td>...</td>\n",
       "      <td>...</td>\n",
       "      <td>...</td>\n",
       "      <td>...</td>\n",
       "      <td>...</td>\n",
       "      <td>...</td>\n",
       "    </tr>\n",
       "    <tr>\n",
       "      <th>3477</th>\n",
       "      <td>200206.0</td>\n",
       "      <td>1.0</td>\n",
       "      <td>59.0</td>\n",
       "      <td>20.0</td>\n",
       "      <td>0.0</td>\n",
       "      <td>0.391983</td>\n",
       "      <td>0.372889</td>\n",
       "      <td>0.506141</td>\n",
       "      <td>499.0</td>\n",
       "      <td>0.0</td>\n",
       "      <td>0.524135</td>\n",
       "    </tr>\n",
       "    <tr>\n",
       "      <th>3478</th>\n",
       "      <td>200206.0</td>\n",
       "      <td>1.0</td>\n",
       "      <td>60.0</td>\n",
       "      <td>20.0</td>\n",
       "      <td>0.0</td>\n",
       "      <td>0.361155</td>\n",
       "      <td>0.341689</td>\n",
       "      <td>0.579529</td>\n",
       "      <td>499.0</td>\n",
       "      <td>0.0</td>\n",
       "      <td>0.448842</td>\n",
       "    </tr>\n",
       "    <tr>\n",
       "      <th>3479</th>\n",
       "      <td>200206.0</td>\n",
       "      <td>1.0</td>\n",
       "      <td>61.0</td>\n",
       "      <td>20.0</td>\n",
       "      <td>0.0</td>\n",
       "      <td>0.214622</td>\n",
       "      <td>0.170872</td>\n",
       "      <td>0.445747</td>\n",
       "      <td>499.0</td>\n",
       "      <td>0.0</td>\n",
       "      <td>0.255933</td>\n",
       "    </tr>\n",
       "    <tr>\n",
       "      <th>3480</th>\n",
       "      <td>200206.0</td>\n",
       "      <td>1.0</td>\n",
       "      <td>62.0</td>\n",
       "      <td>20.0</td>\n",
       "      <td>0.0</td>\n",
       "      <td>0.369474</td>\n",
       "      <td>0.340756</td>\n",
       "      <td>0.550849</td>\n",
       "      <td>499.0</td>\n",
       "      <td>0.0</td>\n",
       "      <td>0.459120</td>\n",
       "    </tr>\n",
       "    <tr>\n",
       "      <th>3481</th>\n",
       "      <td>200206.0</td>\n",
       "      <td>1.0</td>\n",
       "      <td>63.0</td>\n",
       "      <td>20.0</td>\n",
       "      <td>0.0</td>\n",
       "      <td>0.349421</td>\n",
       "      <td>0.326663</td>\n",
       "      <td>0.457740</td>\n",
       "      <td>499.0</td>\n",
       "      <td>0.0</td>\n",
       "      <td>0.482826</td>\n",
       "    </tr>\n",
       "  </tbody>\n",
       "</table>\n",
       "<p>128 rows × 11 columns</p>\n",
       "</div>"
      ],
      "text/plain": [
       "       session  layer  channel  ...  N_sents  opt_delays  normalized_test_cc\n",
       "3354  200206.0    0.0      0.0  ...    499.0         0.0            0.166692\n",
       "3355  200206.0    0.0      1.0  ...    499.0         0.0            0.028063\n",
       "3356  200206.0    0.0      2.0  ...    499.0         0.0            0.009306\n",
       "3357  200206.0    0.0      3.0  ...    499.0         0.0            0.064072\n",
       "3358  200206.0    0.0      4.0  ...    499.0         0.0            0.176847\n",
       "...        ...    ...      ...  ...      ...         ...                 ...\n",
       "3477  200206.0    1.0     59.0  ...    499.0         0.0            0.524135\n",
       "3478  200206.0    1.0     60.0  ...    499.0         0.0            0.448842\n",
       "3479  200206.0    1.0     61.0  ...    499.0         0.0            0.255933\n",
       "3480  200206.0    1.0     62.0  ...    499.0         0.0            0.459120\n",
       "3481  200206.0    1.0     63.0  ...    499.0         0.0            0.482826\n",
       "\n",
       "[128 rows x 11 columns]"
      ]
     },
     "execution_count": 4,
     "metadata": {},
     "output_type": "execute_result"
    }
   ],
   "source": [
    "corr_obj.data[corr_obj.data['session']==200206]"
   ]
  },
  {
   "cell_type": "markdown",
   "metadata": {},
   "source": [
    "### rest of the code.."
   ]
  },
  {
   "cell_type": "code",
   "execution_count": null,
   "metadata": {},
   "outputs": [],
   "source": [
    "import numpy as np\n",
    "from auditory_cortex.dataset import NeuralData\n",
    "from auditory_cortex import utils, config, results_dir\n",
    "\n",
    "import seaborn as sns\n",
    "import matplotlib.pylab as plt\n",
    "def plot_medians(norm_dist, ch):\n",
    "    normalizer_medians = []\n",
    "    normalizer_dev = []\n",
    "    num_sents_list = []\n",
    "    for k,v in norm_dist.items():\n",
    "        normalizer_medians.append(np.median(v[:,ch]))\n",
    "        normalizer_dev.append(np.std(v[:,ch]))\n",
    "        num_sents_list.append(k)\n",
    "    plt.plot(num_sents_list, normalizer_medians)\n",
    "    # sns.lineplot(x=num_sents_list, y=normalizer_medians, errorbar=normalizer_dev)\n",
    "    plt.title(f\"Median normalizers: session-{session}, ch-{ch}\")\n",
    "\n",
    "def compute_normalizer_dist(dataset, num_sents=5, n_itr = 10000, bin_width = 20, delay=0):\n",
    "    \"\"\"Compute distribution of normalizer using given number of \n",
    "    sents (having repeated trials)\"\"\"\n",
    "    sents = np.array([12,13,32,43,56,163,212,218,287,308])\n",
    "    if num_sents > sents.size:\n",
    "        num_sents = sents.size\n",
    "        print(f\"At max {num_sents} sents can be used.\")\n",
    "\n",
    "    sent_ids = np.random.choice(sents, size=num_sents, replace=False)\n",
    "    # ids = np.random.randint(len(sents), size=num_sents)\n",
    "    # sent_ids = np.array(sents)[ids]\n",
    "\n",
    "    all_repeated_trials = dataset.get_repeated_trials(sents=sent_ids, bin_width=bin_width, delay=delay)\n",
    "    normalizer_dist = utils.inter_trial_corr(all_repeated_trials, n=n_itr)\n",
    "\n",
    "    return normalizer_dist\n"
   ]
  },
  {
   "cell_type": "code",
   "execution_count": 2,
   "metadata": {},
   "outputs": [
    {
     "name": "stdout",
     "output_type": "stream",
     "text": [
      "Loading Neural data for session: 200206 ... Done.\n"
     ]
    }
   ],
   "source": [
    "data_dir = config['neural_data_dir']\n",
    "session = '200206'\n",
    "dataset = NeuralData(data_dir, session)"
   ]
  },
  {
   "cell_type": "code",
   "execution_count": 3,
   "metadata": {},
   "outputs": [],
   "source": [
    "normalizer_dist = {}\n",
    "num_sents_list = [2,3,4,5,6,7,8,9,10]\n",
    "for num_sents in num_sents_list:\n",
    "    dist = compute_normalizer_dist(dataset=dataset, num_sents=num_sents)\n",
    "    normalizer_dist[num_sents] = dist"
   ]
  },
  {
   "cell_type": "code",
   "execution_count": 8,
   "metadata": {},
   "outputs": [
    {
     "data": {
      "image/png": "[encoded data removed]",
      "text/plain": [
       "<Figure size 432x288 with 1 Axes>"
      ]
     },
     "metadata": {
      "needs_background": "light"
     },
     "output_type": "display_data"
    }
   ],
   "source": [
    "ch = 32\n",
    "plot_medians(normalizer_dist, ch)"
   ]
  },
  {
   "cell_type": "code",
   "execution_count": 9,
   "metadata": {},
   "outputs": [
    {
     "data": {
      "image/png": "[encoded data removed]",
      "text/plain": [
       "<Figure size 432x288 with 1 Axes>"
      ]
     },
     "metadata": {
      "needs_background": "light"
     },
     "output_type": "display_data"
    }
   ],
   "source": [
    "ch = 62\n",
    "plot_medians(normalizer_dist, ch)"
   ]
  },
  {
   "cell_type": "code",
   "execution_count": 25,
   "metadata": {},
   "outputs": [
    {
     "data": {
      "image/png": "[encoded data removed]",
      "text/plain": [
       "<Figure size 432x288 with 1 Axes>"
      ]
     },
     "metadata": {
      "needs_background": "light"
     },
     "output_type": "display_data"
    }
   ],
   "source": [
    "ch = 10\n",
    "plot_medians(normalizer_dist, ch)"
   ]
  },
  {
   "cell_type": "code",
   "execution_count": 11,
   "metadata": {},
   "outputs": [
    {
     "data": {
      "image/png": "[encoded data removed]",
      "text/plain": [
       "<Figure size 432x288 with 1 Axes>"
      ]
     },
     "metadata": {
      "needs_background": "light"
     },
     "output_type": "display_data"
    }
   ],
   "source": [
    "ch = 24\n",
    "plot_medians(normalizer_dist, ch)"
   ]
  },
  {
   "cell_type": "code",
   "execution_count": 12,
   "metadata": {},
   "outputs": [
    {
     "data": {
      "image/png": "[encoded data removed]",
      "text/plain": [
       "<Figure size 432x288 with 1 Axes>"
      ]
     },
     "metadata": {
      "needs_background": "light"
     },
     "output_type": "display_data"
    }
   ],
   "source": [
    "ch = 17\n",
    "plot_medians(normalizer_dist, ch)"
   ]
  },
  {
   "cell_type": "markdown",
   "metadata": {},
   "source": [
    "### save distribution..."
   ]
  },
  {
   "cell_type": "code",
   "execution_count": 15,
   "metadata": {},
   "outputs": [],
   "source": [
    "import os\n",
    "path = os.path.join(results_dir, f'normalizers_dict_session_{session}.npy')\n",
    "np.save(path, normalizer_dist)"
   ]
  },
  {
   "cell_type": "markdown",
   "metadata": {},
   "source": [
    "### load distribution..."
   ]
  },
  {
   "cell_type": "code",
   "execution_count": 17,
   "metadata": {},
   "outputs": [],
   "source": [
    "session = 200206\n",
    "path = os.path.join(results_dir, f'normalizers_dict_session_{session}.npy')\n",
    "norm_dist = np.load(path, allow_pickle=True)"
   ]
  },
  {
   "cell_type": "code",
   "execution_count": 21,
   "metadata": {},
   "outputs": [
    {
     "data": {
      "text/plain": [
       "0.7530194152772853"
      ]
     },
     "execution_count": 21,
     "metadata": {},
     "output_type": "execute_result"
    }
   ],
   "source": [
    "a = np.random.randn(10)\n",
    "b = np.random.randn(10)\n",
    "\n",
    "np.corrcoef(a,b)[0,1]"
   ]
  },
  {
   "cell_type": "code",
   "execution_count": null,
   "metadata": {},
   "outputs": [],
   "source": []
  },
  {
   "cell_type": "code",
   "execution_count": null,
   "metadata": {},
   "outputs": [],
   "source": [
    "\n",
    "normalizer_medians = []\n",
    "ch = 32\n",
    "for k,v in normalizer_dist.items():\n",
    "    normalizer_medians.append(np.median(v[:,ch]))\n",
    "plt.plot(normalizer_medians)\n",
    "plt.title(f\"Median normalizers: session-{session}, ch-{ch}\")\n",
    "\n",
    "\n"
   ]
  },
  {
   "cell_type": "code",
   "execution_count": 6,
   "metadata": {},
   "outputs": [],
   "source": []
  },
  {
   "cell_type": "code",
   "execution_count": 7,
   "metadata": {},
   "outputs": [
    {
     "data": {
      "image/png": "[encoded data removed]",
      "text/plain": [
       "<Figure size 432x288 with 1 Axes>"
      ]
     },
     "metadata": {
      "needs_background": "light"
     },
     "output_type": "display_data"
    }
   ],
   "source": []
  },
  {
   "cell_type": "code",
   "execution_count": 18,
   "metadata": {},
   "outputs": [],
   "source": [
    "medians = np.median(normalizer_dist, axis=0)"
   ]
  },
  {
   "cell_type": "code",
   "execution_count": 19,
   "metadata": {},
   "outputs": [
    {
     "data": {
      "text/plain": [
       "0.6601224200435402"
      ]
     },
     "execution_count": 19,
     "metadata": {},
     "output_type": "execute_result"
    }
   ],
   "source": [
    "medians[32]"
   ]
  },
  {
   "cell_type": "code",
   "execution_count": null,
   "metadata": {},
   "outputs": [],
   "source": []
  }
 ],
 "metadata": {
  "kernelspec": {
   "display_name": "Python (My wav2letter Kernel)",
   "language": "python",
   "name": "wav2letter"
  },
  "language_info": {
   "codemirror_mode": {
    "name": "ipython",
    "version": 3
   },
   "file_extension": ".py",
   "mimetype": "text/x-python",
   "name": "python",
   "nbconvert_exporter": "python",
   "pygments_lexer": "ipython3",
   "version": "3.8.5"
  },
  "orig_nbformat": 4
 },
 "nbformat": 4,
 "nbformat_minor": 2
}
