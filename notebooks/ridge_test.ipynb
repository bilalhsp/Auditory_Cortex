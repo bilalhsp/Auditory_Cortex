{
 "cells": [
  {
   "cell_type": "code",
   "execution_count": 1,
   "metadata": {},
   "outputs": [
    {
     "name": "stderr",
     "output_type": "stream",
     "text": [
      "/home/akamsali/anaconda3/envs/research_env/lib/python3.8/site-packages/torch/_tensor.py:575: UserWarning: floor_divide is deprecated, and will be removed in a future version of pytorch. It currently rounds toward 0 (like the 'trunc' function NOT 'floor'). This results in incorrect rounding for negative values.\n",
      "To keep the current behavior, use torch.div(a, b, rounding_mode='trunc'), or for actual floor division, use torch.div(a, b, rounding_mode='floor'). (Triggered internally at  /opt/conda/conda-bld/pytorch_1631630815121/work/aten/src/ATen/native/BinaryOps.cpp:467.)\n",
      "  return torch.floor_divide(self, other)\n"
     ]
    },
    {
     "ename": "KeyboardInterrupt",
     "evalue": "",
     "output_type": "error",
     "traceback": [
      "\u001b[0;31m---------------------------------------------------------------------------\u001b[0m",
      "\u001b[0;31mKeyboardInterrupt\u001b[0m                         Traceback (most recent call last)",
      "\u001b[0;32m<ipython-input-1-19859d3e331c>\u001b[0m in \u001b[0;36m<module>\u001b[0;34m\u001b[0m\n\u001b[1;32m     45\u001b[0m \u001b[0;34m\u001b[0m\u001b[0m\n\u001b[1;32m     46\u001b[0m \u001b[0mk_val_train\u001b[0m \u001b[0;34m,\u001b[0m \u001b[0mdef_w_train\u001b[0m\u001b[0;34m,\u001b[0m \u001b[0moffset_train\u001b[0m\u001b[0;34m,\u001b[0m \u001b[0mz_vals_train\u001b[0m \u001b[0;34m=\u001b[0m \u001b[0mreg\u001b[0m\u001b[0;34m.\u001b[0m\u001b[0mget_layer_values\u001b[0m\u001b[0;34m(\u001b[0m\u001b[0mlayer\u001b[0m\u001b[0;34m=\u001b[0m\u001b[0ml\u001b[0m\u001b[0;34m,\u001b[0m \u001b[0mwin\u001b[0m\u001b[0;34m=\u001b[0m\u001b[0mw\u001b[0m\u001b[0;34m,\u001b[0m \u001b[0msent_list\u001b[0m\u001b[0;34m=\u001b[0m\u001b[0mtrain_list\u001b[0m\u001b[0;34m)\u001b[0m\u001b[0;34m\u001b[0m\u001b[0;34m\u001b[0m\u001b[0m\n\u001b[0;32m---> 47\u001b[0;31m \u001b[0mn_vals_train\u001b[0m \u001b[0;34m=\u001b[0m \u001b[0mreg\u001b[0m\u001b[0;34m.\u001b[0m\u001b[0mget_all_channels\u001b[0m\u001b[0;34m(\u001b[0m\u001b[0mdef_w\u001b[0m\u001b[0;34m=\u001b[0m\u001b[0mdef_w_train\u001b[0m\u001b[0;34m,\u001b[0m \u001b[0moffset\u001b[0m\u001b[0;34m=\u001b[0m\u001b[0moffset_train\u001b[0m\u001b[0;34m,\u001b[0m \u001b[0mk_val\u001b[0m\u001b[0;34m=\u001b[0m\u001b[0mk_val_train\u001b[0m\u001b[0;34m,\u001b[0m \u001b[0msent_list\u001b[0m\u001b[0;34m=\u001b[0m\u001b[0mtrain_list\u001b[0m\u001b[0;34m)\u001b[0m\u001b[0;34m\u001b[0m\u001b[0;34m\u001b[0m\u001b[0m\n\u001b[0m\u001b[1;32m     48\u001b[0m \u001b[0;34m\u001b[0m\u001b[0m\n\u001b[1;32m     49\u001b[0m \u001b[0mridge_model_sk\u001b[0m \u001b[0;34m=\u001b[0m \u001b[0mLinearRegression\u001b[0m\u001b[0;34m(\u001b[0m\u001b[0;34m)\u001b[0m\u001b[0;34m\u001b[0m\u001b[0;34m\u001b[0m\u001b[0m\n",
      "\u001b[0;32m/scratch/gilbreth/akamsali/Research/Makin/Auditory_Cortex/auditory_cortex/Regression.py\u001b[0m in \u001b[0;36mget_all_channels\u001b[0;34m(self, def_w, offset, delay, k_val, sent_list)\u001b[0m\n\u001b[1;32m    549\u001b[0m                 \u001b[0mn_all_channel\u001b[0m \u001b[0;34m=\u001b[0m \u001b[0;34m[\u001b[0m\u001b[0;34m]\u001b[0m\u001b[0;34m\u001b[0m\u001b[0;34m\u001b[0m\u001b[0m\n\u001b[1;32m    550\u001b[0m                 \u001b[0;32mfor\u001b[0m \u001b[0mchannel\u001b[0m \u001b[0;32min\u001b[0m \u001b[0mrange\u001b[0m\u001b[0;34m(\u001b[0m\u001b[0mself\u001b[0m\u001b[0;34m.\u001b[0m\u001b[0mdataset\u001b[0m\u001b[0;34m.\u001b[0m\u001b[0mnum_channels\u001b[0m\u001b[0;34m)\u001b[0m\u001b[0;34m:\u001b[0m\u001b[0;34m\u001b[0m\u001b[0;34m\u001b[0m\u001b[0m\n\u001b[0;32m--> 551\u001b[0;31m                         \u001b[0mn\u001b[0m \u001b[0;34m=\u001b[0m \u001b[0mself\u001b[0m\u001b[0;34m.\u001b[0m\u001b[0msimply_spikes\u001b[0m\u001b[0;34m(\u001b[0m\u001b[0mch\u001b[0m\u001b[0;34m=\u001b[0m\u001b[0mchannel\u001b[0m\u001b[0;34m,\u001b[0m \u001b[0mdelay\u001b[0m\u001b[0;34m=\u001b[0m\u001b[0mdelay\u001b[0m\u001b[0;34m,\u001b[0m \u001b[0mw\u001b[0m\u001b[0;34m=\u001b[0m\u001b[0mdef_w\u001b[0m\u001b[0;34m,\u001b[0m \u001b[0moffset\u001b[0m\u001b[0;34m=\u001b[0m\u001b[0moffset\u001b[0m\u001b[0;34m,\u001b[0m \u001b[0msent_list\u001b[0m\u001b[0;34m=\u001b[0m\u001b[0msent_list\u001b[0m\u001b[0;34m)\u001b[0m\u001b[0;34m\u001b[0m\u001b[0;34m\u001b[0m\u001b[0m\n\u001b[0m\u001b[1;32m    552\u001b[0m                         \u001b[0;32mif\u001b[0m \u001b[0mk_val\u001b[0m\u001b[0;34m>\u001b[0m\u001b[0;36m1\u001b[0m\u001b[0;34m:\u001b[0m\u001b[0;34m\u001b[0m\u001b[0;34m\u001b[0m\u001b[0m\n\u001b[1;32m    553\u001b[0m                                 \u001b[0mn\u001b[0m \u001b[0;34m=\u001b[0m \u001b[0mself\u001b[0m\u001b[0;34m.\u001b[0m\u001b[0mdown_sample_spikes\u001b[0m\u001b[0;34m(\u001b[0m\u001b[0mn\u001b[0m\u001b[0;34m,\u001b[0m \u001b[0mk_val\u001b[0m\u001b[0;34m)\u001b[0m\u001b[0;34m\u001b[0m\u001b[0;34m\u001b[0m\u001b[0m\n",
      "\u001b[0;32m/scratch/gilbreth/akamsali/Research/Makin/Auditory_Cortex/auditory_cortex/Regression.py\u001b[0m in \u001b[0;36msimply_spikes\u001b[0;34m(self, sent_list, ch, w, delay, offset)\u001b[0m\n\u001b[1;32m     54\u001b[0m                 \u001b[0mspikes\u001b[0m \u001b[0;34m=\u001b[0m\u001b[0;34m{\u001b[0m\u001b[0;34m}\u001b[0m\u001b[0;34m\u001b[0m\u001b[0;34m\u001b[0m\u001b[0m\n\u001b[1;32m     55\u001b[0m                 \u001b[0;32mfor\u001b[0m \u001b[0mx\u001b[0m\u001b[0;34m,\u001b[0m\u001b[0mi\u001b[0m \u001b[0;32min\u001b[0m \u001b[0menumerate\u001b[0m\u001b[0;34m(\u001b[0m\u001b[0msent_list\u001b[0m\u001b[0;34m)\u001b[0m\u001b[0;34m:\u001b[0m\u001b[0;34m\u001b[0m\u001b[0;34m\u001b[0m\u001b[0m\n\u001b[0;32m---> 56\u001b[0;31m \t\t\tspikes[i] = torch.tensor(self.dataset.retrieve_spike_counts(sent=i,win=w,delay=delay,early_spikes=False,model=self.model_name,\n\u001b[0m\u001b[1;32m     57\u001b[0m \t\t\t\t\t\t\t\t\t\t\t\t\t\t\t\t\toffset=offset)[ch])\n\u001b[1;32m     58\u001b[0m                 \u001b[0;31m# self.spikes_dict = spikes\u001b[0m\u001b[0;34m\u001b[0m\u001b[0;34m\u001b[0m\u001b[0;34m\u001b[0m\u001b[0m\n",
      "\u001b[0;32m/scratch/gilbreth/akamsali/Research/Makin/Auditory_Cortex/auditory_cortex/Dataset.py\u001b[0m in \u001b[0;36mretrieve_spike_counts\u001b[0;34m(self, sent, trial, win, delay, early_spikes, model, offset)\u001b[0m\n\u001b[1;32m    228\u001b[0m     \u001b[0ms_times\u001b[0m \u001b[0;34m=\u001b[0m \u001b[0mself\u001b[0m\u001b[0;34m.\u001b[0m\u001b[0mretrieve_spike_times\u001b[0m\u001b[0;34m(\u001b[0m\u001b[0msent\u001b[0m\u001b[0;34m=\u001b[0m\u001b[0msent\u001b[0m\u001b[0;34m,\u001b[0m \u001b[0mtrial\u001b[0m\u001b[0;34m=\u001b[0m\u001b[0mtrial\u001b[0m\u001b[0;34m,\u001b[0m \u001b[0mearly_spikes\u001b[0m \u001b[0;34m=\u001b[0m \u001b[0mearly_spikes\u001b[0m\u001b[0;34m)\u001b[0m\u001b[0;34m\u001b[0m\u001b[0;34m\u001b[0m\u001b[0m\n\u001b[1;32m    229\u001b[0m     \u001b[0;31m#return spikes count in each bin\u001b[0m\u001b[0;34m\u001b[0m\u001b[0;34m\u001b[0m\u001b[0;34m\u001b[0m\u001b[0m\n\u001b[0;32m--> 230\u001b[0;31m     output = self.create_bins(s_times, sent=sent, trial=trial, win = win,delay=delay, early_spikes = early_spikes, model=model,\n\u001b[0m\u001b[1;32m    231\u001b[0m                               offset=offset)\n\u001b[1;32m    232\u001b[0m \u001b[0;34m\u001b[0m\u001b[0m\n",
      "\u001b[0;32m/scratch/gilbreth/akamsali/Research/Makin/Auditory_Cortex/auditory_cortex/Dataset.py\u001b[0m in \u001b[0;36mcreate_bins\u001b[0;34m(self, s_times, sent, trial, win, delay, early_spikes, model, offset)\u001b[0m\n\u001b[1;32m    195\u001b[0m       \u001b[0;32mfor\u001b[0m \u001b[0mval\u001b[0m \u001b[0;32min\u001b[0m \u001b[0ms_times\u001b[0m\u001b[0;34m[\u001b[0m\u001b[0mi\u001b[0m\u001b[0;34m]\u001b[0m\u001b[0;34m:\u001b[0m\u001b[0;34m\u001b[0m\u001b[0;34m\u001b[0m\u001b[0m\n\u001b[1;32m    196\u001b[0m         \u001b[0;32mif\u001b[0m \u001b[0mval\u001b[0m \u001b[0;34m<\u001b[0m \u001b[0;34m(\u001b[0m\u001b[0mtmp\u001b[0m\u001b[0;34m.\u001b[0m\u001b[0msize\u001b[0m \u001b[0;34m*\u001b[0m \u001b[0mwin\u001b[0m \u001b[0;34m+\u001b[0m \u001b[0mdelay\u001b[0m\u001b[0;34m)\u001b[0m\u001b[0;34m:\u001b[0m\u001b[0;34m\u001b[0m\u001b[0;34m\u001b[0m\u001b[0m\n\u001b[0;32m--> 197\u001b[0;31m           \u001b[0;32mif\u001b[0m \u001b[0;34m(\u001b[0m\u001b[0mval\u001b[0m\u001b[0;34m<=\u001b[0m \u001b[0men\u001b[0m \u001b[0;32mand\u001b[0m \u001b[0mval\u001b[0m\u001b[0;34m>\u001b[0m\u001b[0mst\u001b[0m\u001b[0;34m)\u001b[0m\u001b[0;34m:\u001b[0m\u001b[0;34m\u001b[0m\u001b[0;34m\u001b[0m\u001b[0m\n\u001b[0m\u001b[1;32m    198\u001b[0m             \u001b[0mtmp\u001b[0m\u001b[0;34m[\u001b[0m\u001b[0mj\u001b[0m\u001b[0;34m]\u001b[0m \u001b[0;34m+=\u001b[0m \u001b[0;36m1\u001b[0m\u001b[0;34m\u001b[0m\u001b[0;34m\u001b[0m\u001b[0m\n\u001b[1;32m    199\u001b[0m \u001b[0;34m\u001b[0m\u001b[0m\n",
      "\u001b[0;31mKeyboardInterrupt\u001b[0m: "
     ]
    }
   ],
   "source": [
    "from auditory_cortex.Regression import transformer_regression\n",
    "from auditory_cortex.ridge_regression import RidgeRegression \n",
    "\n",
    "\n",
    "import sys\n",
    "import yaml\n",
    "from yaml import Loader\n",
    "import numpy as np\n",
    "from sklearn.linear_model import LinearRegression\n",
    "from sklearn.metrics import r2_score\n",
    "# from sklearn.model_selection import KFold\n",
    "import time\n",
    "import csv\n",
    "\n",
    "\n",
    "conf_path = '/scratch/gilbreth/akamsali/Research/Makin/Auditory_Cortex/conf/ridge_conf.yaml'\n",
    "\n",
    "# conf_path = '/Users/akshita/Documents/Research/Makin/Auditory_Cortex/conf/ridge_conf.yaml'\n",
    "with open(conf_path, \"r\") as f:\n",
    "    manifest = yaml.load(f, Loader=Loader)\n",
    "\n",
    "data_path = manifest['data_path']\n",
    "subject = manifest['sub']\n",
    "output_dir = manifest['output_dir']\n",
    "\n",
    "# data_path = '/Users/akshita/Documents/Research/Makin/data'\n",
    "# subject = '200206'\n",
    "# output_dir = '/Users/akshita/Documents/Research/Makin/Auditory_Cortex'\n",
    "\n",
    "reg = transformer_regression(data_path, subject)\n",
    "\n",
    "test_list = np.arange(450,499).tolist()\n",
    "# train_val_list = np.arange(1,450)\n",
    "train_list = np.arange(1,450).tolist()\n",
    "w = 80\n",
    "sp = 1\n",
    "num_layers = len(reg.layers)\n",
    "\n",
    "# alpha = 1\n",
    "# for l in range(num_layers):\n",
    "l = 0\n",
    "\n",
    "k_val_test , def_w_test, offset_test, z_vals_test = reg.get_layer_values(l, win=w, sent_list=test_list)\n",
    "n_vals_test = reg.get_all_channels(def_w=def_w_test, offset=offset_test, k_val=k_val_test, sent_list=test_list)\n",
    "\n",
    "k_val_train , def_w_train, offset_train, z_vals_train = reg.get_layer_values(layer=l, win=w, sent_list=train_list)\n",
    "n_vals_train = reg.get_all_channels(def_w=def_w_train, offset=offset_train, k_val=k_val_train, sent_list=train_list)\n",
    "\n",
    "ridge_model_sk = LinearRegression()\n",
    "ridge_model_sk.fit(z_vals_train, n_vals_train)\n",
    "y_hat_train = ridge_model_sk.predict(z_vals_train)\n",
    "# y_hat_val = ridge_model.predict(x_val)\n",
    "y_hat_test = ridge_model_sk.predict(n_vals_test)\n",
    "\n",
    "# ridge_model = RidgeRegression(alpha=alpha)\n",
    "# ridge_model.fit(z_vals_train, n_vals_train)\n",
    "# n_hat_train = ridge_model.predict(z_vals_train)\n",
    "# n_hat_test = ridge_model.predict(z_vals_test)\n",
    "\n",
    "print(f\"train: {r2_score(n_vals_train, y_hat_train)}, test: {r2_score(n_vals_test, y_hat_test)}\")"
   ]
  }
 ],
 "metadata": {
  "interpreter": {
   "hash": "11ae26810785ba78c37a15c9eb002d2311c93b4a4adb47993511490e08153fac"
  },
  "kernelspec": {
   "display_name": "Python 3.8.12 ('research_env')",
   "language": "python",
   "name": "python3"
  },
  "language_info": {
   "codemirror_mode": {
    "name": "ipython",
    "version": 3
   },
   "file_extension": ".py",
   "mimetype": "text/x-python",
   "name": "python",
   "nbconvert_exporter": "python",
   "pygments_lexer": "ipython3",
   "version": "3.8.12"
  },
  "orig_nbformat": 4
 },
 "nbformat": 4,
 "nbformat_minor": 2
}
