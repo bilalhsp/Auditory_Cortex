{
 "cells": [
  {
   "cell_type": "code",
   "execution_count": null,
   "id": "c7e74f20",
   "metadata": {},
   "outputs": [
    {
     "name": "stderr",
     "output_type": "stream",
     "text": [
      "numexpr.utils - INFO - Note: NumExpr detected 20 cores but \"NUMEXPR_MAX_THREADS\" not set, so enforcing safe limit of 8.\n",
      "numexpr.utils - INFO - NumExpr defaulting to 8 threads.\n"
     ]
    }
   ],
   "source": [
    "import numpy as np\n",
    "import pandas as pd\n",
    "from auditory_cortex.neural_data import NormalizerCalculator, create_neural_metadata\n",
    "from auditory_cortex.analyses import Correlations\n"
   ]
  },
  {
   "cell_type": "code",
   "execution_count": 17,
   "id": "d44e84f5",
   "metadata": {},
   "outputs": [
    {
     "data": {
      "text/html": [
       "<div>\n",
       "<style scoped>\n",
       "    .dataframe tbody tr th:only-of-type {\n",
       "        vertical-align: middle;\n",
       "    }\n",
       "\n",
       "    .dataframe tbody tr th {\n",
       "        vertical-align: top;\n",
       "    }\n",
       "\n",
       "    .dataframe thead th {\n",
       "        text-align: right;\n",
       "    }\n",
       "</style>\n",
       "<table border=\"1\" class=\"dataframe\">\n",
       "  <thead>\n",
       "    <tr style=\"text-align: right;\">\n",
       "      <th></th>\n",
       "      <th>layer_ids</th>\n",
       "      <th>channel_ids</th>\n",
       "      <th>session</th>\n",
       "      <th>corr_scores</th>\n",
       "    </tr>\n",
       "  </thead>\n",
       "  <tbody>\n",
       "    <tr>\n",
       "      <th>0</th>\n",
       "      <td>2</td>\n",
       "      <td>0</td>\n",
       "      <td>200206</td>\n",
       "      <td>0.1</td>\n",
       "    </tr>\n",
       "    <tr>\n",
       "      <th>1</th>\n",
       "      <td>2</td>\n",
       "      <td>1</td>\n",
       "      <td>200206</td>\n",
       "      <td>0.2</td>\n",
       "    </tr>\n",
       "    <tr>\n",
       "      <th>2</th>\n",
       "      <td>2</td>\n",
       "      <td>2</td>\n",
       "      <td>200206</td>\n",
       "      <td>0.3</td>\n",
       "    </tr>\n",
       "    <tr>\n",
       "      <th>3</th>\n",
       "      <td>2</td>\n",
       "      <td>3</td>\n",
       "      <td>200206</td>\n",
       "      <td>0.4</td>\n",
       "    </tr>\n",
       "  </tbody>\n",
       "</table>\n",
       "</div>"
      ],
      "text/plain": [
       "  layer_ids  channel_ids  session  corr_scores\n",
       "0         2            0   200206          0.1\n",
       "1         2            1   200206          0.2\n",
       "2         2            2   200206          0.3\n",
       "3         2            3   200206          0.4"
      ]
     },
     "execution_count": 17,
     "metadata": {},
     "output_type": "execute_result"
    }
   ],
   "source": [
    "layer = '2'\n",
    "data_dict = {\n",
    "    'layer_ids': 4* [layer],\n",
    "    'channel_ids': np.array([0, 1, 2, 3]),\n",
    "    'session': np.array([200206, 200206, 200206, 200206]),\n",
    "    'corr_scores': np.array([0.1, 0.2, 0.3, 0.4]),\n",
    "}\n",
    "df = pd.DataFrame(data_dict)\n",
    "df"
   ]
  },
  {
   "cell_type": "code",
   "execution_count": 18,
   "id": "bcd07ab3",
   "metadata": {},
   "outputs": [
    {
     "data": {
      "text/plain": [
       "0    2\n",
       "1    2\n",
       "2    2\n",
       "3    2\n",
       "Name: layer_ids, dtype: object"
      ]
     },
     "execution_count": 18,
     "metadata": {},
     "output_type": "execute_result"
    }
   ],
   "source": [
    "df['layer_ids']"
   ]
  },
  {
   "cell_type": "code",
   "execution_count": null,
   "id": "7c838927",
   "metadata": {},
   "outputs": [],
   "source": []
  },
  {
   "cell_type": "code",
   "execution_count": 16,
   "id": "bb5e4304",
   "metadata": {},
   "outputs": [],
   "source": [
    "dataset_name = 'ucsf'\n",
    "normalizer = NormalizerCalculator(dataset_name)"
   ]
  },
  {
   "cell_type": "code",
   "execution_count": 17,
   "id": "cab14333",
   "metadata": {},
   "outputs": [
    {
     "name": "stderr",
     "output_type": "stream",
     "text": [
      "auditory_cortex.neural_data.normalizer_calculator - INFO - Getting normalizer dist. for sess-200206, bw-50, mVocs=True\n"
     ]
    }
   ],
   "source": [
    "session=200206\n",
    "bin_width=50\n",
    "mVocs=True\n",
    "norm_dist, null_dist = normalizer.get_inter_trial_corr_dists_for_session(\n",
    "    session, bin_width=bin_width, mVocs=mVocs\n",
    ")"
   ]
  },
  {
   "cell_type": "code",
   "execution_count": null,
   "id": "cb84c06c",
   "metadata": {},
   "outputs": [],
   "source": [
    "data_dict = {\n",
    "    'session': session,\n",
    "    'bin_width': bin_width,\n",
    "    'channel_ids'\n",
    "    'norm_dist': norm_dist,\n",
    "    'null_dist': null_dist\n",
    "}"
   ]
  },
  {
   "cell_type": "code",
   "execution_count": 13,
   "id": "6fc29008",
   "metadata": {},
   "outputs": [],
   "source": [
    "model_name = 'cochcnn9'\n",
    "identifier = 'ucsf_reset_mVocs_trf_lags200_bw50_regression_improved_permuted'\n",
    "corr = Correlations(model_name+'_'+identifier)"
   ]
  },
  {
   "cell_type": "code",
   "execution_count": 14,
   "id": "f7c497bd",
   "metadata": {},
   "outputs": [
    {
     "data": {
      "text/html": [
       "<div>\n",
       "<style scoped>\n",
       "    .dataframe tbody tr th:only-of-type {\n",
       "        vertical-align: middle;\n",
       "    }\n",
       "\n",
       "    .dataframe tbody tr th {\n",
       "        vertical-align: top;\n",
       "    }\n",
       "\n",
       "    .dataframe thead th {\n",
       "        text-align: right;\n",
       "    }\n",
       "</style>\n",
       "<table border=\"1\" class=\"dataframe\">\n",
       "  <thead>\n",
       "    <tr style=\"text-align: right;\">\n",
       "      <th></th>\n",
       "      <th>session</th>\n",
       "      <th>layer</th>\n",
       "      <th>channel</th>\n",
       "      <th>bin_width</th>\n",
       "      <th>delay</th>\n",
       "      <th>test_cc_raw</th>\n",
       "      <th>normalizer</th>\n",
       "      <th>mVocs_test_cc_raw</th>\n",
       "      <th>mVocs_normalizer</th>\n",
       "      <th>opt_lag</th>\n",
       "      <th>opt_lmbda</th>\n",
       "      <th>N_sents</th>\n",
       "      <th>mVocs_null_mean</th>\n",
       "      <th>mVocs_null_std</th>\n",
       "      <th>layer_type</th>\n",
       "      <th>mVocs_normalized_test_cc</th>\n",
       "    </tr>\n",
       "  </thead>\n",
       "  <tbody>\n",
       "    <tr>\n",
       "      <th>0</th>\n",
       "      <td>180413.0</td>\n",
       "      <td>0.0</td>\n",
       "      <td>0.0</td>\n",
       "      <td>50.0</td>\n",
       "      <td>0.0</td>\n",
       "      <td>0.0</td>\n",
       "      <td>0.0</td>\n",
       "      <td>-2.045651e-02</td>\n",
       "      <td>-0.007198</td>\n",
       "      <td>200.0</td>\n",
       "      <td>1.0</td>\n",
       "      <td>500.0</td>\n",
       "      <td>0.004282</td>\n",
       "      <td>0.113042</td>\n",
       "      <td>conv</td>\n",
       "      <td>NaN</td>\n",
       "    </tr>\n",
       "    <tr>\n",
       "      <th>1</th>\n",
       "      <td>180413.0</td>\n",
       "      <td>0.0</td>\n",
       "      <td>1.0</td>\n",
       "      <td>50.0</td>\n",
       "      <td>0.0</td>\n",
       "      <td>0.0</td>\n",
       "      <td>0.0</td>\n",
       "      <td>-2.298020e-06</td>\n",
       "      <td>0.002096</td>\n",
       "      <td>200.0</td>\n",
       "      <td>14.0</td>\n",
       "      <td>500.0</td>\n",
       "      <td>-0.007042</td>\n",
       "      <td>0.081968</td>\n",
       "      <td>conv</td>\n",
       "      <td>-0.000050</td>\n",
       "    </tr>\n",
       "    <tr>\n",
       "      <th>2</th>\n",
       "      <td>180413.0</td>\n",
       "      <td>0.0</td>\n",
       "      <td>2.0</td>\n",
       "      <td>50.0</td>\n",
       "      <td>0.0</td>\n",
       "      <td>0.0</td>\n",
       "      <td>0.0</td>\n",
       "      <td>1.299994e-02</td>\n",
       "      <td>-0.001019</td>\n",
       "      <td>200.0</td>\n",
       "      <td>2.0</td>\n",
       "      <td>500.0</td>\n",
       "      <td>0.001140</td>\n",
       "      <td>0.076688</td>\n",
       "      <td>conv</td>\n",
       "      <td>NaN</td>\n",
       "    </tr>\n",
       "    <tr>\n",
       "      <th>3</th>\n",
       "      <td>180413.0</td>\n",
       "      <td>0.0</td>\n",
       "      <td>3.0</td>\n",
       "      <td>50.0</td>\n",
       "      <td>0.0</td>\n",
       "      <td>0.0</td>\n",
       "      <td>0.0</td>\n",
       "      <td>-2.465553e-08</td>\n",
       "      <td>-0.004867</td>\n",
       "      <td>200.0</td>\n",
       "      <td>15.0</td>\n",
       "      <td>500.0</td>\n",
       "      <td>-0.004299</td>\n",
       "      <td>0.074310</td>\n",
       "      <td>conv</td>\n",
       "      <td>NaN</td>\n",
       "    </tr>\n",
       "    <tr>\n",
       "      <th>4</th>\n",
       "      <td>180413.0</td>\n",
       "      <td>0.0</td>\n",
       "      <td>4.0</td>\n",
       "      <td>50.0</td>\n",
       "      <td>0.0</td>\n",
       "      <td>0.0</td>\n",
       "      <td>0.0</td>\n",
       "      <td>3.922648e-02</td>\n",
       "      <td>-0.010654</td>\n",
       "      <td>200.0</td>\n",
       "      <td>2.0</td>\n",
       "      <td>500.0</td>\n",
       "      <td>-0.000890</td>\n",
       "      <td>0.078888</td>\n",
       "      <td>conv</td>\n",
       "      <td>NaN</td>\n",
       "    </tr>\n",
       "    <tr>\n",
       "      <th>...</th>\n",
       "      <td>...</td>\n",
       "      <td>...</td>\n",
       "      <td>...</td>\n",
       "      <td>...</td>\n",
       "      <td>...</td>\n",
       "      <td>...</td>\n",
       "      <td>...</td>\n",
       "      <td>...</td>\n",
       "      <td>...</td>\n",
       "      <td>...</td>\n",
       "      <td>...</td>\n",
       "      <td>...</td>\n",
       "      <td>...</td>\n",
       "      <td>...</td>\n",
       "      <td>...</td>\n",
       "      <td>...</td>\n",
       "    </tr>\n",
       "    <tr>\n",
       "      <th>14341</th>\n",
       "      <td>200318.0</td>\n",
       "      <td>8.0</td>\n",
       "      <td>40.0</td>\n",
       "      <td>50.0</td>\n",
       "      <td>0.0</td>\n",
       "      <td>0.0</td>\n",
       "      <td>0.0</td>\n",
       "      <td>2.597478e-02</td>\n",
       "      <td>0.109254</td>\n",
       "      <td>200.0</td>\n",
       "      <td>3.0</td>\n",
       "      <td>500.0</td>\n",
       "      <td>0.045603</td>\n",
       "      <td>0.087255</td>\n",
       "      <td>conv</td>\n",
       "      <td>0.078584</td>\n",
       "    </tr>\n",
       "    <tr>\n",
       "      <th>14342</th>\n",
       "      <td>200318.0</td>\n",
       "      <td>8.0</td>\n",
       "      <td>41.0</td>\n",
       "      <td>50.0</td>\n",
       "      <td>0.0</td>\n",
       "      <td>0.0</td>\n",
       "      <td>0.0</td>\n",
       "      <td>1.362345e-01</td>\n",
       "      <td>0.066384</td>\n",
       "      <td>200.0</td>\n",
       "      <td>1.0</td>\n",
       "      <td>500.0</td>\n",
       "      <td>0.002156</td>\n",
       "      <td>0.069096</td>\n",
       "      <td>conv</td>\n",
       "      <td>0.528758</td>\n",
       "    </tr>\n",
       "    <tr>\n",
       "      <th>14343</th>\n",
       "      <td>200318.0</td>\n",
       "      <td>8.0</td>\n",
       "      <td>42.0</td>\n",
       "      <td>50.0</td>\n",
       "      <td>0.0</td>\n",
       "      <td>0.0</td>\n",
       "      <td>0.0</td>\n",
       "      <td>1.785518e-03</td>\n",
       "      <td>0.114778</td>\n",
       "      <td>200.0</td>\n",
       "      <td>1.0</td>\n",
       "      <td>500.0</td>\n",
       "      <td>0.029390</td>\n",
       "      <td>0.076957</td>\n",
       "      <td>conv</td>\n",
       "      <td>0.005270</td>\n",
       "    </tr>\n",
       "    <tr>\n",
       "      <th>14344</th>\n",
       "      <td>200318.0</td>\n",
       "      <td>8.0</td>\n",
       "      <td>43.0</td>\n",
       "      <td>50.0</td>\n",
       "      <td>0.0</td>\n",
       "      <td>0.0</td>\n",
       "      <td>0.0</td>\n",
       "      <td>9.375573e-02</td>\n",
       "      <td>0.081775</td>\n",
       "      <td>200.0</td>\n",
       "      <td>0.0</td>\n",
       "      <td>500.0</td>\n",
       "      <td>0.004187</td>\n",
       "      <td>0.076258</td>\n",
       "      <td>conv</td>\n",
       "      <td>0.327859</td>\n",
       "    </tr>\n",
       "    <tr>\n",
       "      <th>14345</th>\n",
       "      <td>200318.0</td>\n",
       "      <td>8.0</td>\n",
       "      <td>44.0</td>\n",
       "      <td>50.0</td>\n",
       "      <td>0.0</td>\n",
       "      <td>0.0</td>\n",
       "      <td>0.0</td>\n",
       "      <td>8.100141e-02</td>\n",
       "      <td>0.069362</td>\n",
       "      <td>200.0</td>\n",
       "      <td>1.0</td>\n",
       "      <td>500.0</td>\n",
       "      <td>0.007857</td>\n",
       "      <td>0.073067</td>\n",
       "      <td>conv</td>\n",
       "      <td>0.307561</td>\n",
       "    </tr>\n",
       "  </tbody>\n",
       "</table>\n",
       "<p>14346 rows × 16 columns</p>\n",
       "</div>"
      ],
      "text/plain": [
       "        session  layer  channel  bin_width  delay  test_cc_raw  normalizer  \\\n",
       "0      180413.0    0.0      0.0       50.0    0.0          0.0         0.0   \n",
       "1      180413.0    0.0      1.0       50.0    0.0          0.0         0.0   \n",
       "2      180413.0    0.0      2.0       50.0    0.0          0.0         0.0   \n",
       "3      180413.0    0.0      3.0       50.0    0.0          0.0         0.0   \n",
       "4      180413.0    0.0      4.0       50.0    0.0          0.0         0.0   \n",
       "...         ...    ...      ...        ...    ...          ...         ...   \n",
       "14341  200318.0    8.0     40.0       50.0    0.0          0.0         0.0   \n",
       "14342  200318.0    8.0     41.0       50.0    0.0          0.0         0.0   \n",
       "14343  200318.0    8.0     42.0       50.0    0.0          0.0         0.0   \n",
       "14344  200318.0    8.0     43.0       50.0    0.0          0.0         0.0   \n",
       "14345  200318.0    8.0     44.0       50.0    0.0          0.0         0.0   \n",
       "\n",
       "       mVocs_test_cc_raw  mVocs_normalizer  opt_lag  opt_lmbda  N_sents  \\\n",
       "0          -2.045651e-02         -0.007198    200.0        1.0    500.0   \n",
       "1          -2.298020e-06          0.002096    200.0       14.0    500.0   \n",
       "2           1.299994e-02         -0.001019    200.0        2.0    500.0   \n",
       "3          -2.465553e-08         -0.004867    200.0       15.0    500.0   \n",
       "4           3.922648e-02         -0.010654    200.0        2.0    500.0   \n",
       "...                  ...               ...      ...        ...      ...   \n",
       "14341       2.597478e-02          0.109254    200.0        3.0    500.0   \n",
       "14342       1.362345e-01          0.066384    200.0        1.0    500.0   \n",
       "14343       1.785518e-03          0.114778    200.0        1.0    500.0   \n",
       "14344       9.375573e-02          0.081775    200.0        0.0    500.0   \n",
       "14345       8.100141e-02          0.069362    200.0        1.0    500.0   \n",
       "\n",
       "       mVocs_null_mean  mVocs_null_std layer_type  mVocs_normalized_test_cc  \n",
       "0             0.004282        0.113042       conv                       NaN  \n",
       "1            -0.007042        0.081968       conv                 -0.000050  \n",
       "2             0.001140        0.076688       conv                       NaN  \n",
       "3            -0.004299        0.074310       conv                       NaN  \n",
       "4            -0.000890        0.078888       conv                       NaN  \n",
       "...                ...             ...        ...                       ...  \n",
       "14341         0.045603        0.087255       conv                  0.078584  \n",
       "14342         0.002156        0.069096       conv                  0.528758  \n",
       "14343         0.029390        0.076957       conv                  0.005270  \n",
       "14344         0.004187        0.076258       conv                  0.327859  \n",
       "14345         0.007857        0.073067       conv                  0.307561  \n",
       "\n",
       "[14346 rows x 16 columns]"
      ]
     },
     "execution_count": 14,
     "metadata": {},
     "output_type": "execute_result"
    }
   ],
   "source": [
    "corr.data"
   ]
  },
  {
   "cell_type": "code",
   "execution_count": null,
   "id": "a69b4379",
   "metadata": {},
   "outputs": [],
   "source": []
  },
  {
   "cell_type": "code",
   "execution_count": null,
   "id": "c5f3fecf",
   "metadata": {},
   "outputs": [],
   "source": []
  },
  {
   "cell_type": "code",
   "execution_count": 6,
   "id": "c7e7b5cc",
   "metadata": {},
   "outputs": [
    {
     "name": "stderr",
     "output_type": "stream",
     "text": [
      "auditory_cortex.neural_data.ucsf_data.ucsf_dataset - INFO - NeuralData:  Creating object for session: 200206 ... \n",
      "auditory_cortex.neural_data.ucsf_data.ucsf_dataset - INFO - Done.\n"
     ]
    }
   ],
   "source": [
    "norm_dist, null_dist = normalizer._compute_inter_trial_corr_dists(\n",
    "    200206, 50, 1000\n",
    ")"
   ]
  },
  {
   "cell_type": "code",
   "execution_count": 8,
   "id": "8b74ef05",
   "metadata": {},
   "outputs": [
    {
     "data": {
      "text/plain": [
       "(50000,)"
      ]
     },
     "execution_count": 8,
     "metadata": {},
     "output_type": "execute_result"
    }
   ],
   "source": [
    "ch = 0\n",
    "norm_dist[ch].shape"
   ]
  },
  {
   "cell_type": "code",
   "execution_count": 9,
   "id": "d46a33b1",
   "metadata": {},
   "outputs": [
    {
     "data": {
      "text/plain": [
       "(50000,)"
      ]
     },
     "execution_count": 9,
     "metadata": {},
     "output_type": "execute_result"
    }
   ],
   "source": [
    "ch = 0\n",
    "null_dist[ch].shape"
   ]
  },
  {
   "cell_type": "code",
   "execution_count": 10,
   "id": "92e72ce6",
   "metadata": {},
   "outputs": [],
   "source": [
    "repeated_spikes = normalizer.get_repeated_spikes(3, 50)"
   ]
  },
  {
   "cell_type": "code",
   "execution_count": 11,
   "id": "66c93267",
   "metadata": {},
   "outputs": [
    {
     "data": {
      "text/plain": [
       "dict_keys(['103-fmjf0_si1254.wfm', '120-frew0_si1030.wfm', '124-fsah0_si1874.wfm', '13-fcaj0_si1804.wfm', '138-ftaj0_si1329.wfm', '142-ftmg0_si2162.wfm', '145-fvkb0_si1789.wfm', '148-mabw0_si2294.wfm', '151-maeo0_si1956.wfm', '153-majc0_si2095.wfm', '16-fcft0_si1808.wfm', '164-mbcg0_si486.wfm', '174-mbom0_si1644.wfm', '183-mccs0_si2099.wfm', '186-mcem0_si1398.wfm', '187-mchh0_si1634.wfm', '189-mcmb0_si1898.wfm', '193-mctm0_si720.wfm', '195-mctw0_si2003.wfm', '206-mdhs0_si1530.wfm', '240-meal0_si2177.wfm', '263-mges0_si1481.wfm', '278-mjar0_si2247.wfm', '292-mjeb0_si656.wfm', '308-mjmm0_si625.wfm', '315-mjrh0_si1125.wfm', '340-mklt0_si583.wfm', '345-mljc0_si1855.wfm', '360-mmdm1_si2043.wfm', '362-mmds0_si1973.wfm', '373-mmrp0_si2034.wfm', '387-mpgh0_si924.wfm', '394-mrab0_si1224.wfm', '396-mram0_si1905.wfm', '4-fawf0_si1000.wfm', '401-mrdm0_si1595.wfm', '402-mrds0_si1167.wfm', '404-mreh1_si2229.wfm', '41-fdrw0_si1423.wfm', '412-mrgg0_si1199.wfm', '440-mrxb0_si1585.wfm', '484-mvrw0_si2115.wfm', '491-mwem0_si1950.wfm', '53-fgmd0_si2107.wfm', '72-fjsp0_si804.wfm', '73-fjwb1_si2055.wfm'])"
      ]
     },
     "execution_count": 11,
     "metadata": {},
     "output_type": "execute_result"
    }
   ],
   "source": [
    "repeated_spikes.keys()"
   ]
  },
  {
   "cell_type": "code",
   "execution_count": 12,
   "id": "91a911fc",
   "metadata": {},
   "outputs": [],
   "source": [
    "stim_ids=None\n",
    "num_trials=None\n",
    "\n",
    "if stim_ids is None:\n",
    "    stim_ids = list(repeated_spikes.keys())\n",
    "channel_ids = list(repeated_spikes[stim_ids[0]].keys())\n",
    "total_trial_repeats = repeated_spikes[stim_ids[0]][channel_ids[0]].shape[0]\n",
    "trial_ids = np.arange(total_trial_repeats)"
   ]
  },
  {
   "cell_type": "code",
   "execution_count": 13,
   "id": "79824203",
   "metadata": {},
   "outputs": [],
   "source": [
    "num_itr = 1000"
   ]
  },
  {
   "cell_type": "code",
   "execution_count": 16,
   "id": "09df7552",
   "metadata": {},
   "outputs": [],
   "source": [
    "channel_ids = ['a', 'b']\n",
    "norm_dists = {ch: np.zeros((num_itr,)) for ch in channel_ids}"
   ]
  },
  {
   "cell_type": "code",
   "execution_count": null,
   "id": "b33f6486",
   "metadata": {},
   "outputs": [],
   "source": [
    "seq_U = {ch: [] for ch in channel_ids}\n",
    "seq_V = {ch: [] for ch in channel_ids}\n",
    "\n",
    "stim_ids = np.random.permutation(stim_ids)\n",
    "\n",
    "np.random.randint()\n",
    "\n",
    "\n",
    "\n",
    "\n",
    "\n",
    "\n",
    "for stim_id in np.random.permutation(stim_ids):\n",
    "    tr1, tr2 = np.random.choice(trial_ids, size=2, replace=False)\n",
    "    for ch in channel_ids:\n",
    "        seq_U[ch].append(repeated_spikes[stim_id][ch][tr1])\n",
    "        seq_V[ch].append(repeated_spikes[stim_id][ch][tr2])"
   ]
  },
  {
   "cell_type": "code",
   "execution_count": 8,
   "id": "09bfe38a",
   "metadata": {},
   "outputs": [],
   "source": [
    "num_stim = len(stim_ids)"
   ]
  },
  {
   "cell_type": "code",
   "execution_count": 21,
   "id": "f6809fda",
   "metadata": {},
   "outputs": [
    {
     "name": "stdout",
     "output_type": "stream",
     "text": [
      "Time taken to select samples: 23.21 ms\n"
     ]
    }
   ],
   "source": [
    "import time\n",
    "\n",
    "START_TIME = time.time()\n",
    "num_stim_ids = 1500\n",
    "trials = np.arange(10)\n",
    "select_samples = []\n",
    "for i in range(num_stim_ids):\n",
    "    tr1, tr2 = np.random.choice(trials, size=2, replace=False)\n",
    "    select_samples.append((tr1, tr2))\n",
    "\n",
    "# print(select_samples)\n",
    "\n",
    "print(f\"Time taken to select samples: {(time.time() - START_TIME)*1000:.2f} ms\")\n",
    "\n"
   ]
  },
  {
   "cell_type": "code",
   "execution_count": 22,
   "id": "b6a2a53f",
   "metadata": {},
   "outputs": [
    {
     "name": "stdout",
     "output_type": "stream",
     "text": [
      "Time taken to select samples: 21.86 ms\n"
     ]
    }
   ],
   "source": [
    "import time\n",
    "\n",
    "START_TIME = time.time()\n",
    "samples = np.array([\n",
    "    np.random.choice(trial_ids, size=2, replace=False)\n",
    "    for _ in range(num_stim_ids)]\n",
    ")\n",
    "print(f\"Time taken to select samples: {(time.time() - START_TIME)*1000:.2f} ms\")"
   ]
  },
  {
   "cell_type": "code",
   "execution_count": 34,
   "id": "9f285091",
   "metadata": {},
   "outputs": [
    {
     "data": {
      "text/plain": [
       "(11,)"
      ]
     },
     "execution_count": 34,
     "metadata": {},
     "output_type": "execute_result"
    }
   ],
   "source": [
    "trial_ids.shape"
   ]
  },
  {
   "cell_type": "code",
   "execution_count": 80,
   "id": "283e81f3",
   "metadata": {},
   "outputs": [],
   "source": [
    "trials_2d = np.repeat(trial_ids[None,:], num_stim_ids, axis=0)"
   ]
  },
  {
   "cell_type": "code",
   "execution_count": 81,
   "id": "49b13854",
   "metadata": {},
   "outputs": [
    {
     "data": {
      "text/plain": [
       "array([[ 0,  1,  2,  3,  4,  5,  6,  7,  8,  9, 10],\n",
       "       [ 0,  1,  2,  3,  4,  5,  6,  7,  8,  9, 10],\n",
       "       [ 0,  1,  2,  3,  4,  5,  6,  7,  8,  9, 10]])"
      ]
     },
     "execution_count": 81,
     "metadata": {},
     "output_type": "execute_result"
    }
   ],
   "source": [
    "trials_2d[:3,:]"
   ]
  },
  {
   "cell_type": "code",
   "execution_count": 77,
   "id": "6774610f",
   "metadata": {},
   "outputs": [],
   "source": [
    "idx = np.random.randint(0, len(trial_ids), size=(num_stim_ids, 2))"
   ]
  },
  {
   "cell_type": "code",
   "execution_count": 84,
   "id": "1be12f7f",
   "metadata": {},
   "outputs": [
    {
     "data": {
      "text/plain": [
       "(1500, 11)"
      ]
     },
     "execution_count": 84,
     "metadata": {},
     "output_type": "execute_result"
    }
   ],
   "source": [
    "trials_2d.shape"
   ]
  },
  {
   "cell_type": "code",
   "execution_count": 91,
   "id": "a26cef93",
   "metadata": {},
   "outputs": [],
   "source": [
    "rows = np.arange(num_stim_ids)[:, None]\n",
    "selected = trials_2d[rows,idx]"
   ]
  },
  {
   "cell_type": "code",
   "execution_count": 92,
   "id": "2b2236fc",
   "metadata": {},
   "outputs": [
    {
     "data": {
      "text/plain": [
       "array([[ 5,  4],\n",
       "       [10,  4],\n",
       "       [ 4,  1],\n",
       "       [ 0,  5],\n",
       "       [ 9,  2]])"
      ]
     },
     "execution_count": 92,
     "metadata": {},
     "output_type": "execute_result"
    }
   ],
   "source": [
    "selected[:5, :]"
   ]
  },
  {
   "cell_type": "code",
   "execution_count": 75,
   "id": "d0843034",
   "metadata": {},
   "outputs": [
    {
     "data": {
      "text/plain": [
       "array([[ 0,  0,  0],\n",
       "       [ 7,  7,  7],\n",
       "       [ 8,  8,  8],\n",
       "       [ 6,  6,  6],\n",
       "       [ 5,  5,  5],\n",
       "       [ 4,  4,  4],\n",
       "       [ 3,  3,  3],\n",
       "       [ 2,  2,  2],\n",
       "       [ 9,  9,  9],\n",
       "       [ 1,  1,  1],\n",
       "       [10, 10, 10]])"
      ]
     },
     "execution_count": 75,
     "metadata": {},
     "output_type": "execute_result"
    }
   ],
   "source": [
    "np.random.permutation(trials_2d[:,:3])"
   ]
  },
  {
   "cell_type": "code",
   "execution_count": 54,
   "id": "2a78ed85",
   "metadata": {},
   "outputs": [],
   "source": [
    "rand = np.random.permutation(np.tile(trial_ids, (num_stim_ids, 1)).transpose())"
   ]
  },
  {
   "cell_type": "code",
   "execution_count": 58,
   "id": "699790ac",
   "metadata": {},
   "outputs": [
    {
     "data": {
      "text/plain": [
       "array([[9, 9, 9, 9, 9, 9, 9, 9, 9, 9],\n",
       "       [3, 3, 3, 3, 3, 3, 3, 3, 3, 3]])"
      ]
     },
     "execution_count": 58,
     "metadata": {},
     "output_type": "execute_result"
    }
   ],
   "source": [
    "rand[:2, :10]"
   ]
  },
  {
   "cell_type": "code",
   "execution_count": 33,
   "id": "a80a3211",
   "metadata": {},
   "outputs": [
    {
     "data": {
      "text/plain": [
       "(1, 16500)"
      ]
     },
     "execution_count": 33,
     "metadata": {},
     "output_type": "execute_result"
    }
   ],
   "source": [
    "trial_ids_2d.shape"
   ]
  },
  {
   "cell_type": "code",
   "execution_count": 25,
   "id": "3eb0317b",
   "metadata": {},
   "outputs": [
    {
     "data": {
      "text/plain": [
       "(11,)"
      ]
     },
     "execution_count": 25,
     "metadata": {},
     "output_type": "execute_result"
    }
   ],
   "source": [
    "trial_ids.shape"
   ]
  },
  {
   "cell_type": "code",
   "execution_count": 26,
   "id": "fd4f9343",
   "metadata": {},
   "outputs": [
    {
     "ename": "ValueError",
     "evalue": "a must be 1-dimensional",
     "output_type": "error",
     "traceback": [
      "\u001b[0;31m---------------------------------------------------------------------------\u001b[0m",
      "\u001b[0;31mValueError\u001b[0m                                Traceback (most recent call last)",
      "Input \u001b[0;32mIn [26]\u001b[0m, in \u001b[0;36m<cell line: 1>\u001b[0;34m()\u001b[0m\n\u001b[0;32m----> 1\u001b[0m samples \u001b[38;5;241m=\u001b[39m \u001b[43mnp\u001b[49m\u001b[38;5;241;43m.\u001b[39;49m\u001b[43mrandom\u001b[49m\u001b[38;5;241;43m.\u001b[39;49m\u001b[43mchoice\u001b[49m\u001b[43m(\u001b[49m\u001b[43mtrial_ids_2d\u001b[49m\u001b[43m,\u001b[49m\u001b[43m \u001b[49m\u001b[43msize\u001b[49m\u001b[38;5;241;43m=\u001b[39;49m\u001b[43m(\u001b[49m\u001b[43mnum_stim_ids\u001b[49m\u001b[43m,\u001b[49m\u001b[43m \u001b[49m\u001b[38;5;241;43m2\u001b[39;49m\u001b[43m)\u001b[49m\u001b[43m,\u001b[49m\u001b[43m \u001b[49m\u001b[43mreplace\u001b[49m\u001b[38;5;241;43m=\u001b[39;49m\u001b[38;5;28;43;01mFalse\u001b[39;49;00m\u001b[43m)\u001b[49m\n",
      "File \u001b[0;32mmtrand.pyx:911\u001b[0m, in \u001b[0;36mnumpy.random.mtrand.RandomState.choice\u001b[0;34m()\u001b[0m\n",
      "\u001b[0;31mValueError\u001b[0m: a must be 1-dimensional"
     ]
    }
   ],
   "source": [
    "samples = np.random.choice(trial_ids_2d, size=(num_stim_ids, 2), replace=False)"
   ]
  },
  {
   "cell_type": "code",
   "execution_count": 10,
   "id": "da3e17a1",
   "metadata": {},
   "outputs": [],
   "source": [
    "num_itr=100000"
   ]
  },
  {
   "cell_type": "code",
   "execution_count": null,
   "id": "1a23dbb4",
   "metadata": {},
   "outputs": [],
   "source": [
    "stim_ids = list(repeated_spikes.keys())\n",
    "channel_ids = list(repeated_spikes[stim_ids[0]].keys())\n",
    "total_trial_repeats = repeated_spikes[stim_ids[0]][channel_ids[0]].shape[0]\n",
    "\n",
    "norm_dists = {ch: np.zeros((num_itr,)) for ch in channel_ids}\n",
    "null_dists = {ch: np.zeros((num_itr,)) for ch in channel_ids}\n",
    "trial_ids = np.arange(total_trial_repeats)\n"
   ]
  },
  {
   "cell_type": "code",
   "execution_count": null,
   "id": "aeaaca44",
   "metadata": {},
   "outputs": [],
   "source": [
    "seq_U = {ch: [] for ch in channel_ids}\n",
    "seq_V = {ch: [] for ch in channel_ids}\n",
    "for stim_id in np.random.permutation(stim_ids):\n",
    "    tr1, tr2 = np.random.choice(trial_ids, size=2, replace=False)\n",
    "    for ch in channel_ids:\n",
    "        seq_U[ch].append(repeated_spikes[stim_id][ch][tr1])\n",
    "        seq_V[ch].append(repeated_spikes[stim_id][ch][tr2])\n",
    "for ch in channel_ids:\n",
    "    U = np.concatenate(seq_U[ch], axis=0).squeeze()\n",
    "    V = np.concatenate(seq_V[ch], axis=0).squeeze()\n",
    "\n",
    "    corr_ch = NormalizerCalculator.safe_corrcoef(U, V) \n",
    "    norm_dists[ch][itr] = corr_ch\n",
    "    \n",
    "    V_shifted = np.roll(V, V.shape[0]//2, axis=0)\n",
    "    null_ch = NormalizerCalculator.safe_corrcoef(U, V_shifted) \n",
    "    null_dists[ch][itr] = corr_ch\n",
    "\n"
   ]
  },
  {
   "cell_type": "code",
   "execution_count": 19,
   "id": "ffc687c8",
   "metadata": {},
   "outputs": [],
   "source": [
    "ch = channel_ids[0]\n",
    "U = np.concatenate(seq_U[ch], axis=0).squeeze()\n",
    "V = np.concatenate(seq_V[ch], axis=0).squeeze()"
   ]
  },
  {
   "cell_type": "code",
   "execution_count": null,
   "id": "9702d995",
   "metadata": {},
   "outputs": [],
   "source": [
    "\n"
   ]
  },
  {
   "cell_type": "code",
   "execution_count": 20,
   "id": "5027cff0",
   "metadata": {},
   "outputs": [
    {
     "data": {
      "text/plain": [
       "(331,)"
      ]
     },
     "execution_count": 20,
     "metadata": {},
     "output_type": "execute_result"
    }
   ],
   "source": [
    "U.shape"
   ]
  },
  {
   "cell_type": "code",
   "execution_count": null,
   "id": "8cd9908c",
   "metadata": {},
   "outputs": [],
   "source": []
  },
  {
   "cell_type": "code",
   "execution_count": null,
   "id": "4023d901",
   "metadata": {},
   "outputs": [],
   "source": [
    "rand_stim_ids = np.random.permutation(stim_ids)\n",
    "tr1, tr2 = np.random.choice(trial_ids, size=2, replace=False)\n",
    "for ch in channel_ids:\n",
    "    \n",
    "    \n",
    "    stim_id = rand_stim_ids[i % len(rand_stim_ids)]\n",
    "    channel_wise_dists[ch][i] = np.corrcoef(\n",
    "        seq_U[ch][tr1], seq_V[ch][tr2])[0, 1]"
   ]
  },
  {
   "cell_type": "code",
   "execution_count": 15,
   "id": "6a29253e",
   "metadata": {},
   "outputs": [
    {
     "data": {
      "text/plain": [
       "((331,), (331,))"
      ]
     },
     "execution_count": 15,
     "metadata": {},
     "output_type": "execute_result"
    }
   ],
   "source": [
    "seq_U[channel_ids[0]].shape, seq_V[channel_ids[0]].shape"
   ]
  },
  {
   "cell_type": "code",
   "execution_count": null,
   "id": "fb742079",
   "metadata": {},
   "outputs": [],
   "source": [
    "for itr in range(num_itr):\n",
    "    long_seq1 = []\n",
    "    long_seq2 = []\n",
    "    for stim_id in np.random.permutation(stim_ids):\n",
    "        spikes = repeated_spikes[stim_id]\n",
    "        tr1, tr2 = np.random.choice(trial_ids, size=2, replace=False)"
   ]
  },
  {
   "cell_type": "code",
   "execution_count": 6,
   "id": "ae3198eb",
   "metadata": {},
   "outputs": [
    {
     "name": "stdout",
     "output_type": "stream",
     "text": [
      "nan\n"
     ]
    },
    {
     "name": "stderr",
     "output_type": "stream",
     "text": [
      "/home/ahmedb/.conda/envs/cent7/2020.11-py38/wav2letter/lib/python3.8/site-packages/numpy/lib/function_base.py:2829: RuntimeWarning: invalid value encountered in true_divide\n",
      "  c /= stddev[:, None]\n"
     ]
    }
   ],
   "source": [
    "# seq_1 = np.random.rand(100)  # Example sequence 1\n",
    "# seq_2 = np.random.rand(100)  # Example sequence 1\n",
    "\n",
    "seq_1 = np.zeros(100)  # Example sequence 1\n",
    "seq_2 = np.zeros(100)  # Example sequence 1\n",
    "\n",
    "corr_ch = np.corrcoef(seq_1, seq_2)[0,1]\n",
    "print(corr_ch)"
   ]
  },
  {
   "cell_type": "code",
   "execution_count": null,
   "id": "bf5353cc",
   "metadata": {},
   "outputs": [],
   "source": []
  }
 ],
 "metadata": {
  "kernelspec": {
   "display_name": "Python 3",
   "language": "python",
   "name": "python3"
  },
  "language_info": {
   "codemirror_mode": {
    "name": "ipython",
    "version": 3
   },
   "file_extension": ".py",
   "mimetype": "text/x-python",
   "name": "python",
   "nbconvert_exporter": "python",
   "pygments_lexer": "ipython3",
   "version": "3.8.5"
  }
 },
 "nbformat": 4,
 "nbformat_minor": 5
}
