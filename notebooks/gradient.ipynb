{
 "cells": [
  {
   "cell_type": "code",
   "execution_count": 1,
   "metadata": {},
   "outputs": [
    {
     "name": "stderr",
     "output_type": "stream",
     "text": [
      "Some weights of the model checkpoint at facebook/s2t-small-librispeech-asr were not used when initializing Speech2TextModel: ['lm_head.weight']\n",
      "- This IS expected if you are initializing Speech2TextModel from the checkpoint of a model trained on another task or with another architecture (e.g. initializing a BertForSequenceClassification model from a BertForPreTraining model).\n",
      "- This IS NOT expected if you are initializing Speech2TextModel from the checkpoint of a model that you expect to be exactly identical (initializing a BertForSequenceClassification model from a BertForSequenceClassification model).\n",
      "Some weights of Speech2TextModel were not initialized from the model checkpoint at facebook/s2t-small-librispeech-asr and are newly initialized: ['model.decoder.embed_positions.weights', 'model.encoder.embed_positions.weights']\n",
      "You should probably TRAIN this model on a down-stream task to be able to use it for predictions and inference.\n"
     ]
    }
   ],
   "source": [
    "from transformers import Speech2TextFeatureExtractor, Speech2TextModel\n",
    "import torch\n",
    "import numpy as np\n",
    "from scipy import signal\n",
    "from scipy.io.wavfile import read\n",
    "import matplotlib.pyplot as plt\n",
    "import librosa.display as ld\n",
    "\n",
    "\n",
    "from auditory_cortex.regression import transformer_regression\n",
    "from auditory_cortex.dataset import Neural_Data\n",
    "\n",
    "# initialise and load pretrained models\n",
    "model = Speech2TextModel.from_pretrained(\"facebook/s2t-small-librispeech-asr\")\n",
    "feature_extractor = Speech2TextFeatureExtractor.from_pretrained(\"facebook/s2t-small-librispeech-asr\")\n",
    "# reg = transformer_regression(dir, subject)\n",
    "\n",
    "for param in model.parameters():\n",
    "    param.requires_grad = False"
   ]
  },
  {
   "cell_type": "code",
   "execution_count": 2,
   "metadata": {},
   "outputs": [],
   "source": [
    "layers = [\"encoder.conv.conv_layers.0\",\"encoder.conv.conv_layers.1\",\"encoder.layers.0.fc2\",\n",
    "\t\t\t\"encoder.layers.1.fc2\",\"encoder.layers.2.fc2\",\"encoder.layers.3.fc2\",\n",
    "\t\t\t\"encoder.layers.4.fc2\",\"encoder.layers.5.fc2\",\"encoder.layers.6.fc2\",\n",
    "\t\t\t\"encoder.layers.7.fc2\",\"encoder.layers.8.fc2\",\"encoder.layers.9.fc2\"]"
   ]
  },
  {
   "cell_type": "code",
   "execution_count": null,
   "metadata": {},
   "outputs": [],
   "source": [
    "# from gradient_extraction.get_values import GetValues\n",
    "\n",
    "# get_layer_output = GetValues(model, feature_extractor)\n",
    "# # aud = aud_data\n",
    "# # n = 0 \n",
    "# l = layers[1]\n",
    "# layer_outs = []\n",
    "# for i in range(500):\n",
    "#     sr, aud = read(\"/scratch/gilbreth/akamsali/Research/Makin/Auditory_Cortex/notebooks/audio_data/sent_\" + str(i) +\".wav\")\n",
    "# # for n, l in enumerate(layers[:1]):\n",
    "#     # print(n, l)\n",
    "#     get_layer_output.get_layer_output(aud, l)\n",
    "#     x =  get_layer_output.hook.output_f[0].detach().numpy().mean(1)\n",
    "#     # print(x.shape)\n",
    "#     layer_outs.append(get_layer_output.hook.output_f[0].detach().numpy().mean(1))\n",
    "\n",
    "# np.save('/scratch/gilbreth/akamsali/Research/Makin/Auditory_Cortex/notebooks/conv_layer_1.npy', layer_outs, allow_pickle=True)\n",
    "# a = np.load('/scratch/gilbreth/akamsali/Research/Makin/Auditory_Cortex/notebooks/conv_layer_1.npy', allow_pickle=True)\n",
    "# a.shape"
   ]
  },
  {
   "cell_type": "code",
   "execution_count": 5,
   "metadata": {},
   "outputs": [],
   "source": [
    "import numpy as np\n",
    "\n",
    "a = np.load('/scratch/gilbreth/akamsali/Research/Makin/Auditory_Cortex/notebooks/conv_layer_0.npy', allow_pickle=True)\n",
    "b = np.load('/scratch/gilbreth/akamsali/Research/Makin/Auditory_Cortex/notebooks/conv_layer_1.npy', allow_pickle=True)"
   ]
  },
  {
   "cell_type": "code",
   "execution_count": 2,
   "metadata": {},
   "outputs": [
    {
     "data": {
      "image/png": "[encoded data removed]",
      "text/plain": [
       "<Figure size 432x288 with 1 Axes>"
      ]
     },
     "metadata": {
      "needs_background": "light"
     },
     "output_type": "display_data"
    },
    {
     "data": {
      "image/png": "[encoded data removed]",
      "text/plain": [
       "<Figure size 432x288 with 1 Axes>"
      ]
     },
     "metadata": {
      "needs_background": "light"
     },
     "output_type": "display_data"
    }
   ],
   "source": [
    "import matplotlib.pyplot as plt\n",
    "\n",
    "plt.figure()\n",
    "\n",
    "for i in range(10):\n",
    "    # plt.figure()\n",
    "    plt.hist(a[:, i], label=\"a_\" + str(i))\n",
    "    # plt.hist(b[:, i], label=\"b_\" + str(i))\n",
    "\n",
    "plt.legend()\n",
    "\n",
    "plt.figure()\n",
    "\n",
    "# plt.hist(b)\n",
    "for i in range(10):\n",
    "    # plt.figure()\n",
    "    # plt.hist(a[:, i], label=\"a_\" + str(i))\n",
    "    plt.hist(b[:, i], label=\"b_\" + str(i))\n",
    "\n",
    "# plt.hist(b)\n",
    "# plt.show()\n",
    "plt.legend()\n",
    "plt.show()"
   ]
  },
  {
   "cell_type": "code",
   "execution_count": 3,
   "metadata": {},
   "outputs": [],
   "source": [
    "from gradient_extraction.get_optimal_input import GetOptInput\n",
    "\n",
    "get_opt_input = GetOptInput(model, feature_extractor)\n",
    "spect_lists = []\n",
    "loss_lists = []\n",
    "\n",
    "n = 0 \n",
    "l = layers[0]\n",
    "for i in range(1):\n",
    "    sr, aud = read(\"/scratch/gilbreth/akamsali/Research/Makin/Auditory_Cortex/notebooks/audio_data/sent_\" + str(i) +\".wav\")\n",
    "# for n, l in enumerate(layers[:1]):\n",
    "    # print(n, l)\n",
    "    get_opt_input.get_opt_input(aud, n, l, iterations=100)\n",
    "    \n",
    "    # spect_lists.append(get_opt_input.spect_list)\n",
    "    # loss_lists.append(get_opt_input.loss_lists)\n",
    "    np.save('/scratch/gilbreth/akamsali/Research/Makin/Auditory_Cortex/notebooks/opt_inputs/conv_layer_0_sent_'+str(i)+'.npy', get_opt_input.spect_list, allow_pickle=True)\n",
    "    # np.save('/scratch/gilbreth/akamsali/Research/Makin/Auditory_Cortex/notebooks/opt_inputs/conv_layer_0_sent_'+str(i)+'.npy', get_opt_input.lo_list, allow_pickle=True)\n"
   ]
  },
  {
   "cell_type": "code",
   "execution_count": 3,
   "metadata": {},
   "outputs": [
    {
     "data": {
      "text/plain": [
       "(512, 512)"
      ]
     },
     "execution_count": 3,
     "metadata": {},
     "output_type": "execute_result"
    }
   ],
   "source": [
    "from gradient_extraction.get_opt_outputs import GetValuesOpt\n",
    "\n",
    "c = np.load('/scratch/gilbreth/akamsali/Research/Makin/Auditory_Cortex/notebooks/opt_inputs/conv_layer_1_sent_0.npy', allow_pickle=True)\n",
    "\n",
    "get_layer_output = GetValuesOpt(model)\n",
    "# aud = aud_data\n",
    "# n = 0 \n",
    "l = layers[1]\n",
    "layer_outs = []\n",
    "for spect in c:\n",
    "    # sr, aud = read(\"/scratch/gilbreth/akamsali/Research/Makin/Auditory_Cortex/notebooks/audio_data/sent_\" + str(i) +\".wav\")\n",
    "    spect = torch.tensor(spect).unsqueeze(0)\n",
    "    get_layer_output.get_layer_output(spect, l)\n",
    "    # x =  get_layer_output.hook.output_f[0].detach().numpy().mean(1)\n",
    "    # print(x.shape)\n",
    "    layer_outs.append(get_layer_output.hook.output_f[0].detach().numpy().mean(1))\n",
    "\n",
    "np.save('/scratch/gilbreth/akamsali/Research/Makin/Auditory_Cortex/notebooks/opt_inputs/conv_layer_1_opt_input_output.npy', layer_outs, allow_pickle=True)\n",
    "a = np.load('/scratch/gilbreth/akamsali/Research/Makin/Auditory_Cortex/notebooks/opt_inputs/conv_layer_1_opt_input_output.npy', allow_pickle=True)\n",
    "a.shape\n",
    "# layer_outs[0]\n",
    "# np.concatenate(layer_outs, axis=0)"
   ]
  },
  {
   "cell_type": "code",
   "execution_count": 22,
   "metadata": {},
   "outputs": [
    {
     "data": {
      "text/plain": [
       "(1024, 1024)"
      ]
     },
     "execution_count": 22,
     "metadata": {},
     "output_type": "execute_result"
    }
   ],
   "source": [
    "d = np.load('/scratch/gilbreth/akamsali/Research/Makin/Auditory_Cortex/notebooks/opt_inputs/conv_layer_0_opt_input_output.npy', allow_pickle=True)"
   ]
  },
  {
   "cell_type": "code",
   "execution_count": 32,
   "metadata": {},
   "outputs": [
    {
     "data": {
      "image/png": "[encoded data removed]",
      "text/plain": [
       "<Figure size 432x288 with 1 Axes>"
      ]
     },
     "metadata": {
      "needs_background": "light"
     },
     "output_type": "display_data"
    }
   ],
   "source": [
    "for i in range(20):\n",
    "    # plt.figure()\n",
    "    plt.plot(d[-i,:])"
   ]
  },
  {
   "cell_type": "code",
   "execution_count": null,
   "metadata": {},
   "outputs": [],
   "source": [
    "import librosa\n",
    "# fig, ax = plt.figure()\n",
    "\n",
    "sr, aud = read(\"/scratch/gilbreth/akamsali/Research/Makin/Auditory_Cortex/notebooks/aud.wav\")\n",
    "\n",
    "S = librosa.feature.melspectrogram(y=aud, sr=sr, n_mels=80, fmax=8000)\n",
    "S_dB = librosa.power_to_db(S, ref=np.max)\n",
    "\n",
    "plt.figure()\n",
    "ld.specshow(S_dB, sr=sr, x_axis='time', y_axis='linear')\n",
    "plt.title(\"Librosa - Mel_Spec power to dB\")\n",
    "print(\"librosa shape: \", S_dB.shape)\n",
    "\n",
    "# plt.plot(aud[5000:10000])\n",
    "plt.figure()\n",
    "plt.specgram(aud, Fs=16000)\n",
    "plt.title(\"Matplot_specshow\")\n",
    "\n",
    "plt.figure()\n",
    "f, t, Sxx = signal.spectrogram(aud, fs=16000, nfft=512)\n",
    "plt.pcolormesh(t, f, np.log10(Sxx))\n",
    "print(\"Scipy shape: \", Sxx.shape)\n",
    "plt.title(\"Scipy\")\n",
    "\n",
    "\n",
    "plt.figure()\n",
    "spect = feature_extractor(aud, padding=False, sampling_rate=16000, return_tensors=\"pt\").input_features\n",
    "ld.specshow(spect.numpy()[0].T, sr=sr, x_axis='time', y_axis='linear')\n",
    "plt.title(\"FEature extractor\")\n",
    "\n",
    "print(\"feature extractor: \",spect.shape)\n",
    "# plt.imshow(spect[0].T)\n",
    "plt.show()"
   ]
  },
  {
   "cell_type": "code",
   "execution_count": null,
   "metadata": {},
   "outputs": [],
   "source": [
    "sr, aud = read(\"/scratch/gilbreth/akamsali/Research/Makin/Auditory_Cortex/notebooks/aud.wav\")\n",
    "\n",
    "aud = aud[5000:10000]\n",
    "S = librosa.feature.melspectrogram(y=aud, sr=sr, n_mels=80, fmax=8000)\n",
    "S_dB = librosa.power_to_db(S, ref=np.max)\n",
    "\n",
    "plt.figure()\n",
    "ld.specshow(S_dB, sr=sr, x_axis='time', y_axis='linear')\n",
    "plt.title(\"Librosa - Mel_Spec power to dB\")\n",
    "print(\"librosa shape: \", S_dB.shape)\n",
    "\n",
    "# plt.plot(aud[5000:10000])\n",
    "plt.figure()\n",
    "plt.specgram(aud, Fs=16000)\n",
    "plt.title(\"Matplot_specshow\")\n",
    "\n",
    "plt.figure()\n",
    "f, t, Sxx = signal.spectrogram(aud, fs=16000, nfft=512)\n",
    "plt.pcolormesh(t, f, np.log10(Sxx))\n",
    "print(\"Scipy shape: \", Sxx.shape)\n",
    "plt.title(\"Scipy\")\n",
    "\n",
    "\n",
    "plt.figure()\n",
    "spect = feature_extractor(aud, padding=False, sampling_rate=16000, return_tensors=\"pt\").input_features\n",
    "ld.specshow(spect.numpy()[0].T, sr=sr, x_axis='time', y_axis='linear')\n",
    "plt.title(\"FEature extractor\")\n",
    "\n",
    "print(\"feature extractor: \",spect.shape)\n",
    "# plt.imshow(spect[0].T)\n",
    "plt.show()"
   ]
  },
  {
   "cell_type": "code",
   "execution_count": null,
   "metadata": {},
   "outputs": [],
   "source": [
    "from transformers import Speech2TextForConditionalGeneration, Speech2TextProcessor\n",
    "\n",
    "model_cg = Speech2TextForConditionalGeneration.from_pretrained(\"facebook/s2t-small-librispeech-asr\")\n",
    "processor_cg = Speech2TextProcessor.from_pretrained(\"facebook/s2t-small-librispeech-asr\")\n",
    "\n",
    "decoder_input_ids = torch.tensor([[1, 1]]) * model.config.decoder_start_token_id"
   ]
  },
  {
   "cell_type": "code",
   "execution_count": null,
   "metadata": {},
   "outputs": [],
   "source": [
    "# spect = feature_extractor(aud, sampling_rate=16000, return_tensors=\"pt\").input_features\n",
    "\n",
    "generated_ids = model_cg.generate(s)\n",
    "print(generated_ids.dtype)\n",
    "transcription = processor_cg.batch_decode(generated_ids)[0]\n",
    "transcription"
   ]
  },
  {
   "cell_type": "code",
   "execution_count": null,
   "metadata": {},
   "outputs": [],
   "source": [
    "plt.plot(aud)\n",
    "plt.figure()\n",
    "plt.specgram(aud)\n",
    "plt.figure()\n",
    "plt.plot()\n",
    "plt.figure()\n",
    "\n",
    "plt.show()"
   ]
  },
  {
   "cell_type": "code",
   "execution_count": null,
   "metadata": {},
   "outputs": [],
   "source": [
    "# def get_beta_eta(sent=[1], layer=0):\n",
    "#     # train_list = np.arange(1,451).tolist()\n",
    "#     z_vals_train, n_vals_train = reg.get_layer_values_and_spikes(layer=layer, win=80, sent_list=sent)\n",
    "#     # print(z_vals_train.shape, n_vals_train.shape)\n",
    "#     beta = np.linalg.solve(z_vals_train.T.dot(z_vals_train), (z_vals_train.T).dot(n_vals_train))\n",
    "#     return beta, n_vals_train, z_vals_train"
   ]
  },
  {
   "cell_type": "code",
   "execution_count": null,
   "metadata": {},
   "outputs": [],
   "source": [
    "spect_numpy_data = []\n",
    "for spect_list in spect_lists:\n",
    "    spect_numpy = []\n",
    "    for spect in spect_list:\n",
    "        spect_numpy.append(spect[0].detach().numpy())\n",
    "    spect_numpy_data.append(spect_numpy)\n",
    "\n",
    "# len(spect_numpy_data[0])\n",
    "\n",
    "\n",
    "# for n, spect in enumerate(spect_numpy_data):\n",
    "#     np.save('/scratch/gilbreth/akamsali/Research/Makin/Auditory_Cortex/notebooks/partial_input/layer_' + str(n) + '.npy', spect, allow_pickle=True)\n",
    "\n",
    "# spect = feature_extractor(aud, sampling_rate=16000, return_tensors=\"pt\").input_features\n",
    "# ld.specshow(spect[0].detach().numpy().T, sr=sr, x_axis='time', y_axis='linear')\n",
    "# plt.colorbar()\n",
    "\n"
   ]
  },
  {
   "cell_type": "code",
   "execution_count": null,
   "metadata": {},
   "outputs": [],
   "source": [
    "i = 0\n",
    "np.isclose(spect_numpy_data[0][i][:180,:], spect_numpy_data[1][i], rtol=1e-3)"
   ]
  },
  {
   "cell_type": "code",
   "execution_count": null,
   "metadata": {},
   "outputs": [],
   "source": [
    "# len(spect_numpy_data[0])\n",
    "for i in range(10):\n",
    "    for n, spects in enumerate(spect_numpy_data):\n",
    "        plt.figure()\n",
    "        ld.specshow(spects[i].T, sr=sr, x_axis='time', y_axis='linear')\n",
    "        plt.title(f\"Unit: {i}, sentence: {n}\")\n",
    "        "
   ]
  },
  {
   "cell_type": "code",
   "execution_count": null,
   "metadata": {},
   "outputs": [],
   "source": [
    "\n",
    "for i in range(len(layers)):\n",
    "    spects = np.load('/scratch/gilbreth/akamsali/Research/Makin/Auditory_Cortex/notebooks/conv_layer_' + str(i) + '.npy', allow_pickle=True)\n",
    "    print(spects.shape)\n",
    "    for j in range(10):\n",
    "        plt.figure()\n",
    "        ld.specshow(spects[j].T, sr=sr, x_axis='time', y_axis='linear')\n",
    "        plt.colorbar()\n",
    "        plt.title(f\"Layer:{i}, Unit_{i}\")\n",
    "        plt.savefig(f'/scratch/gilbreth/akamsali/Research/Makin/Auditory_Cortex/notebooks/plots_all_units/layer_{i}_unit_{j}.svg')\n",
    "\n",
    "\n",
    "\n",
    "# spect_numpy_grad_data = []\n",
    "# for spect_list in spect_lists:\n",
    "#     spect_numpy = []\n",
    "#     for spect in spect_list:\n",
    "#         spect_numpy.append(spect.grad.data[0].detach().numpy())\n",
    "#     spect_numpy_grad_data.append(spect_numpy)"
   ]
  },
  {
   "cell_type": "code",
   "execution_count": null,
   "metadata": {},
   "outputs": [],
   "source": [
    "# np.save('/scratch/gilbreth/akamsali/Research/Makin/Auditory_Cortex/notebooks/conv_layer_0.npy', spect_numpy_data[0], allow_pickle=True)\n",
    "# np.save('/scratch/gilbreth/akamsali/Research/Makin/Auditory_Cortex/notebooks/conv_layer_1.npy', spect_numpy_data[1], allow_pickle=True)\n",
    "\n",
    "# np.save('/scratch/gilbreth/akamsali/Research/Makin/Auditory_Cortex/notebooks/conv_layer_grad_0.npy', spect_numpy_grad_data[0], allow_pickle=True)\n",
    "# np.save('/scratch/gilbreth/akamsali/Research/Makin/Auditory_Cortex/notebooks/conv_layer_grad_1.npy', spect_numpy_grad_data[1], allow_pickle=True)"
   ]
  },
  {
   "cell_type": "code",
   "execution_count": null,
   "metadata": {},
   "outputs": [],
   "source": [
    "import numpy as np\n",
    "conv_layer_0 = np.load('/scratch/gilbreth/akamsali/Research/Makin/Auditory_Cortex/notebooks/conv_layer_0.npy', allow_pickle=True)\n",
    "conv_layer_1 = np.load('/scratch/gilbreth/akamsali/Research/Makin/Auditory_Cortex/notebooks/conv_layer_1.npy', allow_pickle=True)\n",
    "\n",
    "conv_layer_0_grad = np.load('/scratch/gilbreth/akamsali/Research/Makin/Auditory_Cortex/notebooks/conv_layer_grad_0.npy', allow_pickle=True)\n",
    "conv_layer_1_grad = np.load('/scratch/gilbreth/akamsali/Research/Makin/Auditory_Cortex/notebooks/conv_layer_grad_1.npy', allow_pickle=True)"
   ]
  },
  {
   "cell_type": "code",
   "execution_count": null,
   "metadata": {},
   "outputs": [],
   "source": [
    "conv_layer_0[0].T.shape"
   ]
  },
  {
   "cell_type": "code",
   "execution_count": null,
   "metadata": {},
   "outputs": [],
   "source": [
    "import matplotlib.pyplot as plt\n",
    "import librosa.display as ld\n",
    "\n",
    "spect = feature_extractor(aud, sampling_rate=16000, return_tensors=\"pt\").input_features\n",
    "ld.specshow(spect[0].detach().numpy().T, sr=sr, x_axis='time', y_axis='linear')\n",
    "plt.colorbar()\n",
    "\n",
    "for i in range(10):\n",
    "    plt.figure()\n",
    "    ld.specshow(conv_layer_0[i].T, sr=sr, x_axis='time', y_axis='linear')\n",
    "    plt.colorbar()\n",
    "    plt.title(f\"Unit_{i}\")\n",
    "    plt.savefig(f'/scratch/gilbreth/akamsali/Research/Makin/Auditory_Cortex/notebooks/plots_all_units/layer0/unit_{i}.png')"
   ]
  },
  {
   "cell_type": "code",
   "execution_count": null,
   "metadata": {},
   "outputs": [],
   "source": [
    "import matplotlib.pyplot as plt\n",
    "import librosa.display as ld\n",
    "\n",
    "spect = feature_extractor(aud, sampling_rate=16000, return_tensors=\"pt\").input_features\n",
    "ld.specshow(spect[0].detach().numpy().T, sr=sr, x_axis='time', y_axis='linear')\n",
    "plt.colorbar()\n",
    "\n",
    "for i in range(10):\n",
    "    plt.figure()\n",
    "    ld.specshow(conv_layer_1[i].T, sr=sr, x_axis='time', y_axis='linear')\n",
    "    plt.colorbar()\n",
    "    plt.title(f\"Unit_{i}\")\n",
    "    # plt.savefig(f'/scratch/gilbreth/akamsali/Research/Makin/Auditory_Cortex/notebooks/plots_all_units/layer0/unit_{i}.png')"
   ]
  },
  {
   "cell_type": "code",
   "execution_count": null,
   "metadata": {},
   "outputs": [],
   "source": [
    "# import matplotlib.pyplot as plt\n",
    "for i in range(2):\n",
    "    # plt.figure()\n",
    "    fig, ax = plt.subplots(nrows=1, ncols=2, figsize=(12,4))\n",
    "\n",
    "    im = ax[0].imshow(conv_layer_1[i].T)\n",
    "    ax[0].set_title(\"Optimal Input\")\n",
    "    cbar = fig.colorbar(im, ax=ax[0])\n",
    "    im2 = ax[1].imshow(conv_layer_1_grad[i].T)\n",
    "    cbar = fig.colorbar(im2, ax=ax[1])\n",
    "    ax[1].set_title(\"Gradient\")\n",
    "    plt.suptitle(f\"Layer 1 Unit_{i}\")\n",
    "    # plt.colorbar()\n",
    "    plt.savefig(f'/scratch/gilbreth/akamsali/Research/Makin/Auditory_Cortex/notebooks/plots_all_units/layer1/unit_{i}.png')"
   ]
  },
  {
   "cell_type": "code",
   "execution_count": null,
   "metadata": {},
   "outputs": [],
   "source": [
    "ld.specshow(conv_layer_0[0].T, sr=sr, x_axis='time', y_axis='linear')\n",
    "plt.colorbar()"
   ]
  },
  {
   "cell_type": "code",
   "execution_count": null,
   "metadata": {},
   "outputs": [],
   "source": [
    "# import json\n",
    "for i in range(2):\n",
    "    # with open('/scratch/gilbreth/akamsali/Research/Makin/Auditory_Cortex/notebooks/layer_' + str(i), 'w') as f:\n",
    "    np.savez(spect_numpy_data[i], '/scratch/gilbreth/akamsali/Research/Makin/Auditory_Cortex/notebooks/layer.npz')\n",
    "        # f.close()"
   ]
  },
  {
   "cell_type": "code",
   "execution_count": null,
   "metadata": {},
   "outputs": [],
   "source": [
    "for i in range(10):\n",
    "    fig, ax = plt.subplots(1, 2, figsize=(12,8))\n",
    "    # plt.figure()\n",
    "    im = ax[0].imshow(spect_list[0][i].grad.data[0].numpy().T)\n",
    "    im = ax[1].imshow(spect_list[0][i][0].detach().numpy().T)\n",
    "    # cb_ax = fig.add_axes([0.83, 0.1, 0.02, 0.8])\n",
    "    cbar = fig.colorbar(im)"
   ]
  },
  {
   "cell_type": "code",
   "execution_count": null,
   "metadata": {},
   "outputs": [],
   "source": [
    "for i in range(2):\n",
    "    plt.imshow(spect_list[1][i][0].detach().numpy().T)"
   ]
  },
  {
   "cell_type": "code",
   "execution_count": null,
   "metadata": {},
   "outputs": [],
   "source": [
    "for s, l in enumerate(loss_list[0]):\n",
    "    plt.plot(l, label=s)\n",
    "\n",
    "plt.legend()\n",
    "plt.title(\"Loss across layers\")\n",
    "plt.xlabel(\"Iter\")\n",
    "plt.ylabel(\"loss\")\n",
    "# plt.show()\n",
    "# plt.savefig(\"/scratch/gilbreth/akamsali/Research/Makin/Auditory_Cortex/notebooks/plots/select_time/loss_plt_last.svg\")\n"
   ]
  },
  {
   "cell_type": "code",
   "execution_count": null,
   "metadata": {},
   "outputs": [],
   "source": [
    "plt.imshow(feature_extractor(aud, sampling_rate=16000, return_tensors=\"pt\").input_features[0].T)\n",
    "for n,s in enumerate(spect_grad_data):\n",
    "    plt.figure()\n",
    "    plt.imshow(s.T)\n",
    "    plt.xlabel(\"Time\")\n",
    "    plt.ylabel(\"Frequency\")\n",
    "    plt.colorbar()\n",
    "\n",
    "    # plt.title(\"Gradient\")\n",
    "    plt.title(\"Optimal input last time, layer \" + str(n))\n",
    "    plt.savefig(\"/scratch/gilbreth/akamsali/Research/Makin/Auditory_Cortex/notebooks/plots/select_time/last_layer_\"+str(n)+\".svg\")"
   ]
  },
  {
   "cell_type": "code",
   "execution_count": null,
   "metadata": {},
   "outputs": [],
   "source": [
    "import pandas as pd\n",
    "df_list = []\n",
    "for s in spect_grad_data:\n",
    "    df_list.append(pd.DataFrame(s))\n",
    "pd.concat(df_list, axis=1).to_csv('/scratch/gilbreth/akamsali/Research/Makin/Auditory_Cortex/savefile.csv', index=False)"
   ]
  },
  {
   "cell_type": "code",
   "execution_count": null,
   "metadata": {},
   "outputs": [],
   "source": [
    "pd.read_csv('/scratch/gilbreth/akamsali/Research/Makin/Auditory_Cortex/savefile.csv')"
   ]
  },
  {
   "cell_type": "code",
   "execution_count": null,
   "metadata": {},
   "outputs": [],
   "source": [
    "plt.figure(figsize=(15,8))\n",
    "plt.imshow(spect_grad_data.T)\n",
    "plt.colorbar()\n",
    "plt.xlabel(\"Time\")\n",
    "plt.ylabel(\"Frequency\")\n",
    "plt.title(\"Gradient\")\n",
    "plt.show()"
   ]
  },
  {
   "cell_type": "code",
   "execution_count": null,
   "metadata": {},
   "outputs": [],
   "source": [
    "s = np.abs(spect.detach().numpy())\n",
    "s.shape"
   ]
  },
  {
   "cell_type": "code",
   "execution_count": null,
   "metadata": {},
   "outputs": [],
   "source": [
    "# import librosa\n",
    "# import scipy as sp\n",
    "\n",
    "# f, t, sci_spect =sp.signal.spectrogram(aud, fs=16000)\n",
    "# print(\"scipy\",sci_spect.T.shape)\n",
    "# hf_spect = feature_extractor(aud, sampling_rate=16000, return_tensors=\"pt\").input_features.squeeze_(0).detach().numpy().T\n",
    "# print(\"hf\",hf_spect.shape)\n",
    "# librosa_spect = librosa.feature.melspectrogram(aud, sr=16000, n_mels=189)\n",
    "# print(\"ls\",librosa_spect.T.shape)\n",
    "\n",
    "# librosa_spect_dB = librosa.power_to_db(librosa_spect, ref=np.max) \n",
    "# print(\"ls\",librosa_spect_dB.T.shape)\n",
    "\n",
    "# plt.pcolormesh(t, f, 10*np.log10(sci_spect), shading='gouraud')\n",
    "# plt.figure()\n",
    "# plt.specgram(aud, Fs=16000)\n",
    "# plt.figure()\n",
    "# plt.imshow(hf_spect)\n",
    "# plt.figure()\n",
    "# plt.imshow(librosa_spect.T)\n",
    "# plt.figure()\n",
    "# plt.imshow(librosa_spect_dB.T)\n",
    "# audio_from_loss_prop = librosa.griffinlim(s)\n",
    "# audio_from_loss_prop.shape"
   ]
  },
  {
   "cell_type": "code",
   "execution_count": null,
   "metadata": {},
   "outputs": [],
   "source": [
    "# y = aud\n",
    "# S = np.abs(librosa.stft(y))\n",
    "# # Invert using Griffin-Lim\n",
    "# y_inv = librosa.griffinlim(S)\n",
    "# # Invert without estimating phase\n",
    "# y_istft = librosa.istft(S)\n",
    "\n",
    "# # fig, ax = plt.subplots(nrows=3, sharex=True, sharey=True)\n",
    "# # librosa.display.waveshow(y, sr=sr, color='b', ax=ax[0])\n",
    "# plt.plot(y)\n",
    "# plt.title(\"Orig\")\n",
    "# plt.figure()\n",
    "# plt.plot(y_inv)\n",
    "# # plt.plot(audio_from_loss_prop)\n",
    "# # plt.plot(audio_from_loss_prop)\n",
    "# plt.title(\"GriffinLim\")\n",
    "# plt.figure()\n",
    "# plt.plot(y_istft)\n",
    "# plt.title(\"ISTFT\")"
   ]
  },
  {
   "cell_type": "code",
   "execution_count": null,
   "metadata": {},
   "outputs": [],
   "source": [
    "from transformers import Speech2TextForConditionalGeneration, Speech2TextProcessor\n",
    "\n",
    "# model_cg = Speech2TextForConditionalGeneration.from_pretrained(\"facebook/s2t-small-librispeech-asr\")\n",
    "processor_cg = Speech2TextProcessor.from_pretrained(\"facebook/s2t-small-librispeech-asr\")\n"
   ]
  },
  {
   "cell_type": "code",
   "execution_count": null,
   "metadata": {},
   "outputs": [],
   "source": [
    "# aud = neural_data.audio(12)\n",
    "# input_features = processor_cg(aud,padding=True, sampling_rate=16000, return_tensors=\"pt\").input_features\n",
    "\n",
    "# generated_ids = model_cg.generate(inputs=spect.unsqueeze(0))\n",
    "\n",
    "# transcription = processor_cg.batch_decode(generated_ids)[0]\n",
    "# transcription"
   ]
  },
  {
   "cell_type": "code",
   "execution_count": null,
   "metadata": {},
   "outputs": [],
   "source": [
    "# spect = torch.tensor(conv_layer_0[0])\n",
    "spect = spect_lists[0][0]\n",
    "spect.shape"
   ]
  },
  {
   "cell_type": "code",
   "execution_count": null,
   "metadata": {},
   "outputs": [],
   "source": [
    "# from gradient_extraction.hook import Hook\n",
    "\n",
    "# hook = Hook(model, layers[3], backward=True)\n",
    "\n",
    "\n",
    "decoder_input_ids = torch.tensor([[1, 1]]) * model.config.decoder_start_token_id\n",
    "generated_ids = model(spect, decoder_input_ids=decoder_input_ids)\n",
    "\n",
    "transcription = processor_cg.batch_decode(generated_ids)[0]\n",
    "transcription\n",
    "\n",
    "# generated_ids[0].shape"
   ]
  },
  {
   "cell_type": "code",
   "execution_count": null,
   "metadata": {},
   "outputs": [],
   "source": [
    "hook.output_f[0,:,0]"
   ]
  },
  {
   "cell_type": "code",
   "execution_count": null,
   "metadata": {},
   "outputs": [],
   "source": [
    "# from auditory_cortex.dataset import Neural_Data\n",
    "# import matplotlib.pyplot as plt\n",
    "\n",
    "# dir = '/depot/jgmakin/data/auditory_cortex/josh_data/data'\n",
    "# # dir = '/Users/akshita/Documents/Research/Makin/data'\n",
    "# subject = '200206'\n",
    "# neural_data = Neural_Data(dir, subject)\n",
    "\n",
    "win = 40\n",
    "sent = 12 \n",
    "\n",
    "edges, psth = neural_data.psth()\n",
    "# plt.bar(edges,psth, width=(0.8*win/1000))\n",
    "# plt.xlim(neural_data.duration(sent))\n",
    "# #plt.xlabel('Time (s)', fontsize=14)\n",
    "# plt.ylabel('Spike Counts', fontsize=14)"
   ]
  },
  {
   "cell_type": "code",
   "execution_count": null,
   "metadata": {},
   "outputs": [],
   "source": [
    "plt.bar(edges,psth, width=(0.8*win/1000))\n",
    "# plt.xlim(neural_data.duration(sent))\n",
    "plt.title(\"PSTH\")\n",
    "plt.xlabel('Time (s)', fontsize=14)\n",
    "plt.ylabel('Spike Counts', fontsize=14)"
   ]
  }
 ],
 "metadata": {
  "interpreter": {
   "hash": "11ae26810785ba78c37a15c9eb002d2311c93b4a4adb47993511490e08153fac"
  },
  "kernelspec": {
   "display_name": "Python 3.8.12 ('research_env')",
   "language": "python",
   "name": "python3"
  },
  "language_info": {
   "codemirror_mode": {
    "name": "ipython",
    "version": 3
   },
   "file_extension": ".py",
   "mimetype": "text/x-python",
   "name": "python",
   "nbconvert_exporter": "python",
   "pygments_lexer": "ipython3",
   "version": "3.8.12"
  },
  "orig_nbformat": 4
 },
 "nbformat": 4,
 "nbformat_minor": 2
}
