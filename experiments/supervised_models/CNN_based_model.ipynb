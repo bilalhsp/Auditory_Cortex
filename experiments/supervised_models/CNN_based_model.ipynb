{
 "cells": [
  {
   "cell_type": "code",
   "execution_count": 28,
   "metadata": {},
   "outputs": [
    {
     "name": "stderr",
     "output_type": "stream",
     "text": [
      "DEBUG:matplotlib.pyplot:Loaded backend module://matplotlib_inline.backend_inline version unknown.\n"
     ]
    }
   ],
   "source": [
    "import os\n",
    "import pickle\n",
    "import numpy as np\n",
    "from auditory_cortex.dataloader import DataLoader\n",
    "from auditory_cortex.spikes_dataset import SpikesData, Network, training_epoch, evaluation_epoch, get_dataloaders\n",
    "from auditory_cortex import cache_dir\n",
    "from auditory_cortex.utils import cc_norm\n",
    "from auditory_cortex.plotters.correlation_plotter import RegPlotter\n",
    "from auditory_cortex.plotters.plotter_utils import PlotterUtils\n",
    "import auditory_cortex\n",
    "\n",
    "import torch\n",
    "import optuna\n",
    "import torch.nn as nn\n",
    "import torch.nn.functional as F\n",
    "import matplotlib.pylab as plt\n",
    "%matplotlib inline"
   ]
  },
  {
   "cell_type": "markdown",
   "metadata": {},
   "source": [
    "#### DB filename.."
   ]
  },
  {
   "cell_type": "code",
   "execution_count": 57,
   "metadata": {},
   "outputs": [
    {
     "name": "stderr",
     "output_type": "stream",
     "text": [
      "[I 2023-11-19 23:14:28,459] Using an existing study with name 'CNN_based_model_core' instead of creating a new one.\n"
     ]
    },
    {
     "name": "stdout",
     "output_type": "stream",
     "text": [
      "sqlite:////scratch/gilbreth/ahmedb/cache/optuna/CNN_based_model_core.db\n",
      "Creating optuna study...\n",
      "    learning_rate: 0.0034302241168045608\n",
      "    weight_decay: 0.00014929491635326078\n",
      "    batch_size: 4\n",
      "    num_layers: 4\n",
      "    num_units_l0: 32\n",
      "    kernel_size_l0: 7\n",
      "    num_units_l1: 401\n",
      "    kernel_size_l1: 3\n",
      "    num_units_l2: 34\n",
      "    kernel_size_l2: 5\n",
      "    num_units_l3: 79\n",
      "    kernel_size_l3: 7\n"
     ]
    }
   ],
   "source": [
    "PRETRAINED = False\n",
    "# MODEL_NAME = 'wave2letter_modified'\n",
    "# LAYER_ID = 6\n",
    "MODEL_NAME = 'wave2vec2'\n",
    "LAYER_ID = 7\n",
    "# MODEL_NAME = 'deepspeech2'\n",
    "# LAYER_ID = 3\n",
    "# MODEL_NAME = 'speech2text'\n",
    "# LAYER_ID = 3\n",
    "\n",
    "\n",
    "AREA = 'core'\n",
    "# AREA = 'belt'\n",
    "\n",
    "study_name = f\"CNN_based_model_{AREA}\"\n",
    "if PRETRAINED:\n",
    "    study_name = f\"{MODEL_NAME}_l{LAYER_ID}_based_model_{AREA}\"\n",
    "\n",
    "# study_name = \"CNN_based_model\"\n",
    "optuna_cache_dir = os.path.join(cache_dir, 'optuna')\n",
    "\n",
    "abs_file_path = f\"{os.path.join(optuna_cache_dir, study_name)}.db\"\n",
    "\n",
    "if os.path.exists(abs_file_path):\n",
    "    storage_name = f\"sqlite:///{os.path.join(optuna_cache_dir, study_name)}.db\"\n",
    "    print(storage_name)\n",
    "else:\n",
    "    print(\"Results not available for the combo..\")\n",
    "\n",
    "print(f\"Creating optuna study...\")\n",
    "study = optuna.create_study(\n",
    "    study_name=study_name,\n",
    "    storage=storage_name,\n",
    "    load_if_exists=True,\n",
    "    direction=\"maximize\",\n",
    ")\n",
    "\n",
    "trial = study.best_trial\n",
    "\n",
    "for key, value in trial.params.items():\n",
    "    print(f\"    {key}: {value}\")\n",
    "\n"
   ]
  },
  {
   "cell_type": "code",
   "execution_count": 27,
   "metadata": {},
   "outputs": [
    {
     "name": "stdout",
     "output_type": "stream",
     "text": [
      "Not found...!\n"
     ]
    }
   ],
   "source": [
    "if PRETRAINED:\n",
    "    name_identifier = f'{MODEL_NAME}_layer_{LAYER_ID}_area_{AREA}'\n",
    "else:\n",
    "    name_identifier = f'CNN_area_{AREA}'\n",
    "\n",
    "\n",
    "network_checkpoint = os.path.join(\n",
    "        cache_dir, 'optuna', f'{name_identifier}.pth'\n",
    "    )\n",
    "if os.path.exists(network_checkpoint):\n",
    "    print(f\"Exists...\")\n",
    "else:\n",
    "    print(f\"Not found...!\")"
   ]
  },
  {
   "cell_type": "code",
   "execution_count": 31,
   "metadata": {},
   "outputs": [],
   "source": [
    "# os.remove(abs_file_path)"
   ]
  },
  {
   "cell_type": "markdown",
   "metadata": {},
   "source": [
    "#### Evaluating models..."
   ]
  },
  {
   "cell_type": "code",
   "execution_count": 44,
   "metadata": {},
   "outputs": [],
   "source": [
    "def test_model(\n",
    "        PRETRAINED = True, MODEL_NAME = 'wave2vec2', \n",
    "        LAYER_ID = 7, AREA = 'core'\n",
    "    ):\n",
    "    study_name = f\"CNN_based_model_{AREA}\"\n",
    "    if PRETRAINED:\n",
    "        study_name = f\"{MODEL_NAME}_l{LAYER_ID}_based_model_{AREA}\"\n",
    "\n",
    "    # study_name = \"CNN_based_model\"\n",
    "    optuna_cache_dir = os.path.join(cache_dir, 'optuna')\n",
    "\n",
    "    abs_file_path = f\"{os.path.join(optuna_cache_dir, study_name)}.db\"\n",
    "\n",
    "    if os.path.exists(abs_file_path):\n",
    "        storage_name = f\"sqlite:///{os.path.join(optuna_cache_dir, study_name)}.db\"\n",
    "\n",
    "    print(f\"Creating optuna study...\")\n",
    "    study = optuna.create_study(\n",
    "        study_name=study_name,\n",
    "        storage=storage_name,\n",
    "        load_if_exists=True,\n",
    "        direction=\"maximize\",\n",
    "    )\n",
    "\n",
    "    trial = study.best_trial\n",
    "\n",
    "    num_layers = trial.params['num_layers']\n",
    "    num_units = []\n",
    "    kernel_sizes = []\n",
    "    for i in range(num_layers):\n",
    "        num_units.append(trial.params[f\"num_units_l{i}\"])\n",
    "        kernel_sizes.append(trial.params[f\"kernel_size_l{i}\"])\n",
    "\n",
    "    if PRETRAINED:\n",
    "        dataloader = DataLoader()\n",
    "        pretrained_features = dataloader.get_DNN_layer_features(\n",
    "                model_name=MODEL_NAME, layer_ID=LAYER_ID\n",
    "            )\n",
    "    else:\n",
    "        pretrained_features = None\n",
    "\n",
    "    test_data = SpikesData(\n",
    "            test=True, pretrained=PRETRAINED,\n",
    "            pretrained_features=pretrained_features, neural_area=AREA \n",
    "        ) \n",
    "    in_channels = test_data.feat_channels\n",
    "    spike_channels = test_data.spike_channels\n",
    "\n",
    "    model = Network(\n",
    "        num_layers, num_units, kernel_sizes, in_channels, spike_channels\n",
    "        )\n",
    "    \n",
    "    if PRETRAINED:\n",
    "        name_identifier = f'{MODEL_NAME}_layer_{LAYER_ID}_area_{AREA}'\n",
    "    else:\n",
    "        name_identifier = f'CNN_area_{AREA}'\n",
    "\n",
    "    network_checkpoint = os.path.join(\n",
    "        cache_dir, 'optuna', f'{name_identifier}.pth'\n",
    "    )\n",
    "\n",
    "    # network_checkpoint = os.path.join(\n",
    "    #         cache_dir, 'optuna', f'{MODEL_NAME}_layer_{LAYER_ID}_area_{AREA}.pth'\n",
    "    #     )\n",
    "    if os.path.exists(network_checkpoint):\n",
    "        checkpoint = torch.load(network_checkpoint)\n",
    "        model.load_state_dict(checkpoint['model_state_dict'])\n",
    "    else:\n",
    "        raise FileNotFoundError(f\"Checkpoint {network_checkpoint} not found.\")\n",
    "\n",
    "    DEVICE = \"cuda\" if torch.cuda.is_available() else \"cpu\"\n",
    "\n",
    "    model = model.to(DEVICE)\n",
    "\n",
    "    test_dataloader = torch.utils.data.DataLoader(\n",
    "        test_data, batch_size = len(test_data), shuffle=True, collate_fn=SpikesData.collate_fn\n",
    "    )\n",
    "    model.eval()\n",
    "    with torch.no_grad():\n",
    "        # Test loss (Needs to be minimized..)\n",
    "        test_score = 0\n",
    "        for feats, spikes in test_dataloader:\n",
    "            feats = feats.to(DEVICE)\n",
    "            spikes = spikes.to(DEVICE)\n",
    "            predicted_spikes = model(feats)\n",
    "\n",
    "            test_corr = cc_norm(predicted_spikes.squeeze().cpu().numpy(), spikes.squeeze().cpu().numpy())\n",
    "            # test_corr =  correlations(predicted_spikes, spikes)\n",
    "    return test_corr, model, test_data\n",
    "    # return test_corr.cpu().numpy(), model, test_data\n",
    "\n",
    "    \n",
    "def correlations(Y_hat, Y):\n",
    "\n",
    "    Y = Y.squeeze()\n",
    "    Y_hat = Y_hat.squeeze()\n",
    "\n",
    "    N = Y.shape[1]\n",
    "\n",
    "    Y_std = torch.std(Y, dim=0)\n",
    "    Y_hat_std = torch.std(Y_hat, dim=0)\n",
    "    inners = torch.matmul((Y - torch.mean(Y, dim=0)).T, (Y_hat - torch.mean(Y_hat, dim=0)))/N\n",
    "    corr = torch.diag(inners)/torch.sqrt(Y_std*Y_hat_std)\n",
    "    corr = torch.clip(corr, min=0, max=1)\n",
    "\n",
    "    return corr\n",
    "\n",
    "def get_normalizers(dataloader, area, threshold):\n",
    "\n",
    "    sig_sessions = dataloader.corr_obj.get_significant_sessions(threshold=threshold)\n",
    "    sessions = dataloader.metadata.get_all_sessions(AREA)\n",
    "    sig_sessions = sig_sessions[np.isin(sig_sessions, sessions)]\n",
    "    normalizers = []\n",
    "    total_channels = 0\n",
    "    for session in sig_sessions:\n",
    "        # keep only good channels...\n",
    "        good_channels = np.array(\n",
    "            dataloader.corr_obj.get_good_channels(session, threshold=threshold),\n",
    "            dtype=np.uint32\n",
    "            )\n",
    "        for channel in good_channels:\n",
    "            norm = dataloader.corr_obj.get_selected_data(\n",
    "                sessions=[session], bin_width=20, delay=0, threshold=threshold,\n",
    "                channel=channel\n",
    "            ).head(1)['normalizer'].item()\n",
    "            normalizers.append(norm)\n",
    "    return np.array(normalizers)\n",
    "\n",
    "    \n",
    "\n",
    "\n",
    "# def bar_plot_with_model_colors(data_dict, ax=None):\n",
    "#     if ax is None:\n",
    "#         fig, ax = plt.subplots()\n",
    "#     means = []\n",
    "#     x_coordinates = []\n",
    "#     SEMs = []\n",
    "#     colors = []\n",
    "#     for model_name, layer_data in data_dict.items():\n",
    "#         x_coordinates.append(model_name)\n",
    "#         means.append(np.mean(layer_data))\n",
    "#         SEMs.append(np.std(layer_data)/np.sqrt(10)) #number of sents in test set?\n",
    "#         if model_name in auditory_cortex.model_names:\n",
    "#             colors.append(PlotterUtils.get_model_specific_color(model_name))\n",
    "#         else:\n",
    "#             colors.append()\n",
    "        \n",
    "#     ax.bar(x=x_coordinates, height=means, yerr=SEMs,\n",
    "#         color=colors)\n",
    "#     return ax\n",
    "\n"
   ]
  },
  {
   "cell_type": "code",
   "execution_count": 45,
   "metadata": {},
   "outputs": [],
   "source": [
    "uncorrected_scores_dict_core = {}\n",
    "uncorrected_scores_dict_belt = {}"
   ]
  },
  {
   "cell_type": "code",
   "execution_count": 46,
   "metadata": {},
   "outputs": [
    {
     "name": "stderr",
     "output_type": "stream",
     "text": [
      "[I 2023-11-19 23:05:23,720] Using an existing study with name 'wave2vec2_l7_based_model_belt' instead of creating a new one.\n"
     ]
    },
    {
     "name": "stdout",
     "output_type": "stream",
     "text": [
      "Creating optuna study...\n",
      "Reading existing dataframe.\n",
      "Resamping ANN features at bin-width: 20\n",
      "Reading existing dataframe.\n"
     ]
    },
    {
     "data": {
      "image/png": "[encoded data removed]",
      "text/plain": [
       "<Figure size 432x288 with 1 Axes>"
      ]
     },
     "metadata": {
      "needs_background": "light"
     },
     "output_type": "display_data"
    }
   ],
   "source": [
    "PRETRAINED = True\n",
    "\n",
    "MODEL_NAME = 'wave2vec2'\n",
    "LAYER_ID = 7\n",
    "# AREA = 'core'\n",
    "AREA = 'belt'\n",
    "\n",
    "test_corr, model, test_data = test_model(\n",
    "    PRETRAINED, MODEL_NAME, LAYER_ID, AREA\n",
    ")\n",
    "plt.hist(test_corr)\n",
    "plt.title(f\"{MODEL_NAME}, L-{LAYER_ID}, area-{AREA}, Median: {np.median(test_corr)}\")\n",
    "if AREA =='core':\n",
    "    uncorrected_scores_dict_core[MODEL_NAME] = test_corr\n",
    "else:\n",
    "    uncorrected_scores_dict_belt[MODEL_NAME] = test_corr"
   ]
  },
  {
   "cell_type": "code",
   "execution_count": 59,
   "metadata": {},
   "outputs": [
    {
     "name": "stderr",
     "output_type": "stream",
     "text": [
      "[I 2023-11-19 23:32:45,430] Using an existing study with name 'wave2vec2_l7_based_model_core' instead of creating a new one.\n"
     ]
    },
    {
     "name": "stdout",
     "output_type": "stream",
     "text": [
      "Creating optuna study...\n",
      "Reading existing dataframe.\n",
      "Resamping ANN features at bin-width: 20\n",
      "Reading existing dataframe.\n"
     ]
    },
    {
     "data": {
      "image/png": "[encoded data removed]",
      "text/plain": [
       "<Figure size 432x288 with 1 Axes>"
      ]
     },
     "metadata": {
      "needs_background": "light"
     },
     "output_type": "display_data"
    }
   ],
   "source": [
    "PRETRAINED = True\n",
    "\n",
    "MODEL_NAME = 'wave2vec2'\n",
    "LAYER_ID = 7\n",
    "AREA = 'core'\n",
    "# AREA = 'belt'\n",
    "\n",
    "test_corr, model, test_data = test_model(\n",
    "    PRETRAINED, MODEL_NAME, LAYER_ID, AREA\n",
    ")\n",
    "plt.hist(test_corr)\n",
    "plt.title(f\"{MODEL_NAME}, L-{LAYER_ID}, area-{AREA}, Median: {np.median(test_corr):.3f}\")\n",
    "if AREA =='core':\n",
    "    uncorrected_scores_dict_core[MODEL_NAME] = test_corr\n",
    "else:\n",
    "    uncorrected_scores_dict_belt[MODEL_NAME] = test_corr\n"
   ]
  },
  {
   "cell_type": "code",
   "execution_count": 60,
   "metadata": {},
   "outputs": [
    {
     "name": "stderr",
     "output_type": "stream",
     "text": [
      "[I 2023-11-19 23:33:56,148] Using an existing study with name 'wave2letter_modified_l6_based_model_core' instead of creating a new one.\n"
     ]
    },
    {
     "name": "stdout",
     "output_type": "stream",
     "text": [
      "Creating optuna study...\n"
     ]
    },
    {
     "name": "stdout",
     "output_type": "stream",
     "text": [
      "Reading existing dataframe.\n",
      "Resamping ANN features at bin-width: 20\n",
      "Reading existing dataframe.\n"
     ]
    },
    {
     "data": {
      "image/png": "[encoded data removed]",
      "text/plain": [
       "<Figure size 432x288 with 1 Axes>"
      ]
     },
     "metadata": {
      "needs_background": "light"
     },
     "output_type": "display_data"
    }
   ],
   "source": [
    "PRETRAINED = True\n",
    "\n",
    "MODEL_NAME = 'wave2letter_modified'\n",
    "LAYER_ID = 6\n",
    "AREA = 'core'\n",
    "# AREA = 'belt'\n",
    "\n",
    "test_corr, model, test_data = test_model(\n",
    "    PRETRAINED, MODEL_NAME, LAYER_ID, AREA\n",
    ")\n",
    "plt.hist(test_corr)\n",
    "plt.title(f\"{MODEL_NAME}, L-{LAYER_ID}, area-{AREA}, Median: {np.median(test_corr):.3f}\")\n",
    "if AREA =='core':\n",
    "    uncorrected_scores_dict_core[MODEL_NAME] = test_corr\n",
    "else:\n",
    "    uncorrected_scores_dict_belt[MODEL_NAME] = test_corr"
   ]
  },
  {
   "cell_type": "code",
   "execution_count": 47,
   "metadata": {},
   "outputs": [
    {
     "name": "stderr",
     "output_type": "stream",
     "text": [
      "[I 2023-11-19 23:06:43,231] Using an existing study with name 'wave2letter_modified_l6_based_model_belt' instead of creating a new one.\n"
     ]
    },
    {
     "name": "stdout",
     "output_type": "stream",
     "text": [
      "Creating optuna study...\n",
      "Reading existing dataframe.\n",
      "Resamping ANN features at bin-width: 20\n",
      "Reading existing dataframe.\n"
     ]
    },
    {
     "data": {
      "image/png": "[encoded data removed]",
      "text/plain": [
       "<Figure size 432x288 with 1 Axes>"
      ]
     },
     "metadata": {
      "needs_background": "light"
     },
     "output_type": "display_data"
    }
   ],
   "source": [
    "PRETRAINED = True\n",
    "\n",
    "MODEL_NAME = 'wave2letter_modified'\n",
    "LAYER_ID = 6\n",
    "# AREA = 'core'\n",
    "AREA = 'belt'\n",
    "\n",
    "test_corr, model, test_data = test_model(\n",
    "    PRETRAINED, MODEL_NAME, LAYER_ID, AREA\n",
    ")\n",
    "plt.hist(test_corr)\n",
    "plt.title(f\"{MODEL_NAME}, L-{LAYER_ID}, area-{AREA}, Median: {np.median(test_corr):.3f}\")\n",
    "if AREA =='core':\n",
    "    uncorrected_scores_dict_core[MODEL_NAME] = test_corr\n",
    "else:\n",
    "    uncorrected_scores_dict_belt[MODEL_NAME] = test_corr\n"
   ]
  },
  {
   "cell_type": "code",
   "execution_count": 61,
   "metadata": {},
   "outputs": [
    {
     "name": "stderr",
     "output_type": "stream",
     "text": [
      "[I 2023-11-19 23:34:12,253] Using an existing study with name 'deepspeech2_l3_based_model_core' instead of creating a new one.\n"
     ]
    },
    {
     "name": "stdout",
     "output_type": "stream",
     "text": [
      "Creating optuna study...\n",
      "Reading existing dataframe.\n",
      "Resamping ANN features at bin-width: 20\n",
      "Reading existing dataframe.\n"
     ]
    },
    {
     "data": {
      "image/png": "[encoded data removed]",
      "text/plain": [
       "<Figure size 432x288 with 1 Axes>"
      ]
     },
     "metadata": {
      "needs_background": "light"
     },
     "output_type": "display_data"
    }
   ],
   "source": [
    "PRETRAINED = True\n",
    "\n",
    "MODEL_NAME = 'deepspeech2'\n",
    "LAYER_ID = 3\n",
    "AREA = 'core'\n",
    "# AREA = 'belt'\n",
    "\n",
    "test_corr, model, test_data = test_model(\n",
    "    PRETRAINED, MODEL_NAME, LAYER_ID, AREA\n",
    ")\n",
    "plt.hist(test_corr)\n",
    "plt.title(f\"{MODEL_NAME}, L-{LAYER_ID}, area-{AREA}, Median: {np.median(test_corr):.3f}\")\n",
    "if AREA =='core':\n",
    "    uncorrected_scores_dict_core[MODEL_NAME] = test_corr\n",
    "else:\n",
    "    uncorrected_scores_dict_belt[MODEL_NAME] = test_corr\n"
   ]
  },
  {
   "cell_type": "code",
   "execution_count": 48,
   "metadata": {},
   "outputs": [
    {
     "name": "stderr",
     "output_type": "stream",
     "text": [
      "[I 2023-11-19 23:07:00,140] Using an existing study with name 'deepspeech2_l3_based_model_belt' instead of creating a new one.\n"
     ]
    },
    {
     "name": "stdout",
     "output_type": "stream",
     "text": [
      "Creating optuna study...\n",
      "Reading existing dataframe.\n",
      "Resamping ANN features at bin-width: 20\n",
      "Reading existing dataframe.\n"
     ]
    },
    {
     "data": {
      "image/png": "[encoded data removed]",
      "text/plain": [
       "<Figure size 432x288 with 1 Axes>"
      ]
     },
     "metadata": {
      "needs_background": "light"
     },
     "output_type": "display_data"
    }
   ],
   "source": [
    "PRETRAINED = True\n",
    "\n",
    "MODEL_NAME = 'deepspeech2'\n",
    "LAYER_ID = 3\n",
    "# AREA = 'core'\n",
    "AREA = 'belt'\n",
    "\n",
    "test_corr, model, test_data = test_model(\n",
    "    PRETRAINED, MODEL_NAME, LAYER_ID, AREA\n",
    ")\n",
    "plt.hist(test_corr)\n",
    "plt.title(f\"{MODEL_NAME}, L-{LAYER_ID}, area-{AREA}, Median: {np.median(test_corr):.3f}\")\n",
    "if AREA =='core':\n",
    "    uncorrected_scores_dict_core[MODEL_NAME] = test_corr\n",
    "else:\n",
    "    uncorrected_scores_dict_belt[MODEL_NAME] = test_corr\n"
   ]
  },
  {
   "cell_type": "code",
   "execution_count": 62,
   "metadata": {},
   "outputs": [
    {
     "name": "stderr",
     "output_type": "stream",
     "text": [
      "[I 2023-11-19 23:34:31,857] Using an existing study with name 'speech2text_l3_based_model_core' instead of creating a new one.\n"
     ]
    },
    {
     "name": "stdout",
     "output_type": "stream",
     "text": [
      "Creating optuna study...\n"
     ]
    },
    {
     "name": "stdout",
     "output_type": "stream",
     "text": [
      "Reading existing dataframe.\n",
      "Resamping ANN features at bin-width: 20\n",
      "Reading existing dataframe.\n"
     ]
    },
    {
     "data": {
      "image/png": "[encoded data removed]",
      "text/plain": [
       "<Figure size 432x288 with 1 Axes>"
      ]
     },
     "metadata": {
      "needs_background": "light"
     },
     "output_type": "display_data"
    }
   ],
   "source": [
    "PRETRAINED = True\n",
    "\n",
    "MODEL_NAME = 'speech2text'\n",
    "LAYER_ID = 3\n",
    "AREA = 'core'\n",
    "# AREA = 'belt'\n",
    "\n",
    "test_corr, model, test_data = test_model(\n",
    "    PRETRAINED, MODEL_NAME, LAYER_ID, AREA\n",
    ")\n",
    "plt.hist(test_corr)\n",
    "plt.title(f\"{MODEL_NAME}, L-{LAYER_ID}, area-{AREA}, Median: {np.median(test_corr):.3f}\")\n",
    "if AREA =='core':\n",
    "    uncorrected_scores_dict_core[MODEL_NAME] = test_corr\n",
    "else:\n",
    "    uncorrected_scores_dict_belt[MODEL_NAME] = test_corr\n"
   ]
  },
  {
   "cell_type": "code",
   "execution_count": 49,
   "metadata": {},
   "outputs": [
    {
     "name": "stderr",
     "output_type": "stream",
     "text": [
      "[I 2023-11-19 23:07:20,711] Using an existing study with name 'speech2text_l3_based_model_belt' instead of creating a new one.\n"
     ]
    },
    {
     "name": "stdout",
     "output_type": "stream",
     "text": [
      "Creating optuna study...\n",
      "Reading existing dataframe.\n",
      "Resamping ANN features at bin-width: 20\n",
      "Reading existing dataframe.\n"
     ]
    },
    {
     "data": {
      "image/png": "[encoded data removed]",
      "text/plain": [
       "<Figure size 432x288 with 1 Axes>"
      ]
     },
     "metadata": {
      "needs_background": "light"
     },
     "output_type": "display_data"
    }
   ],
   "source": [
    "PRETRAINED = True\n",
    "\n",
    "MODEL_NAME = 'speech2text'\n",
    "LAYER_ID = 3\n",
    "# AREA = 'core'\n",
    "AREA = 'belt'\n",
    "\n",
    "test_corr, model, test_data = test_model(\n",
    "    PRETRAINED, MODEL_NAME, LAYER_ID, AREA\n",
    ")\n",
    "plt.hist(test_corr)\n",
    "plt.title(f\"{MODEL_NAME}, L-{LAYER_ID}, area-{AREA}, Median: {np.median(test_corr):.3f}\")\n",
    "if AREA =='core':\n",
    "    uncorrected_scores_dict_core[MODEL_NAME] = test_corr\n",
    "else:\n",
    "    uncorrected_scores_dict_belt[MODEL_NAME] = test_corr\n"
   ]
  },
  {
   "cell_type": "code",
   "execution_count": 58,
   "metadata": {},
   "outputs": [
    {
     "name": "stderr",
     "output_type": "stream",
     "text": [
      "[I 2023-11-19 23:31:58,642] Using an existing study with name 'CNN_based_model_core' instead of creating a new one.\n"
     ]
    },
    {
     "name": "stdout",
     "output_type": "stream",
     "text": [
      "Creating optuna study...\n",
      "Reading existing dataframe.\n"
     ]
    },
    {
     "data": {
      "image/png": "[encoded data removed]",
      "text/plain": [
       "<Figure size 432x288 with 1 Axes>"
      ]
     },
     "metadata": {
      "needs_background": "light"
     },
     "output_type": "display_data"
    }
   ],
   "source": [
    "PRETRAINED = False\n",
    "\n",
    "MODEL_NAME = 'CNN'\n",
    "LAYER_ID = 7\n",
    "AREA = 'core'\n",
    "# AREA = 'belt'\n",
    "\n",
    "\n",
    "test_corr, model, test_data = test_model(\n",
    "    PRETRAINED, MODEL_NAME, LAYER_ID, AREA\n",
    ")\n",
    "\n",
    "plt.hist(test_corr)\n",
    "if not PRETRAINED:\n",
    "    MODEL_NAME = 'CNN'\n",
    "    plt.title(f\"{MODEL_NAME},  Median: {np.median(test_corr)}\")\n",
    "else:\n",
    "    plt.title(f\"{MODEL_NAME}, L-{LAYER_ID}, area-{AREA}, Median: {np.median(test_corr)}\")\n",
    "\n",
    "if AREA =='core':\n",
    "    uncorrected_scores_dict_core[MODEL_NAME] = test_corr\n",
    "else:\n",
    "    uncorrected_scores_dict_belt[MODEL_NAME] = test_corr\n"
   ]
  },
  {
   "cell_type": "code",
   "execution_count": 50,
   "metadata": {},
   "outputs": [
    {
     "name": "stderr",
     "output_type": "stream",
     "text": [
      "[I 2023-11-19 23:07:37,268] Using an existing study with name 'CNN_based_model_belt' instead of creating a new one.\n"
     ]
    },
    {
     "name": "stdout",
     "output_type": "stream",
     "text": [
      "Creating optuna study...\n",
      "Reading existing dataframe.\n"
     ]
    },
    {
     "data": {
      "image/png": "[encoded data removed]",
      "text/plain": [
       "<Figure size 432x288 with 1 Axes>"
      ]
     },
     "metadata": {
      "needs_background": "light"
     },
     "output_type": "display_data"
    }
   ],
   "source": [
    "PRETRAINED = False\n",
    "\n",
    "MODEL_NAME = 'CNN'\n",
    "LAYER_ID = 7\n",
    "# AREA = 'core'\n",
    "AREA = 'belt'\n",
    "\n",
    "\n",
    "test_corr, model, test_data = test_model(\n",
    "    PRETRAINED, MODEL_NAME, LAYER_ID, AREA\n",
    ")\n",
    "\n",
    "plt.hist(test_corr)\n",
    "if not PRETRAINED:\n",
    "    MODEL_NAME = 'CNN'\n",
    "    plt.title(f\"{MODEL_NAME},  Median: {np.median(test_corr)}\")\n",
    "else:\n",
    "    plt.title(f\"{MODEL_NAME}, L-{LAYER_ID}, area-{AREA}, Median: {np.median(test_corr)}\")\n",
    "\n",
    "if AREA =='core':\n",
    "    uncorrected_scores_dict_core[MODEL_NAME] = test_corr\n",
    "else:\n",
    "    uncorrected_scores_dict_belt[MODEL_NAME] = test_corr\n"
   ]
  },
  {
   "cell_type": "code",
   "execution_count": null,
   "metadata": {},
   "outputs": [],
   "source": []
  },
  {
   "cell_type": "code",
   "execution_count": 26,
   "metadata": {},
   "outputs": [
    {
     "data": {
      "text/plain": [
       "(198,)"
      ]
     },
     "execution_count": 26,
     "metadata": {},
     "output_type": "execute_result"
    }
   ],
   "source": [
    "test_corr.shape"
   ]
  },
  {
   "cell_type": "code",
   "execution_count": 63,
   "metadata": {},
   "outputs": [
    {
     "name": "stdout",
     "output_type": "stream",
     "text": [
      "model_name 'CNN' not recognizable!!!\n"
     ]
    },
    {
     "data": {
      "text/plain": [
       "Text(0.5, 1.0, 'Uncorrected test correlations, core')"
      ]
     },
     "execution_count": 63,
     "metadata": {},
     "output_type": "execute_result"
    },
    {
     "data": {
      "image/png": "[encoded data removed]",
      "text/plain": [
       "<Figure size 432x288 with 1 Axes>"
      ]
     },
     "metadata": {
      "needs_background": "light"
     },
     "output_type": "display_data"
    }
   ],
   "source": [
    "ax = RegPlotter.bar_plot_with_model_colors(uncorrected_scores_dict_core)\n",
    "plt.xticks(rotation=90, va='center', ha='center')\n",
    "ax.set_title(\"Uncorrected test correlations, core\")"
   ]
  },
  {
   "cell_type": "code",
   "execution_count": 51,
   "metadata": {},
   "outputs": [
    {
     "name": "stdout",
     "output_type": "stream",
     "text": [
      "model_name 'CNN' not recognizable!!!\n"
     ]
    },
    {
     "data": {
      "text/plain": [
       "Text(0.5, 1.0, 'Uncorrected test correlations, belt')"
      ]
     },
     "execution_count": 51,
     "metadata": {},
     "output_type": "execute_result"
    },
    {
     "data": {
      "image/png": "[encoded data removed]",
      "text/plain": [
       "<Figure size 432x288 with 1 Axes>"
      ]
     },
     "metadata": {
      "needs_background": "light"
     },
     "output_type": "display_data"
    }
   ],
   "source": [
    "ax = RegPlotter.bar_plot_with_model_colors(uncorrected_scores_dict_belt)\n",
    "plt.xticks(rotation=90, va='center', ha='center')\n",
    "ax.set_title(\"Uncorrected test correlations, belt\")"
   ]
  },
  {
   "cell_type": "code",
   "execution_count": 52,
   "metadata": {},
   "outputs": [
    {
     "name": "stdout",
     "output_type": "stream",
     "text": [
      "Reading existing dataframe.\n"
     ]
    }
   ],
   "source": [
    "AREA = 'core'\n",
    "threshold = 0.061\n",
    "dataloader = DataLoader()\n",
    "normalizer_dict = {}\n",
    "normalizer_dict[AREA] = get_normalizers(\n",
    "    dataloader, AREA, threshold \n",
    ")\n",
    "AREA = 'belt'\n",
    "normalizer_dict[AREA] = get_normalizers(\n",
    "    dataloader, AREA, threshold \n",
    ")"
   ]
  },
  {
   "cell_type": "code",
   "execution_count": 64,
   "metadata": {},
   "outputs": [],
   "source": [
    "AREA = 'core'\n",
    "corrected_scores_dict_core = {}\n",
    "for key, value in uncorrected_scores_dict_core.items():\n",
    "    corrected_scores_dict_core[key] =  value / np.sqrt(normalizer_dict[AREA])\n",
    "\n",
    "AREA = 'belt'\n",
    "corrected_scores_dict_belt = {}\n",
    "for key, value in uncorrected_scores_dict_belt.items():\n",
    "    corrected_scores_dict_belt[key] =  value / np.sqrt(normalizer_dict[AREA])\n"
   ]
  },
  {
   "cell_type": "code",
   "execution_count": 65,
   "metadata": {},
   "outputs": [
    {
     "name": "stdout",
     "output_type": "stream",
     "text": [
      "model_name 'CNN' not recognizable!!!\n"
     ]
    },
    {
     "data": {
      "text/plain": [
       "Text(0.5, 1.0, 'Corrected test correlations, core')"
      ]
     },
     "execution_count": 65,
     "metadata": {},
     "output_type": "execute_result"
    },
    {
     "data": {
      "image/png": "[encoded data removed]",
      "text/plain": [
       "<Figure size 432x288 with 1 Axes>"
      ]
     },
     "metadata": {
      "needs_background": "light"
     },
     "output_type": "display_data"
    }
   ],
   "source": [
    "ax = RegPlotter.bar_plot_with_model_colors(corrected_scores_dict_core)\n",
    "plt.xticks(rotation=90, va='center', ha='center')\n",
    "ax.set_title(\"Corrected test correlations, core\")"
   ]
  },
  {
   "cell_type": "code",
   "execution_count": 55,
   "metadata": {},
   "outputs": [
    {
     "name": "stdout",
     "output_type": "stream",
     "text": [
      "model_name 'CNN' not recognizable!!!\n"
     ]
    },
    {
     "data": {
      "text/plain": [
       "Text(0.5, 1.0, 'corrected test correlations, belt')"
      ]
     },
     "execution_count": 55,
     "metadata": {},
     "output_type": "execute_result"
    },
    {
     "data": {
      "image/png": "[encoded data removed]",
      "text/plain": [
       "<Figure size 432x288 with 1 Axes>"
      ]
     },
     "metadata": {
      "needs_background": "light"
     },
     "output_type": "display_data"
    }
   ],
   "source": [
    "ax = RegPlotter.bar_plot_with_model_colors(corrected_scores_dict_belt)\n",
    "plt.xticks(rotation=90, va='center', ha='center')\n",
    "ax.set_title(\"corrected test correlations, belt\")"
   ]
  },
  {
   "cell_type": "markdown",
   "metadata": {},
   "source": [
    "#### CNN direct.."
   ]
  },
  {
   "cell_type": "code",
   "execution_count": null,
   "metadata": {},
   "outputs": [],
   "source": [
    "SPIKE_CHANNELS = 217\n",
    "SPECT_CHANNELS = 128\n",
    "EPOCHS = 100\n",
    "BATCH_SIZE = 32\n",
    "\n",
    "DEVICE = \"cuda\" if torch.cuda.is_available() else \"cpu\"\n",
    "\n",
    "model = Network(2, [256, 256], [5,3], SPECT_CHANNELS, SPIKE_CHANNELS).to(DEVICE)\n",
    "train_dataloader, test_dataloader = get_dataloaders(BATCH_SIZE)\n",
    "\n",
    "learning_rate = 1e-3\n",
    "weight_decay = 1e-4\n",
    "optimizer = torch.optim.Adam(model.parameters(), lr=learning_rate, weight_decay=weight_decay)\n",
    "\n",
    "train_loss_history = []\n",
    "test_loss_history = []\n",
    "for epoch in range(EPOCHS):\n",
    "    # training_loss = 0\n",
    "    print(f\"{epoch+1}/{EPOCHS}:\", end='')\n",
    "\n",
    "    training_loss = training_epoch(\n",
    "        model, optimizer, train_dataloader, DEVICE)\n",
    "\n",
    "    print(f\"train_loss: {training_loss}, \", end='')\n",
    "    train_loss_history.append(training_loss)\n",
    "\n",
    "    # # Evaluate performace...\n",
    "    # if (epoch+1) % 1==0:\n",
    "    test_loss = evaluation_epoch(\n",
    "        model, test_dataloader, DEVICE\n",
    "        )\n",
    "    print(f\"test_loss: {test_loss}, \")\n",
    "    test_loss_history.append(test_loss)\n"
   ]
  },
  {
   "cell_type": "markdown",
   "metadata": {},
   "source": [
    "#### saving model..."
   ]
  },
  {
   "cell_type": "code",
   "execution_count": null,
   "metadata": {},
   "outputs": [],
   "source": []
  },
  {
   "cell_type": "code",
   "execution_count": null,
   "metadata": {},
   "outputs": [],
   "source": [
    "import os\n",
    "import time\n",
    "import torch\n",
    "import torch.nn as nn\n",
    "import torch.nn.functional as F\n",
    "import optuna\n",
    "import argparse\n",
    "\n",
    "from auditory_cortex.spikes_dataset import SpikesData, Network, training_epoch, evaluation_epoch, get_dataloaders\n",
    "from auditory_cortex import cache_dir\n",
    "\n",
    "SPIKE_CHANNELS = 217\n",
    "SPECT_CHANNELS = 128\n",
    "EPOCHS = 25\n",
    "\n",
    "\n",
    "# BATCH_SIZE = 32\n",
    "\n",
    "DEVICE = \"cuda\" if torch.cuda.is_available() else \"cpu\"\n",
    "\n",
    "\n",
    "def create_network(trial, in_channels, spike_channels):\n",
    "    \n",
    "    num_layers = trial.suggest_int(\"num_layers\", 1, 7)\n",
    "\n",
    "    layers = []\n",
    "    num_units = []\n",
    "    kernel_sizes = []\n",
    "    for i in range(num_layers):\n",
    "        num_units.append(trial.suggest_int(f\"num_units_l{i}\", 32, 512, log=True))\n",
    "        kernel_sizes.append(trial.suggest_int(f\"kernel_size_l{i}\", 3, 9, step=2))\n",
    "\n",
    "    model = Network(\n",
    "        num_layers, num_units, kernel_sizes, in_channels, spike_channels\n",
    "        )\n",
    "    return model\n",
    "\n",
    "\n",
    "def train_and_save(trial):\n",
    "\n",
    "    batch_size = trial['batch_size']\n",
    "    learning_rate = trial['learning_rate']\n",
    "    weight_decay = trial['weight_decay']\n",
    "\n",
    "    # get dataloaders...\n",
    "    train_dataloader, test_dataloader, feat_channels = get_dataloaders(\n",
    "        batch_size, pretrained=PRETRAINED, model_name=MODEL_NAME, layer_ID=LAYER_ID,\n",
    "        neural_area=AREA\n",
    "    )\n",
    "\n",
    "    num_layers = trial['num_layers']\n",
    "\n",
    "    layers = []\n",
    "    num_units = []\n",
    "    kernel_sizes = []\n",
    "    for i in range(num_layers):\n",
    "        num_units.append(trial[f\"num_units_l{i}\"])\n",
    "        kernel_sizes.append(trial[f\"kernel_size_l{i}\"])\n",
    "\n",
    "    model = Network(\n",
    "        num_layers, num_units, kernel_sizes, feat_channels, SPIKE_CHANNELS\n",
    "        ).to(device=DEVICE)\n",
    "\n",
    "    optimizer = torch.optim.Adam(model.parameters(), lr=learning_rate, weight_decay=weight_decay)\n",
    "\n",
    "    train_loss_history = []\n",
    "    val_loss_history = []\n",
    "    for epoch in range(EPOCHS):\n",
    "        # training_loss = 0\n",
    "        print(f\"{epoch+1}/{EPOCHS}:\")\n",
    "\n",
    "        training_loss = training_epoch(\n",
    "            model, optimizer, train_dataloader, DEVICE)\n",
    "        train_loss_history.append(training_loss)\n",
    "        # Evaluate performace...\n",
    "        test_score = evaluation_epoch(\n",
    "                model, test_dataloader, DEVICE\n",
    "            )\n",
    "        \n",
    "        val_loss_history.append(test_score)\n",
    "\n",
    "        # trial.report(test_score, epoch)\n",
    "        # if trial.should_prune:\n",
    "            # assert False, \"should_prune() should always return False with this pruner.\"\n",
    "            \n",
    "            #  raise optuna.exceptions.TrialPruned()\n",
    "    losses = {\n",
    "        'training': train_loss_history,\n",
    "        'validation': val_loss_history \n",
    "    }\n",
    "\n",
    "    network_checkpoint = os.path.join(\n",
    "        cache_dir, 'optuna', f'{MODEL_NAME}_layer_{LAYER_ID}', f'_area_{AREA}.pth'\n",
    "    )\n",
    "    losses_filename = os.path.join(\n",
    "        cache_dir, 'optuna', f'{MODEL_NAME}_layer_{LAYER_ID}', f'_area_{AREA}', 'losses.pkl'\n",
    "    )\n",
    "\n",
    "    with open(losses_filename, 'wb') as fout:\n",
    "        pickle.dump(losses, fout)\n",
    "\n",
    "    save_checkpoint(model, optimizer, EPOCHS, network_checkpoint)\n",
    "    return test_score\n",
    "\n",
    "\n",
    "def save_checkpoint(model, optimizer, epoch, PATH):\n",
    "\n",
    "    checkpoint = {\n",
    "        'epoch': epoch,\n",
    "        'model_state_dict': model.state_dict(),\n",
    "        'optimizer_state_dict': optimizer.state_dict(),\n",
    "        }\n",
    "\n",
    "    torch.save(checkpoint, PATH)\n",
    "\n",
    "\n",
    "# ------------------  get parser ----------------------#\n",
    "\n",
    "def get_parser():\n",
    "    # create an instance of argument parser\n",
    "    parser = argparse.ArgumentParser(\n",
    "        description='This is to compute and save the normalizer '+\n",
    "            'for the sessions of neural data.',\n",
    "        formatter_class=argparse.ArgumentDefaultsHelpFormatter\n",
    "        )\n",
    "\n",
    "        # add arguments to read from command line\n",
    "    parser.add_argument(\n",
    "        '-m', '--model_name', dest='model_name', action='store',#  dest='model_name', required=True,\n",
    "        choices=['wave2letter_modified', 'wave2vec2', 'speech2text', 'deepspeech2',\n",
    "                'whisper_tiny', 'whisper_small', 'whisper_base', 'whisper_medium'],\n",
    "        default='wave2vec2', \n",
    "        help='model to be used for RSA analysis.'\n",
    "    )\n",
    "    parser.add_argument(\n",
    "        '-a','--neural_area', dest='neural_area', action='store_true', default='all',\n",
    "        choices=['core', 'belt', 'all']\n",
    "        help=\"Choose bin_width for normalizers.\"\n",
    "    )\n",
    "\n",
    "    parser.add_argument(\n",
    "        '-p','--pretrained', dest='pretrained', action='store_true', default=False,\n",
    "        help=\"Choose bin_width for normalizers.\"\n",
    "    )\n",
    "    parser.add_argument(\n",
    "        '-l','--layer', dest='layer_ID', action='store', type=int, default=7,\n",
    "        help=\"layer ID of Neural areas.\"\n",
    "    )\n",
    "    return parser\n",
    "\n",
    "def run_study(args):\n",
    "    # pretrained = True\n",
    "    # model_name = 'wave2vec2'\n",
    "    # layer_ID = 7\n",
    "    global PRETRAINED\n",
    "    global MODEL_NAME\n",
    "    global LAYER_ID\n",
    "    global AREA\n",
    "\n",
    "    PRETRAINED = args.pretrained\n",
    "    MODEL_NAME = args.model_name\n",
    "    LAYER_ID = args.layer_ID\n",
    "    AREA = args.area\n",
    "\n",
    "\n",
    "    study_name = f\"CNN_based_model_{AREA}\"\n",
    "    if PRETRAINED:\n",
    "        study_name = f\"{MODEL_NAME}_l{LAYER_ID}_based_model_{AREA}\"\n",
    "\n",
    "    optuna_cache_dir = os.path.join(cache_dir, 'optuna')\n",
    "    if not os.path.exists(optuna_cache_dir):\n",
    "        os.makedirs(optuna_cache_dir)\n",
    "        print(f\"Optuna cache dir created.\")\n",
    "\n",
    "    storage_name = f\"sqlite:///{os.path.join(optuna_cache_dir, study_name)}.db\"\n",
    "\n",
    "    print(f\"Creating optuna study...\")\n",
    "    study = optuna.create_study(\n",
    "        study_name=study_name,\n",
    "        storage=storage_name,\n",
    "        load_if_exists=True,\n",
    "        direction=\"maximize\",\n",
    "        # sampler=optuna.TPESampler(n_startup_trials=25, multivariate=True, seed=123),\n",
    "        # pruner=optuna.pruners.NopPruner(),\n",
    "        # pruner=optuna.pruners.SuccessiveHalvingPruner(min_resource='auto',\n",
    "        #         reduction_factor=4, min_early_stopping_rate=4\n",
    "        #     ),\n",
    "        # pruner=optuna.pruners.MedianPruner(\n",
    "        #     n_startup_trials=5, n_warmup_steps=10, interval_steps=2,\n",
    "        #     n_min_trials = 5\n",
    "        # )  \n",
    "    )\n",
    "\n",
    "    print(\"Best trial:\")\n",
    "    trial = study.best_trial\n",
    "\n",
    "    print(\"  Value: \", trial.value)\n",
    "\n",
    "    print(\"  Params: \")\n",
    "    for key, value in trial.params.items():\n",
    "        print(\"    {}: {}\".format(key, value))\n",
    "\n",
    "    train_and_save(trial)\n",
    "\n",
    "\n",
    "\n",
    "if __name__ == \"__main__\":\n",
    "\n",
    "    start_time = time.time()\n",
    "    parser = get_parser()\n",
    "    args = parser.parse_args()\n",
    "\n",
    "    # display the arguments passed\n",
    "    for arg in vars(args):\n",
    "        print(f\"{arg:15} : {getattr(args, arg)}\")\n",
    "\n",
    "    run_study(args)\n",
    "    elapsed_time = time.time() - start_time\n",
    "    print(f\"It took {elapsed_time/60:.1f} min. to run.\")\n"
   ]
  },
  {
   "cell_type": "markdown",
   "metadata": {},
   "source": [
    "#### Using pretrained w2v2"
   ]
  },
  {
   "cell_type": "code",
   "execution_count": 2,
   "metadata": {},
   "outputs": [
    {
     "name": "stdout",
     "output_type": "stream",
     "text": [
      "Reading existing dataframe.\n"
     ]
    }
   ],
   "source": [
    "\n",
    "dataloader = DataLoader()"
   ]
  },
  {
   "cell_type": "code",
   "execution_count": 3,
   "metadata": {},
   "outputs": [
    {
     "name": "stdout",
     "output_type": "stream",
     "text": [
      "Resamping ANN features at bin-width: 20\n"
     ]
    }
   ],
   "source": [
    "feats = dataloader.get_DNN_layer_features(\"wave2vec2\", 7)"
   ]
  },
  {
   "cell_type": "markdown",
   "metadata": {},
   "source": []
  },
  {
   "cell_type": "code",
   "execution_count": 9,
   "metadata": {},
   "outputs": [],
   "source": [
    "out = next(iter(feats.values()))"
   ]
  },
  {
   "cell_type": "code",
   "execution_count": 10,
   "metadata": {},
   "outputs": [
    {
     "data": {
      "text/plain": [
       "array([[-0.11490692, -0.31417865, -0.20332897, ...,  0.30730438,\n",
       "         0.06202218,  0.5165188 ],\n",
       "       [-0.00848724, -0.2573662 , -0.02639392, ...,  0.07734188,\n",
       "         0.1576763 ,  0.12543337],\n",
       "       [ 0.04541423, -0.1392012 , -0.15199772, ..., -0.08024155,\n",
       "         0.15812479,  0.15192534],\n",
       "       ...,\n",
       "       [ 0.01544156,  0.12005015, -0.15437998, ..., -0.1014753 ,\n",
       "        -0.12161605,  0.34275883],\n",
       "       [-0.37257138,  0.28031945, -0.09344246, ..., -0.21024844,\n",
       "         0.01860132,  0.13655695],\n",
       "       [-0.20667167, -0.01455435, -0.03940091, ...,  0.03562726,\n",
       "        -0.25240362,  0.2758299 ]], dtype=float32)"
      ]
     },
     "execution_count": 10,
     "metadata": {},
     "output_type": "execute_result"
    }
   ],
   "source": [
    "out"
   ]
  },
  {
   "cell_type": "code",
   "execution_count": 6,
   "metadata": {},
   "outputs": [
    {
     "data": {
      "text/plain": [
       "(69, 768)"
      ]
     },
     "execution_count": 6,
     "metadata": {},
     "output_type": "execute_result"
    }
   ],
   "source": [
    "feats[12].shape"
   ]
  },
  {
   "cell_type": "code",
   "execution_count": 2,
   "metadata": {},
   "outputs": [
    {
     "name": "stdout",
     "output_type": "stream",
     "text": [
      "Reading existing dataframe.\n",
      "Resamping ANN features at bin-width: 20\n"
     ]
    }
   ],
   "source": [
    "data = SpikesData(pretrained=True)\n",
    "\n",
    "dataloader = torch.utils.data.DataLoader(\n",
    "    data, batch_size = 4, shuffle=True, collate_fn=SpikesData.collate_fn\n",
    ")"
   ]
  },
  {
   "cell_type": "code",
   "execution_count": 3,
   "metadata": {},
   "outputs": [
    {
     "data": {
      "text/plain": [
       "479"
      ]
     },
     "execution_count": 3,
     "metadata": {},
     "output_type": "execute_result"
    }
   ],
   "source": [
    "len(data)"
   ]
  },
  {
   "cell_type": "code",
   "execution_count": 4,
   "metadata": {},
   "outputs": [
    {
     "data": {
      "text/plain": [
       "768"
      ]
     },
     "execution_count": 4,
     "metadata": {},
     "output_type": "execute_result"
    }
   ],
   "source": [
    "data.feat_channels"
   ]
  },
  {
   "cell_type": "code",
   "execution_count": 5,
   "metadata": {},
   "outputs": [],
   "source": [
    "spect, spikes = data[0]"
   ]
  },
  {
   "cell_type": "code",
   "execution_count": 6,
   "metadata": {},
   "outputs": [
    {
     "data": {
      "text/plain": [
       "(75, 768)"
      ]
     },
     "execution_count": 6,
     "metadata": {},
     "output_type": "execute_result"
    }
   ],
   "source": [
    "spect.shape"
   ]
  },
  {
   "cell_type": "code",
   "execution_count": 7,
   "metadata": {},
   "outputs": [
    {
     "data": {
      "text/plain": [
       "torch.Size([75, 217])"
      ]
     },
     "execution_count": 7,
     "metadata": {},
     "output_type": "execute_result"
    }
   ],
   "source": [
    "spikes.shape"
   ]
  },
  {
   "cell_type": "code",
   "execution_count": 6,
   "metadata": {},
   "outputs": [
    {
     "data": {
      "text/plain": [
       "10"
      ]
     },
     "execution_count": 6,
     "metadata": {},
     "output_type": "execute_result"
    }
   ],
   "source": [
    "len(data)"
   ]
  },
  {
   "cell_type": "code",
   "execution_count": 6,
   "metadata": {},
   "outputs": [],
   "source": [
    "class Network(nn.Module):\n",
    "\n",
    "    def __init__(\n",
    "            self, num_layers, num_units, kernel_sizes,\n",
    "            in_channels, out_channels\n",
    "        ):\n",
    "        super(Network, self).__init__()\n",
    "        layers = []\n",
    "        for i in range(num_layers):\n",
    "            layers.append(nn.Conv1d(in_channels, out_channels=num_units[i],\n",
    "                                kernel_size=kernel_sizes[i], padding='same'))\n",
    "            layers.append(nn.ReLU())\n",
    "            in_channels = num_units[i]\n",
    "\n",
    "        self.conv_layers = nn.Sequential(*layers)\n",
    "        self.linear = nn.Linear(in_channels, out_channels)\n",
    "        self.out_channels = out_channels\n",
    "\n",
    "    def forward(self, x):\n",
    "        x = x.transpose(1,0) \n",
    "        x = self.conv_layers(x)     \n",
    "\n",
    "        # x = x.view(-1, x.shape[0]) \n",
    "        x = x.transpose(1,0)  \n",
    "\n",
    "        x = self.linear(x)\n",
    "        out = F.relu(x)\n",
    "        return out"
   ]
  },
  {
   "cell_type": "code",
   "execution_count": 7,
   "metadata": {},
   "outputs": [],
   "source": [
    "spike_channels = 217\n",
    "in_channels = 128\n",
    "model = Network(2, [512,512], [5,5], 128, 217)"
   ]
  },
  {
   "cell_type": "code",
   "execution_count": 8,
   "metadata": {},
   "outputs": [
    {
     "data": {
      "text/plain": [
       "torch.Size([445, 128])"
      ]
     },
     "execution_count": 8,
     "metadata": {},
     "output_type": "execute_result"
    }
   ],
   "source": [
    "spect, spikes = next(iter(dataloader))\n",
    "spect.shape"
   ]
  },
  {
   "cell_type": "code",
   "execution_count": 9,
   "metadata": {},
   "outputs": [],
   "source": [
    "out = model(spect)"
   ]
  },
  {
   "cell_type": "code",
   "execution_count": 10,
   "metadata": {},
   "outputs": [
    {
     "data": {
      "text/plain": [
       "torch.Size([445, 217])"
      ]
     },
     "execution_count": 10,
     "metadata": {},
     "output_type": "execute_result"
    }
   ],
   "source": [
    "out.shape"
   ]
  },
  {
   "cell_type": "code",
   "execution_count": 13,
   "metadata": {},
   "outputs": [],
   "source": [
    "study_name = \"CNN_based_model\"\n",
    "optuna_cache_dir = os.path.join(cache_dir, 'optuna')\n",
    "\n",
    "storage_name = f\"sqlite:///{os.path.join(optuna_cache_dir, study_name)}.db\""
   ]
  },
  {
   "cell_type": "code",
   "execution_count": 2,
   "metadata": {},
   "outputs": [],
   "source": [
    "study_name = \"CNN_based_model\"\n",
    "optuna_cache_dir = os.path.join(cache_dir, 'optuna')\n",
    "\n",
    "storage_name = f\"{os.path.join(optuna_cache_dir, study_name)}.db\""
   ]
  },
  {
   "cell_type": "code",
   "execution_count": 8,
   "metadata": {},
   "outputs": [
    {
     "ename": "NameError",
     "evalue": "name 'optuna_cache_dir' is not defined",
     "output_type": "error",
     "traceback": [
      "\u001b[0;31m---------------------------------------------------------------------------\u001b[0m",
      "\u001b[0;31mNameError\u001b[0m                                 Traceback (most recent call last)",
      "\u001b[1;32m/home/ahmedb/projects/Wav2Letter/Auditory_Cortex/experiments/supervised_models/CNN_based_model.ipynb Cell 24\u001b[0m line \u001b[0;36m<cell line: 8>\u001b[0;34m()\u001b[0m\n\u001b[1;32m      <a href='vscode-notebook-cell://ssh-remote%2Bgilbreth-f2/home/ahmedb/projects/Wav2Letter/Auditory_Cortex/experiments/supervised_models/CNN_based_model.ipynb#X36sdnNjb2RlLXJlbW90ZQ%3D%3D?line=4'>5</a>\u001b[0m \u001b[39mif\u001b[39;00m PRETRAINED:\n\u001b[1;32m      <a href='vscode-notebook-cell://ssh-remote%2Bgilbreth-f2/home/ahmedb/projects/Wav2Letter/Auditory_Cortex/experiments/supervised_models/CNN_based_model.ipynb#X36sdnNjb2RlLXJlbW90ZQ%3D%3D?line=5'>6</a>\u001b[0m     STUDY_NAME \u001b[39m=\u001b[39m \u001b[39mf\u001b[39m\u001b[39m\"\u001b[39m\u001b[39m{\u001b[39;00mMODEL_NAME\u001b[39m}\u001b[39;00m\u001b[39m_l\u001b[39m\u001b[39m{\u001b[39;00mLAYER_ID\u001b[39m}\u001b[39;00m\u001b[39m_based_model\u001b[39m\u001b[39m\"\u001b[39m\n\u001b[0;32m----> <a href='vscode-notebook-cell://ssh-remote%2Bgilbreth-f2/home/ahmedb/projects/Wav2Letter/Auditory_Cortex/experiments/supervised_models/CNN_based_model.ipynb#X36sdnNjb2RlLXJlbW90ZQ%3D%3D?line=7'>8</a>\u001b[0m storage_name \u001b[39m=\u001b[39m \u001b[39mf\u001b[39m\u001b[39m\"\u001b[39m\u001b[39m{\u001b[39;00mos\u001b[39m.\u001b[39mpath\u001b[39m.\u001b[39mjoin(optuna_cache_dir, study_name)\u001b[39m}\u001b[39;00m\u001b[39m.db\u001b[39m\u001b[39m\"\u001b[39m\n\u001b[1;32m      <a href='vscode-notebook-cell://ssh-remote%2Bgilbreth-f2/home/ahmedb/projects/Wav2Letter/Auditory_Cortex/experiments/supervised_models/CNN_based_model.ipynb#X36sdnNjb2RlLXJlbW90ZQ%3D%3D?line=8'>9</a>\u001b[0m storage_name\n",
      "\u001b[0;31mNameError\u001b[0m: name 'optuna_cache_dir' is not defined"
     ]
    }
   ],
   "source": [
    "PRETRAINED = True\n",
    "MODEL_NAME = 'wave2vec2'\n",
    "LAYER_ID = 7\n",
    "STUDY_NAME = \"CNN_based_model\"\n",
    "if PRETRAINED:\n",
    "    STUDY_NAME = f\"{MODEL_NAME}_l{LAYER_ID}_based_model\"\n",
    "\n",
    "storage_name = f\"{os.path.join(optuna_cache_dir, study_name)}.db\"\n",
    "storage_name"
   ]
  },
  {
   "cell_type": "code",
   "execution_count": 4,
   "metadata": {},
   "outputs": [
    {
     "ename": "FileNotFoundError",
     "evalue": "[Errno 2] No such file or directory: '/scratch/gilbreth/ahmedb/cache/optuna/CNN_based_model.db'",
     "output_type": "error",
     "traceback": [
      "\u001b[0;31m---------------------------------------------------------------------------\u001b[0m",
      "\u001b[0;31mFileNotFoundError\u001b[0m                         Traceback (most recent call last)",
      "\u001b[1;32m/home/ahmedb/projects/Wav2Letter/Auditory_Cortex/experiments/supervised_models/CNN_based_model.ipynb Cell 16\u001b[0m line \u001b[0;36m<cell line: 1>\u001b[0;34m()\u001b[0m\n\u001b[0;32m----> <a href='vscode-notebook-cell://ssh-remote%2Bgilbreth.rcac.purdue.edu/home/ahmedb/projects/Wav2Letter/Auditory_Cortex/experiments/supervised_models/CNN_based_model.ipynb#X22sdnNjb2RlLXJlbW90ZQ%3D%3D?line=0'>1</a>\u001b[0m os\u001b[39m.\u001b[39;49mremove(storage_name)\n",
      "\u001b[0;31mFileNotFoundError\u001b[0m: [Errno 2] No such file or directory: '/scratch/gilbreth/ahmedb/cache/optuna/CNN_based_model.db'"
     ]
    }
   ],
   "source": [
    "# os.remove(storage_name)"
   ]
  },
  {
   "cell_type": "code",
   "execution_count": 19,
   "metadata": {},
   "outputs": [
    {
     "data": {
      "text/plain": [
       "'/scratch/gilbreth/ahmedb/cache/optuna/CNN_based_model.db'"
      ]
     },
     "execution_count": 19,
     "metadata": {},
     "output_type": "execute_result"
    }
   ],
   "source": [
    "storage_name"
   ]
  },
  {
   "cell_type": "code",
   "execution_count": 11,
   "metadata": {},
   "outputs": [
    {
     "data": {
      "text/plain": [
       "torch.Size([445, 217])"
      ]
     },
     "execution_count": 11,
     "metadata": {},
     "output_type": "execute_result"
    }
   ],
   "source": [
    "spikes.shape"
   ]
  },
  {
   "cell_type": "code",
   "execution_count": null,
   "metadata": {},
   "outputs": [],
   "source": []
  }
 ],
 "metadata": {
  "kernelspec": {
   "display_name": "Python (My wav2letter Kernel)",
   "language": "python",
   "name": "wav2letter"
  },
  "language_info": {
   "codemirror_mode": {
    "name": "ipython",
    "version": 3
   },
   "file_extension": ".py",
   "mimetype": "text/x-python",
   "name": "python",
   "nbconvert_exporter": "python",
   "pygments_lexer": "ipython3",
   "version": "3.8.5"
  }
 },
 "nbformat": 4,
 "nbformat_minor": 2
}
