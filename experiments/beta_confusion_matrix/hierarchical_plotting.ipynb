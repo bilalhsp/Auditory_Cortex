{
 "cells": [
  {
   "cell_type": "code",
   "execution_count": 19,
   "metadata": {},
   "outputs": [
    {
     "name": "stderr",
     "output_type": "stream",
     "text": [
      "DEBUG:matplotlib.pyplot:Loaded backend module://matplotlib_inline.backend_inline version unknown.\n"
     ]
    }
   ],
   "source": [
    "import networkx as nx\n",
    "import matplotlib.pylab as plt\n",
    "%matplotlib inline\n",
    "from auditory_cortex.plotters.hierarchical_plotter import Tree, linkage_to_edges"
   ]
  },
  {
   "cell_type": "markdown",
   "metadata": {},
   "source": [
    "### color maps"
   ]
  },
  {
   "cell_type": "code",
   "execution_count": 2,
   "metadata": {},
   "outputs": [
    {
     "name": "stderr",
     "output_type": "stream",
     "text": [
      "INFO:fairseq.tasks.text_to_speech:Please install tensorboardX: pip install tensorboardX\n",
      "DEBUG:matplotlib.pyplot:Loaded backend agg version unknown.\n"
     ]
    },
    {
     "name": "stdout",
     "output_type": "stream",
     "text": [
      "Loading file...\n"
     ]
    }
   ],
   "source": [
    "from auditory_cortex.analyses.regression_weights import BetaAnalyzer\n",
    "from scipy.cluster.hierarchy import dendrogram, linkage\n",
    "from auditory_cortex.neural_data.config import RecordingConfig\n",
    "from auditory_cortex.neural_data.recording_sites import NeuralMetaData\n",
    "import auditory_cortex.utils as utils\n",
    "import numpy as np\n",
    "import colorsys\n",
    "\n",
    "layer = 6\n",
    "beta_analyzer = BetaAnalyzer('wave2letter_modified')\n",
    "metadata = NeuralMetaData(RecordingConfig)\n",
    "\n",
    "corr_cost = lambda x,y: 1- utils.cc_single_channel(x,y)\n",
    "\n",
    "ordered_sessions_list = metadata.order_sessions_horizontally()\n",
    "\n",
    "# betas_list, session_labels, ch_labels, area_labels = beta_analyzer.get_sig_betas(\n",
    "#     ordered_sessions_list, layer=layer\n",
    "# )\n",
    "\n",
    "# # linkage_data = linkage(betas_list, method='ward', metric='euclidean')\n",
    "# linkage_data = linkage(betas_list, method='average', metric=corr_cost, optimal_ordering=True)\n",
    "# dendrogram_R = dendrogram(linkage_data, no_plot=False)\n",
    "\n",
    "session_wise_clustering, num_clusters, cluster_wise_ids, linkage_data = beta_analyzer.get_session_wise_clustering(\n",
    "    ordered_sessions_list, layer=layer, cost_func=corr_cost, opt_ordering=True)"
   ]
  },
  {
   "cell_type": "code",
   "execution_count": 3,
   "metadata": {},
   "outputs": [
    {
     "data": {
      "text/plain": [
       "dict_keys([0, 1, 2, 3, 4, 5, 6, 7, 8, 9, 10, 11, 12, 13, 14, 15, 16])"
      ]
     },
     "execution_count": 3,
     "metadata": {},
     "output_type": "execute_result"
    }
   ],
   "source": [
    "cluster_wise_ids.keys()"
   ]
  },
  {
   "cell_type": "code",
   "execution_count": 4,
   "metadata": {},
   "outputs": [],
   "source": [
    "# from auditory_cortex.plotters.regression_weights_plotter import BetaPlotter\n",
    "# plotter = BetaPlotter('wave2letter_modified')\n",
    "# out = plotter.get_cluster_wise_colorbar(session_wise_clustering, linkage_data)"
   ]
  },
  {
   "cell_type": "code",
   "execution_count": 5,
   "metadata": {},
   "outputs": [],
   "source": [
    "edges, root_label = linkage_to_edges(linkage_data=linkage_data)\n",
    "tree = Tree(edges=edges, root=root_label)\n",
    "r = (0, 360)\n",
    "f = 0.95\n",
    "B_l=-5\n",
    "L_1=70\n",
    "B_c=5\n",
    "C_1=60\n",
    "tree.assign_HCL(r,f,\n",
    "    B_l=B_l, L_1=L_1,\n",
    "    B_c=B_c, C_1=C_1\n",
    "    )\n",
    "cluster_based_hls = {}\n",
    "for cluster, ids in cluster_wise_ids.items(): \n",
    "    hues_list = []\n",
    "    luminance_list = []\n",
    "    chroma_list = []\n",
    "    rgb_list = []\n",
    "    for id in ids:\n",
    "        hues_list.append(tree.get_node_attribute(id, 'hue'))\n",
    "        luminance_list.append(tree.get_node_attribute(id, 'luminance'))\n",
    "        chroma_list.append(tree.get_node_attribute(id, 'chroma'))\n",
    "        rgb_list.append(tree.get_node_attribute(id, 'rgb_color'))\n",
    "\n",
    "    cluster_based_hls[cluster] = {'hue': hues_list,\n",
    "                                    'luminance': luminance_list,\n",
    "                                    'chroma': chroma_list,\n",
    "                                    'rgb': rgb_list}\n",
    "\n",
    "hls_color_list = []\n",
    "rgb_color_list = []\n",
    "for cluster, colors in cluster_based_hls.items():\n",
    "    h = np.mean(colors['hue'])\n",
    "    l = np.mean(colors['luminance'])\n",
    "    s = np.mean(colors['chroma'])\n",
    "    # print(h)\n",
    "    hls_color_list.append([h,l,s])\n",
    "    rgb_color_list.append(colorsys.hls_to_rgb(h,l,s))\n",
    "\n",
    "cmap = PlotterUtils.create_cmap_using_hsl(hls_color_list)"
   ]
  },
  {
   "cell_type": "code",
   "execution_count": 38,
   "metadata": {},
   "outputs": [
    {
     "data": {
      "text/plain": [
       "matplotlib.colors.ListedColormap"
      ]
     },
     "execution_count": 38,
     "metadata": {},
     "output_type": "execute_result"
    }
   ],
   "source": [
    "type(cmap)"
   ]
  },
  {
   "cell_type": "code",
   "execution_count": 34,
   "metadata": {},
   "outputs": [],
   "source": [
    "import colorsys\n"
   ]
  },
  {
   "cell_type": "code",
   "execution_count": 27,
   "metadata": {},
   "outputs": [],
   "source": [
    "from auditory_cortex.plotters.plotter_utils import PlotterUtils\n",
    "cmap = PlotterUtils.create_cmap_using_hsl(hls_color_list)"
   ]
  },
  {
   "cell_type": "code",
   "execution_count": 36,
   "metadata": {},
   "outputs": [
    {
     "data": {
      "text/plain": [
       "<matplotlib.collections.PathCollection at 0x2abd84b224c0>"
      ]
     },
     "execution_count": 36,
     "metadata": {},
     "output_type": "execute_result"
    },
    {
     "data": {
      "image/png": "[encoded data removed]",
      "text/plain": [
       "<Figure size 432x288 with 1 Axes>"
      ]
     },
     "metadata": {
      "needs_background": "light"
     },
     "output_type": "display_data"
    }
   ],
   "source": [
    "fig, ax = plt.subplots()\n",
    "x = np.arange(len(rgb_color_list))\n",
    "\n",
    "ax.scatter(x,x,c=rgb_color_list, s=100)"
   ]
  },
  {
   "cell_type": "code",
   "execution_count": 37,
   "metadata": {},
   "outputs": [
    {
     "data": {
      "text/plain": [
       "<matplotlib.collections.PathCollection at 0x2abd84bdd4c0>"
      ]
     },
     "execution_count": 37,
     "metadata": {},
     "output_type": "execute_result"
    },
    {
     "data": {
      "image/png": "[encoded data removed]",
      "text/plain": [
       "<Figure size 432x288 with 1 Axes>"
      ]
     },
     "metadata": {
      "needs_background": "light"
     },
     "output_type": "display_data"
    }
   ],
   "source": [
    "colors = []\n",
    "for i in range(len(rgb_color_list)):\n",
    "    colors.append(cmap(i/len(rgb_color_list)))\n",
    "\n",
    "fig, ax = plt.subplots()\n",
    "x = np.arange(len(rgb_color_list))\n",
    "\n",
    "ax.scatter(x,x,c=colors, s=100)"
   ]
  },
  {
   "cell_type": "code",
   "execution_count": null,
   "metadata": {},
   "outputs": [],
   "source": []
  },
  {
   "cell_type": "code",
   "execution_count": 25,
   "metadata": {},
   "outputs": [
    {
     "name": "stderr",
     "output_type": "stream",
     "text": [
      "DEBUG:matplotlib.colorbar:locator: <matplotlib.ticker.AutoLocator object at 0x2abd83d8c4f0>\n"
     ]
    },
    {
     "data": {
      "text/plain": [
       "<matplotlib.colorbar.Colorbar at 0x2abd83da1ee0>"
      ]
     },
     "execution_count": 25,
     "metadata": {},
     "output_type": "execute_result"
    },
    {
     "data": {
      "image/png": "[encoded data removed]",
      "text/plain": [
       "<Figure size 432x288 with 2 Axes>"
      ]
     },
     "metadata": {
      "needs_background": "light"
     },
     "output_type": "display_data"
    }
   ],
   "source": [
    "\n",
    "im = np.random.rand(30,30)\n",
    "mapp = plt.imshow(im, cmap=cmap)\n",
    "plt.colorbar(mapp)"
   ]
  },
  {
   "cell_type": "code",
   "execution_count": 18,
   "metadata": {},
   "outputs": [
    {
     "data": {
      "text/plain": [
       "(0.76, 0.21871530976562503, 0.040000000000000036, 1.0)"
      ]
     },
     "execution_count": 18,
     "metadata": {},
     "output_type": "execute_result"
    }
   ],
   "source": [
    "cmap(0.1)"
   ]
  },
  {
   "cell_type": "code",
   "execution_count": 13,
   "metadata": {},
   "outputs": [
    {
     "data": {
      "text/plain": [
       "2.5"
      ]
     },
     "execution_count": 13,
     "metadata": {},
     "output_type": "execute_result"
    }
   ],
   "source": [
    "import numpy as np\n",
    "a = [1,2,3,4]\n",
    "np.mean(a)"
   ]
  },
  {
   "cell_type": "code",
   "execution_count": 10,
   "metadata": {},
   "outputs": [
    {
     "data": {
      "text/plain": [
       "{0: {'hue': [10.540424707031256], 'luminance': [45], 'saturation': [85]},\n",
       " 1: {'hue': [13.859219509277349, 15.92666545166016],\n",
       "  'luminance': [40, 40],\n",
       "  'saturation': [90, 90]},\n",
       " 2: {'hue': [21.87987890625], 'luminance': [50], 'saturation': [80]},\n",
       " 3: {'hue': [28.073387079148873,\n",
       "   28.539854569899,\n",
       "   29.288657647155773,\n",
       "   30.140833021531684,\n",
       "   30.60730051228181,\n",
       "   31.122869844163525,\n",
       "   31.589337334913644,\n",
       "   33.15015700927734,\n",
       "   34.726584540344234,\n",
       "   35.475387617601015,\n",
       "   35.941855108351135,\n",
       "   37.96083454833985,\n",
       "   40.028280490722665,\n",
       "   43.34707529296876],\n",
       "  'luminance': [30, 30, 35, 30, 30, 30, 30, 40, 35, 30, 30, 40, 40, 45],\n",
       "  'saturation': [100,\n",
       "   100,\n",
       "   95,\n",
       "   100,\n",
       "   100,\n",
       "   100,\n",
       "   100,\n",
       "   90,\n",
       "   95,\n",
       "   100,\n",
       "   100,\n",
       "   90,\n",
       "   90,\n",
       "   85]},\n",
       " 4: {'hue': [51.15292470703125,\n",
       "   54.47171950927734,\n",
       "   56.04814704034423,\n",
       "   57.03018386297607,\n",
       "   59.28239704833984,\n",
       "   60.62559083403167,\n",
       "   61.09205832478179,\n",
       "   61.84086140203856,\n",
       "   63.14389641046142,\n",
       "   64.12593323309326,\n",
       "   65.21134235284424,\n",
       "   66.19337917547608,\n",
       "   69.41013923583984,\n",
       "   71.47758517822264,\n",
       "   73.76265700927733,\n",
       "   75.83010295166015,\n",
       "   77.84908239164886,\n",
       "   78.31554988239898,\n",
       "   79.06435295965576,\n",
       "   80.64078049072266,\n",
       "   82.20160016508638,\n",
       "   82.6680676558365,\n",
       "   83.18363698771822,\n",
       "   83.65010447846834,\n",
       "   84.26904610746917,\n",
       "   84.73551359821928,\n",
       "   85.48431667547607],\n",
       "  'luminance': [45,\n",
       "   40,\n",
       "   35,\n",
       "   35,\n",
       "   40,\n",
       "   30,\n",
       "   30,\n",
       "   35,\n",
       "   35,\n",
       "   35,\n",
       "   35,\n",
       "   35,\n",
       "   40,\n",
       "   40,\n",
       "   40,\n",
       "   40,\n",
       "   30,\n",
       "   30,\n",
       "   35,\n",
       "   40,\n",
       "   30,\n",
       "   30,\n",
       "   30,\n",
       "   30,\n",
       "   30,\n",
       "   30,\n",
       "   35],\n",
       "  'saturation': [85,\n",
       "   90,\n",
       "   95,\n",
       "   95,\n",
       "   90,\n",
       "   100,\n",
       "   100,\n",
       "   95,\n",
       "   95,\n",
       "   95,\n",
       "   95,\n",
       "   95,\n",
       "   90,\n",
       "   90,\n",
       "   90,\n",
       "   90,\n",
       "   100,\n",
       "   100,\n",
       "   95,\n",
       "   90,\n",
       "   100,\n",
       "   100,\n",
       "   100,\n",
       "   100,\n",
       "   100,\n",
       "   100,\n",
       "   95]},\n",
       " 5: {'hue': [98.21668359375,\n",
       "   105.20362001953126,\n",
       "   108.52241482177735,\n",
       "   110.58986076416015,\n",
       "   113.80662082452395,\n",
       "   114.55542390178073,\n",
       "   115.02189139253085,\n",
       "   116.36508517822266,\n",
       "   117.92590485258637,\n",
       "   118.39237234333649,\n",
       "   118.90794167521821,\n",
       "   119.37440916596833,\n",
       "   119.99335079496919,\n",
       "   120.34903225666616,\n",
       "   120.5179809509722,\n",
       "   120.6232276785727,\n",
       "   120.97538761760103,\n",
       "   121.44185510835115,\n",
       "   122.96981613702394,\n",
       "   123.71861921428072,\n",
       "   124.0743006759777,\n",
       "   124.29587273408399,\n",
       "   124.69324230497855,\n",
       "   124.91481436308484,\n",
       "   125.15970979572867,\n",
       "   125.38128185383496,\n",
       "   125.78606515666354,\n",
       "   126.25253264741366,\n",
       "   127.32233391046144,\n",
       "   128.0711369877182,\n",
       "   128.53760447846832,\n",
       "   129.88079826416018,\n",
       "   143.41078125,\n",
       "   155.94386220703126,\n",
       "   160.29637998046877,\n",
       "   167.28331640625],\n",
       "  'luminance': [50,\n",
       "   45,\n",
       "   40,\n",
       "   40,\n",
       "   35,\n",
       "   30,\n",
       "   30,\n",
       "   40,\n",
       "   30,\n",
       "   30,\n",
       "   30,\n",
       "   30,\n",
       "   30,\n",
       "   25,\n",
       "   20,\n",
       "   20,\n",
       "   30,\n",
       "   30,\n",
       "   35,\n",
       "   30,\n",
       "   25,\n",
       "   25,\n",
       "   25,\n",
       "   25,\n",
       "   25,\n",
       "   25,\n",
       "   30,\n",
       "   30,\n",
       "   35,\n",
       "   30,\n",
       "   30,\n",
       "   40,\n",
       "   55,\n",
       "   45,\n",
       "   45,\n",
       "   50],\n",
       "  'saturation': [80,\n",
       "   85,\n",
       "   90,\n",
       "   90,\n",
       "   95,\n",
       "   100,\n",
       "   100,\n",
       "   90,\n",
       "   100,\n",
       "   100,\n",
       "   100,\n",
       "   100,\n",
       "   100,\n",
       "   105,\n",
       "   110,\n",
       "   110,\n",
       "   100,\n",
       "   100,\n",
       "   95,\n",
       "   100,\n",
       "   105,\n",
       "   105,\n",
       "   105,\n",
       "   105,\n",
       "   105,\n",
       "   105,\n",
       "   100,\n",
       "   100,\n",
       "   95,\n",
       "   100,\n",
       "   100,\n",
       "   90,\n",
       "   75,\n",
       "   85,\n",
       "   85,\n",
       "   80]},\n",
       " 6: {'hue': [190.5404247070312,\n",
       "   194.89294248046872,\n",
       "   198.1788786370239,\n",
       "   198.92768171428065,\n",
       "   199.39414920503077,\n",
       "   200.73734299072265,\n",
       "   204.05613779296874,\n",
       "   209.8313622070312,\n",
       "   213.1501570092773,\n",
       "   214.7265845403442,\n",
       "   215.70862136297603,\n",
       "   221.17081640624997],\n",
       "  'luminance': [45, 45, 35, 30, 30, 40, 45, 45, 40, 35, 35, 50],\n",
       "  'saturation': [85, 85, 95, 100, 100, 90, 85, 85, 90, 95, 95, 80]},\n",
       " 7: {'hue': [230.11920173583982,\n",
       "   231.46239552153162,\n",
       "   231.8180769832286,\n",
       "   232.03964904133488,\n",
       "   232.67766608953855],\n",
       "  'luminance': [40, 30, 25, 25, 35],\n",
       "  'saturation': [90, 100, 105, 105, 95]},\n",
       " 8: {'hue': [233.6366813235332,\n",
       "   233.85825338163949,\n",
       "   234.10314881428332,\n",
       "   234.27209750858938,\n",
       "   234.35234813838474,\n",
       "   234.40234033399497,\n",
       "   234.5660947823648,\n",
       "   234.67134150996526,\n",
       "   234.8402902042713,\n",
       "   235.08518563691513,\n",
       "   235.30675769502142],\n",
       "  'luminance': [25, 25, 25, 20, 15, 15, 20, 20, 25, 25, 25],\n",
       "  'saturation': [105, 105, 105, 110, 115, 115, 110, 110, 105, 105, 105]},\n",
       " 9: {'hue': [236.53916545166015], 'luminance': [40], 'saturation': [90]},\n",
       " 10: {'hue': [239.28239704833982,\n",
       "   241.34984299072264,\n",
       "   243.1438964104614,\n",
       "   244.12593323309324,\n",
       "   244.97810860746915,\n",
       "   245.33379006916613,\n",
       "   245.55536212727242,\n",
       "   246.19337917547605],\n",
       "  'luminance': [40, 40, 35, 35, 30, 25, 25, 35],\n",
       "  'saturation': [90, 90, 95, 95, 100, 105, 105, 95]},\n",
       " 11: {'hue': [249.41013923583984,\n",
       "   251.47758517822263,\n",
       "   253.27163859796138,\n",
       "   254.25367542059323,\n",
       "   255.83010295166014,\n",
       "   259.60705751953117,\n",
       "   262.43483391046135,\n",
       "   263.41687073309316,\n",
       "   264.9932982641601],\n",
       "  'luminance': [40, 40, 35, 35, 40, 45, 35, 35, 40],\n",
       "  'saturation': [90, 90, 95, 95, 90, 85, 95, 95, 90]},\n",
       " 12: {'hue': [274.51568332452393,\n",
       "   275.4977201471558,\n",
       "   277.07414767822274,\n",
       "   278.6349673525864,\n",
       "   278.9906488142833,\n",
       "   279.2122208723896,\n",
       "   279.5062181461651,\n",
       "   279.63265785164145,\n",
       "   279.643937340776,\n",
       "   279.6564041445563,\n",
       "   279.6676836336909,\n",
       "   279.7001629382763,\n",
       "   279.74354432380915,\n",
       "   279.76729061672404,\n",
       "   279.8054096658768,\n",
       "   279.97268563691523,\n",
       "   280.1942576950215,\n",
       "   280.53900390211584,\n",
       "   280.6442506297163,\n",
       "   280.8131993240223,\n",
       "   280.98047529506084,\n",
       "   281.03046749067107,\n",
       "   281.08572202266134,\n",
       "   281.1357142182716,\n",
       "   281.20204735316713,\n",
       "   281.24016640231997,\n",
       "   281.2639126952348,\n",
       "   281.30729408076763,\n",
       "   281.35728627637786,\n",
       "   281.68445011760116,\n",
       "   282.1509176083513],\n",
       "  'luminance': [35,\n",
       "   35,\n",
       "   40,\n",
       "   30,\n",
       "   25,\n",
       "   25,\n",
       "   25,\n",
       "   5,\n",
       "   5,\n",
       "   5,\n",
       "   5,\n",
       "   15,\n",
       "   10,\n",
       "   10,\n",
       "   15,\n",
       "   25,\n",
       "   25,\n",
       "   20,\n",
       "   20,\n",
       "   25,\n",
       "   15,\n",
       "   15,\n",
       "   15,\n",
       "   15,\n",
       "   15,\n",
       "   10,\n",
       "   10,\n",
       "   15,\n",
       "   15,\n",
       "   30,\n",
       "   30],\n",
       "  'saturation': [95,\n",
       "   95,\n",
       "   90,\n",
       "   100,\n",
       "   105,\n",
       "   105,\n",
       "   105,\n",
       "   125,\n",
       "   125,\n",
       "   125,\n",
       "   125,\n",
       "   115,\n",
       "   120,\n",
       "   120,\n",
       "   115,\n",
       "   105,\n",
       "   105,\n",
       "   110,\n",
       "   110,\n",
       "   105,\n",
       "   115,\n",
       "   115,\n",
       "   115,\n",
       "   115,\n",
       "   115,\n",
       "   120,\n",
       "   120,\n",
       "   115,\n",
       "   115,\n",
       "   100,\n",
       "   100]},\n",
       " 13: {'hue': [284.16989704833986, 286.2373429907227],\n",
       "  'luminance': [40, 40],\n",
       "  'saturation': [90, 90]},\n",
       " 14: {'hue': [287.79816266508647,\n",
       "   288.10122076298313,\n",
       "   288.20646749058363,\n",
       "   288.3227928210895,\n",
       "   288.4280395486899,\n",
       "   288.6694134586651,\n",
       "   288.8383621529712,\n",
       "   288.9436088805716,\n",
       "   289.2466669784684,\n",
       "   289.8656086074692,\n",
       "   290.3320760982193,\n",
       "   291.0808791754761],\n",
       "  'luminance': [30, 20, 20, 20, 20, 25, 20, 20, 30, 30, 30, 35],\n",
       "  'saturation': [100, 110, 110, 110, 110, 105, 110, 110, 100, 100, 100, 95]},\n",
       " 15: {'hue': [293.806620824524,\n",
       "   294.55542390178084,\n",
       "   295.02189139253096,\n",
       "   295.53004699247856,\n",
       "   295.67399958897954,\n",
       "   295.72399178458977,\n",
       "   295.77924631658004,\n",
       "   295.8292385121903,\n",
       "   296.1073005122819,\n",
       "   296.45946045131024,\n",
       "   296.56470717891074,\n",
       "   296.7336558732168,\n",
       "   296.9785513058606,\n",
       "   297.2001233639669,\n",
       "   297.9259048525864,\n",
       "   298.39237234333655,\n",
       "   298.90794167521835,\n",
       "   299.3744091659685,\n",
       "   300.22658454034433,\n",
       "   300.9753876176012,\n",
       "   301.4418551083513,\n",
       "   304.4945575195313,\n",
       "   308.84707529296884],\n",
       "  'luminance': [35,\n",
       "   30,\n",
       "   30,\n",
       "   25,\n",
       "   15,\n",
       "   15,\n",
       "   15,\n",
       "   15,\n",
       "   30,\n",
       "   20,\n",
       "   20,\n",
       "   25,\n",
       "   25,\n",
       "   25,\n",
       "   30,\n",
       "   30,\n",
       "   30,\n",
       "   30,\n",
       "   35,\n",
       "   30,\n",
       "   30,\n",
       "   45,\n",
       "   45],\n",
       "  'saturation': [95,\n",
       "   100,\n",
       "   100,\n",
       "   105,\n",
       "   115,\n",
       "   115,\n",
       "   115,\n",
       "   115,\n",
       "   100,\n",
       "   110,\n",
       "   110,\n",
       "   105,\n",
       "   105,\n",
       "   105,\n",
       "   100,\n",
       "   100,\n",
       "   100,\n",
       "   100,\n",
       "   95,\n",
       "   100,\n",
       "   100,\n",
       "   85,\n",
       "   85]},\n",
       " 16: {'hue': [323.41078125,\n",
       "   338.12012109374996,\n",
       "   345.10705751953117,\n",
       "   349.4595752929687],\n",
       "  'luminance': [55, 50, 45, 45],\n",
       "  'saturation': [75, 80, 85, 85]}}"
      ]
     },
     "execution_count": 10,
     "metadata": {},
     "output_type": "execute_result"
    }
   ],
   "source": [
    "cluster_based_hls"
   ]
  },
  {
   "cell_type": "code",
   "execution_count": null,
   "metadata": {},
   "outputs": [],
   "source": []
  },
  {
   "cell_type": "code",
   "execution_count": null,
   "metadata": {},
   "outputs": [],
   "source": []
  },
  {
   "cell_type": "code",
   "execution_count": null,
   "metadata": {},
   "outputs": [],
   "source": [
    "for session, ids in session_wise_clustering.items():\n",
    "    hues_list = []\n",
    "    luminance_list = []\n",
    "    saturation_list = []\n",
    "    for id in ids:\n",
    "        hues_list.append(tree.get_node_attribute(id, 'hue'))\n",
    "        luminance_list.append(tree.get_node_attribute(id, 'luminance'))\n",
    "        saturation_list.append(tree.get_node_attribute(id, 'chroma'))\n",
    "    \n",
    "    cluster_based_hls[session] = {'hue': hues_list,\n",
    "                                    'luminance': luminance_list,\n",
    "                                    'saturation': saturation_list}\n",
    "\n"
   ]
  },
  {
   "cell_type": "code",
   "execution_count": null,
   "metadata": {},
   "outputs": [],
   "source": []
  },
  {
   "cell_type": "code",
   "execution_count": null,
   "metadata": {},
   "outputs": [],
   "source": []
  },
  {
   "cell_type": "markdown",
   "metadata": {},
   "source": [
    "### rest..."
   ]
  },
  {
   "cell_type": "code",
   "execution_count": 7,
   "metadata": {},
   "outputs": [],
   "source": [
    "import numpy as np\n",
    "import matplotlib.colors as colors\n",
    "import matplotlib.pyplot as plt\n",
    "from auditory_cortex.plotters.plotter_utils import PlotterUtils\n",
    "\n",
    "rgb_arr = np.random.rand(100,3)\n",
    "a = np.ones((10,1))\n",
    "\n",
    "# np.concatenate([rgb_arr, a], axis=1)\n",
    "rgba = PlotterUtils.create_cmap_using_rgb(rgb_arr)\n",
    "my_own = colors.ListedColormap(rgba)"
   ]
  },
  {
   "cell_type": "code",
   "execution_count": 8,
   "metadata": {},
   "outputs": [
    {
     "data": {
      "text/plain": [
       "<matplotlib.colorbar.Colorbar at 0x2b64f8c1caf0>"
      ]
     },
     "execution_count": 8,
     "metadata": {},
     "output_type": "execute_result"
    },
    {
     "data": {
      "image/png": "[encoded data removed]",
      "text/plain": [
       "<Figure size 432x288 with 2 Axes>"
      ]
     },
     "metadata": {
      "needs_background": "light"
     },
     "output_type": "display_data"
    }
   ],
   "source": [
    "\n",
    "im = np.random.rand(30,30)\n",
    "mapp = plt.imshow(im, cmap=my_own)\n",
    "plt.colorbar(mapp)"
   ]
  },
  {
   "cell_type": "markdown",
   "metadata": {},
   "source": [
    "### Dendrogram"
   ]
  },
  {
   "cell_type": "code",
   "execution_count": 2,
   "metadata": {},
   "outputs": [],
   "source": [
    "import numpy as np\n",
    "x_values = np.linspace(5, 7, 5)\n",
    "y_values = np.linspace(5, 6, 5)\n",
    "y_values = np.random.permutation(y_values)\n",
    "cluster1 = np.stack([x_values, y_values], axis=1)\n",
    "\n",
    "x_values = np.linspace(5, 7, 5)\n",
    "y_values = np.linspace(-4, -5, 5)\n",
    "y_values = np.random.permutation(y_values)\n",
    "cluster2 = np.stack([x_values, y_values], axis=1)\n",
    "\n",
    "x_values = np.linspace(-4, -2, 5)\n",
    "y_values = np.linspace(-4, -5, 5)\n",
    "y_values = np.random.permutation(y_values)\n",
    "cluster3 = np.stack([x_values, y_values], axis=1)\n",
    "\n",
    "x_values = np.linspace(0, 1, 5)\n",
    "y_values = np.linspace(4, 7, 5)\n",
    "y_values = np.random.permutation(y_values)\n",
    "cluster4 = np.stack([x_values, y_values], axis=1)\n",
    "\n",
    "x_values = np.linspace(5, 7, 7)\n",
    "y_values = np.linspace(-1, 1, 7)\n",
    "y_values = np.random.permutation(y_values)\n",
    "cluster5 = np.stack([x_values, y_values], axis=1)\n",
    "\n",
    "clusters = np.concatenate([cluster1, cluster2, cluster3, cluster4, cluster5], axis=0)\n",
    "# clusters = np.random.permutation(clusters)"
   ]
  },
  {
   "cell_type": "code",
   "execution_count": 3,
   "metadata": {},
   "outputs": [
    {
     "data": {
      "text/plain": [
       "<matplotlib.collections.PathCollection at 0x2b2d85925340>"
      ]
     },
     "execution_count": 3,
     "metadata": {},
     "output_type": "execute_result"
    },
    {
     "data": {
      "image/png": "[encoded data removed]",
      "text/plain": [
       "<Figure size 432x288 with 1 Axes>"
      ]
     },
     "metadata": {
      "needs_background": "light"
     },
     "output_type": "display_data"
    }
   ],
   "source": [
    "plt.scatter(clusters[:,0], clusters[:,1])"
   ]
  },
  {
   "cell_type": "code",
   "execution_count": 3,
   "metadata": {},
   "outputs": [
    {
     "data": {
      "image/png": "[encoded data removed]",
      "text/plain": [
       "<Figure size 432x288 with 1 Axes>"
      ]
     },
     "metadata": {
      "needs_background": "light"
     },
     "output_type": "display_data"
    }
   ],
   "source": [
    "from scipy.cluster.hierarchy import linkage, dendrogram\n",
    "\n",
    "linkage_data = linkage(clusters, method='average', metric='euclidean')\n",
    "R = dendrogram(linkage_data, no_plot=False)"
   ]
  },
  {
   "cell_type": "code",
   "execution_count": 7,
   "metadata": {},
   "outputs": [
    {
     "name": "stdout",
     "output_type": "stream",
     "text": [
      "27\n"
     ]
    }
   ],
   "source": [
    "# edges = []\n",
    "# num_nodes = clusters.shape[0]\n",
    "# print(num_nodes)\n",
    "\n",
    "# max_leaf_label = num_nodes - 1\n",
    "# root_label = max_leaf_label + linkage_data.shape[0]\n",
    "\n",
    "# for i, arr in enumerate(linkage_data):\n",
    "#     parent = num_nodes + i \n",
    "#     child1 = int(arr[0])\n",
    "#     child2 = int(arr[1])\n",
    "#     edges.append((parent, child1))\n",
    "#     edges.append((parent, child2))\n",
    "\n",
    "edges, root_label = linkage_to_edges(linkage_data=linkage_data)\n",
    "    # break"
   ]
  },
  {
   "cell_type": "code",
   "execution_count": 11,
   "metadata": {},
   "outputs": [],
   "source": [
    "tree = Tree(edges=edges, root=root_label)\n",
    "r = (0, 360)\n",
    "f = 0.95\n",
    "B_l=-5\n",
    "L_1=70\n",
    "B_c=5\n",
    "C_1=60\n",
    "tree.assign_HCL(r,f,\n",
    "    B_l=B_l, L_1=L_1,\n",
    "    B_c=B_c, C_1=C_1\n",
    "    )"
   ]
  },
  {
   "cell_type": "code",
   "execution_count": 12,
   "metadata": {},
   "outputs": [
    {
     "data": {
      "text/plain": [
       "<matplotlib.collections.PathCollection at 0x2b2d873378e0>"
      ]
     },
     "execution_count": 12,
     "metadata": {},
     "output_type": "execute_result"
    },
    {
     "data": {
      "image/png": "[encoded data removed]",
      "text/plain": [
       "<Figure size 432x288 with 1 Axes>"
      ]
     },
     "metadata": {
      "needs_background": "light"
     },
     "output_type": "display_data"
    }
   ],
   "source": [
    "colors = []\n",
    "num_leaf_nodes = linkage_data.shape[0] + 1\n",
    "leaf_node_labels = np.arange(num_leaf_nodes)\n",
    "for node_label in leaf_node_labels:\n",
    "    color = tree.get_node(node_label).get_attribute('rgb_color')\n",
    "    if color:\n",
    "        colors.append(color)\n",
    "    else:\n",
    "        print(f\"You might want to run 'assign_HCL()\")\n",
    "plt.scatter(clusters[:,0], clusters[:,1], c=colors)"
   ]
  },
  {
   "cell_type": "code",
   "execution_count": 13,
   "metadata": {},
   "outputs": [
    {
     "data": {
      "text/plain": [
       "7"
      ]
     },
     "execution_count": 13,
     "metadata": {},
     "output_type": "execute_result"
    }
   ],
   "source": [
    "tree.get_tree_depth()"
   ]
  },
  {
   "cell_type": "markdown",
   "metadata": {},
   "source": [
    "### Hierarchical cluster"
   ]
  },
  {
   "cell_type": "code",
   "execution_count": 2,
   "metadata": {},
   "outputs": [],
   "source": [
    "edges = [(0,'A'), (0,'C'), (0,'B'),\n",
    "          ('A', 'A1'), ('A', 'A2'), ('A', 'A3'), ('A', 'A4'),\n",
    "          ('B', 'B1'), ('B', 'B2'), ('B', 'B3'),\n",
    "          ('C', 'C1'), ('C', 'C2'), ('C', 'C3'), ('C', 'C4'), ('C', 'C5')\n",
    "        ]\n",
    "\n",
    "tree = Tree(edges=edges, root=0)\n"
   ]
  },
  {
   "cell_type": "code",
   "execution_count": 3,
   "metadata": {},
   "outputs": [
    {
     "data": {
      "text/plain": [
       "16"
      ]
     },
     "execution_count": 3,
     "metadata": {},
     "output_type": "execute_result"
    }
   ],
   "source": [
    "len(tree.nodes)"
   ]
  },
  {
   "cell_type": "code",
   "execution_count": 20,
   "metadata": {},
   "outputs": [
    {
     "data": {
      "text/plain": [
       "dict_keys([20, 0, 1, 21, 3, 4, 22, 5, 6, 23, 7, 8, 24, 13, 14, 25, 11, 12, 26, 18, 19, 27, 16, 17, 28, 2, 29, 9, 30, 10, 31, 15, 32, 33, 34, 35, 36, 37, 38])"
      ]
     },
     "execution_count": 20,
     "metadata": {},
     "output_type": "execute_result"
    }
   ],
   "source": [
    "tree.nodes.keys()"
   ]
  },
  {
   "cell_type": "code",
   "execution_count": 4,
   "metadata": {},
   "outputs": [
    {
     "name": "stdout",
     "output_type": "stream",
     "text": [
      "At leaf node: A1\n",
      "At leaf node: A2\n",
      "At leaf node: A3\n",
      "At leaf node: A4\n",
      "At leaf node: C1\n",
      "At leaf node: C2\n",
      "At leaf node: C3\n",
      "At leaf node: C4\n",
      "At leaf node: C5\n",
      "At leaf node: B1\n",
      "At leaf node: B2\n",
      "At leaf node: B3\n"
     ]
    }
   ],
   "source": [
    "r = (0, 360)\n",
    "f = 0.75\n",
    "tree.assign_HCL(r,f)\n",
    "# tree.assign_hue(r,f)"
   ]
  },
  {
   "cell_type": "code",
   "execution_count": 5,
   "metadata": {},
   "outputs": [
    {
     "data": {
      "text/plain": [
       "(0.16666666666666666, 0.7, 0.6)"
      ]
     },
     "execution_count": 5,
     "metadata": {},
     "output_type": "execute_result"
    }
   ],
   "source": [
    "tree.nodes['A'].get_attribute('hls_color')"
   ]
  },
  {
   "cell_type": "code",
   "execution_count": 6,
   "metadata": {},
   "outputs": [],
   "source": [
    "colors = []\n",
    "labels = list(tree.nodes.keys())\n",
    "x_coord = []\n",
    "y_coord = []\n",
    "i = 1\n",
    "for label in labels:\n",
    "    x_coord.append(i)\n",
    "    y_coord.append(1)\n",
    "    i += 1\n",
    "    colors.append(tree.get_node(label).get_attribute('rgb_color'))"
   ]
  },
  {
   "cell_type": "code",
   "execution_count": 7,
   "metadata": {},
   "outputs": [
    {
     "data": {
      "text/plain": [
       "<matplotlib.collections.PathCollection at 0x2aacb1d26850>"
      ]
     },
     "execution_count": 7,
     "metadata": {},
     "output_type": "execute_result"
    },
    {
     "data": {
      "image/png": "[encoded data removed]",
      "text/plain": [
       "<Figure size 432x288 with 1 Axes>"
      ]
     },
     "metadata": {
      "needs_background": "light"
     },
     "output_type": "display_data"
    }
   ],
   "source": [
    "plt.scatter(x_coord, y_coord, c=colors, s=1000)"
   ]
  },
  {
   "cell_type": "code",
   "execution_count": 20,
   "metadata": {},
   "outputs": [
    {
     "data": {
      "text/plain": [
       "array(['0', 'A', 'C', 'B', 'A1', 'A2', 'A3', 'A4', 'B1', 'B2', 'B3', 'C1',\n",
       "       'C2', 'C3', 'C4', 'C5'], dtype='<U21')"
      ]
     },
     "execution_count": 20,
     "metadata": {},
     "output_type": "execute_result"
    }
   ],
   "source": [
    "import numpy as np\n",
    "np.array(labels)"
   ]
  },
  {
   "cell_type": "code",
   "execution_count": 6,
   "metadata": {},
   "outputs": [
    {
     "name": "stdout",
     "output_type": "stream",
     "text": [
      "Setting color values...\n"
     ]
    }
   ],
   "source": [
    "tree.nodes[0].set_color_values()"
   ]
  },
  {
   "cell_type": "code",
   "execution_count": 11,
   "metadata": {},
   "outputs": [
    {
     "data": {
      "text/plain": [
       "8"
      ]
     },
     "execution_count": 11,
     "metadata": {},
     "output_type": "execute_result"
    }
   ],
   "source": [
    "len(tree.nodes)"
   ]
  },
  {
   "cell_type": "code",
   "execution_count": 12,
   "metadata": {},
   "outputs": [
    {
     "data": {
      "text/plain": [
       "dict_keys([0, 'A', 'C', 'B', 'A1', 'A2', 'A3', 'A4'])"
      ]
     },
     "execution_count": 12,
     "metadata": {},
     "output_type": "execute_result"
    }
   ],
   "source": [
    "tree.nodes.keys()"
   ]
  },
  {
   "cell_type": "code",
   "execution_count": 20,
   "metadata": {},
   "outputs": [
    {
     "name": "stdout",
     "output_type": "stream",
     "text": [
      "Node: 0, depth: 0\n",
      "Node: A, depth: 1\n",
      "Node: A1, depth: 2\n",
      "Node: A2, depth: 2\n",
      "Node: A3, depth: 2\n",
      "Node: A4, depth: 2\n",
      "Node: C, depth: 1\n",
      "Node: B, depth: 1\n"
     ]
    }
   ],
   "source": [
    "tree.parse_tree(attr='depth')"
   ]
  },
  {
   "cell_type": "code",
   "execution_count": 21,
   "metadata": {},
   "outputs": [
    {
     "name": "stdout",
     "output_type": "stream",
     "text": [
      "Node: 0, hue: 180.0\n",
      "Node: A, hue: 60.0\n",
      "Node: A1, hue: 26.25\n",
      "Node: A2, hue: 48.75\n",
      "Node: A3, hue: 71.25\n",
      "Node: A4, hue: 93.75\n",
      "Node: C, hue: 180.0\n",
      "Node: B, hue: 300.0\n"
     ]
    }
   ],
   "source": [
    "tree.parse_tree(attr='hue')"
   ]
  },
  {
   "cell_type": "code",
   "execution_count": 22,
   "metadata": {},
   "outputs": [
    {
     "name": "stdout",
     "output_type": "stream",
     "text": [
      "Node: 0, chroma: 80\n",
      "Node: A, chroma: 75\n",
      "Node: A1, chroma: 70\n",
      "Node: A2, chroma: 70\n",
      "Node: A3, chroma: 70\n",
      "Node: A4, chroma: 70\n",
      "Node: C, chroma: 75\n",
      "Node: B, chroma: 75\n"
     ]
    }
   ],
   "source": [
    "tree.parse_tree(attr='chroma')"
   ]
  },
  {
   "cell_type": "code",
   "execution_count": 23,
   "metadata": {},
   "outputs": [
    {
     "name": "stdout",
     "output_type": "stream",
     "text": [
      "Node: 0, luminance: 80\n",
      "Node: A, luminance: 70\n",
      "Node: A1, luminance: 60\n",
      "Node: A2, luminance: 60\n",
      "Node: A3, luminance: 60\n",
      "Node: A4, luminance: 60\n",
      "Node: C, luminance: 70\n",
      "Node: B, luminance: 70\n"
     ]
    }
   ],
   "source": [
    "tree.parse_tree(attr='luminance')"
   ]
  },
  {
   "cell_type": "code",
   "execution_count": null,
   "metadata": {},
   "outputs": [],
   "source": []
  },
  {
   "cell_type": "code",
   "execution_count": 6,
   "metadata": {},
   "outputs": [
    {
     "ename": "AttributeError",
     "evalue": "'int' object has no attribute 'get_num_children'",
     "output_type": "error",
     "traceback": [
      "\u001b[0;31m---------------------------------------------------------------------------\u001b[0m",
      "\u001b[0;31mAttributeError\u001b[0m                            Traceback (most recent call last)",
      "\u001b[1;32m/home/ahmedb/projects/Wav2Letter/Auditory_Cortex/experiments/beta_confusion_matrix/hierarchical_plotting.ipynb Cell 6\u001b[0m line \u001b[0;36m<cell line: 1>\u001b[0;34m()\u001b[0m\n\u001b[0;32m----> <a href='vscode-notebook-cell://ssh-remote%2Bgilbreth.rcac.purdue.edu/home/ahmedb/projects/Wav2Letter/Auditory_Cortex/experiments/beta_confusion_matrix/hierarchical_plotting.ipynb#W5sdnNjb2RlLXJlbW90ZQ%3D%3D?line=0'>1</a>\u001b[0m tree\u001b[39m.\u001b[39;49mget_node(\u001b[39m1\u001b[39;49m)\u001b[39m.\u001b[39;49mget_num_children()\n",
      "\u001b[0;31mAttributeError\u001b[0m: 'int' object has no attribute 'get_num_children'"
     ]
    }
   ],
   "source": [
    "tree.get_node(1).get_num_children()"
   ]
  },
  {
   "cell_type": "code",
   "execution_count": 5,
   "metadata": {},
   "outputs": [
    {
     "data": {
      "text/plain": [
       "2"
      ]
     },
     "execution_count": 5,
     "metadata": {},
     "output_type": "execute_result"
    }
   ],
   "source": [
    "tree.get_node(1).get_num_children()"
   ]
  },
  {
   "cell_type": "code",
   "execution_count": 12,
   "metadata": {},
   "outputs": [],
   "source": [
    "a = 12\n",
    "b = False\n",
    "c = True\n",
    "if a and b and c:\n",
    "    print(\"amazing\")"
   ]
  },
  {
   "cell_type": "code",
   "execution_count": 5,
   "metadata": {},
   "outputs": [
    {
     "data": {
      "text/plain": [
       "<auditory_cortex.plotters.hierarchical_plotter.TreeNode at 0x2ba49fbe4100>"
      ]
     },
     "execution_count": 5,
     "metadata": {},
     "output_type": "execute_result"
    }
   ],
   "source": [
    "tree.get_node(tree.root_label)."
   ]
  },
  {
   "cell_type": "code",
   "execution_count": 14,
   "metadata": {},
   "outputs": [],
   "source": [
    "import colorsys\n",
    "hls_color = (60, 60,60)\n",
    "rgb_color = colorsys.hls_to_rgb(*hls_color)"
   ]
  },
  {
   "cell_type": "code",
   "execution_count": 5,
   "metadata": {},
   "outputs": [
    {
     "ename": "TypeError",
     "evalue": "'dict_keys' object is not subscriptable",
     "output_type": "error",
     "traceback": [
      "\u001b[0;31m---------------------------------------------------------------------------\u001b[0m",
      "\u001b[0;31mTypeError\u001b[0m                                 Traceback (most recent call last)",
      "\u001b[1;32m/home/ahmedb/projects/Wav2Letter/Auditory_Cortex/experiments/beta_confusion_matrix/hierarchical_plotting.ipynb Cell 3\u001b[0m line \u001b[0;36m<cell line: 1>\u001b[0;34m()\u001b[0m\n\u001b[0;32m----> <a href='vscode-notebook-cell://ssh-remote%2Bgilbreth.rcac.purdue.edu/home/ahmedb/projects/Wav2Letter/Auditory_Cortex/experiments/beta_confusion_matrix/hierarchical_plotting.ipynb#X31sdnNjb2RlLXJlbW90ZQ%3D%3D?line=0'>1</a>\u001b[0m tree_structure\u001b[39m.\u001b[39;49mkeys()[\u001b[39m0\u001b[39;49m]\n",
      "\u001b[0;31mTypeError\u001b[0m: 'dict_keys' object is not subscriptable"
     ]
    }
   ],
   "source": [
    "tree_structure.keys()[0]"
   ]
  },
  {
   "cell_type": "code",
   "execution_count": 7,
   "metadata": {},
   "outputs": [
    {
     "data": {
      "text/plain": [
       "{'name': 2}"
      ]
     },
     "execution_count": 7,
     "metadata": {},
     "output_type": "execute_result"
    }
   ],
   "source": [
    "tree.get_node(2).attributes"
   ]
  },
  {
   "cell_type": "code",
   "execution_count": 9,
   "metadata": {},
   "outputs": [
    {
     "data": {
      "text/plain": [
       "2"
      ]
     },
     "execution_count": 9,
     "metadata": {},
     "output_type": "execute_result"
    }
   ],
   "source": [
    "tree.get_node(0).get_num_children()"
   ]
  },
  {
   "cell_type": "code",
   "execution_count": 2,
   "metadata": {},
   "outputs": [],
   "source": [
    "DG = nx.DiGraph()\n",
    "DG.add_edges_from([(0,1), (0,2), (1,3), (1,4), (2,5)])"
   ]
  },
  {
   "cell_type": "code",
   "execution_count": 3,
   "metadata": {},
   "outputs": [
    {
     "data": {
      "text/plain": [
       "[3, 4]"
      ]
     },
     "execution_count": 3,
     "metadata": {},
     "output_type": "execute_result"
    }
   ],
   "source": [
    "list(DG.successors(1))"
   ]
  },
  {
   "cell_type": "code",
   "execution_count": 4,
   "metadata": {},
   "outputs": [
    {
     "data": {
      "image/png": "[encoded data removed]",
      "text/plain": [
       "<Figure size 432x288 with 1 Axes>"
      ]
     },
     "metadata": {},
     "output_type": "display_data"
    }
   ],
   "source": [
    "nx.draw(DG, with_labels=True)\n",
    "# plt.draw()"
   ]
  },
  {
   "cell_type": "code",
   "execution_count": 5,
   "metadata": {},
   "outputs": [],
   "source": [
    "import igraph as ig\n",
    "g = ig.Graph(n = 6)\n",
    "g.add_edges([(0,1), (0,2), (1,3), (1,4),(2,5)])"
   ]
  },
  {
   "cell_type": "code",
   "execution_count": 6,
   "metadata": {},
   "outputs": [
    {
     "data": {
      "text/plain": [
       "<AxesSubplot:>"
      ]
     },
     "execution_count": 6,
     "metadata": {},
     "output_type": "execute_result"
    },
    {
     "data": {
      "image/png": "[encoded data removed]",
      "text/plain": [
       "<Figure size 432x288 with 1 Axes>"
      ]
     },
     "metadata": {},
     "output_type": "display_data"
    }
   ],
   "source": [
    "fig, ax = plt.subplots()\n",
    "layout = g.layout('fr')\n",
    "ig.plot(g, layout=layout, target=ax)"
   ]
  },
  {
   "cell_type": "code",
   "execution_count": 1,
   "metadata": {},
   "outputs": [],
   "source": [
    "from matplotlib import colors\n",
    "import matplotlib as mpl\n",
    "import matplotlib.pyplot as plt\n",
    "import numpy as np"
   ]
  },
  {
   "cell_type": "code",
   "execution_count": 26,
   "metadata": {},
   "outputs": [],
   "source": [
    "hue = np.arange(0,360,10)/360.0\n",
    "# sat = np.arange(25,100, 25)/100.0\n",
    "# lumin = np.arange(25,100, 25)/100.0\n",
    "\n",
    "sat = np.ones_like(hue)*0.75\n",
    "lumin = np.ones_like(hue)*0.9"
   ]
  },
  {
   "cell_type": "code",
   "execution_count": 28,
   "metadata": {},
   "outputs": [],
   "source": [
    "hsv = np.stack([hue, sat, lumin], axis=1)"
   ]
  },
  {
   "cell_type": "code",
   "execution_count": 50,
   "metadata": {},
   "outputs": [],
   "source": [
    "rgb = colors.hsv_to_rgb(hsv=hsv)\n",
    "rgba = np.concatenate([rgb, np.ones((rgb.shape[0],1))], axis=1)"
   ]
  },
  {
   "cell_type": "code",
   "execution_count": 51,
   "metadata": {},
   "outputs": [],
   "source": [
    "my_own = colors.ListedColormap(rgba)"
   ]
  },
  {
   "cell_type": "code",
   "execution_count": 53,
   "metadata": {},
   "outputs": [
    {
     "data": {
      "text/plain": [
       "<matplotlib.colorbar.Colorbar at 0x2ba0fb9cec70>"
      ]
     },
     "execution_count": 53,
     "metadata": {},
     "output_type": "execute_result"
    },
    {
     "data": {
      "image/png": "[encoded data removed]",
      "text/plain": [
       "<Figure size 432x288 with 2 Axes>"
      ]
     },
     "metadata": {
      "needs_background": "light"
     },
     "output_type": "display_data"
    }
   ],
   "source": [
    "\n",
    "data = np.random.rand(30,30)\n",
    "fig, ax = plt.subplots()\n",
    "image = ax.imshow(data, cmap=my_own)\n",
    "fig.colorbar(image, ax=ax)"
   ]
  },
  {
   "cell_type": "code",
   "execution_count": 45,
   "metadata": {},
   "outputs": [
    {
     "data": {
      "text/plain": [
       "(36, 5)"
      ]
     },
     "execution_count": 45,
     "metadata": {},
     "output_type": "execute_result"
    }
   ],
   "source": [
    "rgb.shape"
   ]
  },
  {
   "cell_type": "code",
   "execution_count": 14,
   "metadata": {},
   "outputs": [],
   "source": [
    "# def AssignHue(r, f=0.75):\n",
    "\n",
    "n_children = 3\n",
    "r = (0,360)\n",
    "f = 0.75\n",
    "r_list = []\n",
    "\n",
    "# set value of hue for current node...\n",
    "# v.set_hue((r[0]+r[1])/2)\n",
    "hue_range = r[1] - r[0]\n",
    "centers_gap = hue_range/n_children\n",
    "\n",
    "for i in range(n_children):\n",
    "    r_list.append((i*centers_gap, (i+1)*centers_gap))\n",
    "\n",
    "reduced_r_list = []\n",
    "for rs,re in r_list:\n",
    "    retained_gap = (re - rs)*f\n",
    "    strt = rs + (re - rs)*(1-f)/2\n",
    "    reduced_r_list.append((strt, strt+retained_gap))\n",
    "\n"
   ]
  },
  {
   "cell_type": "code",
   "execution_count": 15,
   "metadata": {},
   "outputs": [
    {
     "data": {
      "text/plain": [
       "[(0.0, 120.0), (120.0, 240.0), (240.0, 360.0)]"
      ]
     },
     "execution_count": 15,
     "metadata": {},
     "output_type": "execute_result"
    }
   ],
   "source": [
    "r_list"
   ]
  },
  {
   "cell_type": "code",
   "execution_count": 16,
   "metadata": {},
   "outputs": [
    {
     "data": {
      "text/plain": [
       "[(15.0, 105.0), (135.0, 225.0), (255.0, 345.0)]"
      ]
     },
     "execution_count": 16,
     "metadata": {},
     "output_type": "execute_result"
    }
   ],
   "source": [
    "reduced_r_list"
   ]
  },
  {
   "cell_type": "code",
   "execution_count": 9,
   "metadata": {},
   "outputs": [
    {
     "data": {
      "text/plain": [
       "[(15.0, 105.0), (135.0, 225.0), (255.0, 345.0)]"
      ]
     },
     "execution_count": 9,
     "metadata": {},
     "output_type": "execute_result"
    }
   ],
   "source": [
    "retained_gap_length = f*centers_gap\n",
    "removed_gap = centers_gap - retained_gap_length\n",
    "for i in range(n_children):\n",
    "    strt = i*centers_gap + removed_gap/2\n",
    "    ri.append((strt, strt+retained_gap_length))\n",
    "\n",
    "\n"
   ]
  },
  {
   "cell_type": "code",
   "execution_count": 40,
   "metadata": {},
   "outputs": [
    {
     "data": {
      "text/plain": [
       "(36, 1)"
      ]
     },
     "execution_count": 40,
     "metadata": {},
     "output_type": "execute_result"
    }
   ],
   "source": [
    "np.ones((rgb.shape[0],1)).shape"
   ]
  },
  {
   "cell_type": "code",
   "execution_count": 32,
   "metadata": {},
   "outputs": [
    {
     "ename": "AttributeError",
     "evalue": "module 'matplotlib.colors' has no attribute 'hsv_to_rgba'",
     "output_type": "error",
     "traceback": [
      "\u001b[0;31m---------------------------------------------------------------------------\u001b[0m",
      "\u001b[0;31mAttributeError\u001b[0m                            Traceback (most recent call last)",
      "\u001b[1;32m/home/ahmedb/projects/Wav2Letter/Auditory_Cortex/experiments/beta_confusion_matrix/hierarchical_plotting.ipynb Cell 12\u001b[0m line \u001b[0;36m<cell line: 1>\u001b[0;34m()\u001b[0m\n\u001b[0;32m----> <a href='vscode-notebook-cell://ssh-remote%2Bgilbreth.rcac.purdue.edu/home/ahmedb/projects/Wav2Letter/Auditory_Cortex/experiments/beta_confusion_matrix/hierarchical_plotting.ipynb#X24sdnNjb2RlLXJlbW90ZQ%3D%3D?line=0'>1</a>\u001b[0m colors\u001b[39m.\u001b[39;49mhsv_to_rgba(hsv)\n",
      "\u001b[0;31mAttributeError\u001b[0m: module 'matplotlib.colors' has no attribute 'hsv_to_rgba'"
     ]
    }
   ],
   "source": [
    "colors.hsv_to_rgba(hsv)"
   ]
  },
  {
   "cell_type": "code",
   "execution_count": null,
   "metadata": {},
   "outputs": [],
   "source": [
    "hue = 100/360.0\n",
    "sat = 80/100.0\n",
    "lumin = 50/100.0\n",
    "\n",
    "colors.hsv_to_rgb()\n"
   ]
  },
  {
   "cell_type": "code",
   "execution_count": null,
   "metadata": {},
   "outputs": [],
   "source": []
  }
 ],
 "metadata": {
  "kernelspec": {
   "display_name": "Python (My wav2letter Kernel)",
   "language": "python",
   "name": "wav2letter"
  },
  "language_info": {
   "codemirror_mode": {
    "name": "ipython",
    "version": 3
   },
   "file_extension": ".py",
   "mimetype": "text/x-python",
   "name": "python",
   "nbconvert_exporter": "python",
   "pygments_lexer": "ipython3",
   "version": "3.8.5"
  },
  "orig_nbformat": 4
 },
 "nbformat": 4,
 "nbformat_minor": 2
}
