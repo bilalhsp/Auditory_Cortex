{
 "cells": [
  {
   "cell_type": "code",
   "execution_count": null,
   "metadata": {},
   "outputs": [],
   "source": []
  },
  {
   "attachments": {},
   "cell_type": "markdown",
   "metadata": {},
   "source": [
    "### Correlations as a function of 'receptive field'\n",
    "Speech2Text (S2T) has max correlations (corr) for 2nd layer. Wav2Letter (W2L) has peak for corr for 2nd and 3rd layers. How is possible that for both models layers in the same region (in terms of counting # of layers) have peak corr scores? Lets look at receptive fields in search of answers to that. "
   ]
  },
  {
   "cell_type": "code",
   "execution_count": 37,
   "metadata": {},
   "outputs": [],
   "source": [
    "def modified_rf(kernels, strides, layer_id):\n",
    "    samples = kernels[layer_id]\n",
    "    #print(f\"samples: {samples}\")\n",
    "    for i in range(layer_id,0,-1):\n",
    "        samples = (samples - 1)*strides[i-1] + kernels[i-1]\n",
    "    #    print(f\"stride: {strides[i-1]}\", end=': ')\n",
    "    #    print(f\"samples: {samples}\")\n",
    "    return samples\n",
    "\n",
    "def get_receptive_fields(kernels, strides, fs=16000):\n",
    "    \"\"\"computes receptive fields for the given arrays fo kernels and strides..\"\"\"\n",
    "    print(\"Calculating receptive field using 'modified_rf'\")\n",
    "    samping_rates = np.zeros(len(kernels))\n",
    "    samping_rates[0] = fs/strides[0]\n",
    "    for i in range(0,len(strides)):\n",
    "        rf_samples = modified_rf(kernels, strides, i)\n",
    "        rf_ms = rf_samples/16\n",
    "        if i>0:\n",
    "            samping_rates[i] = samping_rates[i-1]/strides[i] \n",
    "        print(f\"Layer {i}, RF: {rf_samples:5d} samples, {rf_ms:4.2f} ms, sampling_rate: {samping_rates[i]:.0f}Hz, sampling_time: {(1000/samping_rates[i]):.3f}ms\",)"
   ]
  },
  {
   "attachments": {},
   "cell_type": "markdown",
   "metadata": {},
   "source": [
    "### S2T 'receptive field'"
   ]
  },
  {
   "cell_type": "code",
   "execution_count": 42,
   "metadata": {},
   "outputs": [
    {
     "name": "stdout",
     "output_type": "stream",
     "text": [
      "Speech2Text...!\n",
      "Calculating receptive field using 'modified_rf'\n",
      "Layer 0, RF:   320 samples, 20.00 ms, sampling_rate: 100Hz, sampling_time: 10.000ms\n",
      "Layer 1, RF:   960 samples, 60.00 ms, sampling_rate: 50Hz, sampling_time: 20.000ms\n",
      "Layer 2, RF:  2240 samples, 140.00 ms, sampling_rate: 25Hz, sampling_time: 40.000ms\n"
     ]
    }
   ],
   "source": [
    "print(\"Speech2Text...!\")\n",
    "kernels = [320, 5, 5]\n",
    "strides = [160, 2, 2]\n",
    "# the last entries are kernel size and strides of the 'convolution position encoding'\n",
    "\n",
    "get_receptive_fields(kernels, strides)\n",
    "\n",
    "\n",
    "# # Spectrogram:\n",
    "# win_length_spect = 25\n",
    "# stride_spect = 10\n",
    "# rf_spect = win_length_spect\n",
    "\n",
    "\n",
    "# # Layer 1:\n",
    "# kernel_l1 = 5\n",
    "# stride_l1 = 2\n",
    "\n",
    "# # Layer 2:\n",
    "# kernel_l2 = 5\n",
    "# stride_l2 = 2\n",
    "\n",
    "# rf_l1 = receptive_field(kernel_l1, win_length_spect, stride_spect, rf_spect)\n",
    "# rf_l2 = receptive_field(kernel_l2, kernel_l1, stride_l1, rf_l1)"
   ]
  },
  {
   "attachments": {},
   "cell_type": "markdown",
   "metadata": {},
   "source": [
    "### wave2vec2 RF\n",
    "Pre-precessor has 7 conv layers, with kernels: [10,3,3,3,3,2,2] and strides: [[5,2,2,2,2,2,2]"
   ]
  },
  {
   "cell_type": "code",
   "execution_count": 32,
   "metadata": {},
   "outputs": [
    {
     "name": "stdout",
     "output_type": "stream",
     "text": [
      "Wav2vec...!\n",
      "Calculating receptive field using 'modified_rf'\n",
      "Layer 0, RF:    10 samples, 0.62 ms, sampling_rate: 3200Hz\n",
      "Layer 1, RF:    20 samples, 1.25 ms, sampling_rate: 1600Hz\n",
      "Layer 2, RF:    40 samples, 2.50 ms, sampling_rate: 800Hz\n",
      "Layer 3, RF:    80 samples, 5.00 ms, sampling_rate: 400Hz\n",
      "Layer 4, RF:   160 samples, 10.00 ms, sampling_rate: 200Hz\n",
      "Layer 5, RF:   240 samples, 15.00 ms, sampling_rate: 100Hz\n",
      "Layer 6, RF:   400 samples, 25.00 ms, sampling_rate: 50Hz\n",
      "Layer 7, RF: 41040 samples, 2565.00 ms, sampling_rate: 50Hz\n"
     ]
    }
   ],
   "source": [
    "print(\"Wav2vec...!\")\n",
    "kernels = [10,3,3,3,3,2,2, 128]\n",
    "strides = [5,2,2,2,2,2,2, 1]\n",
    "# the last entries are kernel size and strides of the 'convolution position encoding'\n",
    "\n",
    "get_receptive_fields(kernels, strides)"
   ]
  },
  {
   "attachments": {},
   "cell_type": "markdown",
   "metadata": {},
   "source": [
    "### W2L original"
   ]
  },
  {
   "cell_type": "code",
   "execution_count": 44,
   "metadata": {},
   "outputs": [
    {
     "name": "stdout",
     "output_type": "stream",
     "text": [
      "Receptive Fields for Wav2Letter (original):\n",
      "Calculating receptive field using 'modified_rf'\n",
      "Layer 0, RF:   320 samples, 20.00 ms, sampling_rate: 100Hz, sampling_time: 10.000ms\n",
      "Layer 1, RF:  1920 samples, 120.00 ms, sampling_rate: 50Hz, sampling_time: 20.000ms\n",
      "Layer 2, RF:  5120 samples, 320.00 ms, sampling_rate: 50Hz, sampling_time: 20.000ms\n",
      "Layer 3, RF:  8320 samples, 520.00 ms, sampling_rate: 50Hz, sampling_time: 20.000ms\n",
      "Layer 4, RF: 11520 samples, 720.00 ms, sampling_rate: 50Hz, sampling_time: 20.000ms\n",
      "Layer 5, RF: 15360 samples, 960.00 ms, sampling_rate: 50Hz, sampling_time: 20.000ms\n",
      "Layer 6, RF: 19200 samples, 1200.00 ms, sampling_rate: 50Hz, sampling_time: 20.000ms\n",
      "Layer 7, RF: 23040 samples, 1440.00 ms, sampling_rate: 50Hz, sampling_time: 20.000ms\n",
      "Layer 8, RF: 28160 samples, 1760.00 ms, sampling_rate: 50Hz, sampling_time: 20.000ms\n",
      "Layer 9, RF: 33280 samples, 2080.00 ms, sampling_rate: 50Hz, sampling_time: 20.000ms\n",
      "Layer 10, RF: 38400 samples, 2400.00 ms, sampling_rate: 50Hz, sampling_time: 20.000ms\n",
      "Layer 11, RF: 44800 samples, 2800.00 ms, sampling_rate: 50Hz, sampling_time: 20.000ms\n",
      "Layer 12, RF: 51200 samples, 3200.00 ms, sampling_rate: 50Hz, sampling_time: 20.000ms\n",
      "Layer 13, RF: 57600 samples, 3600.00 ms, sampling_rate: 50Hz, sampling_time: 20.000ms\n",
      "Layer 14, RF: 65280 samples, 4080.00 ms, sampling_rate: 50Hz, sampling_time: 20.000ms\n",
      "Layer 15, RF: 72960 samples, 4560.00 ms, sampling_rate: 50Hz, sampling_time: 20.000ms\n",
      "Layer 16, RF: 80640 samples, 5040.00 ms, sampling_rate: 50Hz, sampling_time: 20.000ms\n"
     ]
    }
   ],
   "source": [
    "import numpy as np\n",
    "print(\"Receptive Fields for Wav2Letter (original):\")\n",
    "kernels = [320, 11,11,11,11, 13,13,13, 17,17,17, 21,21,21, 25,25,25]\n",
    "strides = [160, 2, 1 ,1 ,1, 1,1,1, 1,1,1, 1,1,1, 1,1,1 ]\n",
    "\n",
    "get_receptive_fields(kernels, strides)\n"
   ]
  },
  {
   "attachments": {},
   "cell_type": "markdown",
   "metadata": {},
   "source": [
    "### W2L modified"
   ]
  },
  {
   "cell_type": "code",
   "execution_count": 40,
   "metadata": {},
   "outputs": [
    {
     "name": "stdout",
     "output_type": "stream",
     "text": [
      "Receptive Fields for proposed w2l:\n",
      "Calculating receptive field using 'modified_rf'\n",
      "Layer 0, RF:    31 samples, 1.94 ms, sampling_rate: 800Hz, sampling_time: 1.250ms\n",
      "Layer 1, RF:    71 samples, 4.44 ms, sampling_rate: 400Hz, sampling_time: 2.500ms\n",
      "Layer 2, RF:   151 samples, 9.44 ms, sampling_rate: 200Hz, sampling_time: 5.000ms\n",
      "Layer 3, RF:   311 samples, 19.44 ms, sampling_rate: 100Hz, sampling_time: 10.000ms\n",
      "Layer 4, RF:   631 samples, 39.44 ms, sampling_rate: 50Hz, sampling_time: 20.000ms\n",
      "Layer 5, RF:  1271 samples, 79.44 ms, sampling_rate: 50Hz, sampling_time: 20.000ms\n",
      "Layer 6, RF:  1911 samples, 119.44 ms, sampling_rate: 50Hz, sampling_time: 20.000ms\n",
      "Layer 7, RF:  2551 samples, 159.44 ms, sampling_rate: 50Hz, sampling_time: 20.000ms\n",
      "Layer 8, RF:  4471 samples, 279.44 ms, sampling_rate: 50Hz, sampling_time: 20.000ms\n",
      "Layer 9, RF:  6391 samples, 399.44 ms, sampling_rate: 50Hz, sampling_time: 20.000ms\n",
      "Layer 10, RF:  8311 samples, 519.44 ms, sampling_rate: 50Hz, sampling_time: 20.000ms\n",
      "Layer 11, RF: 10231 samples, 639.44 ms, sampling_rate: 50Hz, sampling_time: 20.000ms\n",
      "Layer 12, RF: 19831 samples, 1239.44 ms, sampling_rate: 50Hz, sampling_time: 20.000ms\n"
     ]
    }
   ],
   "source": [
    "print(\"Receptive Fields for proposed w2l:\")\n",
    "\n",
    "kernels = [31,3,3,3,3,3,3,3,7,7,7,7,31]\n",
    "strides = [20,2,2,2,2,1,1,1,1,1,1,1,1]\n",
    "\n",
    "get_receptive_fields(kernels, strides)\n",
    "\n"
   ]
  }
 ],
 "metadata": {
  "kernelspec": {
   "display_name": "Python 3",
   "language": "python",
   "name": "python3"
  },
  "language_info": {
   "codemirror_mode": {
    "name": "ipython",
    "version": 3
   },
   "file_extension": ".py",
   "mimetype": "text/x-python",
   "name": "python",
   "nbconvert_exporter": "python",
   "pygments_lexer": "ipython3",
   "version": "3.8.5"
  },
  "orig_nbformat": 4
 },
 "nbformat": 4,
 "nbformat_minor": 2
}
