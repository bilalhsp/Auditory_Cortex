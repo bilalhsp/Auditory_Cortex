{
 "cells": [
  {
   "attachments": {},
   "cell_type": "markdown",
   "metadata": {},
   "source": [
    "### Correlations as a function of 'receptive field'\n",
    "Speech2Text (S2T) has max correlations (corr) for 2nd layer. Wav2Letter (W2L) has peak for corr for 2nd and 3rd layers. How is possible that for both models layers in the same region (in terms of counting # of layers) have peak corr scores? Lets look at receptive fields in search of answers to that. "
   ]
  },
  {
   "cell_type": "code",
   "execution_count": 4,
   "metadata": {},
   "outputs": [],
   "source": [
    "import numpy as np\n",
    "\n",
    "def _get_layer_receptive_field(kernels, strides, layer_id):\n",
    "    \"\"\"Computes receptive field for the layer at index 'layer_id'.\n",
    "\n",
    "    Args:\n",
    "        kernels: list = kernels sizes of convolution layers in order.\n",
    "        strides: list = strides of convolution layers in order.\n",
    "        layer_id: int = index of layer to compute the receptive field for.\n",
    "\n",
    "    Returns:\n",
    "        Receptive field (number of samples of input).\n",
    "    \"\"\"\n",
    "    samples = kernels[layer_id]\n",
    "    for i in range(layer_id,0,-1):\n",
    "        samples = (samples - 1)*strides[i-1] + kernels[i-1]\n",
    "\n",
    "    return samples\n",
    "\n",
    "def get_receptive_fields(kernels, strides, fs=16000):\n",
    "    \"\"\"Computes receptive fields for all the layers of the network,\n",
    "    the given arrays fo kernels and strides.\n",
    "    Args:\n",
    "        kernels: list = kernels sizes of convolution layers in order.\n",
    "        strides: list = strides of convolution layers in order.\n",
    "\n",
    "    \"\"\"\n",
    "    print(\"Calculating receptive fields for all layers...\")\n",
    "    samping_rates = np.zeros(len(kernels))\n",
    "    samping_rates[0] = fs/strides[0]\n",
    "    for i in range(0,len(strides)):\n",
    "        rf_samples = _get_layer_receptive_field(kernels, strides, i)\n",
    "        rf_ms = rf_samples*1000/fs\n",
    "        if i>0:\n",
    "            samping_rates[i] = samping_rates[i-1]/strides[i] \n",
    "        print(f\"Layer {i}, RF: {rf_samples:5d} samples, {rf_ms:4.2f} ms, sampling_rate: {samping_rates[i]:.0f}Hz, sampling_time: {(1000/samping_rates[i]):.3f}ms\",)"
   ]
  },
  {
   "cell_type": "markdown",
   "metadata": {},
   "source": [
    "### Whisper"
   ]
  },
  {
   "cell_type": "markdown",
   "metadata": {},
   "source": [
    "#### tiny.."
   ]
  },
  {
   "cell_type": "code",
   "execution_count": 6,
   "metadata": {},
   "outputs": [
    {
     "name": "stdout",
     "output_type": "stream",
     "text": [
      "Whisper...!\n",
      "Calculating receptive field using 'modified_rf'\n",
      "Layer 0, RF:   400 samples, 25.00 ms, sampling_rate: 100Hz, sampling_time: 10.000ms\n",
      "Layer 1, RF:   720 samples, 45.00 ms, sampling_rate: 100Hz, sampling_time: 10.000ms\n",
      "Layer 2, RF:  1040 samples, 65.00 ms, sampling_rate: 50Hz, sampling_time: 20.000ms\n"
     ]
    }
   ],
   "source": [
    "print(\"Whisper...!\")\n",
    "# spectrogram with:\n",
    "#  - window length 25 ms (400 samples)\n",
    "#  - window stride 10 ms (160 samples)\n",
    "kernels = [400, 3, 3]\n",
    "strides = [160, 1, 2]\n",
    "# the last entries are kernel size and strides of the 'convolution position encoding'\n",
    "\n",
    "get_receptive_fields(kernels, strides)"
   ]
  },
  {
   "attachments": {},
   "cell_type": "markdown",
   "metadata": {},
   "source": [
    "### S2T 'receptive field'"
   ]
  },
  {
   "cell_type": "code",
   "execution_count": 5,
   "metadata": {},
   "outputs": [
    {
     "name": "stdout",
     "output_type": "stream",
     "text": [
      "Speech2Text...!\n",
      "Calculating receptive field using 'modified_rf'\n",
      "Layer 0, RF:   400 samples, 25.00 ms, sampling_rate: 100Hz, sampling_time: 10.000ms\n",
      "Layer 1, RF:  1040 samples, 65.00 ms, sampling_rate: 50Hz, sampling_time: 20.000ms\n",
      "Layer 2, RF:  2320 samples, 145.00 ms, sampling_rate: 25Hz, sampling_time: 40.000ms\n"
     ]
    }
   ],
   "source": [
    "print(\"Speech2Text...!\")\n",
    "kernels = [400, 5, 5]\n",
    "strides = [160, 2, 2]\n",
    "# the last entries are kernel size and strides of the 'convolution position encoding'\n",
    "\n",
    "get_receptive_fields(kernels, strides)\n",
    "\n",
    "\n",
    "# # Spectrogram:\n",
    "# win_length_spect = 25\n",
    "# stride_spect = 10\n",
    "# rf_spect = win_length_spect\n",
    "\n",
    "\n",
    "# # Layer 1:\n",
    "# kernel_l1 = 5\n",
    "# stride_l1 = 2\n",
    "\n",
    "# # Layer 2:\n",
    "# kernel_l2 = 5\n",
    "# stride_l2 = 2\n",
    "\n",
    "# rf_l1 = receptive_field(kernel_l1, win_length_spect, stride_spect, rf_spect)\n",
    "# rf_l2 = receptive_field(kernel_l2, kernel_l1, stride_l1, rf_l1)"
   ]
  },
  {
   "cell_type": "markdown",
   "metadata": {},
   "source": [
    "### wave2vec RF"
   ]
  },
  {
   "cell_type": "code",
   "execution_count": 2,
   "metadata": {},
   "outputs": [
    {
     "name": "stdout",
     "output_type": "stream",
     "text": [
      "Wav2vec...!\n",
      "Calculating receptive field using 'modified_rf'\n",
      "Layer 0, RF:    10 samples, 0.62 ms, sampling_rate: 3200Hz, sampling_time: 0.312ms\n",
      "Layer 1, RF:    45 samples, 2.81 ms, sampling_rate: 800Hz, sampling_time: 1.250ms\n",
      "Layer 2, RF:   105 samples, 6.56 ms, sampling_rate: 400Hz, sampling_time: 2.500ms\n",
      "Layer 3, RF:   225 samples, 14.06 ms, sampling_rate: 200Hz, sampling_time: 5.000ms\n",
      "Layer 4, RF:   465 samples, 29.06 ms, sampling_rate: 100Hz, sampling_time: 10.000ms\n",
      "Layer 5, RF:   465 samples, 29.06 ms, sampling_rate: 100Hz, sampling_time: 10.000ms\n",
      "Layer 6, RF:   465 samples, 29.06 ms, sampling_rate: 100Hz, sampling_time: 10.000ms\n",
      "Layer 7, RF:   625 samples, 39.06 ms, sampling_rate: 100Hz, sampling_time: 10.000ms\n",
      "Layer 8, RF:   945 samples, 59.06 ms, sampling_rate: 100Hz, sampling_time: 10.000ms\n",
      "Layer 9, RF:  1425 samples, 89.06 ms, sampling_rate: 100Hz, sampling_time: 10.000ms\n",
      "Layer 10, RF:  2065 samples, 129.06 ms, sampling_rate: 100Hz, sampling_time: 10.000ms\n",
      "Layer 11, RF:  2865 samples, 179.06 ms, sampling_rate: 100Hz, sampling_time: 10.000ms\n",
      "Layer 12, RF:  3825 samples, 239.06 ms, sampling_rate: 100Hz, sampling_time: 10.000ms\n",
      "Layer 13, RF:  4945 samples, 309.06 ms, sampling_rate: 100Hz, sampling_time: 10.000ms\n",
      "Layer 14, RF:  6225 samples, 389.06 ms, sampling_rate: 100Hz, sampling_time: 10.000ms\n",
      "Layer 15, RF:  7665 samples, 479.06 ms, sampling_rate: 100Hz, sampling_time: 10.000ms\n",
      "Layer 16, RF:  9265 samples, 579.06 ms, sampling_rate: 100Hz, sampling_time: 10.000ms\n",
      "Layer 17, RF: 11025 samples, 689.06 ms, sampling_rate: 100Hz, sampling_time: 10.000ms\n",
      "Layer 18, RF: 12945 samples, 809.06 ms, sampling_rate: 100Hz, sampling_time: 10.000ms\n"
     ]
    }
   ],
   "source": [
    "print(\"Wav2vec...!\")\n",
    "kernels = [10,8,4,4,4,1,1, 2,3,4,5,6,7,8,9,10,11,12,13]\n",
    "strides = [5,4,2,2,2,1,1, 1,1,1,1,1,1,1,1,1,1,1,1 ]\n",
    "# the last entries are kernel size and strides of the 'convolution position encoding'\n",
    "\n",
    "get_receptive_fields(kernels, strides)"
   ]
  },
  {
   "attachments": {},
   "cell_type": "markdown",
   "metadata": {},
   "source": [
    "### wave2vec2 RF\n",
    "Pre-precessor has 7 conv layers, with kernels: [10,3,3,3,3,2,2] and strides: [[5,2,2,2,2,2,2]"
   ]
  },
  {
   "cell_type": "code",
   "execution_count": 32,
   "metadata": {},
   "outputs": [
    {
     "name": "stdout",
     "output_type": "stream",
     "text": [
      "Wav2vec...!\n",
      "Calculating receptive field using 'modified_rf'\n",
      "Layer 0, RF:    10 samples, 0.62 ms, sampling_rate: 3200Hz\n",
      "Layer 1, RF:    20 samples, 1.25 ms, sampling_rate: 1600Hz\n",
      "Layer 2, RF:    40 samples, 2.50 ms, sampling_rate: 800Hz\n",
      "Layer 3, RF:    80 samples, 5.00 ms, sampling_rate: 400Hz\n",
      "Layer 4, RF:   160 samples, 10.00 ms, sampling_rate: 200Hz\n",
      "Layer 5, RF:   240 samples, 15.00 ms, sampling_rate: 100Hz\n",
      "Layer 6, RF:   400 samples, 25.00 ms, sampling_rate: 50Hz\n",
      "Layer 7, RF: 41040 samples, 2565.00 ms, sampling_rate: 50Hz\n"
     ]
    }
   ],
   "source": [
    "print(\"Wav2vec...!\")\n",
    "kernels = [10,3,3,3,3,2,2, 128]\n",
    "strides = [5,2,2,2,2,2,2, 1]\n",
    "# the last entries are kernel size and strides of the 'convolution position encoding'\n",
    "\n",
    "get_receptive_fields(kernels, strides)"
   ]
  },
  {
   "cell_type": "code",
   "execution_count": 2,
   "metadata": {},
   "outputs": [
    {
     "name": "stdout",
     "output_type": "stream",
     "text": [
      "Wav2vec...!\n",
      "Calculating receptive fields for all layers...\n",
      "Layer 0, RF:    10 samples, 0.62 ms, sampling_rate: 3200Hz, sampling_time: 0.312ms\n",
      "Layer 1, RF:    20 samples, 1.25 ms, sampling_rate: 1600Hz, sampling_time: 0.625ms\n",
      "Layer 2, RF:    40 samples, 2.50 ms, sampling_rate: 800Hz, sampling_time: 1.250ms\n",
      "Layer 3, RF:    80 samples, 5.00 ms, sampling_rate: 400Hz, sampling_time: 2.500ms\n",
      "Layer 4, RF:   160 samples, 10.00 ms, sampling_rate: 200Hz, sampling_time: 5.000ms\n",
      "Layer 5, RF:   240 samples, 15.00 ms, sampling_rate: 100Hz, sampling_time: 10.000ms\n",
      "Layer 6, RF:   400 samples, 25.00 ms, sampling_rate: 50Hz, sampling_time: 20.000ms\n",
      "Layer 7, RF: 41040 samples, 2565.00 ms, sampling_rate: 50Hz, sampling_time: 20.000ms\n"
     ]
    }
   ],
   "source": [
    "from auditory_cortex.utils import get_receptive_fields\n",
    "\n",
    "print(\"Wav2vec...!\")\n",
    "kernels = [10,3,3,3,3,2,2, 128]\n",
    "strides = [5,2,2,2,2,2,2, 1]\n",
    "# the last entries are kernel size and strides of the 'convolution position encoding'\n",
    "\n",
    "get_receptive_fields(kernels, strides, fs=16000)"
   ]
  },
  {
   "cell_type": "code",
   "execution_count": 2,
   "metadata": {},
   "outputs": [
    {
     "name": "stdout",
     "output_type": "stream",
     "text": [
      "Wav2vec...!\n",
      "Calculating receptive field using 'modified_rf'\n",
      "Layer 0, RF:     8 samples, 0.50 ms, sampling_rate: 3200Hz, sampling_time: 0.312ms\n",
      "Layer 1, RF:    23 samples, 1.44 ms, sampling_rate: 1067Hz, sampling_time: 0.937ms\n",
      "Layer 2, RF:    38 samples, 2.38 ms, sampling_rate: 533Hz, sampling_time: 1.875ms\n",
      "Layer 3, RF:    68 samples, 4.25 ms, sampling_rate: 533Hz, sampling_time: 1.875ms\n",
      "Layer 4, RF:   128 samples, 8.00 ms, sampling_rate: 533Hz, sampling_time: 1.875ms\n",
      "Layer 5, RF:   218 samples, 13.62 ms, sampling_rate: 533Hz, sampling_time: 1.875ms\n"
     ]
    }
   ],
   "source": [
    "print(\"Wav2vec...!\")\n",
    "kernels = [12, 4, 2, 2, 3, 4]\n",
    "strides = [5, 3, 2, 1, 1, 1]\n",
    "# the last entries are kernel size and strides of the 'convolution position encoding'\n",
    "\n",
    "get_receptive_fields(kernels, strides)"
   ]
  },
  {
   "cell_type": "code",
   "execution_count": 6,
   "metadata": {},
   "outputs": [
    {
     "name": "stdout",
     "output_type": "stream",
     "text": [
      "Calculating receptive field using 'modified_rf'\n",
      "Layer 0, RF:     8 samples, 0.50 ms, sampling_rate: 3200Hz, sampling_time: 0.312ms\n",
      "Layer 1, RF:    43 samples, 2.69 ms, sampling_rate: 1067Hz, sampling_time: 0.937ms\n",
      "Layer 2, RF:    58 samples, 3.62 ms, sampling_rate: 533Hz, sampling_time: 1.875ms\n",
      "Layer 3, RF:    88 samples, 5.50 ms, sampling_rate: 533Hz, sampling_time: 1.875ms\n",
      "Layer 4, RF:   148 samples, 9.25 ms, sampling_rate: 533Hz, sampling_time: 1.875ms\n",
      "Layer 5, RF:   328 samples, 20.50 ms, sampling_rate: 533Hz, sampling_time: 1.875ms\n"
     ]
    }
   ],
   "source": [
    "kernels = [8, 8, 2, 2, 3, 7]\n",
    "strides = [5, 3, 2, 1, 1, 1]\n",
    "# the last entries are kernel size and strides of the 'convolution position encoding'\n",
    "\n",
    "get_receptive_fields(kernels, strides)"
   ]
  },
  {
   "cell_type": "code",
   "execution_count": 5,
   "metadata": {},
   "outputs": [
    {
     "name": "stdout",
     "output_type": "stream",
     "text": [
      "Calculating receptive field using 'modified_rf'\n",
      "Layer 0, RF:     5 samples, 0.31 ms, sampling_rate: 8000Hz, sampling_time: 0.125ms\n",
      "Layer 1, RF:     9 samples, 0.56 ms, sampling_rate: 4000Hz, sampling_time: 0.250ms\n",
      "Layer 2, RF:    13 samples, 0.81 ms, sampling_rate: 4000Hz, sampling_time: 0.250ms\n"
     ]
    }
   ],
   "source": [
    "kernels = [5, 3, 2]\n",
    "strides = [2, 2, 1]\n",
    "# the last entries are kernel size and strides of the 'convolution position encoding'\n",
    "\n",
    "get_receptive_fields(kernels, strides)"
   ]
  },
  {
   "attachments": {},
   "cell_type": "markdown",
   "metadata": {},
   "source": [
    "### W2L original"
   ]
  },
  {
   "cell_type": "code",
   "execution_count": 44,
   "metadata": {},
   "outputs": [
    {
     "name": "stdout",
     "output_type": "stream",
     "text": [
      "Receptive Fields for Wav2Letter (original):\n",
      "Calculating receptive field using 'modified_rf'\n",
      "Layer 0, RF:   320 samples, 20.00 ms, sampling_rate: 100Hz, sampling_time: 10.000ms\n",
      "Layer 1, RF:  1920 samples, 120.00 ms, sampling_rate: 50Hz, sampling_time: 20.000ms\n",
      "Layer 2, RF:  5120 samples, 320.00 ms, sampling_rate: 50Hz, sampling_time: 20.000ms\n",
      "Layer 3, RF:  8320 samples, 520.00 ms, sampling_rate: 50Hz, sampling_time: 20.000ms\n",
      "Layer 4, RF: 11520 samples, 720.00 ms, sampling_rate: 50Hz, sampling_time: 20.000ms\n",
      "Layer 5, RF: 15360 samples, 960.00 ms, sampling_rate: 50Hz, sampling_time: 20.000ms\n",
      "Layer 6, RF: 19200 samples, 1200.00 ms, sampling_rate: 50Hz, sampling_time: 20.000ms\n",
      "Layer 7, RF: 23040 samples, 1440.00 ms, sampling_rate: 50Hz, sampling_time: 20.000ms\n",
      "Layer 8, RF: 28160 samples, 1760.00 ms, sampling_rate: 50Hz, sampling_time: 20.000ms\n",
      "Layer 9, RF: 33280 samples, 2080.00 ms, sampling_rate: 50Hz, sampling_time: 20.000ms\n",
      "Layer 10, RF: 38400 samples, 2400.00 ms, sampling_rate: 50Hz, sampling_time: 20.000ms\n",
      "Layer 11, RF: 44800 samples, 2800.00 ms, sampling_rate: 50Hz, sampling_time: 20.000ms\n",
      "Layer 12, RF: 51200 samples, 3200.00 ms, sampling_rate: 50Hz, sampling_time: 20.000ms\n",
      "Layer 13, RF: 57600 samples, 3600.00 ms, sampling_rate: 50Hz, sampling_time: 20.000ms\n",
      "Layer 14, RF: 65280 samples, 4080.00 ms, sampling_rate: 50Hz, sampling_time: 20.000ms\n",
      "Layer 15, RF: 72960 samples, 4560.00 ms, sampling_rate: 50Hz, sampling_time: 20.000ms\n",
      "Layer 16, RF: 80640 samples, 5040.00 ms, sampling_rate: 50Hz, sampling_time: 20.000ms\n"
     ]
    }
   ],
   "source": [
    "import numpy as np\n",
    "print(\"Receptive Fields for Wav2Letter (original):\")\n",
    "kernels = [320, 11,11,11,11, 13,13,13, 17,17,17, 21,21,21, 25,25,25]\n",
    "strides = [160, 2, 1 ,1 ,1, 1,1,1, 1,1,1, 1,1,1, 1,1,1 ]\n",
    "\n",
    "get_receptive_fields(kernels, strides)\n"
   ]
  },
  {
   "attachments": {},
   "cell_type": "markdown",
   "metadata": {},
   "source": [
    "### W2L modified"
   ]
  },
  {
   "cell_type": "code",
   "execution_count": 40,
   "metadata": {},
   "outputs": [
    {
     "name": "stdout",
     "output_type": "stream",
     "text": [
      "Receptive Fields for proposed w2l:\n",
      "Calculating receptive field using 'modified_rf'\n",
      "Layer 0, RF:    31 samples, 1.94 ms, sampling_rate: 800Hz, sampling_time: 1.250ms\n",
      "Layer 1, RF:    71 samples, 4.44 ms, sampling_rate: 400Hz, sampling_time: 2.500ms\n",
      "Layer 2, RF:   151 samples, 9.44 ms, sampling_rate: 200Hz, sampling_time: 5.000ms\n",
      "Layer 3, RF:   311 samples, 19.44 ms, sampling_rate: 100Hz, sampling_time: 10.000ms\n",
      "Layer 4, RF:   631 samples, 39.44 ms, sampling_rate: 50Hz, sampling_time: 20.000ms\n",
      "Layer 5, RF:  1271 samples, 79.44 ms, sampling_rate: 50Hz, sampling_time: 20.000ms\n",
      "Layer 6, RF:  1911 samples, 119.44 ms, sampling_rate: 50Hz, sampling_time: 20.000ms\n",
      "Layer 7, RF:  2551 samples, 159.44 ms, sampling_rate: 50Hz, sampling_time: 20.000ms\n",
      "Layer 8, RF:  4471 samples, 279.44 ms, sampling_rate: 50Hz, sampling_time: 20.000ms\n",
      "Layer 9, RF:  6391 samples, 399.44 ms, sampling_rate: 50Hz, sampling_time: 20.000ms\n",
      "Layer 10, RF:  8311 samples, 519.44 ms, sampling_rate: 50Hz, sampling_time: 20.000ms\n",
      "Layer 11, RF: 10231 samples, 639.44 ms, sampling_rate: 50Hz, sampling_time: 20.000ms\n",
      "Layer 12, RF: 19831 samples, 1239.44 ms, sampling_rate: 50Hz, sampling_time: 20.000ms\n"
     ]
    }
   ],
   "source": [
    "print(\"Receptive Fields for proposed w2l:\")\n",
    "\n",
    "kernels = [31,3,3,3,3,3,3,3,7,7,7,7,31]\n",
    "strides = [20,2,2,2,2,1,1,1,1,1,1,1,1]\n",
    "\n",
    "get_receptive_fields(kernels, strides)\n",
    "\n"
   ]
  },
  {
   "attachments": {},
   "cell_type": "markdown",
   "metadata": {},
   "source": [
    "### DeepSpeech2"
   ]
  },
  {
   "cell_type": "code",
   "execution_count": 6,
   "metadata": {},
   "outputs": [
    {
     "name": "stdout",
     "output_type": "stream",
     "text": [
      "Receptive Fields for deepspeech2:\n",
      "First layer is spectrogram here, conv layers start from layer index 1...!\n",
      "Calculating receptive field using 'modified_rf'\n",
      "Layer 0, RF:   320 samples, 20.00 ms, sampling_rate: 100Hz, sampling_time: 10.000ms\n",
      "Layer 1, RF:  1920 samples, 120.00 ms, sampling_rate: 50Hz, sampling_time: 20.000ms\n",
      "Layer 2, RF:  5120 samples, 320.00 ms, sampling_rate: 50Hz, sampling_time: 20.000ms\n"
     ]
    }
   ],
   "source": [
    "print(\"Receptive Fields for deepspeech2:\")\n",
    "\n",
    "print(f\"First layer is spectrogram here, conv layers start from layer index 1...!\")\n",
    "kernels = [320,11,11]\n",
    "strides = [160,2,1]\n",
    "\n",
    "get_receptive_fields(kernels, strides)\n"
   ]
  },
  {
   "cell_type": "code",
   "execution_count": null,
   "metadata": {},
   "outputs": [],
   "source": []
  }
 ],
 "metadata": {
  "kernelspec": {
   "display_name": "Python 3",
   "language": "python",
   "name": "python3"
  },
  "language_info": {
   "codemirror_mode": {
    "name": "ipython",
    "version": 3
   },
   "file_extension": ".py",
   "mimetype": "text/x-python",
   "name": "python",
   "nbconvert_exporter": "python",
   "pygments_lexer": "ipython3",
   "version": "3.8.5"
  },
  "orig_nbformat": 4
 },
 "nbformat": 4,
 "nbformat_minor": 2
}
