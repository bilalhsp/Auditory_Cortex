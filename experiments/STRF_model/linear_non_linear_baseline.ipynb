{
 "cells": [
  {
   "cell_type": "code",
   "execution_count": 1,
   "metadata": {},
   "outputs": [
    {
     "name": "stderr",
     "output_type": "stream",
     "text": [
      "INFO:fairseq.tasks.text_to_speech:Please install tensorboardX: pip install tensorboardX\n",
      "DEBUG:matplotlib.pyplot:Loaded backend agg version unknown.\n"
     ]
    }
   ],
   "source": [
    "from auditory_cortex.computational_models.baseline import STRF\n",
    "from auditory_cortex.dataloader import DataLoader\n",
    "import numpy as np\n",
    "import pandas as pd\n",
    "from sklearn.linear_model import RidgeCV, ElasticNetCV"
   ]
  },
  {
   "cell_type": "markdown",
   "metadata": {},
   "source": [
    "### Baseline distribution..."
   ]
  },
  {
   "cell_type": "code",
   "execution_count": 1,
   "metadata": {},
   "outputs": [],
   "source": [
    "from auditory_cortex.analyses.regression_correlations import Correlations"
   ]
  },
  {
   "cell_type": "code",
   "execution_count": 70,
   "metadata": {},
   "outputs": [
    {
     "name": "stdout",
     "output_type": "stream",
     "text": [
      "Reading existing dataframe.\n"
     ]
    }
   ],
   "source": [
    "model_name = 'wave2letter_modified'\n",
    "identifier = 'sampling_rate_opt_neural_delay'\n",
    "\n",
    "corr_obj = Correlations(model_name+'_'+identifier)"
   ]
  },
  {
   "cell_type": "code",
   "execution_count": 74,
   "metadata": {},
   "outputs": [],
   "source": [
    "area = 'belt'\n",
    "bin_width = 20\n",
    "normalized = True\n",
    "baseline = corr_obj.get_baseline_corr_for_area(\n",
    "    neural_area=area, bin_width=bin_width, threshold=0.061, normalized=normalized)"
   ]
  },
  {
   "cell_type": "code",
   "execution_count": 75,
   "metadata": {},
   "outputs": [
    {
     "data": {
      "text/plain": [
       "(19,)"
      ]
     },
     "execution_count": 75,
     "metadata": {},
     "output_type": "execute_result"
    }
   ],
   "source": [
    "baseline.shape"
   ]
  },
  {
   "cell_type": "code",
   "execution_count": 63,
   "metadata": {},
   "outputs": [
    {
     "name": "stdout",
     "output_type": "stream",
     "text": [
      "Reading existing dataframe.\n"
     ]
    }
   ],
   "source": [
    "corr_obj = Correlations(model_name='STRF')"
   ]
  },
  {
   "cell_type": "code",
   "execution_count": 53,
   "metadata": {},
   "outputs": [
    {
     "data": {
      "text/plain": [
       "(2442, 10)"
      ]
     },
     "execution_count": 53,
     "metadata": {},
     "output_type": "execute_result"
    }
   ],
   "source": [
    "corr_obj.data.shape"
   ]
  },
  {
   "cell_type": "code",
   "execution_count": 51,
   "metadata": {},
   "outputs": [
    {
     "data": {
      "text/html": [
       "<div>\n",
       "<style scoped>\n",
       "    .dataframe tbody tr th:only-of-type {\n",
       "        vertical-align: middle;\n",
       "    }\n",
       "\n",
       "    .dataframe tbody tr th {\n",
       "        vertical-align: top;\n",
       "    }\n",
       "\n",
       "    .dataframe thead th {\n",
       "        text-align: right;\n",
       "    }\n",
       "</style>\n",
       "<table border=\"1\" class=\"dataframe\">\n",
       "  <thead>\n",
       "    <tr style=\"text-align: right;\">\n",
       "      <th></th>\n",
       "      <th>session</th>\n",
       "      <th>channel</th>\n",
       "      <th>bin_width</th>\n",
       "      <th>delay</th>\n",
       "      <th>strf_corr</th>\n",
       "      <th>normalizer</th>\n",
       "      <th>strf_corr_normalized</th>\n",
       "      <th>test_cc_raw</th>\n",
       "      <th>N_sents</th>\n",
       "      <th>normalized_test_cc</th>\n",
       "    </tr>\n",
       "  </thead>\n",
       "  <tbody>\n",
       "    <tr>\n",
       "      <th>0</th>\n",
       "      <td>200206.0</td>\n",
       "      <td>0.0</td>\n",
       "      <td>20.0</td>\n",
       "      <td>0.0</td>\n",
       "      <td>0.118883</td>\n",
       "      <td>0.183040</td>\n",
       "      <td>0.277706</td>\n",
       "      <td>0.118883</td>\n",
       "      <td>500.0</td>\n",
       "      <td>0.277873</td>\n",
       "    </tr>\n",
       "    <tr>\n",
       "      <th>64</th>\n",
       "      <td>180420.0</td>\n",
       "      <td>0.0</td>\n",
       "      <td>20.0</td>\n",
       "      <td>0.0</td>\n",
       "      <td>-0.009049</td>\n",
       "      <td>-0.006932</td>\n",
       "      <td>NaN</td>\n",
       "      <td>-0.009049</td>\n",
       "      <td>500.0</td>\n",
       "      <td>NaN</td>\n",
       "    </tr>\n",
       "    <tr>\n",
       "      <th>80</th>\n",
       "      <td>190726.0</td>\n",
       "      <td>0.0</td>\n",
       "      <td>20.0</td>\n",
       "      <td>0.0</td>\n",
       "      <td>0.005723</td>\n",
       "      <td>0.005425</td>\n",
       "      <td>0.088408</td>\n",
       "      <td>0.005723</td>\n",
       "      <td>500.0</td>\n",
       "      <td>0.077697</td>\n",
       "    </tr>\n",
       "    <tr>\n",
       "      <th>140</th>\n",
       "      <td>180613.0</td>\n",
       "      <td>0.0</td>\n",
       "      <td>20.0</td>\n",
       "      <td>0.0</td>\n",
       "      <td>0.050992</td>\n",
       "      <td>-0.004796</td>\n",
       "      <td>NaN</td>\n",
       "      <td>0.050992</td>\n",
       "      <td>500.0</td>\n",
       "      <td>NaN</td>\n",
       "    </tr>\n",
       "    <tr>\n",
       "      <th>156</th>\n",
       "      <td>191206.0</td>\n",
       "      <td>0.0</td>\n",
       "      <td>20.0</td>\n",
       "      <td>0.0</td>\n",
       "      <td>0.010501</td>\n",
       "      <td>NaN</td>\n",
       "      <td>inf</td>\n",
       "      <td>0.010501</td>\n",
       "      <td>500.0</td>\n",
       "      <td>NaN</td>\n",
       "    </tr>\n",
       "    <tr>\n",
       "      <th>217</th>\n",
       "      <td>200318.0</td>\n",
       "      <td>0.0</td>\n",
       "      <td>20.0</td>\n",
       "      <td>0.0</td>\n",
       "      <td>0.051317</td>\n",
       "      <td>0.006665</td>\n",
       "      <td>0.683060</td>\n",
       "      <td>0.051317</td>\n",
       "      <td>500.0</td>\n",
       "      <td>0.628570</td>\n",
       "    </tr>\n",
       "    <tr>\n",
       "      <th>262</th>\n",
       "      <td>180720.0</td>\n",
       "      <td>0.0</td>\n",
       "      <td>20.0</td>\n",
       "      <td>0.0</td>\n",
       "      <td>0.041503</td>\n",
       "      <td>0.002848</td>\n",
       "      <td>0.777271</td>\n",
       "      <td>0.041503</td>\n",
       "      <td>500.0</td>\n",
       "      <td>0.777738</td>\n",
       "    </tr>\n",
       "    <tr>\n",
       "      <th>278</th>\n",
       "      <td>191219.0</td>\n",
       "      <td>0.0</td>\n",
       "      <td>20.0</td>\n",
       "      <td>0.0</td>\n",
       "      <td>0.005726</td>\n",
       "      <td>-0.010842</td>\n",
       "      <td>NaN</td>\n",
       "      <td>0.005726</td>\n",
       "      <td>500.0</td>\n",
       "      <td>NaN</td>\n",
       "    </tr>\n",
       "    <tr>\n",
       "      <th>340</th>\n",
       "      <td>191125.0</td>\n",
       "      <td>0.0</td>\n",
       "      <td>20.0</td>\n",
       "      <td>0.0</td>\n",
       "      <td>-0.002208</td>\n",
       "      <td>-0.004852</td>\n",
       "      <td>NaN</td>\n",
       "      <td>-0.002208</td>\n",
       "      <td>500.0</td>\n",
       "      <td>NaN</td>\n",
       "    </tr>\n",
       "    <tr>\n",
       "      <th>400</th>\n",
       "      <td>180731.0</td>\n",
       "      <td>0.0</td>\n",
       "      <td>20.0</td>\n",
       "      <td>0.0</td>\n",
       "      <td>0.121637</td>\n",
       "      <td>0.086090</td>\n",
       "      <td>0.422539</td>\n",
       "      <td>0.121637</td>\n",
       "      <td>500.0</td>\n",
       "      <td>0.414563</td>\n",
       "    </tr>\n",
       "    <tr>\n",
       "      <th>416</th>\n",
       "      <td>190604.0</td>\n",
       "      <td>0.0</td>\n",
       "      <td>20.0</td>\n",
       "      <td>0.0</td>\n",
       "      <td>-0.022332</td>\n",
       "      <td>-0.013329</td>\n",
       "      <td>NaN</td>\n",
       "      <td>-0.022332</td>\n",
       "      <td>500.0</td>\n",
       "      <td>NaN</td>\n",
       "    </tr>\n",
       "    <tr>\n",
       "      <th>480</th>\n",
       "      <td>190605.0</td>\n",
       "      <td>0.0</td>\n",
       "      <td>20.0</td>\n",
       "      <td>0.0</td>\n",
       "      <td>-0.005227</td>\n",
       "      <td>-0.004328</td>\n",
       "      <td>NaN</td>\n",
       "      <td>-0.005227</td>\n",
       "      <td>500.0</td>\n",
       "      <td>NaN</td>\n",
       "    </tr>\n",
       "    <tr>\n",
       "      <th>544</th>\n",
       "      <td>180814.0</td>\n",
       "      <td>0.0</td>\n",
       "      <td>20.0</td>\n",
       "      <td>0.0</td>\n",
       "      <td>0.092229</td>\n",
       "      <td>0.054913</td>\n",
       "      <td>0.393341</td>\n",
       "      <td>0.092229</td>\n",
       "      <td>500.0</td>\n",
       "      <td>0.393577</td>\n",
       "    </tr>\n",
       "    <tr>\n",
       "      <th>580</th>\n",
       "      <td>180413.0</td>\n",
       "      <td>0.0</td>\n",
       "      <td>20.0</td>\n",
       "      <td>0.0</td>\n",
       "      <td>0.057670</td>\n",
       "      <td>0.010205</td>\n",
       "      <td>0.464247</td>\n",
       "      <td>0.057670</td>\n",
       "      <td>500.0</td>\n",
       "      <td>0.570891</td>\n",
       "    </tr>\n",
       "    <tr>\n",
       "      <th>596</th>\n",
       "      <td>200213.0</td>\n",
       "      <td>0.0</td>\n",
       "      <td>20.0</td>\n",
       "      <td>0.0</td>\n",
       "      <td>0.011587</td>\n",
       "      <td>0.004609</td>\n",
       "      <td>0.181980</td>\n",
       "      <td>0.011587</td>\n",
       "      <td>500.0</td>\n",
       "      <td>0.170673</td>\n",
       "    </tr>\n",
       "    <tr>\n",
       "      <th>660</th>\n",
       "      <td>200207.0</td>\n",
       "      <td>0.0</td>\n",
       "      <td>20.0</td>\n",
       "      <td>0.0</td>\n",
       "      <td>0.004497</td>\n",
       "      <td>0.000499</td>\n",
       "      <td>0.094628</td>\n",
       "      <td>0.004497</td>\n",
       "      <td>500.0</td>\n",
       "      <td>0.201399</td>\n",
       "    </tr>\n",
       "    <tr>\n",
       "      <th>722</th>\n",
       "      <td>200226.0</td>\n",
       "      <td>0.0</td>\n",
       "      <td>20.0</td>\n",
       "      <td>0.0</td>\n",
       "      <td>0.061563</td>\n",
       "      <td>NaN</td>\n",
       "      <td>inf</td>\n",
       "      <td>0.061563</td>\n",
       "      <td>500.0</td>\n",
       "      <td>NaN</td>\n",
       "    </tr>\n",
       "    <tr>\n",
       "      <th>786</th>\n",
       "      <td>180501.0</td>\n",
       "      <td>0.0</td>\n",
       "      <td>20.0</td>\n",
       "      <td>0.0</td>\n",
       "      <td>0.008921</td>\n",
       "      <td>-0.013111</td>\n",
       "      <td>NaN</td>\n",
       "      <td>0.008921</td>\n",
       "      <td>500.0</td>\n",
       "      <td>NaN</td>\n",
       "    </tr>\n",
       "    <tr>\n",
       "      <th>802</th>\n",
       "      <td>180724.0</td>\n",
       "      <td>0.0</td>\n",
       "      <td>20.0</td>\n",
       "      <td>0.0</td>\n",
       "      <td>0.004560</td>\n",
       "      <td>-0.006971</td>\n",
       "      <td>NaN</td>\n",
       "      <td>0.004560</td>\n",
       "      <td>500.0</td>\n",
       "      <td>NaN</td>\n",
       "    </tr>\n",
       "    <tr>\n",
       "      <th>818</th>\n",
       "      <td>191210.0</td>\n",
       "      <td>0.0</td>\n",
       "      <td>20.0</td>\n",
       "      <td>0.0</td>\n",
       "      <td>0.015340</td>\n",
       "      <td>0.045811</td>\n",
       "      <td>0.063274</td>\n",
       "      <td>0.015340</td>\n",
       "      <td>500.0</td>\n",
       "      <td>0.071669</td>\n",
       "    </tr>\n",
       "    <tr>\n",
       "      <th>879</th>\n",
       "      <td>180622.0</td>\n",
       "      <td>0.0</td>\n",
       "      <td>20.0</td>\n",
       "      <td>0.0</td>\n",
       "      <td>0.051226</td>\n",
       "      <td>0.009073</td>\n",
       "      <td>0.518355</td>\n",
       "      <td>0.051226</td>\n",
       "      <td>500.0</td>\n",
       "      <td>0.537803</td>\n",
       "    </tr>\n",
       "    <tr>\n",
       "      <th>895</th>\n",
       "      <td>190606.0</td>\n",
       "      <td>0.0</td>\n",
       "      <td>20.0</td>\n",
       "      <td>0.0</td>\n",
       "      <td>0.024139</td>\n",
       "      <td>0.043523</td>\n",
       "      <td>0.117694</td>\n",
       "      <td>0.024139</td>\n",
       "      <td>500.0</td>\n",
       "      <td>0.115706</td>\n",
       "    </tr>\n",
       "    <tr>\n",
       "      <th>959</th>\n",
       "      <td>180502.0</td>\n",
       "      <td>0.0</td>\n",
       "      <td>20.0</td>\n",
       "      <td>0.0</td>\n",
       "      <td>0.034401</td>\n",
       "      <td>-0.001081</td>\n",
       "      <td>NaN</td>\n",
       "      <td>0.034401</td>\n",
       "      <td>500.0</td>\n",
       "      <td>NaN</td>\n",
       "    </tr>\n",
       "    <tr>\n",
       "      <th>975</th>\n",
       "      <td>191211.0</td>\n",
       "      <td>0.0</td>\n",
       "      <td>20.0</td>\n",
       "      <td>0.0</td>\n",
       "      <td>-0.033499</td>\n",
       "      <td>-0.009546</td>\n",
       "      <td>NaN</td>\n",
       "      <td>-0.033499</td>\n",
       "      <td>500.0</td>\n",
       "      <td>NaN</td>\n",
       "    </tr>\n",
       "    <tr>\n",
       "      <th>1036</th>\n",
       "      <td>180730.0</td>\n",
       "      <td>0.0</td>\n",
       "      <td>20.0</td>\n",
       "      <td>0.0</td>\n",
       "      <td>0.106379</td>\n",
       "      <td>0.026278</td>\n",
       "      <td>0.680966</td>\n",
       "      <td>0.106379</td>\n",
       "      <td>500.0</td>\n",
       "      <td>0.656238</td>\n",
       "    </tr>\n",
       "    <tr>\n",
       "      <th>1052</th>\n",
       "      <td>191115.0</td>\n",
       "      <td>0.0</td>\n",
       "      <td>20.0</td>\n",
       "      <td>0.0</td>\n",
       "      <td>0.040935</td>\n",
       "      <td>NaN</td>\n",
       "      <td>inf</td>\n",
       "      <td>0.040935</td>\n",
       "      <td>500.0</td>\n",
       "      <td>NaN</td>\n",
       "    </tr>\n",
       "    <tr>\n",
       "      <th>1110</th>\n",
       "      <td>191212.0</td>\n",
       "      <td>0.0</td>\n",
       "      <td>20.0</td>\n",
       "      <td>0.0</td>\n",
       "      <td>0.020432</td>\n",
       "      <td>NaN</td>\n",
       "      <td>inf</td>\n",
       "      <td>0.020432</td>\n",
       "      <td>500.0</td>\n",
       "      <td>NaN</td>\n",
       "    </tr>\n",
       "    <tr>\n",
       "      <th>1167</th>\n",
       "      <td>180728.0</td>\n",
       "      <td>0.0</td>\n",
       "      <td>20.0</td>\n",
       "      <td>0.0</td>\n",
       "      <td>0.027162</td>\n",
       "      <td>0.022813</td>\n",
       "      <td>0.168663</td>\n",
       "      <td>0.027162</td>\n",
       "      <td>500.0</td>\n",
       "      <td>0.179838</td>\n",
       "    </tr>\n",
       "    <tr>\n",
       "      <th>1183</th>\n",
       "      <td>191113.0</td>\n",
       "      <td>0.0</td>\n",
       "      <td>20.0</td>\n",
       "      <td>0.0</td>\n",
       "      <td>0.005509</td>\n",
       "      <td>-0.005693</td>\n",
       "      <td>NaN</td>\n",
       "      <td>0.005509</td>\n",
       "      <td>500.0</td>\n",
       "      <td>NaN</td>\n",
       "    </tr>\n",
       "    <tr>\n",
       "      <th>1243</th>\n",
       "      <td>191209.0</td>\n",
       "      <td>0.0</td>\n",
       "      <td>20.0</td>\n",
       "      <td>0.0</td>\n",
       "      <td>-0.002124</td>\n",
       "      <td>-0.007487</td>\n",
       "      <td>NaN</td>\n",
       "      <td>-0.002124</td>\n",
       "      <td>500.0</td>\n",
       "      <td>NaN</td>\n",
       "    </tr>\n",
       "    <tr>\n",
       "      <th>1302</th>\n",
       "      <td>180717.0</td>\n",
       "      <td>0.0</td>\n",
       "      <td>20.0</td>\n",
       "      <td>0.0</td>\n",
       "      <td>0.047330</td>\n",
       "      <td>-0.007161</td>\n",
       "      <td>NaN</td>\n",
       "      <td>0.047330</td>\n",
       "      <td>500.0</td>\n",
       "      <td>NaN</td>\n",
       "    </tr>\n",
       "    <tr>\n",
       "      <th>1378</th>\n",
       "      <td>180627.0</td>\n",
       "      <td>0.0</td>\n",
       "      <td>20.0</td>\n",
       "      <td>0.0</td>\n",
       "      <td>0.152321</td>\n",
       "      <td>0.050204</td>\n",
       "      <td>0.679402</td>\n",
       "      <td>0.152321</td>\n",
       "      <td>500.0</td>\n",
       "      <td>0.679811</td>\n",
       "    </tr>\n",
       "    <tr>\n",
       "      <th>1394</th>\n",
       "      <td>180719.0</td>\n",
       "      <td>0.0</td>\n",
       "      <td>20.0</td>\n",
       "      <td>0.0</td>\n",
       "      <td>-0.007656</td>\n",
       "      <td>-0.002790</td>\n",
       "      <td>NaN</td>\n",
       "      <td>-0.007656</td>\n",
       "      <td>500.0</td>\n",
       "      <td>NaN</td>\n",
       "    </tr>\n",
       "    <tr>\n",
       "      <th>1410</th>\n",
       "      <td>180807.0</td>\n",
       "      <td>0.0</td>\n",
       "      <td>20.0</td>\n",
       "      <td>0.0</td>\n",
       "      <td>0.027435</td>\n",
       "      <td>0.109266</td>\n",
       "      <td>0.082948</td>\n",
       "      <td>0.027435</td>\n",
       "      <td>500.0</td>\n",
       "      <td>0.082998</td>\n",
       "    </tr>\n",
       "    <tr>\n",
       "      <th>1426</th>\n",
       "      <td>190703.0</td>\n",
       "      <td>0.0</td>\n",
       "      <td>20.0</td>\n",
       "      <td>0.0</td>\n",
       "      <td>0.011999</td>\n",
       "      <td>-0.011045</td>\n",
       "      <td>NaN</td>\n",
       "      <td>0.011999</td>\n",
       "      <td>500.0</td>\n",
       "      <td>NaN</td>\n",
       "    </tr>\n",
       "    <tr>\n",
       "      <th>1554</th>\n",
       "      <td>180725.0</td>\n",
       "      <td>0.0</td>\n",
       "      <td>20.0</td>\n",
       "      <td>0.0</td>\n",
       "      <td>NaN</td>\n",
       "      <td>NaN</td>\n",
       "      <td>NaN</td>\n",
       "      <td>NaN</td>\n",
       "      <td>500.0</td>\n",
       "      <td>NaN</td>\n",
       "    </tr>\n",
       "    <tr>\n",
       "      <th>1570</th>\n",
       "      <td>200205.0</td>\n",
       "      <td>0.0</td>\n",
       "      <td>20.0</td>\n",
       "      <td>0.0</td>\n",
       "      <td>0.034143</td>\n",
       "      <td>0.010128</td>\n",
       "      <td>0.339062</td>\n",
       "      <td>0.034143</td>\n",
       "      <td>500.0</td>\n",
       "      <td>0.339266</td>\n",
       "    </tr>\n",
       "    <tr>\n",
       "      <th>1705</th>\n",
       "      <td>200219.0</td>\n",
       "      <td>0.0</td>\n",
       "      <td>20.0</td>\n",
       "      <td>0.0</td>\n",
       "      <td>0.079651</td>\n",
       "      <td>NaN</td>\n",
       "      <td>NaN</td>\n",
       "      <td>0.079651</td>\n",
       "      <td>500.0</td>\n",
       "      <td>NaN</td>\n",
       "    </tr>\n",
       "    <tr>\n",
       "      <th>1784</th>\n",
       "      <td>200212.0</td>\n",
       "      <td>0.0</td>\n",
       "      <td>20.0</td>\n",
       "      <td>0.0</td>\n",
       "      <td>-0.013459</td>\n",
       "      <td>-0.003965</td>\n",
       "      <td>NaN</td>\n",
       "      <td>-0.013459</td>\n",
       "      <td>500.0</td>\n",
       "      <td>NaN</td>\n",
       "    </tr>\n",
       "    <tr>\n",
       "      <th>2156</th>\n",
       "      <td>180808.0</td>\n",
       "      <td>0.0</td>\n",
       "      <td>20.0</td>\n",
       "      <td>0.0</td>\n",
       "      <td>0.029986</td>\n",
       "      <td>0.026990</td>\n",
       "      <td>0.182412</td>\n",
       "      <td>0.029986</td>\n",
       "      <td>500.0</td>\n",
       "      <td>0.182522</td>\n",
       "    </tr>\n",
       "    <tr>\n",
       "      <th>2172</th>\n",
       "      <td>180810.0</td>\n",
       "      <td>0.0</td>\n",
       "      <td>20.0</td>\n",
       "      <td>0.0</td>\n",
       "      <td>0.012095</td>\n",
       "      <td>0.018640</td>\n",
       "      <td>0.088541</td>\n",
       "      <td>0.012095</td>\n",
       "      <td>500.0</td>\n",
       "      <td>0.088594</td>\n",
       "    </tr>\n",
       "    <tr>\n",
       "      <th>2188</th>\n",
       "      <td>200313.0</td>\n",
       "      <td>0.0</td>\n",
       "      <td>20.0</td>\n",
       "      <td>0.0</td>\n",
       "      <td>0.008202</td>\n",
       "      <td>0.007240</td>\n",
       "      <td>0.097604</td>\n",
       "      <td>0.008202</td>\n",
       "      <td>500.0</td>\n",
       "      <td>0.096392</td>\n",
       "    </tr>\n",
       "    <tr>\n",
       "      <th>2251</th>\n",
       "      <td>190607.0</td>\n",
       "      <td>0.0</td>\n",
       "      <td>20.0</td>\n",
       "      <td>0.0</td>\n",
       "      <td>0.009643</td>\n",
       "      <td>0.003778</td>\n",
       "      <td>0.156780</td>\n",
       "      <td>0.009643</td>\n",
       "      <td>500.0</td>\n",
       "      <td>0.156875</td>\n",
       "    </tr>\n",
       "    <tr>\n",
       "      <th>2315</th>\n",
       "      <td>191121.0</td>\n",
       "      <td>0.0</td>\n",
       "      <td>20.0</td>\n",
       "      <td>0.0</td>\n",
       "      <td>0.012379</td>\n",
       "      <td>0.003718</td>\n",
       "      <td>0.202883</td>\n",
       "      <td>0.012379</td>\n",
       "      <td>500.0</td>\n",
       "      <td>0.203005</td>\n",
       "    </tr>\n",
       "    <tr>\n",
       "      <th>2378</th>\n",
       "      <td>190801.0</td>\n",
       "      <td>0.0</td>\n",
       "      <td>20.0</td>\n",
       "      <td>0.0</td>\n",
       "      <td>0.013765</td>\n",
       "      <td>-0.016936</td>\n",
       "      <td>NaN</td>\n",
       "      <td>0.013765</td>\n",
       "      <td>500.0</td>\n",
       "      <td>NaN</td>\n",
       "    </tr>\n",
       "  </tbody>\n",
       "</table>\n",
       "</div>"
      ],
      "text/plain": [
       "       session  channel  bin_width  ...  test_cc_raw  N_sents  normalized_test_cc\n",
       "0     200206.0      0.0       20.0  ...     0.118883    500.0            0.277873\n",
       "64    180420.0      0.0       20.0  ...    -0.009049    500.0                 NaN\n",
       "80    190726.0      0.0       20.0  ...     0.005723    500.0            0.077697\n",
       "140   180613.0      0.0       20.0  ...     0.050992    500.0                 NaN\n",
       "156   191206.0      0.0       20.0  ...     0.010501    500.0                 NaN\n",
       "217   200318.0      0.0       20.0  ...     0.051317    500.0            0.628570\n",
       "262   180720.0      0.0       20.0  ...     0.041503    500.0            0.777738\n",
       "278   191219.0      0.0       20.0  ...     0.005726    500.0                 NaN\n",
       "340   191125.0      0.0       20.0  ...    -0.002208    500.0                 NaN\n",
       "400   180731.0      0.0       20.0  ...     0.121637    500.0            0.414563\n",
       "416   190604.0      0.0       20.0  ...    -0.022332    500.0                 NaN\n",
       "480   190605.0      0.0       20.0  ...    -0.005227    500.0                 NaN\n",
       "544   180814.0      0.0       20.0  ...     0.092229    500.0            0.393577\n",
       "580   180413.0      0.0       20.0  ...     0.057670    500.0            0.570891\n",
       "596   200213.0      0.0       20.0  ...     0.011587    500.0            0.170673\n",
       "660   200207.0      0.0       20.0  ...     0.004497    500.0            0.201399\n",
       "722   200226.0      0.0       20.0  ...     0.061563    500.0                 NaN\n",
       "786   180501.0      0.0       20.0  ...     0.008921    500.0                 NaN\n",
       "802   180724.0      0.0       20.0  ...     0.004560    500.0                 NaN\n",
       "818   191210.0      0.0       20.0  ...     0.015340    500.0            0.071669\n",
       "879   180622.0      0.0       20.0  ...     0.051226    500.0            0.537803\n",
       "895   190606.0      0.0       20.0  ...     0.024139    500.0            0.115706\n",
       "959   180502.0      0.0       20.0  ...     0.034401    500.0                 NaN\n",
       "975   191211.0      0.0       20.0  ...    -0.033499    500.0                 NaN\n",
       "1036  180730.0      0.0       20.0  ...     0.106379    500.0            0.656238\n",
       "1052  191115.0      0.0       20.0  ...     0.040935    500.0                 NaN\n",
       "1110  191212.0      0.0       20.0  ...     0.020432    500.0                 NaN\n",
       "1167  180728.0      0.0       20.0  ...     0.027162    500.0            0.179838\n",
       "1183  191113.0      0.0       20.0  ...     0.005509    500.0                 NaN\n",
       "1243  191209.0      0.0       20.0  ...    -0.002124    500.0                 NaN\n",
       "1302  180717.0      0.0       20.0  ...     0.047330    500.0                 NaN\n",
       "1378  180627.0      0.0       20.0  ...     0.152321    500.0            0.679811\n",
       "1394  180719.0      0.0       20.0  ...    -0.007656    500.0                 NaN\n",
       "1410  180807.0      0.0       20.0  ...     0.027435    500.0            0.082998\n",
       "1426  190703.0      0.0       20.0  ...     0.011999    500.0                 NaN\n",
       "1554  180725.0      0.0       20.0  ...          NaN    500.0                 NaN\n",
       "1570  200205.0      0.0       20.0  ...     0.034143    500.0            0.339266\n",
       "1705  200219.0      0.0       20.0  ...     0.079651    500.0                 NaN\n",
       "1784  200212.0      0.0       20.0  ...    -0.013459    500.0                 NaN\n",
       "2156  180808.0      0.0       20.0  ...     0.029986    500.0            0.182522\n",
       "2172  180810.0      0.0       20.0  ...     0.012095    500.0            0.088594\n",
       "2188  200313.0      0.0       20.0  ...     0.008202    500.0            0.096392\n",
       "2251  190607.0      0.0       20.0  ...     0.009643    500.0            0.156875\n",
       "2315  191121.0      0.0       20.0  ...     0.012379    500.0            0.203005\n",
       "2378  190801.0      0.0       20.0  ...     0.013765    500.0                 NaN\n",
       "\n",
       "[45 rows x 10 columns]"
      ]
     },
     "execution_count": 51,
     "metadata": {},
     "output_type": "execute_result"
    }
   ],
   "source": [
    "corr_obj.data"
   ]
  },
  {
   "cell_type": "code",
   "execution_count": 24,
   "metadata": {},
   "outputs": [
    {
     "name": "stdout",
     "output_type": "stream",
     "text": [
      "Session: 200206.0: num_channels: 63\n",
      "Session: 191206.0: num_channels: 10\n",
      "Session: 180720.0: num_channels: 5\n",
      "Session: 191125.0: num_channels: 11\n",
      "Session: 180731.0: num_channels: 14\n",
      "Session: 180814.0: num_channels: 13\n",
      "Session: 200213.0: num_channels: 14\n",
      "Session: 200207.0: num_channels: 9\n",
      "Session: 191210.0: num_channels: 3\n",
      "Session: 191115.0: num_channels: 4\n",
      "Session: 191113.0: num_channels: 27\n",
      "Session: 180717.0: num_channels: 1\n",
      "Session: 180627.0: num_channels: 1\n",
      "Session: 180719.0: num_channels: 2\n",
      "Session: 180807.0: num_channels: 13\n",
      "Session: 200205.0: num_channels: 5\n",
      "Session: 180808.0: num_channels: 3\n",
      "Session: 200313.0: num_channels: 12\n",
      "Session: 191121.0: num_channels: 7\n"
     ]
    },
    {
     "data": {
      "text/plain": [
       "217"
      ]
     },
     "execution_count": 24,
     "metadata": {},
     "output_type": "execute_result"
    }
   ],
   "source": [
    "sessions = corr_obj.get_significant_sessions(threshold=0.061)\n",
    "num_channels = 0\n",
    "for session in sessions:\n",
    "    # print(f\"Session: {session}: num_channels: {len(channels)}\")\n",
    "    channels = corr_obj.get_good_channels(session, threshold=0.061)\n",
    "    print(f\"Session: {session}: num_channels: {len(channels)}\")\n",
    "    num_channels += len(channels)\n",
    "num_channels\n"
   ]
  },
  {
   "cell_type": "code",
   "execution_count": 64,
   "metadata": {},
   "outputs": [],
   "source": [
    "session = 191113\n",
    "num_channels = 0\n",
    "ids_remove_list = []\n",
    "for session in sessions:\n",
    "    select = corr_obj.data[corr_obj.data['session'] == session]\n",
    "    select = select[\n",
    "        # (select['normalizer'] >= 0.061) &\\\n",
    "        (select['bin_width'] == 20) &\\\n",
    "        (select['delay'] == 0)\n",
    "                    ]\n",
    "\n",
    "    channels = select['channel'].unique()\n",
    "    for channel in channels:\n",
    "\n",
    "        if select[select['channel']==channel].shape[0] > 1:\n",
    "            id = select[select['channel']==channel].index[1]\n",
    "            ids_remove_list.append(id)\n"
   ]
  },
  {
   "cell_type": "code",
   "execution_count": 65,
   "metadata": {},
   "outputs": [
    {
     "data": {
      "text/plain": [
       "184"
      ]
     },
     "execution_count": 65,
     "metadata": {},
     "output_type": "execute_result"
    }
   ],
   "source": [
    "len(ids_remove_list)"
   ]
  },
  {
   "cell_type": "code",
   "execution_count": 66,
   "metadata": {},
   "outputs": [
    {
     "data": {
      "text/plain": [
       "(2442, 10)"
      ]
     },
     "execution_count": 66,
     "metadata": {},
     "output_type": "execute_result"
    }
   ],
   "source": [
    "corr_obj.data.shape"
   ]
  },
  {
   "cell_type": "code",
   "execution_count": 67,
   "metadata": {},
   "outputs": [],
   "source": [
    "corr_obj.data.drop(ids_remove_list, inplace=True)"
   ]
  },
  {
   "cell_type": "code",
   "execution_count": 68,
   "metadata": {},
   "outputs": [
    {
     "data": {
      "text/plain": [
       "(2258, 10)"
      ]
     },
     "execution_count": 68,
     "metadata": {},
     "output_type": "execute_result"
    }
   ],
   "source": [
    "corr_obj.data.shape"
   ]
  },
  {
   "cell_type": "code",
   "execution_count": 69,
   "metadata": {},
   "outputs": [
    {
     "name": "stdout",
     "output_type": "stream",
     "text": [
      "Saved at /depot/jgmakin/data/auditory_cortex/results/cross_validated_correlations/STRF_corr_results.csv\n"
     ]
    }
   ],
   "source": [
    "corr_obj.write_back()"
   ]
  },
  {
   "cell_type": "code",
   "execution_count": 44,
   "metadata": {},
   "outputs": [
    {
     "data": {
      "text/plain": [
       "array([ 1.,  5.,  8.,  9., 11., 12., 13., 14., 16., 20., 21., 29., 30.,\n",
       "       32., 34., 35., 36., 37., 38., 39., 41., 50., 51., 53., 55., 57.,\n",
       "       58.])"
      ]
     },
     "execution_count": 44,
     "metadata": {},
     "output_type": "execute_result"
    }
   ],
   "source": [
    "channels"
   ]
  },
  {
   "cell_type": "code",
   "execution_count": 55,
   "metadata": {},
   "outputs": [
    {
     "data": {
      "text/plain": [
       "2"
      ]
     },
     "execution_count": 55,
     "metadata": {},
     "output_type": "execute_result"
    }
   ],
   "source": [
    "ids_remove_list = []\n",
    "if select[select['channel']==1].shape[0] > 1:\n",
    "    id = select[select['channel']==1].index[1]\n",
    "    ids_remove_list.append(id)\n",
    "\n"
   ]
  },
  {
   "cell_type": "code",
   "execution_count": 58,
   "metadata": {},
   "outputs": [
    {
     "data": {
      "text/plain": [
       "1319"
      ]
     },
     "execution_count": 58,
     "metadata": {},
     "output_type": "execute_result"
    }
   ],
   "source": [
    "select[select['channel']==1].index[1]"
   ]
  },
  {
   "cell_type": "code",
   "execution_count": 32,
   "metadata": {},
   "outputs": [],
   "source": [
    "dist = corr_obj.get_baseline_corr_session(\n",
    "    sessions=sessions, threshold=0.061\n",
    ")"
   ]
  },
  {
   "cell_type": "code",
   "execution_count": 33,
   "metadata": {},
   "outputs": [
    {
     "data": {
      "text/plain": [
       "(266,)"
      ]
     },
     "execution_count": 33,
     "metadata": {},
     "output_type": "execute_result"
    }
   ],
   "source": [
    "dist.shape"
   ]
  },
  {
   "cell_type": "code",
   "execution_count": 42,
   "metadata": {},
   "outputs": [
    {
     "name": "stdout",
     "output_type": "stream",
     "text": [
      "Session: 200206.0: num_channels: 63\n",
      "Session: 191206.0: num_channels: 10\n",
      "Session: 180720.0: num_channels: 5\n",
      "Session: 191125.0: num_channels: 11\n",
      "Session: 180731.0: num_channels: 14\n",
      "Session: 180814.0: num_channels: 13\n",
      "Session: 200213.0: num_channels: 14\n",
      "Session: 200207.0: num_channels: 9\n",
      "Session: 191210.0: num_channels: 3\n",
      "Session: 191115.0: num_channels: 4\n",
      "Session: 191113.0: num_channels: 54\n",
      "Session: 180717.0: num_channels: 2\n",
      "Session: 180627.0: num_channels: 2\n",
      "Session: 180719.0: num_channels: 4\n",
      "Session: 180807.0: num_channels: 26\n",
      "Session: 200205.0: num_channels: 10\n",
      "Session: 180808.0: num_channels: 3\n",
      "Session: 200313.0: num_channels: 12\n",
      "Session: 191121.0: num_channels: 7\n"
     ]
    },
    {
     "data": {
      "text/plain": [
       "266"
      ]
     },
     "execution_count": 42,
     "metadata": {},
     "output_type": "execute_result"
    }
   ],
   "source": [
    "import pandas as pd\n",
    "delay = 0\n",
    "bin_width = 20\n",
    "threshold = 0.061\n",
    "num_channels = 0\n",
    "\n",
    "select_baseline = corr_obj.baseline_corr[\n",
    "        (corr_obj.baseline_corr['bin_width']==bin_width)&\\\n",
    "        (corr_obj.baseline_corr['delay']==delay)\n",
    "    ]\n",
    "\n",
    "if threshold is not None:\n",
    "    select_baseline = select_baseline[\n",
    "        (select_baseline['normalizer']>=threshold)\n",
    "    ]\n",
    "if sessions is not None:\n",
    "    # sessions should be list or None...\n",
    "    session_baselines = []\n",
    "    for session in sessions:\n",
    "        session_select = select_baseline[(select_baseline['session']==float(session))]\n",
    "        session_baselines.append(session_select)\n",
    "        channels = session_select['channel']\n",
    "        print(f\"Session: {session}: num_channels: {channels.size}\")\n",
    "        num_channels += channels.size \n",
    "            \n",
    "    baseline = pd.concat(session_baselines)    \n",
    "num_channels"
   ]
  },
  {
   "cell_type": "code",
   "execution_count": 40,
   "metadata": {},
   "outputs": [
    {
     "data": {
      "text/plain": [
       "(266, 10)"
      ]
     },
     "execution_count": 40,
     "metadata": {},
     "output_type": "execute_result"
    }
   ],
   "source": [
    "baseline.shape"
   ]
  },
  {
   "cell_type": "code",
   "execution_count": 27,
   "metadata": {},
   "outputs": [
    {
     "data": {
      "text/html": [
       "<div>\n",
       "<style scoped>\n",
       "    .dataframe tbody tr th:only-of-type {\n",
       "        vertical-align: middle;\n",
       "    }\n",
       "\n",
       "    .dataframe tbody tr th {\n",
       "        vertical-align: top;\n",
       "    }\n",
       "\n",
       "    .dataframe thead th {\n",
       "        text-align: right;\n",
       "    }\n",
       "</style>\n",
       "<table border=\"1\" class=\"dataframe\">\n",
       "  <thead>\n",
       "    <tr style=\"text-align: right;\">\n",
       "      <th></th>\n",
       "      <th>session</th>\n",
       "      <th>channel</th>\n",
       "      <th>bin_width</th>\n",
       "      <th>delay</th>\n",
       "      <th>strf_corr</th>\n",
       "      <th>normalizer</th>\n",
       "      <th>strf_corr_normalized</th>\n",
       "      <th>test_cc_raw</th>\n",
       "      <th>N_sents</th>\n",
       "      <th>normalized_test_cc</th>\n",
       "    </tr>\n",
       "  </thead>\n",
       "  <tbody>\n",
       "    <tr>\n",
       "      <th>0</th>\n",
       "      <td>200206.0</td>\n",
       "      <td>0.0</td>\n",
       "      <td>20.0</td>\n",
       "      <td>0.0</td>\n",
       "      <td>0.118883</td>\n",
       "      <td>0.183040</td>\n",
       "      <td>0.277873</td>\n",
       "      <td>0.118883</td>\n",
       "      <td>500.0</td>\n",
       "      <td>0.277873</td>\n",
       "    </tr>\n",
       "    <tr>\n",
       "      <th>1</th>\n",
       "      <td>200206.0</td>\n",
       "      <td>1.0</td>\n",
       "      <td>20.0</td>\n",
       "      <td>0.0</td>\n",
       "      <td>0.197218</td>\n",
       "      <td>0.221730</td>\n",
       "      <td>0.418827</td>\n",
       "      <td>0.197218</td>\n",
       "      <td>500.0</td>\n",
       "      <td>0.418827</td>\n",
       "    </tr>\n",
       "    <tr>\n",
       "      <th>2</th>\n",
       "      <td>200206.0</td>\n",
       "      <td>2.0</td>\n",
       "      <td>20.0</td>\n",
       "      <td>0.0</td>\n",
       "      <td>0.154856</td>\n",
       "      <td>0.139056</td>\n",
       "      <td>0.415273</td>\n",
       "      <td>0.154856</td>\n",
       "      <td>500.0</td>\n",
       "      <td>0.415273</td>\n",
       "    </tr>\n",
       "    <tr>\n",
       "      <th>3</th>\n",
       "      <td>200206.0</td>\n",
       "      <td>3.0</td>\n",
       "      <td>20.0</td>\n",
       "      <td>0.0</td>\n",
       "      <td>0.331080</td>\n",
       "      <td>0.413185</td>\n",
       "      <td>0.515063</td>\n",
       "      <td>0.331080</td>\n",
       "      <td>500.0</td>\n",
       "      <td>0.515063</td>\n",
       "    </tr>\n",
       "    <tr>\n",
       "      <th>4</th>\n",
       "      <td>200206.0</td>\n",
       "      <td>4.0</td>\n",
       "      <td>20.0</td>\n",
       "      <td>0.0</td>\n",
       "      <td>0.087961</td>\n",
       "      <td>0.122413</td>\n",
       "      <td>0.251407</td>\n",
       "      <td>0.087961</td>\n",
       "      <td>500.0</td>\n",
       "      <td>0.251407</td>\n",
       "    </tr>\n",
       "    <tr>\n",
       "      <th>...</th>\n",
       "      <td>...</td>\n",
       "      <td>...</td>\n",
       "      <td>...</td>\n",
       "      <td>...</td>\n",
       "      <td>...</td>\n",
       "      <td>...</td>\n",
       "      <td>...</td>\n",
       "      <td>...</td>\n",
       "      <td>...</td>\n",
       "      <td>...</td>\n",
       "    </tr>\n",
       "    <tr>\n",
       "      <th>2437</th>\n",
       "      <td>190801.0</td>\n",
       "      <td>59.0</td>\n",
       "      <td>20.0</td>\n",
       "      <td>0.0</td>\n",
       "      <td>0.013906</td>\n",
       "      <td>-0.019971</td>\n",
       "      <td>NaN</td>\n",
       "      <td>0.013906</td>\n",
       "      <td>500.0</td>\n",
       "      <td>NaN</td>\n",
       "    </tr>\n",
       "    <tr>\n",
       "      <th>2438</th>\n",
       "      <td>190801.0</td>\n",
       "      <td>60.0</td>\n",
       "      <td>20.0</td>\n",
       "      <td>0.0</td>\n",
       "      <td>0.018908</td>\n",
       "      <td>-0.007210</td>\n",
       "      <td>NaN</td>\n",
       "      <td>0.018908</td>\n",
       "      <td>500.0</td>\n",
       "      <td>NaN</td>\n",
       "    </tr>\n",
       "    <tr>\n",
       "      <th>2439</th>\n",
       "      <td>190801.0</td>\n",
       "      <td>61.0</td>\n",
       "      <td>20.0</td>\n",
       "      <td>0.0</td>\n",
       "      <td>0.019551</td>\n",
       "      <td>-0.012213</td>\n",
       "      <td>NaN</td>\n",
       "      <td>0.019551</td>\n",
       "      <td>500.0</td>\n",
       "      <td>NaN</td>\n",
       "    </tr>\n",
       "    <tr>\n",
       "      <th>2440</th>\n",
       "      <td>190801.0</td>\n",
       "      <td>62.0</td>\n",
       "      <td>20.0</td>\n",
       "      <td>0.0</td>\n",
       "      <td>0.007693</td>\n",
       "      <td>-0.003333</td>\n",
       "      <td>NaN</td>\n",
       "      <td>0.007693</td>\n",
       "      <td>500.0</td>\n",
       "      <td>NaN</td>\n",
       "    </tr>\n",
       "    <tr>\n",
       "      <th>2441</th>\n",
       "      <td>190801.0</td>\n",
       "      <td>63.0</td>\n",
       "      <td>20.0</td>\n",
       "      <td>0.0</td>\n",
       "      <td>0.032546</td>\n",
       "      <td>0.002269</td>\n",
       "      <td>0.683270</td>\n",
       "      <td>0.032546</td>\n",
       "      <td>500.0</td>\n",
       "      <td>0.683270</td>\n",
       "    </tr>\n",
       "  </tbody>\n",
       "</table>\n",
       "<p>2442 rows × 10 columns</p>\n",
       "</div>"
      ],
      "text/plain": [
       "       session  channel  bin_width  ...  test_cc_raw  N_sents  normalized_test_cc\n",
       "0     200206.0      0.0       20.0  ...     0.118883    500.0            0.277873\n",
       "1     200206.0      1.0       20.0  ...     0.197218    500.0            0.418827\n",
       "2     200206.0      2.0       20.0  ...     0.154856    500.0            0.415273\n",
       "3     200206.0      3.0       20.0  ...     0.331080    500.0            0.515063\n",
       "4     200206.0      4.0       20.0  ...     0.087961    500.0            0.251407\n",
       "...        ...      ...        ...  ...          ...      ...                 ...\n",
       "2437  190801.0     59.0       20.0  ...     0.013906    500.0                 NaN\n",
       "2438  190801.0     60.0       20.0  ...     0.018908    500.0                 NaN\n",
       "2439  190801.0     61.0       20.0  ...     0.019551    500.0                 NaN\n",
       "2440  190801.0     62.0       20.0  ...     0.007693    500.0                 NaN\n",
       "2441  190801.0     63.0       20.0  ...     0.032546    500.0            0.683270\n",
       "\n",
       "[2442 rows x 10 columns]"
      ]
     },
     "execution_count": 27,
     "metadata": {},
     "output_type": "execute_result"
    }
   ],
   "source": [
    "corr_obj.baseline_corr"
   ]
  },
  {
   "cell_type": "markdown",
   "metadata": {},
   "source": [
    "### other.."
   ]
  },
  {
   "cell_type": "code",
   "execution_count": 75,
   "metadata": {},
   "outputs": [],
   "source": [
    "sess = '200206'\n",
    "num_alphas = 10\n",
    "alphas = np.logspace(-2, 5, num_alphas)\n",
    "estimator = RidgeCV(alphas=alphas, cv=5)"
   ]
  },
  {
   "cell_type": "code",
   "execution_count": 76,
   "metadata": {},
   "outputs": [],
   "source": [
    "strf = STRF(\n",
    "    session=sess,\n",
    "     estimator=estimator)"
   ]
  },
  {
   "cell_type": "code",
   "execution_count": 77,
   "metadata": {},
   "outputs": [],
   "source": [
    "batch = strf.get_sample(12)"
   ]
  },
  {
   "cell_type": "code",
   "execution_count": 78,
   "metadata": {},
   "outputs": [
    {
     "data": {
      "text/plain": [
       "(69, 32)"
      ]
     },
     "execution_count": 78,
     "metadata": {},
     "output_type": "execute_result"
    }
   ],
   "source": [
    "batch[0].shape"
   ]
  },
  {
   "cell_type": "code",
   "execution_count": 6,
   "metadata": {},
   "outputs": [
    {
     "data": {
      "application/vnd.jupyter.widget-view+json": {
       "model_id": "8c31c61755e14114b4b2c26e06754766",
       "version_major": 2,
       "version_minor": 0
      },
      "text/plain": [
       "  0%|          | 0/64 [00:00<?, ?it/s]"
      ]
     },
     "metadata": {},
     "output_type": "display_data"
    }
   ],
   "source": [
    "# corr = strf.fit()"
   ]
  },
  {
   "cell_type": "code",
   "execution_count": null,
   "metadata": {},
   "outputs": [],
   "source": []
  },
  {
   "cell_type": "code",
   "execution_count": null,
   "metadata": {},
   "outputs": [],
   "source": [
    "dataloader = DataLoader()"
   ]
  },
  {
   "cell_type": "code",
   "execution_count": 2,
   "metadata": {},
   "outputs": [],
   "source": [
    "import torch.nn as nn\n",
    "import torch"
   ]
  },
  {
   "cell_type": "code",
   "execution_count": 5,
   "metadata": {},
   "outputs": [],
   "source": [
    "num_freqs = 32\n",
    "sfreq = 100\n",
    "\n",
    "spect = torch.randn((1, num_freqs, sfreq))"
   ]
  },
  {
   "cell_type": "code",
   "execution_count": 6,
   "metadata": {},
   "outputs": [
    {
     "data": {
      "text/plain": [
       "torch.Size([1, 32, 100])"
      ]
     },
     "execution_count": 6,
     "metadata": {},
     "output_type": "execute_result"
    }
   ],
   "source": [
    "spect.shape"
   ]
  },
  {
   "cell_type": "code",
   "execution_count": 7,
   "metadata": {},
   "outputs": [],
   "source": []
  },
  {
   "cell_type": "code",
   "execution_count": 10,
   "metadata": {},
   "outputs": [
    {
     "data": {
      "text/plain": [
       "30"
      ]
     },
     "execution_count": 10,
     "metadata": {},
     "output_type": "execute_result"
    }
   ],
   "source": []
  },
  {
   "cell_type": "code",
   "execution_count": 66,
   "metadata": {},
   "outputs": [],
   "source": [
    "in_channels = 32\n",
    "tmin = 0.0\n",
    "tmax = 0.3\n",
    "\n",
    "past_samples = int(sfreq*tmax)\n",
    "future_samples = int(sfreq*tmin) # zero for causal models...\n",
    "kernel_size = past_samples + future_samples\n",
    "padding = past_samples-1\n",
    "extra_samples = padding - future_samples\n",
    "\n",
    "conv = nn.Conv1d(\n",
    "    in_channels=in_channels, out_channels=1,\n",
    "    kernel_size=kernel_size, padding=padding, stride=1\n",
    ")\n"
   ]
  },
  {
   "cell_type": "code",
   "execution_count": 67,
   "metadata": {},
   "outputs": [
    {
     "data": {
      "text/plain": [
       "torch.Size([1, 1, 100])"
      ]
     },
     "execution_count": 67,
     "metadata": {},
     "output_type": "execute_result"
    }
   ],
   "source": [
    "out = conv(spect)[...,:-extra_samples]\n",
    "out.shape"
   ]
  },
  {
   "cell_type": "code",
   "execution_count": 57,
   "metadata": {},
   "outputs": [
    {
     "data": {
      "text/plain": [
       "-1"
      ]
     },
     "execution_count": 57,
     "metadata": {},
     "output_type": "execute_result"
    }
   ],
   "source": [
    "extra_samples"
   ]
  },
  {
   "cell_type": "code",
   "execution_count": 43,
   "metadata": {},
   "outputs": [
    {
     "data": {
      "text/plain": [
       "torch.Size([1, 1, 129])"
      ]
     },
     "execution_count": 43,
     "metadata": {},
     "output_type": "execute_result"
    }
   ],
   "source": []
  },
  {
   "cell_type": "code",
   "execution_count": 2,
   "metadata": {},
   "outputs": [],
   "source": [
    "dataloader = DataLoader()"
   ]
  },
  {
   "cell_type": "code",
   "execution_count": 3,
   "metadata": {},
   "outputs": [],
   "source": [
    "sess = '200206'\n",
    "spikes = dataloader.get_session_spikes(sess)"
   ]
  },
  {
   "cell_type": "code",
   "execution_count": 72,
   "metadata": {},
   "outputs": [
    {
     "data": {
      "text/plain": [
       "(69, 64)"
      ]
     },
     "execution_count": 72,
     "metadata": {},
     "output_type": "execute_result"
    }
   ],
   "source": [
    "spikes[12].shape"
   ]
  },
  {
   "cell_type": "code",
   "execution_count": 73,
   "metadata": {},
   "outputs": [
    {
     "name": "stderr",
     "output_type": "stream",
     "text": [
      "DEBUG:matplotlib.pyplot:Loaded backend module://matplotlib_inline.backend_inline version unknown.\n"
     ]
    },
    {
     "data": {
      "text/plain": [
       "[<matplotlib.lines.Line2D at 0x2b7605a1d880>]"
      ]
     },
     "execution_count": 73,
     "metadata": {},
     "output_type": "execute_result"
    },
    {
     "data": {
      "image/png": "[encoded data removed]",
      "text/plain": [
       "<Figure size 432x288 with 1 Axes>"
      ]
     },
     "metadata": {
      "needs_background": "light"
     },
     "output_type": "display_data"
    }
   ],
   "source": [
    "import matplotlib.pylab as plt\n",
    "%matplotlib inline\n",
    "\n",
    "plt.plot(spikes[12][32])"
   ]
  },
  {
   "cell_type": "code",
   "execution_count": 5,
   "metadata": {},
   "outputs": [
    {
     "name": "stderr",
     "output_type": "stream",
     "text": [
      "DEBUG:matplotlib.pyplot:Loaded backend module://matplotlib_inline.backend_inline version unknown.\n"
     ]
    },
    {
     "data": {
      "text/plain": [
       "[<matplotlib.lines.Line2D at 0x2b336fb82b20>]"
      ]
     },
     "execution_count": 5,
     "metadata": {},
     "output_type": "execute_result"
    },
    {
     "data": {
      "image/png": "[encoded data removed]",
      "text/plain": [
       "<Figure size 432x288 with 1 Axes>"
      ]
     },
     "metadata": {
      "needs_background": "light"
     },
     "output_type": "display_data"
    }
   ],
   "source": [
    "import matplotlib.pylab as plt\n",
    "%matplotlib inline\n",
    "\n",
    "plt.plot(spikes[100][32])"
   ]
  },
  {
   "cell_type": "code",
   "execution_count": null,
   "metadata": {},
   "outputs": [],
   "source": []
  }
 ],
 "metadata": {
  "kernelspec": {
   "display_name": "Python (My wav2letter Kernel)",
   "language": "python",
   "name": "wav2letter"
  },
  "language_info": {
   "codemirror_mode": {
    "name": "ipython",
    "version": 3
   },
   "file_extension": ".py",
   "mimetype": "text/x-python",
   "name": "python",
   "nbconvert_exporter": "python",
   "pygments_lexer": "ipython3",
   "version": "3.8.5"
  }
 },
 "nbformat": 4,
 "nbformat_minor": 2
}
