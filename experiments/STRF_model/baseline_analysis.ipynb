{
 "cells": [
  {
   "cell_type": "code",
   "execution_count": 1,
   "metadata": {},
   "outputs": [
    {
     "name": "stderr",
     "output_type": "stream",
     "text": [
      "/home/ahmedb/projects/Wav2Letter/deepspeech.pytorch/deepspeech_pytorch/loader/data_loader.py:17: UserWarning: torchaudio._backend.set_audio_backend has been deprecated. With dispatcher enabled, this function is no-op. You can remove the function call.\n",
      "  torchaudio.set_audio_backend(\"sox_io\")\n"
     ]
    }
   ],
   "source": [
    "from auditory_cortex.computational_models.baseline import STRF\n",
    "from auditory_cortex.dataloader import DataLoader\n",
    "\n",
    "import os\n",
    "import numpy as np\n",
    "import pandas as pd\n",
    "from sklearn.linear_model import RidgeCV, ElasticNetCV\n",
    "from auditory_cortex import saved_corr_dir, aux_dir\n",
    "from auditory_cortex.analyses import STRFCorrelations\n",
    "import matplotlib.pylab as plt\n",
    "%matplotlib inline"
   ]
  },
  {
   "cell_type": "code",
   "execution_count": null,
   "metadata": {},
   "outputs": [],
   "source": [
    "from auditory_cortex import results_dir"
   ]
  },
  {
   "cell_type": "code",
   "execution_count": 20,
   "metadata": {},
   "outputs": [
    {
     "name": "stdout",
     "output_type": "stream",
     "text": [
      "Using default normalizer file...\n"
     ]
    }
   ],
   "source": [
    "model_names = ['STRF_freqs80_mel', 'STRF_freqs80_wavlet']\n",
    "model_name = model_names[1]\n",
    "identifier = 'timit_trf_lags300_bw50_naplib_matched'\n",
    "corr_obj = STRFCorrelations(model_name+'_'+identifier)\n",
    "# sessions_done = len(corr_obj.data['session'].unique())\n",
    "\n",
    "# naplib_matched"
   ]
  },
  {
   "cell_type": "code",
   "execution_count": 17,
   "metadata": {},
   "outputs": [
    {
     "data": {
      "text/plain": [
       "'/depot/jgmakin/data/auditory_cortex/results/cross_validated_correlations/STRF_freqs80_wavlet_timit_trf_lags300_bw50_version_1_corr_results.csv'"
      ]
     },
     "execution_count": 17,
     "metadata": {},
     "output_type": "execute_result"
    }
   ],
   "source": [
    "corr_obj.get_filepath()"
   ]
  },
  {
   "cell_type": "code",
   "execution_count": 18,
   "metadata": {},
   "outputs": [],
   "source": [
    "corr_file_path = '/depot/jgmakin/data/auditory_cortex/results/cross_validated_correlations/STRF_freqs80_wavlet_timit_trf_lags300_bw50_naplib_matched_corr_results.csv'"
   ]
  },
  {
   "cell_type": "code",
   "execution_count": 19,
   "metadata": {},
   "outputs": [],
   "source": [
    "corr_obj.data.to_csv(corr_file_path, index=False)"
   ]
  },
  {
   "cell_type": "code",
   "execution_count": 4,
   "metadata": {},
   "outputs": [
    {
     "data": {
      "text/plain": [
       "39"
      ]
     },
     "execution_count": 4,
     "metadata": {},
     "output_type": "execute_result"
    }
   ],
   "source": [
    "sessions_done"
   ]
  },
  {
   "cell_type": "code",
   "execution_count": 2,
   "metadata": {},
   "outputs": [
    {
     "name": "stdout",
     "output_type": "stream",
     "text": [
      "Using default normalizer file...\n",
      "sessions done: 39\n",
      "Columns: 'mVocs_normalizer', 'mVocs_test_cc_raw', 'mVocs_normalized_test_cc' updated using normalizer (random pairs) dist, writing back now...\n",
      "Saved at /depot/jgmakin/data/auditory_cortex/results/cross_validated_correlations/STRF_freqs80_mel_mVocs_trf_lags300_bw50_version_1_corr_results.csv\n"
     ]
    }
   ],
   "source": [
    "model_names = [\n",
    "\t# 'STRF_freqs80_wavlet',\n",
    "\t'STRF_freqs80_mel',\n",
    "]\n",
    "\n",
    "identifier = 'mVocs_trf_lags300_bw50_version_1'\n",
    "# identifier = 'timit_trf_lags300_bw50_version_1'\n",
    "\n",
    "if 'mVocs' in identifier:\n",
    "\tmVocs = True\n",
    "\ttotal_sessions = 39\n",
    "else:\n",
    "\tmVocs = False\n",
    "\ttotal_sessions = 41\n",
    "for model_name in model_names:\n",
    "\tcorr_obj = STRFCorrelations(model_name+'_'+identifier)\n",
    "\tsessions_done = len(corr_obj.data['session'].unique())\n",
    "\tprint(f\"sessions done: {sessions_done}\")\n",
    "\tif sessions_done == total_sessions:\n",
    "\t\tcorr_obj.set_normalizers_using_bootsrap(mVocs=mVocs)\n",
    "\t\t# corr_obj.set_normalizers_using_bootsrap()\n"
   ]
  },
  {
   "cell_type": "code",
   "execution_count": 5,
   "metadata": {},
   "outputs": [
    {
     "name": "stdout",
     "output_type": "stream",
     "text": [
      "Using default normalizer file...\n"
     ]
    },
    {
     "data": {
      "text/plain": [
       "0.37218031060915535"
      ]
     },
     "execution_count": 5,
     "metadata": {},
     "output_type": "execute_result"
    }
   ],
   "source": [
    "# model_name = 'STRF_freqs80_wavlet'\n",
    "model_name = 'STRF_freqs80_mel'\n",
    "# identifier = 'mVocs_mel_lags300'\n",
    "# identifier = 'mVocs_mel_lags300_gpu'\n",
    "# identifier = 'mVocs_mel_test_gpu_0'\n",
    "identifier = 'mVocs_trf_lags300_lmbda'\n",
    "# identifier = 'mVocs_trf_lags300_norm_bias'\n",
    "corr_obj = STRFCorrelations(model_name+'_'+identifier)\n",
    "# corr_obj.set_normalizers_using_bootsrap(mVocs=True)\n",
    "\n",
    "data = corr_obj.data[\n",
    "\t# (corr_obj.data['session'] == 200206) &\\\n",
    "\t(corr_obj.data['mVocs_normalizer'] > 0.089)\n",
    "\t]\n",
    "np.median(data['mVocs_normalized_test_cc'])\n"
   ]
  },
  {
   "cell_type": "code",
   "execution_count": 5,
   "metadata": {},
   "outputs": [
    {
     "name": "stdout",
     "output_type": "stream",
     "text": [
      "Using default normalizer file...\n"
     ]
    },
    {
     "data": {
      "text/plain": [
       "0.4935425252766801"
      ]
     },
     "execution_count": 5,
     "metadata": {},
     "output_type": "execute_result"
    }
   ],
   "source": [
    "model_name = 'STRF_freqs80_wavlet'\n",
    "# identifier = 'mVocs_mel_lags300'\n",
    "# identifier = 'mVocs_mel_lags300_gpu'\n",
    "# identifier = 'mVocs_mel_test_gpu_0'\n",
    "# identifier = 'mVocs_wavelet_test_gpu_0'\n",
    "identifier = 'mVocs_trf_lags300_bias'\n",
    "corr_obj = STRFCorrelations(model_name+'_'+identifier)\n",
    "# corr_obj.set_normalizers_using_bootsrap(mVocs=True)\n",
    "\n",
    "data = corr_obj.data[\n",
    "\t# (corr_obj.data['session'] == 200206) &\\\n",
    "\t(corr_obj.data['mVocs_normalizer'] > 0.089)\n",
    "\t]\n",
    "np.median(data['mVocs_normalized_test_cc'])\n"
   ]
  },
  {
   "cell_type": "code",
   "execution_count": 3,
   "metadata": {},
   "outputs": [
    {
     "name": "stdout",
     "output_type": "stream",
     "text": [
      "Using default normalizer file...\n",
      "Columns: 'mVocs_normalizer', 'mVocs_test_cc_raw', 'mVocs_normalized_test_cc' updated using normalizer (random pairs) dist, writing back now...\n",
      "Saved at /depot/jgmakin/data/auditory_cortex/results/cross_validated_correlations/STRF_freqs80_wavlet_mVocs_trf_lags300_norm_twice_corr_results.csv\n"
     ]
    },
    {
     "data": {
      "text/plain": [
       "0.38256415489278905"
      ]
     },
     "execution_count": 3,
     "metadata": {},
     "output_type": "execute_result"
    }
   ],
   "source": [
    "model_name = 'STRF_freqs80_wavlet'\n",
    "# identifier = 'mVocs_mel_lags300'\n",
    "# identifier = 'mVocs_mel_lags300_gpu'\n",
    "# identifier = 'mVocs_mel_test_gpu_0'\n",
    "# identifier = 'mVocs_wavelet_test_gpu_0'\n",
    "identifier = 'mVocs_trf_lags300_norm_twice'\n",
    "corr_obj = STRFCorrelations(model_name+'_'+identifier)\n",
    "corr_obj.set_normalizers_using_bootsrap(mVocs=True)\n",
    "\n",
    "data = corr_obj.data[\n",
    "\t# (corr_obj.data['session'] == 200206) &\\\n",
    "\t(corr_obj.data['mVocs_normalizer'] > 0.089)\n",
    "\t]\n",
    "np.median(data['mVocs_normalized_test_cc'])\n"
   ]
  },
  {
   "cell_type": "code",
   "execution_count": 9,
   "metadata": {},
   "outputs": [
    {
     "name": "stdout",
     "output_type": "stream",
     "text": [
      "Using default normalizer file...\n"
     ]
    },
    {
     "data": {
      "text/plain": [
       "0.4439271173996525"
      ]
     },
     "execution_count": 9,
     "metadata": {},
     "output_type": "execute_result"
    }
   ],
   "source": [
    "model_name = 'STRF_freqs80'\n",
    "# identifier = 'mVocs_mel_lags300'\n",
    "# identifier = 'mVocs_mel_lags300_gpu'\n",
    "# identifier = 'mVocs_mel_test_gpu_0'\n",
    "# identifier = 'mVocs_wavelet_test_gpu_0'\n",
    "identifier = 'mVocs_wavelet_test_gpu_1'\n",
    "corr_obj = STRFCorrelations(model_name+'_'+identifier)\n",
    "# corr_obj.set_normalizers_using_bootsrap(mVocs=True)\n",
    "\n",
    "data = corr_obj.data[(corr_obj.data['mVocs_normalizer'] > 0.089) &\\\n",
    "\t(corr_obj.data['session'] == 200206)]\n",
    "np.median(data['mVocs_normalized_test_cc'])\n"
   ]
  },
  {
   "cell_type": "code",
   "execution_count": 10,
   "metadata": {},
   "outputs": [
    {
     "data": {
      "text/plain": [
       "(array([284.,   0.,   0., 915.,   0.,   0., 363.,   0.,   0.,  32.]),\n",
       " array([-2. , -1.7, -1.4, -1.1, -0.8, -0.5, -0.2,  0.1,  0.4,  0.7,  1. ]),\n",
       " <BarContainer object of 10 artists>)"
      ]
     },
     "execution_count": 10,
     "metadata": {},
     "output_type": "execute_result"
    },
    {
     "data": {
      "image/png": "[encoded data removed]",
      "text/plain": [
       "<Figure size 432x288 with 1 Axes>"
      ]
     },
     "metadata": {
      "needs_background": "light"
     },
     "output_type": "display_data"
    }
   ],
   "source": [
    "plt.hist(corr_obj.data['lmbda'])\n",
    "# plt.xlim([-2,12])"
   ]
  },
  {
   "cell_type": "code",
   "execution_count": 12,
   "metadata": {},
   "outputs": [
    {
     "data": {
      "text/plain": [
       "array([1.e-02, 1.e-01, 1.e+00, 1.e+01, 1.e+02, 1.e+03, 1.e+04, 1.e+05,\n",
       "       1.e+06, 1.e+07, 1.e+08, 1.e+09, 1.e+10])"
      ]
     },
     "execution_count": 12,
     "metadata": {},
     "output_type": "execute_result"
    }
   ],
   "source": [
    "np.logspace(-2, 10, 13)"
   ]
  },
  {
   "cell_type": "code",
   "execution_count": 14,
   "metadata": {},
   "outputs": [
    {
     "data": {
      "text/plain": [
       "array([1.e-02, 1.e-01, 1.e+00, 1.e+01, 1.e+02, 1.e+03, 1.e+04, 1.e+05,\n",
       "       1.e+06, 1.e+07, 1.e+08, 1.e+09, 1.e+10, 1.e+11, 1.e+12])"
      ]
     },
     "execution_count": 14,
     "metadata": {},
     "output_type": "execute_result"
    }
   ],
   "source": [
    "np.logspace(-2, 12, 15)"
   ]
  },
  {
   "cell_type": "code",
   "execution_count": 13,
   "metadata": {},
   "outputs": [
    {
     "name": "stdout",
     "output_type": "stream",
     "text": [
      "Using default normalizer file...\n"
     ]
    },
    {
     "data": {
      "text/plain": [
       "0.5396795456544174"
      ]
     },
     "execution_count": 13,
     "metadata": {},
     "output_type": "execute_result"
    }
   ],
   "source": [
    "model_name = 'STRF_freqs80'\n",
    "identifier = 'mVocs_wavlet_lags300'\n",
    "\n",
    "corr_obj = STRFCorrelations(model_name+'_'+identifier)\n",
    "# corr_obj.set_normalizers_using_bootsrap(mVocs=True)\n",
    "\n",
    "data = corr_obj.data[(corr_obj.data['mVocs_normalizer'] > 0.089)]\n",
    "np.median(data['mVocs_normalized_test_cc'])\n"
   ]
  },
  {
   "cell_type": "code",
   "execution_count": 9,
   "metadata": {},
   "outputs": [
    {
     "data": {
      "text/plain": [
       "(-2.0, 12.0)"
      ]
     },
     "execution_count": 9,
     "metadata": {},
     "output_type": "execute_result"
    },
    {
     "data": {
      "image/png": "[encoded data removed]",
      "text/plain": [
       "<Figure size 432x288 with 1 Axes>"
      ]
     },
     "metadata": {
      "needs_background": "light"
     },
     "output_type": "display_data"
    }
   ],
   "source": [
    "plt.hist(corr_obj.data['lmbda'])\n",
    "plt.xlim([-2,12])"
   ]
  },
  {
   "cell_type": "code",
   "execution_count": 14,
   "metadata": {},
   "outputs": [
    {
     "name": "stdout",
     "output_type": "stream",
     "text": [
      "Using default normalizer file...\n"
     ]
    },
    {
     "data": {
      "text/plain": [
       "0.3900868278739812"
      ]
     },
     "execution_count": 14,
     "metadata": {},
     "output_type": "execute_result"
    }
   ],
   "source": [
    "model_name = 'STRF_freqs80'\n",
    "identifier = 'mVocs_mel_lags300'\n",
    "\n",
    "corr_obj = STRFCorrelations(model_name+'_'+identifier)\n",
    "# corr_obj.set_normalizers_using_bootsrap(mVocs=True)\n",
    "\n",
    "data = corr_obj.data[(corr_obj.data['mVocs_normalizer'] > 0.089)]\n",
    "np.median(data['mVocs_normalized_test_cc'])"
   ]
  },
  {
   "cell_type": "code",
   "execution_count": 15,
   "metadata": {},
   "outputs": [
    {
     "data": {
      "text/plain": [
       "(-2.0, 12.0)"
      ]
     },
     "execution_count": 15,
     "metadata": {},
     "output_type": "execute_result"
    },
    {
     "data": {
      "image/png": "[encoded data removed]",
      "text/plain": [
       "<Figure size 432x288 with 1 Axes>"
      ]
     },
     "metadata": {
      "needs_background": "light"
     },
     "output_type": "display_data"
    }
   ],
   "source": [
    "plt.hist(corr_obj.data['lmbda'])\n",
    "plt.xlim([-2,12])"
   ]
  },
  {
   "cell_type": "code",
   "execution_count": 17,
   "metadata": {},
   "outputs": [
    {
     "name": "stdout",
     "output_type": "stream",
     "text": [
      "Using default normalizer file...\n"
     ]
    },
    {
     "data": {
      "text/plain": [
       "0.4071367552438838"
      ]
     },
     "execution_count": 17,
     "metadata": {},
     "output_type": "execute_result"
    }
   ],
   "source": [
    "model_name = 'STRF_freqs80'\n",
    "identifier = 'mVocs_mel_lags300_gpu'\n",
    "\n",
    "corr_obj = STRFCorrelations(model_name+'_'+identifier)\n",
    "# corr_obj.set_normalizers_using_bootsrap()\n",
    "\n",
    "data = corr_obj.data[(corr_obj.data['mVocs_normalizer'] > 0.089)]\n",
    "np.median(data['mVocs_normalized_test_cc'])"
   ]
  },
  {
   "cell_type": "code",
   "execution_count": 18,
   "metadata": {},
   "outputs": [
    {
     "data": {
      "text/plain": [
       "(-2.0, 12.0)"
      ]
     },
     "execution_count": 18,
     "metadata": {},
     "output_type": "execute_result"
    },
    {
     "data": {
      "image/png": "[encoded data removed]",
      "text/plain": [
       "<Figure size 432x288 with 1 Axes>"
      ]
     },
     "metadata": {
      "needs_background": "light"
     },
     "output_type": "display_data"
    }
   ],
   "source": [
    "plt.hist(corr_obj.data['lmbda'])\n",
    "plt.xlim([-2,12])"
   ]
  },
  {
   "cell_type": "code",
   "execution_count": 19,
   "metadata": {},
   "outputs": [
    {
     "name": "stdout",
     "output_type": "stream",
     "text": [
      "Using default normalizer file...\n",
      "Columns: 'mVocs_normalizer', 'mVocs_test_cc_raw', 'mVocs_normalized_test_cc' updated using normalizer (random pairs) dist, writing back now...\n",
      "Saved at /depot/jgmakin/data/auditory_cortex/results/cross_validated_correlations/STRF_freqs80_mVocs_wavelet_test_gpu_2_corr_results.csv\n"
     ]
    },
    {
     "data": {
      "text/plain": [
       "0.43212507047107657"
      ]
     },
     "execution_count": 19,
     "metadata": {},
     "output_type": "execute_result"
    }
   ],
   "source": [
    "\n",
    "model_name = 'STRF_freqs80'\n",
    "identifier = 'mVocs_wavelet_test_gpu_2'\n",
    "\n",
    "corr_obj = STRFCorrelations(model_name+'_'+identifier)\n",
    "# corr_obj.set_normalizers_using_bootsrap(mVocs=True)\n",
    "\n",
    "data = corr_obj.data[(corr_obj.data['mVocs_normalizer'] > 0.089) &\\\n",
    "\t(corr_obj.data['session'] == 200206)]\n",
    "np.median(data['mVocs_normalized_test_cc'])"
   ]
  },
  {
   "cell_type": "code",
   "execution_count": 21,
   "metadata": {},
   "outputs": [
    {
     "data": {
      "text/plain": [
       "(-5.0, 10.0)"
      ]
     },
     "execution_count": 21,
     "metadata": {},
     "output_type": "execute_result"
    },
    {
     "data": {
      "image/png": "[encoded data removed]",
      "text/plain": [
       "<Figure size 432x288 with 1 Axes>"
      ]
     },
     "metadata": {
      "needs_background": "light"
     },
     "output_type": "display_data"
    }
   ],
   "source": [
    "plt.hist(corr_obj.data['lmbda'])\n",
    "plt.xlim([-5,10])"
   ]
  },
  {
   "cell_type": "code",
   "execution_count": 2,
   "metadata": {},
   "outputs": [
    {
     "name": "stdout",
     "output_type": "stream",
     "text": [
      "Using default normalizer file...\n",
      "Columns: 'normalizer', 'test_cc_raw', 'normalized_test_cc' updated using normalizer (random pairs) dist, writing back now...\n",
      "Saved at /depot/jgmakin/data/auditory_cortex/results/cross_validated_correlations/STRF_freqs80_timit_wavelet_lags300_gpu_corr_results.csv\n"
     ]
    },
    {
     "data": {
      "text/plain": [
       "0.3305248552167379"
      ]
     },
     "execution_count": 2,
     "metadata": {},
     "output_type": "execute_result"
    }
   ],
   "source": [
    "model_name = 'STRF_freqs80'\n",
    "identifier = 'timit_wavelet_lags300_gpu'\n",
    "\n",
    "corr_obj = STRFCorrelations(model_name+'_'+identifier)\n",
    "corr_obj.set_normalizers_using_bootsrap()\n",
    "\n",
    "data = corr_obj.data[(corr_obj.data['normalizer'] > 0.08)]\n",
    "np.median(data['normalized_test_cc'])"
   ]
  },
  {
   "cell_type": "code",
   "execution_count": 3,
   "metadata": {},
   "outputs": [
    {
     "name": "stdout",
     "output_type": "stream",
     "text": [
      "Using default normalizer file...\n",
      "Columns: 'normalizer', 'test_cc_raw', 'normalized_test_cc' updated using normalizer (random pairs) dist, writing back now...\n",
      "Saved at /depot/jgmakin/data/auditory_cortex/results/cross_validated_correlations/STRF_freqs80_timit_mel_lags300_gpu_corr_results.csv\n"
     ]
    },
    {
     "data": {
      "text/plain": [
       "0.48534886085706086"
      ]
     },
     "execution_count": 3,
     "metadata": {},
     "output_type": "execute_result"
    }
   ],
   "source": [
    "model_name = 'STRF_freqs80'\n",
    "identifier = 'timit_mel_lags300_gpu'\n",
    "\n",
    "corr_obj = STRFCorrelations(model_name+'_'+identifier)\n",
    "corr_obj.set_normalizers_using_bootsrap()\n",
    "\n",
    "data = corr_obj.data[(corr_obj.data['normalizer'] > 0.08)]\n",
    "np.median(data['normalized_test_cc'])"
   ]
  },
  {
   "cell_type": "code",
   "execution_count": null,
   "metadata": {},
   "outputs": [],
   "source": []
  },
  {
   "cell_type": "markdown",
   "metadata": {},
   "source": [
    "#### combine results..."
   ]
  },
  {
   "cell_type": "code",
   "execution_count": 8,
   "metadata": {},
   "outputs": [],
   "source": [
    "def display_sessions_done(model_name, identifier, verbose=False):\n",
    "\t\"\"\"Display the number of sessions done for all bin widths\n",
    "\t\"\"\"\n",
    "\tif verbose:\n",
    "\t\tprint(f\"For '{model_name}', '{identifier}'\")\n",
    "\tcorr_obj = STRFCorrelations(model_name+'_'+identifier)\n",
    "\tbin_width = np.sort(corr_obj.data['bin_width'].unique())[0]\n",
    "\tdata = corr_obj.get_selected_data(bin_width=bin_width)\n",
    "\tprint(f\"For bin_width: {bin_width:03} ms, sessions done: {len(data['session'].unique())}\")\n",
    "\treturn len(data['session'].unique())\n",
    "\t\n",
    "\n",
    "def check_saved_results(model_names, identifier, verbose=False, num_sessions=41):\n",
    "\n",
    "\tmodels_not_done = []\n",
    "\tnum_freqs = 80\n",
    "\tmodel_name = f'STRF_freqs{num_freqs}'\n",
    "\tidentifiers = [\n",
    "\t\tidentifier,\n",
    "\t\tf'{identifier}_5_10',\n",
    "\t\tf'{identifier}_10_15',\n",
    "\t\tf'{identifier}_15_20',\n",
    "\t\tf'{identifier}_20_25',\n",
    "\t\tf'{identifier}_25_30',\n",
    "\t\tf'{identifier}_30_34',\n",
    "\t\tf'{identifier}_34_37',\n",
    "\t\tf'{identifier}_37'\n",
    "\t]\n",
    "\n",
    "\tif model_name in model_names:\n",
    "\t\tsessions_done = 0\n",
    "\t\tfor identifier in identifiers:\n",
    "\t\t\tsessions_done += display_sessions_done(\n",
    "\t\t\t\tmodel_name, identifier, verbose=verbose)\n",
    "\t\tprint(f\"Total sessions done: {sessions_done}\")\n",
    "\t\tif sessions_done != num_sessions:\n",
    "\t\t\tmodels_not_done.append(model_name)\n",
    "\t\t\tprint(f\"Sessions done: {sessions_done}\")\n",
    "\t\t\n",
    "\n",
    "\t# remove None entries..\n",
    "\twhile None in models_not_done:\n",
    "\t\tmodels_not_done.remove(None)\n",
    "\t\n",
    "\tif len(models_not_done) ==0:\n",
    "\t\tprint(f\"All models done..for {identifier}\")\n",
    "\telse:\n",
    "\t\tprint(f\"Models with incomplete resutls:\")\n",
    "\t\tfor iden in models_not_done:\n",
    "\t\t\tprint(iden)\n",
    "\t\n",
    "\n",
    "def combine_results_for_all_models(identifier, model_names=None):\n",
    "\t\"\"\"Combines results for the list of models provided\"\"\"\n",
    "\tnormalizer_filename = 'modified_bins_normalizer.csv'\n",
    "\tnum_freqs = 80\n",
    "\tmodel_name = f'STRF_freqs{num_freqs}'\n",
    "\tif model_names is None or model_name in model_names:\n",
    "\t\tids = [\n",
    "\t\t\tidentifier,\n",
    "\t\t\tf'{identifier}_5_10',\n",
    "\t\t\tf'{identifier}_10_15',\n",
    "\t\t\tf'{identifier}_15_20',\n",
    "\t\t\tf'{identifier}_20_25',\n",
    "\t\t\tf'{identifier}_25_30',\n",
    "\t\t\tf'{identifier}_30_34',\n",
    "\t\t\tf'{identifier}_34_37',\n",
    "\t\t\tf'{identifier}_37'\n",
    "\t\t\t]\n",
    "\t\tSTRFCorrelations.combine_and_ready(model_name,\n",
    "\t\t\tids, 0, normalizer_filename=normalizer_filename)\n",
    "\t\t\n"
   ]
  },
  {
   "cell_type": "code",
   "execution_count": 11,
   "metadata": {},
   "outputs": [
    {
     "name": "stdout",
     "output_type": "stream",
     "text": [
      "For 'STRF_freqs80', 'mVocs_mel_lags300'\n",
      "Using default normalizer file...\n",
      "For bin_width: 50.0 ms, sessions done: 5\n",
      "For 'STRF_freqs80', 'mVocs_mel_lags300_5_10'\n",
      "Using default normalizer file...\n",
      "For bin_width: 50.0 ms, sessions done: 5\n",
      "For 'STRF_freqs80', 'mVocs_mel_lags300_10_15'\n",
      "Using default normalizer file...\n",
      "For bin_width: 50.0 ms, sessions done: 5\n",
      "For 'STRF_freqs80', 'mVocs_mel_lags300_15_20'\n",
      "Using default normalizer file...\n",
      "For bin_width: 50.0 ms, sessions done: 5\n",
      "For 'STRF_freqs80', 'mVocs_mel_lags300_20_25'\n",
      "Using default normalizer file...\n",
      "For bin_width: 50.0 ms, sessions done: 4\n",
      "For 'STRF_freqs80', 'mVocs_mel_lags300_25_30'\n",
      "Using default normalizer file...\n",
      "For bin_width: 50.0 ms, sessions done: 5\n",
      "For 'STRF_freqs80', 'mVocs_mel_lags300_30_34'\n",
      "Using default normalizer file...\n",
      "For bin_width: 50.0 ms, sessions done: 4\n",
      "For 'STRF_freqs80', 'mVocs_mel_lags300_34_37'\n",
      "Using default normalizer file...\n",
      "For bin_width: 50.0 ms, sessions done: 3\n",
      "For 'STRF_freqs80', 'mVocs_mel_lags300_37'\n",
      "Using default normalizer file...\n",
      "For bin_width: 50.0 ms, sessions done: 3\n",
      "Total sessions done: 39\n",
      "All models done..for mVocs_mel_lags300_37\n"
     ]
    }
   ],
   "source": [
    "\n",
    "check_saved_results(['STRF_freqs80'], 'mVocs_mel_lags300', verbose=True, num_sessions=39)"
   ]
  },
  {
   "cell_type": "code",
   "execution_count": 12,
   "metadata": {},
   "outputs": [
    {
     "name": "stdout",
     "output_type": "stream",
     "text": [
      "Combining results...\n",
      "Output saved at: \n",
      " /depot/jgmakin/data/auditory_cortex/results/cross_validated_correlations/STRF_freqs80_mVocs_mel_lags300_corr_results.csv\n"
     ]
    }
   ],
   "source": [
    "combine_results_for_all_models('mVocs_mel_lags300', model_names=['STRF_freqs80'])"
   ]
  },
  {
   "cell_type": "code",
   "execution_count": 5,
   "metadata": {},
   "outputs": [
    {
     "name": "stdout",
     "output_type": "stream",
     "text": [
      "Using default normalizer file...\n",
      "Columns: 'mVocs_normalizer', 'mVocs_test_cc_raw', 'mVocs_normalized_test_cc' updated using normalizer (random pairs) dist, writing back now...\n",
      "Saved at /depot/jgmakin/data/auditory_cortex/results/cross_validated_correlations/STRF_freqs80_mVocs_wavelet_test_gpu_1_corr_results.csv\n"
     ]
    }
   ],
   "source": [
    "model_name = 'STRF_freqs80'\n",
    "# identifier = 'mVocs_mel_lags300'\n",
    "# identifier = 'mVocs_mel_lags300_gpu'\n",
    "# identifier = 'mVocs_mel_test_gpu_0'\n",
    "# identifier = 'mVocs_wavelet_test_gpu_0'\n",
    "identifier = 'mVocs_wavelet_test_gpu_1'\n",
    "corr_obj = STRFCorrelations(model_name+'_'+identifier)\n",
    "corr_obj.set_normalizers_using_bootsrap(mVocs=True)\n",
    "\n",
    "data = corr_obj.data[corr_obj.data['mVocs_normalizer'] > 0.089]\n",
    "np.median(data['mVocs_normalized_test_cc'])\n"
   ]
  },
  {
   "cell_type": "code",
   "execution_count": 7,
   "metadata": {},
   "outputs": [
    {
     "data": {
      "text/plain": [
       "0.3430655757393374"
      ]
     },
     "execution_count": 7,
     "metadata": {},
     "output_type": "execute_result"
    }
   ],
   "source": [
    "data = corr_obj.data[corr_obj.data['mVocs_normalizer'] > 0.089]\n",
    "np.median(data['mVocs_normalized_test_cc'])"
   ]
  },
  {
   "cell_type": "markdown",
   "metadata": {},
   "source": [
    "#### rest of it..."
   ]
  },
  {
   "cell_type": "code",
   "execution_count": 4,
   "metadata": {},
   "outputs": [
    {
     "name": "stdout",
     "output_type": "stream",
     "text": [
      "Using default normalizer file...\n"
     ]
    }
   ],
   "source": [
    "# iden = 'mVocs' \n",
    "# iden = 'mel_spectrogram' \n",
    "iden = 'mVocs_mel_spectrogram' \n",
    "corr_obj = STRFCorrelations(model_name = f\"STRF_freqs80_{iden}\")\n",
    "\n",
    "# corr_obj.set_normalizers_using_bootsrap()"
   ]
  },
  {
   "cell_type": "code",
   "execution_count": 12,
   "metadata": {},
   "outputs": [
    {
     "data": {
      "text/plain": [
       "(array([ 0.,  0.,  0.,  0.,  0., 64.,  0.,  0.,  0.,  0.]),\n",
       " array([-0.19897, -0.09897,  0.00103,  0.10103,  0.20103,  0.30103,\n",
       "         0.40103,  0.50103,  0.60103,  0.70103,  0.80103]),\n",
       " <BarContainer object of 10 artists>)"
      ]
     },
     "execution_count": 12,
     "metadata": {},
     "output_type": "execute_result"
    },
    {
     "data": {
      "image/png": "[encoded data removed]",
      "text/plain": [
       "<Figure size 432x288 with 1 Axes>"
      ]
     },
     "metadata": {
      "needs_background": "light"
     },
     "output_type": "display_data"
    }
   ],
   "source": [
    "import matplotlib.pylab as plt\n",
    "plt.hist(np.log10(corr_obj.data['lmbda']))"
   ]
  },
  {
   "cell_type": "code",
   "execution_count": 7,
   "metadata": {},
   "outputs": [],
   "source": [
    "# os.remove('/depot/jgmakin/data/auditory_cortex/results/cross_validated_correlations/STRF_freqs80_cross_validated_corr_results.csv')"
   ]
  },
  {
   "cell_type": "code",
   "execution_count": 56,
   "metadata": {},
   "outputs": [
    {
     "data": {
      "text/plain": [
       "array([20., 40.])"
      ]
     },
     "execution_count": 56,
     "metadata": {},
     "output_type": "execute_result"
    }
   ],
   "source": [
    "baseline_corr['tmax'].unique()"
   ]
  },
  {
   "cell_type": "code",
   "execution_count": 47,
   "metadata": {},
   "outputs": [
    {
     "name": "stdout",
     "output_type": "stream",
     "text": [
      "Reading from: /depot/jgmakin/data/auditory_cortex/results/cross_validated_correlations/STRF_freqs80_poissrdge_34_corr_results.csv\n"
     ]
    },
    {
     "data": {
      "text/plain": [
       "0.25524071400862686"
      ]
     },
     "execution_count": 47,
     "metadata": {},
     "output_type": "execute_result"
    }
   ],
   "source": [
    "\n",
    "iden = 'poissrdge_34' # s=34\n",
    "num_freqs = 80\n",
    "STRF_filename = f'STRF_freqs{num_freqs}_{iden}_corr_results.csv'\n",
    "STRF_file_path = os.path.join(saved_corr_dir, STRF_filename)\n",
    "print(f\"Reading from: {STRF_file_path}\")\n",
    "baseline_corr = pd.read_csv(STRF_file_path)\n",
    "len(baseline_corr['session'].unique())\n",
    "baseline_corr[baseline_corr['session']==200206]['strf_corr'].median()"
   ]
  },
  {
   "cell_type": "code",
   "execution_count": 45,
   "metadata": {},
   "outputs": [
    {
     "name": "stdout",
     "output_type": "stream",
     "text": [
      "Reading from: /depot/jgmakin/data/auditory_cortex/results/cross_validated_correlations/STRF_freqs80_rdge_34_corr_results.csv\n"
     ]
    },
    {
     "data": {
      "text/plain": [
       "0.3065583158608634"
      ]
     },
     "execution_count": 45,
     "metadata": {},
     "output_type": "execute_result"
    }
   ],
   "source": [
    "iden = 'rdge_34' # s=34\n",
    "num_freqs = 80\n",
    "STRF_filename = f'STRF_freqs{num_freqs}_{iden}_corr_results.csv'\n",
    "STRF_file_path = os.path.join(saved_corr_dir, STRF_filename)\n",
    "print(f\"Reading from: {STRF_file_path}\")\n",
    "baseline_corr = pd.read_csv(STRF_file_path)\n",
    "len(baseline_corr['session'].unique())\n",
    "baseline_corr[baseline_corr['session']==200206]['strf_corr'].median()"
   ]
  },
  {
   "cell_type": "code",
   "execution_count": 41,
   "metadata": {},
   "outputs": [
    {
     "name": "stdout",
     "output_type": "stream",
     "text": [
      "Reading from: /depot/jgmakin/data/auditory_cortex/results/cross_validated_correlations/STRF_freqs80_rdgecv_34_corr_results.csv\n"
     ]
    },
    {
     "data": {
      "text/plain": [
       "0.3052084972835195"
      ]
     },
     "execution_count": 41,
     "metadata": {},
     "output_type": "execute_result"
    }
   ],
   "source": [
    "iden = 'rdgecv_34' \n",
    "\n",
    "num_freqs = 80\n",
    "STRF_filename = f'STRF_freqs{num_freqs}_{iden}_corr_results.csv'\n",
    "STRF_file_path = os.path.join(saved_corr_dir, STRF_filename)\n",
    "print(f\"Reading from: {STRF_file_path}\")\n",
    "baseline_corr = pd.read_csv(STRF_file_path)\n",
    "len(baseline_corr['session'].unique())\n",
    "baseline_corr[baseline_corr['session']==200206]['strf_corr'].median()"
   ]
  },
  {
   "cell_type": "code",
   "execution_count": 40,
   "metadata": {},
   "outputs": [
    {
     "name": "stdout",
     "output_type": "stream",
     "text": [
      "Reading from: /depot/jgmakin/data/auditory_cortex/results/cross_validated_correlations/STRF_freqs80_bw50_corr_results.csv\n"
     ]
    },
    {
     "data": {
      "text/plain": [
       "0.2411206022548017"
      ]
     },
     "execution_count": 40,
     "metadata": {},
     "output_type": "execute_result"
    }
   ],
   "source": [
    "iden = 'bw50'\n",
    "\n",
    "num_freqs = 80\n",
    "STRF_filename = f'STRF_freqs{num_freqs}_{iden}_corr_results.csv'\n",
    "STRF_file_path = os.path.join(saved_corr_dir, STRF_filename)\n",
    "print(f\"Reading from: {STRF_file_path}\")\n",
    "baseline_corr = pd.read_csv(STRF_file_path)\n",
    "len(baseline_corr['session'].unique())\n",
    "baseline_corr[baseline_corr['session']==200206]['strf_corr'].median()"
   ]
  },
  {
   "cell_type": "code",
   "execution_count": 42,
   "metadata": {},
   "outputs": [
    {
     "name": "stdout",
     "output_type": "stream",
     "text": [
      "Reading from: /depot/jgmakin/data/auditory_cortex/results/cross_validated_correlations/STRF_freqs80_cross_validated_corr_results.csv\n"
     ]
    },
    {
     "data": {
      "text/plain": [
       "0.21565845692882085"
      ]
     },
     "execution_count": 42,
     "metadata": {},
     "output_type": "execute_result"
    }
   ],
   "source": [
    "iden = 'cross_validated'\n",
    "num_freqs = 80\n",
    "STRF_filename = f'STRF_freqs{num_freqs}_{iden}_corr_results.csv'\n",
    "STRF_file_path = os.path.join(saved_corr_dir, STRF_filename)\n",
    "print(f\"Reading from: {STRF_file_path}\")\n",
    "baseline_corr = pd.read_csv(STRF_file_path)\n",
    "len(baseline_corr['session'].unique())\n",
    "baseline_corr[baseline_corr['session']==200206]['strf_corr'].median()"
   ]
  },
  {
   "cell_type": "code",
   "execution_count": 6,
   "metadata": {},
   "outputs": [
    {
     "data": {
      "text/plain": [
       "array([180724., 180728., 180413., 190604., 190605., 191121., 190606.,\n",
       "       200207., 200212.])"
      ]
     },
     "execution_count": 6,
     "metadata": {},
     "output_type": "execute_result"
    }
   ],
   "source": [
    "baseline_corr['session'].unique()"
   ]
  },
  {
   "cell_type": "code",
   "execution_count": null,
   "metadata": {},
   "outputs": [],
   "source": []
  },
  {
   "cell_type": "code",
   "execution_count": 4,
   "metadata": {},
   "outputs": [
    {
     "name": "stdout",
     "output_type": "stream",
     "text": [
      "Using default normalizer file...\n",
      "Creating normalizer object from: modified_bins_normalizer.csv\n",
      "Reading existing dataframe.\n"
     ]
    }
   ],
   "source": [
    "from auditory_cortex.analyses import STRFCorrelations\n",
    "iden = 'cross_validated'\n",
    "STRF_results_identifier=f'STRF_freqs80_{iden}'\n",
    "strf_obj = STRFCorrelations(STRF_results_identifier)"
   ]
  },
  {
   "cell_type": "code",
   "execution_count": 2,
   "metadata": {},
   "outputs": [
    {
     "name": "stdout",
     "output_type": "stream",
     "text": [
      "Using default normalizer file...\n",
      "Creating normalizer object from: modified_bins_normalizer.csv\n",
      "Reading existing dataframe.\n",
      "Normalizers updated using normalizer (app) dist , writing back now...\n",
      "Saved at /depot/jgmakin/data/auditory_cortex/results/cross_validated_correlations/STRF_freqs80_bw50_corr_results.csv\n"
     ]
    }
   ],
   "source": [
    "from auditory_cortex.analyses import STRFCorrelations\n",
    "STRF_results_identifier='STRF_freqs80_bw50'\n",
    "strf_obj = STRFCorrelations(STRF_results_identifier)"
   ]
  },
  {
   "cell_type": "code",
   "execution_count": 3,
   "metadata": {},
   "outputs": [
    {
     "data": {
      "text/html": [
       "<div>\n",
       "<style scoped>\n",
       "    .dataframe tbody tr th:only-of-type {\n",
       "        vertical-align: middle;\n",
       "    }\n",
       "\n",
       "    .dataframe tbody tr th {\n",
       "        vertical-align: top;\n",
       "    }\n",
       "\n",
       "    .dataframe thead th {\n",
       "        text-align: right;\n",
       "    }\n",
       "</style>\n",
       "<table border=\"1\" class=\"dataframe\">\n",
       "  <thead>\n",
       "    <tr style=\"text-align: right;\">\n",
       "      <th></th>\n",
       "      <th>session</th>\n",
       "      <th>channel</th>\n",
       "      <th>bin_width</th>\n",
       "      <th>delay</th>\n",
       "      <th>num_freqs</th>\n",
       "      <th>tmin</th>\n",
       "      <th>tmax</th>\n",
       "      <th>strf_corr</th>\n",
       "      <th>test_cc_raw</th>\n",
       "      <th>normalizer</th>\n",
       "      <th>normalized_test_cc</th>\n",
       "    </tr>\n",
       "  </thead>\n",
       "  <tbody>\n",
       "    <tr>\n",
       "      <th>0</th>\n",
       "      <td>180413.0</td>\n",
       "      <td>0.0</td>\n",
       "      <td>50.0</td>\n",
       "      <td>0.0</td>\n",
       "      <td>80.0</td>\n",
       "      <td>0.0</td>\n",
       "      <td>0.3</td>\n",
       "      <td>-0.071255</td>\n",
       "      <td>-0.071255</td>\n",
       "      <td>0.003512</td>\n",
       "      <td>-1.202337</td>\n",
       "    </tr>\n",
       "    <tr>\n",
       "      <th>1</th>\n",
       "      <td>180413.0</td>\n",
       "      <td>1.0</td>\n",
       "      <td>50.0</td>\n",
       "      <td>0.0</td>\n",
       "      <td>80.0</td>\n",
       "      <td>0.0</td>\n",
       "      <td>0.3</td>\n",
       "      <td>-0.004840</td>\n",
       "      <td>-0.004840</td>\n",
       "      <td>0.004870</td>\n",
       "      <td>-0.069363</td>\n",
       "    </tr>\n",
       "    <tr>\n",
       "      <th>2</th>\n",
       "      <td>180413.0</td>\n",
       "      <td>2.0</td>\n",
       "      <td>50.0</td>\n",
       "      <td>0.0</td>\n",
       "      <td>80.0</td>\n",
       "      <td>0.0</td>\n",
       "      <td>0.3</td>\n",
       "      <td>-0.059212</td>\n",
       "      <td>-0.059212</td>\n",
       "      <td>-0.000009</td>\n",
       "      <td>NaN</td>\n",
       "    </tr>\n",
       "    <tr>\n",
       "      <th>3</th>\n",
       "      <td>180413.0</td>\n",
       "      <td>3.0</td>\n",
       "      <td>50.0</td>\n",
       "      <td>0.0</td>\n",
       "      <td>80.0</td>\n",
       "      <td>0.0</td>\n",
       "      <td>0.3</td>\n",
       "      <td>0.133844</td>\n",
       "      <td>0.133844</td>\n",
       "      <td>-0.010641</td>\n",
       "      <td>NaN</td>\n",
       "    </tr>\n",
       "    <tr>\n",
       "      <th>4</th>\n",
       "      <td>180413.0</td>\n",
       "      <td>4.0</td>\n",
       "      <td>50.0</td>\n",
       "      <td>0.0</td>\n",
       "      <td>80.0</td>\n",
       "      <td>0.0</td>\n",
       "      <td>0.3</td>\n",
       "      <td>0.072941</td>\n",
       "      <td>0.072941</td>\n",
       "      <td>-0.016452</td>\n",
       "      <td>NaN</td>\n",
       "    </tr>\n",
       "    <tr>\n",
       "      <th>...</th>\n",
       "      <td>...</td>\n",
       "      <td>...</td>\n",
       "      <td>...</td>\n",
       "      <td>...</td>\n",
       "      <td>...</td>\n",
       "      <td>...</td>\n",
       "      <td>...</td>\n",
       "      <td>...</td>\n",
       "      <td>...</td>\n",
       "      <td>...</td>\n",
       "      <td>...</td>\n",
       "    </tr>\n",
       "    <tr>\n",
       "      <th>1713</th>\n",
       "      <td>200318.0</td>\n",
       "      <td>40.0</td>\n",
       "      <td>50.0</td>\n",
       "      <td>0.0</td>\n",
       "      <td>80.0</td>\n",
       "      <td>0.0</td>\n",
       "      <td>0.3</td>\n",
       "      <td>-0.129373</td>\n",
       "      <td>-0.129373</td>\n",
       "      <td>0.013082</td>\n",
       "      <td>-1.131133</td>\n",
       "    </tr>\n",
       "    <tr>\n",
       "      <th>1714</th>\n",
       "      <td>200318.0</td>\n",
       "      <td>41.0</td>\n",
       "      <td>50.0</td>\n",
       "      <td>0.0</td>\n",
       "      <td>80.0</td>\n",
       "      <td>0.0</td>\n",
       "      <td>0.3</td>\n",
       "      <td>-0.126037</td>\n",
       "      <td>-0.126037</td>\n",
       "      <td>-0.007986</td>\n",
       "      <td>NaN</td>\n",
       "    </tr>\n",
       "    <tr>\n",
       "      <th>1715</th>\n",
       "      <td>200318.0</td>\n",
       "      <td>42.0</td>\n",
       "      <td>50.0</td>\n",
       "      <td>0.0</td>\n",
       "      <td>80.0</td>\n",
       "      <td>0.0</td>\n",
       "      <td>0.3</td>\n",
       "      <td>0.025005</td>\n",
       "      <td>0.025005</td>\n",
       "      <td>-0.000663</td>\n",
       "      <td>NaN</td>\n",
       "    </tr>\n",
       "    <tr>\n",
       "      <th>1716</th>\n",
       "      <td>200318.0</td>\n",
       "      <td>43.0</td>\n",
       "      <td>50.0</td>\n",
       "      <td>0.0</td>\n",
       "      <td>80.0</td>\n",
       "      <td>0.0</td>\n",
       "      <td>0.3</td>\n",
       "      <td>-0.087960</td>\n",
       "      <td>-0.087960</td>\n",
       "      <td>0.002100</td>\n",
       "      <td>-1.919378</td>\n",
       "    </tr>\n",
       "    <tr>\n",
       "      <th>1717</th>\n",
       "      <td>200318.0</td>\n",
       "      <td>44.0</td>\n",
       "      <td>50.0</td>\n",
       "      <td>0.0</td>\n",
       "      <td>80.0</td>\n",
       "      <td>0.0</td>\n",
       "      <td>0.3</td>\n",
       "      <td>-0.044356</td>\n",
       "      <td>-0.044356</td>\n",
       "      <td>0.007045</td>\n",
       "      <td>-0.528440</td>\n",
       "    </tr>\n",
       "  </tbody>\n",
       "</table>\n",
       "<p>1718 rows × 11 columns</p>\n",
       "</div>"
      ],
      "text/plain": [
       "       session  channel  bin_width  delay  num_freqs  tmin  tmax  strf_corr  \\\n",
       "0     180413.0      0.0       50.0    0.0       80.0   0.0   0.3  -0.071255   \n",
       "1     180413.0      1.0       50.0    0.0       80.0   0.0   0.3  -0.004840   \n",
       "2     180413.0      2.0       50.0    0.0       80.0   0.0   0.3  -0.059212   \n",
       "3     180413.0      3.0       50.0    0.0       80.0   0.0   0.3   0.133844   \n",
       "4     180413.0      4.0       50.0    0.0       80.0   0.0   0.3   0.072941   \n",
       "...        ...      ...        ...    ...        ...   ...   ...        ...   \n",
       "1713  200318.0     40.0       50.0    0.0       80.0   0.0   0.3  -0.129373   \n",
       "1714  200318.0     41.0       50.0    0.0       80.0   0.0   0.3  -0.126037   \n",
       "1715  200318.0     42.0       50.0    0.0       80.0   0.0   0.3   0.025005   \n",
       "1716  200318.0     43.0       50.0    0.0       80.0   0.0   0.3  -0.087960   \n",
       "1717  200318.0     44.0       50.0    0.0       80.0   0.0   0.3  -0.044356   \n",
       "\n",
       "      test_cc_raw  normalizer  normalized_test_cc  \n",
       "0       -0.071255    0.003512           -1.202337  \n",
       "1       -0.004840    0.004870           -0.069363  \n",
       "2       -0.059212   -0.000009                 NaN  \n",
       "3        0.133844   -0.010641                 NaN  \n",
       "4        0.072941   -0.016452                 NaN  \n",
       "...           ...         ...                 ...  \n",
       "1713    -0.129373    0.013082           -1.131133  \n",
       "1714    -0.126037   -0.007986                 NaN  \n",
       "1715     0.025005   -0.000663                 NaN  \n",
       "1716    -0.087960    0.002100           -1.919378  \n",
       "1717    -0.044356    0.007045           -0.528440  \n",
       "\n",
       "[1718 rows x 11 columns]"
      ]
     },
     "execution_count": 3,
     "metadata": {},
     "output_type": "execute_result"
    }
   ],
   "source": [
    "baseline_corr"
   ]
  },
  {
   "cell_type": "code",
   "execution_count": 8,
   "metadata": {},
   "outputs": [
    {
     "data": {
      "text/plain": [
       "array([0.01 , 0.02 , 0.04 , 0.06 , 0.08 , 0.1  , 0.2  , 0.3  , 0.4  ,\n",
       "       0.5  , 0.6  , 0.005])"
      ]
     },
     "execution_count": 8,
     "metadata": {},
     "output_type": "execute_result"
    }
   ],
   "source": [
    "baseline_corr['tmax'].unique()"
   ]
  },
  {
   "cell_type": "code",
   "execution_count": 3,
   "metadata": {},
   "outputs": [
    {
     "data": {
      "text/html": [
       "<div>\n",
       "<style scoped>\n",
       "    .dataframe tbody tr th:only-of-type {\n",
       "        vertical-align: middle;\n",
       "    }\n",
       "\n",
       "    .dataframe tbody tr th {\n",
       "        vertical-align: top;\n",
       "    }\n",
       "\n",
       "    .dataframe thead th {\n",
       "        text-align: right;\n",
       "    }\n",
       "</style>\n",
       "<table border=\"1\" class=\"dataframe\">\n",
       "  <thead>\n",
       "    <tr style=\"text-align: right;\">\n",
       "      <th></th>\n",
       "      <th>session</th>\n",
       "      <th>channel</th>\n",
       "      <th>bin_width</th>\n",
       "      <th>delay</th>\n",
       "      <th>num_freqs</th>\n",
       "      <th>tmin</th>\n",
       "      <th>tmax</th>\n",
       "      <th>strf_corr</th>\n",
       "      <th>test_cc_raw</th>\n",
       "      <th>normalizer</th>\n",
       "      <th>normalized_test_cc</th>\n",
       "    </tr>\n",
       "  </thead>\n",
       "  <tbody>\n",
       "    <tr>\n",
       "      <th>0</th>\n",
       "      <td>180413.0</td>\n",
       "      <td>0.0</td>\n",
       "      <td>20.0</td>\n",
       "      <td>0.0</td>\n",
       "      <td>80.0</td>\n",
       "      <td>0.0</td>\n",
       "      <td>0.01</td>\n",
       "      <td>0.036987</td>\n",
       "      <td>0.036987</td>\n",
       "      <td>0.012303</td>\n",
       "      <td>0.333456</td>\n",
       "    </tr>\n",
       "    <tr>\n",
       "      <th>1</th>\n",
       "      <td>180413.0</td>\n",
       "      <td>1.0</td>\n",
       "      <td>20.0</td>\n",
       "      <td>0.0</td>\n",
       "      <td>80.0</td>\n",
       "      <td>0.0</td>\n",
       "      <td>0.01</td>\n",
       "      <td>-0.001129</td>\n",
       "      <td>-0.001129</td>\n",
       "      <td>-0.006701</td>\n",
       "      <td>NaN</td>\n",
       "    </tr>\n",
       "    <tr>\n",
       "      <th>2</th>\n",
       "      <td>180413.0</td>\n",
       "      <td>2.0</td>\n",
       "      <td>20.0</td>\n",
       "      <td>0.0</td>\n",
       "      <td>80.0</td>\n",
       "      <td>0.0</td>\n",
       "      <td>0.01</td>\n",
       "      <td>-0.054922</td>\n",
       "      <td>-0.054922</td>\n",
       "      <td>0.006253</td>\n",
       "      <td>-0.694538</td>\n",
       "    </tr>\n",
       "    <tr>\n",
       "      <th>3</th>\n",
       "      <td>180413.0</td>\n",
       "      <td>3.0</td>\n",
       "      <td>20.0</td>\n",
       "      <td>0.0</td>\n",
       "      <td>80.0</td>\n",
       "      <td>0.0</td>\n",
       "      <td>0.01</td>\n",
       "      <td>0.009293</td>\n",
       "      <td>0.009293</td>\n",
       "      <td>-0.004253</td>\n",
       "      <td>NaN</td>\n",
       "    </tr>\n",
       "    <tr>\n",
       "      <th>4</th>\n",
       "      <td>180413.0</td>\n",
       "      <td>4.0</td>\n",
       "      <td>20.0</td>\n",
       "      <td>0.0</td>\n",
       "      <td>80.0</td>\n",
       "      <td>0.0</td>\n",
       "      <td>0.01</td>\n",
       "      <td>-0.038279</td>\n",
       "      <td>-0.038279</td>\n",
       "      <td>-0.019774</td>\n",
       "      <td>NaN</td>\n",
       "    </tr>\n",
       "    <tr>\n",
       "      <th>...</th>\n",
       "      <td>...</td>\n",
       "      <td>...</td>\n",
       "      <td>...</td>\n",
       "      <td>...</td>\n",
       "      <td>...</td>\n",
       "      <td>...</td>\n",
       "      <td>...</td>\n",
       "      <td>...</td>\n",
       "      <td>...</td>\n",
       "      <td>...</td>\n",
       "      <td>...</td>\n",
       "    </tr>\n",
       "    <tr>\n",
       "      <th>22329</th>\n",
       "      <td>200318.0</td>\n",
       "      <td>40.0</td>\n",
       "      <td>50.0</td>\n",
       "      <td>0.0</td>\n",
       "      <td>80.0</td>\n",
       "      <td>0.0</td>\n",
       "      <td>0.30</td>\n",
       "      <td>-0.086681</td>\n",
       "      <td>NaN</td>\n",
       "      <td>0.013082</td>\n",
       "      <td>NaN</td>\n",
       "    </tr>\n",
       "    <tr>\n",
       "      <th>22330</th>\n",
       "      <td>200318.0</td>\n",
       "      <td>41.0</td>\n",
       "      <td>50.0</td>\n",
       "      <td>0.0</td>\n",
       "      <td>80.0</td>\n",
       "      <td>0.0</td>\n",
       "      <td>0.30</td>\n",
       "      <td>-0.066152</td>\n",
       "      <td>NaN</td>\n",
       "      <td>-0.007986</td>\n",
       "      <td>NaN</td>\n",
       "    </tr>\n",
       "    <tr>\n",
       "      <th>22331</th>\n",
       "      <td>200318.0</td>\n",
       "      <td>42.0</td>\n",
       "      <td>50.0</td>\n",
       "      <td>0.0</td>\n",
       "      <td>80.0</td>\n",
       "      <td>0.0</td>\n",
       "      <td>0.30</td>\n",
       "      <td>0.035989</td>\n",
       "      <td>NaN</td>\n",
       "      <td>-0.000663</td>\n",
       "      <td>NaN</td>\n",
       "    </tr>\n",
       "    <tr>\n",
       "      <th>22332</th>\n",
       "      <td>200318.0</td>\n",
       "      <td>43.0</td>\n",
       "      <td>50.0</td>\n",
       "      <td>0.0</td>\n",
       "      <td>80.0</td>\n",
       "      <td>0.0</td>\n",
       "      <td>0.30</td>\n",
       "      <td>-0.047702</td>\n",
       "      <td>NaN</td>\n",
       "      <td>0.002100</td>\n",
       "      <td>NaN</td>\n",
       "    </tr>\n",
       "    <tr>\n",
       "      <th>22333</th>\n",
       "      <td>200318.0</td>\n",
       "      <td>44.0</td>\n",
       "      <td>50.0</td>\n",
       "      <td>0.0</td>\n",
       "      <td>80.0</td>\n",
       "      <td>0.0</td>\n",
       "      <td>0.30</td>\n",
       "      <td>0.013179</td>\n",
       "      <td>NaN</td>\n",
       "      <td>0.007045</td>\n",
       "      <td>NaN</td>\n",
       "    </tr>\n",
       "  </tbody>\n",
       "</table>\n",
       "<p>22334 rows × 11 columns</p>\n",
       "</div>"
      ],
      "text/plain": [
       "        session  channel  bin_width  delay  num_freqs  tmin  tmax  strf_corr  \\\n",
       "0      180413.0      0.0       20.0    0.0       80.0   0.0  0.01   0.036987   \n",
       "1      180413.0      1.0       20.0    0.0       80.0   0.0  0.01  -0.001129   \n",
       "2      180413.0      2.0       20.0    0.0       80.0   0.0  0.01  -0.054922   \n",
       "3      180413.0      3.0       20.0    0.0       80.0   0.0  0.01   0.009293   \n",
       "4      180413.0      4.0       20.0    0.0       80.0   0.0  0.01  -0.038279   \n",
       "...         ...      ...        ...    ...        ...   ...   ...        ...   \n",
       "22329  200318.0     40.0       50.0    0.0       80.0   0.0  0.30  -0.086681   \n",
       "22330  200318.0     41.0       50.0    0.0       80.0   0.0  0.30  -0.066152   \n",
       "22331  200318.0     42.0       50.0    0.0       80.0   0.0  0.30   0.035989   \n",
       "22332  200318.0     43.0       50.0    0.0       80.0   0.0  0.30  -0.047702   \n",
       "22333  200318.0     44.0       50.0    0.0       80.0   0.0  0.30   0.013179   \n",
       "\n",
       "       test_cc_raw  normalizer  normalized_test_cc  \n",
       "0         0.036987    0.012303            0.333456  \n",
       "1        -0.001129   -0.006701                 NaN  \n",
       "2        -0.054922    0.006253           -0.694538  \n",
       "3         0.009293   -0.004253                 NaN  \n",
       "4        -0.038279   -0.019774                 NaN  \n",
       "...            ...         ...                 ...  \n",
       "22329          NaN    0.013082                 NaN  \n",
       "22330          NaN   -0.007986                 NaN  \n",
       "22331          NaN   -0.000663                 NaN  \n",
       "22332          NaN    0.002100                 NaN  \n",
       "22333          NaN    0.007045                 NaN  \n",
       "\n",
       "[22334 rows x 11 columns]"
      ]
     },
     "execution_count": 3,
     "metadata": {},
     "output_type": "execute_result"
    }
   ],
   "source": [
    "baseline_corr"
   ]
  },
  {
   "cell_type": "code",
   "execution_count": 4,
   "metadata": {},
   "outputs": [],
   "source": [
    "bin_width = 50\n",
    "delay = 0\n",
    "area = 'all'\n",
    "normalized = True"
   ]
  },
  {
   "cell_type": "code",
   "execution_count": 11,
   "metadata": {},
   "outputs": [
    {
     "name": "stdout",
     "output_type": "stream",
     "text": [
      "Using default normalizer file...\n",
      "Creating normalizer object from: modified_bins_normalizer.csv\n",
      "Reading existing dataframe.\n"
     ]
    }
   ],
   "source": [
    "from auditory_cortex.analyses import STRFCorrelations\n",
    "STRF_results_identifier='STRF_freqs80_all_lags'\n",
    "strf_obj = STRFCorrelations(STRF_results_identifier)"
   ]
  },
  {
   "cell_type": "code",
   "execution_count": 13,
   "metadata": {},
   "outputs": [],
   "source": [
    "strf_obj.data['test_cc_raw'] = strf_obj.data['strf_corr']"
   ]
  },
  {
   "cell_type": "code",
   "execution_count": 14,
   "metadata": {},
   "outputs": [
    {
     "data": {
      "text/html": [
       "<div>\n",
       "<style scoped>\n",
       "    .dataframe tbody tr th:only-of-type {\n",
       "        vertical-align: middle;\n",
       "    }\n",
       "\n",
       "    .dataframe tbody tr th {\n",
       "        vertical-align: top;\n",
       "    }\n",
       "\n",
       "    .dataframe thead th {\n",
       "        text-align: right;\n",
       "    }\n",
       "</style>\n",
       "<table border=\"1\" class=\"dataframe\">\n",
       "  <thead>\n",
       "    <tr style=\"text-align: right;\">\n",
       "      <th></th>\n",
       "      <th>session</th>\n",
       "      <th>channel</th>\n",
       "      <th>bin_width</th>\n",
       "      <th>delay</th>\n",
       "      <th>num_freqs</th>\n",
       "      <th>tmin</th>\n",
       "      <th>tmax</th>\n",
       "      <th>strf_corr</th>\n",
       "      <th>test_cc_raw</th>\n",
       "      <th>normalizer</th>\n",
       "      <th>normalized_test_cc</th>\n",
       "    </tr>\n",
       "  </thead>\n",
       "  <tbody>\n",
       "    <tr>\n",
       "      <th>0</th>\n",
       "      <td>180413.0</td>\n",
       "      <td>0.0</td>\n",
       "      <td>20.0</td>\n",
       "      <td>0.0</td>\n",
       "      <td>80.0</td>\n",
       "      <td>0.0</td>\n",
       "      <td>0.01</td>\n",
       "      <td>0.036987</td>\n",
       "      <td>0.036987</td>\n",
       "      <td>0.012303</td>\n",
       "      <td>0.333456</td>\n",
       "    </tr>\n",
       "    <tr>\n",
       "      <th>1</th>\n",
       "      <td>180413.0</td>\n",
       "      <td>1.0</td>\n",
       "      <td>20.0</td>\n",
       "      <td>0.0</td>\n",
       "      <td>80.0</td>\n",
       "      <td>0.0</td>\n",
       "      <td>0.01</td>\n",
       "      <td>-0.001129</td>\n",
       "      <td>-0.001129</td>\n",
       "      <td>-0.006701</td>\n",
       "      <td>NaN</td>\n",
       "    </tr>\n",
       "    <tr>\n",
       "      <th>2</th>\n",
       "      <td>180413.0</td>\n",
       "      <td>2.0</td>\n",
       "      <td>20.0</td>\n",
       "      <td>0.0</td>\n",
       "      <td>80.0</td>\n",
       "      <td>0.0</td>\n",
       "      <td>0.01</td>\n",
       "      <td>-0.054922</td>\n",
       "      <td>-0.054922</td>\n",
       "      <td>0.006253</td>\n",
       "      <td>-0.694538</td>\n",
       "    </tr>\n",
       "    <tr>\n",
       "      <th>3</th>\n",
       "      <td>180413.0</td>\n",
       "      <td>3.0</td>\n",
       "      <td>20.0</td>\n",
       "      <td>0.0</td>\n",
       "      <td>80.0</td>\n",
       "      <td>0.0</td>\n",
       "      <td>0.01</td>\n",
       "      <td>0.009293</td>\n",
       "      <td>0.009293</td>\n",
       "      <td>-0.004253</td>\n",
       "      <td>NaN</td>\n",
       "    </tr>\n",
       "    <tr>\n",
       "      <th>4</th>\n",
       "      <td>180413.0</td>\n",
       "      <td>4.0</td>\n",
       "      <td>20.0</td>\n",
       "      <td>0.0</td>\n",
       "      <td>80.0</td>\n",
       "      <td>0.0</td>\n",
       "      <td>0.01</td>\n",
       "      <td>-0.038279</td>\n",
       "      <td>-0.038279</td>\n",
       "      <td>-0.019774</td>\n",
       "      <td>NaN</td>\n",
       "    </tr>\n",
       "    <tr>\n",
       "      <th>...</th>\n",
       "      <td>...</td>\n",
       "      <td>...</td>\n",
       "      <td>...</td>\n",
       "      <td>...</td>\n",
       "      <td>...</td>\n",
       "      <td>...</td>\n",
       "      <td>...</td>\n",
       "      <td>...</td>\n",
       "      <td>...</td>\n",
       "      <td>...</td>\n",
       "      <td>...</td>\n",
       "    </tr>\n",
       "    <tr>\n",
       "      <th>22329</th>\n",
       "      <td>200318.0</td>\n",
       "      <td>40.0</td>\n",
       "      <td>50.0</td>\n",
       "      <td>0.0</td>\n",
       "      <td>80.0</td>\n",
       "      <td>0.0</td>\n",
       "      <td>0.30</td>\n",
       "      <td>-0.086681</td>\n",
       "      <td>-0.086681</td>\n",
       "      <td>0.013082</td>\n",
       "      <td>NaN</td>\n",
       "    </tr>\n",
       "    <tr>\n",
       "      <th>22330</th>\n",
       "      <td>200318.0</td>\n",
       "      <td>41.0</td>\n",
       "      <td>50.0</td>\n",
       "      <td>0.0</td>\n",
       "      <td>80.0</td>\n",
       "      <td>0.0</td>\n",
       "      <td>0.30</td>\n",
       "      <td>-0.066152</td>\n",
       "      <td>-0.066152</td>\n",
       "      <td>-0.007986</td>\n",
       "      <td>NaN</td>\n",
       "    </tr>\n",
       "    <tr>\n",
       "      <th>22331</th>\n",
       "      <td>200318.0</td>\n",
       "      <td>42.0</td>\n",
       "      <td>50.0</td>\n",
       "      <td>0.0</td>\n",
       "      <td>80.0</td>\n",
       "      <td>0.0</td>\n",
       "      <td>0.30</td>\n",
       "      <td>0.035989</td>\n",
       "      <td>0.035989</td>\n",
       "      <td>-0.000663</td>\n",
       "      <td>NaN</td>\n",
       "    </tr>\n",
       "    <tr>\n",
       "      <th>22332</th>\n",
       "      <td>200318.0</td>\n",
       "      <td>43.0</td>\n",
       "      <td>50.0</td>\n",
       "      <td>0.0</td>\n",
       "      <td>80.0</td>\n",
       "      <td>0.0</td>\n",
       "      <td>0.30</td>\n",
       "      <td>-0.047702</td>\n",
       "      <td>-0.047702</td>\n",
       "      <td>0.002100</td>\n",
       "      <td>NaN</td>\n",
       "    </tr>\n",
       "    <tr>\n",
       "      <th>22333</th>\n",
       "      <td>200318.0</td>\n",
       "      <td>44.0</td>\n",
       "      <td>50.0</td>\n",
       "      <td>0.0</td>\n",
       "      <td>80.0</td>\n",
       "      <td>0.0</td>\n",
       "      <td>0.30</td>\n",
       "      <td>0.013179</td>\n",
       "      <td>0.013179</td>\n",
       "      <td>0.007045</td>\n",
       "      <td>NaN</td>\n",
       "    </tr>\n",
       "  </tbody>\n",
       "</table>\n",
       "<p>22334 rows × 11 columns</p>\n",
       "</div>"
      ],
      "text/plain": [
       "        session  channel  bin_width  delay  num_freqs  tmin  tmax  strf_corr  \\\n",
       "0      180413.0      0.0       20.0    0.0       80.0   0.0  0.01   0.036987   \n",
       "1      180413.0      1.0       20.0    0.0       80.0   0.0  0.01  -0.001129   \n",
       "2      180413.0      2.0       20.0    0.0       80.0   0.0  0.01  -0.054922   \n",
       "3      180413.0      3.0       20.0    0.0       80.0   0.0  0.01   0.009293   \n",
       "4      180413.0      4.0       20.0    0.0       80.0   0.0  0.01  -0.038279   \n",
       "...         ...      ...        ...    ...        ...   ...   ...        ...   \n",
       "22329  200318.0     40.0       50.0    0.0       80.0   0.0  0.30  -0.086681   \n",
       "22330  200318.0     41.0       50.0    0.0       80.0   0.0  0.30  -0.066152   \n",
       "22331  200318.0     42.0       50.0    0.0       80.0   0.0  0.30   0.035989   \n",
       "22332  200318.0     43.0       50.0    0.0       80.0   0.0  0.30  -0.047702   \n",
       "22333  200318.0     44.0       50.0    0.0       80.0   0.0  0.30   0.013179   \n",
       "\n",
       "       test_cc_raw  normalizer  normalized_test_cc  \n",
       "0         0.036987    0.012303            0.333456  \n",
       "1        -0.001129   -0.006701                 NaN  \n",
       "2        -0.054922    0.006253           -0.694538  \n",
       "3         0.009293   -0.004253                 NaN  \n",
       "4        -0.038279   -0.019774                 NaN  \n",
       "...            ...         ...                 ...  \n",
       "22329    -0.086681    0.013082                 NaN  \n",
       "22330    -0.066152   -0.007986                 NaN  \n",
       "22331     0.035989   -0.000663                 NaN  \n",
       "22332    -0.047702    0.002100                 NaN  \n",
       "22333     0.013179    0.007045                 NaN  \n",
       "\n",
       "[22334 rows x 11 columns]"
      ]
     },
     "execution_count": 14,
     "metadata": {},
     "output_type": "execute_result"
    }
   ],
   "source": [
    "strf_obj.data"
   ]
  },
  {
   "cell_type": "code",
   "execution_count": 15,
   "metadata": {},
   "outputs": [
    {
     "name": "stdout",
     "output_type": "stream",
     "text": [
      "Normalizers updated FOR CONTEXT AS WELL, writing back now...\n",
      "Saved at /depot/jgmakin/data/auditory_cortex/results/cross_validated_correlations/STRF_freqs80_all_lags_corr_results.csv\n"
     ]
    }
   ],
   "source": [
    "strf_obj.set_normalizers()"
   ]
  },
  {
   "cell_type": "code",
   "execution_count": 16,
   "metadata": {},
   "outputs": [
    {
     "data": {
      "text/html": [
       "<div>\n",
       "<style scoped>\n",
       "    .dataframe tbody tr th:only-of-type {\n",
       "        vertical-align: middle;\n",
       "    }\n",
       "\n",
       "    .dataframe tbody tr th {\n",
       "        vertical-align: top;\n",
       "    }\n",
       "\n",
       "    .dataframe thead th {\n",
       "        text-align: right;\n",
       "    }\n",
       "</style>\n",
       "<table border=\"1\" class=\"dataframe\">\n",
       "  <thead>\n",
       "    <tr style=\"text-align: right;\">\n",
       "      <th></th>\n",
       "      <th>session</th>\n",
       "      <th>channel</th>\n",
       "      <th>bin_width</th>\n",
       "      <th>delay</th>\n",
       "      <th>num_freqs</th>\n",
       "      <th>tmin</th>\n",
       "      <th>tmax</th>\n",
       "      <th>strf_corr</th>\n",
       "      <th>test_cc_raw</th>\n",
       "      <th>normalizer</th>\n",
       "      <th>normalized_test_cc</th>\n",
       "    </tr>\n",
       "  </thead>\n",
       "  <tbody>\n",
       "    <tr>\n",
       "      <th>0</th>\n",
       "      <td>180413.0</td>\n",
       "      <td>0.0</td>\n",
       "      <td>20.0</td>\n",
       "      <td>0.0</td>\n",
       "      <td>80.0</td>\n",
       "      <td>0.0</td>\n",
       "      <td>0.01</td>\n",
       "      <td>0.036987</td>\n",
       "      <td>0.036987</td>\n",
       "      <td>0.012303</td>\n",
       "      <td>0.333456</td>\n",
       "    </tr>\n",
       "    <tr>\n",
       "      <th>1</th>\n",
       "      <td>180413.0</td>\n",
       "      <td>1.0</td>\n",
       "      <td>20.0</td>\n",
       "      <td>0.0</td>\n",
       "      <td>80.0</td>\n",
       "      <td>0.0</td>\n",
       "      <td>0.01</td>\n",
       "      <td>-0.001129</td>\n",
       "      <td>-0.001129</td>\n",
       "      <td>-0.006701</td>\n",
       "      <td>NaN</td>\n",
       "    </tr>\n",
       "    <tr>\n",
       "      <th>2</th>\n",
       "      <td>180413.0</td>\n",
       "      <td>2.0</td>\n",
       "      <td>20.0</td>\n",
       "      <td>0.0</td>\n",
       "      <td>80.0</td>\n",
       "      <td>0.0</td>\n",
       "      <td>0.01</td>\n",
       "      <td>-0.054922</td>\n",
       "      <td>-0.054922</td>\n",
       "      <td>0.006253</td>\n",
       "      <td>-0.694538</td>\n",
       "    </tr>\n",
       "    <tr>\n",
       "      <th>3</th>\n",
       "      <td>180413.0</td>\n",
       "      <td>3.0</td>\n",
       "      <td>20.0</td>\n",
       "      <td>0.0</td>\n",
       "      <td>80.0</td>\n",
       "      <td>0.0</td>\n",
       "      <td>0.01</td>\n",
       "      <td>0.009293</td>\n",
       "      <td>0.009293</td>\n",
       "      <td>-0.004253</td>\n",
       "      <td>NaN</td>\n",
       "    </tr>\n",
       "    <tr>\n",
       "      <th>4</th>\n",
       "      <td>180413.0</td>\n",
       "      <td>4.0</td>\n",
       "      <td>20.0</td>\n",
       "      <td>0.0</td>\n",
       "      <td>80.0</td>\n",
       "      <td>0.0</td>\n",
       "      <td>0.01</td>\n",
       "      <td>-0.038279</td>\n",
       "      <td>-0.038279</td>\n",
       "      <td>-0.019774</td>\n",
       "      <td>NaN</td>\n",
       "    </tr>\n",
       "    <tr>\n",
       "      <th>...</th>\n",
       "      <td>...</td>\n",
       "      <td>...</td>\n",
       "      <td>...</td>\n",
       "      <td>...</td>\n",
       "      <td>...</td>\n",
       "      <td>...</td>\n",
       "      <td>...</td>\n",
       "      <td>...</td>\n",
       "      <td>...</td>\n",
       "      <td>...</td>\n",
       "      <td>...</td>\n",
       "    </tr>\n",
       "    <tr>\n",
       "      <th>22329</th>\n",
       "      <td>200318.0</td>\n",
       "      <td>40.0</td>\n",
       "      <td>50.0</td>\n",
       "      <td>0.0</td>\n",
       "      <td>80.0</td>\n",
       "      <td>0.0</td>\n",
       "      <td>0.30</td>\n",
       "      <td>-0.086681</td>\n",
       "      <td>-0.086681</td>\n",
       "      <td>0.013082</td>\n",
       "      <td>-0.757873</td>\n",
       "    </tr>\n",
       "    <tr>\n",
       "      <th>22330</th>\n",
       "      <td>200318.0</td>\n",
       "      <td>41.0</td>\n",
       "      <td>50.0</td>\n",
       "      <td>0.0</td>\n",
       "      <td>80.0</td>\n",
       "      <td>0.0</td>\n",
       "      <td>0.30</td>\n",
       "      <td>-0.066152</td>\n",
       "      <td>-0.066152</td>\n",
       "      <td>-0.007986</td>\n",
       "      <td>NaN</td>\n",
       "    </tr>\n",
       "    <tr>\n",
       "      <th>22331</th>\n",
       "      <td>200318.0</td>\n",
       "      <td>42.0</td>\n",
       "      <td>50.0</td>\n",
       "      <td>0.0</td>\n",
       "      <td>80.0</td>\n",
       "      <td>0.0</td>\n",
       "      <td>0.30</td>\n",
       "      <td>0.035989</td>\n",
       "      <td>0.035989</td>\n",
       "      <td>-0.000663</td>\n",
       "      <td>NaN</td>\n",
       "    </tr>\n",
       "    <tr>\n",
       "      <th>22332</th>\n",
       "      <td>200318.0</td>\n",
       "      <td>43.0</td>\n",
       "      <td>50.0</td>\n",
       "      <td>0.0</td>\n",
       "      <td>80.0</td>\n",
       "      <td>0.0</td>\n",
       "      <td>0.30</td>\n",
       "      <td>-0.047702</td>\n",
       "      <td>-0.047702</td>\n",
       "      <td>0.002100</td>\n",
       "      <td>-1.040907</td>\n",
       "    </tr>\n",
       "    <tr>\n",
       "      <th>22333</th>\n",
       "      <td>200318.0</td>\n",
       "      <td>44.0</td>\n",
       "      <td>50.0</td>\n",
       "      <td>0.0</td>\n",
       "      <td>80.0</td>\n",
       "      <td>0.0</td>\n",
       "      <td>0.30</td>\n",
       "      <td>0.013179</td>\n",
       "      <td>0.013179</td>\n",
       "      <td>0.007045</td>\n",
       "      <td>0.157013</td>\n",
       "    </tr>\n",
       "  </tbody>\n",
       "</table>\n",
       "<p>22334 rows × 11 columns</p>\n",
       "</div>"
      ],
      "text/plain": [
       "        session  channel  bin_width  delay  num_freqs  tmin  tmax  strf_corr  \\\n",
       "0      180413.0      0.0       20.0    0.0       80.0   0.0  0.01   0.036987   \n",
       "1      180413.0      1.0       20.0    0.0       80.0   0.0  0.01  -0.001129   \n",
       "2      180413.0      2.0       20.0    0.0       80.0   0.0  0.01  -0.054922   \n",
       "3      180413.0      3.0       20.0    0.0       80.0   0.0  0.01   0.009293   \n",
       "4      180413.0      4.0       20.0    0.0       80.0   0.0  0.01  -0.038279   \n",
       "...         ...      ...        ...    ...        ...   ...   ...        ...   \n",
       "22329  200318.0     40.0       50.0    0.0       80.0   0.0  0.30  -0.086681   \n",
       "22330  200318.0     41.0       50.0    0.0       80.0   0.0  0.30  -0.066152   \n",
       "22331  200318.0     42.0       50.0    0.0       80.0   0.0  0.30   0.035989   \n",
       "22332  200318.0     43.0       50.0    0.0       80.0   0.0  0.30  -0.047702   \n",
       "22333  200318.0     44.0       50.0    0.0       80.0   0.0  0.30   0.013179   \n",
       "\n",
       "       test_cc_raw  normalizer  normalized_test_cc  \n",
       "0         0.036987    0.012303            0.333456  \n",
       "1        -0.001129   -0.006701                 NaN  \n",
       "2        -0.054922    0.006253           -0.694538  \n",
       "3         0.009293   -0.004253                 NaN  \n",
       "4        -0.038279   -0.019774                 NaN  \n",
       "...            ...         ...                 ...  \n",
       "22329    -0.086681    0.013082           -0.757873  \n",
       "22330    -0.066152   -0.007986                 NaN  \n",
       "22331     0.035989   -0.000663                 NaN  \n",
       "22332    -0.047702    0.002100           -1.040907  \n",
       "22333     0.013179    0.007045            0.157013  \n",
       "\n",
       "[22334 rows x 11 columns]"
      ]
     },
     "execution_count": 16,
     "metadata": {},
     "output_type": "execute_result"
    }
   ],
   "source": [
    "strf_obj.data"
   ]
  },
  {
   "cell_type": "code",
   "execution_count": 5,
   "metadata": {},
   "outputs": [
    {
     "name": "stdout",
     "output_type": "stream",
     "text": [
      "Using default normalizer file...\n",
      "Creating normalizer object from: modified_bins_normalizer.csv\n",
      "Reading existing dataframe.\n",
      "Reading exisiting normalizer thresholds...\n"
     ]
    }
   ],
   "source": [
    "\n",
    "\n",
    "from auditory_cortex.analyses import STRFCorrelations\n",
    "STRF_results_identifier='STRF_freqs80_all_lags'\n",
    "strf_obj = STRFCorrelations(STRF_results_identifier)\n",
    "\n",
    "\n",
    "threshold= strf_obj.get_normalizer_threshold(\n",
    "    bin_width=bin_width, poisson_normalizer=True\n",
    ")\n",
    "\n",
    "baseline_dist = strf_obj.get_corr_for_area(\n",
    "    neural_area=area, bin_width=bin_width, delay=delay,\n",
    "    threshold=threshold, normalized=normalized, lag=None,   # saying lag=0.3\n",
    ")"
   ]
  },
  {
   "cell_type": "code",
   "execution_count": 6,
   "metadata": {},
   "outputs": [
    {
     "data": {
      "text/plain": [
       "(241,)"
      ]
     },
     "execution_count": 6,
     "metadata": {},
     "output_type": "execute_result"
    }
   ],
   "source": [
    "baseline_dist.values.shape"
   ]
  },
  {
   "cell_type": "code",
   "execution_count": 7,
   "metadata": {},
   "outputs": [
    {
     "data": {
      "text/plain": [
       "20727   NaN\n",
       "20731   NaN\n",
       "20745   NaN\n",
       "20746   NaN\n",
       "20747   NaN\n",
       "         ..\n",
       "22261   NaN\n",
       "22262   NaN\n",
       "22263   NaN\n",
       "22264   NaN\n",
       "22284   NaN\n",
       "Name: normalized_test_cc, Length: 241, dtype: float64"
      ]
     },
     "execution_count": 7,
     "metadata": {},
     "output_type": "execute_result"
    }
   ],
   "source": [
    "baseline_dist"
   ]
  },
  {
   "cell_type": "markdown",
   "metadata": {},
   "source": [
    "### Cross-validation over lags.."
   ]
  },
  {
   "cell_type": "code",
   "execution_count": null,
   "metadata": {},
   "outputs": [],
   "source": []
  },
  {
   "cell_type": "markdown",
   "metadata": {},
   "source": [
    "### creating baseline correlations class..."
   ]
  },
  {
   "cell_type": "code",
   "execution_count": 51,
   "metadata": {},
   "outputs": [],
   "source": [
    "import os\n",
    "import yaml\n",
    "import pickle\n",
    "import numpy as np\n",
    "import pandas as pd\n",
    "import scipy as scp\n",
    "# import seaborn as sns\n",
    "import matplotlib as mpl\n",
    "# import plotly.express as px\n",
    "from scipy.io import wavfile\n",
    "import matplotlib.pyplot as plt\n",
    "from matplotlib.lines import Line2D\n",
    "# from sklearn.decomposition import PCA\n",
    "\n",
    "from palettable.colorbrewer import qualitative\n",
    "\n",
    "#local \n",
    "import auditory_cortex.utils as utils\n",
    "from auditory_cortex.utils import CorrelationUtils\n",
    "from auditory_cortex.neural_data import NeuralMetaData\n",
    "from auditory_cortex.neural_data.normalizer import Normalizer\n",
    "from auditory_cortex import session_to_coordinates, session_to_subject, session_to_area#, CMAP_2D\n",
    "from auditory_cortex import saved_corr_dir, aux_dir\n",
    "from auditory_cortex.io_utils import io\n",
    "\n",
    "class BaseCorrelations:\n",
    "    def __init__(\n",
    "            self, model_name, normalizer_filename=None, third=None\n",
    "        ) -> None:\n",
    "        \n",
    "        self.model = model_name\n",
    "        filename = f'{model_name}_corr_results.csv'\n",
    "        self.corr_file_path = os.path.join(saved_corr_dir, filename)\n",
    "        self.metadata = NeuralMetaData()\n",
    "        self.norm_obj = Normalizer(normalizer_filename)\n",
    "\n",
    "        self.data = pd.read_csv(self.corr_file_path)\n",
    "        # check if 'test_cc_raw' not one of the columns\n",
    "        # this will be the case for STRF correlations\n",
    "        # in that case, copy 'strf_corr' to 'test_cc_raw'\n",
    "        if 'test_cc_raw' not in self.data.columns:\n",
    "            self.data['test_cc_raw'] = self.data['strf_corr']\n",
    "            print(f\"'test_cc_raw added as a column..!\")\n",
    "        \n",
    "        if 'normalizer' not in self.data.columns:\n",
    "            self.data.loc[:, 'normalizer'] = np.nan\n",
    "            self.set_normalizers()\n",
    "\n",
    "\n",
    "    def get_selected_data(\n",
    "                self, sessions: list=None, bin_width=None, delay=None, channel=None\n",
    "        ):\n",
    "        \"\"\"Retrieves selected data based on provided arguments. \n",
    "        If an argument if 'None', no filter is applied on that column.\n",
    "\n",
    "        Args:\n",
    "            sessions: list of ints = list of sessions IDs to get data for.\n",
    "            bin_width: int = bin_width in ms.\n",
    "            delay: int = delay in ms.\n",
    "        \n",
    "        Returns:\n",
    "            pandas DataFrame\n",
    "        \"\"\"\n",
    "        select_data = self.data\n",
    "        if bin_width is not None:\n",
    "            select_data = select_data[select_data['bin_width']==float(bin_width)]\n",
    "        \n",
    "        if delay is not None:\n",
    "            select_data = select_data[select_data['delay']==float(delay)]\n",
    "        \n",
    "        if channel is not None:\n",
    "            select_data = select_data[select_data['channel']==float(channel)]\n",
    "\n",
    "        if sessions is not None:\n",
    "            session_data = []\n",
    "            # sessions is a list...\n",
    "            for session in sessions:\n",
    "                session_data.append(select_data[\n",
    "                        (select_data['session']==float(session))\n",
    "                    ])\n",
    "            select_data = pd.concat(session_data)\n",
    "        return select_data\n",
    "\n",
    "\n",
    "# ------------------  Retrieve data for analysis ----------------#\n",
    "\n",
    "    def get_normalizer_threshold(self, bin_width=20, poisson_normalizer=True):\n",
    "        \"\"\"Retrieves significance threshold from the NULL distribution\n",
    "        of normalizer.\n",
    "        \"\"\"\n",
    "        threshold_dict = io.read_normalizer_threshold(\n",
    "            bin_width=bin_width, poisson_normalizer=poisson_normalizer\n",
    "            )\n",
    "        if threshold_dict is None or bin_width not in threshold_dict.keys():\n",
    "            if poisson_normalizer:\n",
    "                threshold = self.norm_obj.compute_normalizer_threshold_using_poisson(bin_width=bin_width)[0]\n",
    "            else:\n",
    "                threshold = self.norm_obj.compute_normalizer_threshold(bin_width=bin_width)[0]\n",
    "\n",
    "            io.write_normalizer_threshold(\n",
    "                bin_width=bin_width, poisson_normalizer=poisson_normalizer,\n",
    "                thresholds=threshold\n",
    "            )\n",
    "            return threshold\n",
    "        else:\n",
    "            return threshold_dict[bin_width]\n",
    "\n",
    "\n",
    "\n",
    "    # ------------------  copy normalizer for all bin-widths ----------------#\n",
    "    def set_normalizers(self, bin_widths: list=None):\n",
    "        \"\"\"Set normalizers (repeatability correlations) from the saved results.\n",
    "        \"\"\"\n",
    "        if bin_widths is None:\n",
    "            bin_widths = self.data['bin_width'].unique()\n",
    "        for bin_width in bin_widths:\n",
    "            select_data = self.get_selected_data(bin_width=bin_width)\n",
    "            sessions = select_data['session'].unique()\n",
    "            delays = select_data['delay'].unique()\n",
    "            for session in sessions:\n",
    "                for delay in delays:\n",
    "                    select_data = self.get_selected_data(\n",
    "                        sessions=[session], bin_width=bin_width, delay=delay\n",
    "                    )\n",
    "                    channels = select_data['channel'].unique()\n",
    "                    selected_normalizers = self.norm_obj.get_normalizer_for_session(\n",
    "                        session=session, bin_width=bin_width, delay=delay\n",
    "                        )\n",
    "                    for ch in channels:\n",
    "                        ids = select_data[select_data['channel']==ch].index\n",
    "                        ch_normalizer = selected_normalizers[\n",
    "                                selected_normalizers['channel']==ch\n",
    "                            ]['normalizer'].head(1).item()\n",
    "                        self.data.loc[ids, 'normalizer'] = ch_normalizer #/0.82   # adjusting for context..\n",
    "\n",
    "        self.data['normalized_test_cc'] = self.data['test_cc_raw']/(self.data['normalizer'].apply(np.sqrt))\n",
    "        print(f\"Normalizers updated FOR CONTEXT AS WELL, writing back now...\")\n",
    "        self.write_back()\n",
    "\n",
    "    def write_back(self):\n",
    "        \"\"\"Saves the updated dataframe to disk.\"\"\"\n",
    "        self.data.to_csv(self.corr_file_path, index=False)\n",
    "        print(f\"Saved at {self.corr_file_path}\")\n",
    "\n",
    "\n",
    "    @staticmethod\n",
    "    def merge_correlation_results(model_name, identifiers_list, output_id, output_identifier=None):\n",
    "        \"\"\"\n",
    "        Args:\n",
    "\n",
    "            model_name: Name of the pre-trained network\n",
    "            file_identifiers: List of filename identifiers \n",
    "            idx:    id of the file identifier to use for saving the merged results\n",
    "            output_identifier: if output_identifier is given, it takes preference..\n",
    "        \"\"\"\n",
    "        # results_dir = '/depot/jgmakin/data/auditory_cortex/correlation_results/cross_validated_correlations'\n",
    "\n",
    "        corr_dfs = []\n",
    "        for identifier in identifiers_list:\n",
    "            filename = f\"{model_name}_{identifier}_corr_results.csv\"\n",
    "            file_path = os.path.join(saved_corr_dir, filename)\n",
    "\n",
    "            corr_dfs.append(pd.read_csv(file_path))\n",
    "\n",
    "        # save the merged results at the very first filename...\n",
    "        if output_identifier is None:\n",
    "            output_identifier = identifiers_list[output_id]    \n",
    "        filename = f\"{model_name}_{output_identifier}_corr_results.csv\"\n",
    "        file_path = os.path.join(saved_corr_dir, filename)\n",
    "\n",
    "        data = pd.concat(corr_dfs)\n",
    "        data.to_csv(file_path, index=False)\n",
    "        print(f\"Output saved at: \\n {file_path}\")\n",
    "\n",
    "        # once all the files have been merged, remove the files..\n",
    "        for identifier in identifiers_list:\n",
    "            if identifier != output_identifier:\n",
    "                filename = f\"{model_name}_{identifier}_corr_results.csv\"\n",
    "                file_path = os.path.join(saved_corr_dir, filename)\n",
    "                # remove the file\n",
    "                os.remove(file_path)\n",
    "\n",
    "\n",
    "\n",
    "class STRFCorrelations(BaseCorrelations):\n",
    "    def __init__(\n",
    "            self, identifier = None, third=None, normalizer_filename=None,\n",
    "            \n",
    "        ) -> None:\n",
    "        if identifier is None:\n",
    "            model_name = f'STRF_freqs80_all_lags'\n",
    "        else:\n",
    "            model_name = f'STRF_{identifier}'\n",
    "        super().__init__(model_name, third, normalizer_filename)\n",
    "\n",
    "\n",
    "    def get_correlations(\n",
    "            self, sessions:list=None, bin_width=20, delay=0,\n",
    "            threshold=None, lag=None, normalized=True\n",
    "        ):\n",
    "        \"\"\"Retrieves the column of correlations (normalized or un-normalized), for the\n",
    "        given selections filters.\n",
    "        \"\"\"\n",
    "        \n",
    "        column='test_cc_raw'\n",
    "        if normalized:\n",
    "            column = 'normalized_test_cc'\n",
    "\n",
    "        selected_data = self.get_selected_data(\n",
    "            sessions=sessions, bin_width=bin_width, delay=delay\n",
    "        )\n",
    "        if threshold is not None:\n",
    "            selected_data = selected_data[\n",
    "                (selected_data['normalizer']>=threshold)\n",
    "            ]\n",
    "        if lag is not None:\n",
    "            selected_data = selected_data[\n",
    "                (selected_data['tmax']==lag)\n",
    "            ]\n",
    "\n",
    "        return selected_data[column]\n",
    "    \n",
    "    def get_corr_for_area(\n",
    "            self, neural_area='core',bin_width=20, delay=0,\n",
    "            threshold=0.068, lag=None, normalized=True\n",
    "        ):\n",
    "        \"\"\"Retrieves baseline correlations for all sig. sessions.\"\"\"\n",
    "        area_sessions = self.metadata.get_all_sessions(neural_area)\n",
    "\n",
    "        corr_dist = self.get_correlations(\n",
    "            sessions=area_sessions, bin_width=bin_width, delay=delay,\n",
    "            threshold=threshold, lag=lag, normalized=normalized\n",
    "        )\n",
    "        return corr_dist\n",
    "\n",
    "\n",
    "\n",
    "\n",
    "    @staticmethod\n",
    "    def combine_and_ready(\n",
    "            model_name, identifiers_list, output_id, normalizer_filename=None,\n",
    "            output_identifier=None\n",
    "        ):\n",
    "        \"\"\"Merges results for all identifiers, copies layer types and\n",
    "        sets normalizer.\"\"\"\n",
    "\n",
    "        BaseCorrelations.merge_correlation_results(\n",
    "                model_name=model_name,\n",
    "                identifiers_list=identifiers_list,\n",
    "                output_id=output_id,\n",
    "                output_identifier=output_identifier\n",
    "            )\n",
    "        \n",
    "        if output_identifier is None:\n",
    "            output_identifier = identifiers_list[output_id]\n",
    "\n",
    "\n",
    "        res = model_name + '_' + output_identifier\n",
    "        corr_obj = STRFCorrelations(res, normalizer_filename=normalizer_filename)\n",
    "        corr_obj.set_normalizers()\n",
    "\n",
    "    "
   ]
  },
  {
   "cell_type": "code",
   "execution_count": 48,
   "metadata": {},
   "outputs": [
    {
     "name": "stdout",
     "output_type": "stream",
     "text": [
      "Using default normalizer file...\n",
      "Creating normalizer object from: modified_bins_normalizer.csv\n",
      "Reading existing dataframe.\n"
     ]
    }
   ],
   "source": [
    "# model_name = 'wav2letter_modified_trained_all_bins'\n",
    "# model_name = 'STRF'\n",
    "id = '100ms'\n",
    "\n",
    "num_freqs = 80\n",
    "model_name = f'STRF_freqs{num_freqs}_{id}'\n",
    "corr = STRFCorrelations(\n",
    "    model_name=model_name\n",
    ")"
   ]
  },
  {
   "cell_type": "code",
   "execution_count": null,
   "metadata": {},
   "outputs": [],
   "source": []
  },
  {
   "cell_type": "code",
   "execution_count": 53,
   "metadata": {},
   "outputs": [],
   "source": [
    "from auditory_cortex.plotters.plotter_utils import PlotterUtils\n",
    "from auditory_cortex.plotters.correlation_plotter import RegPlotter\n",
    "bin_width = 20\n",
    "area='all'\n",
    "delay = 0\n",
    "normalized=True\n",
    "display_dotted_lines = True\n",
    "display_inter_quartile_range = True\n",
    "ax = None\n",
    "alpha = 0.1\n",
    "lag = 0.3"
   ]
  },
  {
   "cell_type": "code",
   "execution_count": 89,
   "metadata": {},
   "outputs": [
    {
     "name": "stdout",
     "output_type": "stream",
     "text": [
      "Using default normalizer file...\n",
      "Creating normalizer object from: modified_bins_normalizer.csv\n",
      "Reading existing dataframe.\n",
      "Reading exisiting normalizer thresholds...\n",
      "Number of samples in distribution: 216\n",
      "model_name 'STRF' not recognizable!!!\n",
      "Peak corr (median): 0.3951477225324669, occurs at x_coordinate: 0\n",
      "Peak corr (max): 1.023537619399506, occurs at x_coordinate: 0\n",
      "[]\n"
     ]
    },
    {
     "data": {
      "text/plain": [
       "Text(0.5, 0, '   ')"
      ]
     },
     "execution_count": 89,
     "metadata": {},
     "output_type": "execute_result"
    },
    {
     "data": {
      "image/png": "[encoded data removed]",
      "text/plain": [
       "<Figure size 432x288 with 1 Axes>"
      ]
     },
     "metadata": {
      "needs_background": "light"
     },
     "output_type": "display_data"
    }
   ],
   "source": [
    "lag = 0.3\n",
    "id = '100ms'\n",
    "num_freqs = 80\n",
    "model_name = f'STRF_freqs{num_freqs}_{id}'\n",
    "\n",
    "corr_obj = STRFCorrelations(model_name)\n",
    "threshold= corr_obj.get_normalizer_threshold(\n",
    "    bin_width=bin_width, poisson_normalizer=True\n",
    ")\n",
    "baseline_dist_all_lags = {}\n",
    "if lag is None:\n",
    "    lags = np.sort(corr_obj.data['tmax'].unique())\n",
    "    x_ticks = np.arange(len(lags))\n",
    "    xtick_labels = list(lags)\n",
    "    for i, lag in enumerate(lags):\n",
    "        baseline_dist = corr_obj.get_corr_for_area(\n",
    "            neural_area=area, bin_width=bin_width, delay=delay,\n",
    "            threshold=threshold, normalized=normalized, lag=lag,\n",
    "        )\n",
    "        key = x_ticks[i]\n",
    "        baseline_dist_all_lags[key] = baseline_dist\n",
    "\n",
    "        print(f\"Number of samples in distribution: {baseline_dist.size}\")           \n",
    "\n",
    "else:\n",
    "    x_ticks = [0,1]\n",
    "    xtick_labels = []\n",
    "    # get baseline results..        \n",
    "    baseline_dist = corr_obj.get_corr_for_area(\n",
    "        neural_area=area, bin_width=bin_width, delay=delay,\n",
    "        threshold=threshold, normalized=normalized, lag=lag,\n",
    "    )\n",
    "    print(f\"Number of samples in distribution: {baseline_dist.size}\")           \n",
    "    # repeating baseline distribution, to allow plotting horizontal line..\n",
    "    baseline_dist_all_lags = {key: baseline_dist.values for key in x_ticks}\n",
    "\n",
    "# plotting the baseline..\n",
    "model_name = 'STRF'\n",
    "baseline_color = PlotterUtils.get_model_specific_color(model_name)\n",
    "ax=RegPlotter.plot_line_with_shaded_region(data_dict=baseline_dist_all_lags,\n",
    "                    color=baseline_color, alpha=alpha, #ax=ax,\n",
    "                    display_dotted_lines=display_dotted_lines,\n",
    "                    display_inter_quartile_range=display_inter_quartile_range\n",
    "                    )\n",
    "\n",
    "plt.ylabel(f\"$\\\\rho$\")\n",
    "# plt.ylim([0.0, 1.0])\n",
    "ax.set_xticks(x_ticks)\n",
    "ax.set_xticklabels(xtick_labels)\n",
    "\n",
    "\n",
    "        ## formatting the plot...\n",
    "plt.title(f\"{model_name}\")\n",
    "plt.xlabel(f\"   \")\n"
   ]
  },
  {
   "cell_type": "code",
   "execution_count": 85,
   "metadata": {},
   "outputs": [
    {
     "data": {
      "text/plain": [
       "[0.1, 0.2, 0.3, 0.4, 0.5, 0.6]"
      ]
     },
     "execution_count": 85,
     "metadata": {},
     "output_type": "execute_result"
    }
   ],
   "source": [
    "list(lags)"
   ]
  },
  {
   "cell_type": "code",
   "execution_count": 59,
   "metadata": {},
   "outputs": [
    {
     "data": {
      "text/plain": [
       "0.4010548043331996"
      ]
     },
     "execution_count": 59,
     "metadata": {},
     "output_type": "execute_result"
    }
   ],
   "source": [
    "np.median(baseline_dist)"
   ]
  },
  {
   "cell_type": "code",
   "execution_count": null,
   "metadata": {},
   "outputs": [],
   "source": []
  },
  {
   "cell_type": "code",
   "execution_count": 68,
   "metadata": {},
   "outputs": [
    {
     "data": {
      "text/plain": [
       "3011    0.275440\n",
       "3012    0.465436\n",
       "3013    0.315231\n",
       "3014    0.460447\n",
       "3015    0.407403\n",
       "          ...   \n",
       "3070    0.677462\n",
       "3071    0.640780\n",
       "3072    0.463671\n",
       "3073    0.724969\n",
       "3074    0.739757\n",
       "Name: normalized_test_cc, Length: 64, dtype: float64"
      ]
     },
     "execution_count": 68,
     "metadata": {},
     "output_type": "execute_result"
    }
   ],
   "source": [
    "corr.get_correlations(\n",
    "    [200206], bin_width=20, delay=0, threshold=0.0, lag=0.2\n",
    ")"
   ]
  },
  {
   "cell_type": "code",
   "execution_count": 71,
   "metadata": {},
   "outputs": [
    {
     "data": {
      "text/plain": [
       "array([0.1, 0.2, 0.3, 0.4, 0.5, 0.6])"
      ]
     },
     "execution_count": 71,
     "metadata": {},
     "output_type": "execute_result"
    }
   ],
   "source": [
    "np.sort(corr.data['tmax'].unique())"
   ]
  },
  {
   "cell_type": "markdown",
   "metadata": {},
   "source": [
    "### merge results.."
   ]
  },
  {
   "cell_type": "code",
   "execution_count": 9,
   "metadata": {},
   "outputs": [
    {
     "name": "stdout",
     "output_type": "stream",
     "text": [
      "Combining results...\n",
      "Output saved at: \n",
      " /depot/jgmakin/data/auditory_cortex/results/cross_validated_correlations/STRF_freqs80_all_lags_corr_results.csv\n",
      "Updating Normalizer...!\n",
      "Using default normalizer file...\n",
      "Creating normalizer object from: modified_bins_normalizer.csv\n",
      "Reading existing dataframe.\n",
      "Normalizers updated FOR CONTEXT AS WELL, writing back now...\n",
      "Saved at /depot/jgmakin/data/auditory_cortex/results/cross_validated_correlations/STRF_freqs80_all_lags_corr_results.csv\n"
     ]
    }
   ],
   "source": [
    "from auditory_cortex.analyses import STRFCorrelations\n",
    "model_name = 'STRF'\n",
    "identifiers = [\n",
    "    'freqs80_all_lags',\n",
    "    'freqs80_bw50',\n",
    "    # 'freqs80_5ms',\n",
    "    # 'freqs80_20ms',\n",
    "    # 'freqs80_40ms',\n",
    "    # 'freqs80_60ms',\n",
    "    # 'freqs80_80ms',\n",
    "]\n",
    "# output_identifier = 'freqs80_all_lags'\n",
    "\n",
    "#### STRF_freqs80_100ms has results for the lags [100, 200, 300, 400, 500, 600]\n",
    "####\n",
    "\n",
    "STRFCorrelations.combine_and_ready(\n",
    "    model_name=model_name, identifiers_list=identifiers, output_id=0,\n",
    "    #   output_identifier=output_identifier\n",
    ")\n",
    "# BaseCorrelations.merge_correlation_results(\n",
    "#     model_name=model_name, identifiers_list=identifiers, output_id=0, output_identifier=output_identifier\n",
    "# )\n"
   ]
  },
  {
   "cell_type": "code",
   "execution_count": 22,
   "metadata": {},
   "outputs": [
    {
     "data": {
      "text/html": [
       "<div>\n",
       "<style scoped>\n",
       "    .dataframe tbody tr th:only-of-type {\n",
       "        vertical-align: middle;\n",
       "    }\n",
       "\n",
       "    .dataframe tbody tr th {\n",
       "        vertical-align: top;\n",
       "    }\n",
       "\n",
       "    .dataframe thead th {\n",
       "        text-align: right;\n",
       "    }\n",
       "</style>\n",
       "<table border=\"1\" class=\"dataframe\">\n",
       "  <thead>\n",
       "    <tr style=\"text-align: right;\">\n",
       "      <th></th>\n",
       "      <th>session</th>\n",
       "      <th>channel</th>\n",
       "      <th>bin_width</th>\n",
       "      <th>delay</th>\n",
       "      <th>num_freqs</th>\n",
       "      <th>tmin</th>\n",
       "      <th>tmax</th>\n",
       "      <th>strf_corr</th>\n",
       "      <th>test_cc_raw</th>\n",
       "      <th>normalizer</th>\n",
       "      <th>normalized_test_cc</th>\n",
       "    </tr>\n",
       "  </thead>\n",
       "  <tbody>\n",
       "    <tr>\n",
       "      <th>0</th>\n",
       "      <td>180413.0</td>\n",
       "      <td>0.0</td>\n",
       "      <td>20.0</td>\n",
       "      <td>0.0</td>\n",
       "      <td>80.0</td>\n",
       "      <td>0.0</td>\n",
       "      <td>0.2</td>\n",
       "      <td>-0.018500</td>\n",
       "      <td>-0.018500</td>\n",
       "      <td>0.012303</td>\n",
       "      <td>-0.166784</td>\n",
       "    </tr>\n",
       "    <tr>\n",
       "      <th>1</th>\n",
       "      <td>180413.0</td>\n",
       "      <td>1.0</td>\n",
       "      <td>20.0</td>\n",
       "      <td>0.0</td>\n",
       "      <td>80.0</td>\n",
       "      <td>0.0</td>\n",
       "      <td>0.2</td>\n",
       "      <td>0.040285</td>\n",
       "      <td>0.040285</td>\n",
       "      <td>-0.006701</td>\n",
       "      <td>NaN</td>\n",
       "    </tr>\n",
       "    <tr>\n",
       "      <th>2</th>\n",
       "      <td>180413.0</td>\n",
       "      <td>2.0</td>\n",
       "      <td>20.0</td>\n",
       "      <td>0.0</td>\n",
       "      <td>80.0</td>\n",
       "      <td>0.0</td>\n",
       "      <td>0.2</td>\n",
       "      <td>-0.048404</td>\n",
       "      <td>-0.048404</td>\n",
       "      <td>0.006253</td>\n",
       "      <td>-0.612122</td>\n",
       "    </tr>\n",
       "    <tr>\n",
       "      <th>3</th>\n",
       "      <td>180413.0</td>\n",
       "      <td>3.0</td>\n",
       "      <td>20.0</td>\n",
       "      <td>0.0</td>\n",
       "      <td>80.0</td>\n",
       "      <td>0.0</td>\n",
       "      <td>0.2</td>\n",
       "      <td>0.044913</td>\n",
       "      <td>0.044913</td>\n",
       "      <td>-0.004253</td>\n",
       "      <td>NaN</td>\n",
       "    </tr>\n",
       "    <tr>\n",
       "      <th>4</th>\n",
       "      <td>180413.0</td>\n",
       "      <td>4.0</td>\n",
       "      <td>20.0</td>\n",
       "      <td>0.0</td>\n",
       "      <td>80.0</td>\n",
       "      <td>0.0</td>\n",
       "      <td>0.2</td>\n",
       "      <td>0.011424</td>\n",
       "      <td>0.011424</td>\n",
       "      <td>-0.019774</td>\n",
       "      <td>NaN</td>\n",
       "    </tr>\n",
       "    <tr>\n",
       "      <th>...</th>\n",
       "      <td>...</td>\n",
       "      <td>...</td>\n",
       "      <td>...</td>\n",
       "      <td>...</td>\n",
       "      <td>...</td>\n",
       "      <td>...</td>\n",
       "      <td>...</td>\n",
       "      <td>...</td>\n",
       "      <td>...</td>\n",
       "      <td>...</td>\n",
       "      <td>...</td>\n",
       "    </tr>\n",
       "    <tr>\n",
       "      <th>3431</th>\n",
       "      <td>200318.0</td>\n",
       "      <td>40.0</td>\n",
       "      <td>20.0</td>\n",
       "      <td>0.0</td>\n",
       "      <td>80.0</td>\n",
       "      <td>0.0</td>\n",
       "      <td>0.3</td>\n",
       "      <td>-0.038505</td>\n",
       "      <td>-0.038505</td>\n",
       "      <td>0.010472</td>\n",
       "      <td>-0.376268</td>\n",
       "    </tr>\n",
       "    <tr>\n",
       "      <th>3432</th>\n",
       "      <td>200318.0</td>\n",
       "      <td>41.0</td>\n",
       "      <td>20.0</td>\n",
       "      <td>0.0</td>\n",
       "      <td>80.0</td>\n",
       "      <td>0.0</td>\n",
       "      <td>0.3</td>\n",
       "      <td>-0.093023</td>\n",
       "      <td>-0.093023</td>\n",
       "      <td>-0.006748</td>\n",
       "      <td>NaN</td>\n",
       "    </tr>\n",
       "    <tr>\n",
       "      <th>3433</th>\n",
       "      <td>200318.0</td>\n",
       "      <td>42.0</td>\n",
       "      <td>20.0</td>\n",
       "      <td>0.0</td>\n",
       "      <td>80.0</td>\n",
       "      <td>0.0</td>\n",
       "      <td>0.3</td>\n",
       "      <td>0.027233</td>\n",
       "      <td>0.027233</td>\n",
       "      <td>-0.002358</td>\n",
       "      <td>NaN</td>\n",
       "    </tr>\n",
       "    <tr>\n",
       "      <th>3434</th>\n",
       "      <td>200318.0</td>\n",
       "      <td>43.0</td>\n",
       "      <td>20.0</td>\n",
       "      <td>0.0</td>\n",
       "      <td>80.0</td>\n",
       "      <td>0.0</td>\n",
       "      <td>0.3</td>\n",
       "      <td>-0.071272</td>\n",
       "      <td>-0.071272</td>\n",
       "      <td>-0.007007</td>\n",
       "      <td>NaN</td>\n",
       "    </tr>\n",
       "    <tr>\n",
       "      <th>3435</th>\n",
       "      <td>200318.0</td>\n",
       "      <td>44.0</td>\n",
       "      <td>20.0</td>\n",
       "      <td>0.0</td>\n",
       "      <td>80.0</td>\n",
       "      <td>0.0</td>\n",
       "      <td>0.3</td>\n",
       "      <td>-0.002285</td>\n",
       "      <td>-0.002285</td>\n",
       "      <td>-0.006242</td>\n",
       "      <td>NaN</td>\n",
       "    </tr>\n",
       "  </tbody>\n",
       "</table>\n",
       "<p>3436 rows × 11 columns</p>\n",
       "</div>"
      ],
      "text/plain": [
       "       session  channel  bin_width  delay  num_freqs  tmin  tmax  strf_corr  \\\n",
       "0     180413.0      0.0       20.0    0.0       80.0   0.0   0.2  -0.018500   \n",
       "1     180413.0      1.0       20.0    0.0       80.0   0.0   0.2   0.040285   \n",
       "2     180413.0      2.0       20.0    0.0       80.0   0.0   0.2  -0.048404   \n",
       "3     180413.0      3.0       20.0    0.0       80.0   0.0   0.2   0.044913   \n",
       "4     180413.0      4.0       20.0    0.0       80.0   0.0   0.2   0.011424   \n",
       "...        ...      ...        ...    ...        ...   ...   ...        ...   \n",
       "3431  200318.0     40.0       20.0    0.0       80.0   0.0   0.3  -0.038505   \n",
       "3432  200318.0     41.0       20.0    0.0       80.0   0.0   0.3  -0.093023   \n",
       "3433  200318.0     42.0       20.0    0.0       80.0   0.0   0.3   0.027233   \n",
       "3434  200318.0     43.0       20.0    0.0       80.0   0.0   0.3  -0.071272   \n",
       "3435  200318.0     44.0       20.0    0.0       80.0   0.0   0.3  -0.002285   \n",
       "\n",
       "      test_cc_raw  normalizer  normalized_test_cc  \n",
       "0       -0.018500    0.012303           -0.166784  \n",
       "1        0.040285   -0.006701                 NaN  \n",
       "2       -0.048404    0.006253           -0.612122  \n",
       "3        0.044913   -0.004253                 NaN  \n",
       "4        0.011424   -0.019774                 NaN  \n",
       "...           ...         ...                 ...  \n",
       "3431    -0.038505    0.010472           -0.376268  \n",
       "3432    -0.093023   -0.006748                 NaN  \n",
       "3433     0.027233   -0.002358                 NaN  \n",
       "3434    -0.071272   -0.007007                 NaN  \n",
       "3435    -0.002285   -0.006242                 NaN  \n",
       "\n",
       "[3436 rows x 11 columns]"
      ]
     },
     "execution_count": 22,
     "metadata": {},
     "output_type": "execute_result"
    }
   ],
   "source": [
    "corr.data"
   ]
  },
  {
   "cell_type": "markdown",
   "metadata": {},
   "source": [
    "### Baseline distribution..."
   ]
  },
  {
   "cell_type": "code",
   "execution_count": 13,
   "metadata": {},
   "outputs": [],
   "source": [
    "from auditory_cortex.analyses.regression_correlations import Correlations\n",
    "from auditory_cortex.plotters.plotter_utils import PlotterUtils\n",
    "from auditory_cortex.plotters.correlation_plotter import RegPlotter"
   ]
  },
  {
   "cell_type": "code",
   "execution_count": 5,
   "metadata": {},
   "outputs": [
    {
     "name": "stdout",
     "output_type": "stream",
     "text": [
      "Using default normalizer file...\n",
      "Creating normalizer object from: modified_bins_normalizer.csv\n",
      "Reading existing dataframe.\n"
     ]
    }
   ],
   "source": [
    "model_name = 'wav2letter_modified'\n",
    "identifier = 'trained_all_bins'\n",
    "\n",
    "corr_obj = Correlations(model_name+'_'+identifier)"
   ]
  },
  {
   "cell_type": "code",
   "execution_count": 7,
   "metadata": {},
   "outputs": [
    {
     "name": "stdout",
     "output_type": "stream",
     "text": [
      "Reading exisiting normalizer thresholds...\n",
      "0.06011905470334845\n"
     ]
    }
   ],
   "source": [
    "area = 'all'\n",
    "bin_width = 20\n",
    "normalized = True\n",
    "threshold = corr_obj.get_normalizer_threshold(bin_width=bin_width)\n",
    "baseline = corr_obj.get_baseline_corr_for_area(\n",
    "    neural_area=area, bin_width=bin_width, threshold=threshold, normalized=normalized)\n",
    "print(threshold)"
   ]
  },
  {
   "cell_type": "code",
   "execution_count": 9,
   "metadata": {},
   "outputs": [],
   "source": [
    "baseline_dist = baseline"
   ]
  },
  {
   "cell_type": "code",
   "execution_count": 24,
   "metadata": {},
   "outputs": [],
   "source": [
    "import matplotlib.pyplot as plt\n",
    "%matplotlib inline\n",
    "alpha = 0.2\n",
    "\n",
    "display_dotted_lines = True\n",
    "display_inter_quartile_range = True"
   ]
  },
  {
   "cell_type": "code",
   "execution_count": 25,
   "metadata": {},
   "outputs": [
    {
     "name": "stdout",
     "output_type": "stream",
     "text": [
      "Number of samples in distribution: 216\n",
      "model_name 'STRF' not recognizable!!!\n",
      "Peak corr (median): 0.3781088243821915, occurs at x_coordinate: 0\n",
      "Peak corr (max): 0.7711718586738501, occurs at x_coordinate: 0\n"
     ]
    },
    {
     "data": {
      "text/plain": [
       "[Text(0, 0, ''), Text(1, 0, '')]"
      ]
     },
     "execution_count": 25,
     "metadata": {},
     "output_type": "execute_result"
    },
    {
     "data": {
      "image/png": "[encoded data removed]",
      "text/plain": [
       "<Figure size 432x288 with 1 Axes>"
      ]
     },
     "metadata": {
      "needs_background": "light"
     },
     "output_type": "display_data"
    }
   ],
   "source": [
    "fig, ax = plt.subplots()\n",
    "\n",
    "xticks = [0,1]\n",
    "xtick_labels = []\n",
    "print(f\"Number of samples in distribution: {baseline_dist.size}\")           \n",
    "# repeating baseline distribution, to allow plotting horizontal line..\n",
    "baseline_dist_all_lags = {key: baseline_dist.values for key in xticks}\n",
    "xtick_labels = []\n",
    "\n",
    "model_name = 'STRF'\n",
    "baseline_color = PlotterUtils.get_model_specific_color(model_name)\n",
    "ax=RegPlotter.plot_line_with_shaded_region(data_dict=baseline_dist_all_lags,\n",
    "                    color=baseline_color, alpha=alpha, ax=ax,\n",
    "                    display_dotted_lines=display_dotted_lines,\n",
    "                    display_inter_quartile_range=display_inter_quartile_range\n",
    "                    )\n",
    "\n",
    "plt.ylabel(f\"$\\\\rho$\")\n",
    "plt.ylim([0.0, 1.0])\n",
    "ax.set_xticks(xticks)\n",
    "ax.set_xticklabels(xtick_labels)\n"
   ]
  },
  {
   "cell_type": "code",
   "execution_count": 75,
   "metadata": {},
   "outputs": [
    {
     "data": {
      "text/plain": [
       "(19,)"
      ]
     },
     "execution_count": 75,
     "metadata": {},
     "output_type": "execute_result"
    }
   ],
   "source": [
    "baseline.shape"
   ]
  },
  {
   "cell_type": "code",
   "execution_count": 32,
   "metadata": {},
   "outputs": [
    {
     "name": "stdout",
     "output_type": "stream",
     "text": [
      "Using default normalizer file...\n",
      "Creating normalizer object from: modified_bins_normalizer.csv\n",
      "Reading existing dataframe.\n"
     ]
    }
   ],
   "source": [
    "corr_obj = Correlations(model_name='STRF')"
   ]
  },
  {
   "cell_type": "code",
   "execution_count": 53,
   "metadata": {},
   "outputs": [
    {
     "data": {
      "text/plain": [
       "(2442, 10)"
      ]
     },
     "execution_count": 53,
     "metadata": {},
     "output_type": "execute_result"
    }
   ],
   "source": [
    "corr_obj.data.shape"
   ]
  },
  {
   "cell_type": "code",
   "execution_count": 4,
   "metadata": {},
   "outputs": [
    {
     "data": {
      "text/html": [
       "<div>\n",
       "<style scoped>\n",
       "    .dataframe tbody tr th:only-of-type {\n",
       "        vertical-align: middle;\n",
       "    }\n",
       "\n",
       "    .dataframe tbody tr th {\n",
       "        vertical-align: top;\n",
       "    }\n",
       "\n",
       "    .dataframe thead th {\n",
       "        text-align: right;\n",
       "    }\n",
       "</style>\n",
       "<table border=\"1\" class=\"dataframe\">\n",
       "  <thead>\n",
       "    <tr style=\"text-align: right;\">\n",
       "      <th></th>\n",
       "      <th>session</th>\n",
       "      <th>channel</th>\n",
       "      <th>bin_width</th>\n",
       "      <th>delay</th>\n",
       "      <th>strf_corr</th>\n",
       "      <th>normalizer</th>\n",
       "      <th>strf_corr_normalized</th>\n",
       "      <th>test_cc_raw</th>\n",
       "      <th>N_sents</th>\n",
       "      <th>normalized_test_cc</th>\n",
       "    </tr>\n",
       "  </thead>\n",
       "  <tbody>\n",
       "    <tr>\n",
       "      <th>0</th>\n",
       "      <td>200206.0</td>\n",
       "      <td>0.0</td>\n",
       "      <td>20.0</td>\n",
       "      <td>0.0</td>\n",
       "      <td>0.118883</td>\n",
       "      <td>0.182100</td>\n",
       "      <td>0.277706</td>\n",
       "      <td>0.118883</td>\n",
       "      <td>500.0</td>\n",
       "      <td>0.278589</td>\n",
       "    </tr>\n",
       "    <tr>\n",
       "      <th>1</th>\n",
       "      <td>200206.0</td>\n",
       "      <td>1.0</td>\n",
       "      <td>20.0</td>\n",
       "      <td>0.0</td>\n",
       "      <td>0.197218</td>\n",
       "      <td>0.221232</td>\n",
       "      <td>0.418575</td>\n",
       "      <td>0.197218</td>\n",
       "      <td>500.0</td>\n",
       "      <td>0.419298</td>\n",
       "    </tr>\n",
       "    <tr>\n",
       "      <th>2</th>\n",
       "      <td>200206.0</td>\n",
       "      <td>2.0</td>\n",
       "      <td>20.0</td>\n",
       "      <td>0.0</td>\n",
       "      <td>0.154856</td>\n",
       "      <td>0.138041</td>\n",
       "      <td>0.415023</td>\n",
       "      <td>0.154856</td>\n",
       "      <td>500.0</td>\n",
       "      <td>0.416795</td>\n",
       "    </tr>\n",
       "    <tr>\n",
       "      <th>3</th>\n",
       "      <td>200206.0</td>\n",
       "      <td>3.0</td>\n",
       "      <td>20.0</td>\n",
       "      <td>0.0</td>\n",
       "      <td>0.331080</td>\n",
       "      <td>0.413360</td>\n",
       "      <td>0.509952</td>\n",
       "      <td>0.331080</td>\n",
       "      <td>500.0</td>\n",
       "      <td>0.514955</td>\n",
       "    </tr>\n",
       "    <tr>\n",
       "      <th>4</th>\n",
       "      <td>200206.0</td>\n",
       "      <td>4.0</td>\n",
       "      <td>20.0</td>\n",
       "      <td>0.0</td>\n",
       "      <td>0.087961</td>\n",
       "      <td>0.122019</td>\n",
       "      <td>0.251256</td>\n",
       "      <td>0.087961</td>\n",
       "      <td>500.0</td>\n",
       "      <td>0.251813</td>\n",
       "    </tr>\n",
       "    <tr>\n",
       "      <th>...</th>\n",
       "      <td>...</td>\n",
       "      <td>...</td>\n",
       "      <td>...</td>\n",
       "      <td>...</td>\n",
       "      <td>...</td>\n",
       "      <td>...</td>\n",
       "      <td>...</td>\n",
       "      <td>...</td>\n",
       "      <td>...</td>\n",
       "      <td>...</td>\n",
       "    </tr>\n",
       "    <tr>\n",
       "      <th>2253</th>\n",
       "      <td>190801.0</td>\n",
       "      <td>59.0</td>\n",
       "      <td>20.0</td>\n",
       "      <td>0.0</td>\n",
       "      <td>0.013906</td>\n",
       "      <td>-0.018708</td>\n",
       "      <td>NaN</td>\n",
       "      <td>0.013906</td>\n",
       "      <td>500.0</td>\n",
       "      <td>NaN</td>\n",
       "    </tr>\n",
       "    <tr>\n",
       "      <th>2254</th>\n",
       "      <td>190801.0</td>\n",
       "      <td>60.0</td>\n",
       "      <td>20.0</td>\n",
       "      <td>0.0</td>\n",
       "      <td>0.018908</td>\n",
       "      <td>-0.005677</td>\n",
       "      <td>NaN</td>\n",
       "      <td>0.018908</td>\n",
       "      <td>500.0</td>\n",
       "      <td>NaN</td>\n",
       "    </tr>\n",
       "    <tr>\n",
       "      <th>2255</th>\n",
       "      <td>190801.0</td>\n",
       "      <td>61.0</td>\n",
       "      <td>20.0</td>\n",
       "      <td>0.0</td>\n",
       "      <td>0.019551</td>\n",
       "      <td>-0.011830</td>\n",
       "      <td>NaN</td>\n",
       "      <td>0.019551</td>\n",
       "      <td>500.0</td>\n",
       "      <td>NaN</td>\n",
       "    </tr>\n",
       "    <tr>\n",
       "      <th>2256</th>\n",
       "      <td>190801.0</td>\n",
       "      <td>62.0</td>\n",
       "      <td>20.0</td>\n",
       "      <td>0.0</td>\n",
       "      <td>0.007693</td>\n",
       "      <td>-0.002653</td>\n",
       "      <td>NaN</td>\n",
       "      <td>0.007693</td>\n",
       "      <td>500.0</td>\n",
       "      <td>NaN</td>\n",
       "    </tr>\n",
       "    <tr>\n",
       "      <th>2257</th>\n",
       "      <td>190801.0</td>\n",
       "      <td>63.0</td>\n",
       "      <td>20.0</td>\n",
       "      <td>0.0</td>\n",
       "      <td>0.032546</td>\n",
       "      <td>0.000545</td>\n",
       "      <td>0.682860</td>\n",
       "      <td>0.032546</td>\n",
       "      <td>500.0</td>\n",
       "      <td>1.394526</td>\n",
       "    </tr>\n",
       "  </tbody>\n",
       "</table>\n",
       "<p>2258 rows × 10 columns</p>\n",
       "</div>"
      ],
      "text/plain": [
       "       session  channel  bin_width  delay  strf_corr  normalizer  \\\n",
       "0     200206.0      0.0       20.0    0.0   0.118883    0.182100   \n",
       "1     200206.0      1.0       20.0    0.0   0.197218    0.221232   \n",
       "2     200206.0      2.0       20.0    0.0   0.154856    0.138041   \n",
       "3     200206.0      3.0       20.0    0.0   0.331080    0.413360   \n",
       "4     200206.0      4.0       20.0    0.0   0.087961    0.122019   \n",
       "...        ...      ...        ...    ...        ...         ...   \n",
       "2253  190801.0     59.0       20.0    0.0   0.013906   -0.018708   \n",
       "2254  190801.0     60.0       20.0    0.0   0.018908   -0.005677   \n",
       "2255  190801.0     61.0       20.0    0.0   0.019551   -0.011830   \n",
       "2256  190801.0     62.0       20.0    0.0   0.007693   -0.002653   \n",
       "2257  190801.0     63.0       20.0    0.0   0.032546    0.000545   \n",
       "\n",
       "      strf_corr_normalized  test_cc_raw  N_sents  normalized_test_cc  \n",
       "0                 0.277706     0.118883    500.0            0.278589  \n",
       "1                 0.418575     0.197218    500.0            0.419298  \n",
       "2                 0.415023     0.154856    500.0            0.416795  \n",
       "3                 0.509952     0.331080    500.0            0.514955  \n",
       "4                 0.251256     0.087961    500.0            0.251813  \n",
       "...                    ...          ...      ...                 ...  \n",
       "2253                   NaN     0.013906    500.0                 NaN  \n",
       "2254                   NaN     0.018908    500.0                 NaN  \n",
       "2255                   NaN     0.019551    500.0                 NaN  \n",
       "2256                   NaN     0.007693    500.0                 NaN  \n",
       "2257              0.682860     0.032546    500.0            1.394526  \n",
       "\n",
       "[2258 rows x 10 columns]"
      ]
     },
     "execution_count": 4,
     "metadata": {},
     "output_type": "execute_result"
    }
   ],
   "source": [
    "corr_obj.data"
   ]
  },
  {
   "cell_type": "code",
   "execution_count": 24,
   "metadata": {},
   "outputs": [
    {
     "name": "stdout",
     "output_type": "stream",
     "text": [
      "Session: 200206.0: num_channels: 63\n",
      "Session: 191206.0: num_channels: 10\n",
      "Session: 180720.0: num_channels: 5\n",
      "Session: 191125.0: num_channels: 11\n",
      "Session: 180731.0: num_channels: 14\n",
      "Session: 180814.0: num_channels: 13\n",
      "Session: 200213.0: num_channels: 14\n",
      "Session: 200207.0: num_channels: 9\n",
      "Session: 191210.0: num_channels: 3\n",
      "Session: 191115.0: num_channels: 4\n",
      "Session: 191113.0: num_channels: 27\n",
      "Session: 180717.0: num_channels: 1\n",
      "Session: 180627.0: num_channels: 1\n",
      "Session: 180719.0: num_channels: 2\n",
      "Session: 180807.0: num_channels: 13\n",
      "Session: 200205.0: num_channels: 5\n",
      "Session: 180808.0: num_channels: 3\n",
      "Session: 200313.0: num_channels: 12\n",
      "Session: 191121.0: num_channels: 7\n"
     ]
    },
    {
     "data": {
      "text/plain": [
       "217"
      ]
     },
     "execution_count": 24,
     "metadata": {},
     "output_type": "execute_result"
    }
   ],
   "source": [
    "sessions = corr_obj.get_significant_sessions(threshold=0.061)\n",
    "num_channels = 0\n",
    "for session in sessions:\n",
    "    # print(f\"Session: {session}: num_channels: {len(channels)}\")\n",
    "    channels = corr_obj.get_good_channels(session, threshold=0.061)\n",
    "    print(f\"Session: {session}: num_channels: {len(channels)}\")\n",
    "    num_channels += len(channels)\n",
    "num_channels\n"
   ]
  },
  {
   "cell_type": "code",
   "execution_count": 64,
   "metadata": {},
   "outputs": [],
   "source": [
    "session = 191113\n",
    "num_channels = 0\n",
    "ids_remove_list = []\n",
    "for session in sessions:\n",
    "    select = corr_obj.data[corr_obj.data['session'] == session]\n",
    "    select = select[\n",
    "        # (select['normalizer'] >= 0.061) &\\\n",
    "        (select['bin_width'] == 20) &\\\n",
    "        (select['delay'] == 0)\n",
    "                    ]\n",
    "\n",
    "    channels = select['channel'].unique()\n",
    "    for channel in channels:\n",
    "\n",
    "        if select[select['channel']==channel].shape[0] > 1:\n",
    "            id = select[select['channel']==channel].index[1]\n",
    "            ids_remove_list.append(id)\n"
   ]
  },
  {
   "cell_type": "code",
   "execution_count": 65,
   "metadata": {},
   "outputs": [
    {
     "data": {
      "text/plain": [
       "184"
      ]
     },
     "execution_count": 65,
     "metadata": {},
     "output_type": "execute_result"
    }
   ],
   "source": [
    "len(ids_remove_list)"
   ]
  },
  {
   "cell_type": "code",
   "execution_count": 66,
   "metadata": {},
   "outputs": [
    {
     "data": {
      "text/plain": [
       "(2442, 10)"
      ]
     },
     "execution_count": 66,
     "metadata": {},
     "output_type": "execute_result"
    }
   ],
   "source": [
    "corr_obj.data.shape"
   ]
  },
  {
   "cell_type": "code",
   "execution_count": 67,
   "metadata": {},
   "outputs": [],
   "source": [
    "corr_obj.data.drop(ids_remove_list, inplace=True)"
   ]
  },
  {
   "cell_type": "code",
   "execution_count": 68,
   "metadata": {},
   "outputs": [
    {
     "data": {
      "text/plain": [
       "(2258, 10)"
      ]
     },
     "execution_count": 68,
     "metadata": {},
     "output_type": "execute_result"
    }
   ],
   "source": [
    "corr_obj.data.shape"
   ]
  },
  {
   "cell_type": "code",
   "execution_count": 69,
   "metadata": {},
   "outputs": [
    {
     "name": "stdout",
     "output_type": "stream",
     "text": [
      "Saved at /depot/jgmakin/data/auditory_cortex/results/cross_validated_correlations/STRF_corr_results.csv\n"
     ]
    }
   ],
   "source": [
    "corr_obj.write_back()"
   ]
  },
  {
   "cell_type": "code",
   "execution_count": 44,
   "metadata": {},
   "outputs": [
    {
     "data": {
      "text/plain": [
       "array([ 1.,  5.,  8.,  9., 11., 12., 13., 14., 16., 20., 21., 29., 30.,\n",
       "       32., 34., 35., 36., 37., 38., 39., 41., 50., 51., 53., 55., 57.,\n",
       "       58.])"
      ]
     },
     "execution_count": 44,
     "metadata": {},
     "output_type": "execute_result"
    }
   ],
   "source": [
    "channels"
   ]
  },
  {
   "cell_type": "code",
   "execution_count": 55,
   "metadata": {},
   "outputs": [
    {
     "data": {
      "text/plain": [
       "2"
      ]
     },
     "execution_count": 55,
     "metadata": {},
     "output_type": "execute_result"
    }
   ],
   "source": [
    "ids_remove_list = []\n",
    "if select[select['channel']==1].shape[0] > 1:\n",
    "    id = select[select['channel']==1].index[1]\n",
    "    ids_remove_list.append(id)\n",
    "\n"
   ]
  },
  {
   "cell_type": "code",
   "execution_count": 58,
   "metadata": {},
   "outputs": [
    {
     "data": {
      "text/plain": [
       "1319"
      ]
     },
     "execution_count": 58,
     "metadata": {},
     "output_type": "execute_result"
    }
   ],
   "source": [
    "select[select['channel']==1].index[1]"
   ]
  },
  {
   "cell_type": "code",
   "execution_count": 32,
   "metadata": {},
   "outputs": [],
   "source": [
    "dist = corr_obj.get_baseline_corr_session(\n",
    "    sessions=sessions, threshold=0.061\n",
    ")"
   ]
  },
  {
   "cell_type": "code",
   "execution_count": 33,
   "metadata": {},
   "outputs": [
    {
     "data": {
      "text/plain": [
       "(266,)"
      ]
     },
     "execution_count": 33,
     "metadata": {},
     "output_type": "execute_result"
    }
   ],
   "source": [
    "dist.shape"
   ]
  },
  {
   "cell_type": "code",
   "execution_count": 42,
   "metadata": {},
   "outputs": [
    {
     "name": "stdout",
     "output_type": "stream",
     "text": [
      "Session: 200206.0: num_channels: 63\n",
      "Session: 191206.0: num_channels: 10\n",
      "Session: 180720.0: num_channels: 5\n",
      "Session: 191125.0: num_channels: 11\n",
      "Session: 180731.0: num_channels: 14\n",
      "Session: 180814.0: num_channels: 13\n",
      "Session: 200213.0: num_channels: 14\n",
      "Session: 200207.0: num_channels: 9\n",
      "Session: 191210.0: num_channels: 3\n",
      "Session: 191115.0: num_channels: 4\n",
      "Session: 191113.0: num_channels: 54\n",
      "Session: 180717.0: num_channels: 2\n",
      "Session: 180627.0: num_channels: 2\n",
      "Session: 180719.0: num_channels: 4\n",
      "Session: 180807.0: num_channels: 26\n",
      "Session: 200205.0: num_channels: 10\n",
      "Session: 180808.0: num_channels: 3\n",
      "Session: 200313.0: num_channels: 12\n",
      "Session: 191121.0: num_channels: 7\n"
     ]
    },
    {
     "data": {
      "text/plain": [
       "266"
      ]
     },
     "execution_count": 42,
     "metadata": {},
     "output_type": "execute_result"
    }
   ],
   "source": [
    "import pandas as pd\n",
    "delay = 0\n",
    "bin_width = 20\n",
    "threshold = 0.061\n",
    "num_channels = 0\n",
    "\n",
    "select_baseline = corr_obj.baseline_corr[\n",
    "        (corr_obj.baseline_corr['bin_width']==bin_width)&\\\n",
    "        (corr_obj.baseline_corr['delay']==delay)\n",
    "    ]\n",
    "\n",
    "if threshold is not None:\n",
    "    select_baseline = select_baseline[\n",
    "        (select_baseline['normalizer']>=threshold)\n",
    "    ]\n",
    "if sessions is not None:\n",
    "    # sessions should be list or None...\n",
    "    session_baselines = []\n",
    "    for session in sessions:\n",
    "        session_select = select_baseline[(select_baseline['session']==float(session))]\n",
    "        session_baselines.append(session_select)\n",
    "        channels = session_select['channel']\n",
    "        print(f\"Session: {session}: num_channels: {channels.size}\")\n",
    "        num_channels += channels.size \n",
    "            \n",
    "    baseline = pd.concat(session_baselines)    \n",
    "num_channels"
   ]
  },
  {
   "cell_type": "code",
   "execution_count": 40,
   "metadata": {},
   "outputs": [
    {
     "data": {
      "text/plain": [
       "(266, 10)"
      ]
     },
     "execution_count": 40,
     "metadata": {},
     "output_type": "execute_result"
    }
   ],
   "source": [
    "baseline.shape"
   ]
  },
  {
   "cell_type": "code",
   "execution_count": 27,
   "metadata": {},
   "outputs": [
    {
     "data": {
      "text/html": [
       "<div>\n",
       "<style scoped>\n",
       "    .dataframe tbody tr th:only-of-type {\n",
       "        vertical-align: middle;\n",
       "    }\n",
       "\n",
       "    .dataframe tbody tr th {\n",
       "        vertical-align: top;\n",
       "    }\n",
       "\n",
       "    .dataframe thead th {\n",
       "        text-align: right;\n",
       "    }\n",
       "</style>\n",
       "<table border=\"1\" class=\"dataframe\">\n",
       "  <thead>\n",
       "    <tr style=\"text-align: right;\">\n",
       "      <th></th>\n",
       "      <th>session</th>\n",
       "      <th>channel</th>\n",
       "      <th>bin_width</th>\n",
       "      <th>delay</th>\n",
       "      <th>strf_corr</th>\n",
       "      <th>normalizer</th>\n",
       "      <th>strf_corr_normalized</th>\n",
       "      <th>test_cc_raw</th>\n",
       "      <th>N_sents</th>\n",
       "      <th>normalized_test_cc</th>\n",
       "    </tr>\n",
       "  </thead>\n",
       "  <tbody>\n",
       "    <tr>\n",
       "      <th>0</th>\n",
       "      <td>200206.0</td>\n",
       "      <td>0.0</td>\n",
       "      <td>20.0</td>\n",
       "      <td>0.0</td>\n",
       "      <td>0.118883</td>\n",
       "      <td>0.183040</td>\n",
       "      <td>0.277873</td>\n",
       "      <td>0.118883</td>\n",
       "      <td>500.0</td>\n",
       "      <td>0.277873</td>\n",
       "    </tr>\n",
       "    <tr>\n",
       "      <th>1</th>\n",
       "      <td>200206.0</td>\n",
       "      <td>1.0</td>\n",
       "      <td>20.0</td>\n",
       "      <td>0.0</td>\n",
       "      <td>0.197218</td>\n",
       "      <td>0.221730</td>\n",
       "      <td>0.418827</td>\n",
       "      <td>0.197218</td>\n",
       "      <td>500.0</td>\n",
       "      <td>0.418827</td>\n",
       "    </tr>\n",
       "    <tr>\n",
       "      <th>2</th>\n",
       "      <td>200206.0</td>\n",
       "      <td>2.0</td>\n",
       "      <td>20.0</td>\n",
       "      <td>0.0</td>\n",
       "      <td>0.154856</td>\n",
       "      <td>0.139056</td>\n",
       "      <td>0.415273</td>\n",
       "      <td>0.154856</td>\n",
       "      <td>500.0</td>\n",
       "      <td>0.415273</td>\n",
       "    </tr>\n",
       "    <tr>\n",
       "      <th>3</th>\n",
       "      <td>200206.0</td>\n",
       "      <td>3.0</td>\n",
       "      <td>20.0</td>\n",
       "      <td>0.0</td>\n",
       "      <td>0.331080</td>\n",
       "      <td>0.413185</td>\n",
       "      <td>0.515063</td>\n",
       "      <td>0.331080</td>\n",
       "      <td>500.0</td>\n",
       "      <td>0.515063</td>\n",
       "    </tr>\n",
       "    <tr>\n",
       "      <th>4</th>\n",
       "      <td>200206.0</td>\n",
       "      <td>4.0</td>\n",
       "      <td>20.0</td>\n",
       "      <td>0.0</td>\n",
       "      <td>0.087961</td>\n",
       "      <td>0.122413</td>\n",
       "      <td>0.251407</td>\n",
       "      <td>0.087961</td>\n",
       "      <td>500.0</td>\n",
       "      <td>0.251407</td>\n",
       "    </tr>\n",
       "    <tr>\n",
       "      <th>...</th>\n",
       "      <td>...</td>\n",
       "      <td>...</td>\n",
       "      <td>...</td>\n",
       "      <td>...</td>\n",
       "      <td>...</td>\n",
       "      <td>...</td>\n",
       "      <td>...</td>\n",
       "      <td>...</td>\n",
       "      <td>...</td>\n",
       "      <td>...</td>\n",
       "    </tr>\n",
       "    <tr>\n",
       "      <th>2437</th>\n",
       "      <td>190801.0</td>\n",
       "      <td>59.0</td>\n",
       "      <td>20.0</td>\n",
       "      <td>0.0</td>\n",
       "      <td>0.013906</td>\n",
       "      <td>-0.019971</td>\n",
       "      <td>NaN</td>\n",
       "      <td>0.013906</td>\n",
       "      <td>500.0</td>\n",
       "      <td>NaN</td>\n",
       "    </tr>\n",
       "    <tr>\n",
       "      <th>2438</th>\n",
       "      <td>190801.0</td>\n",
       "      <td>60.0</td>\n",
       "      <td>20.0</td>\n",
       "      <td>0.0</td>\n",
       "      <td>0.018908</td>\n",
       "      <td>-0.007210</td>\n",
       "      <td>NaN</td>\n",
       "      <td>0.018908</td>\n",
       "      <td>500.0</td>\n",
       "      <td>NaN</td>\n",
       "    </tr>\n",
       "    <tr>\n",
       "      <th>2439</th>\n",
       "      <td>190801.0</td>\n",
       "      <td>61.0</td>\n",
       "      <td>20.0</td>\n",
       "      <td>0.0</td>\n",
       "      <td>0.019551</td>\n",
       "      <td>-0.012213</td>\n",
       "      <td>NaN</td>\n",
       "      <td>0.019551</td>\n",
       "      <td>500.0</td>\n",
       "      <td>NaN</td>\n",
       "    </tr>\n",
       "    <tr>\n",
       "      <th>2440</th>\n",
       "      <td>190801.0</td>\n",
       "      <td>62.0</td>\n",
       "      <td>20.0</td>\n",
       "      <td>0.0</td>\n",
       "      <td>0.007693</td>\n",
       "      <td>-0.003333</td>\n",
       "      <td>NaN</td>\n",
       "      <td>0.007693</td>\n",
       "      <td>500.0</td>\n",
       "      <td>NaN</td>\n",
       "    </tr>\n",
       "    <tr>\n",
       "      <th>2441</th>\n",
       "      <td>190801.0</td>\n",
       "      <td>63.0</td>\n",
       "      <td>20.0</td>\n",
       "      <td>0.0</td>\n",
       "      <td>0.032546</td>\n",
       "      <td>0.002269</td>\n",
       "      <td>0.683270</td>\n",
       "      <td>0.032546</td>\n",
       "      <td>500.0</td>\n",
       "      <td>0.683270</td>\n",
       "    </tr>\n",
       "  </tbody>\n",
       "</table>\n",
       "<p>2442 rows × 10 columns</p>\n",
       "</div>"
      ],
      "text/plain": [
       "       session  channel  bin_width  ...  test_cc_raw  N_sents  normalized_test_cc\n",
       "0     200206.0      0.0       20.0  ...     0.118883    500.0            0.277873\n",
       "1     200206.0      1.0       20.0  ...     0.197218    500.0            0.418827\n",
       "2     200206.0      2.0       20.0  ...     0.154856    500.0            0.415273\n",
       "3     200206.0      3.0       20.0  ...     0.331080    500.0            0.515063\n",
       "4     200206.0      4.0       20.0  ...     0.087961    500.0            0.251407\n",
       "...        ...      ...        ...  ...          ...      ...                 ...\n",
       "2437  190801.0     59.0       20.0  ...     0.013906    500.0                 NaN\n",
       "2438  190801.0     60.0       20.0  ...     0.018908    500.0                 NaN\n",
       "2439  190801.0     61.0       20.0  ...     0.019551    500.0                 NaN\n",
       "2440  190801.0     62.0       20.0  ...     0.007693    500.0                 NaN\n",
       "2441  190801.0     63.0       20.0  ...     0.032546    500.0            0.683270\n",
       "\n",
       "[2442 rows x 10 columns]"
      ]
     },
     "execution_count": 27,
     "metadata": {},
     "output_type": "execute_result"
    }
   ],
   "source": [
    "corr_obj.baseline_corr"
   ]
  },
  {
   "cell_type": "markdown",
   "metadata": {},
   "source": [
    "### other.."
   ]
  },
  {
   "cell_type": "code",
   "execution_count": 75,
   "metadata": {},
   "outputs": [],
   "source": [
    "sess = '200206'\n",
    "num_alphas = 10\n",
    "alphas = np.logspace(-2, 5, num_alphas)\n",
    "estimator = RidgeCV(alphas=alphas, cv=5)"
   ]
  },
  {
   "cell_type": "code",
   "execution_count": 76,
   "metadata": {},
   "outputs": [],
   "source": [
    "strf = STRF(\n",
    "    session=sess,\n",
    "     estimator=estimator)"
   ]
  },
  {
   "cell_type": "code",
   "execution_count": 77,
   "metadata": {},
   "outputs": [],
   "source": [
    "batch = strf.get_sample(12)"
   ]
  },
  {
   "cell_type": "code",
   "execution_count": 78,
   "metadata": {},
   "outputs": [
    {
     "data": {
      "text/plain": [
       "(69, 32)"
      ]
     },
     "execution_count": 78,
     "metadata": {},
     "output_type": "execute_result"
    }
   ],
   "source": [
    "batch[0].shape"
   ]
  },
  {
   "cell_type": "code",
   "execution_count": 6,
   "metadata": {},
   "outputs": [
    {
     "data": {
      "application/vnd.jupyter.widget-view+json": {
       "model_id": "8c31c61755e14114b4b2c26e06754766",
       "version_major": 2,
       "version_minor": 0
      },
      "text/plain": [
       "  0%|          | 0/64 [00:00<?, ?it/s]"
      ]
     },
     "metadata": {},
     "output_type": "display_data"
    }
   ],
   "source": [
    "# corr = strf.fit()"
   ]
  },
  {
   "cell_type": "code",
   "execution_count": null,
   "metadata": {},
   "outputs": [],
   "source": []
  },
  {
   "cell_type": "code",
   "execution_count": null,
   "metadata": {},
   "outputs": [],
   "source": [
    "dataloader = DataLoader()"
   ]
  },
  {
   "cell_type": "code",
   "execution_count": 2,
   "metadata": {},
   "outputs": [],
   "source": [
    "import torch.nn as nn\n",
    "import torch"
   ]
  },
  {
   "cell_type": "code",
   "execution_count": 5,
   "metadata": {},
   "outputs": [],
   "source": [
    "num_freqs = 32\n",
    "sfreq = 100\n",
    "\n",
    "spect = torch.randn((1, num_freqs, sfreq))"
   ]
  },
  {
   "cell_type": "code",
   "execution_count": 6,
   "metadata": {},
   "outputs": [
    {
     "data": {
      "text/plain": [
       "torch.Size([1, 32, 100])"
      ]
     },
     "execution_count": 6,
     "metadata": {},
     "output_type": "execute_result"
    }
   ],
   "source": [
    "spect.shape"
   ]
  },
  {
   "cell_type": "code",
   "execution_count": 7,
   "metadata": {},
   "outputs": [],
   "source": []
  },
  {
   "cell_type": "code",
   "execution_count": 10,
   "metadata": {},
   "outputs": [
    {
     "data": {
      "text/plain": [
       "30"
      ]
     },
     "execution_count": 10,
     "metadata": {},
     "output_type": "execute_result"
    }
   ],
   "source": []
  },
  {
   "cell_type": "code",
   "execution_count": 66,
   "metadata": {},
   "outputs": [],
   "source": [
    "in_channels = 32\n",
    "tmin = 0.0\n",
    "tmax = 0.3\n",
    "\n",
    "past_samples = int(sfreq*tmax)\n",
    "future_samples = int(sfreq*tmin) # zero for causal models...\n",
    "kernel_size = past_samples + future_samples\n",
    "padding = past_samples-1\n",
    "extra_samples = padding - future_samples\n",
    "\n",
    "conv = nn.Conv1d(\n",
    "    in_channels=in_channels, out_channels=1,\n",
    "    kernel_size=kernel_size, padding=padding, stride=1\n",
    ")\n"
   ]
  },
  {
   "cell_type": "code",
   "execution_count": 67,
   "metadata": {},
   "outputs": [
    {
     "data": {
      "text/plain": [
       "torch.Size([1, 1, 100])"
      ]
     },
     "execution_count": 67,
     "metadata": {},
     "output_type": "execute_result"
    }
   ],
   "source": [
    "out = conv(spect)[...,:-extra_samples]\n",
    "out.shape"
   ]
  },
  {
   "cell_type": "code",
   "execution_count": 57,
   "metadata": {},
   "outputs": [
    {
     "data": {
      "text/plain": [
       "-1"
      ]
     },
     "execution_count": 57,
     "metadata": {},
     "output_type": "execute_result"
    }
   ],
   "source": [
    "extra_samples"
   ]
  },
  {
   "cell_type": "code",
   "execution_count": 43,
   "metadata": {},
   "outputs": [
    {
     "data": {
      "text/plain": [
       "torch.Size([1, 1, 129])"
      ]
     },
     "execution_count": 43,
     "metadata": {},
     "output_type": "execute_result"
    }
   ],
   "source": []
  },
  {
   "cell_type": "code",
   "execution_count": 2,
   "metadata": {},
   "outputs": [],
   "source": [
    "dataloader = DataLoader()"
   ]
  },
  {
   "cell_type": "code",
   "execution_count": 3,
   "metadata": {},
   "outputs": [],
   "source": [
    "sess = '200206'\n",
    "spikes = dataloader.get_session_spikes(sess)"
   ]
  },
  {
   "cell_type": "code",
   "execution_count": 72,
   "metadata": {},
   "outputs": [
    {
     "data": {
      "text/plain": [
       "(69, 64)"
      ]
     },
     "execution_count": 72,
     "metadata": {},
     "output_type": "execute_result"
    }
   ],
   "source": [
    "spikes[12].shape"
   ]
  },
  {
   "cell_type": "code",
   "execution_count": 73,
   "metadata": {},
   "outputs": [
    {
     "name": "stderr",
     "output_type": "stream",
     "text": [
      "DEBUG:matplotlib.pyplot:Loaded backend module://matplotlib_inline.backend_inline version unknown.\n"
     ]
    },
    {
     "data": {
      "text/plain": [
       "[<matplotlib.lines.Line2D at 0x2b7605a1d880>]"
      ]
     },
     "execution_count": 73,
     "metadata": {},
     "output_type": "execute_result"
    },
    {
     "data": {
      "image/png": "[encoded data removed]",
      "text/plain": [
       "<Figure size 432x288 with 1 Axes>"
      ]
     },
     "metadata": {
      "needs_background": "light"
     },
     "output_type": "display_data"
    }
   ],
   "source": [
    "import matplotlib.pylab as plt\n",
    "%matplotlib inline\n",
    "\n",
    "plt.plot(spikes[12][32])"
   ]
  },
  {
   "cell_type": "code",
   "execution_count": 5,
   "metadata": {},
   "outputs": [
    {
     "name": "stderr",
     "output_type": "stream",
     "text": [
      "DEBUG:matplotlib.pyplot:Loaded backend module://matplotlib_inline.backend_inline version unknown.\n"
     ]
    },
    {
     "data": {
      "text/plain": [
       "[<matplotlib.lines.Line2D at 0x2b336fb82b20>]"
      ]
     },
     "execution_count": 5,
     "metadata": {},
     "output_type": "execute_result"
    },
    {
     "data": {
      "image/png": "[encoded data removed]",
      "text/plain": [
       "<Figure size 432x288 with 1 Axes>"
      ]
     },
     "metadata": {
      "needs_background": "light"
     },
     "output_type": "display_data"
    }
   ],
   "source": [
    "import matplotlib.pylab as plt\n",
    "%matplotlib inline\n",
    "\n",
    "plt.plot(spikes[100][32])"
   ]
  },
  {
   "cell_type": "code",
   "execution_count": null,
   "metadata": {},
   "outputs": [],
   "source": []
  }
 ],
 "metadata": {
  "kernelspec": {
   "display_name": "Python 3",
   "language": "python",
   "name": "python3"
  },
  "language_info": {
   "codemirror_mode": {
    "name": "ipython",
    "version": 3
   },
   "file_extension": ".py",
   "mimetype": "text/x-python",
   "name": "python",
   "nbconvert_exporter": "python",
   "pygments_lexer": "ipython3",
   "version": "3.8.5"
  }
 },
 "nbformat": 4,
 "nbformat_minor": 2
}
