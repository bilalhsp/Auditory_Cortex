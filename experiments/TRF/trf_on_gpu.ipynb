{
 "cells": [
  {
   "cell_type": "code",
   "execution_count": 1,
   "metadata": {},
   "outputs": [
    {
     "name": "stderr",
     "output_type": "stream",
     "text": [
      "/home/ahmedb/projects/Wav2Letter/deepspeech.pytorch/deepspeech_pytorch/loader/data_loader.py:17: UserWarning: torchaudio._backend.set_audio_backend has been deprecated. With dispatcher enabled, this function is no-op. You can remove the function call.\n",
      "  torchaudio.set_audio_backend(\"sox_io\")\n"
     ]
    }
   ],
   "source": [
    "import numpy as np\n",
    "import time\n",
    "\n",
    "import naplib as nl\n",
    "from auditory_cortex.datasets import BaselineDataset, DNNDataset\n",
    "from auditory_cortex import utils"
   ]
  },
  {
   "cell_type": "code",
   "execution_count": 21,
   "metadata": {},
   "outputs": [
    {
     "name": "stdout",
     "output_type": "stream",
     "text": [
      "Using default normalizer file...\n",
      "200206: creating DNNDataset for mVocs data..\n",
      "NeuralData:  Creating object for session: 200206 ... Done.\n",
      "DNNDataset: Loading data for session-200206 at bin_width-50ms.\n",
      "DataLoader: Extracting spikes for session-200206...\n",
      "NeuralData: Reading mVocs spikes for 200206. \n",
      "Reading raw features from /scratch/gilbreth/ahmedb/cache/mVocs/whisper_tiny/whisper_tiny_raw_features.pkl\n",
      "Resamping ANN features at bin-width: 50\n",
      "\n",
      " For fold=0: \n"
     ]
    }
   ],
   "source": [
    "model_name = 'whisper_tiny'\n",
    "session = 200206\n",
    "bin_width = 50\n",
    "layer_ID = 2\n",
    "mVocs = True\n",
    "\n",
    "dataset_obj = DNNDataset(\n",
    "\t\t\t\tsession, bin_width, model_name, layer_ID, mVocs=mVocs\n",
    "\t\t\t\t)\n",
    "\n",
    "\n",
    "tmax=300\n",
    "tmin=0 \n",
    "num_folds = 3\n",
    "\n",
    "# function starts here...\n",
    "tmin = tmin/1000\n",
    "tmax = tmax/1000\n",
    "sfreq = 1000/dataset_obj.bin_width\n",
    "num_channels = dataset_obj.num_channels\n",
    "\n",
    "# Deprecated...\n",
    "mapping_set = dataset_obj.training_sent_ids\n",
    "\n",
    "lmbdas = np.logspace(-2, 12, 15)\n",
    "lmbda_score = np.zeros(((len(lmbdas), num_channels)))\n",
    "np.random.shuffle(mapping_set)\n",
    "size_of_chunk = int(len(mapping_set) / num_folds)\n",
    "\n",
    "r = 0\n",
    "print(f\"\\n For fold={r}: \")\n",
    "if r<(num_folds-1):\n",
    "\tval_set = mapping_set[r*size_of_chunk:(r+1)*size_of_chunk]\n",
    "else:\n",
    "\tval_set = mapping_set[r*size_of_chunk:]\n",
    "train_set = mapping_set[np.isin(mapping_set, val_set, invert=True)]\n",
    "\n",
    "train_x, train_y = dataset_obj.get_data(stim_ids=train_set)\n",
    "val_x, val_y = dataset_obj.get_data(stim_ids=val_set)\n",
    "\n",
    "\n",
    "\n",
    "# tempp\n",
    "val_y = [val[:,:2] for val in val_y]\n",
    "i = 0 \n",
    "lmbda = lmbdas[i]\n"
   ]
  },
  {
   "cell_type": "markdown",
   "metadata": {},
   "source": [
    "#### starts from here..."
   ]
  },
  {
   "cell_type": "code",
   "execution_count": 126,
   "metadata": {},
   "outputs": [],
   "source": [
    "class LinearModel:\n",
    "\tdef __init__(self, alpha):\n",
    "\t\t\"\"\"Create linear model with regularization parameter alpha.\"\"\"\n",
    "\t\tself.alpha = alpha\n",
    "\n",
    "\tdef fit(self, X, y):\n",
    "\t\tX = cp.array(X)\n",
    "\t\ty = cp.array(y)\n",
    "\t\tself.Beta = utils.reg(X, y, lmbda=self.alpha)\n",
    "\t\t# self.model.fit(X, y)\n",
    "\n",
    "\tdef predict(self, X):\n",
    "\t\tX = cp.array(X)\n",
    "\t\tpred = np.matmul(X, self.Beta)\n",
    "\t\treturn cp.asnumpy(pred)\n",
    "\t\t\n",
    "\t\n",
    "\tdef score(self, X, y):\n",
    "\t\tpred = self.predict(X)\n",
    "\t\tloss = -1*utils.mse_loss(y, pred)\n",
    "\t\treturn loss\n",
    "\t\n",
    "\t@property\n",
    "\tdef coef_(self):\n",
    "\t\tif not hasattr(self, 'Beta'):\n",
    "\t\t\traise ValueError(\"Model has not been fit yet.\")\n",
    "\t\treturn cp.asnumpy(self.Beta)"
   ]
  },
  {
   "cell_type": "code",
   "execution_count": 127,
   "metadata": {},
   "outputs": [],
   "source": [
    "from multiprocessing import Pool\n",
    "from tqdm.auto import tqdm\n",
    "import copy\n",
    "\n",
    "class GpuTRF(nl.encoding.TRF):\n",
    "\t\"\"\"GPU accelerated TRF model.\"\"\"\n",
    "\tdef __init__(self, *args, **kwargs):\n",
    "\t\tsuper().__init__(*args, **kwargs)\n",
    "\t\t\n",
    "\t\tself.model = LinearModel(alpha=2)\n",
    "\n",
    "\tdef fit(self, X, y):\n",
    "\n",
    "\t\t# gpu implementation\n",
    "\t\t# concatenate along 2nd last axis (the time axis),\n",
    "\t\tX = np.concatenate(X, axis=-2) \t\n",
    "\t\ty = np.concatenate(y, axis=0)\n",
    "\n",
    "\t\tif y.ndim == 1:\n",
    "\t\t\ty = y[:, np.newaxis]\n",
    "\t\t#\n",
    "\t\tself.ndim_y_ = y.ndim\n",
    "\t\tself.X_feats_ = X.shape[-1]\n",
    "\t\tself.n_targets_ = y.shape[1]\n",
    "\t\tself.n_models = None\n",
    "\t\t# self.y_feats_ = 1\n",
    "\n",
    "\n",
    "\t\tprint(self.n_models)\n",
    "\t\tprint(f\"X shape: {X.shape}\")\n",
    "\t\tprint(f\"y shape: {y.shape}\")\n",
    "\t\t\n",
    "\t\t# Delay inputs and reshape\n",
    "\t\tif X.ndim == 3:\n",
    "\t\t\t# if there is layer axis in X, then we need to delay each layer separately\n",
    "\t\t\tself.n_models = X.shape[0]\n",
    "\t\t\tX_delayed = []\n",
    "\t\t\tfor i in range(X.shape[0]):\n",
    "\t\t\t\tx_tmp, _ = self._delay_and_reshape(X[i])\n",
    "\t\t\t\tX_delayed.append(x_tmp)\n",
    "\t\t\tX_delayed = np.concatenate(X_delayed, axis=0)\n",
    "\t\telse:\n",
    "\t\t\tX_delayed, _ = self._delay_and_reshape(X)\n",
    "\t\ty_delayed = y\n",
    "\t\t\n",
    "\t\tprint(f\"X shape: {X_delayed.shape}\")\n",
    "\t\tprint(f\"y shape: {y_delayed.shape}\")\n",
    "\n",
    "\t\tself.model.fit(X_delayed, y_delayed)\n",
    "\n",
    "\t\treturn self\n",
    "\t\n",
    "\tdef predict(self, X):\n",
    "\t\tif not hasattr(self, 'X_feats_'):\n",
    "\t\t\traise ValueError(f'Must call .fit() before can call .predict()')\n",
    "\t\t\n",
    "\t\tX = np.concatenate(X, axis=-2) \t\n",
    "\n",
    "\t\t# Delay inputs and reshape\n",
    "\t\tif X.ndim == 3:\n",
    "\t\t\t# if there is layer axis in X, then we need to delay each layer separately\n",
    "\t\t\t# self.n_models = X.shape[0]\n",
    "\t\t\tX_delayed = []\n",
    "\t\t\tfor i in range(X.shape[0]):\n",
    "\t\t\t\tx_tmp, _ = self._delay_and_reshape(X[i])\n",
    "\t\t\t\tX_delayed.append(x_tmp)\n",
    "\t\t\tX_delayed = np.concatenate(X_delayed, axis=0)\n",
    "\t\telse:\n",
    "\t\t\tX_delayed, _ = self._delay_and_reshape(X)\n",
    "\t\t\n",
    "\t\ty_pred = self.model.predict(X_delayed)\n",
    "\t\treturn y_pred\n",
    "\t\n",
    "\tdef score(self, X, y):\n",
    "\t\t\"\"\"Compute the negative mean squared error of the model on the given data.\n",
    "\t\t\"\"\"\n",
    "\t\tX = np.concatenate(X, axis=-2) \t\n",
    "\t\ty = np.concatenate(y, axis=0)\n",
    "\n",
    "\t\tif y.ndim == 1:\n",
    "\t\t\ty = y[:, np.newaxis]\n",
    "\n",
    "\t\t# Delay inputs and reshape\n",
    "\t\tif X.ndim == 3:\n",
    "\t\t\t# if there is layer axis in X, then we need to delay each layer separately\n",
    "\t\t\tX_delayed = []\n",
    "\t\t\tfor i in range(X.shape[0]):\n",
    "\t\t\t\tx_tmp, _ = self._delay_and_reshape(X[i])\n",
    "\t\t\t\tX_delayed.append(x_tmp)\n",
    "\t\t\tX_delayed = np.concatenate(X_delayed, axis=0)\n",
    "\t\telse:\n",
    "\t\t\tX_delayed, _ = self._delay_and_reshape(X)\n",
    "\n",
    "\t\tscore = self.model.score(X_delayed, y)\n",
    "\n",
    "\t\treturn score\n",
    "\t\n",
    "\t@property\n",
    "\tdef coef_(self):\n",
    "\t\tif not hasattr(self, 'ndim_y_'):\n",
    "\t\t\traise ValueError(f'Must call fit() first before accessing coef_ attribute.')\n",
    "\t\tif hasattr(self, 'n_models') and self.n_models is not None:\n",
    "\t\t\treturn self.model.coef_.reshape(self.n_models, self.X_feats_, self._ndelays, self.n_targets_)\n",
    "\t\telse:\n",
    "\t\t\treturn self.model.coef_.reshape(self.X_feats_, self._ndelays, self.n_targets_)\n",
    "   \n",
    "\n",
    "def _fit_channel(args):\n",
    "\tch, X, y, model = args\n",
    "\treturn ch, model.fit(X, y)"
   ]
  },
  {
   "cell_type": "code",
   "execution_count": 128,
   "metadata": {},
   "outputs": [],
   "source": [
    "# from auditory_cortex.computational_models.encoding import GpuTRF\n",
    "from sklearn.linear_model import RidgeCV, ElasticNet, Ridge, PoissonRegressor\n",
    "estimator = Ridge(alpha=2)\n",
    "trf_model = GpuTRF(\n",
    "\ttmin, tmax, sfreq, #estimator=estimator,\n",
    "\t\t\t\t\t\tn_jobs=1, show_progress=True\n",
    ")\n",
    "# trf_model = nl.encoding.TRF(\n",
    "# \ttmin, tmax, sfreq, #estimator=estimator,\n",
    "#                         n_jobs=1, show_progress=True\n",
    "# )"
   ]
  },
  {
   "cell_type": "code",
   "execution_count": 135,
   "metadata": {},
   "outputs": [],
   "source": [
    "train_x = [x[None,...] for x in train_x]\n",
    "# train_x = [x.squeeze() for x in train_x]"
   ]
  },
  {
   "cell_type": "code",
   "execution_count": 136,
   "metadata": {},
   "outputs": [
    {
     "name": "stdout",
     "output_type": "stream",
     "text": [
      "x.shape: (1, 13, 384)\n",
      "y.shape: (13, 64)\n",
      "None\n",
      "X shape: (1, 9969, 384)\n",
      "y shape: (9969, 64)\n",
      "X shape: (9969, 2688)\n",
      "y shape: (9969, 64)\n"
     ]
    }
   ],
   "source": [
    "print(f\"x.shape: {train_x[0].shape}\")\n",
    "print(f\"y.shape: {train_y[0].shape}\")\n",
    "out = trf_model.fit(X=train_x, y=train_y)"
   ]
  },
  {
   "cell_type": "code",
   "execution_count": 137,
   "metadata": {},
   "outputs": [
    {
     "data": {
      "text/plain": [
       "(1, 384, 7, 64)"
      ]
     },
     "execution_count": 137,
     "metadata": {},
     "output_type": "execute_result"
    }
   ],
   "source": [
    "trf_model.coef_.shape"
   ]
  },
  {
   "cell_type": "code",
   "execution_count": 138,
   "metadata": {},
   "outputs": [],
   "source": [
    "pred = trf_model.score(X=train_x, y=train_y)"
   ]
  },
  {
   "cell_type": "code",
   "execution_count": 140,
   "metadata": {},
   "outputs": [
    {
     "data": {
      "text/plain": [
       "(64,)"
      ]
     },
     "execution_count": 140,
     "metadata": {},
     "output_type": "execute_result"
    }
   ],
   "source": [
    "pred.shape"
   ]
  },
  {
   "cell_type": "code",
   "execution_count": 90,
   "metadata": {},
   "outputs": [
    {
     "data": {
      "text/plain": [
       "(2688, 64)"
      ]
     },
     "execution_count": 90,
     "metadata": {},
     "output_type": "execute_result"
    }
   ],
   "source": [
    "trf_model.model.Beta.shape"
   ]
  },
  {
   "cell_type": "code",
   "execution_count": 87,
   "metadata": {},
   "outputs": [
    {
     "data": {
      "text/plain": [
       "(2688, 64)"
      ]
     },
     "execution_count": 87,
     "metadata": {},
     "output_type": "execute_result"
    }
   ],
   "source": [
    "trf_model.model.Beta.shape"
   ]
  },
  {
   "cell_type": "code",
   "execution_count": 23,
   "metadata": {},
   "outputs": [],
   "source": [
    "val_x = np.concatenate(val_x, axis=0)\n",
    "val_y = np.concatenate(val_y, axis=0)"
   ]
  },
  {
   "cell_type": "code",
   "execution_count": 24,
   "metadata": {},
   "outputs": [
    {
     "data": {
      "text/plain": [
       "(4968, 384)"
      ]
     },
     "execution_count": 24,
     "metadata": {},
     "output_type": "execute_result"
    }
   ],
   "source": [
    "val_x.shape"
   ]
  },
  {
   "cell_type": "code",
   "execution_count": 25,
   "metadata": {},
   "outputs": [],
   "source": [
    "x_tmp, y_tmp = trf_model._delay_and_reshape(val_x, val_y)"
   ]
  },
  {
   "cell_type": "code",
   "execution_count": 26,
   "metadata": {},
   "outputs": [
    {
     "data": {
      "text/plain": [
       "(4968, 2688)"
      ]
     },
     "execution_count": 26,
     "metadata": {},
     "output_type": "execute_result"
    }
   ],
   "source": [
    "x_tmp.shape"
   ]
  },
  {
   "cell_type": "code",
   "execution_count": 27,
   "metadata": {},
   "outputs": [
    {
     "data": {
      "text/plain": [
       "(4968, 2)"
      ]
     },
     "execution_count": 27,
     "metadata": {},
     "output_type": "execute_result"
    }
   ],
   "source": [
    "y_tmp.shape"
   ]
  },
  {
   "cell_type": "code",
   "execution_count": null,
   "metadata": {},
   "outputs": [],
   "source": [
    "for xx, yy in zip(X, y):\n",
    "\t\t\tX_tmp, y_tmp = self._delay_and_reshape(xx, yy)"
   ]
  },
  {
   "cell_type": "code",
   "execution_count": 13,
   "metadata": {},
   "outputs": [
    {
     "data": {
      "text/plain": [
       "__main__.GpuTRF"
      ]
     },
     "execution_count": 13,
     "metadata": {},
     "output_type": "execute_result"
    }
   ],
   "source": [
    "type(out)"
   ]
  },
  {
   "cell_type": "code",
   "execution_count": 35,
   "metadata": {},
   "outputs": [],
   "source": [
    "trf_model = nl.encoding.TRF(\n",
    "\t\t\t\t\t\ttmin, tmax, sfreq, #estimator=estimator,\n",
    "\t\t\t\t\t\tn_jobs=1, show_progress=True\n",
    "\t\t\t\t\t\t)"
   ]
  },
  {
   "cell_type": "code",
   "execution_count": 36,
   "metadata": {},
   "outputs": [
    {
     "data": {
      "text/plain": [
       "0.3"
      ]
     },
     "execution_count": 36,
     "metadata": {},
     "output_type": "execute_result"
    }
   ],
   "source": [
    "trf_model.tmax"
   ]
  },
  {
   "cell_type": "code",
   "execution_count": 37,
   "metadata": {},
   "outputs": [],
   "source": [
    "xx = x[0]\n",
    "yy = y[0]\n",
    "x_tmp, y_tmp = trf_model._delay_and_reshape(xx, yy)"
   ]
  },
  {
   "cell_type": "code",
   "execution_count": 39,
   "metadata": {},
   "outputs": [
    {
     "data": {
      "text/plain": [
       "(30, 384)"
      ]
     },
     "execution_count": 39,
     "metadata": {},
     "output_type": "execute_result"
    }
   ],
   "source": [
    "xx.shape"
   ]
  },
  {
   "cell_type": "code",
   "execution_count": 40,
   "metadata": {},
   "outputs": [
    {
     "data": {
      "text/plain": [
       "(30, 2688)"
      ]
     },
     "execution_count": 40,
     "metadata": {},
     "output_type": "execute_result"
    }
   ],
   "source": [
    "x_tmp.shape"
   ]
  },
  {
   "cell_type": "code",
   "execution_count": 41,
   "metadata": {},
   "outputs": [
    {
     "data": {
      "text/plain": [
       "(30, 64)"
      ]
     },
     "execution_count": 41,
     "metadata": {},
     "output_type": "execute_result"
    }
   ],
   "source": [
    "yy.shape"
   ]
  },
  {
   "cell_type": "code",
   "execution_count": 42,
   "metadata": {},
   "outputs": [
    {
     "data": {
      "text/plain": [
       "(30, 64)"
      ]
     },
     "execution_count": 42,
     "metadata": {},
     "output_type": "execute_result"
    }
   ],
   "source": [
    "y_tmp.shape"
   ]
  },
  {
   "cell_type": "code",
   "execution_count": 43,
   "metadata": {},
   "outputs": [
    {
     "data": {
      "text/plain": [
       "<CUDA Device 0>"
      ]
     },
     "execution_count": 43,
     "metadata": {},
     "output_type": "execute_result"
    }
   ],
   "source": [
    "import cupy as cp \n",
    "cp.cuda.Device(0).use()"
   ]
  },
  {
   "cell_type": "code",
   "execution_count": 45,
   "metadata": {},
   "outputs": [],
   "source": [
    "num_layers = 4\n",
    "num_channels = 16\n",
    "num_features = 100\n",
    "num_samples = 500\n",
    "X = cp.random.rand(num_layers, num_samples, num_features)\n",
    "y = cp.random.rand(num_samples, num_channels)"
   ]
  },
  {
   "cell_type": "code",
   "execution_count": 49,
   "metadata": {},
   "outputs": [
    {
     "name": "stdout",
     "output_type": "stream",
     "text": [
      "(2, 5000, 100)\n"
     ]
    }
   ],
   "source": [
    "X = []\n",
    "for _ in range(10):\n",
    "\tX.append(cp.random.rand(2, num_samples, num_features))\n",
    "\n",
    "\n",
    "X = np.concatenate(X, axis=-2)\n",
    "print(X.shape)"
   ]
  },
  {
   "cell_type": "code",
   "execution_count": 7,
   "metadata": {},
   "outputs": [
    {
     "name": "stdout",
     "output_type": "stream",
     "text": [
      "X.shape=(4, 500, 100), y.shape=(500, 16)\n"
     ]
    }
   ],
   "source": [
    "print(f\"X.shape={X.shape}, y.shape={y.shape}\")"
   ]
  },
  {
   "cell_type": "code",
   "execution_count": 16,
   "metadata": {},
   "outputs": [],
   "source": [
    "B = utils.reg(X, y)"
   ]
  },
  {
   "cell_type": "code",
   "execution_count": 17,
   "metadata": {},
   "outputs": [
    {
     "data": {
      "text/plain": [
       "(4, 100, 16)"
      ]
     },
     "execution_count": 17,
     "metadata": {},
     "output_type": "execute_result"
    }
   ],
   "source": [
    "B.shape"
   ]
  },
  {
   "cell_type": "code",
   "execution_count": 19,
   "metadata": {},
   "outputs": [
    {
     "data": {
      "text/plain": [
       "(4, 500, 100)"
      ]
     },
     "execution_count": 19,
     "metadata": {},
     "output_type": "execute_result"
    }
   ],
   "source": [
    "X.shape"
   ]
  },
  {
   "cell_type": "code",
   "execution_count": 21,
   "metadata": {},
   "outputs": [
    {
     "data": {
      "text/plain": [
       "(4, 500, 16)"
      ]
     },
     "execution_count": 21,
     "metadata": {},
     "output_type": "execute_result"
    }
   ],
   "source": [
    "np.matmul(X, B).shape"
   ]
  },
  {
   "cell_type": "code",
   "execution_count": 18,
   "metadata": {},
   "outputs": [
    {
     "data": {
      "text/plain": [
       "(4, 500, 4, 16)"
      ]
     },
     "execution_count": 18,
     "metadata": {},
     "output_type": "execute_result"
    }
   ],
   "source": [
    "cp.dot(X, B).shape"
   ]
  },
  {
   "cell_type": "code",
   "execution_count": null,
   "metadata": {},
   "outputs": [],
   "source": []
  }
 ],
 "metadata": {
  "kernelspec": {
   "display_name": "Python 3",
   "language": "python",
   "name": "python3"
  },
  "language_info": {
   "codemirror_mode": {
    "name": "ipython",
    "version": 3
   },
   "file_extension": ".py",
   "mimetype": "text/x-python",
   "name": "python",
   "nbconvert_exporter": "python",
   "pygments_lexer": "ipython3",
   "version": "3.8.5"
  }
 },
 "nbformat": 4,
 "nbformat_minor": 2
}
