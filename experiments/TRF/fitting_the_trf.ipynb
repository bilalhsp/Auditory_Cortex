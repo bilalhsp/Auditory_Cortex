{
 "cells": [
  {
   "cell_type": "code",
   "execution_count": 16,
   "metadata": {},
   "outputs": [],
   "source": [
    "from auditory_cortex.datasets import BaselineDataset, DNNDataset\n",
    "import numpy as np\n",
    "import naplib as nl\n",
    "from auditory_cortex.datasets import BaselineDataset, DNNDataset\n",
    "from auditory_cortex.computational_models.encoding import TRF\n",
    "from sklearn.linear_model import RidgeCV, ElasticNet, Ridge, PoissonRegressor\n",
    "\n",
    "import matplotlib.pyplot as plt\n",
    "%matplotlib inline"
   ]
  },
  {
   "cell_type": "markdown",
   "metadata": {},
   "source": [
    "#### mVocs"
   ]
  },
  {
   "cell_type": "code",
   "execution_count": 1,
   "metadata": {},
   "outputs": [
    {
     "name": "stderr",
     "output_type": "stream",
     "text": [
      "/home/ahmedb/projects/Wav2Letter/deepspeech.pytorch/deepspeech_pytorch/loader/data_loader.py:17: UserWarning: torchaudio._backend.set_audio_backend has been deprecated. With dispatcher enabled, this function is no-op. You can remove the function call.\n",
      "  torchaudio.set_audio_backend(\"sox_io\")\n"
     ]
    },
    {
     "name": "stdout",
     "output_type": "stream",
     "text": [
      "Using default normalizer file...\n",
      "NeuralData:  Creating object for session: 200206 ... Done.\n",
      "DNNDataset: Loading data for session-200206 at bin_width-50ms.\n",
      "DataLoader: Extracting spikes for session-200206...\n",
      "NeuralData: Reading mVocs spikes for 200206. \n",
      "Reading raw features from /scratch/gilbreth/ahmedb/cache/mVocs/spect2vec/spect2vec_raw_features.pkl\n",
      "Resamping ANN features at bin-width: 50\n"
     ]
    }
   ],
   "source": [
    "session = 200206\n",
    "bin_width = 50\n",
    "model_name = 'spect2vec'\n",
    "layer_ID = 0\n",
    "mVocs = True\n",
    "dataset = DNNDataset(session, bin_width, model_name, layer_ID, mVocs=mVocs)"
   ]
  },
  {
   "cell_type": "code",
   "execution_count": 2,
   "metadata": {},
   "outputs": [],
   "source": [
    "train_x, train_y = dataset.get_data()"
   ]
  },
  {
   "cell_type": "code",
   "execution_count": 8,
   "metadata": {},
   "outputs": [],
   "source": [
    "testing_stim_ids = dataset.get_testing_stim_ids(True)"
   ]
  },
  {
   "cell_type": "code",
   "execution_count": 9,
   "metadata": {},
   "outputs": [
    {
     "data": {
      "text/plain": [
       "[7, 9, 12, 15, 24, 29, 30, 33, 44, 45, 48]"
      ]
     },
     "execution_count": 9,
     "metadata": {},
     "output_type": "execute_result"
    }
   ],
   "source": [
    "testing_stim_ids"
   ]
  },
  {
   "cell_type": "code",
   "execution_count": 3,
   "metadata": {},
   "outputs": [],
   "source": [
    "test_x, test_y = dataset.get_test_data()"
   ]
  },
  {
   "cell_type": "code",
   "execution_count": 17,
   "metadata": {},
   "outputs": [
    {
     "data": {
      "text/plain": [
       "(231, 80)"
      ]
     },
     "execution_count": 17,
     "metadata": {},
     "output_type": "execute_result"
    }
   ],
   "source": [
    "np.concatenate([x for x in test_x]).shape"
   ]
  },
  {
   "cell_type": "code",
   "execution_count": 14,
   "metadata": {},
   "outputs": [
    {
     "data": {
      "text/plain": [
       "(15, 231, 64)"
      ]
     },
     "execution_count": 14,
     "metadata": {},
     "output_type": "execute_result"
    }
   ],
   "source": [
    "test_y.shape"
   ]
  },
  {
   "cell_type": "code",
   "execution_count": null,
   "metadata": {},
   "outputs": [],
   "source": []
  },
  {
   "cell_type": "code",
   "execution_count": 10,
   "metadata": {},
   "outputs": [
    {
     "data": {
      "text/plain": [
       "(31, 80)"
      ]
     },
     "execution_count": 10,
     "metadata": {},
     "output_type": "execute_result"
    }
   ],
   "source": [
    "train_x[0].shape"
   ]
  },
  {
   "cell_type": "code",
   "execution_count": 11,
   "metadata": {},
   "outputs": [
    {
     "data": {
      "text/plain": [
       "(31, 64)"
      ]
     },
     "execution_count": 11,
     "metadata": {},
     "output_type": "execute_result"
    }
   ],
   "source": [
    "train_y[0].shape"
   ]
  },
  {
   "cell_type": "code",
   "execution_count": 23,
   "metadata": {},
   "outputs": [],
   "source": [
    "from auditory_cortex.neural_data import NeuralMetaData\n",
    "metadata = NeuralMetaData()\n",
    "sessions = metadata.get_all_available_sessions()"
   ]
  },
  {
   "cell_type": "code",
   "execution_count": 25,
   "metadata": {},
   "outputs": [
    {
     "data": {
      "text/plain": [
       "array(['200213', '200219', '200313', '200318'], dtype='<U6')"
      ]
     },
     "execution_count": 25,
     "metadata": {},
     "output_type": "execute_result"
    }
   ],
   "source": [
    "sessions[37:45]"
   ]
  },
  {
   "cell_type": "markdown",
   "metadata": {},
   "source": [
    "#### trf_300"
   ]
  },
  {
   "cell_type": "code",
   "execution_count": 1,
   "metadata": {},
   "outputs": [
    {
     "name": "stderr",
     "output_type": "stream",
     "text": [
      "2024-06-20 10:41:02.046728: I tensorflow/core/platform/cpu_feature_guard.cc:193] This TensorFlow binary is optimized with oneAPI Deep Neural Network Library (oneDNN) to use the following CPU instructions in performance-critical operations:  AVX2 FMA\n",
      "To enable them in other operations, rebuild TensorFlow with the appropriate compiler flags.\n",
      "2024-06-20 10:41:03.047230: W tensorflow/compiler/xla/stream_executor/platform/default/dso_loader.cc:64] Could not load dynamic library 'libnvinfer.so.7'; dlerror: libnvinfer.so.7: cannot open shared object file: No such file or directory; LD_LIBRARY_PATH: /apps/gilbreth/cuda-toolkit/cuda-11.2.0/extras/CUPTI/lib64:/apps/gilbreth/cuda-toolkit/cuda-11.2.0/lib64:/apps/spack/gilbreth/apps/intel-mpi/2017.1.132-intel-17.0.1-p7yx74h/compilers_and_libraries_2017.1.132/linux/mpi/intel64/lib:/apps/spack/gilbreth/apps/intel-mpi/2017.1.132-intel-17.0.1-p7yx74h/compilers_and_libraries_2017.1.132/linux/mpi/mic/lib:/apps/spack/gilbreth/apps/intel-parallel-studio/cluster.2017.1-intel-17.0.1-2off4ih/itac/2017.1.024/intel64/slib:/apps/spack/gilbreth/apps/intel-parallel-studio/cluster.2017.1-intel-17.0.1-2off4ih/compilers_and_libraries_2017.1.132/linux/compiler/lib/intel64:/apps/spack/gilbreth/apps/intel-parallel-studio/cluster.2017.1-intel-17.0.1-2off4ih/compilers_and_libraries_2017.1.132/linux/compiler/lib/intel64_lin:/apps/spack/gilbreth/apps/intel-parallel-studio/cluster.2017.1-intel-17.0.1-2off4ih/compilers_and_libraries_2017.1.132/linux/mpi/intel64/lib:/apps/spack/gilbreth/apps/intel-parallel-studio/cluster.2017.1-intel-17.0.1-2off4ih/compilers_and_libraries_2017.1.132/linux/mpi/mic/lib:/apps/spack/gilbreth/apps/intel-parallel-studio/cluster.2017.1-intel-17.0.1-2off4ih/compilers_and_libraries_2017.1.132/linux/ipp/lib/intel64:/apps/spack/gilbreth/apps/intel-parallel-studio/cluster.2017.1-intel-17.0.1-2off4ih/compilers_and_libraries_2017.1.132/linux/mkl/lib/intel64_lin:/apps/spack/gilbreth/apps/intel-parallel-studio/cluster.2017.1-intel-17.0.1-2off4ih/compilers_and_libraries_2017.1.132/linux/tbb/lib/intel64/gcc4.7:/apps/spack/gilbreth/apps/intel-parallel-studio/cluster.2017.1-intel-17.0.1-2off4ih/debugger_2017/iga/lib:/apps/spack/gilbreth/apps/intel-parallel-studio/cluster.2017.1-intel-17.0.1-2off4ih/debugger_2017/libipt/intel64/lib:/apps/spack/gilbreth/apps/intel-parallel-studio/cluster.2017.1-intel-17.0.1-2off4ih/compilers_and_libraries_2017.1.132/linux/daal/lib/intel64_lin:/apps/spack/gilbreth/apps/intel-parallel-studio/cluster.2017.1-intel-17.0.1-2off4ih/compilers_and_libraries_2017.1.132/linux/daal/../tbb/lib/intel64_lin/gcc4.4:/apps/spack/gilbreth/apps/intel-parallel-studio/cluster.2017.1-intel-17.0.1-2off4ih/lib:/usr/lib64\n",
      "2024-06-20 10:41:03.047465: W tensorflow/compiler/xla/stream_executor/platform/default/dso_loader.cc:64] Could not load dynamic library 'libnvinfer_plugin.so.7'; dlerror: libnvinfer_plugin.so.7: cannot open shared object file: No such file or directory; LD_LIBRARY_PATH: /apps/gilbreth/cuda-toolkit/cuda-11.2.0/extras/CUPTI/lib64:/apps/gilbreth/cuda-toolkit/cuda-11.2.0/lib64:/apps/spack/gilbreth/apps/intel-mpi/2017.1.132-intel-17.0.1-p7yx74h/compilers_and_libraries_2017.1.132/linux/mpi/intel64/lib:/apps/spack/gilbreth/apps/intel-mpi/2017.1.132-intel-17.0.1-p7yx74h/compilers_and_libraries_2017.1.132/linux/mpi/mic/lib:/apps/spack/gilbreth/apps/intel-parallel-studio/cluster.2017.1-intel-17.0.1-2off4ih/itac/2017.1.024/intel64/slib:/apps/spack/gilbreth/apps/intel-parallel-studio/cluster.2017.1-intel-17.0.1-2off4ih/compilers_and_libraries_2017.1.132/linux/compiler/lib/intel64:/apps/spack/gilbreth/apps/intel-parallel-studio/cluster.2017.1-intel-17.0.1-2off4ih/compilers_and_libraries_2017.1.132/linux/compiler/lib/intel64_lin:/apps/spack/gilbreth/apps/intel-parallel-studio/cluster.2017.1-intel-17.0.1-2off4ih/compilers_and_libraries_2017.1.132/linux/mpi/intel64/lib:/apps/spack/gilbreth/apps/intel-parallel-studio/cluster.2017.1-intel-17.0.1-2off4ih/compilers_and_libraries_2017.1.132/linux/mpi/mic/lib:/apps/spack/gilbreth/apps/intel-parallel-studio/cluster.2017.1-intel-17.0.1-2off4ih/compilers_and_libraries_2017.1.132/linux/ipp/lib/intel64:/apps/spack/gilbreth/apps/intel-parallel-studio/cluster.2017.1-intel-17.0.1-2off4ih/compilers_and_libraries_2017.1.132/linux/mkl/lib/intel64_lin:/apps/spack/gilbreth/apps/intel-parallel-studio/cluster.2017.1-intel-17.0.1-2off4ih/compilers_and_libraries_2017.1.132/linux/tbb/lib/intel64/gcc4.7:/apps/spack/gilbreth/apps/intel-parallel-studio/cluster.2017.1-intel-17.0.1-2off4ih/debugger_2017/iga/lib:/apps/spack/gilbreth/apps/intel-parallel-studio/cluster.2017.1-intel-17.0.1-2off4ih/debugger_2017/libipt/intel64/lib:/apps/spack/gilbreth/apps/intel-parallel-studio/cluster.2017.1-intel-17.0.1-2off4ih/compilers_and_libraries_2017.1.132/linux/daal/lib/intel64_lin:/apps/spack/gilbreth/apps/intel-parallel-studio/cluster.2017.1-intel-17.0.1-2off4ih/compilers_and_libraries_2017.1.132/linux/daal/../tbb/lib/intel64_lin/gcc4.4:/apps/spack/gilbreth/apps/intel-parallel-studio/cluster.2017.1-intel-17.0.1-2off4ih/lib:/usr/lib64\n",
      "2024-06-20 10:41:03.047475: W tensorflow/compiler/tf2tensorrt/utils/py_utils.cc:38] TF-TRT Warning: Cannot dlopen some TensorRT libraries. If you would like to use Nvidia GPU with TensorRT, please make sure the missing libraries mentioned above are installed properly.\n"
     ]
    }
   ],
   "source": [
    "import numpy as np\n",
    "import naplib as nl\n",
    "from auditory_cortex.datasets import BaselineDataset, DNNDataset\n",
    "from auditory_cortex.computational_models.encoding import TRF\n",
    "from sklearn.linear_model import RidgeCV, ElasticNet, Ridge, PoissonRegressor\n",
    "\n",
    "import matplotlib.pyplot as plt\n",
    "%matplotlib inline"
   ]
  },
  {
   "cell_type": "code",
   "execution_count": null,
   "metadata": {},
   "outputs": [],
   "source": []
  },
  {
   "cell_type": "code",
   "execution_count": 2,
   "metadata": {},
   "outputs": [
    {
     "name": "stdout",
     "output_type": "stream",
     "text": [
      "Using default normalizer file...\n"
     ]
    }
   ],
   "source": [
    "from auditory_cortex.analyses import Correlations\n",
    "model_name = 'whisper_tiny'\n",
    "identifier = 'trf_300'\n",
    "corr_obj = Correlations(\n",
    "\t\tmodel_name=model_name+'_'+identifier,\n",
    "\t\t)"
   ]
  },
  {
   "cell_type": "code",
   "execution_count": 5,
   "metadata": {},
   "outputs": [
    {
     "name": "stdout",
     "output_type": "stream",
     "text": [
      "Reading exisiting normalizer thresholds...\n",
      "Extracting column: session\n",
      "Retreiving data using normalizer threshold..\n"
     ]
    },
    {
     "data": {
      "text/plain": [
       "array([180627., 180719., 180720., 180731., 180807., 180808., 180814.,\n",
       "       190606., 191113., 191125., 191206., 200206., 200207., 200213.])"
      ]
     },
     "execution_count": 5,
     "metadata": {},
     "output_type": "execute_result"
    }
   ],
   "source": [
    "bin_width=50\n",
    "delay=0\n",
    "normalized=True\n",
    "\n",
    "column='session'\n",
    "poisson_normalizer=True\n",
    "use_stat_inclusion=False\n",
    "inclusion_p_threshold = 0.01\n",
    "use_poisson_null=True\n",
    "\n",
    "area='core'\n",
    "threshold= corr_obj.get_normalizer_threshold(\n",
    "\tbin_width=bin_width, poisson_normalizer=poisson_normalizer,\n",
    ")\n",
    "data_dist_core = corr_obj.get_corr_all_layers_for_bin_width(\n",
    "\t\tneural_area=area, bin_width=bin_width, delay=delay,\n",
    "\t\tthreshold=threshold, normalized=normalized,\n",
    "\t\tcolumn=column, use_stat_inclusion=use_stat_inclusion,\n",
    "\t\tinclusion_p_threshold=inclusion_p_threshold,\n",
    "\t\tuse_poisson_null=use_poisson_null,\n",
    "\n",
    "\t)\n",
    "np.unique(data_dist_core[2])"
   ]
  },
  {
   "cell_type": "code",
   "execution_count": 3,
   "metadata": {},
   "outputs": [
    {
     "name": "stdout",
     "output_type": "stream",
     "text": [
      "Reading exisiting normalizer thresholds...\n",
      "Extracting column: session\n",
      "Retreiving data using normalizer threshold..\n"
     ]
    }
   ],
   "source": [
    "bin_width=50\n",
    "delay=0\n",
    "normalized=True\n",
    "\n",
    "column='session'\n",
    "poisson_normalizer=True\n",
    "use_stat_inclusion=False\n",
    "inclusion_p_threshold = 0.01\n",
    "use_poisson_null=True\n",
    "\n",
    "area='non-primary'\n",
    "threshold= corr_obj.get_normalizer_threshold(\n",
    "\tbin_width=bin_width, poisson_normalizer=poisson_normalizer,\n",
    ")\n",
    "data_dist_core = corr_obj.get_corr_all_layers_for_bin_width(\n",
    "\t\tneural_area=area, bin_width=bin_width, delay=delay,\n",
    "\t\tthreshold=threshold, normalized=normalized,\n",
    "\t\tcolumn=column, use_stat_inclusion=use_stat_inclusion,\n",
    "\t\tinclusion_p_threshold=inclusion_p_threshold,\n",
    "\t\tuse_poisson_null=use_poisson_null,\n",
    "\n",
    "\t)"
   ]
  },
  {
   "cell_type": "code",
   "execution_count": 4,
   "metadata": {},
   "outputs": [
    {
     "data": {
      "text/plain": [
       "array([180613., 180728., 180730., 191121., 191210., 200205., 200219.])"
      ]
     },
     "execution_count": 4,
     "metadata": {},
     "output_type": "execute_result"
    }
   ],
   "source": [
    "np.unique(data_dist_core[2])"
   ]
  },
  {
   "cell_type": "code",
   "execution_count": 9,
   "metadata": {},
   "outputs": [
    {
     "name": "stdout",
     "output_type": "stream",
     "text": [
      "Number of sig. channels for session: 200213 = 14\n"
     ]
    },
    {
     "data": {
      "text/plain": [
       "6638     1\n",
       "6664    27\n",
       "6668    31\n",
       "6672    35\n",
       "6673    36\n",
       "6674    37\n",
       "6675    38\n",
       "6676    39\n",
       "6677    40\n",
       "6679    42\n",
       "6680    43\n",
       "6692    55\n",
       "6694    57\n",
       "6696    59\n",
       "Name: channel, dtype: int64"
      ]
     },
     "execution_count": 9,
     "metadata": {},
     "output_type": "execute_result"
    }
   ],
   "source": [
    "# session = 190726\n",
    "session = 200213\n",
    "sig_channels = corr_obj.data[(corr_obj.data['session']==session) &\\\n",
    "\t(corr_obj.data['normalizer']>threshold) &\\\n",
    "\t(corr_obj.data['layer']==3)\n",
    "\t]['channel']\n",
    "print(f\"Number of sig. channels for session: {session} = {sig_channels.size}\")\n",
    "sig_channels.astype(int)"
   ]
  },
  {
   "cell_type": "code",
   "execution_count": 57,
   "metadata": {},
   "outputs": [
    {
     "data": {
      "text/plain": [
       "6389     2\n",
       "6390     3\n",
       "6396     9\n",
       "6397    10\n",
       "6399    12\n",
       "6408    21\n",
       "6430    43\n",
       "6433    46\n",
       "6445    58\n",
       "Name: channel, dtype: int64"
      ]
     },
     "execution_count": 57,
     "metadata": {},
     "output_type": "execute_result"
    }
   ],
   "source": [
    "sig_channels.astype(int)"
   ]
  },
  {
   "cell_type": "code",
   "execution_count": 53,
   "metadata": {},
   "outputs": [
    {
     "data": {
      "text/html": [
       "<div>\n",
       "<style scoped>\n",
       "    .dataframe tbody tr th:only-of-type {\n",
       "        vertical-align: middle;\n",
       "    }\n",
       "\n",
       "    .dataframe tbody tr th {\n",
       "        vertical-align: top;\n",
       "    }\n",
       "\n",
       "    .dataframe thead th {\n",
       "        text-align: right;\n",
       "    }\n",
       "</style>\n",
       "<table border=\"1\" class=\"dataframe\">\n",
       "  <thead>\n",
       "    <tr style=\"text-align: right;\">\n",
       "      <th></th>\n",
       "      <th>session</th>\n",
       "      <th>layer</th>\n",
       "      <th>channel</th>\n",
       "      <th>bin_width</th>\n",
       "      <th>delay</th>\n",
       "      <th>test_cc_raw</th>\n",
       "      <th>normalizer</th>\n",
       "      <th>opt_lag</th>\n",
       "      <th>opt_lmbda</th>\n",
       "      <th>N_sents</th>\n",
       "      <th>poiss_entropy</th>\n",
       "      <th>uncertainty_per_spike</th>\n",
       "      <th>bits_per_spike_NLB</th>\n",
       "      <th>layer_type</th>\n",
       "      <th>normalized_test_cc</th>\n",
       "    </tr>\n",
       "  </thead>\n",
       "  <tbody>\n",
       "    <tr>\n",
       "      <th>4250</th>\n",
       "      <td>191121.0</td>\n",
       "      <td>2.0</td>\n",
       "      <td>8.0</td>\n",
       "      <td>50.0</td>\n",
       "      <td>0.0</td>\n",
       "      <td>0.393151</td>\n",
       "      <td>0.333173</td>\n",
       "      <td>300.0</td>\n",
       "      <td>5.0</td>\n",
       "      <td>500.0</td>\n",
       "      <td>0.0</td>\n",
       "      <td>0.0</td>\n",
       "      <td>0.0</td>\n",
       "      <td>transformer</td>\n",
       "      <td>0.681121</td>\n",
       "    </tr>\n",
       "    <tr>\n",
       "      <th>4254</th>\n",
       "      <td>191121.0</td>\n",
       "      <td>2.0</td>\n",
       "      <td>12.0</td>\n",
       "      <td>50.0</td>\n",
       "      <td>0.0</td>\n",
       "      <td>0.266610</td>\n",
       "      <td>0.182401</td>\n",
       "      <td>300.0</td>\n",
       "      <td>5.0</td>\n",
       "      <td>500.0</td>\n",
       "      <td>0.0</td>\n",
       "      <td>0.0</td>\n",
       "      <td>0.0</td>\n",
       "      <td>transformer</td>\n",
       "      <td>0.624256</td>\n",
       "    </tr>\n",
       "    <tr>\n",
       "      <th>4258</th>\n",
       "      <td>191121.0</td>\n",
       "      <td>2.0</td>\n",
       "      <td>16.0</td>\n",
       "      <td>50.0</td>\n",
       "      <td>0.0</td>\n",
       "      <td>0.344396</td>\n",
       "      <td>0.250856</td>\n",
       "      <td>300.0</td>\n",
       "      <td>5.0</td>\n",
       "      <td>500.0</td>\n",
       "      <td>0.0</td>\n",
       "      <td>0.0</td>\n",
       "      <td>0.0</td>\n",
       "      <td>transformer</td>\n",
       "      <td>0.687616</td>\n",
       "    </tr>\n",
       "    <tr>\n",
       "      <th>4263</th>\n",
       "      <td>191121.0</td>\n",
       "      <td>2.0</td>\n",
       "      <td>21.0</td>\n",
       "      <td>50.0</td>\n",
       "      <td>0.0</td>\n",
       "      <td>0.261057</td>\n",
       "      <td>0.177854</td>\n",
       "      <td>300.0</td>\n",
       "      <td>5.0</td>\n",
       "      <td>500.0</td>\n",
       "      <td>0.0</td>\n",
       "      <td>0.0</td>\n",
       "      <td>0.0</td>\n",
       "      <td>transformer</td>\n",
       "      <td>0.619018</td>\n",
       "    </tr>\n",
       "    <tr>\n",
       "      <th>4278</th>\n",
       "      <td>191121.0</td>\n",
       "      <td>2.0</td>\n",
       "      <td>36.0</td>\n",
       "      <td>50.0</td>\n",
       "      <td>0.0</td>\n",
       "      <td>0.197591</td>\n",
       "      <td>0.176845</td>\n",
       "      <td>300.0</td>\n",
       "      <td>5.0</td>\n",
       "      <td>500.0</td>\n",
       "      <td>0.0</td>\n",
       "      <td>0.0</td>\n",
       "      <td>0.0</td>\n",
       "      <td>transformer</td>\n",
       "      <td>0.469864</td>\n",
       "    </tr>\n",
       "    <tr>\n",
       "      <th>4280</th>\n",
       "      <td>191121.0</td>\n",
       "      <td>2.0</td>\n",
       "      <td>38.0</td>\n",
       "      <td>50.0</td>\n",
       "      <td>0.0</td>\n",
       "      <td>0.253940</td>\n",
       "      <td>0.173214</td>\n",
       "      <td>300.0</td>\n",
       "      <td>5.0</td>\n",
       "      <td>500.0</td>\n",
       "      <td>0.0</td>\n",
       "      <td>0.0</td>\n",
       "      <td>0.0</td>\n",
       "      <td>transformer</td>\n",
       "      <td>0.610155</td>\n",
       "    </tr>\n",
       "    <tr>\n",
       "      <th>4301</th>\n",
       "      <td>191121.0</td>\n",
       "      <td>2.0</td>\n",
       "      <td>59.0</td>\n",
       "      <td>50.0</td>\n",
       "      <td>0.0</td>\n",
       "      <td>0.375656</td>\n",
       "      <td>0.334649</td>\n",
       "      <td>300.0</td>\n",
       "      <td>5.0</td>\n",
       "      <td>500.0</td>\n",
       "      <td>0.0</td>\n",
       "      <td>0.0</td>\n",
       "      <td>0.0</td>\n",
       "      <td>transformer</td>\n",
       "      <td>0.649374</td>\n",
       "    </tr>\n",
       "  </tbody>\n",
       "</table>\n",
       "</div>"
      ],
      "text/plain": [
       "       session  layer  channel  bin_width  delay  test_cc_raw  normalizer  \\\n",
       "4250  191121.0    2.0      8.0       50.0    0.0     0.393151    0.333173   \n",
       "4254  191121.0    2.0     12.0       50.0    0.0     0.266610    0.182401   \n",
       "4258  191121.0    2.0     16.0       50.0    0.0     0.344396    0.250856   \n",
       "4263  191121.0    2.0     21.0       50.0    0.0     0.261057    0.177854   \n",
       "4278  191121.0    2.0     36.0       50.0    0.0     0.197591    0.176845   \n",
       "4280  191121.0    2.0     38.0       50.0    0.0     0.253940    0.173214   \n",
       "4301  191121.0    2.0     59.0       50.0    0.0     0.375656    0.334649   \n",
       "\n",
       "      opt_lag  opt_lmbda  N_sents  poiss_entropy  uncertainty_per_spike  \\\n",
       "4250    300.0        5.0    500.0            0.0                    0.0   \n",
       "4254    300.0        5.0    500.0            0.0                    0.0   \n",
       "4258    300.0        5.0    500.0            0.0                    0.0   \n",
       "4263    300.0        5.0    500.0            0.0                    0.0   \n",
       "4278    300.0        5.0    500.0            0.0                    0.0   \n",
       "4280    300.0        5.0    500.0            0.0                    0.0   \n",
       "4301    300.0        5.0    500.0            0.0                    0.0   \n",
       "\n",
       "      bits_per_spike_NLB   layer_type  normalized_test_cc  \n",
       "4250                 0.0  transformer            0.681121  \n",
       "4254                 0.0  transformer            0.624256  \n",
       "4258                 0.0  transformer            0.687616  \n",
       "4263                 0.0  transformer            0.619018  \n",
       "4278                 0.0  transformer            0.469864  \n",
       "4280                 0.0  transformer            0.610155  \n",
       "4301                 0.0  transformer            0.649374  "
      ]
     },
     "execution_count": 53,
     "metadata": {},
     "output_type": "execute_result"
    }
   ],
   "source": [
    "corr_obj.data[(corr_obj.data['session']==191121) &\\\n",
    "\t(corr_obj.data['normalizer']>threshold) &\\\n",
    "\t(corr_obj.data['layer']==2)\n",
    "\t]"
   ]
  },
  {
   "cell_type": "markdown",
   "metadata": {},
   "source": [
    "### visualizing the TRF weights.."
   ]
  },
  {
   "cell_type": "code",
   "execution_count": 2,
   "metadata": {},
   "outputs": [
    {
     "name": "stdout",
     "output_type": "stream",
     "text": [
      "Using default normalizer file...\n",
      "DNNDataset: Loading data for session-200206 at bin_width-50ms.\n",
      "DataLoader: Extracting spikes for session-200206...\n",
      "NeuralData:  Creating object for session: 200206 ... Done.\n",
      "NeuralData: Reading neural spikes for 200206. \n",
      "Reading raw features from /scratch/gilbreth/ahmedb/cache/whisper_tiny/whisper_tiny_raw_features.pkl\n",
      "Resamping ANN features at bin-width: 50\n"
     ]
    }
   ],
   "source": [
    "session = 200206\n",
    "bin_width=50\n",
    "model_name = 'whisper_tiny'\n",
    "layer_ID=3\n",
    "\n",
    "dataset = DNNDataset(session, bin_width, model_name, layer_ID)"
   ]
  },
  {
   "cell_type": "code",
   "execution_count": 16,
   "metadata": {},
   "outputs": [],
   "source": [
    "tmin=0\n",
    "opt_lag=300\n",
    "num_workers=1\n",
    "opt_lmbda = 1e4\n",
    "\n",
    "estimator = Ridge(alpha=opt_lmbda)\n",
    "sfreq = 1000/dataset.bin_width\n",
    "tmax = opt_lag/1000 # convert seconds to ms\n",
    "trf_model = nl.encoding.TRF(\n",
    "\t\ttmin, tmax, sfreq, estimator=estimator,\n",
    "\t\tn_jobs=num_workers, show_progress=True\n",
    "\t\t)"
   ]
  },
  {
   "cell_type": "code",
   "execution_count": 18,
   "metadata": {},
   "outputs": [
    {
     "data": {
      "application/vnd.jupyter.widget-view+json": {
       "model_id": "68fa72799d244ff6844ec9b4f57990ed",
       "version_major": 2,
       "version_minor": 0
      },
      "text/plain": [
       "  0%|          | 0/64 [00:00<?, ?it/s]"
      ]
     },
     "metadata": {},
     "output_type": "display_data"
    },
    {
     "data": {
      "text/plain": [
       "TRF(estimator=Ridge(alpha=10000.0), sfreq=20.0, tmax=0.3, tmin=0)"
      ]
     },
     "execution_count": 18,
     "metadata": {},
     "output_type": "execute_result"
    }
   ],
   "source": [
    "mapping_x, mapping_y = dataset.get_data()\n",
    "trf_model.fit(X=mapping_x, y=mapping_y)"
   ]
  },
  {
   "cell_type": "code",
   "execution_count": 37,
   "metadata": {},
   "outputs": [
    {
     "data": {
      "text/plain": [
       "Text(0.5, 0, 'lags')"
      ]
     },
     "execution_count": 37,
     "metadata": {},
     "output_type": "execute_result"
    },
    {
     "data": {
      "image/png": "[encoded data removed]",
      "text/plain": [
       "<Figure size 432x288 with 1 Axes>"
      ]
     },
     "metadata": {
      "needs_background": "light"
     },
     "output_type": "display_data"
    }
   ],
   "source": [
    "ch = 4\n",
    "coeff = trf_model.coef_\n",
    "coeff = np.mean(coeff, axis=1)\n",
    "plt.imshow(coeff, origin='lower', cmap='inferno')\n",
    "plt.title(f\"{session}\")\n",
    "plt.ylabel(\"channels\")\n",
    "plt.xlabel(\"lags\")"
   ]
  },
  {
   "cell_type": "markdown",
   "metadata": {},
   "source": [
    "### session: 180728"
   ]
  },
  {
   "cell_type": "code",
   "execution_count": 83,
   "metadata": {},
   "outputs": [
    {
     "name": "stdout",
     "output_type": "stream",
     "text": [
      "Using default normalizer file...\n",
      "DNNDataset: Loading data for session-180728 at bin_width-50ms.\n",
      "DataLoader: Extracting spikes for session-180728...\n",
      "NeuralData:  Creating object for session: 180728 ... Done.\n",
      "NeuralData: Reading neural spikes for 180728. \n",
      "Reading raw features from /scratch/gilbreth/ahmedb/cache/whisper_tiny/whisper_tiny_raw_features.pkl\n",
      "Resamping ANN features at bin-width: 50\n"
     ]
    }
   ],
   "source": [
    "session = 180728\n",
    "bin_width=50\n",
    "model_name = 'whisper_tiny'\n",
    "layer_ID=3\n",
    "\n",
    "dataset = DNNDataset(session, bin_width, model_name, layer_ID)"
   ]
  },
  {
   "cell_type": "code",
   "execution_count": 84,
   "metadata": {},
   "outputs": [],
   "source": [
    "tmin=0\n",
    "opt_lag=300\n",
    "num_workers=1\n",
    "opt_lmbda = 1e5\n",
    "\n",
    "estimator = Ridge(alpha=opt_lmbda)\n",
    "sfreq = 1000/dataset.bin_width\n",
    "tmax = opt_lag/1000 # convert seconds to ms\n",
    "trf_model = nl.encoding.TRF(\n",
    "\t\ttmin, tmax, sfreq, estimator=estimator,\n",
    "\t\tn_jobs=num_workers, show_progress=True\n",
    "\t\t)"
   ]
  },
  {
   "cell_type": "code",
   "execution_count": 85,
   "metadata": {},
   "outputs": [
    {
     "data": {
      "application/vnd.jupyter.widget-view+json": {
       "model_id": "254131e6696443f881b3a35c187d4108",
       "version_major": 2,
       "version_minor": 0
      },
      "text/plain": [
       "  0%|          | 0/16 [00:00<?, ?it/s]"
      ]
     },
     "metadata": {},
     "output_type": "display_data"
    },
    {
     "data": {
      "text/plain": [
       "TRF(estimator=Ridge(alpha=100000.0), sfreq=20.0, tmax=0.3, tmin=0)"
      ]
     },
     "execution_count": 85,
     "metadata": {},
     "output_type": "execute_result"
    }
   ],
   "source": [
    "mapping_x, mapping_y = dataset.get_data()\n",
    "trf_model.fit(X=mapping_x, y=mapping_y)"
   ]
  },
  {
   "cell_type": "code",
   "execution_count": 86,
   "metadata": {},
   "outputs": [],
   "source": [
    "sig_channels = corr_obj.data[(corr_obj.data['session']==session) &\\\n",
    "\t(corr_obj.data['normalizer']>threshold) &\\\n",
    "\t(corr_obj.data['layer']==3)\n",
    "\t]['channel'].astype(int)"
   ]
  },
  {
   "cell_type": "code",
   "execution_count": 87,
   "metadata": {},
   "outputs": [
    {
     "data": {
      "image/png": "[encoded data removed]",
      "text/plain": [
       "<Figure size 432x288 with 1 Axes>"
      ]
     },
     "metadata": {
      "needs_background": "light"
     },
     "output_type": "display_data"
    }
   ],
   "source": [
    "coeff = trf_model.coef_\n",
    "coeff = np.mean(coeff, axis=1)\n",
    "plt.imshow(coeff[sig_channels], origin='lower', cmap='inferno')\n",
    "plt.title(f\"{session}\")\n",
    "plt.ylabel(\"sig. channels\")\n",
    "plt.xlabel(\"lags\")\n",
    "plt.yticks(np.arange(len(sig_channels)),sig_channels)\n",
    "plt.show()"
   ]
  },
  {
   "cell_type": "markdown",
   "metadata": {},
   "source": [
    "### session: 200205"
   ]
  },
  {
   "cell_type": "code",
   "execution_count": 88,
   "metadata": {},
   "outputs": [
    {
     "name": "stdout",
     "output_type": "stream",
     "text": [
      "Using default normalizer file...\n",
      "DNNDataset: Loading data for session-200205 at bin_width-50ms.\n",
      "DataLoader: Extracting spikes for session-200205...\n",
      "NeuralData:  Creating object for session: 200205 ... Done.\n",
      "NeuralData: Reading neural spikes for 200205. \n",
      "Reading raw features from /scratch/gilbreth/ahmedb/cache/whisper_tiny/whisper_tiny_raw_features.pkl\n",
      "Resamping ANN features at bin-width: 50\n"
     ]
    }
   ],
   "source": [
    "session = 200205\n",
    "bin_width=50\n",
    "model_name = 'whisper_tiny'\n",
    "layer_ID=3\n",
    "\n",
    "dataset = DNNDataset(session, bin_width, model_name, layer_ID)"
   ]
  },
  {
   "cell_type": "code",
   "execution_count": 89,
   "metadata": {},
   "outputs": [],
   "source": [
    "tmin=0\n",
    "opt_lag=300\n",
    "num_workers=1\n",
    "opt_lmbda = 1e5\n",
    "\n",
    "estimator = Ridge(alpha=opt_lmbda)\n",
    "sfreq = 1000/dataset.bin_width\n",
    "tmax = opt_lag/1000 # convert seconds to ms\n",
    "trf_model = nl.encoding.TRF(\n",
    "\t\ttmin, tmax, sfreq, estimator=estimator,\n",
    "\t\tn_jobs=num_workers, show_progress=True\n",
    "\t\t)"
   ]
  },
  {
   "cell_type": "code",
   "execution_count": 90,
   "metadata": {},
   "outputs": [
    {
     "data": {
      "application/vnd.jupyter.widget-view+json": {
       "model_id": "f7b85860a3e94ec4b3708f2123fa638a",
       "version_major": 2,
       "version_minor": 0
      },
      "text/plain": [
       "  0%|          | 0/60 [00:00<?, ?it/s]"
      ]
     },
     "metadata": {},
     "output_type": "display_data"
    },
    {
     "data": {
      "text/plain": [
       "TRF(estimator=Ridge(alpha=100000.0), sfreq=20.0, tmax=0.3, tmin=0)"
      ]
     },
     "execution_count": 90,
     "metadata": {},
     "output_type": "execute_result"
    }
   ],
   "source": [
    "mapping_x, mapping_y = dataset.get_data()\n",
    "trf_model.fit(X=mapping_x, y=mapping_y)"
   ]
  },
  {
   "cell_type": "code",
   "execution_count": 91,
   "metadata": {},
   "outputs": [],
   "source": [
    "sig_channels = corr_obj.data[(corr_obj.data['session']==session) &\\\n",
    "\t(corr_obj.data['normalizer']>threshold) &\\\n",
    "\t(corr_obj.data['layer']==3)\n",
    "\t]['channel'].astype(int)\n",
    "# sig_channels.astype(int)"
   ]
  },
  {
   "cell_type": "code",
   "execution_count": 92,
   "metadata": {},
   "outputs": [
    {
     "data": {
      "image/png": "[encoded data removed]",
      "text/plain": [
       "<Figure size 432x288 with 1 Axes>"
      ]
     },
     "metadata": {
      "needs_background": "light"
     },
     "output_type": "display_data"
    }
   ],
   "source": [
    "coeff = trf_model.coef_\n",
    "coeff = np.mean(coeff, axis=1)\n",
    "plt.imshow(coeff[sig_channels], origin='lower', cmap='inferno')\n",
    "plt.title(f\"{session}\")\n",
    "plt.ylabel(\"sig. channels\")\n",
    "plt.xlabel(\"lags\")\n",
    "plt.yticks(np.arange(len(sig_channels)),sig_channels)\n",
    "plt.show()"
   ]
  },
  {
   "cell_type": "markdown",
   "metadata": {},
   "source": [
    "### "
   ]
  },
  {
   "cell_type": "markdown",
   "metadata": {},
   "source": [
    "### session: 191121"
   ]
  },
  {
   "cell_type": "code",
   "execution_count": 67,
   "metadata": {},
   "outputs": [
    {
     "name": "stdout",
     "output_type": "stream",
     "text": [
      "Using default normalizer file...\n",
      "DNNDataset: Loading data for session-191121 at bin_width-50ms.\n",
      "DataLoader: Extracting spikes for session-191121...\n",
      "NeuralData:  Creating object for session: 191121 ... Done.\n",
      "NeuralData: Reading neural spikes for 191121. \n",
      "Reading raw features from /scratch/gilbreth/ahmedb/cache/whisper_tiny/whisper_tiny_raw_features.pkl\n",
      "Resamping ANN features at bin-width: 50\n"
     ]
    }
   ],
   "source": [
    "session = 191121\n",
    "bin_width=50\n",
    "model_name = 'whisper_tiny'\n",
    "layer_ID=3\n",
    "\n",
    "dataset = DNNDataset(session, bin_width, model_name, layer_ID)"
   ]
  },
  {
   "cell_type": "code",
   "execution_count": 68,
   "metadata": {},
   "outputs": [],
   "source": [
    "tmin=0\n",
    "opt_lag=300\n",
    "num_workers=1\n",
    "opt_lmbda = 1e5\n",
    "\n",
    "estimator = Ridge(alpha=opt_lmbda)\n",
    "sfreq = 1000/dataset.bin_width\n",
    "tmax = opt_lag/1000 # convert seconds to ms\n",
    "trf_model = nl.encoding.TRF(\n",
    "\t\ttmin, tmax, sfreq, estimator=estimator,\n",
    "\t\tn_jobs=num_workers, show_progress=True\n",
    "\t\t)"
   ]
  },
  {
   "cell_type": "code",
   "execution_count": 70,
   "metadata": {},
   "outputs": [
    {
     "data": {
      "application/vnd.jupyter.widget-view+json": {
       "model_id": "00a2c070391b448ebdd1150d5f4e6a1f",
       "version_major": 2,
       "version_minor": 0
      },
      "text/plain": [
       "  0%|          | 0/63 [00:00<?, ?it/s]"
      ]
     },
     "metadata": {},
     "output_type": "display_data"
    },
    {
     "data": {
      "text/plain": [
       "TRF(estimator=Ridge(alpha=100000.0), sfreq=20.0, tmax=0.3, tmin=0)"
      ]
     },
     "execution_count": 70,
     "metadata": {},
     "output_type": "execute_result"
    }
   ],
   "source": [
    "mapping_x, mapping_y = dataset.get_data()\n",
    "trf_model.fit(X=mapping_x, y=mapping_y)"
   ]
  },
  {
   "cell_type": "code",
   "execution_count": 69,
   "metadata": {},
   "outputs": [],
   "source": [
    "sig_channels = corr_obj.data[(corr_obj.data['session']==session) &\\\n",
    "\t(corr_obj.data['normalizer']>threshold) &\\\n",
    "\t(corr_obj.data['layer']==3)\n",
    "\t]['channel'].astype(int)"
   ]
  },
  {
   "cell_type": "code",
   "execution_count": 76,
   "metadata": {},
   "outputs": [
    {
     "data": {
      "image/png": "[encoded data removed]",
      "text/plain": [
       "<Figure size 432x288 with 1 Axes>"
      ]
     },
     "metadata": {
      "needs_background": "light"
     },
     "output_type": "display_data"
    }
   ],
   "source": [
    "coeff = trf_model.coef_\n",
    "coeff = np.mean(coeff, axis=1)\n",
    "plt.imshow(coeff[sig_channels], origin='lower', cmap='inferno')\n",
    "plt.title(f\"{session}\")\n",
    "plt.ylabel(\"sig. channels\")\n",
    "plt.xlabel(\"lags\")\n",
    "plt.yticks(np.arange(len(sig_channels)),sig_channels)\n",
    "plt.show()"
   ]
  },
  {
   "cell_type": "markdown",
   "metadata": {},
   "source": [
    "### session: 191210"
   ]
  },
  {
   "cell_type": "code",
   "execution_count": 78,
   "metadata": {},
   "outputs": [
    {
     "name": "stdout",
     "output_type": "stream",
     "text": [
      "Using default normalizer file...\n",
      "DNNDataset: Loading data for session-191210 at bin_width-50ms.\n",
      "DataLoader: Extracting spikes for session-191210...\n",
      "NeuralData:  Creating object for session: 191210 ... Done.\n",
      "NeuralData: Reading neural spikes for 191210. \n",
      "Reading raw features from /scratch/gilbreth/ahmedb/cache/whisper_tiny/whisper_tiny_raw_features.pkl\n",
      "Resamping ANN features at bin-width: 50\n"
     ]
    }
   ],
   "source": [
    "session = 191210\n",
    "bin_width=50\n",
    "model_name = 'whisper_tiny'\n",
    "layer_ID=3\n",
    "\n",
    "dataset = DNNDataset(session, bin_width, model_name, layer_ID)"
   ]
  },
  {
   "cell_type": "code",
   "execution_count": 79,
   "metadata": {},
   "outputs": [],
   "source": [
    "tmin=0\n",
    "opt_lag=300\n",
    "num_workers=1\n",
    "opt_lmbda = 1e5\n",
    "\n",
    "estimator = Ridge(alpha=opt_lmbda)\n",
    "sfreq = 1000/dataset.bin_width\n",
    "tmax = opt_lag/1000 # convert seconds to ms\n",
    "trf_model = nl.encoding.TRF(\n",
    "\t\ttmin, tmax, sfreq, estimator=estimator,\n",
    "\t\tn_jobs=num_workers, show_progress=True\n",
    "\t\t)"
   ]
  },
  {
   "cell_type": "code",
   "execution_count": 80,
   "metadata": {},
   "outputs": [
    {
     "data": {
      "application/vnd.jupyter.widget-view+json": {
       "model_id": "c6b8dbb9b5bf457bad48405165a5ac10",
       "version_major": 2,
       "version_minor": 0
      },
      "text/plain": [
       "  0%|          | 0/61 [00:00<?, ?it/s]"
      ]
     },
     "metadata": {},
     "output_type": "display_data"
    },
    {
     "data": {
      "text/plain": [
       "TRF(estimator=Ridge(alpha=100000.0), sfreq=20.0, tmax=0.3, tmin=0)"
      ]
     },
     "execution_count": 80,
     "metadata": {},
     "output_type": "execute_result"
    }
   ],
   "source": [
    "mapping_x, mapping_y = dataset.get_data()\n",
    "trf_model.fit(X=mapping_x, y=mapping_y)"
   ]
  },
  {
   "cell_type": "code",
   "execution_count": 81,
   "metadata": {},
   "outputs": [],
   "source": [
    "sig_channels = corr_obj.data[(corr_obj.data['session']==session) &\\\n",
    "\t(corr_obj.data['normalizer']>threshold) &\\\n",
    "\t(corr_obj.data['layer']==3)\n",
    "\t]['channel'].astype(int)"
   ]
  },
  {
   "cell_type": "code",
   "execution_count": 82,
   "metadata": {},
   "outputs": [
    {
     "data": {
      "image/png": "[encoded data removed]",
      "text/plain": [
       "<Figure size 432x288 with 1 Axes>"
      ]
     },
     "metadata": {
      "needs_background": "light"
     },
     "output_type": "display_data"
    }
   ],
   "source": [
    "coeff = trf_model.coef_\n",
    "coeff = np.mean(coeff, axis=1)\n",
    "plt.imshow(coeff[sig_channels], origin='lower', cmap='inferno')\n",
    "plt.title(f\"{session}\")\n",
    "plt.ylabel(\"sig. channels\")\n",
    "plt.xlabel(\"lags\")\n",
    "plt.yticks(np.arange(len(sig_channels)),sig_channels)\n",
    "plt.show()"
   ]
  },
  {
   "cell_type": "code",
   "execution_count": null,
   "metadata": {},
   "outputs": [],
   "source": []
  },
  {
   "cell_type": "code",
   "execution_count": 77,
   "metadata": {},
   "outputs": [
    {
     "data": {
      "text/html": [
       "<div>\n",
       "<style scoped>\n",
       "    .dataframe tbody tr th:only-of-type {\n",
       "        vertical-align: middle;\n",
       "    }\n",
       "\n",
       "    .dataframe tbody tr th {\n",
       "        vertical-align: top;\n",
       "    }\n",
       "\n",
       "    .dataframe thead th {\n",
       "        text-align: right;\n",
       "    }\n",
       "</style>\n",
       "<table border=\"1\" class=\"dataframe\">\n",
       "  <thead>\n",
       "    <tr style=\"text-align: right;\">\n",
       "      <th></th>\n",
       "      <th>session</th>\n",
       "      <th>layer</th>\n",
       "      <th>channel</th>\n",
       "      <th>bin_width</th>\n",
       "      <th>delay</th>\n",
       "      <th>test_cc_raw</th>\n",
       "      <th>normalizer</th>\n",
       "      <th>opt_lag</th>\n",
       "      <th>opt_lmbda</th>\n",
       "      <th>N_sents</th>\n",
       "      <th>poiss_entropy</th>\n",
       "      <th>uncertainty_per_spike</th>\n",
       "      <th>bits_per_spike_NLB</th>\n",
       "      <th>layer_type</th>\n",
       "      <th>normalized_test_cc</th>\n",
       "    </tr>\n",
       "  </thead>\n",
       "  <tbody>\n",
       "    <tr>\n",
       "      <th>6209</th>\n",
       "      <td>191210.0</td>\n",
       "      <td>3.0</td>\n",
       "      <td>6.0</td>\n",
       "      <td>50.0</td>\n",
       "      <td>0.0</td>\n",
       "      <td>0.142681</td>\n",
       "      <td>0.092712</td>\n",
       "      <td>300.0</td>\n",
       "      <td>5.0</td>\n",
       "      <td>500.0</td>\n",
       "      <td>0.0</td>\n",
       "      <td>0.0</td>\n",
       "      <td>0.0</td>\n",
       "      <td>transformer</td>\n",
       "      <td>0.468596</td>\n",
       "    </tr>\n",
       "    <tr>\n",
       "      <th>6215</th>\n",
       "      <td>191210.0</td>\n",
       "      <td>3.0</td>\n",
       "      <td>12.0</td>\n",
       "      <td>50.0</td>\n",
       "      <td>0.0</td>\n",
       "      <td>0.144507</td>\n",
       "      <td>0.118112</td>\n",
       "      <td>300.0</td>\n",
       "      <td>5.0</td>\n",
       "      <td>500.0</td>\n",
       "      <td>0.0</td>\n",
       "      <td>0.0</td>\n",
       "      <td>0.0</td>\n",
       "      <td>transformer</td>\n",
       "      <td>0.420477</td>\n",
       "    </tr>\n",
       "    <tr>\n",
       "      <th>6222</th>\n",
       "      <td>191210.0</td>\n",
       "      <td>3.0</td>\n",
       "      <td>19.0</td>\n",
       "      <td>50.0</td>\n",
       "      <td>0.0</td>\n",
       "      <td>0.160498</td>\n",
       "      <td>0.113632</td>\n",
       "      <td>300.0</td>\n",
       "      <td>5.0</td>\n",
       "      <td>500.0</td>\n",
       "      <td>0.0</td>\n",
       "      <td>0.0</td>\n",
       "      <td>0.0</td>\n",
       "      <td>transformer</td>\n",
       "      <td>0.476124</td>\n",
       "    </tr>\n",
       "  </tbody>\n",
       "</table>\n",
       "</div>"
      ],
      "text/plain": [
       "       session  layer  channel  bin_width  delay  test_cc_raw  normalizer  \\\n",
       "6209  191210.0    3.0      6.0       50.0    0.0     0.142681    0.092712   \n",
       "6215  191210.0    3.0     12.0       50.0    0.0     0.144507    0.118112   \n",
       "6222  191210.0    3.0     19.0       50.0    0.0     0.160498    0.113632   \n",
       "\n",
       "      opt_lag  opt_lmbda  N_sents  poiss_entropy  uncertainty_per_spike  \\\n",
       "6209    300.0        5.0    500.0            0.0                    0.0   \n",
       "6215    300.0        5.0    500.0            0.0                    0.0   \n",
       "6222    300.0        5.0    500.0            0.0                    0.0   \n",
       "\n",
       "      bits_per_spike_NLB   layer_type  normalized_test_cc  \n",
       "6209                 0.0  transformer            0.468596  \n",
       "6215                 0.0  transformer            0.420477  \n",
       "6222                 0.0  transformer            0.476124  "
      ]
     },
     "execution_count": 77,
     "metadata": {},
     "output_type": "execute_result"
    }
   ],
   "source": [
    "session = 191210\n",
    "corr_obj.data[(corr_obj.data['session']==session) &\\\n",
    "\t(corr_obj.data['normalizer']>threshold) &\\\n",
    "\t(corr_obj.data['layer']==3)\n",
    "\t]"
   ]
  },
  {
   "cell_type": "code",
   "execution_count": null,
   "metadata": {},
   "outputs": [],
   "source": []
  },
  {
   "cell_type": "markdown",
   "metadata": {},
   "source": [
    "### rest of the code.."
   ]
  },
  {
   "cell_type": "code",
   "execution_count": 29,
   "metadata": {},
   "outputs": [
    {
     "data": {
      "text/plain": [
       "0.0012065059079679216"
      ]
     },
     "execution_count": 29,
     "metadata": {},
     "output_type": "execute_result"
    }
   ],
   "source": [
    "np.max(coeff)"
   ]
  },
  {
   "cell_type": "code",
   "execution_count": 30,
   "metadata": {},
   "outputs": [
    {
     "data": {
      "text/plain": [
       "-0.0011402374412181888"
      ]
     },
     "execution_count": 30,
     "metadata": {},
     "output_type": "execute_result"
    }
   ],
   "source": [
    "np.min(coeff)"
   ]
  },
  {
   "cell_type": "code",
   "execution_count": null,
   "metadata": {},
   "outputs": [],
   "source": []
  }
 ],
 "metadata": {
  "kernelspec": {
   "display_name": "Python (My wav2letter Kernel)",
   "language": "python",
   "name": "wav2letter"
  },
  "language_info": {
   "codemirror_mode": {
    "name": "ipython",
    "version": 3
   },
   "file_extension": ".py",
   "mimetype": "text/x-python",
   "name": "python",
   "nbconvert_exporter": "python",
   "pygments_lexer": "ipython3",
   "version": "3.8.5"
  }
 },
 "nbformat": 4,
 "nbformat_minor": 2
}
