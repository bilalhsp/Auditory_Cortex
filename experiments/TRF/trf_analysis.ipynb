{
 "cells": [
  {
   "cell_type": "code",
   "execution_count": 1,
   "metadata": {},
   "outputs": [],
   "source": [
    "# # adjsut the basic logging lovel of notebook\n",
    "# import logging\n",
    "# logging.basicConfig(level=logging.WARNING)\n",
    "\n",
    "import os\n",
    "import yaml\n",
    "import numpy as np\n",
    "import pandas as pd\n",
    "import scipy as scp\n",
    "import pickle\n",
    "import matplotlib.pyplot as plt\n",
    "import matplotlib as mpl\n",
    "# import seaborn as sns\n",
    "from matplotlib.lines import Line2D\n",
    "from palettable.colorbrewer import qualitative\n",
    "\n",
    "from auditory_cortex.analyses import Correlations\n",
    "from auditory_cortex import results_dir, aux_dir, saved_corr_dir, cache_dir\n",
    "from auditory_cortex.utils import CorrelationUtils\n",
    "from auditory_cortex.plotters.correlation_plotter import RegPlotter\n",
    "\n",
    "from pycolormap_2d import ColorMap2DBremm, ColorMap2DZiegler\n",
    "%matplotlib inline"
   ]
  },
  {
   "cell_type": "markdown",
   "metadata": {},
   "source": [
    "#### combining results across layers..."
   ]
  },
  {
   "cell_type": "code",
   "execution_count": 12,
   "metadata": {},
   "outputs": [],
   "source": [
    "num_layers = {\n",
    "\t'wav2letter_modified': 14,\n",
    "\t'deepspeech2': 7,\n",
    "\t'speech2text': 14,\n",
    "\t'whisper_tiny': 6,\n",
    "\t'whisper_base': 8,\n",
    "\t'wav2vec2': 21,\n",
    "\t'w2v2_audioset': 21,\n",
    "\t'w2v2_generic': 21,\n",
    "}\n",
    "\n",
    "\n",
    "def display_sessions_done(model_name, identifier, verbose=False, num_sessions=41):\n",
    "\t\"\"\"Display the number of sessions done for all bin widths\n",
    "\t\"\"\"\n",
    "\tif verbose:\n",
    "\t\tprint(f\"For '{model_name}', '{identifier}'\")\n",
    "\tcorr_obj = Correlations(model_name+'_'+identifier)\n",
    "\tbin_widths = np.sort(corr_obj.data['bin_width'].unique())\n",
    "\treturn_list = []\n",
    "\tfor bin_width in bin_widths:\n",
    "\t\tdata = corr_obj.get_selected_data(bin_width=bin_width)\n",
    "\t\tif verbose:\n",
    "\t\t\tprint(f\"For bin_width: {bin_width:03} ms, sessions done: {len(data['session'].unique())}\")\n",
    "\t\tif len(data['session'].unique()) != num_sessions:\n",
    "\t\t\treturn_list.append(model_name+'_'+identifier+f'{bin_width}')\n",
    "\t\telse:\n",
    "\t\t\treturn_list.append(None)\n",
    "\treturn return_list\n",
    "\n",
    "def check_saved_results(identifier, model_names=None, verbose=False, num_sessions=41):\n",
    "\n",
    "\tmodels_not_done = []\n",
    "\tif model_names is None:\n",
    "\t\tmodel_names = num_layers.keys()\n",
    "\tfor model_name in model_names:\n",
    "\t\tnot_done = display_sessions_done(\n",
    "\t\t\tmodel_name, identifier, verbose=verbose, num_sessions=num_sessions)\n",
    "\t\tmodels_not_done.extend(not_done)\n",
    "\t\tfor i in range(1, num_layers[model_name]):\n",
    "\t\t\tnot_done = display_sessions_done(\n",
    "\t\t\t\tmodel_name, identifier+f'_l{i}', verbose=verbose, num_sessions=num_sessions)\n",
    "\t\t\tmodels_not_done.extend(not_done)\n",
    "\n",
    "\t# remove None entries..\n",
    "\twhile None in models_not_done:\n",
    "\t\tmodels_not_done.remove(None)\n",
    "\t\n",
    "\tif len(models_not_done) ==0:\n",
    "\t\tprint(f\"All models done..for {identifier}\")\n",
    "\telse:\n",
    "\t\tprint(f\"Models with incomplete resutls:\")\n",
    "\t\tfor iden in models_not_done:\n",
    "\t\t\tprint(iden)\n",
    "\t\n",
    "\n",
    "def combine_results_for_all_models(identifier, model_names=None):\n",
    "\t\"\"\"Combines results for the list of models provided\"\"\"\n",
    "\tnormalizer_filename = 'modified_bins_normalizer.csv'\n",
    "\tif model_names is None:\n",
    "\t\tmodel_names = num_layers.keys()\n",
    "\tfor model_name in model_names:\n",
    "\t\tids = [identifier] + [f'{identifier}_l{i}' for i in range(1, num_layers[model_name])]\n",
    "\t\tCorrelations.combine_and_ready(\n",
    "\t\t\tmodel_name,\n",
    "\t\t\tids, 0, normalizer_filename=normalizer_filename\n",
    "\t\t\t)\n",
    "\t\t\n"
   ]
  },
  {
   "cell_type": "code",
   "execution_count": 13,
   "metadata": {},
   "outputs": [
    {
     "name": "stdout",
     "output_type": "stream",
     "text": [
      "For 'whisper_base', 'mVocs_trf_lags300'\n",
      "Using default normalizer file...\n",
      "For bin_width: 50.0 ms, sessions done: 16\n",
      "For 'whisper_base', 'mVocs_trf_lags300_l1'\n",
      "Using default normalizer file...\n",
      "For bin_width: 50.0 ms, sessions done: 16\n",
      "For 'whisper_base', 'mVocs_trf_lags300_l2'\n",
      "Using default normalizer file...\n",
      "For bin_width: 50.0 ms, sessions done: 10\n",
      "For 'whisper_base', 'mVocs_trf_lags300_l3'\n",
      "Using default normalizer file...\n",
      "For bin_width: 50.0 ms, sessions done: 8\n",
      "For 'whisper_base', 'mVocs_trf_lags300_l4'\n",
      "Using default normalizer file...\n",
      "For bin_width: 50.0 ms, sessions done: 12\n",
      "For 'whisper_base', 'mVocs_trf_lags300_l5'\n",
      "Using default normalizer file...\n",
      "For bin_width: 50.0 ms, sessions done: 10\n",
      "For 'whisper_base', 'mVocs_trf_lags300_l6'\n",
      "Using default normalizer file...\n",
      "For bin_width: 50.0 ms, sessions done: 11\n",
      "For 'whisper_base', 'mVocs_trf_lags300_l7'\n",
      "Using default normalizer file...\n",
      "For bin_width: 50.0 ms, sessions done: 9\n",
      "Models with incomplete resutls:\n",
      "whisper_base_mVocs_trf_lags30050.0\n",
      "whisper_base_mVocs_trf_lags300_l150.0\n",
      "whisper_base_mVocs_trf_lags300_l250.0\n",
      "whisper_base_mVocs_trf_lags300_l350.0\n",
      "whisper_base_mVocs_trf_lags300_l450.0\n",
      "whisper_base_mVocs_trf_lags300_l550.0\n",
      "whisper_base_mVocs_trf_lags300_l650.0\n",
      "whisper_base_mVocs_trf_lags300_l750.0\n"
     ]
    }
   ],
   "source": [
    "model_names = [\n",
    "\t# 'wav2vec2',\n",
    "\t# 'speech2text'\n",
    "    # 'whisper_tiny',\n",
    "\t'whisper_base',\n",
    "]\n",
    "identifier = 'mVocs_trf_lags300'\n",
    "check_saved_results(identifier, model_names=model_names, verbose=True, num_sessions=39)"
   ]
  },
  {
   "cell_type": "markdown",
   "metadata": {},
   "source": [
    "#### combining results across sessions..."
   ]
  },
  {
   "cell_type": "code",
   "execution_count": 31,
   "metadata": {},
   "outputs": [],
   "source": [
    "def display_sessions_done(model_name, identifier, verbose=False):\n",
    "\t\"\"\"Display the number of sessions done for all bin widths\n",
    "\t\"\"\"\n",
    "\tif verbose:\n",
    "\t\tprint(f\"For '{model_name}', '{identifier}'\")\n",
    "\ttry:\n",
    "\t\tcorr_obj = Correlations(model_name+'_'+identifier)\n",
    "\texcept:\n",
    "\t\tprint(f\"identifier '{identifier}'  not found\")\n",
    "\t\treturn 0\n",
    "\tbin_width = np.sort(corr_obj.data['bin_width'].unique())[0]\n",
    "\tdata = corr_obj.get_selected_data(bin_width=bin_width)\n",
    "\tif verbose:\n",
    "\t\tprint(f\"For bin_width: {bin_width:03} ms, sessions done: {len(data['session'].unique())}\")\n",
    "\treturn len(data['session'].unique())\n",
    "\t\n",
    "\n",
    "def check_saved_results(identifier, model_names, verbose=False, num_sessions=41):\n",
    "\n",
    "\tmodels_not_done = []\n",
    "\tnum_freqs = 80\n",
    "\tidentifiers = [\n",
    "\t\tidentifier,\n",
    "\t\tf'{identifier}_5_10',\n",
    "\t\tf'{identifier}_10_15',\n",
    "\t\tf'{identifier}_15_20',\n",
    "\t\tf'{identifier}_20_25',\n",
    "\t\tf'{identifier}_25_30',\n",
    "\t\tf'{identifier}_30_34',\n",
    "\t\tf'{identifier}_34_37',\n",
    "\t\tf'{identifier}_37'\n",
    "\t]\n",
    "\t\n",
    "\tfor model_name in model_names:\n",
    "\t\tsessions_done = 0\n",
    "\t\tfor iden in identifiers:\n",
    "\t\t\tsessions_done += display_sessions_done(\n",
    "\t\t\t\tmodel_name, iden, verbose=verbose)\n",
    "\t\tprint(f\"Total sessions done: {sessions_done}\")\n",
    "\t\tif sessions_done != num_sessions:\n",
    "\t\t\tmodels_not_done.append(model_name)\n",
    "\t\t\tprint(f\"Sessions done: {sessions_done}\")\n",
    "\t\t\n",
    "\n",
    "\t# remove None entries..\n",
    "\twhile None in models_not_done:\n",
    "\t\tmodels_not_done.remove(None)\n",
    "\t\n",
    "\tif len(models_not_done) ==0:\n",
    "\t\tprint(f\"All models done..for {identifier}\")\n",
    "\telse:\n",
    "\t\tprint(f\"Models with incomplete resutls:\")\n",
    "\t\tfor iden in models_not_done:\n",
    "\t\t\tprint(iden)\n",
    "\t\n",
    "\n",
    "def combine_results_for_all_models(identifier, model_names=None, verbose=True, num_sessions=39, force_combine=False):\n",
    "\t\"\"\"Combines results for the list of models provided\"\"\"\n",
    "\tnormalizer_filename = 'modified_bins_normalizer.csv'\n",
    "\tfor model_name in model_names:\n",
    "\t\tids = [\n",
    "\t\t\tidentifier,\n",
    "\t\t\tf'{identifier}_5_10',\n",
    "\t\t\tf'{identifier}_10_15',\n",
    "\t\t\tf'{identifier}_15_20',\n",
    "\t\t\tf'{identifier}_20_25',\n",
    "\t\t\tf'{identifier}_25_30',\n",
    "\t\t\tf'{identifier}_30_34',\n",
    "\t\t\tf'{identifier}_34_37',\n",
    "\t\t\tf'{identifier}_37'\n",
    "\t\t\t]\n",
    "\n",
    "\t\n",
    "\t\tsessions_done = 0\n",
    "\t\tvalid_ids = []\n",
    "\t\tfor identifier in ids:\n",
    "\t\t\tsess_contributed = display_sessions_done(\n",
    "\t\t\t\tmodel_name, identifier, verbose=verbose)\n",
    "\t\t\tif sess_contributed != 0:\n",
    "\t\t\t\tvalid_ids.append(identifier)\n",
    "\t\t\tsessions_done += sess_contributed\n",
    "\t\tprint(f\"Total sessions done: {sessions_done}\")\n",
    "\t\tif sessions_done == num_sessions or force_combine:\n",
    "\t\t\tCorrelations.combine_and_ready(\n",
    "\t\t\t\tmodel_name,\n",
    "\t\t\t\tvalid_ids, 0, normalizer_filename=normalizer_filename)\n",
    "\t\telse:\n",
    "\t\t\t# models_not_done.append(model_name)\n",
    "\t\t\tprint(f\"Sessions done: {sessions_done}\")\n"
   ]
  },
  {
   "cell_type": "code",
   "execution_count": 51,
   "metadata": {},
   "outputs": [
    {
     "name": "stdout",
     "output_type": "stream",
     "text": [
      "For 'spect2vec', 'mVocs_trf_lags300_l6'\n",
      "Using default normalizer file...\n",
      "identifier 'mVocs_trf_lags300_l6'  not found\n",
      "For 'spect2vec', 'mVocs_trf_lags300_l6_5_10'\n",
      "Using default normalizer file...\n",
      "identifier 'mVocs_trf_lags300_l6_5_10'  not found\n",
      "For 'spect2vec', 'mVocs_trf_lags300_l6_10_15'\n",
      "Using default normalizer file...\n",
      "identifier 'mVocs_trf_lags300_l6_10_15'  not found\n",
      "For 'spect2vec', 'mVocs_trf_lags300_l6_15_20'\n",
      "Using default normalizer file...\n",
      "identifier 'mVocs_trf_lags300_l6_15_20'  not found\n",
      "For 'spect2vec', 'mVocs_trf_lags300_l6_20_25'\n",
      "Using default normalizer file...\n",
      "identifier 'mVocs_trf_lags300_l6_20_25'  not found\n",
      "For 'spect2vec', 'mVocs_trf_lags300_l6_25_30'\n",
      "Using default normalizer file...\n",
      "identifier 'mVocs_trf_lags300_l6_25_30'  not found\n",
      "For 'spect2vec', 'mVocs_trf_lags300_l6_30_34'\n",
      "Using default normalizer file...\n",
      "identifier 'mVocs_trf_lags300_l6_30_34'  not found\n",
      "For 'spect2vec', 'mVocs_trf_lags300_l6_34_37'\n",
      "Using default normalizer file...\n",
      "identifier 'mVocs_trf_lags300_l6_34_37'  not found\n",
      "For 'spect2vec', 'mVocs_trf_lags300_l6_37'\n",
      "Using default normalizer file...\n",
      "identifier 'mVocs_trf_lags300_l6_37'  not found\n",
      "Total sessions done: 0\n",
      "Sessions done: 0\n",
      "Models with incomplete resutls:\n",
      "spect2vec\n"
     ]
    }
   ],
   "source": [
    "identifier = 'mVocs_trf_lags300_l6'\n",
    "# identifier = 'mVocs_trf_lags300_l5'\n",
    "# identifier = 'mVocs_trf_lags300_l4'\n",
    "# identifier = 'mVocs_trf_lags300'\n",
    "\n",
    "model_names = [\n",
    "\t'spect2vec',\n",
    "\t# 'w2v2_generic'\n",
    "\t# 'whisper_tiny'\n",
    "\t# 'whisper_base',\n",
    "\t# 'wav2vec2'\n",
    "\t# 'speech2text'\n",
    "]\n",
    "check_saved_results(identifier, model_names=model_names, verbose=True, num_sessions=39)"
   ]
  },
  {
   "cell_type": "code",
   "execution_count": 49,
   "metadata": {},
   "outputs": [
    {
     "name": "stdout",
     "output_type": "stream",
     "text": [
      "For 'spect2vec', 'mVocs_trf_lags300_l4'\n",
      "Using default normalizer file...\n",
      "For bin_width: 50.0 ms, sessions done: 3\n",
      "For 'spect2vec', 'mVocs_trf_lags300_l4_5_10'\n",
      "Using default normalizer file...\n",
      "For bin_width: 50.0 ms, sessions done: 5\n",
      "For 'spect2vec', 'mVocs_trf_lags300_l4_10_15'\n",
      "Using default normalizer file...\n",
      "For bin_width: 50.0 ms, sessions done: 3\n",
      "For 'spect2vec', 'mVocs_trf_lags300_l4_15_20'\n",
      "Using default normalizer file...\n",
      "For bin_width: 50.0 ms, sessions done: 4\n",
      "For 'spect2vec', 'mVocs_trf_lags300_l4_20_25'\n",
      "Using default normalizer file...\n",
      "For bin_width: 50.0 ms, sessions done: 1\n",
      "For 'spect2vec', 'mVocs_trf_lags300_l4_25_30'\n",
      "Using default normalizer file...\n",
      "For bin_width: 50.0 ms, sessions done: 2\n",
      "For 'spect2vec', 'mVocs_trf_lags300_l4_30_34'\n",
      "Using default normalizer file...\n",
      "For bin_width: 50.0 ms, sessions done: 1\n",
      "For 'spect2vec', 'mVocs_trf_lags300_l4_34_37'\n",
      "Using default normalizer file...\n",
      "For bin_width: 50.0 ms, sessions done: 1\n",
      "For 'spect2vec', 'mVocs_trf_lags300_l4_37'\n",
      "Using default normalizer file...\n",
      "For bin_width: 50.0 ms, sessions done: 1\n",
      "Total sessions done: 21\n",
      "Combining results...\n",
      "Output saved at: \n",
      " /depot/jgmakin/data/auditory_cortex/results/cross_validated_correlations/spect2vec_mVocs_trf_lags300_l4_corr_results.csv\n",
      "reading from /depot/jgmakin/data/auditory_cortex/results/cross_validated_correlations/spect2vec_mVocs_trf_lags300_l4_corr_results.csv\n",
      "Writing back...!\n"
     ]
    }
   ],
   "source": [
    "identifier = 'mVocs_trf_lags300_l6'\n",
    "# identifier = 'mVocs_trf_lags300_l5'\n",
    "# identifier = 'mVocs_trf_lags300_l4'\n",
    "# identifier = 'mVocs_trf_lags300'\n",
    "\n",
    "model_names = [\n",
    "\t'spect2vec',\n",
    "\t# 'w2v2_generic'\n",
    "\t# 'whisper_tiny'\n",
    "\t# 'whisper_base',\n",
    "\t# 'wav2vec2'\n",
    "\t# 'speech2text'\n",
    "]\n",
    "force_combine = True\n",
    "combine_results_for_all_models(\n",
    "\tidentifier, model_names=model_names, verbose=True, num_sessions=39,\n",
    "\tforce_combine=force_combine\n",
    "\t)\n"
   ]
  },
  {
   "cell_type": "code",
   "execution_count": 6,
   "metadata": {},
   "outputs": [
    {
     "name": "stdout",
     "output_type": "stream",
     "text": [
      "Using default normalizer file...\n"
     ]
    }
   ],
   "source": [
    "model_name = 'whisper_tiny'\n",
    "identifier = 'mVocs_trf_lags300_l2'\n",
    "# identifier = 'mVocs_trf_lags300_l3'\n",
    "corr_obj = Correlations(model_name+'_'+identifier)\n",
    "# corr_obj.set_normalizers_using_bootsrap(mVocs=True)"
   ]
  },
  {
   "cell_type": "code",
   "execution_count": 27,
   "metadata": {},
   "outputs": [
    {
     "data": {
      "text/plain": [
       "0.7253225965288956"
      ]
     },
     "execution_count": 27,
     "metadata": {},
     "output_type": "execute_result"
    }
   ],
   "source": [
    "data = corr_obj.data[corr_obj.data['mVocs_normalizer'] > 0.089]\n",
    "np.median(data['mVocs_normalized_test_cc'])"
   ]
  },
  {
   "cell_type": "code",
   "execution_count": 33,
   "metadata": {},
   "outputs": [
    {
     "data": {
      "text/plain": [
       "0.6932302119943334"
      ]
     },
     "execution_count": 33,
     "metadata": {},
     "output_type": "execute_result"
    }
   ],
   "source": [
    "data = corr_obj.data[corr_obj.data['mVocs_normalizer'] > 0.089]\n",
    "np.median(data['mVocs_normalized_test_cc'])"
   ]
  },
  {
   "cell_type": "code",
   "execution_count": 36,
   "metadata": {},
   "outputs": [
    {
     "name": "stdout",
     "output_type": "stream",
     "text": [
      "Applying threshold: 0.089 on column: 'mVocs_normalizer'...\n"
     ]
    }
   ],
   "source": [
    "data = corr_obj.get_selected_data(\n",
    "\tbin_width=50, threshold=0.089, mVocs=True\n",
    "\t)\n"
   ]
  },
  {
   "cell_type": "code",
   "execution_count": 8,
   "metadata": {},
   "outputs": [
    {
     "data": {
      "text/plain": [
       "(-2.0, 12.0)"
      ]
     },
     "execution_count": 8,
     "metadata": {},
     "output_type": "execute_result"
    },
    {
     "data": {
      "image/png": "[encoded data removed]",
      "text/plain": [
       "<Figure size 432x288 with 1 Axes>"
      ]
     },
     "metadata": {
      "needs_background": "light"
     },
     "output_type": "display_data"
    }
   ],
   "source": [
    "plt.hist(corr_obj.data['opt_lmbda'])\n",
    "plt.xlim([-2, 12])"
   ]
  },
  {
   "cell_type": "markdown",
   "metadata": {},
   "source": [
    "#### trf plots.."
   ]
  },
  {
   "cell_type": "code",
   "execution_count": 2,
   "metadata": {},
   "outputs": [],
   "source": [
    "import matplotlib.pylab as plt\n",
    "import matplotlib as mpl\n",
    "%matplotlib inline"
   ]
  },
  {
   "cell_type": "code",
   "execution_count": 4,
   "metadata": {},
   "outputs": [
    {
     "name": "stderr",
     "output_type": "stream",
     "text": [
      "/home/ahmedb/projects/Wav2Letter/deepspeech.pytorch/deepspeech_pytorch/loader/data_loader.py:17: UserWarning: torchaudio._backend.set_audio_backend has been deprecated. With dispatcher enabled, this function is no-op. You can remove the function call.\n",
      "  torchaudio.set_audio_backend(\"sox_io\")\n"
     ]
    },
    {
     "name": "stdout",
     "output_type": "stream",
     "text": [
      "Plotting trained and shuffled distributions for whisper_tiny\n",
      "Using default normalizer file...\n",
      "Extracting column: mVocs_normalized_test_cc\n",
      "Applying threshold: 0.089 on column: 'mVocs_normalizer'...\n"
     ]
    },
    {
     "ename": "KeyError",
     "evalue": "0",
     "output_type": "error",
     "traceback": [
      "\u001b[0;31m---------------------------------------------------------------------------\u001b[0m",
      "\u001b[0;31mKeyError\u001b[0m                                  Traceback (most recent call last)",
      "Input \u001b[0;32mIn [4]\u001b[0m, in \u001b[0;36m<cell line: 16>\u001b[0;34m()\u001b[0m\n\u001b[1;32m     14\u001b[0m \u001b[38;5;66;03m# threshold=0.088\u001b[39;00m\n\u001b[1;32m     15\u001b[0m bin_width \u001b[38;5;241m=\u001b[39m \u001b[38;5;241m50\u001b[39m\n\u001b[0;32m---> 16\u001b[0m \u001b[43mplot_trained_vs_shuffled_network_results\u001b[49m\u001b[43m(\u001b[49m\n\u001b[1;32m     17\u001b[0m \u001b[43m\t\t\u001b[49m\u001b[43mmodel_names\u001b[49m\u001b[38;5;241;43m=\u001b[39;49m\u001b[43mmodel_names\u001b[49m\u001b[43m,\u001b[49m\n\u001b[1;32m     18\u001b[0m \u001b[43m\t\t\u001b[49m\u001b[43mnormalized\u001b[49m\u001b[38;5;241;43m=\u001b[39;49m\u001b[43mnormalized\u001b[49m\u001b[43m,\u001b[49m\n\u001b[1;32m     19\u001b[0m \u001b[43m\t\t\u001b[49m\u001b[38;5;66;43;03m# threshold=threshold,\u001b[39;49;00m\n\u001b[1;32m     20\u001b[0m \u001b[43m\t\t\u001b[49m\u001b[43muntrained_identifiers\u001b[49m\u001b[43m \u001b[49m\u001b[38;5;241;43m=\u001b[39;49m\u001b[43m \u001b[49m\u001b[43muntrained_identifiers\u001b[49m\u001b[43m,\u001b[49m\n\u001b[1;32m     21\u001b[0m \u001b[43m\t\t\u001b[49m\u001b[43mtrained_identifier\u001b[49m\u001b[43m \u001b[49m\u001b[38;5;241;43m=\u001b[39;49m\u001b[43m \u001b[49m\u001b[43mtrained_identifier\u001b[49m\u001b[43m,\u001b[49m\n\u001b[1;32m     22\u001b[0m \u001b[43m\t\t\u001b[49m\u001b[38;5;66;43;03m# areas = ['core', 'belt', 'parabelt'],\u001b[39;49;00m\n\u001b[1;32m     23\u001b[0m \u001b[43m\t\t\u001b[49m\u001b[43mbaseline_identifier\u001b[49m\u001b[38;5;241;43m=\u001b[39;49m\u001b[43mbaseline_identifier\u001b[49m\u001b[43m,\u001b[49m\n\u001b[1;32m     24\u001b[0m \u001b[43m\t\t\u001b[49m\u001b[43mplot_difference\u001b[49m\u001b[38;5;241;43m=\u001b[39;49m\u001b[38;5;28;43;01mFalse\u001b[39;49;00m\u001b[43m,\u001b[49m\n\u001b[1;32m     25\u001b[0m \u001b[43m\t\t\u001b[49m\u001b[43mdisplay_dotted_lines\u001b[49m\u001b[38;5;241;43m=\u001b[39;49m\u001b[38;5;28;43;01mFalse\u001b[39;49;00m\u001b[43m,\u001b[49m\n\u001b[1;32m     26\u001b[0m \u001b[43m\t\t\u001b[49m\u001b[43mmVocs\u001b[49m\u001b[38;5;241;43m=\u001b[39;49m\u001b[38;5;28;43;01mTrue\u001b[39;49;00m\u001b[43m,\u001b[49m\n\u001b[1;32m     27\u001b[0m \u001b[43m\t\t\u001b[49m\u001b[43msave_tikz\u001b[49m\u001b[38;5;241;43m=\u001b[39;49m\u001b[43msave_tikz\u001b[49m\u001b[43m,\u001b[49m\n\u001b[1;32m     28\u001b[0m \u001b[43m\t\t\u001b[49m\u001b[43march_ind_lw\u001b[49m\u001b[38;5;241;43m=\u001b[39;49m\u001b[38;5;241;43m8\u001b[39;49m\u001b[43m,\u001b[49m\n\u001b[1;32m     29\u001b[0m \u001b[43m\t\t\u001b[49m\u001b[43msig_ind_size\u001b[49m\u001b[38;5;241;43m=\u001b[39;49m\u001b[38;5;241;43m1\u001b[39;49m\u001b[43m,\u001b[49m\n\u001b[1;32m     30\u001b[0m \u001b[43m\t\t\u001b[49m\u001b[43mtikz_indicator\u001b[49m\u001b[38;5;241;43m=\u001b[39;49m\u001b[43mtikz_indicator\u001b[49m\u001b[43m,\u001b[49m\n\u001b[1;32m     31\u001b[0m \u001b[43m\t\t\u001b[49m\u001b[43mbin_width\u001b[49m\u001b[38;5;241;43m=\u001b[39;49m\u001b[43mbin_width\u001b[49m\u001b[43m,\u001b[49m\n\u001b[1;32m     32\u001b[0m \u001b[43m\t\t\u001b[49m\u001b[43mplot_baseline\u001b[49m\u001b[38;5;241;43m=\u001b[39;49m\u001b[38;5;28;43;01mFalse\u001b[39;49;00m\u001b[43m,\u001b[49m\n\u001b[1;32m     33\u001b[0m \u001b[43m\t\t\u001b[49m\u001b[43muse_stat_inclusion\u001b[49m\u001b[38;5;241;43m=\u001b[39;49m\u001b[38;5;28;43;01mFalse\u001b[39;49;00m\u001b[43m,\u001b[49m\n\u001b[1;32m     34\u001b[0m \u001b[43m)\u001b[49m\n",
      "File \u001b[0;32m~/projects/Wav2Letter/Auditory_Cortex/auditory_cortex/plotters/tikzplots.py:290\u001b[0m, in \u001b[0;36mplot_trained_vs_shuffled_network_results\u001b[0;34m(model_names, trained_identifier, untrained_identifiers, baseline_identifier, areas, normalized, threshold, mVocs, plot_difference, bin_width, alpha, save_tikz, sig_offset_x, sig_offset_y, sig_ind_size, arch_ind_offset, arch_ind_lw, keep_yticks, keep_xticks, plot_baseline, display_inter_quartile_range, display_dotted_lines, indicate_significance, tikz_indicator, use_stat_inclusion, inclusion_p_threshold, use_poisson_null)\u001b[0m\n\u001b[1;32m    288\u001b[0m \u001b[38;5;28;01mfor\u001b[39;00m model_name \u001b[38;5;129;01min\u001b[39;00m model_names:\n\u001b[1;32m    289\u001b[0m \t\u001b[38;5;28;01mfor\u001b[39;00m area \u001b[38;5;129;01min\u001b[39;00m areas:\n\u001b[0;32m--> 290\u001b[0m \t\tdists \u001b[38;5;241m=\u001b[39m \u001b[43mRegPlotter\u001b[49m\u001b[38;5;241;43m.\u001b[39;49m\u001b[43mplot_all_layers_trained_and_shuffled\u001b[49m\u001b[43m(\u001b[49m\n\u001b[1;32m    291\u001b[0m \u001b[43m\t\t\t\u001b[49m\u001b[43mmodel_name\u001b[49m\u001b[38;5;241;43m=\u001b[39;49m\u001b[43mmodel_name\u001b[49m\u001b[43m,\u001b[49m\n\u001b[1;32m    292\u001b[0m \u001b[43m\t\t\t\u001b[49m\u001b[43mbin_width\u001b[49m\u001b[38;5;241;43m=\u001b[39;49m\u001b[43mbin_width\u001b[49m\u001b[43m,\u001b[49m\n\u001b[1;32m    293\u001b[0m \u001b[43m\t\t\t\u001b[49m\u001b[43marea\u001b[49m\u001b[38;5;241;43m=\u001b[39;49m\u001b[43marea\u001b[49m\u001b[43m,\u001b[49m\n\u001b[1;32m    294\u001b[0m \u001b[43m\t\t\t\u001b[49m\u001b[43mnormalized\u001b[49m\u001b[38;5;241;43m=\u001b[39;49m\u001b[43mnormalized\u001b[49m\u001b[43m,\u001b[49m\n\u001b[1;32m    295\u001b[0m \u001b[43m\t\t\t\u001b[49m\u001b[43mthreshold\u001b[49m\u001b[38;5;241;43m=\u001b[39;49m\u001b[43mthreshold\u001b[49m\u001b[43m,\u001b[49m\n\u001b[1;32m    296\u001b[0m \u001b[43m\t\t\t\u001b[49m\u001b[43mmVocs\u001b[49m\u001b[38;5;241;43m=\u001b[39;49m\u001b[43mmVocs\u001b[49m\u001b[43m,\u001b[49m\n\u001b[1;32m    297\u001b[0m \u001b[43m\t\t\t\u001b[49m\u001b[43malpha\u001b[49m\u001b[38;5;241;43m=\u001b[39;49m\u001b[43malpha\u001b[49m\u001b[43m,\u001b[49m\n\u001b[1;32m    298\u001b[0m \u001b[43m\t\t\t\u001b[49m\u001b[43msave_tikz\u001b[49m\u001b[38;5;241;43m=\u001b[39;49m\u001b[43msave_tikz\u001b[49m\u001b[43m,\u001b[49m\n\u001b[1;32m    299\u001b[0m \u001b[43m\t\t\t\u001b[49m\u001b[43msig_offset_x\u001b[49m\u001b[38;5;241;43m=\u001b[39;49m\u001b[43msig_offset_x\u001b[49m\u001b[43m,\u001b[49m\n\u001b[1;32m    300\u001b[0m \u001b[43m\t\t\t\u001b[49m\u001b[43msig_offset_y\u001b[49m\u001b[38;5;241;43m=\u001b[39;49m\u001b[43msig_offset_y\u001b[49m\u001b[43m,\u001b[49m\n\u001b[1;32m    301\u001b[0m \u001b[43m\t\t\t\u001b[49m\u001b[43msig_ind_size\u001b[49m\u001b[38;5;241;43m=\u001b[39;49m\u001b[43msig_ind_size\u001b[49m\u001b[43m,\u001b[49m\n\u001b[1;32m    302\u001b[0m \u001b[43m\t\t\t\u001b[49m\u001b[43march_ind_offset\u001b[49m\u001b[38;5;241;43m=\u001b[39;49m\u001b[43march_ind_offset\u001b[49m\u001b[43m,\u001b[49m\n\u001b[1;32m    303\u001b[0m \u001b[43m\t\t\t\u001b[49m\u001b[43march_ind_lw\u001b[49m\u001b[38;5;241;43m=\u001b[39;49m\u001b[43march_ind_lw\u001b[49m\u001b[43m,\u001b[49m\n\u001b[1;32m    304\u001b[0m \u001b[43m\t\t\t\u001b[49m\u001b[43mkeep_yticks\u001b[49m\u001b[38;5;241;43m=\u001b[39;49m\u001b[43mkeep_yticks\u001b[49m\u001b[43m,\u001b[49m\n\u001b[1;32m    305\u001b[0m \u001b[43m\t\t\t\u001b[49m\u001b[43mkeep_xticks\u001b[49m\u001b[38;5;241;43m=\u001b[39;49m\u001b[43mkeep_xticks\u001b[49m\u001b[43m,\u001b[49m\n\u001b[1;32m    306\u001b[0m \u001b[43m\t\t\t\u001b[49m\u001b[43mplot_baseline\u001b[49m\u001b[38;5;241;43m=\u001b[39;49m\u001b[43mplot_baseline\u001b[49m\u001b[43m,\u001b[49m\n\u001b[1;32m    307\u001b[0m \u001b[43m\t\t\t\u001b[49m\u001b[43mdisplay_inter_quartile_range\u001b[49m\u001b[38;5;241;43m=\u001b[39;49m\u001b[43mdisplay_inter_quartile_range\u001b[49m\u001b[43m,\u001b[49m\n\u001b[1;32m    308\u001b[0m \u001b[43m\t\t\t\u001b[49m\u001b[43mdisplay_dotted_lines\u001b[49m\u001b[38;5;241;43m=\u001b[39;49m\u001b[43mdisplay_dotted_lines\u001b[49m\u001b[43m,\u001b[49m\n\u001b[1;32m    309\u001b[0m \u001b[43m\t\t\t\u001b[49m\u001b[43mindicate_significance\u001b[49m\u001b[38;5;241;43m=\u001b[39;49m\u001b[43mindicate_significance\u001b[49m\u001b[43m,\u001b[49m\n\u001b[1;32m    310\u001b[0m \u001b[43m\t\t\t\u001b[49m\u001b[43mtrained_identifier\u001b[49m\u001b[38;5;241;43m=\u001b[39;49m\u001b[43mtrained_identifier\u001b[49m\u001b[43m,\u001b[49m\n\u001b[1;32m    311\u001b[0m \u001b[43m\t\t\t\u001b[49m\u001b[43muntrained_identifiers\u001b[49m\u001b[38;5;241;43m=\u001b[39;49m\u001b[43muntrained_identifiers\u001b[49m\u001b[43m,\u001b[49m\n\u001b[1;32m    312\u001b[0m \u001b[43m\t\t\t\u001b[49m\u001b[43mbaseline_identifier\u001b[49m\u001b[38;5;241;43m=\u001b[39;49m\u001b[43mbaseline_identifier\u001b[49m\u001b[43m,\u001b[49m\n\u001b[1;32m    313\u001b[0m \u001b[43m\t\t\t\u001b[49m\u001b[43mplot_difference\u001b[49m\u001b[38;5;241;43m=\u001b[39;49m\u001b[43mplot_difference\u001b[49m\u001b[43m,\u001b[49m\n\u001b[1;32m    314\u001b[0m \u001b[43m\t\t\t\u001b[49m\u001b[43mtikz_indicator\u001b[49m\u001b[38;5;241;43m=\u001b[39;49m\u001b[43mtikz_indicator\u001b[49m\u001b[43m,\u001b[49m\n\u001b[1;32m    315\u001b[0m \u001b[43m\t\t\t\u001b[49m\u001b[43muse_stat_inclusion\u001b[49m\u001b[38;5;241;43m=\u001b[39;49m\u001b[43muse_stat_inclusion\u001b[49m\u001b[43m,\u001b[49m\n\u001b[1;32m    316\u001b[0m \u001b[43m\t\t\t\u001b[49m\u001b[43minclusion_p_threshold\u001b[49m\u001b[38;5;241;43m=\u001b[39;49m\u001b[43minclusion_p_threshold\u001b[49m\u001b[43m,\u001b[49m\n\u001b[1;32m    317\u001b[0m \u001b[43m\t\t\t\u001b[49m\u001b[43muse_poisson_null\u001b[49m\u001b[38;5;241;43m=\u001b[39;49m\u001b[43muse_poisson_null\u001b[49m\u001b[43m,\u001b[49m\n\u001b[1;32m    318\u001b[0m \u001b[43m\t\t\t\u001b[49m\u001b[43m)\u001b[49m\n",
      "File \u001b[0;32m~/projects/Wav2Letter/Auditory_Cortex/auditory_cortex/plotters/correlation_plotter.py:574\u001b[0m, in \u001b[0;36mRegPlotter.plot_all_layers_trained_and_shuffled\u001b[0;34m(model_name, area, bin_width, delay, alpha, save_tikz, normalized, threshold, sig_offset_x, sig_offset_y, sig_ind_size, arch_ind_offset, arch_ind_lw, p_threshold, plot_baseline, display_inter_quartile_range, display_dotted_lines, keep_xticks, keep_yticks, trained_identifier, untrained_identifiers, baseline_identifier, plot_difference, tikz_indicator, column, mVocs, indicate_significance, indicate_architecture, poisson_normalizer, use_stat_inclusion, inclusion_p_threshold, use_poisson_null)\u001b[0m\n\u001b[1;32m    561\u001b[0m \tthreshold \u001b[38;5;241m=\u001b[39m corr_obj_trained\u001b[38;5;241m.\u001b[39mget_normalizer_threshold(\n\u001b[1;32m    562\u001b[0m \t\tbin_width\u001b[38;5;241m=\u001b[39mbin_width, poisson_normalizer\u001b[38;5;241m=\u001b[39mpoisson_normalizer,\n\u001b[1;32m    563\u001b[0m \t\tmVocs\u001b[38;5;241m=\u001b[39mmVocs\n\u001b[1;32m    564\u001b[0m \t)\n\u001b[1;32m    565\u001b[0m data_dist_trained \u001b[38;5;241m=\u001b[39m corr_obj_trained\u001b[38;5;241m.\u001b[39mget_corr_all_layers_for_bin_width(\n\u001b[1;32m    566\u001b[0m \t\tneural_area\u001b[38;5;241m=\u001b[39marea, bin_width\u001b[38;5;241m=\u001b[39mbin_width, delay\u001b[38;5;241m=\u001b[39mdelay,\n\u001b[1;32m    567\u001b[0m \t\tthreshold\u001b[38;5;241m=\u001b[39mthreshold, normalized\u001b[38;5;241m=\u001b[39mnormalized,\n\u001b[0;32m   (...)\u001b[0m\n\u001b[1;32m    571\u001b[0m \n\u001b[1;32m    572\u001b[0m \t)\n\u001b[0;32m--> 574\u001b[0m \u001b[38;5;28mprint\u001b[39m(\u001b[38;5;124mf\u001b[39m\u001b[38;5;124m\"\u001b[39m\u001b[38;5;124mNumber of channels returned: \u001b[39m\u001b[38;5;132;01m{\u001b[39;00mdata_dist_trained[\u001b[38;5;241m0\u001b[39m]\u001b[38;5;241m.\u001b[39mshape\u001b[38;5;132;01m}\u001b[39;00m\u001b[38;5;124m\"\u001b[39m)\n\u001b[1;32m    576\u001b[0m \u001b[38;5;66;03m# weights shuffled ...\u001b[39;00m\n\u001b[1;32m    577\u001b[0m \u001b[38;5;66;03m# identifier='_weights_shuffled'\u001b[39;00m\n\u001b[1;32m    578\u001b[0m data_dist_shuffled_list \u001b[38;5;241m=\u001b[39m []\n",
      "\u001b[0;31mKeyError\u001b[0m: 0"
     ]
    }
   ],
   "source": [
    "from auditory_cortex.plotters.tikzplots import plot_trained_vs_shuffled_network_results\n",
    "model_names = [\n",
    "\t'whisper_tiny'\n",
    "\t]\n",
    "trained_identifier = 'mVocs_trf_lags300_l3'\n",
    "untrained_identifiers = [\n",
    "\t\t'mVocs_trf_lags300_l3'\n",
    "\t\t\t\t\t\t ]\n",
    "# plot_trained_vs_shuffled_network_results\n",
    "tikz_indicator = 'reset-avg'\n",
    "baseline_identifier = f\"STRF_freqs80_mVocs\"\n",
    "save_tikz = False\n",
    "normalized=True\n",
    "# threshold=0.088\n",
    "bin_width = 50\n",
    "plot_trained_vs_shuffled_network_results(\n",
    "\t\tmodel_names=model_names,\n",
    "\t\tnormalized=normalized,\n",
    "\t\t# threshold=threshold,\n",
    "\t\tuntrained_identifiers = untrained_identifiers,\n",
    "\t\ttrained_identifier = trained_identifier,\n",
    "\t\t# areas = ['core', 'belt', 'parabelt'],\n",
    "\t\tbaseline_identifier=baseline_identifier,\n",
    "\t\tplot_difference=False,\n",
    "\t\tdisplay_dotted_lines=False,\n",
    "\t\tmVocs=True,\n",
    "\t\tsave_tikz=save_tikz,\n",
    "\t\tarch_ind_lw=8,\n",
    "\t\tsig_ind_size=1,\n",
    "\t\ttikz_indicator=tikz_indicator,\n",
    "\t\tbin_width=bin_width,\n",
    "\t\tplot_baseline=False,\n",
    "\t\tuse_stat_inclusion=False,\n",
    ")"
   ]
  },
  {
   "cell_type": "code",
   "execution_count": null,
   "metadata": {},
   "outputs": [],
   "source": []
  }
 ],
 "metadata": {
  "kernelspec": {
   "display_name": "Python 3",
   "language": "python",
   "name": "python3"
  },
  "language_info": {
   "codemirror_mode": {
    "name": "ipython",
    "version": 3
   },
   "file_extension": ".py",
   "mimetype": "text/x-python",
   "name": "python",
   "nbconvert_exporter": "python",
   "pygments_lexer": "ipython3",
   "version": "3.8.5"
  }
 },
 "nbformat": 4,
 "nbformat_minor": 2
}
