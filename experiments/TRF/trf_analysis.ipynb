{
 "cells": [
  {
   "cell_type": "code",
   "execution_count": 1,
   "metadata": {},
   "outputs": [],
   "source": [
    "# # adjsut the basic logging lovel of notebook\n",
    "# import logging\n",
    "# logging.basicConfig(level=logging.WARNING)\n",
    "\n",
    "import os\n",
    "import yaml\n",
    "import numpy as np\n",
    "import pandas as pd\n",
    "import scipy as scp\n",
    "import pickle\n",
    "import matplotlib.pyplot as plt\n",
    "import matplotlib as mpl\n",
    "# import seaborn as sns\n",
    "from matplotlib.lines import Line2D\n",
    "from palettable.colorbrewer import qualitative\n",
    "\n",
    "from auditory_cortex.analyses import Correlations\n",
    "from auditory_cortex import results_dir, aux_dir, saved_corr_dir, cache_dir\n",
    "from auditory_cortex.utils import CorrelationUtils\n",
    "from auditory_cortex.plotters.correlation_plotter import RegPlotter\n",
    "\n",
    "from pycolormap_2d import ColorMap2DBremm, ColorMap2DZiegler\n",
    "%matplotlib inline"
   ]
  },
  {
   "cell_type": "markdown",
   "metadata": {},
   "source": [
    "#### bootsrap analysis..."
   ]
  },
  {
   "cell_type": "code",
   "execution_count": 2,
   "metadata": {},
   "outputs": [],
   "source": [
    "def display_sessions_done(\n",
    "\tmodel_name, identifier, verbose=False, num_sessions=41, N_sents=499):\n",
    "\t\"\"\"Display the number of sessions done for all bin widths\n",
    "\t\"\"\"\n",
    "\tif verbose:\n",
    "\t\tprint(f\"For '{model_name}', '{identifier}'\")\n",
    "\ttry:\n",
    "\t\tcorr_obj = Correlations(model_name+'_'+identifier)\n",
    "\texcept:\n",
    "\t\tprint(f\"Model '{model_name}' with identifier '{identifier}' not found\")\n",
    "\t\treturn [model_name+'_'+identifier]\n",
    "\tbin_widths = np.sort(corr_obj.data['bin_width'].unique())\n",
    "\treturn_list = []\n",
    "\tfor bin_width in bin_widths:\n",
    "\t\tdata = corr_obj.get_selected_data(bin_width=bin_width, N_sents=N_sents)\n",
    "\t\tif verbose:\n",
    "\t\t\tprint(f\"For bin_width: {bin_width:03} ms, sessions done: {len(data['session'].unique())}\")\n",
    "\t\tif len(data['session'].unique()) != num_sessions:\n",
    "\t\t\treturn_list.append(model_name+'_'+identifier+f'{bin_width}')\n",
    "\t\telse:\n",
    "\t\t\treturn_list.append(None)\n",
    "\treturn return_list\n",
    "\n",
    "def check_bootstrap_results(\n",
    "\tidentifier, model_names=None, bin_width=None,\n",
    "\tverbose=False, mVocs=False, N_sents=None\n",
    "\t):\n",
    "\n",
    "\tif mVocs:\n",
    "\t\tstim = 'mVocs'\n",
    "\t\tnum_sessions = 39\n",
    "\telse:\n",
    "\t\tstim = 'timit'\n",
    "\t\tnum_sessions = 12\n",
    "\tmodels_not_done = []\n",
    "\tif model_names is None:\n",
    "\t\tmodel_names = num_layers.keys()\n",
    "\tif bin_width is None:\n",
    "\t\tbin_width = 50\n",
    "\tif N_sents is None:\n",
    "\t\tN_sents = [10, 20, 30, 40, 50, 60, 70, 80, 90, 100]\n",
    "\tfor model_name in model_names:\n",
    "\t\t# not_done = display_sessions_done(\n",
    "\t\t# \tmodel_name, identifier, verbose=verbose, num_sessions=num_sessions)\n",
    "\t\t# models_not_done.extend(not_done)\n",
    "\t\tfor N in N_sents:\n",
    "\t\t\tnot_done = display_sessions_done(\n",
    "\t\t\t\tmodel_name, f'{stim}_trf_lags300_bw{bin_width}_boot_{identifier}_N{N}',\n",
    "\t\t\t\tverbose=verbose, num_sessions=num_sessions, N_sents=N\n",
    "\t\t\t\t)\n",
    "\t\t\tmodels_not_done.extend(not_done)\n",
    "\n",
    "\t# remove None entries..\n",
    "\twhile None in models_not_done:\n",
    "\t\tmodels_not_done.remove(None)\n",
    "\t\n",
    "\tif len(models_not_done) ==0:\n",
    "\t\tprint(f\"All models done..for {identifier}\")\n",
    "\telse:\n",
    "\t\tprint(f\"Models with incomplete resutls:\")\n",
    "\t\tfor iden in models_not_done:\n",
    "\t\t\tprint(iden)\n",
    "\n",
    "def combine_bootstrap_results(\n",
    "\tidentifier, model_names, bin_width=50, stim='timit', N_sents=None\n",
    "\t):\n",
    "\t\"\"\"Combines results for the list of models provided\"\"\"\n",
    "\tnormalizer_filename = 'modified_bins_normalizer.csv'\n",
    "\toutput_identifier = f'{stim}_trf_lags300_bw{bin_width}_boot_{identifier}'\n",
    "\tif N_sents is None:\n",
    "\t\tN_sents = [10, 20, 30, 40, 50, 60, 70, 80, 90, 100]\n",
    "\tfor model_name in model_names:\n",
    "\t\tids = [f'{stim}_trf_lags300_bw{bin_width}_boot_{identifier}_N{N}' for N in N_sents]\n",
    "\t\tCorrelations.combine_and_ready(\n",
    "\t\t\tmodel_name,\n",
    "\t\t\tids, 0, normalizer_filename=normalizer_filename,\n",
    "\t\t\toutput_identifier=output_identifier\n",
    "\t\t\t)"
   ]
  },
  {
   "cell_type": "code",
   "execution_count": 7,
   "metadata": {},
   "outputs": [
    {
     "name": "stdout",
     "output_type": "stream",
     "text": [
      "All models done..for test_10\n",
      "All models done..for test_11\n",
      "All models done..for test_12\n",
      "All models done..for test_13\n",
      "All models done..for test_14\n",
      "All models done..for test_15\n",
      "All models done..for test_16\n",
      "All models done..for test_17\n",
      "All models done..for test_18\n",
      "All models done..for test_19\n",
      "All models done..for test_20\n",
      "All models done..for test_21\n",
      "All models done..for test_22\n",
      "All models done..for test_23\n",
      "All models done..for test_24\n",
      "All models done..for test_25\n",
      "All models done..for test_26\n",
      "All models done..for test_27\n",
      "All models done..for test_28\n",
      "All models done..for test_29\n",
      "All models done..for test_30\n",
      "All models done..for test_31\n",
      "All models done..for test_32\n",
      "All models done..for test_33\n",
      "All models done..for test_34\n",
      "All models done..for test_35\n",
      "All models done..for test_36\n",
      "All models done..for test_37\n",
      "All models done..for test_38\n",
      "All models done..for test_39\n",
      "All models done..for test_40\n",
      "All models done..for test_41\n",
      "All models done..for test_42\n",
      "All models done..for test_43\n",
      "All models done..for test_44\n",
      "All models done..for test_45\n",
      "All models done..for test_46\n",
      "All models done..for test_47\n",
      "All models done..for test_48\n",
      "All models done..for test_49\n",
      "All models done..for test_50\n",
      "All models done..for test_51\n",
      "All models done..for test_52\n",
      "All models done..for test_53\n",
      "All models done..for test_54\n",
      "All models done..for test_55\n",
      "All models done..for test_56\n",
      "All models done..for test_57\n",
      "All models done..for test_58\n",
      "All models done..for test_59\n",
      "All models done..for test_60\n",
      "All models done..for test_61\n",
      "All models done..for test_62\n",
      "All models done..for test_63\n",
      "All models done..for test_64\n",
      "All models done..for test_65\n",
      "All models done..for test_66\n",
      "All models done..for test_67\n",
      "All models done..for test_68\n",
      "All models done..for test_69\n",
      "All models done..for test_70\n",
      "All models done..for test_71\n",
      "All models done..for test_72\n",
      "All models done..for test_73\n",
      "All models done..for test_74\n",
      "All models done..for test_75\n",
      "All models done..for test_76\n",
      "All models done..for test_77\n",
      "All models done..for test_78\n",
      "All models done..for test_79\n",
      "All models done..for test_80\n"
     ]
    }
   ],
   "source": [
    "model_names = [\n",
    "\t'whisper_base',\n",
    "]\n",
    "identifiers = [f'test_{i}' for i in range(10, 81)]\n",
    "# identifiers[np.isin(identifiers, [29, 31, 33, 43], invert=True)]\n",
    "N_sents = np.arange(1, 12)\n",
    "mVocs = False\n",
    "for identifier in identifiers:\n",
    "\tcheck_bootstrap_results(identifier, model_names=model_names, verbose=False, mVocs=mVocs, N_sents=N_sents)"
   ]
  },
  {
   "cell_type": "code",
   "execution_count": 8,
   "metadata": {},
   "outputs": [
    {
     "name": "stdout",
     "output_type": "stream",
     "text": [
      "Combining results...\n",
      "Output saved at: \n",
      " /depot/jgmakin/data/auditory_cortex/results/cross_validated_correlations/whisper_base_timit_trf_lags300_bw50_boot_test_10_corr_results.csv\n",
      "reading from /depot/jgmakin/data/auditory_cortex/results/cross_validated_correlations/whisper_base_timit_trf_lags300_bw50_boot_test_10_corr_results.csv\n",
      "Writing back...!\n",
      "Combining results...\n",
      "Output saved at: \n",
      " /depot/jgmakin/data/auditory_cortex/results/cross_validated_correlations/whisper_base_timit_trf_lags300_bw50_boot_test_11_corr_results.csv\n",
      "reading from /depot/jgmakin/data/auditory_cortex/results/cross_validated_correlations/whisper_base_timit_trf_lags300_bw50_boot_test_11_corr_results.csv\n",
      "Writing back...!\n",
      "Combining results...\n",
      "Output saved at: \n",
      " /depot/jgmakin/data/auditory_cortex/results/cross_validated_correlations/whisper_base_timit_trf_lags300_bw50_boot_test_12_corr_results.csv\n",
      "reading from /depot/jgmakin/data/auditory_cortex/results/cross_validated_correlations/whisper_base_timit_trf_lags300_bw50_boot_test_12_corr_results.csv\n",
      "Writing back...!\n",
      "Combining results...\n",
      "Output saved at: \n",
      " /depot/jgmakin/data/auditory_cortex/results/cross_validated_correlations/whisper_base_timit_trf_lags300_bw50_boot_test_13_corr_results.csv\n",
      "reading from /depot/jgmakin/data/auditory_cortex/results/cross_validated_correlations/whisper_base_timit_trf_lags300_bw50_boot_test_13_corr_results.csv\n",
      "Writing back...!\n",
      "Combining results...\n",
      "Output saved at: \n",
      " /depot/jgmakin/data/auditory_cortex/results/cross_validated_correlations/whisper_base_timit_trf_lags300_bw50_boot_test_14_corr_results.csv\n",
      "reading from /depot/jgmakin/data/auditory_cortex/results/cross_validated_correlations/whisper_base_timit_trf_lags300_bw50_boot_test_14_corr_results.csv\n",
      "Writing back...!\n",
      "Combining results...\n",
      "Output saved at: \n",
      " /depot/jgmakin/data/auditory_cortex/results/cross_validated_correlations/whisper_base_timit_trf_lags300_bw50_boot_test_15_corr_results.csv\n",
      "reading from /depot/jgmakin/data/auditory_cortex/results/cross_validated_correlations/whisper_base_timit_trf_lags300_bw50_boot_test_15_corr_results.csv\n",
      "Writing back...!\n",
      "Combining results...\n",
      "Output saved at: \n",
      " /depot/jgmakin/data/auditory_cortex/results/cross_validated_correlations/whisper_base_timit_trf_lags300_bw50_boot_test_16_corr_results.csv\n",
      "reading from /depot/jgmakin/data/auditory_cortex/results/cross_validated_correlations/whisper_base_timit_trf_lags300_bw50_boot_test_16_corr_results.csv\n",
      "Writing back...!\n",
      "Combining results...\n",
      "Output saved at: \n",
      " /depot/jgmakin/data/auditory_cortex/results/cross_validated_correlations/whisper_base_timit_trf_lags300_bw50_boot_test_17_corr_results.csv\n",
      "reading from /depot/jgmakin/data/auditory_cortex/results/cross_validated_correlations/whisper_base_timit_trf_lags300_bw50_boot_test_17_corr_results.csv\n",
      "Writing back...!\n",
      "Combining results...\n",
      "Output saved at: \n",
      " /depot/jgmakin/data/auditory_cortex/results/cross_validated_correlations/whisper_base_timit_trf_lags300_bw50_boot_test_18_corr_results.csv\n",
      "reading from /depot/jgmakin/data/auditory_cortex/results/cross_validated_correlations/whisper_base_timit_trf_lags300_bw50_boot_test_18_corr_results.csv\n",
      "Writing back...!\n",
      "Combining results...\n",
      "Output saved at: \n",
      " /depot/jgmakin/data/auditory_cortex/results/cross_validated_correlations/whisper_base_timit_trf_lags300_bw50_boot_test_19_corr_results.csv\n",
      "reading from /depot/jgmakin/data/auditory_cortex/results/cross_validated_correlations/whisper_base_timit_trf_lags300_bw50_boot_test_19_corr_results.csv\n",
      "Writing back...!\n",
      "Combining results...\n",
      "Output saved at: \n",
      " /depot/jgmakin/data/auditory_cortex/results/cross_validated_correlations/whisper_base_timit_trf_lags300_bw50_boot_test_20_corr_results.csv\n",
      "reading from /depot/jgmakin/data/auditory_cortex/results/cross_validated_correlations/whisper_base_timit_trf_lags300_bw50_boot_test_20_corr_results.csv\n",
      "Writing back...!\n",
      "Combining results...\n",
      "Output saved at: \n",
      " /depot/jgmakin/data/auditory_cortex/results/cross_validated_correlations/whisper_base_timit_trf_lags300_bw50_boot_test_21_corr_results.csv\n",
      "reading from /depot/jgmakin/data/auditory_cortex/results/cross_validated_correlations/whisper_base_timit_trf_lags300_bw50_boot_test_21_corr_results.csv\n",
      "Writing back...!\n",
      "Combining results...\n",
      "Output saved at: \n",
      " /depot/jgmakin/data/auditory_cortex/results/cross_validated_correlations/whisper_base_timit_trf_lags300_bw50_boot_test_22_corr_results.csv\n",
      "reading from /depot/jgmakin/data/auditory_cortex/results/cross_validated_correlations/whisper_base_timit_trf_lags300_bw50_boot_test_22_corr_results.csv\n",
      "Writing back...!\n",
      "Combining results...\n",
      "Output saved at: \n",
      " /depot/jgmakin/data/auditory_cortex/results/cross_validated_correlations/whisper_base_timit_trf_lags300_bw50_boot_test_23_corr_results.csv\n",
      "reading from /depot/jgmakin/data/auditory_cortex/results/cross_validated_correlations/whisper_base_timit_trf_lags300_bw50_boot_test_23_corr_results.csv\n",
      "Writing back...!\n",
      "Combining results...\n",
      "Output saved at: \n",
      " /depot/jgmakin/data/auditory_cortex/results/cross_validated_correlations/whisper_base_timit_trf_lags300_bw50_boot_test_24_corr_results.csv\n",
      "reading from /depot/jgmakin/data/auditory_cortex/results/cross_validated_correlations/whisper_base_timit_trf_lags300_bw50_boot_test_24_corr_results.csv\n",
      "Writing back...!\n",
      "Combining results...\n",
      "Output saved at: \n",
      " /depot/jgmakin/data/auditory_cortex/results/cross_validated_correlations/whisper_base_timit_trf_lags300_bw50_boot_test_25_corr_results.csv\n",
      "reading from /depot/jgmakin/data/auditory_cortex/results/cross_validated_correlations/whisper_base_timit_trf_lags300_bw50_boot_test_25_corr_results.csv\n",
      "Writing back...!\n",
      "Combining results...\n",
      "Output saved at: \n",
      " /depot/jgmakin/data/auditory_cortex/results/cross_validated_correlations/whisper_base_timit_trf_lags300_bw50_boot_test_26_corr_results.csv\n",
      "reading from /depot/jgmakin/data/auditory_cortex/results/cross_validated_correlations/whisper_base_timit_trf_lags300_bw50_boot_test_26_corr_results.csv\n",
      "Writing back...!\n",
      "Combining results...\n",
      "Output saved at: \n",
      " /depot/jgmakin/data/auditory_cortex/results/cross_validated_correlations/whisper_base_timit_trf_lags300_bw50_boot_test_27_corr_results.csv\n",
      "reading from /depot/jgmakin/data/auditory_cortex/results/cross_validated_correlations/whisper_base_timit_trf_lags300_bw50_boot_test_27_corr_results.csv\n",
      "Writing back...!\n",
      "Combining results...\n",
      "Output saved at: \n",
      " /depot/jgmakin/data/auditory_cortex/results/cross_validated_correlations/whisper_base_timit_trf_lags300_bw50_boot_test_28_corr_results.csv\n",
      "reading from /depot/jgmakin/data/auditory_cortex/results/cross_validated_correlations/whisper_base_timit_trf_lags300_bw50_boot_test_28_corr_results.csv\n",
      "Writing back...!\n",
      "Combining results...\n",
      "Output saved at: \n",
      " /depot/jgmakin/data/auditory_cortex/results/cross_validated_correlations/whisper_base_timit_trf_lags300_bw50_boot_test_29_corr_results.csv\n",
      "reading from /depot/jgmakin/data/auditory_cortex/results/cross_validated_correlations/whisper_base_timit_trf_lags300_bw50_boot_test_29_corr_results.csv\n",
      "Writing back...!\n",
      "Combining results...\n",
      "Output saved at: \n",
      " /depot/jgmakin/data/auditory_cortex/results/cross_validated_correlations/whisper_base_timit_trf_lags300_bw50_boot_test_30_corr_results.csv\n",
      "reading from /depot/jgmakin/data/auditory_cortex/results/cross_validated_correlations/whisper_base_timit_trf_lags300_bw50_boot_test_30_corr_results.csv\n",
      "Writing back...!\n",
      "Combining results...\n",
      "Output saved at: \n",
      " /depot/jgmakin/data/auditory_cortex/results/cross_validated_correlations/whisper_base_timit_trf_lags300_bw50_boot_test_31_corr_results.csv\n",
      "reading from /depot/jgmakin/data/auditory_cortex/results/cross_validated_correlations/whisper_base_timit_trf_lags300_bw50_boot_test_31_corr_results.csv\n",
      "Writing back...!\n",
      "Combining results...\n",
      "Output saved at: \n",
      " /depot/jgmakin/data/auditory_cortex/results/cross_validated_correlations/whisper_base_timit_trf_lags300_bw50_boot_test_32_corr_results.csv\n",
      "reading from /depot/jgmakin/data/auditory_cortex/results/cross_validated_correlations/whisper_base_timit_trf_lags300_bw50_boot_test_32_corr_results.csv\n",
      "Writing back...!\n",
      "Combining results...\n",
      "Output saved at: \n",
      " /depot/jgmakin/data/auditory_cortex/results/cross_validated_correlations/whisper_base_timit_trf_lags300_bw50_boot_test_33_corr_results.csv\n",
      "reading from /depot/jgmakin/data/auditory_cortex/results/cross_validated_correlations/whisper_base_timit_trf_lags300_bw50_boot_test_33_corr_results.csv\n",
      "Writing back...!\n",
      "Combining results...\n",
      "Output saved at: \n",
      " /depot/jgmakin/data/auditory_cortex/results/cross_validated_correlations/whisper_base_timit_trf_lags300_bw50_boot_test_34_corr_results.csv\n",
      "reading from /depot/jgmakin/data/auditory_cortex/results/cross_validated_correlations/whisper_base_timit_trf_lags300_bw50_boot_test_34_corr_results.csv\n",
      "Writing back...!\n",
      "Combining results...\n",
      "Output saved at: \n",
      " /depot/jgmakin/data/auditory_cortex/results/cross_validated_correlations/whisper_base_timit_trf_lags300_bw50_boot_test_35_corr_results.csv\n",
      "reading from /depot/jgmakin/data/auditory_cortex/results/cross_validated_correlations/whisper_base_timit_trf_lags300_bw50_boot_test_35_corr_results.csv\n",
      "Writing back...!\n",
      "Combining results...\n",
      "Output saved at: \n",
      " /depot/jgmakin/data/auditory_cortex/results/cross_validated_correlations/whisper_base_timit_trf_lags300_bw50_boot_test_36_corr_results.csv\n",
      "reading from /depot/jgmakin/data/auditory_cortex/results/cross_validated_correlations/whisper_base_timit_trf_lags300_bw50_boot_test_36_corr_results.csv\n",
      "Writing back...!\n",
      "Combining results...\n",
      "Output saved at: \n",
      " /depot/jgmakin/data/auditory_cortex/results/cross_validated_correlations/whisper_base_timit_trf_lags300_bw50_boot_test_37_corr_results.csv\n",
      "reading from /depot/jgmakin/data/auditory_cortex/results/cross_validated_correlations/whisper_base_timit_trf_lags300_bw50_boot_test_37_corr_results.csv\n",
      "Writing back...!\n",
      "Combining results...\n",
      "Output saved at: \n",
      " /depot/jgmakin/data/auditory_cortex/results/cross_validated_correlations/whisper_base_timit_trf_lags300_bw50_boot_test_38_corr_results.csv\n",
      "reading from /depot/jgmakin/data/auditory_cortex/results/cross_validated_correlations/whisper_base_timit_trf_lags300_bw50_boot_test_38_corr_results.csv\n",
      "Writing back...!\n",
      "Combining results...\n",
      "Output saved at: \n",
      " /depot/jgmakin/data/auditory_cortex/results/cross_validated_correlations/whisper_base_timit_trf_lags300_bw50_boot_test_39_corr_results.csv\n",
      "reading from /depot/jgmakin/data/auditory_cortex/results/cross_validated_correlations/whisper_base_timit_trf_lags300_bw50_boot_test_39_corr_results.csv\n",
      "Writing back...!\n",
      "Combining results...\n",
      "Output saved at: \n",
      " /depot/jgmakin/data/auditory_cortex/results/cross_validated_correlations/whisper_base_timit_trf_lags300_bw50_boot_test_40_corr_results.csv\n",
      "reading from /depot/jgmakin/data/auditory_cortex/results/cross_validated_correlations/whisper_base_timit_trf_lags300_bw50_boot_test_40_corr_results.csv\n",
      "Writing back...!\n",
      "Combining results...\n",
      "Output saved at: \n",
      " /depot/jgmakin/data/auditory_cortex/results/cross_validated_correlations/whisper_base_timit_trf_lags300_bw50_boot_test_41_corr_results.csv\n",
      "reading from /depot/jgmakin/data/auditory_cortex/results/cross_validated_correlations/whisper_base_timit_trf_lags300_bw50_boot_test_41_corr_results.csv\n",
      "Writing back...!\n",
      "Combining results...\n",
      "Output saved at: \n",
      " /depot/jgmakin/data/auditory_cortex/results/cross_validated_correlations/whisper_base_timit_trf_lags300_bw50_boot_test_42_corr_results.csv\n",
      "reading from /depot/jgmakin/data/auditory_cortex/results/cross_validated_correlations/whisper_base_timit_trf_lags300_bw50_boot_test_42_corr_results.csv\n",
      "Writing back...!\n",
      "Combining results...\n",
      "Output saved at: \n",
      " /depot/jgmakin/data/auditory_cortex/results/cross_validated_correlations/whisper_base_timit_trf_lags300_bw50_boot_test_43_corr_results.csv\n",
      "reading from /depot/jgmakin/data/auditory_cortex/results/cross_validated_correlations/whisper_base_timit_trf_lags300_bw50_boot_test_43_corr_results.csv\n",
      "Writing back...!\n",
      "Combining results...\n",
      "Output saved at: \n",
      " /depot/jgmakin/data/auditory_cortex/results/cross_validated_correlations/whisper_base_timit_trf_lags300_bw50_boot_test_44_corr_results.csv\n",
      "reading from /depot/jgmakin/data/auditory_cortex/results/cross_validated_correlations/whisper_base_timit_trf_lags300_bw50_boot_test_44_corr_results.csv\n",
      "Writing back...!\n",
      "Combining results...\n",
      "Output saved at: \n",
      " /depot/jgmakin/data/auditory_cortex/results/cross_validated_correlations/whisper_base_timit_trf_lags300_bw50_boot_test_45_corr_results.csv\n",
      "reading from /depot/jgmakin/data/auditory_cortex/results/cross_validated_correlations/whisper_base_timit_trf_lags300_bw50_boot_test_45_corr_results.csv\n",
      "Writing back...!\n",
      "Combining results...\n",
      "Output saved at: \n",
      " /depot/jgmakin/data/auditory_cortex/results/cross_validated_correlations/whisper_base_timit_trf_lags300_bw50_boot_test_46_corr_results.csv\n",
      "reading from /depot/jgmakin/data/auditory_cortex/results/cross_validated_correlations/whisper_base_timit_trf_lags300_bw50_boot_test_46_corr_results.csv\n",
      "Writing back...!\n",
      "Combining results...\n",
      "Output saved at: \n",
      " /depot/jgmakin/data/auditory_cortex/results/cross_validated_correlations/whisper_base_timit_trf_lags300_bw50_boot_test_47_corr_results.csv\n",
      "reading from /depot/jgmakin/data/auditory_cortex/results/cross_validated_correlations/whisper_base_timit_trf_lags300_bw50_boot_test_47_corr_results.csv\n",
      "Writing back...!\n",
      "Combining results...\n",
      "Output saved at: \n",
      " /depot/jgmakin/data/auditory_cortex/results/cross_validated_correlations/whisper_base_timit_trf_lags300_bw50_boot_test_48_corr_results.csv\n",
      "reading from /depot/jgmakin/data/auditory_cortex/results/cross_validated_correlations/whisper_base_timit_trf_lags300_bw50_boot_test_48_corr_results.csv\n",
      "Writing back...!\n",
      "Combining results...\n",
      "Output saved at: \n",
      " /depot/jgmakin/data/auditory_cortex/results/cross_validated_correlations/whisper_base_timit_trf_lags300_bw50_boot_test_49_corr_results.csv\n",
      "reading from /depot/jgmakin/data/auditory_cortex/results/cross_validated_correlations/whisper_base_timit_trf_lags300_bw50_boot_test_49_corr_results.csv\n",
      "Writing back...!\n",
      "Combining results...\n",
      "Output saved at: \n",
      " /depot/jgmakin/data/auditory_cortex/results/cross_validated_correlations/whisper_base_timit_trf_lags300_bw50_boot_test_50_corr_results.csv\n",
      "reading from /depot/jgmakin/data/auditory_cortex/results/cross_validated_correlations/whisper_base_timit_trf_lags300_bw50_boot_test_50_corr_results.csv\n",
      "Writing back...!\n",
      "Combining results...\n",
      "Output saved at: \n",
      " /depot/jgmakin/data/auditory_cortex/results/cross_validated_correlations/whisper_base_timit_trf_lags300_bw50_boot_test_51_corr_results.csv\n",
      "reading from /depot/jgmakin/data/auditory_cortex/results/cross_validated_correlations/whisper_base_timit_trf_lags300_bw50_boot_test_51_corr_results.csv\n",
      "Writing back...!\n",
      "Combining results...\n",
      "Output saved at: \n",
      " /depot/jgmakin/data/auditory_cortex/results/cross_validated_correlations/whisper_base_timit_trf_lags300_bw50_boot_test_52_corr_results.csv\n",
      "reading from /depot/jgmakin/data/auditory_cortex/results/cross_validated_correlations/whisper_base_timit_trf_lags300_bw50_boot_test_52_corr_results.csv\n",
      "Writing back...!\n",
      "Combining results...\n",
      "Output saved at: \n",
      " /depot/jgmakin/data/auditory_cortex/results/cross_validated_correlations/whisper_base_timit_trf_lags300_bw50_boot_test_53_corr_results.csv\n",
      "reading from /depot/jgmakin/data/auditory_cortex/results/cross_validated_correlations/whisper_base_timit_trf_lags300_bw50_boot_test_53_corr_results.csv\n",
      "Writing back...!\n",
      "Combining results...\n",
      "Output saved at: \n",
      " /depot/jgmakin/data/auditory_cortex/results/cross_validated_correlations/whisper_base_timit_trf_lags300_bw50_boot_test_54_corr_results.csv\n",
      "reading from /depot/jgmakin/data/auditory_cortex/results/cross_validated_correlations/whisper_base_timit_trf_lags300_bw50_boot_test_54_corr_results.csv\n",
      "Writing back...!\n",
      "Combining results...\n",
      "Output saved at: \n",
      " /depot/jgmakin/data/auditory_cortex/results/cross_validated_correlations/whisper_base_timit_trf_lags300_bw50_boot_test_55_corr_results.csv\n",
      "reading from /depot/jgmakin/data/auditory_cortex/results/cross_validated_correlations/whisper_base_timit_trf_lags300_bw50_boot_test_55_corr_results.csv\n",
      "Writing back...!\n",
      "Combining results...\n",
      "Output saved at: \n",
      " /depot/jgmakin/data/auditory_cortex/results/cross_validated_correlations/whisper_base_timit_trf_lags300_bw50_boot_test_56_corr_results.csv\n",
      "reading from /depot/jgmakin/data/auditory_cortex/results/cross_validated_correlations/whisper_base_timit_trf_lags300_bw50_boot_test_56_corr_results.csv\n",
      "Writing back...!\n",
      "Combining results...\n",
      "Output saved at: \n",
      " /depot/jgmakin/data/auditory_cortex/results/cross_validated_correlations/whisper_base_timit_trf_lags300_bw50_boot_test_57_corr_results.csv\n",
      "reading from /depot/jgmakin/data/auditory_cortex/results/cross_validated_correlations/whisper_base_timit_trf_lags300_bw50_boot_test_57_corr_results.csv\n",
      "Writing back...!\n",
      "Combining results...\n",
      "Output saved at: \n",
      " /depot/jgmakin/data/auditory_cortex/results/cross_validated_correlations/whisper_base_timit_trf_lags300_bw50_boot_test_58_corr_results.csv\n",
      "reading from /depot/jgmakin/data/auditory_cortex/results/cross_validated_correlations/whisper_base_timit_trf_lags300_bw50_boot_test_58_corr_results.csv\n",
      "Writing back...!\n",
      "Combining results...\n",
      "Output saved at: \n",
      " /depot/jgmakin/data/auditory_cortex/results/cross_validated_correlations/whisper_base_timit_trf_lags300_bw50_boot_test_59_corr_results.csv\n",
      "reading from /depot/jgmakin/data/auditory_cortex/results/cross_validated_correlations/whisper_base_timit_trf_lags300_bw50_boot_test_59_corr_results.csv\n",
      "Writing back...!\n",
      "Combining results...\n",
      "Output saved at: \n",
      " /depot/jgmakin/data/auditory_cortex/results/cross_validated_correlations/whisper_base_timit_trf_lags300_bw50_boot_test_60_corr_results.csv\n",
      "reading from /depot/jgmakin/data/auditory_cortex/results/cross_validated_correlations/whisper_base_timit_trf_lags300_bw50_boot_test_60_corr_results.csv\n",
      "Writing back...!\n",
      "Combining results...\n",
      "Output saved at: \n",
      " /depot/jgmakin/data/auditory_cortex/results/cross_validated_correlations/whisper_base_timit_trf_lags300_bw50_boot_test_61_corr_results.csv\n",
      "reading from /depot/jgmakin/data/auditory_cortex/results/cross_validated_correlations/whisper_base_timit_trf_lags300_bw50_boot_test_61_corr_results.csv\n",
      "Writing back...!\n",
      "Combining results...\n",
      "Output saved at: \n",
      " /depot/jgmakin/data/auditory_cortex/results/cross_validated_correlations/whisper_base_timit_trf_lags300_bw50_boot_test_62_corr_results.csv\n",
      "reading from /depot/jgmakin/data/auditory_cortex/results/cross_validated_correlations/whisper_base_timit_trf_lags300_bw50_boot_test_62_corr_results.csv\n",
      "Writing back...!\n",
      "Combining results...\n",
      "Output saved at: \n",
      " /depot/jgmakin/data/auditory_cortex/results/cross_validated_correlations/whisper_base_timit_trf_lags300_bw50_boot_test_63_corr_results.csv\n",
      "reading from /depot/jgmakin/data/auditory_cortex/results/cross_validated_correlations/whisper_base_timit_trf_lags300_bw50_boot_test_63_corr_results.csv\n",
      "Writing back...!\n",
      "Combining results...\n",
      "Output saved at: \n",
      " /depot/jgmakin/data/auditory_cortex/results/cross_validated_correlations/whisper_base_timit_trf_lags300_bw50_boot_test_64_corr_results.csv\n",
      "reading from /depot/jgmakin/data/auditory_cortex/results/cross_validated_correlations/whisper_base_timit_trf_lags300_bw50_boot_test_64_corr_results.csv\n",
      "Writing back...!\n",
      "Combining results...\n",
      "Output saved at: \n",
      " /depot/jgmakin/data/auditory_cortex/results/cross_validated_correlations/whisper_base_timit_trf_lags300_bw50_boot_test_65_corr_results.csv\n",
      "reading from /depot/jgmakin/data/auditory_cortex/results/cross_validated_correlations/whisper_base_timit_trf_lags300_bw50_boot_test_65_corr_results.csv\n",
      "Writing back...!\n",
      "Combining results...\n",
      "Output saved at: \n",
      " /depot/jgmakin/data/auditory_cortex/results/cross_validated_correlations/whisper_base_timit_trf_lags300_bw50_boot_test_66_corr_results.csv\n",
      "reading from /depot/jgmakin/data/auditory_cortex/results/cross_validated_correlations/whisper_base_timit_trf_lags300_bw50_boot_test_66_corr_results.csv\n",
      "Writing back...!\n",
      "Combining results...\n",
      "Output saved at: \n",
      " /depot/jgmakin/data/auditory_cortex/results/cross_validated_correlations/whisper_base_timit_trf_lags300_bw50_boot_test_67_corr_results.csv\n",
      "reading from /depot/jgmakin/data/auditory_cortex/results/cross_validated_correlations/whisper_base_timit_trf_lags300_bw50_boot_test_67_corr_results.csv\n",
      "Writing back...!\n",
      "Combining results...\n",
      "Output saved at: \n",
      " /depot/jgmakin/data/auditory_cortex/results/cross_validated_correlations/whisper_base_timit_trf_lags300_bw50_boot_test_68_corr_results.csv\n",
      "reading from /depot/jgmakin/data/auditory_cortex/results/cross_validated_correlations/whisper_base_timit_trf_lags300_bw50_boot_test_68_corr_results.csv\n",
      "Writing back...!\n",
      "Combining results...\n",
      "Output saved at: \n",
      " /depot/jgmakin/data/auditory_cortex/results/cross_validated_correlations/whisper_base_timit_trf_lags300_bw50_boot_test_69_corr_results.csv\n",
      "reading from /depot/jgmakin/data/auditory_cortex/results/cross_validated_correlations/whisper_base_timit_trf_lags300_bw50_boot_test_69_corr_results.csv\n",
      "Writing back...!\n",
      "Combining results...\n",
      "Output saved at: \n",
      " /depot/jgmakin/data/auditory_cortex/results/cross_validated_correlations/whisper_base_timit_trf_lags300_bw50_boot_test_70_corr_results.csv\n",
      "reading from /depot/jgmakin/data/auditory_cortex/results/cross_validated_correlations/whisper_base_timit_trf_lags300_bw50_boot_test_70_corr_results.csv\n",
      "Writing back...!\n",
      "Combining results...\n",
      "Output saved at: \n",
      " /depot/jgmakin/data/auditory_cortex/results/cross_validated_correlations/whisper_base_timit_trf_lags300_bw50_boot_test_71_corr_results.csv\n",
      "reading from /depot/jgmakin/data/auditory_cortex/results/cross_validated_correlations/whisper_base_timit_trf_lags300_bw50_boot_test_71_corr_results.csv\n",
      "Writing back...!\n",
      "Combining results...\n",
      "Output saved at: \n",
      " /depot/jgmakin/data/auditory_cortex/results/cross_validated_correlations/whisper_base_timit_trf_lags300_bw50_boot_test_72_corr_results.csv\n",
      "reading from /depot/jgmakin/data/auditory_cortex/results/cross_validated_correlations/whisper_base_timit_trf_lags300_bw50_boot_test_72_corr_results.csv\n",
      "Writing back...!\n",
      "Combining results...\n",
      "Output saved at: \n",
      " /depot/jgmakin/data/auditory_cortex/results/cross_validated_correlations/whisper_base_timit_trf_lags300_bw50_boot_test_73_corr_results.csv\n",
      "reading from /depot/jgmakin/data/auditory_cortex/results/cross_validated_correlations/whisper_base_timit_trf_lags300_bw50_boot_test_73_corr_results.csv\n",
      "Writing back...!\n",
      "Combining results...\n",
      "Output saved at: \n",
      " /depot/jgmakin/data/auditory_cortex/results/cross_validated_correlations/whisper_base_timit_trf_lags300_bw50_boot_test_74_corr_results.csv\n",
      "reading from /depot/jgmakin/data/auditory_cortex/results/cross_validated_correlations/whisper_base_timit_trf_lags300_bw50_boot_test_74_corr_results.csv\n",
      "Writing back...!\n",
      "Combining results...\n",
      "Output saved at: \n",
      " /depot/jgmakin/data/auditory_cortex/results/cross_validated_correlations/whisper_base_timit_trf_lags300_bw50_boot_test_75_corr_results.csv\n",
      "reading from /depot/jgmakin/data/auditory_cortex/results/cross_validated_correlations/whisper_base_timit_trf_lags300_bw50_boot_test_75_corr_results.csv\n",
      "Writing back...!\n",
      "Combining results...\n",
      "Output saved at: \n",
      " /depot/jgmakin/data/auditory_cortex/results/cross_validated_correlations/whisper_base_timit_trf_lags300_bw50_boot_test_76_corr_results.csv\n",
      "reading from /depot/jgmakin/data/auditory_cortex/results/cross_validated_correlations/whisper_base_timit_trf_lags300_bw50_boot_test_76_corr_results.csv\n",
      "Writing back...!\n",
      "Combining results...\n",
      "Output saved at: \n",
      " /depot/jgmakin/data/auditory_cortex/results/cross_validated_correlations/whisper_base_timit_trf_lags300_bw50_boot_test_77_corr_results.csv\n",
      "reading from /depot/jgmakin/data/auditory_cortex/results/cross_validated_correlations/whisper_base_timit_trf_lags300_bw50_boot_test_77_corr_results.csv\n",
      "Writing back...!\n",
      "Combining results...\n",
      "Output saved at: \n",
      " /depot/jgmakin/data/auditory_cortex/results/cross_validated_correlations/whisper_base_timit_trf_lags300_bw50_boot_test_78_corr_results.csv\n",
      "reading from /depot/jgmakin/data/auditory_cortex/results/cross_validated_correlations/whisper_base_timit_trf_lags300_bw50_boot_test_78_corr_results.csv\n",
      "Writing back...!\n",
      "Combining results...\n",
      "Output saved at: \n",
      " /depot/jgmakin/data/auditory_cortex/results/cross_validated_correlations/whisper_base_timit_trf_lags300_bw50_boot_test_79_corr_results.csv\n",
      "reading from /depot/jgmakin/data/auditory_cortex/results/cross_validated_correlations/whisper_base_timit_trf_lags300_bw50_boot_test_79_corr_results.csv\n",
      "Writing back...!\n",
      "Combining results...\n",
      "Output saved at: \n",
      " /depot/jgmakin/data/auditory_cortex/results/cross_validated_correlations/whisper_base_timit_trf_lags300_bw50_boot_test_80_corr_results.csv\n",
      "reading from /depot/jgmakin/data/auditory_cortex/results/cross_validated_correlations/whisper_base_timit_trf_lags300_bw50_boot_test_80_corr_results.csv\n",
      "Writing back...!\n"
     ]
    }
   ],
   "source": [
    "model_names = [\n",
    "\t'whisper_base',\n",
    "]\n",
    "identifiers = [f'test_{i}' for i in range(10, 81)]\n",
    "# identifiers[np.isin(identifiers, [29, 31, 33, 43], invert=True)]\n",
    "N_sents = np.arange(1, 12)\n",
    "for identifier in identifiers:\n",
    "\tcombine_bootstrap_results(identifier, model_names=model_names, N_sents=N_sents)\n"
   ]
  },
  {
   "cell_type": "code",
   "execution_count": 12,
   "metadata": {},
   "outputs": [
    {
     "name": "stdout",
     "output_type": "stream",
     "text": [
      "Columns: 'normalizer', 'test_cc_raw', 'normalized_test_cc' updated using normalizer (random pairs) dist, writing back now...\n",
      "Saved at /depot/jgmakin/data/auditory_cortex/results/cross_validated_correlations/whisper_base_timit_trf_lags300_bw50_boot_test_1_corr_results.csv\n",
      "Done for 1\n",
      "Columns: 'normalizer', 'test_cc_raw', 'normalized_test_cc' updated using normalizer (random pairs) dist, writing back now...\n",
      "Saved at /depot/jgmakin/data/auditory_cortex/results/cross_validated_correlations/whisper_base_timit_trf_lags300_bw50_boot_test_2_corr_results.csv\n",
      "Done for 2\n",
      "Columns: 'normalizer', 'test_cc_raw', 'normalized_test_cc' updated using normalizer (random pairs) dist, writing back now...\n",
      "Saved at /depot/jgmakin/data/auditory_cortex/results/cross_validated_correlations/whisper_base_timit_trf_lags300_bw50_boot_test_3_corr_results.csv\n",
      "Done for 3\n",
      "Columns: 'normalizer', 'test_cc_raw', 'normalized_test_cc' updated using normalizer (random pairs) dist, writing back now...\n",
      "Saved at /depot/jgmakin/data/auditory_cortex/results/cross_validated_correlations/whisper_base_timit_trf_lags300_bw50_boot_test_4_corr_results.csv\n",
      "Done for 4\n",
      "Columns: 'normalizer', 'test_cc_raw', 'normalized_test_cc' updated using normalizer (random pairs) dist, writing back now...\n",
      "Saved at /depot/jgmakin/data/auditory_cortex/results/cross_validated_correlations/whisper_base_timit_trf_lags300_bw50_boot_test_5_corr_results.csv\n",
      "Done for 5\n",
      "Columns: 'normalizer', 'test_cc_raw', 'normalized_test_cc' updated using normalizer (random pairs) dist, writing back now...\n",
      "Saved at /depot/jgmakin/data/auditory_cortex/results/cross_validated_correlations/whisper_base_timit_trf_lags300_bw50_boot_test_6_corr_results.csv\n",
      "Done for 6\n",
      "Columns: 'normalizer', 'test_cc_raw', 'normalized_test_cc' updated using normalizer (random pairs) dist, writing back now...\n",
      "Saved at /depot/jgmakin/data/auditory_cortex/results/cross_validated_correlations/whisper_base_timit_trf_lags300_bw50_boot_test_7_corr_results.csv\n",
      "Done for 7\n",
      "Columns: 'normalizer', 'test_cc_raw', 'normalized_test_cc' updated using normalizer (random pairs) dist, writing back now...\n",
      "Saved at /depot/jgmakin/data/auditory_cortex/results/cross_validated_correlations/whisper_base_timit_trf_lags300_bw50_boot_test_8_corr_results.csv\n",
      "Done for 8\n",
      "Columns: 'normalizer', 'test_cc_raw', 'normalized_test_cc' updated using normalizer (random pairs) dist, writing back now...\n",
      "Saved at /depot/jgmakin/data/auditory_cortex/results/cross_validated_correlations/whisper_base_timit_trf_lags300_bw50_boot_test_9_corr_results.csv\n",
      "Done for 9\n",
      "Columns: 'normalizer', 'test_cc_raw', 'normalized_test_cc' updated using normalizer (random pairs) dist, writing back now...\n",
      "Saved at /depot/jgmakin/data/auditory_cortex/results/cross_validated_correlations/whisper_base_timit_trf_lags300_bw50_boot_test_10_corr_results.csv\n",
      "Done for 10\n",
      "Columns: 'normalizer', 'test_cc_raw', 'normalized_test_cc' updated using normalizer (random pairs) dist, writing back now...\n",
      "Saved at /depot/jgmakin/data/auditory_cortex/results/cross_validated_correlations/whisper_base_timit_trf_lags300_bw50_boot_test_11_corr_results.csv\n",
      "Done for 11\n",
      "Columns: 'normalizer', 'test_cc_raw', 'normalized_test_cc' updated using normalizer (random pairs) dist, writing back now...\n",
      "Saved at /depot/jgmakin/data/auditory_cortex/results/cross_validated_correlations/whisper_base_timit_trf_lags300_bw50_boot_test_12_corr_results.csv\n",
      "Done for 12\n",
      "Columns: 'normalizer', 'test_cc_raw', 'normalized_test_cc' updated using normalizer (random pairs) dist, writing back now...\n",
      "Saved at /depot/jgmakin/data/auditory_cortex/results/cross_validated_correlations/whisper_base_timit_trf_lags300_bw50_boot_test_13_corr_results.csv\n",
      "Done for 13\n",
      "Columns: 'normalizer', 'test_cc_raw', 'normalized_test_cc' updated using normalizer (random pairs) dist, writing back now...\n",
      "Saved at /depot/jgmakin/data/auditory_cortex/results/cross_validated_correlations/whisper_base_timit_trf_lags300_bw50_boot_test_14_corr_results.csv\n",
      "Done for 14\n",
      "Columns: 'normalizer', 'test_cc_raw', 'normalized_test_cc' updated using normalizer (random pairs) dist, writing back now...\n",
      "Saved at /depot/jgmakin/data/auditory_cortex/results/cross_validated_correlations/whisper_base_timit_trf_lags300_bw50_boot_test_15_corr_results.csv\n",
      "Done for 15\n",
      "Columns: 'normalizer', 'test_cc_raw', 'normalized_test_cc' updated using normalizer (random pairs) dist, writing back now...\n",
      "Saved at /depot/jgmakin/data/auditory_cortex/results/cross_validated_correlations/whisper_base_timit_trf_lags300_bw50_boot_test_16_corr_results.csv\n",
      "Done for 16\n",
      "Columns: 'normalizer', 'test_cc_raw', 'normalized_test_cc' updated using normalizer (random pairs) dist, writing back now...\n",
      "Saved at /depot/jgmakin/data/auditory_cortex/results/cross_validated_correlations/whisper_base_timit_trf_lags300_bw50_boot_test_17_corr_results.csv\n",
      "Done for 17\n",
      "Columns: 'normalizer', 'test_cc_raw', 'normalized_test_cc' updated using normalizer (random pairs) dist, writing back now...\n",
      "Saved at /depot/jgmakin/data/auditory_cortex/results/cross_validated_correlations/whisper_base_timit_trf_lags300_bw50_boot_test_18_corr_results.csv\n",
      "Done for 18\n",
      "Columns: 'normalizer', 'test_cc_raw', 'normalized_test_cc' updated using normalizer (random pairs) dist, writing back now...\n",
      "Saved at /depot/jgmakin/data/auditory_cortex/results/cross_validated_correlations/whisper_base_timit_trf_lags300_bw50_boot_test_19_corr_results.csv\n",
      "Done for 19\n",
      "Columns: 'normalizer', 'test_cc_raw', 'normalized_test_cc' updated using normalizer (random pairs) dist, writing back now...\n",
      "Saved at /depot/jgmakin/data/auditory_cortex/results/cross_validated_correlations/whisper_base_timit_trf_lags300_bw50_boot_test_20_corr_results.csv\n",
      "Done for 20\n",
      "Columns: 'normalizer', 'test_cc_raw', 'normalized_test_cc' updated using normalizer (random pairs) dist, writing back now...\n",
      "Saved at /depot/jgmakin/data/auditory_cortex/results/cross_validated_correlations/whisper_base_timit_trf_lags300_bw50_boot_test_21_corr_results.csv\n",
      "Done for 21\n",
      "Columns: 'normalizer', 'test_cc_raw', 'normalized_test_cc' updated using normalizer (random pairs) dist, writing back now...\n",
      "Saved at /depot/jgmakin/data/auditory_cortex/results/cross_validated_correlations/whisper_base_timit_trf_lags300_bw50_boot_test_22_corr_results.csv\n",
      "Done for 22\n",
      "Columns: 'normalizer', 'test_cc_raw', 'normalized_test_cc' updated using normalizer (random pairs) dist, writing back now...\n",
      "Saved at /depot/jgmakin/data/auditory_cortex/results/cross_validated_correlations/whisper_base_timit_trf_lags300_bw50_boot_test_23_corr_results.csv\n",
      "Done for 23\n",
      "Columns: 'normalizer', 'test_cc_raw', 'normalized_test_cc' updated using normalizer (random pairs) dist, writing back now...\n",
      "Saved at /depot/jgmakin/data/auditory_cortex/results/cross_validated_correlations/whisper_base_timit_trf_lags300_bw50_boot_test_24_corr_results.csv\n",
      "Done for 24\n",
      "Columns: 'normalizer', 'test_cc_raw', 'normalized_test_cc' updated using normalizer (random pairs) dist, writing back now...\n",
      "Saved at /depot/jgmakin/data/auditory_cortex/results/cross_validated_correlations/whisper_base_timit_trf_lags300_bw50_boot_test_25_corr_results.csv\n",
      "Done for 25\n",
      "Columns: 'normalizer', 'test_cc_raw', 'normalized_test_cc' updated using normalizer (random pairs) dist, writing back now...\n",
      "Saved at /depot/jgmakin/data/auditory_cortex/results/cross_validated_correlations/whisper_base_timit_trf_lags300_bw50_boot_test_26_corr_results.csv\n",
      "Done for 26\n",
      "Columns: 'normalizer', 'test_cc_raw', 'normalized_test_cc' updated using normalizer (random pairs) dist, writing back now...\n",
      "Saved at /depot/jgmakin/data/auditory_cortex/results/cross_validated_correlations/whisper_base_timit_trf_lags300_bw50_boot_test_27_corr_results.csv\n",
      "Done for 27\n",
      "Columns: 'normalizer', 'test_cc_raw', 'normalized_test_cc' updated using normalizer (random pairs) dist, writing back now...\n",
      "Saved at /depot/jgmakin/data/auditory_cortex/results/cross_validated_correlations/whisper_base_timit_trf_lags300_bw50_boot_test_28_corr_results.csv\n",
      "Done for 28\n",
      "Columns: 'normalizer', 'test_cc_raw', 'normalized_test_cc' updated using normalizer (random pairs) dist, writing back now...\n",
      "Saved at /depot/jgmakin/data/auditory_cortex/results/cross_validated_correlations/whisper_base_timit_trf_lags300_bw50_boot_test_29_corr_results.csv\n",
      "Done for 29\n",
      "Columns: 'normalizer', 'test_cc_raw', 'normalized_test_cc' updated using normalizer (random pairs) dist, writing back now...\n",
      "Saved at /depot/jgmakin/data/auditory_cortex/results/cross_validated_correlations/whisper_base_timit_trf_lags300_bw50_boot_test_30_corr_results.csv\n",
      "Done for 30\n",
      "Columns: 'normalizer', 'test_cc_raw', 'normalized_test_cc' updated using normalizer (random pairs) dist, writing back now...\n",
      "Saved at /depot/jgmakin/data/auditory_cortex/results/cross_validated_correlations/whisper_base_timit_trf_lags300_bw50_boot_test_31_corr_results.csv\n",
      "Done for 31\n",
      "Columns: 'normalizer', 'test_cc_raw', 'normalized_test_cc' updated using normalizer (random pairs) dist, writing back now...\n",
      "Saved at /depot/jgmakin/data/auditory_cortex/results/cross_validated_correlations/whisper_base_timit_trf_lags300_bw50_boot_test_32_corr_results.csv\n",
      "Done for 32\n",
      "Columns: 'normalizer', 'test_cc_raw', 'normalized_test_cc' updated using normalizer (random pairs) dist, writing back now...\n",
      "Saved at /depot/jgmakin/data/auditory_cortex/results/cross_validated_correlations/whisper_base_timit_trf_lags300_bw50_boot_test_33_corr_results.csv\n",
      "Done for 33\n",
      "Columns: 'normalizer', 'test_cc_raw', 'normalized_test_cc' updated using normalizer (random pairs) dist, writing back now...\n",
      "Saved at /depot/jgmakin/data/auditory_cortex/results/cross_validated_correlations/whisper_base_timit_trf_lags300_bw50_boot_test_34_corr_results.csv\n",
      "Done for 34\n",
      "Columns: 'normalizer', 'test_cc_raw', 'normalized_test_cc' updated using normalizer (random pairs) dist, writing back now...\n",
      "Saved at /depot/jgmakin/data/auditory_cortex/results/cross_validated_correlations/whisper_base_timit_trf_lags300_bw50_boot_test_35_corr_results.csv\n",
      "Done for 35\n",
      "Columns: 'normalizer', 'test_cc_raw', 'normalized_test_cc' updated using normalizer (random pairs) dist, writing back now...\n",
      "Saved at /depot/jgmakin/data/auditory_cortex/results/cross_validated_correlations/whisper_base_timit_trf_lags300_bw50_boot_test_36_corr_results.csv\n",
      "Done for 36\n",
      "Columns: 'normalizer', 'test_cc_raw', 'normalized_test_cc' updated using normalizer (random pairs) dist, writing back now...\n",
      "Saved at /depot/jgmakin/data/auditory_cortex/results/cross_validated_correlations/whisper_base_timit_trf_lags300_bw50_boot_test_37_corr_results.csv\n",
      "Done for 37\n",
      "Columns: 'normalizer', 'test_cc_raw', 'normalized_test_cc' updated using normalizer (random pairs) dist, writing back now...\n",
      "Saved at /depot/jgmakin/data/auditory_cortex/results/cross_validated_correlations/whisper_base_timit_trf_lags300_bw50_boot_test_38_corr_results.csv\n",
      "Done for 38\n",
      "Columns: 'normalizer', 'test_cc_raw', 'normalized_test_cc' updated using normalizer (random pairs) dist, writing back now...\n",
      "Saved at /depot/jgmakin/data/auditory_cortex/results/cross_validated_correlations/whisper_base_timit_trf_lags300_bw50_boot_test_39_corr_results.csv\n",
      "Done for 39\n",
      "Columns: 'normalizer', 'test_cc_raw', 'normalized_test_cc' updated using normalizer (random pairs) dist, writing back now...\n",
      "Saved at /depot/jgmakin/data/auditory_cortex/results/cross_validated_correlations/whisper_base_timit_trf_lags300_bw50_boot_test_40_corr_results.csv\n",
      "Done for 40\n",
      "Columns: 'normalizer', 'test_cc_raw', 'normalized_test_cc' updated using normalizer (random pairs) dist, writing back now...\n",
      "Saved at /depot/jgmakin/data/auditory_cortex/results/cross_validated_correlations/whisper_base_timit_trf_lags300_bw50_boot_test_41_corr_results.csv\n",
      "Done for 41\n",
      "Columns: 'normalizer', 'test_cc_raw', 'normalized_test_cc' updated using normalizer (random pairs) dist, writing back now...\n",
      "Saved at /depot/jgmakin/data/auditory_cortex/results/cross_validated_correlations/whisper_base_timit_trf_lags300_bw50_boot_test_42_corr_results.csv\n",
      "Done for 42\n",
      "Columns: 'normalizer', 'test_cc_raw', 'normalized_test_cc' updated using normalizer (random pairs) dist, writing back now...\n",
      "Saved at /depot/jgmakin/data/auditory_cortex/results/cross_validated_correlations/whisper_base_timit_trf_lags300_bw50_boot_test_43_corr_results.csv\n",
      "Done for 43\n",
      "Columns: 'normalizer', 'test_cc_raw', 'normalized_test_cc' updated using normalizer (random pairs) dist, writing back now...\n",
      "Saved at /depot/jgmakin/data/auditory_cortex/results/cross_validated_correlations/whisper_base_timit_trf_lags300_bw50_boot_test_44_corr_results.csv\n",
      "Done for 44\n",
      "Columns: 'normalizer', 'test_cc_raw', 'normalized_test_cc' updated using normalizer (random pairs) dist, writing back now...\n",
      "Saved at /depot/jgmakin/data/auditory_cortex/results/cross_validated_correlations/whisper_base_timit_trf_lags300_bw50_boot_test_45_corr_results.csv\n",
      "Done for 45\n",
      "Columns: 'normalizer', 'test_cc_raw', 'normalized_test_cc' updated using normalizer (random pairs) dist, writing back now...\n",
      "Saved at /depot/jgmakin/data/auditory_cortex/results/cross_validated_correlations/whisper_base_timit_trf_lags300_bw50_boot_test_46_corr_results.csv\n",
      "Done for 46\n",
      "Columns: 'normalizer', 'test_cc_raw', 'normalized_test_cc' updated using normalizer (random pairs) dist, writing back now...\n",
      "Saved at /depot/jgmakin/data/auditory_cortex/results/cross_validated_correlations/whisper_base_timit_trf_lags300_bw50_boot_test_47_corr_results.csv\n",
      "Done for 47\n",
      "Columns: 'normalizer', 'test_cc_raw', 'normalized_test_cc' updated using normalizer (random pairs) dist, writing back now...\n",
      "Saved at /depot/jgmakin/data/auditory_cortex/results/cross_validated_correlations/whisper_base_timit_trf_lags300_bw50_boot_test_48_corr_results.csv\n",
      "Done for 48\n",
      "Columns: 'normalizer', 'test_cc_raw', 'normalized_test_cc' updated using normalizer (random pairs) dist, writing back now...\n",
      "Saved at /depot/jgmakin/data/auditory_cortex/results/cross_validated_correlations/whisper_base_timit_trf_lags300_bw50_boot_test_49_corr_results.csv\n",
      "Done for 49\n",
      "Columns: 'normalizer', 'test_cc_raw', 'normalized_test_cc' updated using normalizer (random pairs) dist, writing back now...\n",
      "Saved at /depot/jgmakin/data/auditory_cortex/results/cross_validated_correlations/whisper_base_timit_trf_lags300_bw50_boot_test_50_corr_results.csv\n",
      "Done for 50\n",
      "Columns: 'normalizer', 'test_cc_raw', 'normalized_test_cc' updated using normalizer (random pairs) dist, writing back now...\n",
      "Saved at /depot/jgmakin/data/auditory_cortex/results/cross_validated_correlations/whisper_base_timit_trf_lags300_bw50_boot_test_51_corr_results.csv\n",
      "Done for 51\n",
      "Columns: 'normalizer', 'test_cc_raw', 'normalized_test_cc' updated using normalizer (random pairs) dist, writing back now...\n",
      "Saved at /depot/jgmakin/data/auditory_cortex/results/cross_validated_correlations/whisper_base_timit_trf_lags300_bw50_boot_test_52_corr_results.csv\n",
      "Done for 52\n",
      "Columns: 'normalizer', 'test_cc_raw', 'normalized_test_cc' updated using normalizer (random pairs) dist, writing back now...\n",
      "Saved at /depot/jgmakin/data/auditory_cortex/results/cross_validated_correlations/whisper_base_timit_trf_lags300_bw50_boot_test_53_corr_results.csv\n",
      "Done for 53\n",
      "Columns: 'normalizer', 'test_cc_raw', 'normalized_test_cc' updated using normalizer (random pairs) dist, writing back now...\n",
      "Saved at /depot/jgmakin/data/auditory_cortex/results/cross_validated_correlations/whisper_base_timit_trf_lags300_bw50_boot_test_54_corr_results.csv\n",
      "Done for 54\n",
      "Columns: 'normalizer', 'test_cc_raw', 'normalized_test_cc' updated using normalizer (random pairs) dist, writing back now...\n",
      "Saved at /depot/jgmakin/data/auditory_cortex/results/cross_validated_correlations/whisper_base_timit_trf_lags300_bw50_boot_test_55_corr_results.csv\n",
      "Done for 55\n",
      "Columns: 'normalizer', 'test_cc_raw', 'normalized_test_cc' updated using normalizer (random pairs) dist, writing back now...\n",
      "Saved at /depot/jgmakin/data/auditory_cortex/results/cross_validated_correlations/whisper_base_timit_trf_lags300_bw50_boot_test_56_corr_results.csv\n",
      "Done for 56\n",
      "Columns: 'normalizer', 'test_cc_raw', 'normalized_test_cc' updated using normalizer (random pairs) dist, writing back now...\n",
      "Saved at /depot/jgmakin/data/auditory_cortex/results/cross_validated_correlations/whisper_base_timit_trf_lags300_bw50_boot_test_57_corr_results.csv\n",
      "Done for 57\n",
      "Columns: 'normalizer', 'test_cc_raw', 'normalized_test_cc' updated using normalizer (random pairs) dist, writing back now...\n",
      "Saved at /depot/jgmakin/data/auditory_cortex/results/cross_validated_correlations/whisper_base_timit_trf_lags300_bw50_boot_test_58_corr_results.csv\n",
      "Done for 58\n",
      "Columns: 'normalizer', 'test_cc_raw', 'normalized_test_cc' updated using normalizer (random pairs) dist, writing back now...\n",
      "Saved at /depot/jgmakin/data/auditory_cortex/results/cross_validated_correlations/whisper_base_timit_trf_lags300_bw50_boot_test_59_corr_results.csv\n",
      "Done for 59\n",
      "Columns: 'normalizer', 'test_cc_raw', 'normalized_test_cc' updated using normalizer (random pairs) dist, writing back now...\n",
      "Saved at /depot/jgmakin/data/auditory_cortex/results/cross_validated_correlations/whisper_base_timit_trf_lags300_bw50_boot_test_60_corr_results.csv\n",
      "Done for 60\n",
      "Columns: 'normalizer', 'test_cc_raw', 'normalized_test_cc' updated using normalizer (random pairs) dist, writing back now...\n",
      "Saved at /depot/jgmakin/data/auditory_cortex/results/cross_validated_correlations/whisper_base_timit_trf_lags300_bw50_boot_test_61_corr_results.csv\n",
      "Done for 61\n",
      "Columns: 'normalizer', 'test_cc_raw', 'normalized_test_cc' updated using normalizer (random pairs) dist, writing back now...\n",
      "Saved at /depot/jgmakin/data/auditory_cortex/results/cross_validated_correlations/whisper_base_timit_trf_lags300_bw50_boot_test_62_corr_results.csv\n",
      "Done for 62\n",
      "Columns: 'normalizer', 'test_cc_raw', 'normalized_test_cc' updated using normalizer (random pairs) dist, writing back now...\n",
      "Saved at /depot/jgmakin/data/auditory_cortex/results/cross_validated_correlations/whisper_base_timit_trf_lags300_bw50_boot_test_63_corr_results.csv\n",
      "Done for 63\n",
      "Columns: 'normalizer', 'test_cc_raw', 'normalized_test_cc' updated using normalizer (random pairs) dist, writing back now...\n",
      "Saved at /depot/jgmakin/data/auditory_cortex/results/cross_validated_correlations/whisper_base_timit_trf_lags300_bw50_boot_test_64_corr_results.csv\n",
      "Done for 64\n",
      "Columns: 'normalizer', 'test_cc_raw', 'normalized_test_cc' updated using normalizer (random pairs) dist, writing back now...\n",
      "Saved at /depot/jgmakin/data/auditory_cortex/results/cross_validated_correlations/whisper_base_timit_trf_lags300_bw50_boot_test_65_corr_results.csv\n",
      "Done for 65\n",
      "Columns: 'normalizer', 'test_cc_raw', 'normalized_test_cc' updated using normalizer (random pairs) dist, writing back now...\n",
      "Saved at /depot/jgmakin/data/auditory_cortex/results/cross_validated_correlations/whisper_base_timit_trf_lags300_bw50_boot_test_66_corr_results.csv\n",
      "Done for 66\n",
      "Columns: 'normalizer', 'test_cc_raw', 'normalized_test_cc' updated using normalizer (random pairs) dist, writing back now...\n",
      "Saved at /depot/jgmakin/data/auditory_cortex/results/cross_validated_correlations/whisper_base_timit_trf_lags300_bw50_boot_test_67_corr_results.csv\n",
      "Done for 67\n",
      "Columns: 'normalizer', 'test_cc_raw', 'normalized_test_cc' updated using normalizer (random pairs) dist, writing back now...\n",
      "Saved at /depot/jgmakin/data/auditory_cortex/results/cross_validated_correlations/whisper_base_timit_trf_lags300_bw50_boot_test_68_corr_results.csv\n",
      "Done for 68\n",
      "Columns: 'normalizer', 'test_cc_raw', 'normalized_test_cc' updated using normalizer (random pairs) dist, writing back now...\n",
      "Saved at /depot/jgmakin/data/auditory_cortex/results/cross_validated_correlations/whisper_base_timit_trf_lags300_bw50_boot_test_69_corr_results.csv\n",
      "Done for 69\n",
      "Columns: 'normalizer', 'test_cc_raw', 'normalized_test_cc' updated using normalizer (random pairs) dist, writing back now...\n",
      "Saved at /depot/jgmakin/data/auditory_cortex/results/cross_validated_correlations/whisper_base_timit_trf_lags300_bw50_boot_test_70_corr_results.csv\n",
      "Done for 70\n",
      "Columns: 'normalizer', 'test_cc_raw', 'normalized_test_cc' updated using normalizer (random pairs) dist, writing back now...\n",
      "Saved at /depot/jgmakin/data/auditory_cortex/results/cross_validated_correlations/whisper_base_timit_trf_lags300_bw50_boot_test_71_corr_results.csv\n",
      "Done for 71\n",
      "Columns: 'normalizer', 'test_cc_raw', 'normalized_test_cc' updated using normalizer (random pairs) dist, writing back now...\n",
      "Saved at /depot/jgmakin/data/auditory_cortex/results/cross_validated_correlations/whisper_base_timit_trf_lags300_bw50_boot_test_72_corr_results.csv\n",
      "Done for 72\n",
      "Columns: 'normalizer', 'test_cc_raw', 'normalized_test_cc' updated using normalizer (random pairs) dist, writing back now...\n",
      "Saved at /depot/jgmakin/data/auditory_cortex/results/cross_validated_correlations/whisper_base_timit_trf_lags300_bw50_boot_test_73_corr_results.csv\n",
      "Done for 73\n",
      "Columns: 'normalizer', 'test_cc_raw', 'normalized_test_cc' updated using normalizer (random pairs) dist, writing back now...\n",
      "Saved at /depot/jgmakin/data/auditory_cortex/results/cross_validated_correlations/whisper_base_timit_trf_lags300_bw50_boot_test_74_corr_results.csv\n",
      "Done for 74\n",
      "Columns: 'normalizer', 'test_cc_raw', 'normalized_test_cc' updated using normalizer (random pairs) dist, writing back now...\n",
      "Saved at /depot/jgmakin/data/auditory_cortex/results/cross_validated_correlations/whisper_base_timit_trf_lags300_bw50_boot_test_75_corr_results.csv\n",
      "Done for 75\n",
      "Columns: 'normalizer', 'test_cc_raw', 'normalized_test_cc' updated using normalizer (random pairs) dist, writing back now...\n",
      "Saved at /depot/jgmakin/data/auditory_cortex/results/cross_validated_correlations/whisper_base_timit_trf_lags300_bw50_boot_test_76_corr_results.csv\n",
      "Done for 76\n",
      "Columns: 'normalizer', 'test_cc_raw', 'normalized_test_cc' updated using normalizer (random pairs) dist, writing back now...\n",
      "Saved at /depot/jgmakin/data/auditory_cortex/results/cross_validated_correlations/whisper_base_timit_trf_lags300_bw50_boot_test_77_corr_results.csv\n",
      "Done for 77\n",
      "Columns: 'normalizer', 'test_cc_raw', 'normalized_test_cc' updated using normalizer (random pairs) dist, writing back now...\n",
      "Saved at /depot/jgmakin/data/auditory_cortex/results/cross_validated_correlations/whisper_base_timit_trf_lags300_bw50_boot_test_78_corr_results.csv\n",
      "Done for 78\n",
      "Columns: 'normalizer', 'test_cc_raw', 'normalized_test_cc' updated using normalizer (random pairs) dist, writing back now...\n",
      "Saved at /depot/jgmakin/data/auditory_cortex/results/cross_validated_correlations/whisper_base_timit_trf_lags300_bw50_boot_test_79_corr_results.csv\n",
      "Done for 79\n",
      "Columns: 'normalizer', 'test_cc_raw', 'normalized_test_cc' updated using normalizer (random pairs) dist, writing back now...\n",
      "Saved at /depot/jgmakin/data/auditory_cortex/results/cross_validated_correlations/whisper_base_timit_trf_lags300_bw50_boot_test_80_corr_results.csv\n",
      "Done for 80\n"
     ]
    }
   ],
   "source": [
    "N_sents = np.arange(1, 81)\n",
    "\n",
    "for N in N_sents:\n",
    "\tidentifier = f\"timit_trf_lags300_bw50_boot_test_{N}\"\n",
    "\tcorr_obj = Correlations('whisper_base_'+identifier)\n",
    "\tcorr_obj.set_normalizers_using_bootsrap(mVocs=False)\n",
    "\tprint(f\"Done for {N}\")"
   ]
  },
  {
   "cell_type": "markdown",
   "metadata": {},
   "source": [
    "#### combine LPF resutls..."
   ]
  },
  {
   "cell_type": "code",
   "execution_count": 3,
   "metadata": {},
   "outputs": [],
   "source": [
    "def display_sessions_done(model_name, identifier, verbose=False, num_sessions=41):\n",
    "\t\"\"\"Display the number of sessions done for all bin widths\n",
    "\t\"\"\"\n",
    "\tif verbose:\n",
    "\t\tprint(f\"For '{model_name}', '{identifier}'\")\n",
    "\ttry:\n",
    "\t\tcorr_obj = Correlations(model_name+'_'+identifier)\n",
    "\texcept:\n",
    "\t\tprint(f\"Model '{model_name}' with identifier '{identifier}' not found\")\n",
    "\t\treturn [model_name+'_'+identifier]\n",
    "\tbin_widths = np.sort(corr_obj.data['bin_width'].unique())\n",
    "\treturn_list = []\n",
    "\tfor bin_width in bin_widths:\n",
    "\t\tdata = corr_obj.get_selected_data(bin_width=bin_width)\n",
    "\t\tif verbose:\n",
    "\t\t\tprint(f\"For bin_width: {bin_width:03} ms, sessions done: {len(data['session'].unique())}\")\n",
    "\t\tif len(data['session'].unique()) != num_sessions:\n",
    "\t\t\treturn_list.append(model_name+'_'+identifier+f'{bin_width}')\n",
    "\t\telse:\n",
    "\t\t\treturn_list.append(None)\n",
    "\treturn return_list\n",
    "def check_LPF_results(identifier, model_names=None, bin_widths=None, verbose=False, mVocs=False):\n",
    "\n",
    "\tif mVocs:\n",
    "\t\tstim = 'mVocs'\n",
    "\t\tnum_sessions = 39\n",
    "\telse:\n",
    "\t\tstim = 'timit'\n",
    "\t\tnum_sessions = 41\n",
    "\tmodels_not_done = []\n",
    "\tif model_names is None:\n",
    "\t\tmodel_names = num_layers.keys()\n",
    "\tif bin_widths is None:\n",
    "\t\tbin_widths = [20, 40, 50, 60, 80, 100]\n",
    "\tfor model_name in model_names:\n",
    "\t\t# not_done = display_sessions_done(\n",
    "\t\t# \tmodel_name, identifier, verbose=verbose, num_sessions=num_sessions)\n",
    "\t\t# models_not_done.extend(not_done)\n",
    "\t\tfor bw in bin_widths:\n",
    "\t\t\tnot_done = display_sessions_done(\n",
    "\t\t\t\tmodel_name, f'{stim}_trf_lags300_bw{bw}_{identifier}', verbose=verbose, num_sessions=num_sessions)\n",
    "\t\t\tmodels_not_done.extend(not_done)\n",
    "\n",
    "\t# remove None entries..\n",
    "\twhile None in models_not_done:\n",
    "\t\tmodels_not_done.remove(None)\n",
    "\t\n",
    "\tif len(models_not_done) ==0:\n",
    "\t\tprint(f\"All models done..for {identifier}\")\n",
    "\telse:\n",
    "\t\tprint(f\"Models with incomplete resutls:\")\n",
    "\t\tfor iden in models_not_done:\n",
    "\t\t\tprint(iden)\n",
    "\n",
    "\n",
    "def combine_results_for_all_models(identifier, model_names, bin_widths, stim):\n",
    "\t\"\"\"Combines results for the list of models provided\"\"\"\n",
    "\tnormalizer_filename = 'modified_bins_normalizer.csv'\n",
    "\t# output_identifier = f'{stim}_trf_lags300_{identifier}'\n",
    "\tfor model_name in model_names:\n",
    "\n",
    "\t\tids = [f'{stim}_trf_lags300_bw{bw}_{identifier}' for bw in bin_widths]\n",
    "\t\tCorrelations.combine_and_ready(\n",
    "\t\t\tmodel_name,\n",
    "\t\t\tids, 0, normalizer_filename=normalizer_filename,\n",
    "\t\t\t# output_identifier=output_identifier\n",
    "\t\t\t)"
   ]
  },
  {
   "cell_type": "code",
   "execution_count": 22,
   "metadata": {},
   "outputs": [
    {
     "name": "stdout",
     "output_type": "stream",
     "text": [
      "For 'deepspeech2', 'timit_trf_lags300_bw20_LPF_20_80GB'\n",
      "For bin_width: 20.0 ms, sessions done: 41\n",
      "For 'deepspeech2', 'timit_trf_lags300_bw40_LPF_20_80GB'\n",
      "For bin_width: 40.0 ms, sessions done: 41\n",
      "For 'deepspeech2', 'timit_trf_lags300_bw50_LPF_20_80GB'\n",
      "For bin_width: 50.0 ms, sessions done: 41\n",
      "For 'deepspeech2', 'timit_trf_lags300_bw60_LPF_20_80GB'\n",
      "For bin_width: 60.0 ms, sessions done: 41\n",
      "For 'deepspeech2', 'timit_trf_lags300_bw80_LPF_20_80GB'\n",
      "For bin_width: 80.0 ms, sessions done: 41\n",
      "For 'deepspeech2', 'timit_trf_lags300_bw100_LPF_20_80GB'\n",
      "For bin_width: 100.0 ms, sessions done: 41\n",
      "For 'deepspeech2', 'timit_trf_lags300_bw200_LPF_20_80GB'\n",
      "For bin_width: 200.0 ms, sessions done: 41\n",
      "For 'deepspeech2', 'timit_trf_lags300_bw300_LPF_20_80GB'\n",
      "For bin_width: 300.0 ms, sessions done: 41\n",
      "For 'deepspeech2', 'timit_trf_lags300_bw400_LPF_20_80GB'\n",
      "For bin_width: 400.0 ms, sessions done: 41\n",
      "For 'deepspeech2', 'timit_trf_lags300_bw500_LPF_20_80GB'\n",
      "For bin_width: 500.0 ms, sessions done: 41\n",
      "For 'deepspeech2', 'timit_trf_lags300_bw600_LPF_20_80GB'\n",
      "For bin_width: 600.0 ms, sessions done: 41\n",
      "For 'deepspeech2', 'timit_trf_lags300_bw700_LPF_20_80GB'\n",
      "For bin_width: 700.0 ms, sessions done: 41\n",
      "For 'deepspeech2', 'timit_trf_lags300_bw800_LPF_20_80GB'\n",
      "For bin_width: 800.0 ms, sessions done: 41\n",
      "All models done..for LPF_20_80GB\n"
     ]
    }
   ],
   "source": [
    "model_names = [\n",
    "\t'deepspeech2',\n",
    "\t# 'whisper_tiny',\n",
    "\t# 'whisper_base',\n",
    "\t# 'wav2vec2',\n",
    "\t# 'wav2letter_modified',\n",
    "\t# 'speech2text',\n",
    "]\n",
    "# identifier = 'LPF_20'\n",
    "identifier = 'LPF_20_80GB'\n",
    "# identifier = 'LPF_20_n'\n",
    "mVocs = False\n",
    "bin_widths = [20, 40, 50, 60, 80, 100, 200, 300, 400, 500, 600, 700, 800]\n",
    "# bin_widths = [600, 700, 800]\n",
    "check_LPF_results(identifier, model_names=model_names, bin_widths=bin_widths, verbose=True, mVocs=mVocs)"
   ]
  },
  {
   "cell_type": "code",
   "execution_count": 23,
   "metadata": {},
   "outputs": [
    {
     "name": "stdout",
     "output_type": "stream",
     "text": [
      "Combining results...\n",
      "Output saved at: \n",
      " /depot/jgmakin/data/auditory_cortex/results/cross_validated_correlations/deepspeech2_timit_trf_lags300_bw20_LPF_20_80GB_corr_results.csv\n",
      "reading from /depot/jgmakin/data/auditory_cortex/results/cross_validated_correlations/deepspeech2_timit_trf_lags300_bw20_LPF_20_80GB_corr_results.csv\n",
      "Writing back...!\n"
     ]
    }
   ],
   "source": [
    "model_names = [\n",
    "\t'deepspeech2',\n",
    "\t# 'whisper_tiny',\n",
    "\t# 'whisper_base',\n",
    "\t# 'wav2vec2',\n",
    "\t# 'wav2letter_modified',\n",
    "\t# 'speech2text',\n",
    "]\n",
    "# identifier = 'LPF_20'\n",
    "identifier = 'LPF_20_80GB'\n",
    "# identifier = 'LPF_20_n'\n",
    "# bin_widths = [600, 700, 800]\n",
    "bin_widths = [20, 40, 50, 60, 80, 100, 200, 300, 400, 500, 600, 700, 800]\n",
    "combine_results_for_all_models(identifier, model_names, bin_widths, 'timit')"
   ]
  },
  {
   "cell_type": "code",
   "execution_count": 25,
   "metadata": {},
   "outputs": [
    {
     "name": "stdout",
     "output_type": "stream",
     "text": [
      "Columns: 'normalizer', 'test_cc_raw', 'normalized_test_cc' updated using normalizer (random pairs) dist, writing back now...\n",
      "Saved at /depot/jgmakin/data/auditory_cortex/results/cross_validated_correlations/deepspeech2_timit_trf_lags300_LPF_20_corr_results.csv\n"
     ]
    }
   ],
   "source": [
    "model_names = [\n",
    "\t'deepspeech2',\n",
    "\t# 'whisper_tiny',\n",
    "\t# 'whisper_base',\n",
    "\t# 'wav2vec2',\n",
    "\t# 'wav2letter_modified',\n",
    "\t# 'speech2text',\n",
    "]\n",
    "# identifier = 'LPF_20'\n",
    "# identifier = 'LPF_20_80GB'\n",
    "# identifier = 'LPF_20_n'\n",
    "stim = 'timit'\n",
    "identifier = f'timit_trf_lags300_LPF_20'\n",
    "if stim == 'mVocs':\n",
    "\tmVocs = True\n",
    "else:\n",
    "\tmVocs = False\n",
    "for model_name in model_names:\n",
    "\tcorr_obj = Correlations(model_name+'_'+identifier)\n",
    "\tcorr_obj.set_normalizers_using_bootsrap(\n",
    "\t\tmVocs=mVocs,\n",
    "\t\tnorm_bin_width=20,\n",
    "\t\t)\n"
   ]
  },
  {
   "cell_type": "code",
   "execution_count": 24,
   "metadata": {},
   "outputs": [
    {
     "name": "stdout",
     "output_type": "stream",
     "text": [
      "Combining results...\n",
      "Output saved at: \n",
      " /depot/jgmakin/data/auditory_cortex/results/cross_validated_correlations/deepspeech2_timit_trf_lags300_LPF_20_corr_results.csv\n",
      "reading from /depot/jgmakin/data/auditory_cortex/results/cross_validated_correlations/deepspeech2_timit_trf_lags300_LPF_20_corr_results.csv\n",
      "Writing back...!\n"
     ]
    }
   ],
   "source": [
    "model_names = [\n",
    "\t'deepspeech2',\n",
    "\t# 'whisper_tiny',\n",
    "\t# 'whisper_base',\n",
    "\t# 'wav2vec2',\n",
    "\t# 'wav2letter_modified',\n",
    "\t# 'speech2text',\n",
    "]\n",
    "ids = [\n",
    "\t# 'timit_trf_lags300_LPF_20',\n",
    "\t'timit_trf_lags300_bw20_LPF_20_80GB'\n",
    "]\n",
    "\n",
    "output_identifier = 'timit_trf_lags300_LPF_20'\n",
    "for model_name in model_names:\n",
    "\tCorrelations.combine_and_ready(\n",
    "\t\tmodel_name,\n",
    "\t\tids, 0, \n",
    "\t\toutput_identifier=output_identifier\n",
    "\t\t)"
   ]
  },
  {
   "cell_type": "code",
   "execution_count": null,
   "metadata": {},
   "outputs": [],
   "source": [
    "model_names = ['whisper_base']\n",
    "output_identifier = 'timit_trf_lags300_LPF_20'\n",
    "bin_widths = [20, 40, 50, 60, 80, 100]\n",
    "identifier = f'timit_trf_lags300_bw{bw}_LPF_20_bw_{bw}'\n",
    "ids = [f'timit_trf_lags300_bw{bw}_LPF_20_bw_{bw}' for bw in bin_widths]\n",
    "Correlations.combine_and_ready(\n",
    "\tmodel_name,\n",
    "\tids, 0, \n",
    "\toutput_identifier=output_identifier\n",
    "\t)"
   ]
  },
  {
   "cell_type": "markdown",
   "metadata": {},
   "source": [
    "#### wavelet baseline..."
   ]
  },
  {
   "cell_type": "code",
   "execution_count": 12,
   "metadata": {},
   "outputs": [
    {
     "name": "stdout",
     "output_type": "stream",
     "text": [
      "Using default normalizer file...\n",
      "Columns: 'mVocs_normalizer', 'mVocs_test_cc_raw', 'mVocs_normalized_test_cc' updated using normalizer (random pairs) dist, writing back now...\n",
      "Saved at /depot/jgmakin/data/auditory_cortex/results/cross_validated_correlations/STRF_freqs80_mVocs_trf_lags300_test_13_corr_results.csv\n"
     ]
    },
    {
     "data": {
      "text/plain": [
       "0.2659557981341901"
      ]
     },
     "execution_count": 12,
     "metadata": {},
     "output_type": "execute_result"
    }
   ],
   "source": [
    "model_name = 'STRF_freqs80'\n",
    "# z-score normalization within Linear model\n",
    "identifier = 'mVocs_trf_lags300_test_13'\n",
    " \n",
    "corr_obj = Correlations(model_name+'_'+identifier)\n",
    "corr_obj.set_normalizers_using_bootsrap(mVocs=True)\n",
    "\n",
    "data = corr_obj.data[ \n",
    "\t(corr_obj.data['session'] == 200206) &\\\n",
    "\t(corr_obj.data['mVocs_normalizer'] > 0.089)\n",
    "]\n",
    "np.median(data['mVocs_normalized_test_cc'])"
   ]
  },
  {
   "cell_type": "code",
   "execution_count": 2,
   "metadata": {},
   "outputs": [
    {
     "data": {
      "text/plain": [
       "array([180731., 180814., 191113.])"
      ]
     },
     "execution_count": 2,
     "metadata": {},
     "output_type": "execute_result"
    }
   ],
   "source": [
    "\n",
    "model_name = 'whisper_base'\n",
    "# z-score normalization within Linear model\n",
    "identifier = 'timit_trf_lags300_bw50_to_be_removed'\n",
    " \n",
    "corr_obj = Correlations(model_name+'_'+identifier)\n",
    "corr_obj.data['session'].unique()"
   ]
  },
  {
   "cell_type": "code",
   "execution_count": 11,
   "metadata": {},
   "outputs": [
    {
     "name": "stdout",
     "output_type": "stream",
     "text": [
      "Using default normalizer file...\n"
     ]
    },
    {
     "data": {
      "text/plain": [
       "0.5189788925364995"
      ]
     },
     "execution_count": 11,
     "metadata": {},
     "output_type": "execute_result"
    }
   ],
   "source": [
    "model_name = 'STRF_freqs80'\n",
    "# z-score normalization within Linear model\n",
    "identifier = 'mVocs_trf_lags300_test_12'\n",
    " \n",
    "corr_obj = Correlations(model_name+'_'+identifier)\n",
    "# corr_obj.set_normalizers_using_bootsrap(mVocs=True)\n",
    "\n",
    "data = corr_obj.data[ \n",
    "\t# (corr_obj.data['session'] == 200206) &\\\n",
    "\t(corr_obj.data['mVocs_normalizer'] > 0.089)\n",
    "]\n",
    "np.median(data['mVocs_normalized_test_cc'])"
   ]
  },
  {
   "cell_type": "code",
   "execution_count": 7,
   "metadata": {},
   "outputs": [
    {
     "data": {
      "text/plain": [
       "(array([594., 382., 381.,  96.,   0.,   0.,   0.,   0.,   0., 141.]),\n",
       " array([-1. ,  0.1,  1.2,  2.3,  3.4,  4.5,  5.6,  6.7,  7.8,  8.9, 10. ]),\n",
       " <BarContainer object of 10 artists>)"
      ]
     },
     "execution_count": 7,
     "metadata": {},
     "output_type": "execute_result"
    },
    {
     "data": {
      "image/png": "[encoded data removed]",
      "text/plain": [
       "<Figure size 432x288 with 1 Axes>"
      ]
     },
     "metadata": {
      "needs_background": "light"
     },
     "output_type": "display_data"
    }
   ],
   "source": [
    "plt.hist(corr_obj.data['lmbda'])"
   ]
  },
  {
   "cell_type": "code",
   "execution_count": 4,
   "metadata": {},
   "outputs": [
    {
     "name": "stdout",
     "output_type": "stream",
     "text": [
      "Using default normalizer file...\n",
      "Columns: 'mVocs_normalizer', 'mVocs_test_cc_raw', 'mVocs_normalized_test_cc' updated using normalizer (random pairs) dist, writing back now...\n",
      "Saved at /depot/jgmakin/data/auditory_cortex/results/cross_validated_correlations/whisper_tiny_mVocs_trf_lags300_test_11_corr_results.csv\n"
     ]
    },
    {
     "data": {
      "text/plain": [
       "0.6891143485350182"
      ]
     },
     "execution_count": 4,
     "metadata": {},
     "output_type": "execute_result"
    }
   ],
   "source": [
    "\n",
    "model_name = 'whisper_tiny'\n",
    "# z-score normalization\n",
    "identifier = 'mVocs_trf_lags300_test_11'\n",
    " \n",
    "corr_obj = Correlations(model_name+'_'+identifier)\n",
    "corr_obj.set_normalizers_using_bootsrap(mVocs=True)\n",
    "\n",
    "data = corr_obj.data[ \n",
    "\t# (corr_obj.data['session'] == 200206) &\\\n",
    "\t(corr_obj.data['mVocs_normalizer'] > 0.089)\n",
    "]\n",
    "np.median(data['mVocs_normalized_test_cc'])"
   ]
  },
  {
   "cell_type": "code",
   "execution_count": 17,
   "metadata": {},
   "outputs": [
    {
     "name": "stdout",
     "output_type": "stream",
     "text": [
      "Using default normalizer file...\n",
      "Columns: 'mVocs_normalizer', 'mVocs_test_cc_raw', 'mVocs_normalized_test_cc' updated using normalizer (random pairs) dist, writing back now...\n",
      "Saved at /depot/jgmakin/data/auditory_cortex/results/cross_validated_correlations/STRF_freqs80_mVocs_trf_lags300_test_10_corr_results.csv\n"
     ]
    },
    {
     "data": {
      "text/plain": [
       "0.4965518653059973"
      ]
     },
     "execution_count": 17,
     "metadata": {},
     "output_type": "execute_result"
    }
   ],
   "source": [
    "model_name = 'STRF_freqs80'\n",
    "# z-score normalization on both X and y\n",
    "identifier = 'mVocs_trf_lags300_test_10'\n",
    " \n",
    "\n",
    "corr_obj = Correlations(model_name+'_'+identifier)\n",
    "corr_obj.set_normalizers_using_bootsrap(mVocs=True)\n",
    "\n",
    "data = corr_obj.data[ \n",
    "\t(corr_obj.data['session'] == 200206) &\\\n",
    "\t(corr_obj.data['mVocs_normalizer'] > 0.089)\n",
    "]\n",
    "np.median(data['mVocs_normalized_test_cc'])"
   ]
  },
  {
   "cell_type": "code",
   "execution_count": 19,
   "metadata": {},
   "outputs": [
    {
     "data": {
      "text/plain": [
       "(array([ 0.,  0.,  0.,  0.,  0., 64.,  0.,  0.,  0.,  0.]),\n",
       " array([-1.5, -1.4, -1.3, -1.2, -1.1, -1. , -0.9, -0.8, -0.7, -0.6, -0.5]),\n",
       " <BarContainer object of 10 artists>)"
      ]
     },
     "execution_count": 19,
     "metadata": {},
     "output_type": "execute_result"
    },
    {
     "data": {
      "image/png": "[encoded data removed]",
      "text/plain": [
       "<Figure size 432x288 with 1 Axes>"
      ]
     },
     "metadata": {
      "needs_background": "light"
     },
     "output_type": "display_data"
    }
   ],
   "source": [
    "plt.hist(corr_obj.data['lmbda'])"
   ]
  },
  {
   "cell_type": "code",
   "execution_count": 16,
   "metadata": {},
   "outputs": [
    {
     "name": "stdout",
     "output_type": "stream",
     "text": [
      "Using default normalizer file...\n",
      "Columns: 'mVocs_normalizer', 'mVocs_test_cc_raw', 'mVocs_normalized_test_cc' updated using normalizer (random pairs) dist, writing back now...\n",
      "Saved at /depot/jgmakin/data/auditory_cortex/results/cross_validated_correlations/STRF_freqs80_mVocs_trf_lags300_test_9_corr_results.csv\n"
     ]
    },
    {
     "data": {
      "text/plain": [
       "0.3162590463557976"
      ]
     },
     "execution_count": 16,
     "metadata": {},
     "output_type": "execute_result"
    }
   ],
   "source": [
    "model_name = 'STRF_freqs80'\n",
    "# L2 normalization\n",
    "identifier = 'mVocs_trf_lags300_test_9'\n",
    " \n",
    "\n",
    "corr_obj = Correlations(model_name+'_'+identifier)\n",
    "corr_obj.set_normalizers_using_bootsrap(mVocs=True)\n",
    "\n",
    "data = corr_obj.data[ \n",
    "\t(corr_obj.data['session'] == 200206) &\\\n",
    "\t(corr_obj.data['mVocs_normalizer'] > 0.089)\n",
    "]\n",
    "np.median(data['mVocs_normalized_test_cc'])"
   ]
  },
  {
   "cell_type": "code",
   "execution_count": 15,
   "metadata": {},
   "outputs": [
    {
     "name": "stdout",
     "output_type": "stream",
     "text": [
      "Using default normalizer file...\n",
      "Columns: 'mVocs_normalizer', 'mVocs_test_cc_raw', 'mVocs_normalized_test_cc' updated using normalizer (random pairs) dist, writing back now...\n",
      "Saved at /depot/jgmakin/data/auditory_cortex/results/cross_validated_correlations/STRF_freqs80_mVocs_trf_lags300_test_8_corr_results.csv\n"
     ]
    },
    {
     "data": {
      "text/plain": [
       "0.5171683844517782"
      ]
     },
     "execution_count": 15,
     "metadata": {},
     "output_type": "execute_result"
    }
   ],
   "source": [
    "model_name = 'STRF_freqs80'\n",
    "# min-max normalization\n",
    "identifier = 'mVocs_trf_lags300_test_8'\n",
    " \n",
    "\n",
    "corr_obj = Correlations(model_name+'_'+identifier)\n",
    "corr_obj.set_normalizers_using_bootsrap(mVocs=True)\n",
    "\n",
    "data = corr_obj.data[ \n",
    "\t(corr_obj.data['session'] == 200206) &\\\n",
    "\t(corr_obj.data['mVocs_normalizer'] > 0.089)\n",
    "]\n",
    "np.median(data['mVocs_normalized_test_cc'])"
   ]
  },
  {
   "cell_type": "code",
   "execution_count": 14,
   "metadata": {},
   "outputs": [
    {
     "name": "stdout",
     "output_type": "stream",
     "text": [
      "Using default normalizer file...\n",
      "Columns: 'mVocs_normalizer', 'mVocs_test_cc_raw', 'mVocs_normalized_test_cc' updated using normalizer (random pairs) dist, writing back now...\n",
      "Saved at /depot/jgmakin/data/auditory_cortex/results/cross_validated_correlations/STRF_freqs80_mVocs_trf_lags300_test_7_corr_results.csv\n"
     ]
    },
    {
     "data": {
      "text/plain": [
       "0.49264146453535906"
      ]
     },
     "execution_count": 14,
     "metadata": {},
     "output_type": "execute_result"
    }
   ],
   "source": [
    "model_name = 'STRF_freqs80'\n",
    "# z-score normalization\n",
    "identifier = 'mVocs_trf_lags300_test_7'\n",
    "\n",
    "corr_obj = Correlations(model_name+'_'+identifier)\n",
    "corr_obj.set_normalizers_using_bootsrap(mVocs=True)\n",
    "\n",
    "data = corr_obj.data[ \n",
    "\t# (corr_obj.data['session'] == 200206) &\\\n",
    "\t(corr_obj.data['mVocs_normalizer'] > 0.089)\n",
    "]\n",
    "np.median(data['mVocs_normalized_test_cc'])"
   ]
  },
  {
   "cell_type": "code",
   "execution_count": 13,
   "metadata": {},
   "outputs": [
    {
     "name": "stdout",
     "output_type": "stream",
     "text": [
      "Using default normalizer file...\n",
      "Columns: 'mVocs_normalizer', 'mVocs_test_cc_raw', 'mVocs_normalized_test_cc' updated using normalizer (random pairs) dist, writing back now...\n",
      "Saved at /depot/jgmakin/data/auditory_cortex/results/cross_validated_correlations/STRF_freqs80_mVocs_trf_lags300_test_7_corr_results.csv\n"
     ]
    },
    {
     "data": {
      "text/plain": [
       "0.5295891139064633"
      ]
     },
     "execution_count": 13,
     "metadata": {},
     "output_type": "execute_result"
    }
   ],
   "source": [
    "model_name = 'STRF_freqs80'\n",
    "# z-score normalization\n",
    "identifier = 'mVocs_trf_lags300_test_7'\n",
    "\n",
    "corr_obj = Correlations(model_name+'_'+identifier)\n",
    "corr_obj.set_normalizers_using_bootsrap(mVocs=True)\n",
    "\n",
    "data = corr_obj.data[(corr_obj.data['mVocs_normalizer'] > 0.089) &\\\n",
    "\t(corr_obj.data['session'] == 200206)\n",
    "]\n",
    "np.median(data['mVocs_normalized_test_cc'])"
   ]
  },
  {
   "cell_type": "code",
   "execution_count": 12,
   "metadata": {},
   "outputs": [
    {
     "name": "stdout",
     "output_type": "stream",
     "text": [
      "Using default normalizer file...\n",
      "Columns: 'mVocs_normalizer', 'mVocs_test_cc_raw', 'mVocs_normalized_test_cc' updated using normalizer (random pairs) dist, writing back now...\n",
      "Saved at /depot/jgmakin/data/auditory_cortex/results/cross_validated_correlations/STRF_freqs80_mVocs_trf_lags300_test_6_corr_results.csv\n"
     ]
    },
    {
     "data": {
      "text/plain": [
       "0.14853072607440246"
      ]
     },
     "execution_count": 12,
     "metadata": {},
     "output_type": "execute_result"
    }
   ],
   "source": [
    "model_name = 'STRF_freqs80'\n",
    "identifier = 'mVocs_trf_lags300_test_6'\n",
    "\n",
    "corr_obj = Correlations(model_name+'_'+identifier)\n",
    "corr_obj.set_normalizers_using_bootsrap(mVocs=True)\n",
    "\n",
    "data = corr_obj.data[(corr_obj.data['mVocs_normalizer'] > 0.089) &\\\n",
    "\t(corr_obj.data['session'] == 200206)\n",
    "]\n",
    "np.median(data['mVocs_normalized_test_cc'])"
   ]
  },
  {
   "cell_type": "code",
   "execution_count": 11,
   "metadata": {},
   "outputs": [
    {
     "name": "stdout",
     "output_type": "stream",
     "text": [
      "Using default normalizer file...\n",
      "Columns: 'mVocs_normalizer', 'mVocs_test_cc_raw', 'mVocs_normalized_test_cc' updated using normalizer (random pairs) dist, writing back now...\n",
      "Saved at /depot/jgmakin/data/auditory_cortex/results/cross_validated_correlations/STRF_freqs80_mVocs_trf_lags300_test_5_corr_results.csv\n"
     ]
    },
    {
     "data": {
      "text/plain": [
       "0.44673163287247875"
      ]
     },
     "execution_count": 11,
     "metadata": {},
     "output_type": "execute_result"
    }
   ],
   "source": [
    "model_name = 'STRF_freqs80'\n",
    "identifier = 'mVocs_trf_lags300_test_5'\n",
    "\n",
    "corr_obj = Correlations(model_name+'_'+identifier)\n",
    "corr_obj.set_normalizers_using_bootsrap(mVocs=True)\n",
    "\n",
    "data = corr_obj.data[(corr_obj.data['mVocs_normalizer'] > 0.089) &\\\n",
    "\t(corr_obj.data['session'] == 200206)\n",
    "]\n",
    "np.median(data['mVocs_normalized_test_cc'])"
   ]
  },
  {
   "cell_type": "code",
   "execution_count": 9,
   "metadata": {},
   "outputs": [
    {
     "name": "stdout",
     "output_type": "stream",
     "text": [
      "Using default normalizer file...\n",
      "Columns: 'mVocs_normalizer', 'mVocs_test_cc_raw', 'mVocs_normalized_test_cc' updated using normalizer (random pairs) dist, writing back now...\n",
      "Saved at /depot/jgmakin/data/auditory_cortex/results/cross_validated_correlations/STRF_freqs80_mVocs_trf_lags300_test_4_corr_results.csv\n"
     ]
    },
    {
     "data": {
      "text/plain": [
       "0.28479229019205404"
      ]
     },
     "execution_count": 9,
     "metadata": {},
     "output_type": "execute_result"
    }
   ],
   "source": [
    "model_name = 'STRF_freqs80'\n",
    "identifier = 'mVocs_trf_lags300_test_4'\n",
    "\n",
    "corr_obj = Correlations(model_name+'_'+identifier)\n",
    "corr_obj.set_normalizers_using_bootsrap(mVocs=True)\n",
    "\n",
    "data = corr_obj.data[(corr_obj.data['mVocs_normalizer'] > 0.089) &\\\n",
    "\t(corr_obj.data['session'] == 200206)\n",
    "]\n",
    "np.median(data['mVocs_normalized_test_cc'])"
   ]
  },
  {
   "cell_type": "code",
   "execution_count": 8,
   "metadata": {},
   "outputs": [
    {
     "name": "stdout",
     "output_type": "stream",
     "text": [
      "Using default normalizer file...\n",
      "Columns: 'mVocs_normalizer', 'mVocs_test_cc_raw', 'mVocs_normalized_test_cc' updated using normalizer (random pairs) dist, writing back now...\n",
      "Saved at /depot/jgmakin/data/auditory_cortex/results/cross_validated_correlations/STRF_freqs80_mVocs_trf_lags300_test_3_corr_results.csv\n"
     ]
    },
    {
     "data": {
      "text/plain": [
       "0.12411896531608203"
      ]
     },
     "execution_count": 8,
     "metadata": {},
     "output_type": "execute_result"
    }
   ],
   "source": [
    "model_name = 'STRF_freqs80'\n",
    "identifier = 'mVocs_trf_lags300_test_3'\n",
    "\n",
    "corr_obj = Correlations(model_name+'_'+identifier)\n",
    "corr_obj.set_normalizers_using_bootsrap(mVocs=True)\n",
    "\n",
    "data = corr_obj.data[(corr_obj.data['mVocs_normalizer'] > 0.089) &\\\n",
    "\t(corr_obj.data['session'] == 200206)\n",
    "]\n",
    "np.median(data['mVocs_normalized_test_cc'])"
   ]
  },
  {
   "cell_type": "code",
   "execution_count": 3,
   "metadata": {},
   "outputs": [
    {
     "name": "stdout",
     "output_type": "stream",
     "text": [
      "Using default normalizer file...\n",
      "Columns: 'mVocs_normalizer', 'mVocs_test_cc_raw', 'mVocs_normalized_test_cc' updated using normalizer (random pairs) dist, writing back now...\n",
      "Saved at /depot/jgmakin/data/auditory_cortex/results/cross_validated_correlations/spect2vec_mVocs_trf_lags300_l0_test_2_corr_results.csv\n"
     ]
    },
    {
     "data": {
      "text/plain": [
       "0.29700231535717336"
      ]
     },
     "execution_count": 3,
     "metadata": {},
     "output_type": "execute_result"
    }
   ],
   "source": [
    "model_name = 'spect2vec'\n",
    "identifier = 'mVocs_trf_lags300_l0_test_2'\n",
    "\n",
    "corr_obj = Correlations(model_name+'_'+identifier)\n",
    "corr_obj.set_normalizers_using_bootsrap(mVocs=True)\n",
    "\n",
    "data = corr_obj.data[corr_obj.data['mVocs_normalizer'] > 0.089]\n",
    "np.median(data['mVocs_normalized_test_cc'])"
   ]
  },
  {
   "cell_type": "code",
   "execution_count": 5,
   "metadata": {},
   "outputs": [
    {
     "data": {
      "text/plain": [
       "(39,)"
      ]
     },
     "execution_count": 5,
     "metadata": {},
     "output_type": "execute_result"
    }
   ],
   "source": [
    "corr_obj.data['session'].unique().shape"
   ]
  },
  {
   "cell_type": "code",
   "execution_count": 10,
   "metadata": {},
   "outputs": [
    {
     "name": "stdout",
     "output_type": "stream",
     "text": [
      "Using default normalizer file...\n"
     ]
    },
    {
     "data": {
      "text/plain": [
       "0.429970323851477"
      ]
     },
     "execution_count": 10,
     "metadata": {},
     "output_type": "execute_result"
    }
   ],
   "source": [
    "model_name = 'spect2vec'\n",
    "identifier = 'mVocs_trf_lags300_l0_test_1'\n",
    "\n",
    "corr_obj = Correlations(model_name+'_'+identifier)\n",
    "# corr_obj.set_normalizers_using_bootsrap(mVocs=True)\n",
    "\n",
    "data = corr_obj.data[(corr_obj.data['mVocs_normalizer'] > 0.089) &\\\n",
    "\t(corr_obj.data['session'] == 200206)\n",
    "]\n",
    "np.median(data['mVocs_normalized_test_cc'])"
   ]
  },
  {
   "cell_type": "code",
   "execution_count": 2,
   "metadata": {},
   "outputs": [
    {
     "name": "stdout",
     "output_type": "stream",
     "text": [
      "Using default normalizer file...\n",
      "Columns: 'mVocs_normalizer', 'mVocs_test_cc_raw', 'mVocs_normalized_test_cc' updated using normalizer (random pairs) dist, writing back now...\n",
      "Saved at /depot/jgmakin/data/auditory_cortex/results/cross_validated_correlations/spect2vec_mVocs_trf_lags300_l0_test_0_corr_results.csv\n"
     ]
    },
    {
     "data": {
      "text/plain": [
       "0.328638693845316"
      ]
     },
     "execution_count": 2,
     "metadata": {},
     "output_type": "execute_result"
    }
   ],
   "source": [
    "\n",
    "model_name = 'spect2vec'\n",
    "identifier = 'mVocs_trf_lags300_l0_test_0'\n",
    "\n",
    "corr_obj = Correlations(model_name+'_'+identifier)\n",
    "# corr_obj.set_normalizers_using_bootsrap(mVocs=True)\n",
    "\n",
    "data = corr_obj.data[corr_obj.data['mVocs_normalizer'] > 0.089]\n",
    "np.median(data['mVocs_normalized_test_cc'])"
   ]
  },
  {
   "cell_type": "code",
   "execution_count": 4,
   "metadata": {},
   "outputs": [
    {
     "data": {
      "text/plain": [
       "(array([405.,   0.,   0.,   0.,   0., 863.,   0.,   0.,   0., 326.]),\n",
       " array([-2. , -1.8, -1.6, -1.4, -1.2, -1. , -0.8, -0.6, -0.4, -0.2,  0. ]),\n",
       " <BarContainer object of 10 artists>)"
      ]
     },
     "execution_count": 4,
     "metadata": {},
     "output_type": "execute_result"
    },
    {
     "data": {
      "image/png": "[encoded data removed]",
      "text/plain": [
       "<Figure size 432x288 with 1 Axes>"
      ]
     },
     "metadata": {
      "needs_background": "light"
     },
     "output_type": "display_data"
    }
   ],
   "source": [
    "plt.hist(corr_obj.data['opt_lmbda'])\n",
    "# plt.xlim([-2,12])"
   ]
  },
  {
   "cell_type": "code",
   "execution_count": 2,
   "metadata": {},
   "outputs": [
    {
     "name": "stdout",
     "output_type": "stream",
     "text": [
      "Using default normalizer file...\n",
      "Columns: 'mVocs_normalizer', 'mVocs_test_cc_raw', 'mVocs_normalized_test_cc' updated using normalizer (random pairs) dist, writing back now...\n",
      "Saved at /depot/jgmakin/data/auditory_cortex/results/cross_validated_correlations/whisper_tiny_mVocs_trf_lags300_gpu_l2_test_1_corr_results.csv\n"
     ]
    }
   ],
   "source": [
    "model_name = 'whisper_tiny'\n",
    "identifier = 'mVocs_trf_lags300_gpu_l2_test_1'\n",
    "# identifier = 'mVocs_trf_lags300_l2'\n",
    "# identifier = 'mVocs_trf_lags300_l3'\n",
    "corr_obj = Correlations(model_name+'_'+identifier)\n",
    "corr_obj.set_normalizers_using_bootsrap(mVocs=True)\n",
    "\n"
   ]
  },
  {
   "cell_type": "code",
   "execution_count": 3,
   "metadata": {},
   "outputs": [
    {
     "data": {
      "text/plain": [
       "0.6766672377595775"
      ]
     },
     "execution_count": 3,
     "metadata": {},
     "output_type": "execute_result"
    }
   ],
   "source": [
    "data = corr_obj.data[corr_obj.data['mVocs_normalizer'] > 0.089]\n",
    "np.median(data['mVocs_normalized_test_cc'])"
   ]
  },
  {
   "cell_type": "code",
   "execution_count": 6,
   "metadata": {},
   "outputs": [
    {
     "data": {
      "text/plain": [
       "(-2.0, 12.0)"
      ]
     },
     "execution_count": 6,
     "metadata": {},
     "output_type": "execute_result"
    },
    {
     "data": {
      "image/png": "[encoded data removed]",
      "text/plain": [
       "<Figure size 432x288 with 1 Axes>"
      ]
     },
     "metadata": {
      "needs_background": "light"
     },
     "output_type": "display_data"
    }
   ],
   "source": [
    "plt.hist(corr_obj.data['opt_lmbda'])\n",
    "plt.xlim([-2,12])"
   ]
  },
  {
   "cell_type": "markdown",
   "metadata": {},
   "source": [
    "#### combining results across layers..."
   ]
  },
  {
   "cell_type": "code",
   "execution_count": 8,
   "metadata": {},
   "outputs": [],
   "source": [
    "num_layers = {\n",
    "\t'wav2letter_modified': 14,\n",
    "\t'deepspeech2': 7,\n",
    "\t'speech2text': 14,\n",
    "\t'whisper_tiny': 6,\n",
    "\t'whisper_base': 8,\n",
    "\t'wav2vec2': 21,\n",
    "\t'w2v2_audioset': 21,\n",
    "\t'w2v2_generic': 21,\n",
    "\t'w2v2_generic': 21,\n",
    "\t'wav2letter_spect': 12,\n",
    "}\n",
    "\n",
    "\n",
    "def display_sessions_done(model_name, identifier, verbose=False, num_sessions=41):\n",
    "\t\"\"\"Display the number of sessions done for all bin widths\n",
    "\t\"\"\"\n",
    "\tif verbose:\n",
    "\t\tprint(f\"For '{model_name}', '{identifier}'\")\n",
    "\ttry:\n",
    "\t\tcorr_obj = Correlations(model_name+'_'+identifier)\n",
    "\texcept:\n",
    "\t\tprint(f\"Model '{model_name}' with identifier '{identifier}' not found\")\n",
    "\t\treturn [model_name+'_'+identifier]\n",
    "\tbin_widths = np.sort(corr_obj.data['bin_width'].unique())\n",
    "\treturn_list = []\n",
    "\tfor bin_width in bin_widths:\n",
    "\t\tdata = corr_obj.get_selected_data(bin_width=bin_width)\n",
    "\t\tif verbose:\n",
    "\t\t\tprint(f\"For bin_width: {bin_width:03} ms, sessions done: {len(data['session'].unique())}\")\n",
    "\t\tif len(data['session'].unique()) != num_sessions:\n",
    "\t\t\treturn_list.append(model_name+'_'+identifier+f'{bin_width}')\n",
    "\t\telse:\n",
    "\t\t\treturn_list.append(None)\n",
    "\treturn return_list\n",
    "\n",
    "def check_saved_results(identifier, model_names=None, verbose=False, num_sessions=41):\n",
    "\n",
    "\tmodels_not_done = []\n",
    "\tif model_names is None:\n",
    "\t\tmodel_names = num_layers.keys()\n",
    "\tfor model_name in model_names:\n",
    "\t\t# not_done = display_sessions_done(\n",
    "\t\t# \tmodel_name, identifier, verbose=verbose, num_sessions=num_sessions)\n",
    "\t\t# models_not_done.extend(not_done)\n",
    "\t\tfor i in range(0, num_layers[model_name]):\n",
    "\t\t\tnot_done = display_sessions_done(\n",
    "\t\t\t\tmodel_name, identifier+f'_{i}', verbose=verbose, num_sessions=num_sessions)\n",
    "\t\t\tmodels_not_done.extend(not_done)\n",
    "\n",
    "\t# remove None entries..\n",
    "\twhile None in models_not_done:\n",
    "\t\tmodels_not_done.remove(None)\n",
    "\t\n",
    "\tif len(models_not_done) ==0:\n",
    "\t\tprint(f\"All models done..for {identifier}\")\n",
    "\telse:\n",
    "\t\tprint(f\"Models with incomplete resutls:\")\n",
    "\t\tfor iden in models_not_done:\n",
    "\t\t\tprint(iden)\n",
    "\t\n",
    "\n",
    "def combine_results_for_all_models(identifier, model_names=None):\n",
    "\t\"\"\"Combines results for the list of models provided\"\"\"\n",
    "\tnormalizer_filename = 'modified_bins_normalizer.csv'\n",
    "\tif model_names is None:\n",
    "\t\tmodel_names = num_layers.keys()\n",
    "\tfor model_name in model_names:\n",
    "\t\tids = [f'{identifier}_{i}' for i in range(0, num_layers[model_name])]\n",
    "\t\tCorrelations.combine_and_ready(\n",
    "\t\t\tmodel_name,\n",
    "\t\t\tids, 0, normalizer_filename=normalizer_filename,\n",
    "\t\t\toutput_identifier=identifier\n",
    "\t\t\t)\n",
    "\t\t\n"
   ]
  },
  {
   "cell_type": "code",
   "execution_count": 6,
   "metadata": {},
   "outputs": [
    {
     "name": "stdout",
     "output_type": "stream",
     "text": [
      "For 'whisper_tiny', 'ucsf_timit_trf_lags300_bw50_reimplemented_0'\n",
      "For bin_width: 50.0 ms, sessions done: 41\n",
      "For 'whisper_tiny', 'ucsf_timit_trf_lags300_bw50_reimplemented_1'\n",
      "For bin_width: 50.0 ms, sessions done: 41\n",
      "For 'whisper_tiny', 'ucsf_timit_trf_lags300_bw50_reimplemented_2'\n",
      "For bin_width: 50.0 ms, sessions done: 41\n",
      "For 'whisper_tiny', 'ucsf_timit_trf_lags300_bw50_reimplemented_3'\n",
      "For bin_width: 50.0 ms, sessions done: 41\n",
      "For 'whisper_tiny', 'ucsf_timit_trf_lags300_bw50_reimplemented_4'\n",
      "For bin_width: 50.0 ms, sessions done: 41\n",
      "For 'whisper_tiny', 'ucsf_timit_trf_lags300_bw50_reimplemented_5'\n",
      "For bin_width: 50.0 ms, sessions done: 41\n",
      "All models done..for ucsf_timit_trf_lags300_bw50_reimplemented\n"
     ]
    }
   ],
   "source": [
    "model_names = [\n",
    "\t'whisper_tiny'\n",
    "]\n",
    "shuffled = False\n",
    "\n",
    "identifier = f'ucsf_timit_trf_lags300_bw50_reimplemented'\t\n",
    "\n",
    "if 'mVocs' in identifier:\n",
    "\tnum_sessions=39\n",
    "else:\n",
    "\tnum_sessions=41\n",
    "\n",
    "if shuffled:\n",
    "\tidentifier = 'reset_'+identifier\n",
    "check_saved_results(identifier, model_names=model_names, verbose=True, num_sessions=num_sessions)"
   ]
  },
  {
   "cell_type": "code",
   "execution_count": 9,
   "metadata": {},
   "outputs": [
    {
     "name": "stdout",
     "output_type": "stream",
     "text": [
      "Combining results...\n",
      "Output saved at: \n",
      " /depot/jgmakin/data/auditory_cortex/results/cross_validated_correlations/whisper_tiny_ucsf_timit_trf_lags300_bw50_reimplemented_corr_results.csv\n",
      "reading from /depot/jgmakin/data/auditory_cortex/results/cross_validated_correlations/whisper_tiny_ucsf_timit_trf_lags300_bw50_reimplemented_corr_results.csv\n",
      "Writing back...!\n"
     ]
    }
   ],
   "source": [
    "model_names = [\n",
    "\n",
    "\t'whisper_tiny',\n",
    "\t]\n",
    "shuffled = False\n",
    "\n",
    "identifier = f'ucsf_timit_trf_lags300_bw50_reimplemented'\t\n",
    "if shuffled:\n",
    "\tidentifier = 'reset_'+identifier\n",
    "combine_results_for_all_models(identifier, model_names=model_names)"
   ]
  },
  {
   "cell_type": "code",
   "execution_count": 10,
   "metadata": {},
   "outputs": [
    {
     "name": "stdout",
     "output_type": "stream",
     "text": [
      "Columns: 'normalizer', 'test_cc_raw', 'normalized_test_cc' updated using normalizer (random pairs) dist, writing back now...\n",
      "Saved at /depot/jgmakin/data/auditory_cortex/results/cross_validated_correlations/whisper_tiny_ucsf_timit_trf_lags300_bw50_reimplemented_corr_results.csv\n"
     ]
    }
   ],
   "source": [
    "model_names = [\n",
    "    'whisper_tiny',\n",
    "\n",
    "]\n",
    "shuffled = False\n",
    "\n",
    "identifier = f'ucsf_timit_trf_lags300_bw50_reimplemented'\t\n",
    "if 'mVocs' in identifier:\n",
    "\tmVocs = True\n",
    "else:\n",
    "\tmVocs = False\n",
    "if shuffled:\n",
    "\tidentifier = 'reset_'+identifier\n",
    "for model_name in model_names:\n",
    "\tcorr_obj = Correlations(model_name+'_'+identifier)\n",
    "\tcorr_obj.set_normalizers_using_bootsrap(mVocs=mVocs)"
   ]
  },
  {
   "cell_type": "markdown",
   "metadata": {},
   "source": [
    "##### wav2letter_spect"
   ]
  },
  {
   "cell_type": "code",
   "execution_count": 3,
   "metadata": {},
   "outputs": [
    {
     "name": "stdout",
     "output_type": "stream",
     "text": [
      "For 'wav2letter_spect', 'timit_trf_lags300_bw50_units1024_rf65_l0'\n",
      "For bin_width: 50.0 ms, sessions done: 41\n",
      "For 'wav2letter_spect', 'timit_trf_lags300_bw50_units1024_rf65_l1'\n",
      "For bin_width: 50.0 ms, sessions done: 41\n",
      "For 'wav2letter_spect', 'timit_trf_lags300_bw50_units1024_rf65_l2'\n",
      "For bin_width: 50.0 ms, sessions done: 41\n",
      "For 'wav2letter_spect', 'timit_trf_lags300_bw50_units1024_rf65_l3'\n",
      "For bin_width: 50.0 ms, sessions done: 41\n",
      "For 'wav2letter_spect', 'timit_trf_lags300_bw50_units1024_rf65_l4'\n",
      "For bin_width: 50.0 ms, sessions done: 41\n",
      "For 'wav2letter_spect', 'timit_trf_lags300_bw50_units1024_rf65_l5'\n",
      "For bin_width: 50.0 ms, sessions done: 41\n",
      "For 'wav2letter_spect', 'timit_trf_lags300_bw50_units1024_rf65_l6'\n",
      "For bin_width: 50.0 ms, sessions done: 41\n",
      "For 'wav2letter_spect', 'timit_trf_lags300_bw50_units1024_rf65_l7'\n",
      "For bin_width: 50.0 ms, sessions done: 41\n",
      "For 'wav2letter_spect', 'timit_trf_lags300_bw50_units1024_rf65_l8'\n",
      "For bin_width: 50.0 ms, sessions done: 41\n",
      "For 'wav2letter_spect', 'timit_trf_lags300_bw50_units1024_rf65_l9'\n",
      "For bin_width: 50.0 ms, sessions done: 41\n",
      "For 'wav2letter_spect', 'timit_trf_lags300_bw50_units1024_rf65_l10'\n",
      "For bin_width: 50.0 ms, sessions done: 41\n",
      "For 'wav2letter_spect', 'timit_trf_lags300_bw50_units1024_rf65_l11'\n",
      "For bin_width: 50.0 ms, sessions done: 41\n",
      "All models done..for timit_trf_lags300_bw50_units1024_rf65\n",
      "For 'wav2letter_spect', 'timit_trf_lags300_bw50_units1024_rf145_l0'\n",
      "For bin_width: 50.0 ms, sessions done: 41\n",
      "For 'wav2letter_spect', 'timit_trf_lags300_bw50_units1024_rf145_l1'\n",
      "For bin_width: 50.0 ms, sessions done: 41\n",
      "For 'wav2letter_spect', 'timit_trf_lags300_bw50_units1024_rf145_l2'\n",
      "For bin_width: 50.0 ms, sessions done: 41\n",
      "For 'wav2letter_spect', 'timit_trf_lags300_bw50_units1024_rf145_l3'\n",
      "For bin_width: 50.0 ms, sessions done: 41\n",
      "For 'wav2letter_spect', 'timit_trf_lags300_bw50_units1024_rf145_l4'\n",
      "For bin_width: 50.0 ms, sessions done: 41\n",
      "For 'wav2letter_spect', 'timit_trf_lags300_bw50_units1024_rf145_l5'\n",
      "For bin_width: 50.0 ms, sessions done: 41\n",
      "For 'wav2letter_spect', 'timit_trf_lags300_bw50_units1024_rf145_l6'\n",
      "For bin_width: 50.0 ms, sessions done: 41\n",
      "For 'wav2letter_spect', 'timit_trf_lags300_bw50_units1024_rf145_l7'\n",
      "For bin_width: 50.0 ms, sessions done: 41\n",
      "For 'wav2letter_spect', 'timit_trf_lags300_bw50_units1024_rf145_l8'\n",
      "For bin_width: 50.0 ms, sessions done: 41\n",
      "For 'wav2letter_spect', 'timit_trf_lags300_bw50_units1024_rf145_l9'\n",
      "For bin_width: 50.0 ms, sessions done: 41\n",
      "For 'wav2letter_spect', 'timit_trf_lags300_bw50_units1024_rf145_l10'\n",
      "For bin_width: 50.0 ms, sessions done: 41\n",
      "For 'wav2letter_spect', 'timit_trf_lags300_bw50_units1024_rf145_l11'\n",
      "For bin_width: 50.0 ms, sessions done: 41\n",
      "All models done..for timit_trf_lags300_bw50_units1024_rf145\n",
      "For 'wav2letter_spect', 'timit_trf_lags300_bw50_units1024_rf225_l0'\n",
      "For bin_width: 50.0 ms, sessions done: 41\n",
      "For 'wav2letter_spect', 'timit_trf_lags300_bw50_units1024_rf225_l1'\n",
      "For bin_width: 50.0 ms, sessions done: 41\n",
      "For 'wav2letter_spect', 'timit_trf_lags300_bw50_units1024_rf225_l2'\n",
      "For bin_width: 50.0 ms, sessions done: 41\n",
      "For 'wav2letter_spect', 'timit_trf_lags300_bw50_units1024_rf225_l3'\n",
      "For bin_width: 50.0 ms, sessions done: 41\n",
      "For 'wav2letter_spect', 'timit_trf_lags300_bw50_units1024_rf225_l4'\n",
      "For bin_width: 50.0 ms, sessions done: 41\n",
      "For 'wav2letter_spect', 'timit_trf_lags300_bw50_units1024_rf225_l5'\n",
      "For bin_width: 50.0 ms, sessions done: 41\n",
      "For 'wav2letter_spect', 'timit_trf_lags300_bw50_units1024_rf225_l6'\n",
      "For bin_width: 50.0 ms, sessions done: 41\n",
      "For 'wav2letter_spect', 'timit_trf_lags300_bw50_units1024_rf225_l7'\n",
      "For bin_width: 50.0 ms, sessions done: 41\n",
      "For 'wav2letter_spect', 'timit_trf_lags300_bw50_units1024_rf225_l8'\n",
      "For bin_width: 50.0 ms, sessions done: 41\n",
      "For 'wav2letter_spect', 'timit_trf_lags300_bw50_units1024_rf225_l9'\n",
      "For bin_width: 50.0 ms, sessions done: 41\n",
      "For 'wav2letter_spect', 'timit_trf_lags300_bw50_units1024_rf225_l10'\n",
      "For bin_width: 50.0 ms, sessions done: 41\n",
      "For 'wav2letter_spect', 'timit_trf_lags300_bw50_units1024_rf225_l11'\n",
      "For bin_width: 50.0 ms, sessions done: 41\n",
      "All models done..for timit_trf_lags300_bw50_units1024_rf225\n",
      "For 'wav2letter_spect', 'timit_trf_lags300_bw50_units1024_rf785_l0'\n",
      "For bin_width: 50.0 ms, sessions done: 41\n",
      "For 'wav2letter_spect', 'timit_trf_lags300_bw50_units1024_rf785_l1'\n",
      "For bin_width: 50.0 ms, sessions done: 41\n",
      "For 'wav2letter_spect', 'timit_trf_lags300_bw50_units1024_rf785_l2'\n",
      "For bin_width: 50.0 ms, sessions done: 41\n",
      "For 'wav2letter_spect', 'timit_trf_lags300_bw50_units1024_rf785_l3'\n",
      "For bin_width: 50.0 ms, sessions done: 41\n",
      "For 'wav2letter_spect', 'timit_trf_lags300_bw50_units1024_rf785_l4'\n",
      "For bin_width: 50.0 ms, sessions done: 41\n",
      "For 'wav2letter_spect', 'timit_trf_lags300_bw50_units1024_rf785_l5'\n",
      "For bin_width: 50.0 ms, sessions done: 41\n",
      "For 'wav2letter_spect', 'timit_trf_lags300_bw50_units1024_rf785_l6'\n",
      "For bin_width: 50.0 ms, sessions done: 41\n",
      "For 'wav2letter_spect', 'timit_trf_lags300_bw50_units1024_rf785_l7'\n",
      "For bin_width: 50.0 ms, sessions done: 41\n",
      "For 'wav2letter_spect', 'timit_trf_lags300_bw50_units1024_rf785_l8'\n",
      "For bin_width: 50.0 ms, sessions done: 41\n",
      "For 'wav2letter_spect', 'timit_trf_lags300_bw50_units1024_rf785_l9'\n",
      "For bin_width: 50.0 ms, sessions done: 41\n",
      "For 'wav2letter_spect', 'timit_trf_lags300_bw50_units1024_rf785_l10'\n",
      "For bin_width: 50.0 ms, sessions done: 41\n",
      "For 'wav2letter_spect', 'timit_trf_lags300_bw50_units1024_rf785_l11'\n",
      "For bin_width: 50.0 ms, sessions done: 41\n",
      "All models done..for timit_trf_lags300_bw50_units1024_rf785\n"
     ]
    }
   ],
   "source": [
    "model_names = [\n",
    "\t# 'deepspeech2',\n",
    "\t# 'speech2text',\n",
    "    # 'whisper_tiny',\n",
    "\t# 'whisper_base',\n",
    "\t# 'wav2vec2',\n",
    "\t# 'wav2letter_modified',\n",
    "\t# 'w2v2_generic',\n",
    "\t'wav2letter_spect',\n",
    "]\n",
    "shuffled = False\n",
    "# bw = 100\n",
    "# identifier = f'timit_trf_lags300_bw{bw}_LPF_20_bw_{bw}'\n",
    "# identifier = f'timit_trf_lags300_bw{bw}_LPF_20'\n",
    "\n",
    "num_units = 1024\n",
    "rf_list = [65, 145, 225, 785]\n",
    "# rf_list = [785]\n",
    "for rf in rf_list:\n",
    "\tidentifier = f'timit_trf_lags300_bw50_units{num_units}_rf{rf}'\n",
    "\n",
    "\n",
    "\tif 'mVocs' in identifier:\n",
    "\t\tnum_sessions=39\n",
    "\telse:\n",
    "\t\tnum_sessions=41\n",
    "\n",
    "\tif shuffled:\n",
    "\t\tidentifier = 'reset_'+identifier\n",
    "\tcheck_saved_results(identifier, model_names=model_names, verbose=True, num_sessions=num_sessions)"
   ]
  },
  {
   "cell_type": "code",
   "execution_count": 5,
   "metadata": {},
   "outputs": [
    {
     "name": "stdout",
     "output_type": "stream",
     "text": [
      "Combining results...\n",
      "Output saved at: \n",
      " /depot/jgmakin/data/auditory_cortex/results/cross_validated_correlations/wav2letter_spect_timit_trf_lags300_bw50_units1024_rf65_corr_results.csv\n",
      "reading from /depot/jgmakin/data/auditory_cortex/results/cross_validated_correlations/wav2letter_spect_timit_trf_lags300_bw50_units1024_rf65_corr_results.csv\n",
      "Writing back...!\n",
      "Combining results...\n",
      "Output saved at: \n",
      " /depot/jgmakin/data/auditory_cortex/results/cross_validated_correlations/wav2letter_spect_timit_trf_lags300_bw50_units1024_rf145_corr_results.csv\n",
      "reading from /depot/jgmakin/data/auditory_cortex/results/cross_validated_correlations/wav2letter_spect_timit_trf_lags300_bw50_units1024_rf145_corr_results.csv\n",
      "Writing back...!\n",
      "Combining results...\n",
      "Output saved at: \n",
      " /depot/jgmakin/data/auditory_cortex/results/cross_validated_correlations/wav2letter_spect_timit_trf_lags300_bw50_units1024_rf225_corr_results.csv\n",
      "reading from /depot/jgmakin/data/auditory_cortex/results/cross_validated_correlations/wav2letter_spect_timit_trf_lags300_bw50_units1024_rf225_corr_results.csv\n",
      "Writing back...!\n",
      "Combining results...\n",
      "Output saved at: \n",
      " /depot/jgmakin/data/auditory_cortex/results/cross_validated_correlations/wav2letter_spect_timit_trf_lags300_bw50_units1024_rf785_corr_results.csv\n",
      "reading from /depot/jgmakin/data/auditory_cortex/results/cross_validated_correlations/wav2letter_spect_timit_trf_lags300_bw50_units1024_rf785_corr_results.csv\n",
      "Writing back...!\n"
     ]
    }
   ],
   "source": [
    "model_names = [\n",
    "\t# 'deepspeech2',\n",
    "\t# 'speech2text',\n",
    "    # 'whisper_tiny',\n",
    "\t# 'whisper_base',\n",
    "\t# 'wav2vec2',\n",
    "\t# 'wav2letter_modified',\n",
    "\t# 'w2v2_generic',\n",
    "\t'wav2letter_spect',\n",
    "]\n",
    "shuffled = False\n",
    "# bw = 100\n",
    "# identifier = f'timit_trf_lags300_bw{bw}_LPF_20_bw_{bw}'\n",
    "# # identifier = 'timit_trf_lags300_bw50_naplib_matched'\n",
    "num_units = 1024\n",
    "rf_list = [65, 145, 225, 785]\n",
    "for rf in rf_list:\n",
    "\tidentifier = f'timit_trf_lags300_bw50_units{num_units}_rf{rf}'\n",
    "\t# identifier = f'mVocs_trf_lags300_bw50_units{num_units}_rf{rf}'\n",
    "\n",
    "\tif shuffled:\n",
    "\t\tidentifier = 'reset_'+identifier\n",
    "\tcombine_results_for_all_models(identifier, model_names=model_names)"
   ]
  },
  {
   "cell_type": "code",
   "execution_count": 6,
   "metadata": {},
   "outputs": [
    {
     "name": "stdout",
     "output_type": "stream",
     "text": [
      "Columns: 'normalizer', 'test_cc_raw', 'normalized_test_cc' updated using normalizer (random pairs) dist, writing back now...\n",
      "Saved at /depot/jgmakin/data/auditory_cortex/results/cross_validated_correlations/wav2letter_spect_timit_trf_lags300_bw50_units1024_rf65_corr_results.csv\n",
      "Columns: 'normalizer', 'test_cc_raw', 'normalized_test_cc' updated using normalizer (random pairs) dist, writing back now...\n",
      "Saved at /depot/jgmakin/data/auditory_cortex/results/cross_validated_correlations/wav2letter_spect_timit_trf_lags300_bw50_units1024_rf145_corr_results.csv\n",
      "Columns: 'normalizer', 'test_cc_raw', 'normalized_test_cc' updated using normalizer (random pairs) dist, writing back now...\n",
      "Saved at /depot/jgmakin/data/auditory_cortex/results/cross_validated_correlations/wav2letter_spect_timit_trf_lags300_bw50_units1024_rf225_corr_results.csv\n",
      "Columns: 'normalizer', 'test_cc_raw', 'normalized_test_cc' updated using normalizer (random pairs) dist, writing back now...\n",
      "Saved at /depot/jgmakin/data/auditory_cortex/results/cross_validated_correlations/wav2letter_spect_timit_trf_lags300_bw50_units1024_rf785_corr_results.csv\n"
     ]
    }
   ],
   "source": [
    "model_names = [\n",
    "\t# 'deepspeech2',\n",
    "\t# 'speech2text',\n",
    "    # 'whisper_tiny',\n",
    "\t# 'whisper_base',\n",
    "\t# 'wav2vec2',\n",
    "\t# 'wav2letter_modified',\n",
    "\t# 'w2v2_generic',\n",
    "\t'wav2letter_spect',\n",
    "]\n",
    "shuffled = False\n",
    "# bw = 100\n",
    "# identifier = f'timit_trf_lags300_bw{bw}_LPF_20_bw_{bw}'\n",
    "# # identifier = 'timit_trf_lags300_bw50_naplib_matched'\n",
    "# # identifier = 'mVocs_trf_lags300_bw50_naplib_matched'\n",
    "\n",
    "num_units = 1024\n",
    "rf_list = [65, 145, 225, 785]\n",
    "for rf in rf_list:\n",
    "\n",
    "\tidentifier = f'timit_trf_lags300_bw50_units{num_units}_rf{rf}'\n",
    "\t# identifier = f'mVocs_trf_lags300_bw50_units{num_units}_rf{rf}'\n",
    "\n",
    "\t# identifier = 'mVocs_trf_lags300_bw20_lmbda'\n",
    "\tif 'mVocs' in identifier:\n",
    "\t\tmVocs = True\n",
    "\telse:\n",
    "\t\tmVocs = False\n",
    "\tif shuffled:\n",
    "\t\tidentifier = 'reset_'+identifier\n",
    "\tfor model_name in model_names:\n",
    "\t\tcorr_obj = Correlations(model_name+'_'+identifier)\n",
    "\t\tcorr_obj.set_normalizers_using_bootsrap(mVocs=mVocs)"
   ]
  },
  {
   "cell_type": "code",
   "execution_count": 16,
   "metadata": {},
   "outputs": [
    {
     "name": "stdout",
     "output_type": "stream",
     "text": [
      "Combining results...\n",
      "Output saved at: \n",
      " /depot/jgmakin/data/auditory_cortex/results/cross_validated_correlations/wav2letter_spect_timit_trf_lags300_bw50_units512_rf145_corr_results.csv\n",
      "reading from /depot/jgmakin/data/auditory_cortex/results/cross_validated_correlations/wav2letter_spect_timit_trf_lags300_bw50_units512_rf145_corr_results.csv\n",
      "Writing back...!\n"
     ]
    }
   ],
   "source": [
    "# model_name = 'wav2letter_spect'\n",
    "# num_units = 512\n",
    "# rf = 145\n",
    "# ids = [f'timit_trf_lags300_bw50_uunits{num_units}_rf{rf}']\n",
    "# output_identifier = f'timit_trf_lags300_bw50_units{num_units}_rf{rf}'\n",
    "# Correlations.combine_and_ready(\n",
    "# \tmodel_name,\n",
    "# \tids, 0, normalizer_filename=None,\n",
    "# \toutput_identifier=output_identifier\n",
    "# \t)"
   ]
  },
  {
   "cell_type": "markdown",
   "metadata": {},
   "source": [
    "#### combining results across sessions..."
   ]
  },
  {
   "cell_type": "code",
   "execution_count": 2,
   "metadata": {},
   "outputs": [],
   "source": [
    "def display_sessions_done(model_name, identifier, verbose=False):\n",
    "\t\"\"\"Display the number of sessions done for all bin widths\n",
    "\t\"\"\"\n",
    "\tif verbose:\n",
    "\t\tprint(f\"For '{model_name}', '{identifier}'\")\n",
    "\ttry:\n",
    "\t\tcorr_obj = Correlations(model_name+'_'+identifier)\n",
    "\texcept:\n",
    "\t\tprint(f\"identifier '{identifier}'  not found\")\n",
    "\t\treturn 0\n",
    "\tbin_width = np.sort(corr_obj.data['bin_width'].unique())[0]\n",
    "\tdata = corr_obj.get_selected_data(bin_width=bin_width)\n",
    "\tif verbose:\n",
    "\t\tprint(f\"For bin_width: {bin_width:03} ms, sessions done: {len(data['session'].unique())}\")\n",
    "\treturn len(data['session'].unique())\n",
    "\t\n",
    "\n",
    "def check_saved_results(identifier, model_names, verbose=False, num_sessions=41):\n",
    "\n",
    "\tmodels_not_done = []\n",
    "\tnum_freqs = 80\n",
    "\tidentifiers = [\n",
    "\t\tidentifier,\n",
    "\t\tf'{identifier}_5_10',\n",
    "\t\tf'{identifier}_10_15',\n",
    "\t\tf'{identifier}_15_20',\n",
    "\t\tf'{identifier}_20_25',\n",
    "\t\tf'{identifier}_25_30',\n",
    "\t\tf'{identifier}_30_34',\n",
    "\t\tf'{identifier}_34_37',\n",
    "\t\tf'{identifier}_37'\n",
    "\t]\n",
    "\t\n",
    "\tfor model_name in model_names:\n",
    "\t\tsessions_done = 0\n",
    "\t\tfor iden in identifiers:\n",
    "\t\t\tsessions_done += display_sessions_done(\n",
    "\t\t\t\tmodel_name, iden, verbose=verbose)\n",
    "\t\tprint(f\"Total sessions done: {sessions_done}\")\n",
    "\t\tif sessions_done != num_sessions:\n",
    "\t\t\tmodels_not_done.append(model_name)\n",
    "\t\t\tprint(f\"Sessions done: {sessions_done}\")\n",
    "\t\t\n",
    "\n",
    "\t# remove None entries..\n",
    "\twhile None in models_not_done:\n",
    "\t\tmodels_not_done.remove(None)\n",
    "\t\n",
    "\tif len(models_not_done) ==0:\n",
    "\t\tprint(f\"All models done..for {identifier}\")\n",
    "\telse:\n",
    "\t\tprint(f\"Models with incomplete resutls:\")\n",
    "\t\tfor iden in models_not_done:\n",
    "\t\t\tprint(iden)\n",
    "\t\n",
    "\n",
    "def combine_results_for_all_models(identifier, model_names=None, verbose=True, num_sessions=39, force_combine=False):\n",
    "\t\"\"\"Combines results for the list of models provided\"\"\"\n",
    "\tnormalizer_filename = 'modified_bins_normalizer.csv'\n",
    "\tfor model_name in model_names:\n",
    "\t\tids = [\n",
    "\t\t\tidentifier,\n",
    "\t\t\tf'{identifier}_5_10',\n",
    "\t\t\tf'{identifier}_10_15',\n",
    "\t\t\tf'{identifier}_15_20',\n",
    "\t\t\tf'{identifier}_20_25',\n",
    "\t\t\tf'{identifier}_25_30',\n",
    "\t\t\tf'{identifier}_30_34',\n",
    "\t\t\tf'{identifier}_34_37',\n",
    "\t\t\tf'{identifier}_37'\n",
    "\t\t\t]\n",
    "\n",
    "\t\n",
    "\t\tsessions_done = 0\n",
    "\t\tvalid_ids = []\n",
    "\t\tfor identifier in ids:\n",
    "\t\t\tsess_contributed = display_sessions_done(\n",
    "\t\t\t\tmodel_name, identifier, verbose=verbose)\n",
    "\t\t\tif sess_contributed != 0:\n",
    "\t\t\t\tvalid_ids.append(identifier)\n",
    "\t\t\tsessions_done += sess_contributed\n",
    "\t\tprint(f\"Total sessions done: {sessions_done}\")\n",
    "\t\tif sessions_done == num_sessions or force_combine:\n",
    "\t\t\tCorrelations.combine_and_ready(\n",
    "\t\t\t\tmodel_name,\n",
    "\t\t\t\tvalid_ids, 0, normalizer_filename=normalizer_filename)\n",
    "\t\telse:\n",
    "\t\t\t# models_not_done.append(model_name)\n",
    "\t\t\tprint(f\"Sessions done: {sessions_done}\")\n"
   ]
  },
  {
   "cell_type": "code",
   "execution_count": 3,
   "metadata": {},
   "outputs": [
    {
     "name": "stdout",
     "output_type": "stream",
     "text": [
      "For 'whisper_tiny', 'mVocs_trf_lags300_gpu_l2'\n",
      "Using default normalizer file...\n",
      "For bin_width: 50.0 ms, sessions done: 23\n",
      "For 'whisper_tiny', 'mVocs_trf_lags300_gpu_l2_5_10'\n",
      "Using default normalizer file...\n",
      "identifier 'mVocs_trf_lags300_gpu_l2_5_10'  not found\n",
      "For 'whisper_tiny', 'mVocs_trf_lags300_gpu_l2_10_15'\n",
      "Using default normalizer file...\n",
      "identifier 'mVocs_trf_lags300_gpu_l2_10_15'  not found\n",
      "For 'whisper_tiny', 'mVocs_trf_lags300_gpu_l2_15_20'\n",
      "Using default normalizer file...\n",
      "identifier 'mVocs_trf_lags300_gpu_l2_15_20'  not found\n",
      "For 'whisper_tiny', 'mVocs_trf_lags300_gpu_l2_20_25'\n",
      "Using default normalizer file...\n",
      "identifier 'mVocs_trf_lags300_gpu_l2_20_25'  not found\n",
      "For 'whisper_tiny', 'mVocs_trf_lags300_gpu_l2_25_30'\n",
      "Using default normalizer file...\n",
      "identifier 'mVocs_trf_lags300_gpu_l2_25_30'  not found\n",
      "For 'whisper_tiny', 'mVocs_trf_lags300_gpu_l2_30_34'\n",
      "Using default normalizer file...\n",
      "identifier 'mVocs_trf_lags300_gpu_l2_30_34'  not found\n",
      "For 'whisper_tiny', 'mVocs_trf_lags300_gpu_l2_34_37'\n",
      "Using default normalizer file...\n",
      "identifier 'mVocs_trf_lags300_gpu_l2_34_37'  not found\n",
      "For 'whisper_tiny', 'mVocs_trf_lags300_gpu_l2_37'\n",
      "Using default normalizer file...\n",
      "identifier 'mVocs_trf_lags300_gpu_l2_37'  not found\n",
      "Total sessions done: 23\n",
      "Sessions done: 23\n",
      "Models with incomplete resutls:\n",
      "whisper_tiny\n"
     ]
    }
   ],
   "source": [
    "identifier = 'mVocs_trf_lags300_gpu_l2'\n",
    "# identifier = 'mVocs_trf_lags300_l5'\n",
    "# identifier = 'mVocs_trf_lags300_l4'\n",
    "# identifier = 'mVocs_trf_lags300'\n",
    "\n",
    "model_names = [\n",
    "\t# 'spect2vec',\n",
    "\t# 'w2v2_generic'\n",
    "\t'whisper_tiny'\n",
    "\t# 'whisper_base',\n",
    "\t# 'wav2vec2'\n",
    "\t# 'speech2text'\n",
    "]\n",
    "check_saved_results(identifier, model_names=model_names, verbose=True, num_sessions=39)"
   ]
  },
  {
   "cell_type": "code",
   "execution_count": 8,
   "metadata": {},
   "outputs": [
    {
     "name": "stdout",
     "output_type": "stream",
     "text": [
      "For 'whisper_tiny', 'mVocs_trf_lags300_gpu_l3'\n",
      "Using default normalizer file...\n",
      "For bin_width: 50.0 ms, sessions done: 39\n",
      "For 'whisper_tiny', 'mVocs_trf_lags300_gpu_l3_5_10'\n",
      "Using default normalizer file...\n",
      "identifier 'mVocs_trf_lags300_gpu_l3_5_10'  not found\n",
      "For 'whisper_tiny', 'mVocs_trf_lags300_gpu_l3_10_15'\n",
      "Using default normalizer file...\n",
      "identifier 'mVocs_trf_lags300_gpu_l3_10_15'  not found\n",
      "For 'whisper_tiny', 'mVocs_trf_lags300_gpu_l3_15_20'\n",
      "Using default normalizer file...\n",
      "identifier 'mVocs_trf_lags300_gpu_l3_15_20'  not found\n",
      "For 'whisper_tiny', 'mVocs_trf_lags300_gpu_l3_20_25'\n",
      "Using default normalizer file...\n",
      "identifier 'mVocs_trf_lags300_gpu_l3_20_25'  not found\n",
      "For 'whisper_tiny', 'mVocs_trf_lags300_gpu_l3_25_30'\n",
      "Using default normalizer file...\n",
      "identifier 'mVocs_trf_lags300_gpu_l3_25_30'  not found\n",
      "For 'whisper_tiny', 'mVocs_trf_lags300_gpu_l3_30_34'\n",
      "Using default normalizer file...\n",
      "identifier 'mVocs_trf_lags300_gpu_l3_30_34'  not found\n",
      "For 'whisper_tiny', 'mVocs_trf_lags300_gpu_l3_34_37'\n",
      "Using default normalizer file...\n",
      "identifier 'mVocs_trf_lags300_gpu_l3_34_37'  not found\n",
      "For 'whisper_tiny', 'mVocs_trf_lags300_gpu_l3_37'\n",
      "Using default normalizer file...\n",
      "identifier 'mVocs_trf_lags300_gpu_l3_37'  not found\n",
      "Total sessions done: 39\n",
      "Combining results...\n",
      "Output saved at: \n",
      " /depot/jgmakin/data/auditory_cortex/results/cross_validated_correlations/whisper_tiny_mVocs_trf_lags300_gpu_l3_corr_results.csv\n",
      "reading from /depot/jgmakin/data/auditory_cortex/results/cross_validated_correlations/whisper_tiny_mVocs_trf_lags300_gpu_l3_corr_results.csv\n",
      "Writing back...!\n"
     ]
    }
   ],
   "source": [
    "# identifier = 'mVocs_trf_lags300_l6'\n",
    "identifier = 'mVocs_trf_lags300_gpu_l3'\n",
    "# identifier = 'mVocs_trf_lags300_l5'\n",
    "# identifier = 'mVocs_trf_lags300_l4'\n",
    "# identifier = 'mVocs_trf_lags300'\n",
    "\n",
    "model_names = [\n",
    "\t# 'spect2vec',\n",
    "\t# 'w2v2_generic'\n",
    "\t'whisper_tiny'\n",
    "\t# 'whisper_base',\n",
    "\t# 'wav2vec2'\n",
    "\t# 'speech2text'\n",
    "]\n",
    "force_combine = True\n",
    "combine_results_for_all_models(\n",
    "\tidentifier, model_names=model_names, verbose=True, num_sessions=39,\n",
    "\tforce_combine=force_combine\n",
    "\t)\n"
   ]
  },
  {
   "cell_type": "code",
   "execution_count": 9,
   "metadata": {},
   "outputs": [
    {
     "name": "stdout",
     "output_type": "stream",
     "text": [
      "Using default normalizer file...\n",
      "Columns: 'mVocs_normalizer', 'mVocs_test_cc_raw', 'mVocs_normalized_test_cc' updated using normalizer (random pairs) dist, writing back now...\n",
      "Saved at /depot/jgmakin/data/auditory_cortex/results/cross_validated_correlations/whisper_tiny_mVocs_trf_lags300_gpu_l3_corr_results.csv\n"
     ]
    }
   ],
   "source": [
    "model_name = 'whisper_tiny'\n",
    "identifier = 'mVocs_trf_lags300_gpu_l3'\n",
    "# identifier = 'mVocs_trf_lags300_l2'\n",
    "# identifier = 'mVocs_trf_lags300_l3'\n",
    "corr_obj = Correlations(model_name+'_'+identifier)\n",
    "corr_obj.set_normalizers_using_bootsrap(mVocs=True)"
   ]
  },
  {
   "cell_type": "code",
   "execution_count": null,
   "metadata": {},
   "outputs": [],
   "source": [
    "mVocs_trf_lags300_l2"
   ]
  },
  {
   "cell_type": "markdown",
   "metadata": {},
   "source": [
    "#### whisper_tiny...cpu-gpu comparison"
   ]
  },
  {
   "cell_type": "markdown",
   "metadata": {},
   "source": [
    "##### mVocs_trf_lags300_l2"
   ]
  },
  {
   "cell_type": "code",
   "execution_count": 27,
   "metadata": {},
   "outputs": [
    {
     "data": {
      "text/plain": [
       "0.7253225965288956"
      ]
     },
     "execution_count": 27,
     "metadata": {},
     "output_type": "execute_result"
    }
   ],
   "source": [
    "data = corr_obj.data[corr_obj.data['mVocs_normalizer'] > 0.089]\n",
    "np.median(data['mVocs_normalized_test_cc'])"
   ]
  },
  {
   "cell_type": "markdown",
   "metadata": {},
   "source": [
    "##### mVocs_trf_lags300_l3"
   ]
  },
  {
   "cell_type": "code",
   "execution_count": 10,
   "metadata": {},
   "outputs": [
    {
     "data": {
      "text/plain": [
       "0.647857042477037"
      ]
     },
     "execution_count": 10,
     "metadata": {},
     "output_type": "execute_result"
    }
   ],
   "source": [
    "data = corr_obj.data[corr_obj.data['mVocs_normalizer'] > 0.089]\n",
    "np.median(data['mVocs_normalized_test_cc'])"
   ]
  },
  {
   "cell_type": "markdown",
   "metadata": {},
   "source": [
    "##### mVocs_trf_lags300_gpu_l2"
   ]
  },
  {
   "cell_type": "code",
   "execution_count": 6,
   "metadata": {},
   "outputs": [
    {
     "data": {
      "text/plain": [
       "0.6814670973324957"
      ]
     },
     "execution_count": 6,
     "metadata": {},
     "output_type": "execute_result"
    }
   ],
   "source": [
    "data = corr_obj.data[corr_obj.data['mVocs_normalizer'] > 0.089]\n",
    "np.median(data['mVocs_normalized_test_cc'])"
   ]
  },
  {
   "cell_type": "markdown",
   "metadata": {},
   "source": [
    "##### mVocs_trf_lags300_gpu_l3"
   ]
  },
  {
   "cell_type": "code",
   "execution_count": 7,
   "metadata": {},
   "outputs": [
    {
     "data": {
      "text/plain": [
       "0.6814670973324957"
      ]
     },
     "execution_count": 7,
     "metadata": {},
     "output_type": "execute_result"
    }
   ],
   "source": [
    "data = corr_obj.data[corr_obj.data['mVocs_normalizer'] > 0.089]\n",
    "np.median(data['mVocs_normalized_test_cc'])"
   ]
  },
  {
   "cell_type": "code",
   "execution_count": 36,
   "metadata": {},
   "outputs": [
    {
     "name": "stdout",
     "output_type": "stream",
     "text": [
      "Applying threshold: 0.089 on column: 'mVocs_normalizer'...\n"
     ]
    }
   ],
   "source": [
    "data = corr_obj.get_selected_data(\n",
    "\tbin_width=50, threshold=0.089, mVocs=True\n",
    "\t)\n"
   ]
  },
  {
   "cell_type": "code",
   "execution_count": 8,
   "metadata": {},
   "outputs": [
    {
     "data": {
      "text/plain": [
       "(-2.0, 12.0)"
      ]
     },
     "execution_count": 8,
     "metadata": {},
     "output_type": "execute_result"
    },
    {
     "data": {
      "image/png": "[encoded data removed]",
      "text/plain": [
       "<Figure size 432x288 with 1 Axes>"
      ]
     },
     "metadata": {
      "needs_background": "light"
     },
     "output_type": "display_data"
    }
   ],
   "source": [
    "plt.hist(corr_obj.data['opt_lmbda'])\n",
    "plt.xlim([-2, 12])"
   ]
  },
  {
   "cell_type": "code",
   "execution_count": 14,
   "metadata": {},
   "outputs": [
    {
     "data": {
      "text/plain": [
       "(-2.0, 12.0)"
      ]
     },
     "execution_count": 14,
     "metadata": {},
     "output_type": "execute_result"
    },
    {
     "data": {
      "image/png": "[encoded data removed]",
      "text/plain": [
       "<Figure size 432x288 with 1 Axes>"
      ]
     },
     "metadata": {
      "needs_background": "light"
     },
     "output_type": "display_data"
    }
   ],
   "source": [
    "plt.hist(corr_obj.data['opt_lmbda'])\n",
    "plt.xlim([-2, 12])"
   ]
  },
  {
   "cell_type": "markdown",
   "metadata": {},
   "source": [
    "#### trf plots.."
   ]
  },
  {
   "cell_type": "code",
   "execution_count": 6,
   "metadata": {},
   "outputs": [],
   "source": [
    "import matplotlib.pylab as plt\n",
    "import matplotlib as mpl\n",
    "%matplotlib inline"
   ]
  },
  {
   "cell_type": "code",
   "execution_count": 3,
   "metadata": {},
   "outputs": [
    {
     "name": "stdout",
     "output_type": "stream",
     "text": [
      "Using default normalizer file...\n"
     ]
    }
   ],
   "source": [
    "model_name = 'whisper_tiny'\n",
    "identifier = 'mVocs_trf_lags300_gpu_l3'\n",
    "# identifier = 'mVocs_trf_lags300_l2'\n",
    "# identifier = 'mVocs_trf_lags300_l3'\n",
    "corr_obj = Correlations(model_name+'_'+identifier)"
   ]
  },
  {
   "cell_type": "code",
   "execution_count": 3,
   "metadata": {},
   "outputs": [
    {
     "data": {
      "text/html": [
       "<div>\n",
       "<style scoped>\n",
       "    .dataframe tbody tr th:only-of-type {\n",
       "        vertical-align: middle;\n",
       "    }\n",
       "\n",
       "    .dataframe tbody tr th {\n",
       "        vertical-align: top;\n",
       "    }\n",
       "\n",
       "    .dataframe thead th {\n",
       "        text-align: right;\n",
       "    }\n",
       "</style>\n",
       "<table border=\"1\" class=\"dataframe\">\n",
       "  <thead>\n",
       "    <tr style=\"text-align: right;\">\n",
       "      <th></th>\n",
       "      <th>session</th>\n",
       "      <th>layer</th>\n",
       "      <th>channel</th>\n",
       "      <th>bin_width</th>\n",
       "      <th>delay</th>\n",
       "      <th>test_cc_raw</th>\n",
       "      <th>normalizer</th>\n",
       "      <th>mVocs_test_cc_raw</th>\n",
       "      <th>mVocs_normalizer</th>\n",
       "      <th>opt_lag</th>\n",
       "      <th>opt_lmbda</th>\n",
       "      <th>N_sents</th>\n",
       "      <th>layer_type</th>\n",
       "      <th>mVocs_normalized_test_cc</th>\n",
       "    </tr>\n",
       "  </thead>\n",
       "  <tbody>\n",
       "    <tr>\n",
       "      <th>0</th>\n",
       "      <td>180413.0</td>\n",
       "      <td>3.0</td>\n",
       "      <td>0.0</td>\n",
       "      <td>50.0</td>\n",
       "      <td>0.0</td>\n",
       "      <td>0.0</td>\n",
       "      <td>0.0</td>\n",
       "      <td>-0.027808</td>\n",
       "      <td>-0.010759</td>\n",
       "      <td>300.0</td>\n",
       "      <td>1.0</td>\n",
       "      <td>500.0</td>\n",
       "      <td>transformer</td>\n",
       "      <td>NaN</td>\n",
       "    </tr>\n",
       "    <tr>\n",
       "      <th>1</th>\n",
       "      <td>180413.0</td>\n",
       "      <td>3.0</td>\n",
       "      <td>1.0</td>\n",
       "      <td>50.0</td>\n",
       "      <td>0.0</td>\n",
       "      <td>0.0</td>\n",
       "      <td>0.0</td>\n",
       "      <td>0.004237</td>\n",
       "      <td>-0.006908</td>\n",
       "      <td>300.0</td>\n",
       "      <td>1.0</td>\n",
       "      <td>500.0</td>\n",
       "      <td>transformer</td>\n",
       "      <td>NaN</td>\n",
       "    </tr>\n",
       "    <tr>\n",
       "      <th>2</th>\n",
       "      <td>180413.0</td>\n",
       "      <td>3.0</td>\n",
       "      <td>2.0</td>\n",
       "      <td>50.0</td>\n",
       "      <td>0.0</td>\n",
       "      <td>0.0</td>\n",
       "      <td>0.0</td>\n",
       "      <td>0.012333</td>\n",
       "      <td>-0.005825</td>\n",
       "      <td>300.0</td>\n",
       "      <td>1.0</td>\n",
       "      <td>500.0</td>\n",
       "      <td>transformer</td>\n",
       "      <td>NaN</td>\n",
       "    </tr>\n",
       "    <tr>\n",
       "      <th>3</th>\n",
       "      <td>180413.0</td>\n",
       "      <td>3.0</td>\n",
       "      <td>3.0</td>\n",
       "      <td>50.0</td>\n",
       "      <td>0.0</td>\n",
       "      <td>0.0</td>\n",
       "      <td>0.0</td>\n",
       "      <td>0.034322</td>\n",
       "      <td>-0.008378</td>\n",
       "      <td>300.0</td>\n",
       "      <td>1.0</td>\n",
       "      <td>500.0</td>\n",
       "      <td>transformer</td>\n",
       "      <td>NaN</td>\n",
       "    </tr>\n",
       "    <tr>\n",
       "      <th>4</th>\n",
       "      <td>180413.0</td>\n",
       "      <td>3.0</td>\n",
       "      <td>4.0</td>\n",
       "      <td>50.0</td>\n",
       "      <td>0.0</td>\n",
       "      <td>0.0</td>\n",
       "      <td>0.0</td>\n",
       "      <td>0.018800</td>\n",
       "      <td>-0.016484</td>\n",
       "      <td>300.0</td>\n",
       "      <td>1.0</td>\n",
       "      <td>500.0</td>\n",
       "      <td>transformer</td>\n",
       "      <td>NaN</td>\n",
       "    </tr>\n",
       "    <tr>\n",
       "      <th>...</th>\n",
       "      <td>...</td>\n",
       "      <td>...</td>\n",
       "      <td>...</td>\n",
       "      <td>...</td>\n",
       "      <td>...</td>\n",
       "      <td>...</td>\n",
       "      <td>...</td>\n",
       "      <td>...</td>\n",
       "      <td>...</td>\n",
       "      <td>...</td>\n",
       "      <td>...</td>\n",
       "      <td>...</td>\n",
       "      <td>...</td>\n",
       "      <td>...</td>\n",
       "    </tr>\n",
       "    <tr>\n",
       "      <th>1589</th>\n",
       "      <td>200318.0</td>\n",
       "      <td>3.0</td>\n",
       "      <td>40.0</td>\n",
       "      <td>50.0</td>\n",
       "      <td>0.0</td>\n",
       "      <td>0.0</td>\n",
       "      <td>0.0</td>\n",
       "      <td>0.208720</td>\n",
       "      <td>0.104023</td>\n",
       "      <td>300.0</td>\n",
       "      <td>1.0</td>\n",
       "      <td>500.0</td>\n",
       "      <td>transformer</td>\n",
       "      <td>0.647142</td>\n",
       "    </tr>\n",
       "    <tr>\n",
       "      <th>1590</th>\n",
       "      <td>200318.0</td>\n",
       "      <td>3.0</td>\n",
       "      <td>41.0</td>\n",
       "      <td>50.0</td>\n",
       "      <td>0.0</td>\n",
       "      <td>0.0</td>\n",
       "      <td>0.0</td>\n",
       "      <td>0.120013</td>\n",
       "      <td>0.060497</td>\n",
       "      <td>300.0</td>\n",
       "      <td>1.0</td>\n",
       "      <td>500.0</td>\n",
       "      <td>transformer</td>\n",
       "      <td>0.487936</td>\n",
       "    </tr>\n",
       "    <tr>\n",
       "      <th>1591</th>\n",
       "      <td>200318.0</td>\n",
       "      <td>3.0</td>\n",
       "      <td>42.0</td>\n",
       "      <td>50.0</td>\n",
       "      <td>0.0</td>\n",
       "      <td>0.0</td>\n",
       "      <td>0.0</td>\n",
       "      <td>0.188281</td>\n",
       "      <td>0.107575</td>\n",
       "      <td>300.0</td>\n",
       "      <td>1.0</td>\n",
       "      <td>500.0</td>\n",
       "      <td>transformer</td>\n",
       "      <td>0.574051</td>\n",
       "    </tr>\n",
       "    <tr>\n",
       "      <th>1592</th>\n",
       "      <td>200318.0</td>\n",
       "      <td>3.0</td>\n",
       "      <td>43.0</td>\n",
       "      <td>50.0</td>\n",
       "      <td>0.0</td>\n",
       "      <td>0.0</td>\n",
       "      <td>0.0</td>\n",
       "      <td>0.148596</td>\n",
       "      <td>0.071907</td>\n",
       "      <td>300.0</td>\n",
       "      <td>1.0</td>\n",
       "      <td>500.0</td>\n",
       "      <td>transformer</td>\n",
       "      <td>0.554142</td>\n",
       "    </tr>\n",
       "    <tr>\n",
       "      <th>1593</th>\n",
       "      <td>200318.0</td>\n",
       "      <td>3.0</td>\n",
       "      <td>44.0</td>\n",
       "      <td>50.0</td>\n",
       "      <td>0.0</td>\n",
       "      <td>0.0</td>\n",
       "      <td>0.0</td>\n",
       "      <td>0.084065</td>\n",
       "      <td>0.063691</td>\n",
       "      <td>300.0</td>\n",
       "      <td>1.0</td>\n",
       "      <td>500.0</td>\n",
       "      <td>transformer</td>\n",
       "      <td>0.333100</td>\n",
       "    </tr>\n",
       "  </tbody>\n",
       "</table>\n",
       "<p>1594 rows × 14 columns</p>\n",
       "</div>"
      ],
      "text/plain": [
       "       session  layer  channel  bin_width  delay  test_cc_raw  normalizer  \\\n",
       "0     180413.0    3.0      0.0       50.0    0.0          0.0         0.0   \n",
       "1     180413.0    3.0      1.0       50.0    0.0          0.0         0.0   \n",
       "2     180413.0    3.0      2.0       50.0    0.0          0.0         0.0   \n",
       "3     180413.0    3.0      3.0       50.0    0.0          0.0         0.0   \n",
       "4     180413.0    3.0      4.0       50.0    0.0          0.0         0.0   \n",
       "...        ...    ...      ...        ...    ...          ...         ...   \n",
       "1589  200318.0    3.0     40.0       50.0    0.0          0.0         0.0   \n",
       "1590  200318.0    3.0     41.0       50.0    0.0          0.0         0.0   \n",
       "1591  200318.0    3.0     42.0       50.0    0.0          0.0         0.0   \n",
       "1592  200318.0    3.0     43.0       50.0    0.0          0.0         0.0   \n",
       "1593  200318.0    3.0     44.0       50.0    0.0          0.0         0.0   \n",
       "\n",
       "      mVocs_test_cc_raw  mVocs_normalizer  opt_lag  opt_lmbda  N_sents  \\\n",
       "0             -0.027808         -0.010759    300.0        1.0    500.0   \n",
       "1              0.004237         -0.006908    300.0        1.0    500.0   \n",
       "2              0.012333         -0.005825    300.0        1.0    500.0   \n",
       "3              0.034322         -0.008378    300.0        1.0    500.0   \n",
       "4              0.018800         -0.016484    300.0        1.0    500.0   \n",
       "...                 ...               ...      ...        ...      ...   \n",
       "1589           0.208720          0.104023    300.0        1.0    500.0   \n",
       "1590           0.120013          0.060497    300.0        1.0    500.0   \n",
       "1591           0.188281          0.107575    300.0        1.0    500.0   \n",
       "1592           0.148596          0.071907    300.0        1.0    500.0   \n",
       "1593           0.084065          0.063691    300.0        1.0    500.0   \n",
       "\n",
       "       layer_type  mVocs_normalized_test_cc  \n",
       "0     transformer                       NaN  \n",
       "1     transformer                       NaN  \n",
       "2     transformer                       NaN  \n",
       "3     transformer                       NaN  \n",
       "4     transformer                       NaN  \n",
       "...           ...                       ...  \n",
       "1589  transformer                  0.647142  \n",
       "1590  transformer                  0.487936  \n",
       "1591  transformer                  0.574051  \n",
       "1592  transformer                  0.554142  \n",
       "1593  transformer                  0.333100  \n",
       "\n",
       "[1594 rows x 14 columns]"
      ]
     },
     "execution_count": 3,
     "metadata": {},
     "output_type": "execute_result"
    }
   ],
   "source": [
    "corr_obj.data"
   ]
  },
  {
   "cell_type": "code",
   "execution_count": null,
   "metadata": {},
   "outputs": [],
   "source": [
    "data = corr_obj.get_selected_data(\n",
    "\tbin_width=50, threshold=0.089, mVocs=True\n",
    "\t)"
   ]
  },
  {
   "cell_type": "code",
   "execution_count": 7,
   "metadata": {},
   "outputs": [
    {
     "name": "stdout",
     "output_type": "stream",
     "text": [
      "Plotting trained and shuffled distributions for whisper_tiny\n",
      "Using default normalizer file...\n",
      "Extracting column: mVocs_normalized_test_cc\n",
      "Applying threshold: 0.089 on column: 'mVocs_normalizer'...\n",
      "Number of channels returned: (308,)\n",
      "Using default normalizer file...\n",
      "Extracting column: mVocs_normalized_test_cc\n",
      "Applying threshold: 0.089 on column: 'mVocs_normalizer'...\n",
      "Peak corr (median): 0.6814670973324957, occurs at x_coordinate: 2\n",
      "Peak corr (max): 1.0722772485623768, occurs at x_coordinate: 2\n",
      "Peak corr (median): 0.6814670973324957, occurs at x_coordinate: 2\n",
      "Peak corr (max): 1.0722772485623768, occurs at x_coordinate: 2\n"
     ]
    },
    {
     "data": {
      "image/png": "[encoded data removed]",
      "text/plain": [
       "<Figure size 432x288 with 1 Axes>"
      ]
     },
     "metadata": {
      "needs_background": "light"
     },
     "output_type": "display_data"
    }
   ],
   "source": [
    "from auditory_cortex.plotters.tikzplots import plot_trained_vs_shuffled_network_results\n",
    "model_names = [\n",
    "\t'whisper_tiny'\n",
    "\t]\n",
    "# trained_identifier = 'mVocs_trf_lags300_l3'\n",
    "\n",
    "trained_identifier = 'mVocs_trf_lags300_gpu_l2'\n",
    "untrained_identifiers = [\n",
    "\t\t'mVocs_trf_lags300_gpu_l2'\n",
    "\t\t\t\t\t\t ]\n",
    "# plot_trained_vs_shuffled_network_results\n",
    "tikz_indicator = 'reset-avg'\n",
    "baseline_identifier = f\"STRF_freqs80_mVocs\"\n",
    "save_tikz = False\n",
    "normalized=True\n",
    "# threshold=0.088\n",
    "bin_width = 50\n",
    "plot_trained_vs_shuffled_network_results(\n",
    "\t\tmodel_names=model_names,\n",
    "\t\tnormalized=normalized,\n",
    "\t\t# threshold=threshold,\n",
    "\t\tuntrained_identifiers = untrained_identifiers,\n",
    "\t\ttrained_identifier = trained_identifier,\n",
    "\t\t# areas = ['core', 'belt', 'parabelt'],\n",
    "\t\tbaseline_identifier=baseline_identifier,\n",
    "\t\tindicate_significance=False,\n",
    "\t\tplot_difference=False,\n",
    "\t\tdisplay_dotted_lines=False,\n",
    "\t\tmVocs=True,\n",
    "\t\tsave_tikz=save_tikz,\n",
    "\t\tarch_ind_lw=8,\n",
    "\t\tsig_ind_size=1,\n",
    "\t\ttikz_indicator=tikz_indicator,\n",
    "\t\tbin_width=bin_width,\n",
    "\t\tplot_baseline=False,\n",
    "\t\tuse_stat_inclusion=False,\n",
    ")"
   ]
  },
  {
   "cell_type": "code",
   "execution_count": null,
   "metadata": {},
   "outputs": [],
   "source": []
  }
 ],
 "metadata": {
  "kernelspec": {
   "display_name": "Python 3",
   "language": "python",
   "name": "python3"
  },
  "language_info": {
   "codemirror_mode": {
    "name": "ipython",
    "version": 3
   },
   "file_extension": ".py",
   "mimetype": "text/x-python",
   "name": "python",
   "nbconvert_exporter": "python",
   "pygments_lexer": "ipython3",
   "version": "3.8.5"
  }
 },
 "nbformat": 4,
 "nbformat_minor": 2
}
