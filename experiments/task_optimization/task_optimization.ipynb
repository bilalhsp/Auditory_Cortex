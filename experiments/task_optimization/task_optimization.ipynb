{
 "cells": [
  {
   "cell_type": "code",
   "execution_count": 1,
   "metadata": {},
   "outputs": [],
   "source": [
    "import os\n",
    "import pandas as pd\n",
    "import soundfile\n",
    "import fnmatch\n",
    "import yaml\n",
    "from wav2letter.datasets import Dataset, LSDataModule, DataModuleRF\n",
    "from wav2letter.models import LitWav2Letter, Wav2LetterRF\n",
    "import torchaudio\n",
    "import scipy\n",
    "import matplotlib.pyplot as plt\n",
    "import seaborn as sns\n",
    "import torch\n",
    "from scipy.io import wavfile\n",
    "import auditory_cortex.regression as Reg\n",
    "import auditory_cortex.utils as utils\n",
    "import numpy as np\n",
    "import cupy as cp\n",
    "import pickle\n",
    "import time\n",
    "from utils_jgm.tikz_pgf_helpers import tpl_save\n",
    "\n",
    "import auditory_cortex.analysis.config as config\n",
    "import auditory_cortex.helpers as helpers\n",
    "import auditory_cortex.analysis.analysis as analysis"
   ]
  },
  {
   "cell_type": "code",
   "execution_count": 2,
   "metadata": {},
   "outputs": [],
   "source": [
    "# paths to read checkpoints from and save corr results at...\n",
    "models_dir = config.task_optimization_paths['model_checkpoints_dir']\n",
    "saved_corr_results_dir = config.task_optimization_paths['saved_corr_results_dir']"
   ]
  },
  {
   "attachments": {},
   "cell_type": "markdown",
   "metadata": {},
   "source": [
    "### compute correlations and save to disk.."
   ]
  },
  {
   "cell_type": "code",
   "execution_count": 4,
   "metadata": {},
   "outputs": [],
   "source": [
    "\n",
    "\n",
    "# read checkpoints from the directory..\n",
    "checkpoints = []\n",
    "for file_name in os.listdir(models_dir):\n",
    "    if fnmatch.fnmatch(file_name, 'Wav2letter-epoch*.ckpt'):\n",
    "        checkpoints.append(file_name)\n",
    "checkpoints.sort()\n",
    "\n",
    "# extract 'epochs' and 'loss' information from the checkpoint filenames...\n",
    "pretrained_mdata = []\n",
    "for checkpoint in checkpoints:\n",
    "    # extract epoch number from latest checkpoint...\n",
    "    upper_index = checkpoint.index('-val')\n",
    "    lower_index = checkpoint.rfind('=', 0, upper_index) + 1\n",
    "    epoch = int(checkpoint[lower_index:upper_index])\n",
    "\n",
    "    # extract loss value from latest checkpoint...\n",
    "    upper_index = checkpoint.index('.ckpt')\n",
    "    lower_index = checkpoint.rfind('=', 0, upper_index) + 1\n",
    "    loss = float(checkpoint[lower_index:upper_index])\n",
    "\n",
    "    dictt = {'epochs': epoch,\n",
    "             'loss': loss,\n",
    "             'checkpoint': checkpoint\n",
    "            }\n",
    "    pretrained_mdata.append(dictt)"
   ]
  },
  {
   "cell_type": "code",
   "execution_count": 3,
   "metadata": {},
   "outputs": [],
   "source": [
    "# running analysis...\n",
    "i = 0\n",
    "session = '200206'\n",
    "bin_width = 20\n",
    "delay = 20\n",
    "epochs = pretrained_mdata[i]['epochs']\n",
    "checkpoint = os.path.join(models_dir, pretrained_mdata[i]['checkpoint'])\n",
    "corr_file_path = os.path.join(saved_corr_results_dir, f'w2l_epochs={epochs:02d}_session_{session}_corr.csv')\n",
    "\n",
    "# compute correlations and save to disk...\n",
    "reg_obj = helpers.get_regression_obj(session, checkpoint=checkpoint, load_features=True)\n",
    "corr_results = reg_obj.cross_validated_regression(bin_width=bin_width, delay=delay, load_features=True, return_dict=True, numpy=False)\n",
    "utils.write_to_disk(corr_results, corr_file_path)"
   ]
  },
  {
   "attachments": {},
   "cell_type": "markdown",
   "metadata": {},
   "source": [
    "#### Computing correlations for untrained model.."
   ]
  },
  {
   "cell_type": "code",
   "execution_count": 3,
   "metadata": {},
   "outputs": [
    {
     "name": "stdout",
     "output_type": "stream",
     "text": [
      "Regression object...\n",
      "Creating regression obj for: 'wav2letter_modified'\n",
      "Loading ANN features at bin-width: 20\n",
      "It takes 24.77 sec to load features...!\n",
      "# of iterations requested: 10, \n",
      "# of lambda samples per iteration: 20\n",
      "Itr: 1:\n",
      "Itr: 2:\n",
      "Itr: 3:\n",
      "Itr: 4:\n",
      "Itr: 5:\n",
      "Itr: 6:\n",
      "Itr: 7:\n",
      "Itr: 8:\n",
      "Itr: 9:\n",
      "Itr: 10:\n",
      "It takes (on avg.) 8.76 sec (all lmbdas). (time for 10-folds)\n",
      "It takes (on avg.) 3.01 sec/mapping.\n",
      "It takes (on avg.) 0.20 minutes/iteration...!\n",
      "Data saved for model: 'wav2letter_modified', session: '200206',    bin-width: 20ms, delay: 0ms at file: '/depot/jgmakin/data/auditory_cortex/saved_results/task_optimization/w2l_epochs=00_session_200206_corr.csv'\n"
     ]
    },
    {
     "data": {
      "text/html": [
       "<div>\n",
       "<style scoped>\n",
       "    .dataframe tbody tr th:only-of-type {\n",
       "        vertical-align: middle;\n",
       "    }\n",
       "\n",
       "    .dataframe tbody tr th {\n",
       "        vertical-align: top;\n",
       "    }\n",
       "\n",
       "    .dataframe thead th {\n",
       "        text-align: right;\n",
       "    }\n",
       "</style>\n",
       "<table border=\"1\" class=\"dataframe\">\n",
       "  <thead>\n",
       "    <tr style=\"text-align: right;\">\n",
       "      <th></th>\n",
       "      <th>session</th>\n",
       "      <th>layer</th>\n",
       "      <th>channel</th>\n",
       "      <th>bin_width</th>\n",
       "      <th>delay</th>\n",
       "      <th>train_cc_raw</th>\n",
       "      <th>test_cc_raw</th>\n",
       "      <th>normalizer</th>\n",
       "      <th>N_sents</th>\n",
       "    </tr>\n",
       "  </thead>\n",
       "  <tbody>\n",
       "    <tr>\n",
       "      <th>0</th>\n",
       "      <td>200206.0</td>\n",
       "      <td>0.0</td>\n",
       "      <td>0.0</td>\n",
       "      <td>20.0</td>\n",
       "      <td>0.0</td>\n",
       "      <td>0.106607</td>\n",
       "      <td>0.093577</td>\n",
       "      <td>0.0</td>\n",
       "      <td>499.0</td>\n",
       "    </tr>\n",
       "    <tr>\n",
       "      <th>1</th>\n",
       "      <td>200206.0</td>\n",
       "      <td>0.0</td>\n",
       "      <td>1.0</td>\n",
       "      <td>20.0</td>\n",
       "      <td>0.0</td>\n",
       "      <td>0.068458</td>\n",
       "      <td>0.045363</td>\n",
       "      <td>0.0</td>\n",
       "      <td>499.0</td>\n",
       "    </tr>\n",
       "    <tr>\n",
       "      <th>2</th>\n",
       "      <td>200206.0</td>\n",
       "      <td>0.0</td>\n",
       "      <td>2.0</td>\n",
       "      <td>20.0</td>\n",
       "      <td>0.0</td>\n",
       "      <td>0.06451</td>\n",
       "      <td>0.042679</td>\n",
       "      <td>0.0</td>\n",
       "      <td>499.0</td>\n",
       "    </tr>\n",
       "    <tr>\n",
       "      <th>3</th>\n",
       "      <td>200206.0</td>\n",
       "      <td>0.0</td>\n",
       "      <td>3.0</td>\n",
       "      <td>20.0</td>\n",
       "      <td>0.0</td>\n",
       "      <td>0.095561</td>\n",
       "      <td>0.080975</td>\n",
       "      <td>0.0</td>\n",
       "      <td>499.0</td>\n",
       "    </tr>\n",
       "    <tr>\n",
       "      <th>4</th>\n",
       "      <td>200206.0</td>\n",
       "      <td>0.0</td>\n",
       "      <td>4.0</td>\n",
       "      <td>20.0</td>\n",
       "      <td>0.0</td>\n",
       "      <td>0.073706</td>\n",
       "      <td>0.059724</td>\n",
       "      <td>0.0</td>\n",
       "      <td>499.0</td>\n",
       "    </tr>\n",
       "    <tr>\n",
       "      <th>...</th>\n",
       "      <td>...</td>\n",
       "      <td>...</td>\n",
       "      <td>...</td>\n",
       "      <td>...</td>\n",
       "      <td>...</td>\n",
       "      <td>...</td>\n",
       "      <td>...</td>\n",
       "      <td>...</td>\n",
       "      <td>...</td>\n",
       "    </tr>\n",
       "    <tr>\n",
       "      <th>763</th>\n",
       "      <td>200206.0</td>\n",
       "      <td>11.0</td>\n",
       "      <td>59.0</td>\n",
       "      <td>20.0</td>\n",
       "      <td>0.0</td>\n",
       "      <td>0.119621</td>\n",
       "      <td>0.119842</td>\n",
       "      <td>0.0</td>\n",
       "      <td>499.0</td>\n",
       "    </tr>\n",
       "    <tr>\n",
       "      <th>764</th>\n",
       "      <td>200206.0</td>\n",
       "      <td>11.0</td>\n",
       "      <td>60.0</td>\n",
       "      <td>20.0</td>\n",
       "      <td>0.0</td>\n",
       "      <td>0.11983</td>\n",
       "      <td>0.117963</td>\n",
       "      <td>0.0</td>\n",
       "      <td>499.0</td>\n",
       "    </tr>\n",
       "    <tr>\n",
       "      <th>765</th>\n",
       "      <td>200206.0</td>\n",
       "      <td>11.0</td>\n",
       "      <td>61.0</td>\n",
       "      <td>20.0</td>\n",
       "      <td>0.0</td>\n",
       "      <td>0.095794</td>\n",
       "      <td>0.094638</td>\n",
       "      <td>0.0</td>\n",
       "      <td>499.0</td>\n",
       "    </tr>\n",
       "    <tr>\n",
       "      <th>766</th>\n",
       "      <td>200206.0</td>\n",
       "      <td>11.0</td>\n",
       "      <td>62.0</td>\n",
       "      <td>20.0</td>\n",
       "      <td>0.0</td>\n",
       "      <td>0.131895</td>\n",
       "      <td>0.130001</td>\n",
       "      <td>0.0</td>\n",
       "      <td>499.0</td>\n",
       "    </tr>\n",
       "    <tr>\n",
       "      <th>767</th>\n",
       "      <td>200206.0</td>\n",
       "      <td>11.0</td>\n",
       "      <td>63.0</td>\n",
       "      <td>20.0</td>\n",
       "      <td>0.0</td>\n",
       "      <td>0.121159</td>\n",
       "      <td>0.119369</td>\n",
       "      <td>0.0</td>\n",
       "      <td>499.0</td>\n",
       "    </tr>\n",
       "  </tbody>\n",
       "</table>\n",
       "<p>768 rows × 9 columns</p>\n",
       "</div>"
      ],
      "text/plain": [
       "      session layer channel bin_width delay train_cc_raw test_cc_raw  \\\n",
       "0    200206.0   0.0     0.0      20.0   0.0     0.106607    0.093577   \n",
       "1    200206.0   0.0     1.0      20.0   0.0     0.068458    0.045363   \n",
       "2    200206.0   0.0     2.0      20.0   0.0      0.06451    0.042679   \n",
       "3    200206.0   0.0     3.0      20.0   0.0     0.095561    0.080975   \n",
       "4    200206.0   0.0     4.0      20.0   0.0     0.073706    0.059724   \n",
       "..        ...   ...     ...       ...   ...          ...         ...   \n",
       "763  200206.0  11.0    59.0      20.0   0.0     0.119621    0.119842   \n",
       "764  200206.0  11.0    60.0      20.0   0.0      0.11983    0.117963   \n",
       "765  200206.0  11.0    61.0      20.0   0.0     0.095794    0.094638   \n",
       "766  200206.0  11.0    62.0      20.0   0.0     0.131895    0.130001   \n",
       "767  200206.0  11.0    63.0      20.0   0.0     0.121159    0.119369   \n",
       "\n",
       "    normalizer N_sents  \n",
       "0          0.0   499.0  \n",
       "1          0.0   499.0  \n",
       "2          0.0   499.0  \n",
       "3          0.0   499.0  \n",
       "4          0.0   499.0  \n",
       "..         ...     ...  \n",
       "763        0.0   499.0  \n",
       "764        0.0   499.0  \n",
       "765        0.0   499.0  \n",
       "766        0.0   499.0  \n",
       "767        0.0   499.0  \n",
       "\n",
       "[768 rows x 9 columns]"
      ]
     },
     "execution_count": 3,
     "metadata": {},
     "output_type": "execute_result"
    }
   ],
   "source": [
    "session = '200206'\n",
    "bin_width = 20\n",
    "delay = 0\n",
    "epochs = 0 # pretrained_mdata[i]['epochs']\n",
    "# checkpoint = os.path.join(models_dir, pretrained_mdata[i]['checkpoint'])\n",
    "corr_file_path = os.path.join(saved_corr_results_dir, f'w2l_epochs={epochs:02d}_session_{session}_corr.csv')\n",
    "\n",
    "# compute correlations and save to disk...\n",
    "reg_obj = helpers.get_regression_obj(session, load_features=True, pretrained=False)\n",
    "corr_results = reg_obj.cross_validated_regression(bin_width=bin_width, delay=delay, load_features=True, return_dict=True, numpy=False)\n",
    "utils.write_to_disk(corr_results, corr_file_path)"
   ]
  },
  {
   "attachments": {},
   "cell_type": "markdown",
   "metadata": {},
   "source": [
    "### Read correlation results and analyse"
   ]
  },
  {
   "cell_type": "code",
   "execution_count": 8,
   "metadata": {},
   "outputs": [],
   "source": [
    "layer = 6\n",
    "task_optimization_summary = {\n",
    "    'epochs' : [],\n",
    "    'mean': [],\n",
    "    'std': []\n",
    "}\n",
    "corr_files = os.listdir(saved_corr_results_dir)\n",
    "corr_files.sort()\n",
    "\n",
    "for i, file_name in enumerate(corr_files):\n",
    "    # Extract epoch and session info from the filename...\n",
    "    upper_idx = file_name.rindex('_')\n",
    "    lower_idx = file_name.rindex('_', 0, upper_idx)\n",
    "    session = int(file_name[lower_idx+1: upper_idx])\n",
    "\n",
    "    upper_idx = file_name.rindex('_session')\n",
    "    lower_idx = file_name.rindex('=')\n",
    "    epoch = int(file_name[lower_idx+1: upper_idx])\n",
    "    if epoch < 24:\n",
    "        # create correlation object and store the means and correlations...\n",
    "        corr_file_path = os.path.join(saved_corr_results_dir, file_name)\n",
    "        corr_obj = analysis.correlations(corr_file_path=corr_file_path)\n",
    "\n",
    "        mn, std = corr_obj.summarize(session=session, threshold=0)\n",
    "        task_optimization_summary['epochs'].append(epoch)\n",
    "        task_optimization_summary['mean'].append(mn[layer])\n",
    "        task_optimization_summary['std'].append(std[layer])\n",
    "\n",
    "# reading off these CER's from the lighting logs...\n",
    "CER = [99, 27.33, 17.25, 15.58, 14.41, 13.37, 13.02]\n",
    "acc = 1 - np.array(CER)\n",
    "saved_results = '../../../saved_results/'"
   ]
  },
  {
   "cell_type": "code",
   "execution_count": 14,
   "metadata": {},
   "outputs": [
    {
     "data": {
      "text/plain": [
       "Text(0.5, 1.0, 'Corr. Coefficients (mean) vs training epochs (layer-6)')"
      ]
     },
     "execution_count": 14,
     "metadata": {},
     "output_type": "execute_result"
    },
    {
     "data": {
      "image/png": "[encoded data removed]",
      "text/plain": [
       "<Figure size 432x288 with 2 Axes>"
      ]
     },
     "metadata": {
      "needs_background": "light"
     },
     "output_type": "display_data"
    }
   ],
   "source": [
    "fig, ax1 = plt.subplots()\n",
    "ax2 = ax1.twinx()\n",
    "\n",
    "ax1.plot(task_optimization_summary['epochs'], task_optimization_summary['mean'],'x-', markersize=5, label='\\u0393 (mean)')\n",
    "ax2.plot(task_optimization_summary['epochs'], CER,'x-', markersize=5, color='r', label='character error rate')\n",
    "# plt.ylim([0, 0.5])\n",
    "ax1.set_xlabel(\"Training epochs\")\n",
    "ax1.set_ylabel('\\u0393 (mean)')\n",
    "ax1.set_ylim(0, 1)\n",
    "\n",
    "ax2.set_ylabel(\"character error rate (%)\")\n",
    "plt.legend(['\\u0393 (mean)', 'character error rate'])\n",
    "plt.title(f\"Corr. Coefficients (mean) vs training epochs (layer-{layer})\")\n",
    "# plt.savefig(os.path.join(saved_results, 'svg_files',f'task_optimization_layer_{layer}.svg'))\n",
    "\n",
    "# extra_axis_parameters = {\n",
    "#     'width=\\\\figwidth',\n",
    "#     'height=\\\\figheight',\n",
    "#     'every x tick label/.append style={rotate=90}',\n",
    "#     'xticklabel style={opacity=\\\\thisXticklabelopacity, align=center}',\n",
    "# }\n",
    "# tpl_save(\n",
    "#     filepath=os.path.join(saved_results, 'tikz_files',f'task_optimization_layer_{layer}.tex'),\n",
    "#     extra_axis_parameters=extra_axis_parameters,\n",
    "#     tex_relative_path_to_data='pngs',\n",
    "#     pre_tikzpicture_lines={\n",
    "#         '\\\\providecommand{\\\\figwidth}{5.7in}%',\n",
    "#         '\\\\providecommand{\\\\figheight}{2.0in}%',\n",
    "#         '\\\\providecommand{\\\\thisXticklabelopacity}{1.0}%',\n",
    "#     },\n",
    "# )"
   ]
  },
  {
   "cell_type": "code",
   "execution_count": 4,
   "metadata": {},
   "outputs": [
    {
     "data": {
      "image/png": "[encoded data removed]",
      "text/plain": [
       "<Figure size 432x288 with 1 Axes>"
      ]
     },
     "metadata": {
      "needs_background": "light"
     },
     "output_type": "display_data"
    }
   ],
   "source": [
    "# fig, ax1 = plt.subplots()\n",
    "\n",
    "plt.plot(task_optimization_summary['epochs'], task_optimization_summary['mean'],'x-', markersize=5, label='\\u0393 (mean)')\n",
    "plt.plot(task_optimization_summary['epochs'], CER,'x-', markersize=5, color='r', label='character error rate')\n",
    "# plt.ylim([0, 0.5])\n",
    "plt.xlabel(\"Training epochs\")\n",
    "plt.ylabel('\\u0393 (mean)')\n",
    "plt.legend()\n",
    "plt.title(f\"Corr. Coefficients (mean) vs training epochs (layer-{layer})\")\n",
    "plt.savefig(os.path.join(saved_results, 'svg_files',f'task_optimization_layer_{layer}.svg'))\n",
    "\n",
    "# extra_axis_parameters = {\n",
    "#     'width=\\\\figwidth',\n",
    "#     'height=\\\\figheight',\n",
    "#     'every x tick label/.append style={rotate=90}',\n",
    "#     'xticklabel style={opacity=\\\\thisXticklabelopacity, align=center}',\n",
    "# }\n",
    "# tpl_save(\n",
    "#     filepath=os.path.join(saved_results, 'tikz_files',f'task_optimization_layer_{layer}.tex'),\n",
    "#     extra_axis_parameters=extra_axis_parameters,\n",
    "#     tex_relative_path_to_data='pngs',\n",
    "#     pre_tikzpicture_lines={\n",
    "#         '\\\\providecommand{\\\\figwidth}{5.7in}%',\n",
    "#         '\\\\providecommand{\\\\figheight}{2.0in}%',\n",
    "#         '\\\\providecommand{\\\\thisXticklabelopacity}{1.0}%',\n",
    "#     },\n",
    "# )"
   ]
  },
  {
   "cell_type": "code",
   "execution_count": 32,
   "metadata": {},
   "outputs": [
    {
     "name": "stdout",
     "output_type": "stream",
     "text": [
      "/home/ahmedb/projects/Wav2Letter/Auditory_Cortex/experiments/task_optimization\n"
     ]
    }
   ],
   "source": [
    "!pwd"
   ]
  },
  {
   "cell_type": "code",
   "execution_count": null,
   "metadata": {},
   "outputs": [],
   "source": [
    "output_dir = '../../../saved_results/svg_files/'"
   ]
  },
  {
   "cell_type": "code",
   "execution_count": 28,
   "metadata": {},
   "outputs": [
    {
     "data": {
      "text/plain": [
       "Text(0.5, 1.0, 'Corr. Coefficients (mean) vs accuracy (layer-6)')"
      ]
     },
     "execution_count": 28,
     "metadata": {},
     "output_type": "execute_result"
    },
    {
     "data": {
      "image/png": "[encoded data removed]",
      "text/plain": [
       "<Figure size 432x288 with 1 Axes>"
      ]
     },
     "metadata": {
      "needs_background": "light"
     },
     "output_type": "display_data"
    }
   ],
   "source": [
    "plt.scatter(acc, task_optimization_summary['mean'])#,'x-', markersize=5)\n",
    "# plt.plot(task_optimization_summary['epochs'], ,'x-', markersize=5, color='r')\n",
    "# plt.ylim([0, 0.5])\n",
    "plt.xlabel(\"Accuracy (Speech Recognition)\")\n",
    "plt.ylabel('\\u0393 (mean)')\n",
    "plt.title(f\"Corr. Coefficients (mean) vs accuracy (layer-{layer})\")"
   ]
  },
  {
   "cell_type": "code",
   "execution_count": 11,
   "metadata": {},
   "outputs": [
    {
     "data": {
      "text/plain": [
       "[0, 4, 9, 11, 15, 19, 23]"
      ]
     },
     "execution_count": 11,
     "metadata": {},
     "output_type": "execute_result"
    }
   ],
   "source": [
    "task_optimization_summary['epochs']"
   ]
  },
  {
   "cell_type": "code",
   "execution_count": 13,
   "metadata": {},
   "outputs": [],
   "source": []
  },
  {
   "cell_type": "code",
   "execution_count": 7,
   "metadata": {},
   "outputs": [
    {
     "data": {
      "text/plain": [
       "[0.016051258799850854,\n",
       " 0.13301249468769602,\n",
       " 0.13324594348381205,\n",
       " 0.13187312937098078,\n",
       " 0.13263976248744117,\n",
       " 0.13210839603824479,\n",
       " 0.13104267672153003]"
      ]
     },
     "execution_count": 7,
     "metadata": {},
     "output_type": "execute_result"
    }
   ],
   "source": [
    "task_optimization_summary['std']"
   ]
  },
  {
   "cell_type": "code",
   "execution_count": 67,
   "metadata": {},
   "outputs": [
    {
     "data": {
      "text/plain": [
       "(0.0, 0.7)"
      ]
     },
     "execution_count": 67,
     "metadata": {},
     "output_type": "execute_result"
    },
    {
     "data": {
      "image/png": "[encoded data removed]",
      "text/plain": [
       "<Figure size 432x288 with 1 Axes>"
      ]
     },
     "metadata": {
      "needs_background": "light"
     },
     "output_type": "display_data"
    }
   ],
   "source": [
    "import matplotlib.cm as cm\n",
    "cmap = cm.get_cmap('magma')\n",
    "colors = cmap(np.arange(mn.shape[0])/12.0)\n",
    "plt.bar(x=np.arange(mn.shape[0]), height=mn, yerr=std, color=colors)\n",
    "plt.ylim([0, 0.7])"
   ]
  },
  {
   "cell_type": "code",
   "execution_count": null,
   "metadata": {},
   "outputs": [],
   "source": []
  }
 ],
 "metadata": {
  "kernelspec": {
   "display_name": "Python 3",
   "language": "python",
   "name": "python3"
  },
  "language_info": {
   "codemirror_mode": {
    "name": "ipython",
    "version": 3
   },
   "file_extension": ".py",
   "mimetype": "text/x-python",
   "name": "python",
   "nbconvert_exporter": "python",
   "pygments_lexer": "ipython3",
   "version": "3.8.5"
  },
  "orig_nbformat": 4,
  "vscode": {
   "interpreter": {
    "hash": "bf270bfe6f5ea047577d4529f0d59f5a50c52540347ccec7f73949689bdd9afa"
   }
  }
 },
 "nbformat": 4,
 "nbformat_minor": 2
}
