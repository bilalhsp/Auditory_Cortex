{
 "cells": [
  {
   "cell_type": "code",
   "execution_count": 3,
   "id": "fa87cffa",
   "metadata": {},
   "outputs": [],
   "source": [
    "import os\n",
    "import torch\n",
    "\n",
    "import auditory_cortex.models as Reg\n",
    "from deepspeech_pytorch.model import DeepSpeech\n",
    "import deepspeech_pytorch.loader.data_loader as data_loader\n",
    "from deepspeech_pytorch.configs.train_config import SpectConfig\n",
    "# checkpoint_path = '/depot/jgmakin/data/auditory_cortex/pretrained_weights/deepspeech2/librispeech_pretrained_v3.ckpt'"
   ]
  },
  {
   "cell_type": "code",
   "execution_count": 4,
   "id": "7fae1ed6",
   "metadata": {},
   "outputs": [
    {
     "name": "stdout",
     "output_type": "stream",
     "text": [
      "Loading Neural data for session: 180810 ... Done.\n",
      "Creating regression obj for: 'deepspeech2'\n"
     ]
    }
   ],
   "source": [
    "model = 'deepspeech2'\n",
    "obj = Reg.Regression(model, load_features=False)"
   ]
  },
  {
   "cell_type": "code",
   "execution_count": 5,
   "id": "ddee3e26",
   "metadata": {},
   "outputs": [],
   "source": [
    "sent = 12\n",
    "aud = obj.dataset.audio(sent=sent)\n"
   ]
  },
  {
   "cell_type": "code",
   "execution_count": 6,
   "id": "7ad4c8eb",
   "metadata": {},
   "outputs": [
    {
     "data": {
      "text/plain": [
       "1.369625"
      ]
     },
     "execution_count": 6,
     "metadata": {},
     "output_type": "execute_result"
    }
   ],
   "source": [
    "obj.dataset.duration(sent=sent)"
   ]
  },
  {
   "cell_type": "code",
   "execution_count": 7,
   "id": "cdeb5c22",
   "metadata": {},
   "outputs": [
    {
     "name": "stdout",
     "output_type": "stream",
     "text": [
      "(21914,)\n",
      "torch.Size([161, 137])\n"
     ]
    },
    {
     "name": "stderr",
     "output_type": "stream",
     "text": [
      "/home/ahmedb/.conda/envs/cent7/2020.11-py38/wav2letter/lib/python3.8/site-packages/torch/_tensor.py:575: UserWarning: floor_divide is deprecated, and will be removed in a future version of pytorch. It currently rounds toward 0 (like the 'trunc' function NOT 'floor'). This results in incorrect rounding for negative values.\n",
      "To keep the current behavior, use torch.div(a, b, rounding_mode='trunc'), or for actual floor division, use torch.div(a, b, rounding_mode='floor'). (Triggered internally at  /opt/conda/conda-bld/pytorch_1623448278899/work/aten/src/ATen/native/BinaryOps.cpp:467.)\n",
      "  return torch.floor_divide(self, other)\n"
     ]
    }
   ],
   "source": [
    "inp = obj.model_extractor.translate(aud)"
   ]
  },
  {
   "cell_type": "code",
   "execution_count": 21,
   "id": "f940f9af",
   "metadata": {},
   "outputs": [
    {
     "data": {
      "text/plain": [
       "torch.Size([69, 2048])"
      ]
     },
     "execution_count": 21,
     "metadata": {},
     "output_type": "execute_result"
    }
   ],
   "source": [
    "layer = 2\n",
    "feats0 = obj.model_extractor.get_features(layer)\n",
    "feats0.shape\n"
   ]
  },
  {
   "cell_type": "code",
   "execution_count": 13,
   "id": "9b10a237",
   "metadata": {},
   "outputs": [
    {
     "data": {
      "text/plain": [
       "torch.Size([69, 2592])"
      ]
     },
     "execution_count": 13,
     "metadata": {},
     "output_type": "execute_result"
    }
   ],
   "source": [
    "# feats0[1][0][0].shape\n",
    "feats0.shape"
   ]
  },
  {
   "cell_type": "code",
   "execution_count": 11,
   "id": "0de7ebbe",
   "metadata": {},
   "outputs": [
    {
     "data": {
      "text/plain": [
       "torch.Tensor"
      ]
     },
     "execution_count": 11,
     "metadata": {},
     "output_type": "execute_result"
    }
   ],
   "source": [
    "type(feats0[1][0])"
   ]
  },
  {
   "cell_type": "code",
   "execution_count": 21,
   "id": "dcd854f2",
   "metadata": {},
   "outputs": [
    {
     "data": {
      "text/plain": [
       "torch.Size([69, 1024])"
      ]
     },
     "execution_count": 21,
     "metadata": {},
     "output_type": "execute_result"
    }
   ],
   "source": [
    "feats0[0].data[:,1024:].shape"
   ]
  },
  {
   "cell_type": "code",
   "execution_count": 6,
   "id": "e4fa8b7e",
   "metadata": {},
   "outputs": [
    {
     "data": {
      "text/plain": [
       "torch.Size([69, 2048])"
      ]
     },
     "execution_count": 6,
     "metadata": {},
     "output_type": "execute_result"
    }
   ],
   "source": [
    "layer = 2\n",
    "feats0 = obj.model_extractor.get_features(layer)\n",
    "feats0.shape"
   ]
  },
  {
   "cell_type": "code",
   "execution_count": 20,
   "id": "d848fbb4",
   "metadata": {},
   "outputs": [
    {
     "data": {
      "text/plain": [
       "torch.Size([2592, 69])"
      ]
     },
     "execution_count": 20,
     "metadata": {},
     "output_type": "execute_result"
    }
   ],
   "source": [
    "feats0.reshape(feats0.shape[0]*feats0.shape[1], -1)"
   ]
  },
  {
   "cell_type": "code",
   "execution_count": 7,
   "id": "13f9a308",
   "metadata": {},
   "outputs": [
    {
     "data": {
      "text/plain": [
       "dict_keys(['conv.seq_module.2', 'conv.seq_module.5', 'rnns.0.rnn', 'rnns.1.rnn', 'rnns.2.rnn', 'rnns.3.rnn', 'rnns.4.rnn'])"
      ]
     },
     "execution_count": 7,
     "metadata": {},
     "output_type": "execute_result"
    }
   ],
   "source": [
    "obj.model_extractor.features.keys()"
   ]
  },
  {
   "cell_type": "code",
   "execution_count": 7,
   "id": "3043cefa",
   "metadata": {},
   "outputs": [],
   "source": [
    "feats0 = obj.model_extractor.get_features(0)"
   ]
  },
  {
   "cell_type": "code",
   "execution_count": 11,
   "id": "b46661c4",
   "metadata": {},
   "outputs": [
    {
     "data": {
      "text/plain": [
       "torch.Size([69, 2048])"
      ]
     },
     "execution_count": 11,
     "metadata": {},
     "output_type": "execute_result"
    }
   ],
   "source": [
    "feats0.data.shape"
   ]
  },
  {
   "cell_type": "code",
   "execution_count": 3,
   "id": "035189bb",
   "metadata": {},
   "outputs": [],
   "source": [
    "\n",
    "audio_config = SpectConfig()\n",
    "parser = data_loader.AudioParser(audio_config, normalize=True)\n",
    "spect = parser.compute_spectrogram(aud)"
   ]
  },
  {
   "cell_type": "code",
   "execution_count": 6,
   "id": "d314bdc1",
   "metadata": {},
   "outputs": [
    {
     "data": {
      "text/plain": [
       "torch.Size([1, 1, 161, 137])"
      ]
     },
     "execution_count": 6,
     "metadata": {},
     "output_type": "execute_result"
    }
   ],
   "source": [
    "spect = spect.unsqueeze(dim=0)\n",
    "spect = spect.unsqueeze(dim=0)\n",
    "spect.shape"
   ]
  },
  {
   "cell_type": "code",
   "execution_count": 8,
   "id": "6608846a",
   "metadata": {},
   "outputs": [],
   "source": [
    "lengths = torch.tensor(spect.shape[-1], dtype=torch.int64)"
   ]
  },
  {
   "cell_type": "code",
   "execution_count": 9,
   "id": "0c1a55fc",
   "metadata": {},
   "outputs": [
    {
     "data": {
      "text/plain": [
       "tensor(137)"
      ]
     },
     "execution_count": 9,
     "metadata": {},
     "output_type": "execute_result"
    }
   ],
   "source": [
    "lengths"
   ]
  },
  {
   "cell_type": "code",
   "execution_count": 2,
   "id": "4929d31e",
   "metadata": {},
   "outputs": [
    {
     "name": "stderr",
     "output_type": "stream",
     "text": [
      "/home/ahmedb/.conda/envs/cent7/2020.11-py38/wav2letter/lib/python3.8/site-packages/torchmetrics/utilities/prints.py:36: UserWarning: Torchmetrics v0.9 introduced a new argument class property called `full_state_update` that has\n",
      "                not been set for this class (WordErrorRate). The property determines if `update` by\n",
      "                default needs access to the full metric state. If this is not the case, significant speedups can be\n",
      "                achieved and we recommend setting this to `False`.\n",
      "                We provide an checking function\n",
      "                `from torchmetrics.utilities import check_forward_no_full_state`\n",
      "                that can be used to check if the `full_state_update=True` (old and potential slower behaviour,\n",
      "                default for now) or if `full_state_update=False` can be used safely.\n",
      "                \n",
      "  warnings.warn(*args, **kwargs)\n",
      "/home/ahmedb/.conda/envs/cent7/2020.11-py38/wav2letter/lib/python3.8/site-packages/torchmetrics/utilities/prints.py:36: UserWarning: Torchmetrics v0.9 introduced a new argument class property called `full_state_update` that has\n",
      "                not been set for this class (CharErrorRate). The property determines if `update` by\n",
      "                default needs access to the full metric state. If this is not the case, significant speedups can be\n",
      "                achieved and we recommend setting this to `False`.\n",
      "                We provide an checking function\n",
      "                `from torchmetrics.utilities import check_forward_no_full_state`\n",
      "                that can be used to check if the `full_state_update=True` (old and potential slower behaviour,\n",
      "                default for now) or if `full_state_update=False` can be used safely.\n",
      "                \n",
      "  warnings.warn(*args, **kwargs)\n"
     ]
    }
   ],
   "source": [
    "checkpoint_path = '/depot/jgmakin/data/auditory_cortex/pretrained_weights/deepspeech2/librispeech_pretrained_v3.ckpt'\n",
    "model = DeepSpeech.load_from_checkpoint(checkpoint_path=checkpoint_path)"
   ]
  },
  {
   "attachments": {},
   "cell_type": "markdown",
   "id": "35d98a48",
   "metadata": {},
   "source": [
    "### getting started with DeepSpeech2"
   ]
  },
  {
   "cell_type": "code",
   "execution_count": null,
   "id": "8898ac90",
   "metadata": {},
   "outputs": [],
   "source": []
  },
  {
   "cell_type": "code",
   "execution_count": 2,
   "id": "8520d6df",
   "metadata": {},
   "outputs": [
    {
     "name": "stderr",
     "output_type": "stream",
     "text": [
      "/home/ahmedb/.conda/envs/cent7/2020.11-py38/wav2letter/lib/python3.8/site-packages/torchmetrics/utilities/prints.py:36: UserWarning: Torchmetrics v0.9 introduced a new argument class property called `full_state_update` that has\n",
      "                not been set for this class (WordErrorRate). The property determines if `update` by\n",
      "                default needs access to the full metric state. If this is not the case, significant speedups can be\n",
      "                achieved and we recommend setting this to `False`.\n",
      "                We provide an checking function\n",
      "                `from torchmetrics.utilities import check_forward_no_full_state`\n",
      "                that can be used to check if the `full_state_update=True` (old and potential slower behaviour,\n",
      "                default for now) or if `full_state_update=False` can be used safely.\n",
      "                \n",
      "  warnings.warn(*args, **kwargs)\n",
      "/home/ahmedb/.conda/envs/cent7/2020.11-py38/wav2letter/lib/python3.8/site-packages/torchmetrics/utilities/prints.py:36: UserWarning: Torchmetrics v0.9 introduced a new argument class property called `full_state_update` that has\n",
      "                not been set for this class (CharErrorRate). The property determines if `update` by\n",
      "                default needs access to the full metric state. If this is not the case, significant speedups can be\n",
      "                achieved and we recommend setting this to `False`.\n",
      "                We provide an checking function\n",
      "                `from torchmetrics.utilities import check_forward_no_full_state`\n",
      "                that can be used to check if the `full_state_update=True` (old and potential slower behaviour,\n",
      "                default for now) or if `full_state_update=False` can be used safely.\n",
      "                \n",
      "  warnings.warn(*args, **kwargs)\n"
     ]
    }
   ],
   "source": [
    "model = DeepSpeech.load_from_checkpoint(checkpoint_path=checkpoint_path)"
   ]
  },
  {
   "cell_type": "code",
   "execution_count": 4,
   "id": "4c226f9e",
   "metadata": {},
   "outputs": [
    {
     "data": {
      "text/plain": [
       "deepspeech_pytorch.model.DeepSpeech"
      ]
     },
     "execution_count": 4,
     "metadata": {},
     "output_type": "execute_result"
    }
   ],
   "source": [
    "type(model)"
   ]
  },
  {
   "cell_type": "code",
   "execution_count": 5,
   "id": "d16a1b05",
   "metadata": {},
   "outputs": [
    {
     "name": "stdout",
     "output_type": "stream",
     "text": [
      "DeepSpeech(\n",
      "  (conv): MaskConv(\n",
      "    (seq_module): Sequential(\n",
      "      (0): Conv2d(1, 32, kernel_size=(41, 11), stride=(2, 2), padding=(20, 5))\n",
      "      (1): BatchNorm2d(32, eps=1e-05, momentum=0.1, affine=True, track_running_stats=True)\n",
      "      (2): Hardtanh(min_val=0, max_val=20, inplace=True)\n",
      "      (3): Conv2d(32, 32, kernel_size=(21, 11), stride=(2, 1), padding=(10, 5))\n",
      "      (4): BatchNorm2d(32, eps=1e-05, momentum=0.1, affine=True, track_running_stats=True)\n",
      "      (5): Hardtanh(min_val=0, max_val=20, inplace=True)\n",
      "    )\n",
      "  )\n",
      "  (rnns): Sequential(\n",
      "    (0): BatchRNN(\n",
      "      (rnn): LSTM(1312, 1024, bidirectional=True)\n",
      "    )\n",
      "    (1): BatchRNN(\n",
      "      (batch_norm): SequenceWise (\n",
      "      BatchNorm1d(1024, eps=1e-05, momentum=0.1, affine=True, track_running_stats=True))\n",
      "      (rnn): LSTM(1024, 1024, bidirectional=True)\n",
      "    )\n",
      "    (2): BatchRNN(\n",
      "      (batch_norm): SequenceWise (\n",
      "      BatchNorm1d(1024, eps=1e-05, momentum=0.1, affine=True, track_running_stats=True))\n",
      "      (rnn): LSTM(1024, 1024, bidirectional=True)\n",
      "    )\n",
      "    (3): BatchRNN(\n",
      "      (batch_norm): SequenceWise (\n",
      "      BatchNorm1d(1024, eps=1e-05, momentum=0.1, affine=True, track_running_stats=True))\n",
      "      (rnn): LSTM(1024, 1024, bidirectional=True)\n",
      "    )\n",
      "    (4): BatchRNN(\n",
      "      (batch_norm): SequenceWise (\n",
      "      BatchNorm1d(1024, eps=1e-05, momentum=0.1, affine=True, track_running_stats=True))\n",
      "      (rnn): LSTM(1024, 1024, bidirectional=True)\n",
      "    )\n",
      "  )\n",
      "  (fc): Sequential(\n",
      "    (0): SequenceWise (\n",
      "    Sequential(\n",
      "      (0): BatchNorm1d(1024, eps=1e-05, momentum=0.1, affine=True, track_running_stats=True)\n",
      "      (1): Linear(in_features=1024, out_features=29, bias=False)\n",
      "    ))\n",
      "  )\n",
      "  (inference_softmax): InferenceBatchSoftmax()\n",
      "  (criterion): CTCLoss()\n",
      "  (wer): WordErrorRate()\n",
      "  (cer): CharErrorRate()\n",
      ")\n"
     ]
    }
   ],
   "source": [
    "print(model)"
   ]
  },
  {
   "cell_type": "code",
   "execution_count": 7,
   "id": "db8cc704",
   "metadata": {},
   "outputs": [
    {
     "data": {
      "text/plain": [
       "Hardtanh(min_val=0, max_val=20, inplace=True)"
      ]
     },
     "execution_count": 7,
     "metadata": {},
     "output_type": "execute_result"
    }
   ],
   "source": [
    "dict([*model.named_modules()])['conv.seq_module.2']"
   ]
  },
  {
   "cell_type": "code",
   "execution_count": 9,
   "id": "84d7f251",
   "metadata": {},
   "outputs": [
    {
     "data": {
      "text/plain": [
       "Sequential(\n",
       "  (0): BatchRNN(\n",
       "    (rnn): LSTM(1312, 1024, bidirectional=True)\n",
       "  )\n",
       "  (1): BatchRNN(\n",
       "    (batch_norm): SequenceWise (\n",
       "    BatchNorm1d(1024, eps=1e-05, momentum=0.1, affine=True, track_running_stats=True))\n",
       "    (rnn): LSTM(1024, 1024, bidirectional=True)\n",
       "  )\n",
       "  (2): BatchRNN(\n",
       "    (batch_norm): SequenceWise (\n",
       "    BatchNorm1d(1024, eps=1e-05, momentum=0.1, affine=True, track_running_stats=True))\n",
       "    (rnn): LSTM(1024, 1024, bidirectional=True)\n",
       "  )\n",
       "  (3): BatchRNN(\n",
       "    (batch_norm): SequenceWise (\n",
       "    BatchNorm1d(1024, eps=1e-05, momentum=0.1, affine=True, track_running_stats=True))\n",
       "    (rnn): LSTM(1024, 1024, bidirectional=True)\n",
       "  )\n",
       "  (4): BatchRNN(\n",
       "    (batch_norm): SequenceWise (\n",
       "    BatchNorm1d(1024, eps=1e-05, momentum=0.1, affine=True, track_running_stats=True))\n",
       "    (rnn): LSTM(1024, 1024, bidirectional=True)\n",
       "  )\n",
       ")"
      ]
     },
     "execution_count": 9,
     "metadata": {},
     "output_type": "execute_result"
    }
   ],
   "source": [
    "dict([*model.named_modules()])['rnns']"
   ]
  },
  {
   "cell_type": "code",
   "execution_count": null,
   "id": "c5a04575",
   "metadata": {},
   "outputs": [],
   "source": []
  }
 ],
 "metadata": {
  "kernelspec": {
   "display_name": "Python 3",
   "language": "python",
   "name": "python3"
  },
  "language_info": {
   "codemirror_mode": {
    "name": "ipython",
    "version": 3
   },
   "file_extension": ".py",
   "mimetype": "text/x-python",
   "name": "python",
   "nbconvert_exporter": "python",
   "pygments_lexer": "ipython3",
   "version": "3.8.5"
  }
 },
 "nbformat": 4,
 "nbformat_minor": 5
}
