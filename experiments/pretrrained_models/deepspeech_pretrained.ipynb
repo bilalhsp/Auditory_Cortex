{
 "cells": [
  {
   "cell_type": "code",
   "execution_count": 6,
   "id": "fa87cffa",
   "metadata": {},
   "outputs": [],
   "source": [
    "import logging\n",
    "logging.basicConfig(level=logging.WARNING)\n",
    "\n",
    "import os\n",
    "import torch\n",
    "\n",
    "import auditory_cortex.models as Reg\n",
    "from deepspeech_pytorch.model import DeepSpeech\n",
    "import deepspeech_pytorch.loader.data_loader as data_loader\n",
    "from deepspeech_pytorch.configs.train_config import SpectConfig\n",
    "\n",
    "import matplotlib.pylab as plt\n",
    "%matplotlib inline\n",
    "\n",
    "# checkpoint_path = '/depot/jgmakin/data/auditory_cortex/pretrained_weights/deepspeech2/librispeech_pretrained_v3.ckpt'"
   ]
  },
  {
   "cell_type": "code",
   "execution_count": 12,
   "id": "7fae1ed6",
   "metadata": {},
   "outputs": [
    {
     "name": "stdout",
     "output_type": "stream",
     "text": [
      "Loading Neural data for session: 180810 ... Done.\n",
      "Creating regression obj for: 'deepspeech2'\n"
     ]
    },
    {
     "name": "stderr",
     "output_type": "stream",
     "text": [
      "/home/ahmedb/.conda/envs/cent7/2020.11-py38/wav2letter/lib/python3.8/site-packages/torchmetrics/utilities/prints.py:36: UserWarning: Torchmetrics v0.9 introduced a new argument class property called `full_state_update` that has\n",
      "                not been set for this class (WordErrorRate). The property determines if `update` by\n",
      "                default needs access to the full metric state. If this is not the case, significant speedups can be\n",
      "                achieved and we recommend setting this to `False`.\n",
      "                We provide an checking function\n",
      "                `from torchmetrics.utilities import check_forward_no_full_state`\n",
      "                that can be used to check if the `full_state_update=True` (old and potential slower behaviour,\n",
      "                default for now) or if `full_state_update=False` can be used safely.\n",
      "                \n",
      "  warnings.warn(*args, **kwargs)\n",
      "/home/ahmedb/.conda/envs/cent7/2020.11-py38/wav2letter/lib/python3.8/site-packages/torchmetrics/utilities/prints.py:36: UserWarning: Torchmetrics v0.9 introduced a new argument class property called `full_state_update` that has\n",
      "                not been set for this class (CharErrorRate). The property determines if `update` by\n",
      "                default needs access to the full metric state. If this is not the case, significant speedups can be\n",
      "                achieved and we recommend setting this to `False`.\n",
      "                We provide an checking function\n",
      "                `from torchmetrics.utilities import check_forward_no_full_state`\n",
      "                that can be used to check if the `full_state_update=True` (old and potential slower behaviour,\n",
      "                default for now) or if `full_state_update=False` can be used safely.\n",
      "                \n",
      "  warnings.warn(*args, **kwargs)\n"
     ]
    }
   ],
   "source": [
    "model = 'deepspeech2'\n",
    "obj = Reg.Regression(model, load_features=False)\n",
    "\n",
    "sent = 12\n",
    "aud = obj.dataset.audio(sent=sent)"
   ]
  },
  {
   "cell_type": "code",
   "execution_count": 5,
   "id": "ddee3e26",
   "metadata": {},
   "outputs": [
    {
     "name": "stderr",
     "output_type": "stream",
     "text": [
      "/home/ahmedb/.conda/envs/cent7/2020.11-py38/wav2letter/lib/python3.8/site-packages/torchmetrics/utilities/prints.py:36: UserWarning: Torchmetrics v0.9 introduced a new argument class property called `full_state_update` that has\n",
      "                not been set for this class (WordErrorRate). The property determines if `update` by\n",
      "                default needs access to the full metric state. If this is not the case, significant speedups can be\n",
      "                achieved and we recommend setting this to `False`.\n",
      "                We provide an checking function\n",
      "                `from torchmetrics.utilities import check_forward_no_full_state`\n",
      "                that can be used to check if the `full_state_update=True` (old and potential slower behaviour,\n",
      "                default for now) or if `full_state_update=False` can be used safely.\n",
      "                \n",
      "  warnings.warn(*args, **kwargs)\n",
      "/home/ahmedb/.conda/envs/cent7/2020.11-py38/wav2letter/lib/python3.8/site-packages/torchmetrics/utilities/prints.py:36: UserWarning: Torchmetrics v0.9 introduced a new argument class property called `full_state_update` that has\n",
      "                not been set for this class (CharErrorRate). The property determines if `update` by\n",
      "                default needs access to the full metric state. If this is not the case, significant speedups can be\n",
      "                achieved and we recommend setting this to `False`.\n",
      "                We provide an checking function\n",
      "                `from torchmetrics.utilities import check_forward_no_full_state`\n",
      "                that can be used to check if the `full_state_update=True` (old and potential slower behaviour,\n",
      "                default for now) or if `full_state_update=False` can be used safely.\n",
      "                \n",
      "  warnings.warn(*args, **kwargs)\n"
     ]
    },
    {
     "name": "stdout",
     "output_type": "stream",
     "text": [
      "About to forward pass thru the network...\n",
      "Done with forward pass thru the network\n",
      "Do nothing, just print this...!\n"
     ]
    }
   ],
   "source": [
    "import os\n",
    "from auditory_cortex import pretrained_dir\n",
    "\n",
    "audio_config = SpectConfig()\n",
    "parser = data_loader.AudioParser(audio_config, normalize=True)\n",
    "spect = parser.compute_spectrogram(aud)\n",
    "\n",
    "spect = spect.unsqueeze(dim=0)\n",
    "spect = spect.unsqueeze(dim=0)\n",
    "\n",
    "\n",
    "\n",
    "checkpoint_path = os.path.join(pretrained_dir, 'deepspeech2', 'librispeech_pretrained_v3.ckpt')\n",
    "# checkpoint_path = '/depot/jgmakin/data/auditory_cortex/pretrained_weights/deepspeech2/librispeech_pretrained_v3.ckpt'\n",
    "model = DeepSpeech.load_from_checkpoint(checkpoint_path=checkpoint_path)\n",
    "\n",
    "print(\"About to forward pass thru the network...\")\n",
    "lengths = torch.tensor([spect.shape[-1]], dtype=torch.int64)\n",
    "out = model(spect, lengths)\n",
    "\n",
    "print(\"Done with forward pass thru the network\")\n",
    "\n",
    "print(\"Do nothing, just print this...!\")\n"
   ]
  },
  {
   "cell_type": "code",
   "execution_count": 7,
   "id": "45d78c39",
   "metadata": {},
   "outputs": [],
   "source": [
    "output, output_sizes, *_ = out\n",
    " "
   ]
  },
  {
   "cell_type": "code",
   "execution_count": 9,
   "id": "18ed0383",
   "metadata": {},
   "outputs": [],
   "source": [
    "decoded_output, _ = model.evaluation_decoder.decode(output, output_sizes)"
   ]
  },
  {
   "cell_type": "code",
   "execution_count": 10,
   "id": "d0ab37cc",
   "metadata": {},
   "outputs": [
    {
     "data": {
      "text/plain": [
       "[['HAVE YOU GOT ENOUGH BLANKETS']]"
      ]
     },
     "execution_count": 10,
     "metadata": {},
     "output_type": "execute_result"
    }
   ],
   "source": [
    "decoded_output"
   ]
  },
  {
   "cell_type": "code",
   "execution_count": 11,
   "id": "3909c262",
   "metadata": {},
   "outputs": [
    {
     "data": {
      "text/plain": [
       "torch.Size([1, 1, 161, 137])"
      ]
     },
     "execution_count": 11,
     "metadata": {},
     "output_type": "execute_result"
    }
   ],
   "source": [
    "spect.shape"
   ]
  },
  {
   "cell_type": "code",
   "execution_count": 3,
   "id": "3577ce9d",
   "metadata": {},
   "outputs": [],
   "source": [
    "import torch\n",
    "fs = 16000\n",
    "input_duration = 1000\n",
    "samples = int(fs*input_duration/1000)\n",
    "# if starting_sent == 0:\n",
    "inp = torch.randn(samples, dtype=torch.float32)"
   ]
  },
  {
   "cell_type": "code",
   "execution_count": 8,
   "id": "83b15c39",
   "metadata": {},
   "outputs": [],
   "source": [
    "audio_config = SpectConfig()\n",
    "parser = data_loader.AudioParser(audio_config, normalize=True)\n",
    "\n",
    "inp = parser.compute_spectrogram(inp.cpu().numpy())\n",
    "# inp = self.linear_model.model_extractor.extractor.get_spectrogram(inp)"
   ]
  },
  {
   "cell_type": "code",
   "execution_count": 9,
   "id": "4827c37c",
   "metadata": {},
   "outputs": [
    {
     "data": {
      "text/plain": [
       "torch.Size([161, 101])"
      ]
     },
     "execution_count": 9,
     "metadata": {},
     "output_type": "execute_result"
    }
   ],
   "source": [
    "inp.shape"
   ]
  },
  {
   "cell_type": "code",
   "execution_count": 10,
   "id": "4e877660",
   "metadata": {},
   "outputs": [],
   "source": [
    "inp = inp.unsqueeze(dim=0)"
   ]
  },
  {
   "cell_type": "code",
   "execution_count": 11,
   "id": "efcfaed3",
   "metadata": {},
   "outputs": [
    {
     "data": {
      "text/plain": [
       "torch.Size([1, 161, 101])"
      ]
     },
     "execution_count": 11,
     "metadata": {},
     "output_type": "execute_result"
    }
   ],
   "source": [
    "inp.shape\n"
   ]
  },
  {
   "cell_type": "code",
   "execution_count": 14,
   "id": "c68d007d",
   "metadata": {},
   "outputs": [
    {
     "data": {
      "text/plain": [
       "torch.float32"
      ]
     },
     "execution_count": 14,
     "metadata": {},
     "output_type": "execute_result"
    }
   ],
   "source": [
    "inp.dtype"
   ]
  },
  {
   "cell_type": "code",
   "execution_count": 16,
   "id": "ba0334f7",
   "metadata": {},
   "outputs": [
    {
     "name": "stdout",
     "output_type": "stream",
     "text": [
      "yes\n"
     ]
    }
   ],
   "source": [
    "if torch.is_tensor(inp):\n",
    "    print(\"yes\")"
   ]
  },
  {
   "cell_type": "code",
   "execution_count": null,
   "id": "93c926d8",
   "metadata": {},
   "outputs": [],
   "source": []
  },
  {
   "cell_type": "code",
   "execution_count": null,
   "id": "55be0a42",
   "metadata": {},
   "outputs": [],
   "source": []
  },
  {
   "cell_type": "code",
   "execution_count": 13,
   "id": "fdb0c998",
   "metadata": {},
   "outputs": [
    {
     "data": {
      "text/plain": [
       "(tensor([[[9.0870e-01, 1.2289e-04, 6.9568e-03,  ..., 9.8968e-03,\n",
       "           9.6794e-06, 1.4120e-03],\n",
       "          [9.5857e-01, 1.7078e-04, 1.9377e-02,  ..., 2.4727e-04,\n",
       "           9.9888e-07, 4.3476e-03],\n",
       "          [4.7632e-01, 3.9604e-05, 1.4867e-03,  ..., 1.7427e-02,\n",
       "           1.7883e-04, 2.6129e-04],\n",
       "          ...,\n",
       "          [4.7014e-01, 6.3436e-04, 7.8252e-03,  ..., 1.4521e-03,\n",
       "           1.7142e-03, 1.2729e-03],\n",
       "          [6.5977e-01, 1.3220e-03, 6.5780e-03,  ..., 2.4745e-03,\n",
       "           2.3362e-04, 2.3796e-04],\n",
       "          [3.7478e-01, 8.3427e-05, 1.8380e-03,  ..., 5.6806e-02,\n",
       "           2.5972e-04, 4.6081e-04]]], grad_fn=<SoftmaxBackward0>),\n",
       " tensor([51], dtype=torch.int32),\n",
       " [(tensor([[[-2.2471e-01, -3.3816e-03,  4.9470e-03,  ...,  4.0576e-03,\n",
       "              2.7737e-05, -2.2358e-04]],\n",
       "   \n",
       "           [[ 6.2965e-05,  7.6742e-03, -3.1706e-05,  ...,  2.7542e-01,\n",
       "             -1.3644e-02,  7.1212e-01]]], grad_fn=<StackBackward0>),\n",
       "   tensor([[[-1.7200e+00, -3.7584e-01,  3.1145e-02,  ...,  3.4861e-01,\n",
       "              1.1309e-03, -1.5147e-03]],\n",
       "   \n",
       "           [[ 2.2901e-04,  1.4930e-01, -1.0354e-02,  ...,  3.9947e-01,\n",
       "             -1.4987e-01,  1.1349e+00]]], grad_fn=<StackBackward0>)),\n",
       "  (tensor([[[ 1.7178e-01, -1.7981e-02,  3.3343e-01,  ...,  8.7166e-01,\n",
       "             -9.2912e-03,  4.9973e-01]],\n",
       "   \n",
       "           [[ 7.4466e-01,  8.6059e-02,  5.3537e-01,  ..., -5.9317e-01,\n",
       "              7.1341e-04,  9.2511e-01]]], grad_fn=<StackBackward0>),\n",
       "   tensor([[[ 6.9908e-01, -8.5636e-01,  3.4730e-01,  ...,  1.3961e+00,\n",
       "             -7.9609e+00,  6.8509e-01]],\n",
       "   \n",
       "           [[ 9.9490e-01,  6.6401e-01,  1.0046e+00,  ..., -6.8351e-01,\n",
       "              7.4413e-04,  3.4335e+00]]], grad_fn=<StackBackward0>)),\n",
       "  (tensor([[[-1.3690e-01, -1.1056e-01, -6.5670e-02,  ..., -7.0305e-04,\n",
       "              2.2909e-03,  3.2294e-01]],\n",
       "   \n",
       "           [[-2.3449e-04,  9.8758e-01,  7.5392e-01,  ..., -3.5955e-03,\n",
       "             -3.6850e-01,  7.8765e-01]]], grad_fn=<StackBackward0>),\n",
       "   tensor([[[-0.1518, -0.1229, -0.1054,  ..., -0.1906,  0.5056,  1.6324]],\n",
       "   \n",
       "           [[-0.0142,  2.5517,  1.0846,  ..., -0.0061, -0.9931,  2.7053]]],\n",
       "          grad_fn=<StackBackward0>)),\n",
       "  (tensor([[[-0.3808,  0.1890,  0.3118,  ...,  0.0661,  0.0696, -0.1228]],\n",
       "   \n",
       "           [[-0.0071,  0.1249,  0.0612,  ...,  0.8650, -0.5925, -0.0109]]],\n",
       "          grad_fn=<StackBackward0>),\n",
       "   tensor([[[-0.4114,  0.3149,  0.3808,  ...,  0.4769,  0.2217, -0.1495]],\n",
       "   \n",
       "           [[-0.1042,  1.3958,  0.1480,  ...,  1.3521, -1.5601, -0.8930]]],\n",
       "          grad_fn=<StackBackward0>)),\n",
       "  (tensor([[[-7.7402e-02, -5.9664e-02, -4.2877e-02,  ..., -2.2865e-03,\n",
       "             -1.2690e-02, -1.6857e-03]],\n",
       "   \n",
       "           [[ 1.6335e-01, -2.2670e-03, -2.1161e-02,  ..., -3.0600e-03,\n",
       "              5.3704e-02,  1.8487e-06]]], grad_fn=<StackBackward0>),\n",
       "   tensor([[[-1.8032e-01, -8.9940e-02, -4.9146e-02,  ..., -6.4547e-02,\n",
       "             -1.0750e-01, -1.0696e-02]],\n",
       "   \n",
       "           [[ 9.1391e-01, -1.3005e-02, -2.3418e-01,  ..., -1.7903e-02,\n",
       "              1.8669e-01,  4.9926e-04]]], grad_fn=<StackBackward0>))])"
      ]
     },
     "execution_count": 13,
     "metadata": {},
     "output_type": "execute_result"
    }
   ],
   "source": [
    "obj.model_extractor.translate(inp, grad=True)"
   ]
  },
  {
   "cell_type": "code",
   "execution_count": 13,
   "id": "6db89b7f",
   "metadata": {},
   "outputs": [],
   "source": [
    "from auditory_cortex.utils import SyntheticInputUtils\n",
    "\n",
    "spec = SyntheticInputUtils.get_spectrogram(aud)"
   ]
  },
  {
   "cell_type": "code",
   "execution_count": 22,
   "id": "b6a25aaa",
   "metadata": {},
   "outputs": [
    {
     "data": {
      "text/plain": [
       "<matplotlib.image.AxesImage at 0x2ae5408e5fd0>"
      ]
     },
     "execution_count": 22,
     "metadata": {},
     "output_type": "execute_result"
    },
    {
     "data": {
      "image/png": "[encoded data removed]",
      "text/plain": [
       "<Figure size 432x288 with 1 Axes>"
      ]
     },
     "metadata": {
      "needs_background": "light"
     },
     "output_type": "display_data"
    }
   ],
   "source": [
    "plt.imshow(spec.transpose(0,1), origin='lower')"
   ]
  },
  {
   "cell_type": "code",
   "execution_count": 26,
   "id": "0b547afd",
   "metadata": {},
   "outputs": [
    {
     "data": {
      "text/plain": [
       "<matplotlib.image.AxesImage at 0x2ae4746c72e0>"
      ]
     },
     "execution_count": 26,
     "metadata": {},
     "output_type": "execute_result"
    },
    {
     "data": {
      "image/png": "[encoded data removed]",
      "text/plain": [
       "<Figure size 432x288 with 1 Axes>"
      ]
     },
     "metadata": {
      "needs_background": "light"
     },
     "output_type": "display_data"
    }
   ],
   "source": [
    "plt.imshow(spect.squeeze(), origin='lower')"
   ]
  },
  {
   "cell_type": "code",
   "execution_count": 24,
   "id": "823a41e9",
   "metadata": {},
   "outputs": [
    {
     "data": {
      "text/plain": [
       "torch.Size([135, 80])"
      ]
     },
     "execution_count": 24,
     "metadata": {},
     "output_type": "execute_result"
    }
   ],
   "source": [
    "spec.shape"
   ]
  },
  {
   "cell_type": "code",
   "execution_count": 6,
   "id": "7ad4c8eb",
   "metadata": {},
   "outputs": [
    {
     "data": {
      "text/plain": [
       "1.369625"
      ]
     },
     "execution_count": 6,
     "metadata": {},
     "output_type": "execute_result"
    }
   ],
   "source": [
    "obj.dataset.duration(sent=sent)"
   ]
  },
  {
   "cell_type": "code",
   "execution_count": 7,
   "id": "cdeb5c22",
   "metadata": {},
   "outputs": [
    {
     "name": "stdout",
     "output_type": "stream",
     "text": [
      "(21914,)\n",
      "torch.Size([161, 137])\n"
     ]
    },
    {
     "name": "stderr",
     "output_type": "stream",
     "text": [
      "/home/ahmedb/.conda/envs/cent7/2020.11-py38/wav2letter/lib/python3.8/site-packages/torch/_tensor.py:575: UserWarning: floor_divide is deprecated, and will be removed in a future version of pytorch. It currently rounds toward 0 (like the 'trunc' function NOT 'floor'). This results in incorrect rounding for negative values.\n",
      "To keep the current behavior, use torch.div(a, b, rounding_mode='trunc'), or for actual floor division, use torch.div(a, b, rounding_mode='floor'). (Triggered internally at  /opt/conda/conda-bld/pytorch_1623448278899/work/aten/src/ATen/native/BinaryOps.cpp:467.)\n",
      "  return torch.floor_divide(self, other)\n"
     ]
    }
   ],
   "source": [
    "inp = obj.model_extractor.translate(aud)"
   ]
  },
  {
   "cell_type": "code",
   "execution_count": 21,
   "id": "f940f9af",
   "metadata": {},
   "outputs": [
    {
     "data": {
      "text/plain": [
       "torch.Size([69, 2048])"
      ]
     },
     "execution_count": 21,
     "metadata": {},
     "output_type": "execute_result"
    }
   ],
   "source": [
    "layer = 2\n",
    "feats0 = obj.model_extractor.get_features(layer)\n",
    "feats0.shape\n"
   ]
  },
  {
   "cell_type": "code",
   "execution_count": 13,
   "id": "9b10a237",
   "metadata": {},
   "outputs": [
    {
     "data": {
      "text/plain": [
       "torch.Size([69, 2592])"
      ]
     },
     "execution_count": 13,
     "metadata": {},
     "output_type": "execute_result"
    }
   ],
   "source": [
    "# feats0[1][0][0].shape\n",
    "feats0.shape"
   ]
  },
  {
   "cell_type": "code",
   "execution_count": 11,
   "id": "0de7ebbe",
   "metadata": {},
   "outputs": [
    {
     "data": {
      "text/plain": [
       "torch.Tensor"
      ]
     },
     "execution_count": 11,
     "metadata": {},
     "output_type": "execute_result"
    }
   ],
   "source": [
    "type(feats0[1][0])"
   ]
  },
  {
   "cell_type": "code",
   "execution_count": 21,
   "id": "dcd854f2",
   "metadata": {},
   "outputs": [
    {
     "data": {
      "text/plain": [
       "torch.Size([69, 1024])"
      ]
     },
     "execution_count": 21,
     "metadata": {},
     "output_type": "execute_result"
    }
   ],
   "source": [
    "feats0[0].data[:,1024:].shape"
   ]
  },
  {
   "cell_type": "code",
   "execution_count": 6,
   "id": "e4fa8b7e",
   "metadata": {},
   "outputs": [
    {
     "data": {
      "text/plain": [
       "torch.Size([69, 2048])"
      ]
     },
     "execution_count": 6,
     "metadata": {},
     "output_type": "execute_result"
    }
   ],
   "source": [
    "layer = 2\n",
    "feats0 = obj.model_extractor.get_features(layer)\n",
    "feats0.shape"
   ]
  },
  {
   "cell_type": "code",
   "execution_count": 20,
   "id": "d848fbb4",
   "metadata": {},
   "outputs": [
    {
     "data": {
      "text/plain": [
       "torch.Size([2592, 69])"
      ]
     },
     "execution_count": 20,
     "metadata": {},
     "output_type": "execute_result"
    }
   ],
   "source": [
    "feats0.reshape(feats0.shape[0]*feats0.shape[1], -1)"
   ]
  },
  {
   "cell_type": "code",
   "execution_count": 7,
   "id": "13f9a308",
   "metadata": {},
   "outputs": [
    {
     "data": {
      "text/plain": [
       "dict_keys(['conv.seq_module.2', 'conv.seq_module.5', 'rnns.0.rnn', 'rnns.1.rnn', 'rnns.2.rnn', 'rnns.3.rnn', 'rnns.4.rnn'])"
      ]
     },
     "execution_count": 7,
     "metadata": {},
     "output_type": "execute_result"
    }
   ],
   "source": [
    "obj.model_extractor.features.keys()"
   ]
  },
  {
   "cell_type": "code",
   "execution_count": 7,
   "id": "3043cefa",
   "metadata": {},
   "outputs": [],
   "source": [
    "feats0 = obj.model_extractor.get_features(0)"
   ]
  },
  {
   "cell_type": "code",
   "execution_count": 11,
   "id": "b46661c4",
   "metadata": {},
   "outputs": [
    {
     "data": {
      "text/plain": [
       "torch.Size([69, 2048])"
      ]
     },
     "execution_count": 11,
     "metadata": {},
     "output_type": "execute_result"
    }
   ],
   "source": [
    "feats0.data.shape"
   ]
  },
  {
   "cell_type": "code",
   "execution_count": 3,
   "id": "035189bb",
   "metadata": {},
   "outputs": [],
   "source": [
    "\n",
    "audio_config = SpectConfig()\n",
    "parser = data_loader.AudioParser(audio_config, normalize=True)\n",
    "spect = parser.compute_spectrogram(aud)"
   ]
  },
  {
   "cell_type": "code",
   "execution_count": 6,
   "id": "d314bdc1",
   "metadata": {},
   "outputs": [
    {
     "data": {
      "text/plain": [
       "torch.Size([1, 1, 161, 137])"
      ]
     },
     "execution_count": 6,
     "metadata": {},
     "output_type": "execute_result"
    }
   ],
   "source": [
    "spect = spect.unsqueeze(dim=0)\n",
    "spect = spect.unsqueeze(dim=0)\n",
    "spect.shape"
   ]
  },
  {
   "cell_type": "code",
   "execution_count": 8,
   "id": "6608846a",
   "metadata": {},
   "outputs": [],
   "source": [
    "lengths = torch.tensor(spect.shape[-1], dtype=torch.int64)"
   ]
  },
  {
   "cell_type": "code",
   "execution_count": 9,
   "id": "0c1a55fc",
   "metadata": {},
   "outputs": [
    {
     "data": {
      "text/plain": [
       "tensor(137)"
      ]
     },
     "execution_count": 9,
     "metadata": {},
     "output_type": "execute_result"
    }
   ],
   "source": [
    "lengths"
   ]
  },
  {
   "cell_type": "code",
   "execution_count": 2,
   "id": "4929d31e",
   "metadata": {},
   "outputs": [
    {
     "name": "stderr",
     "output_type": "stream",
     "text": [
      "/home/ahmedb/.conda/envs/cent7/2020.11-py38/wav2letter/lib/python3.8/site-packages/torchmetrics/utilities/prints.py:36: UserWarning: Torchmetrics v0.9 introduced a new argument class property called `full_state_update` that has\n",
      "                not been set for this class (WordErrorRate). The property determines if `update` by\n",
      "                default needs access to the full metric state. If this is not the case, significant speedups can be\n",
      "                achieved and we recommend setting this to `False`.\n",
      "                We provide an checking function\n",
      "                `from torchmetrics.utilities import check_forward_no_full_state`\n",
      "                that can be used to check if the `full_state_update=True` (old and potential slower behaviour,\n",
      "                default for now) or if `full_state_update=False` can be used safely.\n",
      "                \n",
      "  warnings.warn(*args, **kwargs)\n",
      "/home/ahmedb/.conda/envs/cent7/2020.11-py38/wav2letter/lib/python3.8/site-packages/torchmetrics/utilities/prints.py:36: UserWarning: Torchmetrics v0.9 introduced a new argument class property called `full_state_update` that has\n",
      "                not been set for this class (CharErrorRate). The property determines if `update` by\n",
      "                default needs access to the full metric state. If this is not the case, significant speedups can be\n",
      "                achieved and we recommend setting this to `False`.\n",
      "                We provide an checking function\n",
      "                `from torchmetrics.utilities import check_forward_no_full_state`\n",
      "                that can be used to check if the `full_state_update=True` (old and potential slower behaviour,\n",
      "                default for now) or if `full_state_update=False` can be used safely.\n",
      "                \n",
      "  warnings.warn(*args, **kwargs)\n"
     ]
    }
   ],
   "source": [
    "checkpoint_path = '/depot/jgmakin/data/auditory_cortex/pretrained_weights/deepspeech2/librispeech_pretrained_v3.ckpt'\n",
    "model = DeepSpeech.load_from_checkpoint(checkpoint_path=checkpoint_path)"
   ]
  },
  {
   "attachments": {},
   "cell_type": "markdown",
   "id": "35d98a48",
   "metadata": {},
   "source": [
    "### getting started with DeepSpeech2"
   ]
  },
  {
   "cell_type": "code",
   "execution_count": null,
   "id": "8898ac90",
   "metadata": {},
   "outputs": [],
   "source": []
  },
  {
   "cell_type": "code",
   "execution_count": 2,
   "id": "8520d6df",
   "metadata": {},
   "outputs": [
    {
     "name": "stderr",
     "output_type": "stream",
     "text": [
      "/home/ahmedb/.conda/envs/cent7/2020.11-py38/wav2letter/lib/python3.8/site-packages/torchmetrics/utilities/prints.py:36: UserWarning: Torchmetrics v0.9 introduced a new argument class property called `full_state_update` that has\n",
      "                not been set for this class (WordErrorRate). The property determines if `update` by\n",
      "                default needs access to the full metric state. If this is not the case, significant speedups can be\n",
      "                achieved and we recommend setting this to `False`.\n",
      "                We provide an checking function\n",
      "                `from torchmetrics.utilities import check_forward_no_full_state`\n",
      "                that can be used to check if the `full_state_update=True` (old and potential slower behaviour,\n",
      "                default for now) or if `full_state_update=False` can be used safely.\n",
      "                \n",
      "  warnings.warn(*args, **kwargs)\n",
      "/home/ahmedb/.conda/envs/cent7/2020.11-py38/wav2letter/lib/python3.8/site-packages/torchmetrics/utilities/prints.py:36: UserWarning: Torchmetrics v0.9 introduced a new argument class property called `full_state_update` that has\n",
      "                not been set for this class (CharErrorRate). The property determines if `update` by\n",
      "                default needs access to the full metric state. If this is not the case, significant speedups can be\n",
      "                achieved and we recommend setting this to `False`.\n",
      "                We provide an checking function\n",
      "                `from torchmetrics.utilities import check_forward_no_full_state`\n",
      "                that can be used to check if the `full_state_update=True` (old and potential slower behaviour,\n",
      "                default for now) or if `full_state_update=False` can be used safely.\n",
      "                \n",
      "  warnings.warn(*args, **kwargs)\n"
     ]
    }
   ],
   "source": [
    "model = DeepSpeech.load_from_checkpoint(checkpoint_path=checkpoint_path)"
   ]
  },
  {
   "cell_type": "code",
   "execution_count": 4,
   "id": "4c226f9e",
   "metadata": {},
   "outputs": [
    {
     "data": {
      "text/plain": [
       "deepspeech_pytorch.model.DeepSpeech"
      ]
     },
     "execution_count": 4,
     "metadata": {},
     "output_type": "execute_result"
    }
   ],
   "source": [
    "type(model)"
   ]
  },
  {
   "cell_type": "code",
   "execution_count": 5,
   "id": "d16a1b05",
   "metadata": {},
   "outputs": [
    {
     "name": "stdout",
     "output_type": "stream",
     "text": [
      "DeepSpeech(\n",
      "  (conv): MaskConv(\n",
      "    (seq_module): Sequential(\n",
      "      (0): Conv2d(1, 32, kernel_size=(41, 11), stride=(2, 2), padding=(20, 5))\n",
      "      (1): BatchNorm2d(32, eps=1e-05, momentum=0.1, affine=True, track_running_stats=True)\n",
      "      (2): Hardtanh(min_val=0, max_val=20, inplace=True)\n",
      "      (3): Conv2d(32, 32, kernel_size=(21, 11), stride=(2, 1), padding=(10, 5))\n",
      "      (4): BatchNorm2d(32, eps=1e-05, momentum=0.1, affine=True, track_running_stats=True)\n",
      "      (5): Hardtanh(min_val=0, max_val=20, inplace=True)\n",
      "    )\n",
      "  )\n",
      "  (rnns): Sequential(\n",
      "    (0): BatchRNN(\n",
      "      (rnn): LSTM(1312, 1024, bidirectional=True)\n",
      "    )\n",
      "    (1): BatchRNN(\n",
      "      (batch_norm): SequenceWise (\n",
      "      BatchNorm1d(1024, eps=1e-05, momentum=0.1, affine=True, track_running_stats=True))\n",
      "      (rnn): LSTM(1024, 1024, bidirectional=True)\n",
      "    )\n",
      "    (2): BatchRNN(\n",
      "      (batch_norm): SequenceWise (\n",
      "      BatchNorm1d(1024, eps=1e-05, momentum=0.1, affine=True, track_running_stats=True))\n",
      "      (rnn): LSTM(1024, 1024, bidirectional=True)\n",
      "    )\n",
      "    (3): BatchRNN(\n",
      "      (batch_norm): SequenceWise (\n",
      "      BatchNorm1d(1024, eps=1e-05, momentum=0.1, affine=True, track_running_stats=True))\n",
      "      (rnn): LSTM(1024, 1024, bidirectional=True)\n",
      "    )\n",
      "    (4): BatchRNN(\n",
      "      (batch_norm): SequenceWise (\n",
      "      BatchNorm1d(1024, eps=1e-05, momentum=0.1, affine=True, track_running_stats=True))\n",
      "      (rnn): LSTM(1024, 1024, bidirectional=True)\n",
      "    )\n",
      "  )\n",
      "  (fc): Sequential(\n",
      "    (0): SequenceWise (\n",
      "    Sequential(\n",
      "      (0): BatchNorm1d(1024, eps=1e-05, momentum=0.1, affine=True, track_running_stats=True)\n",
      "      (1): Linear(in_features=1024, out_features=29, bias=False)\n",
      "    ))\n",
      "  )\n",
      "  (inference_softmax): InferenceBatchSoftmax()\n",
      "  (criterion): CTCLoss()\n",
      "  (wer): WordErrorRate()\n",
      "  (cer): CharErrorRate()\n",
      ")\n"
     ]
    }
   ],
   "source": [
    "print(model)"
   ]
  },
  {
   "cell_type": "code",
   "execution_count": 7,
   "id": "db8cc704",
   "metadata": {},
   "outputs": [
    {
     "data": {
      "text/plain": [
       "Hardtanh(min_val=0, max_val=20, inplace=True)"
      ]
     },
     "execution_count": 7,
     "metadata": {},
     "output_type": "execute_result"
    }
   ],
   "source": [
    "dict([*model.named_modules()])['conv.seq_module.2']"
   ]
  },
  {
   "cell_type": "code",
   "execution_count": 9,
   "id": "84d7f251",
   "metadata": {},
   "outputs": [
    {
     "data": {
      "text/plain": [
       "Sequential(\n",
       "  (0): BatchRNN(\n",
       "    (rnn): LSTM(1312, 1024, bidirectional=True)\n",
       "  )\n",
       "  (1): BatchRNN(\n",
       "    (batch_norm): SequenceWise (\n",
       "    BatchNorm1d(1024, eps=1e-05, momentum=0.1, affine=True, track_running_stats=True))\n",
       "    (rnn): LSTM(1024, 1024, bidirectional=True)\n",
       "  )\n",
       "  (2): BatchRNN(\n",
       "    (batch_norm): SequenceWise (\n",
       "    BatchNorm1d(1024, eps=1e-05, momentum=0.1, affine=True, track_running_stats=True))\n",
       "    (rnn): LSTM(1024, 1024, bidirectional=True)\n",
       "  )\n",
       "  (3): BatchRNN(\n",
       "    (batch_norm): SequenceWise (\n",
       "    BatchNorm1d(1024, eps=1e-05, momentum=0.1, affine=True, track_running_stats=True))\n",
       "    (rnn): LSTM(1024, 1024, bidirectional=True)\n",
       "  )\n",
       "  (4): BatchRNN(\n",
       "    (batch_norm): SequenceWise (\n",
       "    BatchNorm1d(1024, eps=1e-05, momentum=0.1, affine=True, track_running_stats=True))\n",
       "    (rnn): LSTM(1024, 1024, bidirectional=True)\n",
       "  )\n",
       ")"
      ]
     },
     "execution_count": 9,
     "metadata": {},
     "output_type": "execute_result"
    }
   ],
   "source": [
    "dict([*model.named_modules()])['rnns']"
   ]
  },
  {
   "cell_type": "code",
   "execution_count": null,
   "id": "c5a04575",
   "metadata": {},
   "outputs": [],
   "source": []
  }
 ],
 "metadata": {
  "kernelspec": {
   "display_name": "Python 3",
   "language": "python",
   "name": "python3"
  },
  "language_info": {
   "codemirror_mode": {
    "name": "ipython",
    "version": 3
   },
   "file_extension": ".py",
   "mimetype": "text/x-python",
   "name": "python",
   "nbconvert_exporter": "python",
   "pygments_lexer": "ipython3",
   "version": "3.8.5"
  }
 },
 "nbformat": 4,
 "nbformat_minor": 5
}
