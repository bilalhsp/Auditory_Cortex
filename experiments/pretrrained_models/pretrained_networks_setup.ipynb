{
 "cells": [
  {
   "cell_type": "code",
   "execution_count": 1,
   "id": "a47b40d9",
   "metadata": {},
   "outputs": [],
   "source": [
    "import os\n",
    "import numpy as np\n",
    "import auditory_cortex.regression as Reg\n",
    "import auditory_cortex.helpers as helpers\n",
    "from transformers import Speech2TextForConditionalGeneration, Speech2TextProcessor"
   ]
  },
  {
   "attachments": {},
   "cell_type": "markdown",
   "id": "53a9183a",
   "metadata": {},
   "source": [
    "### Error testing part..can be removed afterwards...."
   ]
  },
  {
   "attachments": {},
   "cell_type": "markdown",
   "id": "b77d877f",
   "metadata": {},
   "source": [
    "### Starting pretrained networks study..."
   ]
  },
  {
   "cell_type": "code",
   "execution_count": 4,
   "id": "fd76ff6a",
   "metadata": {},
   "outputs": [
    {
     "name": "stdout",
     "output_type": "stream",
     "text": [
      "Loading Neural data for session: 180810 ... Done.\n",
      "Creating regression obj for: 'wave2letter_modified'\n",
      "Loading from checkpoint: /depot/jgmakin/data/auditory_cortex/pretrained_weights/w2l_modified/Wav2letter-epoch=024-val_loss=0.37.ckpt\n",
      "Loading ANN features at bin-width: 20\n",
      "Features Delay requested: \n",
      "                   - Delaying features by half of RF for each layer \n",
      "                   - Trimming spikes by max feature delay (across all layers) \n",
      "Layer-wise delays (in samples) will be: [ 0  0  0  0  1  2  3  4  7 10] \n"
     ]
    }
   ],
   "source": [
    "model = 'wave2letter_modified'\n",
    "obj = Reg.transformer_regression(model, load_features=True, delay_features=True)\n",
    "# obj.load_features(delay_features=True)\n",
    "# aud = obj.dataset.audio(sent=12)"
   ]
  },
  {
   "cell_type": "code",
   "execution_count": 5,
   "id": "13ddc754",
   "metadata": {},
   "outputs": [
    {
     "data": {
      "text/plain": [
       "(59, 250)"
      ]
     },
     "execution_count": 5,
     "metadata": {},
     "output_type": "execute_result"
    }
   ],
   "source": [
    "layer = 7\n",
    "sent = 12\n",
    "obj.sampled_features[layer][sent].shape"
   ]
  },
  {
   "cell_type": "code",
   "execution_count": 4,
   "id": "8cf14f0a",
   "metadata": {},
   "outputs": [
    {
     "name": "stdout",
     "output_type": "stream",
     "text": [
      "Loading Neural data for session: 200206 ... Done.\n"
     ]
    }
   ],
   "source": [
    "session = 200206\n",
    "spikes = obj.get_neural_spikes(session, sents=[12])"
   ]
  },
  {
   "cell_type": "code",
   "execution_count": 5,
   "id": "efab1e25",
   "metadata": {},
   "outputs": [
    {
     "data": {
      "text/plain": [
       "(53, 64)"
      ]
     },
     "execution_count": 5,
     "metadata": {},
     "output_type": "execute_result"
    }
   ],
   "source": [
    "spikes.shape"
   ]
  },
  {
   "cell_type": "code",
   "execution_count": 7,
   "id": "39f2171c",
   "metadata": {},
   "outputs": [
    {
     "data": {
      "text/plain": [
       "(66, 250)"
      ]
     },
     "execution_count": 7,
     "metadata": {},
     "output_type": "execute_result"
    }
   ],
   "source": [
    "tmp = obj.sampled_features[layer][sent]\n",
    "tmp.shape"
   ]
  },
  {
   "cell_type": "code",
   "execution_count": 9,
   "id": "a17db336",
   "metadata": {},
   "outputs": [],
   "source": [
    "delays = np.array([0, 0, 0, 0, 1, 2, 3, 4, 7, 10, 13])\n",
    "max_delay = np.max(delays)"
   ]
  },
  {
   "cell_type": "code",
   "execution_count": 12,
   "id": "3344b31f",
   "metadata": {},
   "outputs": [
    {
     "data": {
      "text/plain": [
       "(53, 250)"
      ]
     },
     "execution_count": 12,
     "metadata": {},
     "output_type": "execute_result"
    }
   ],
   "source": [
    "layer = 0\n",
    "s = tmp.shape[0]\n",
    "tmp[max_delay-delays[layer] : s-delays[layer]].shape"
   ]
  },
  {
   "cell_type": "code",
   "execution_count": 15,
   "id": "32897e10",
   "metadata": {},
   "outputs": [
    {
     "data": {
      "text/plain": [
       "(69, 250)"
      ]
     },
     "execution_count": 15,
     "metadata": {},
     "output_type": "execute_result"
    }
   ],
   "source": [
    "layer = 1\n",
    "sent = 12\n",
    "obj.sampled_features[layer][sent].shape"
   ]
  },
  {
   "cell_type": "code",
   "execution_count": 3,
   "id": "124b0e13",
   "metadata": {},
   "outputs": [],
   "source": [
    "# features = obj.unroll_features(sents=[12])"
   ]
  },
  {
   "cell_type": "code",
   "execution_count": 7,
   "id": "5ffd2dde",
   "metadata": {},
   "outputs": [
    {
     "data": {
      "text/plain": [
       "(12, 69, 250)"
      ]
     },
     "execution_count": 7,
     "metadata": {},
     "output_type": "execute_result"
    }
   ],
   "source": [
    "# features.shape"
   ]
  },
  {
   "cell_type": "code",
   "execution_count": 10,
   "id": "0cb9a10b",
   "metadata": {},
   "outputs": [],
   "source": [
    "a = np.array([1.0, 2.0, 3.9, 4.0])"
   ]
  },
  {
   "cell_type": "code",
   "execution_count": 11,
   "id": "ab042b00",
   "metadata": {},
   "outputs": [
    {
     "data": {
      "text/plain": [
       "array([1, 2, 3, 4])"
      ]
     },
     "execution_count": 11,
     "metadata": {},
     "output_type": "execute_result"
    }
   ],
   "source": [
    "a.astype(int)"
   ]
  },
  {
   "cell_type": "code",
   "execution_count": null,
   "id": "2d37b0bc",
   "metadata": {},
   "outputs": [],
   "source": []
  },
  {
   "cell_type": "code",
   "execution_count": 5,
   "id": "42c260a8",
   "metadata": {},
   "outputs": [
    {
     "name": "stdout",
     "output_type": "stream",
     "text": [
      "# of iterations requested: 5, \n",
      "# of lambda samples per iteration: 20\n",
      "Itr: 1:\n",
      "K_fold for session: 200206\n",
      "Itr: 2:\n",
      "K_fold for session: 200206\n"
     ]
    },
    {
     "ename": "KeyboardInterrupt",
     "evalue": "",
     "output_type": "error",
     "traceback": [
      "\u001b[0;31m---------------------------------------------------------------------------\u001b[0m",
      "\u001b[0;31mKeyboardInterrupt\u001b[0m                         Traceback (most recent call last)",
      "\u001b[1;32m/home/ahmedb/projects/Wav2Letter/Auditory_Cortex/experiments/pretrrained_models/pretrained_networks_setup.ipynb Cell 4\u001b[0m in \u001b[0;36m<cell line: 8>\u001b[0;34m()\u001b[0m\n\u001b[1;32m      <a href='vscode-notebook-cell://ssh-remote%2Bgilbreth-e3/home/ahmedb/projects/Wav2Letter/Auditory_Cortex/experiments/pretrrained_models/pretrained_networks_setup.ipynb#Y136sdnNjb2RlLXJlbW90ZQ%3D%3D?line=5'>6</a>\u001b[0m N_sents \u001b[39m=\u001b[39m \u001b[39m500\u001b[39m\n\u001b[1;32m      <a href='vscode-notebook-cell://ssh-remote%2Bgilbreth-e3/home/ahmedb/projects/Wav2Letter/Auditory_Cortex/experiments/pretrrained_models/pretrained_networks_setup.ipynb#Y136sdnNjb2RlLXJlbW90ZQ%3D%3D?line=6'>7</a>\u001b[0m use_cpu \u001b[39m=\u001b[39m \u001b[39mFalse\u001b[39;00m\n\u001b[0;32m----> <a href='vscode-notebook-cell://ssh-remote%2Bgilbreth-e3/home/ahmedb/projects/Wav2Letter/Auditory_Cortex/experiments/pretrrained_models/pretrained_networks_setup.ipynb#Y136sdnNjb2RlLXJlbW90ZQ%3D%3D?line=7'>8</a>\u001b[0m corr_dict \u001b[39m=\u001b[39m obj\u001b[39m.\u001b[39;49mcross_validated_regression(session, bin_width\u001b[39m=\u001b[39;49mbin_width, delay\u001b[39m=\u001b[39;49mdelay,\n\u001b[1;32m      <a href='vscode-notebook-cell://ssh-remote%2Bgilbreth-e3/home/ahmedb/projects/Wav2Letter/Auditory_Cortex/experiments/pretrrained_models/pretrained_networks_setup.ipynb#Y136sdnNjb2RlLXJlbW90ZQ%3D%3D?line=8'>9</a>\u001b[0m                             N\u001b[39m=\u001b[39;49miterations, k\u001b[39m=\u001b[39;49mk_folds_validation, N_sents\u001b[39m=\u001b[39;49mN_sents,\n\u001b[1;32m     <a href='vscode-notebook-cell://ssh-remote%2Bgilbreth-e3/home/ahmedb/projects/Wav2Letter/Auditory_Cortex/experiments/pretrrained_models/pretrained_networks_setup.ipynb#Y136sdnNjb2RlLXJlbW90ZQ%3D%3D?line=9'>10</a>\u001b[0m                             return_dict\u001b[39m=\u001b[39;49m\u001b[39mTrue\u001b[39;49;00m, numpy\u001b[39m=\u001b[39;49muse_cpu)\n",
      "File \u001b[0;32m~/projects/Wav2Letter/Auditory_Cortex/auditory_cortex/regression.py:538\u001b[0m, in \u001b[0;36mtransformer_regression.cross_validated_regression\u001b[0;34m(self, session, bin_width, delay, k, num_lmbdas, N, N_sents, return_dict, numpy, sents)\u001b[0m\n\u001b[1;32m    536\u001b[0m lmbda_loss \u001b[39m=\u001b[39m module\u001b[39m.\u001b[39mzeros(((\u001b[39mlen\u001b[39m(lmbdas), num_channels,\u001b[39m12\u001b[39m)))\n\u001b[1;32m    537\u001b[0m start_lmbda \u001b[39m=\u001b[39m time\u001b[39m.\u001b[39mtime()\n\u001b[0;32m--> 538\u001b[0m lmbda_loss \u001b[39m=\u001b[39m \u001b[39mself\u001b[39;49m\u001b[39m.\u001b[39;49mk_fold_CV(session, mapping_set\u001b[39m=\u001b[39;49mmapping_set, lmbdas\u001b[39m=\u001b[39;49mlmbdas, k\u001b[39m=\u001b[39;49mk)\n\u001b[1;32m    540\u001b[0m end_lmbda \u001b[39m=\u001b[39m time\u001b[39m.\u001b[39mtime()\n\u001b[1;32m    541\u001b[0m time_lmbda \u001b[39m+\u001b[39m\u001b[39m=\u001b[39m end_lmbda\u001b[39m-\u001b[39mstart_lmbda\n",
      "File \u001b[0;32m~/projects/Wav2Letter/Auditory_Cortex/auditory_cortex/regression.py:630\u001b[0m, in \u001b[0;36mtransformer_regression.k_fold_CV\u001b[0;34m(self, session, mapping_set, lmbdas, k, use_cpu)\u001b[0m\n\u001b[1;32m    625\u001b[0m val_y \u001b[39m=\u001b[39m \u001b[39mself\u001b[39m\u001b[39m.\u001b[39mget_neural_spikes(session, sents\u001b[39m=\u001b[39mval_set, numpy\u001b[39m=\u001b[39muse_cpu)\n\u001b[1;32m    627\u001b[0m \u001b[39m# train_y = self.unroll_spikes(sents=train_set, numpy=use_cpu)\u001b[39;00m\n\u001b[1;32m    628\u001b[0m \u001b[39m# val_y = self.unroll_spikes(sents=val_set, numpy=use_cpu)\u001b[39;00m\n\u001b[0;32m--> 630\u001b[0m Beta \u001b[39m=\u001b[39m utils\u001b[39m.\u001b[39;49mreg(train_x, train_y, lmbda)\n\u001b[1;32m    631\u001b[0m val_pred \u001b[39m=\u001b[39m utils\u001b[39m.\u001b[39mpredict(val_x, Beta)\n\u001b[1;32m    632\u001b[0m \u001b[39m# to be defined...\u001b[39;00m\n",
      "File \u001b[0;32m~/projects/Wav2Letter/Auditory_Cortex/auditory_cortex/utils.py:311\u001b[0m, in \u001b[0;36mreg\u001b[0;34m(X, y, lmbda)\u001b[0m\n\u001b[1;32m    309\u001b[0m a \u001b[39m=\u001b[39m module\u001b[39m.\u001b[39mmatmul(X_T, X) \u001b[39m+\u001b[39m m\u001b[39m*\u001b[39mlmbda\u001b[39m*\u001b[39mI\n\u001b[1;32m    310\u001b[0m b \u001b[39m=\u001b[39m module\u001b[39m.\u001b[39mmatmul(X_T, y)\n\u001b[0;32m--> 311\u001b[0m B \u001b[39m=\u001b[39m module\u001b[39m.\u001b[39;49mlinalg\u001b[39m.\u001b[39;49msolve(a,b)\n\u001b[1;32m    312\u001b[0m \u001b[39mreturn\u001b[39;00m B\u001b[39m.\u001b[39msqueeze()\n",
      "File \u001b[0;32m~/.conda/envs/cent7/2020.11-py38/wav2letter/lib/python3.8/site-packages/cupy/linalg/_solve.py:77\u001b[0m, in \u001b[0;36msolve\u001b[0;34m(a, b)\u001b[0m\n\u001b[1;32m     75\u001b[0m     \u001b[39m# prevent 'b' to be overwritten\u001b[39;00m\n\u001b[1;32m     76\u001b[0m     bi \u001b[39m=\u001b[39m b[index]\u001b[39m.\u001b[39mastype(dtype, copy\u001b[39m=\u001b[39m\u001b[39mTrue\u001b[39;00m, order\u001b[39m=\u001b[39m\u001b[39m'\u001b[39m\u001b[39mF\u001b[39m\u001b[39m'\u001b[39m)\n\u001b[0;32m---> 77\u001b[0m     cupyx\u001b[39m.\u001b[39;49mlapack\u001b[39m.\u001b[39;49mgesv(a[index], bi)\n\u001b[1;32m     78\u001b[0m     x[index] \u001b[39m=\u001b[39m bi\n\u001b[1;32m     79\u001b[0m \u001b[39mreturn\u001b[39;00m x\n",
      "File \u001b[0;32m~/.conda/envs/cent7/2020.11-py38/wav2letter/lib/python3.8/site-packages/cupyx/lapack.py:68\u001b[0m, in \u001b[0;36mgesv\u001b[0;34m(a, b)\u001b[0m\n\u001b[1;32m     66\u001b[0m dwork \u001b[39m=\u001b[39m _cupy\u001b[39m.\u001b[39mempty(lwork, dtype\u001b[39m=\u001b[39ma\u001b[39m.\u001b[39mdtype)\n\u001b[1;32m     67\u001b[0m \u001b[39m# LU factrization (A = L * U)\u001b[39;00m\n\u001b[0;32m---> 68\u001b[0m getrf(handle, n, n, a\u001b[39m.\u001b[39;49mdata\u001b[39m.\u001b[39;49mptr, n, dwork\u001b[39m.\u001b[39;49mdata\u001b[39m.\u001b[39;49mptr, dipiv\u001b[39m.\u001b[39;49mdata\u001b[39m.\u001b[39;49mptr,\n\u001b[1;32m     69\u001b[0m       dinfo\u001b[39m.\u001b[39;49mdata\u001b[39m.\u001b[39;49mptr)\n\u001b[1;32m     70\u001b[0m _cupy\u001b[39m.\u001b[39mlinalg\u001b[39m.\u001b[39m_util\u001b[39m.\u001b[39m_check_cusolver_dev_info_if_synchronization_allowed(\n\u001b[1;32m     71\u001b[0m     getrf, dinfo)\n\u001b[1;32m     72\u001b[0m \u001b[39m# Solves Ax = b\u001b[39;00m\n",
      "\u001b[0;31mKeyboardInterrupt\u001b[0m: "
     ]
    }
   ],
   "source": [
    "session = '200206'\n",
    "bin_width = 20\n",
    "delay = 0\n",
    "iterations = 5\n",
    "k_folds_validation = 5\n",
    "N_sents = 500\n",
    "use_cpu = False\n",
    "corr_dict = obj.cross_validated_regression(session, bin_width=bin_width, delay=delay,\n",
    "                            N=iterations, k=k_folds_validation, N_sents=N_sents,\n",
    "                            return_dict=True, numpy=use_cpu)"
   ]
  },
  {
   "cell_type": "code",
   "execution_count": 6,
   "id": "0479752f",
   "metadata": {},
   "outputs": [
    {
     "data": {
      "text/html": [
       "\n",
       "                <audio  controls=\"controls\" >\n",
       "                    <source src=\"data:audio/wav;base64,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\" type=\"audio/wav\" />\n",
       "                    Your browser does not support the audio element.\n",
       "                </audio>\n",
       "              "
      ],
      "text/plain": [
       "<IPython.lib.display.Audio object>"
      ]
     },
     "execution_count": 6,
     "metadata": {},
     "output_type": "execute_result"
    }
   ],
   "source": [
    "from IPython.display import Audio\n",
    "Audio(data=aud, rate=16000)"
   ]
  },
  {
   "attachments": {},
   "cell_type": "markdown",
   "id": "a66027fd",
   "metadata": {},
   "source": [
    "### introducing 'features_delay' for regression computations.."
   ]
  },
  {
   "cell_type": "code",
   "execution_count": null,
   "id": "b62b47d3",
   "metadata": {},
   "outputs": [],
   "source": []
  },
  {
   "attachments": {},
   "cell_type": "markdown",
   "id": "ab418b9e",
   "metadata": {},
   "source": [
    "### pretrained 'whisper'"
   ]
  },
  {
   "cell_type": "code",
   "execution_count": 2,
   "id": "643660b8",
   "metadata": {},
   "outputs": [
    {
     "data": {
      "application/vnd.jupyter.widget-view+json": {
       "model_id": "9e88dadb85b647be8e5c9a95b2c4a437",
       "version_major": 2,
       "version_minor": 0
      },
      "text/plain": [
       "Downloading (…)rocessor_config.json:   0%|          | 0.00/185k [00:00<?, ?B/s]"
      ]
     },
     "metadata": {},
     "output_type": "display_data"
    },
    {
     "data": {
      "application/vnd.jupyter.widget-view+json": {
       "model_id": "7a0ed50406d84f739316577d0f249220",
       "version_major": 2,
       "version_minor": 0
      },
      "text/plain": [
       "Downloading (…)okenizer_config.json:   0%|          | 0.00/844 [00:00<?, ?B/s]"
      ]
     },
     "metadata": {},
     "output_type": "display_data"
    },
    {
     "data": {
      "application/vnd.jupyter.widget-view+json": {
       "model_id": "ee6a9ba22442414cbbd6b3654ed93741",
       "version_major": 2,
       "version_minor": 0
      },
      "text/plain": [
       "Downloading (…)olve/main/vocab.json:   0%|          | 0.00/999k [00:00<?, ?B/s]"
      ]
     },
     "metadata": {},
     "output_type": "display_data"
    },
    {
     "data": {
      "application/vnd.jupyter.widget-view+json": {
       "model_id": "236426b0d7b845749074a5c3d88183b9",
       "version_major": 2,
       "version_minor": 0
      },
      "text/plain": [
       "Downloading (…)/main/tokenizer.json:   0%|          | 0.00/2.13M [00:00<?, ?B/s]"
      ]
     },
     "metadata": {},
     "output_type": "display_data"
    },
    {
     "data": {
      "application/vnd.jupyter.widget-view+json": {
       "model_id": "765cf365aa4e4472a1f1943014560ec9",
       "version_major": 2,
       "version_minor": 0
      },
      "text/plain": [
       "Downloading (…)olve/main/merges.txt:   0%|          | 0.00/456k [00:00<?, ?B/s]"
      ]
     },
     "metadata": {},
     "output_type": "display_data"
    },
    {
     "data": {
      "application/vnd.jupyter.widget-view+json": {
       "model_id": "826efa4ee1ff4afe8a28b0fe5a8a8111",
       "version_major": 2,
       "version_minor": 0
      },
      "text/plain": [
       "Downloading (…)main/normalizer.json:   0%|          | 0.00/52.7k [00:00<?, ?B/s]"
      ]
     },
     "metadata": {},
     "output_type": "display_data"
    },
    {
     "data": {
      "application/vnd.jupyter.widget-view+json": {
       "model_id": "f371e48a1efc4639a929ae5b325d9bd9",
       "version_major": 2,
       "version_minor": 0
      },
      "text/plain": [
       "Downloading (…)in/added_tokens.json:   0%|          | 0.00/2.08k [00:00<?, ?B/s]"
      ]
     },
     "metadata": {},
     "output_type": "display_data"
    },
    {
     "data": {
      "application/vnd.jupyter.widget-view+json": {
       "model_id": "f42825e718754720bbf822305647feef",
       "version_major": 2,
       "version_minor": 0
      },
      "text/plain": [
       "Downloading (…)cial_tokens_map.json:   0%|          | 0.00/1.72k [00:00<?, ?B/s]"
      ]
     },
     "metadata": {},
     "output_type": "display_data"
    },
    {
     "data": {
      "application/vnd.jupyter.widget-view+json": {
       "model_id": "6b6f4f95156b4c75b11b7bae165a6479",
       "version_major": 2,
       "version_minor": 0
      },
      "text/plain": [
       "Downloading (…)lve/main/config.json:   0%|          | 0.00/1.94k [00:00<?, ?B/s]"
      ]
     },
     "metadata": {},
     "output_type": "display_data"
    },
    {
     "data": {
      "application/vnd.jupyter.widget-view+json": {
       "model_id": "0df11653f0484312be49435447a60f02",
       "version_major": 2,
       "version_minor": 0
      },
      "text/plain": [
       "Downloading pytorch_model.bin:   0%|          | 0.00/151M [00:00<?, ?B/s]"
      ]
     },
     "metadata": {},
     "output_type": "display_data"
    },
    {
     "data": {
      "application/vnd.jupyter.widget-view+json": {
       "model_id": "4bafded7ebc8493abd569d6b6b221b9a",
       "version_major": 2,
       "version_minor": 0
      },
      "text/plain": [
       "Downloading (…)neration_config.json:   0%|          | 0.00/1.32k [00:00<?, ?B/s]"
      ]
     },
     "metadata": {},
     "output_type": "display_data"
    }
   ],
   "source": [
    "import torch\n",
    "from transformers import AutoProcessor, WhisperForConditionalGeneration\n",
    "# from datasets import load_dataset\n",
    "\n",
    "processor = AutoProcessor.from_pretrained(\"openai/whisper-tiny.en\")\n",
    "model = WhisperForConditionalGeneration.from_pretrained(\"openai/whisper-tiny.en\")"
   ]
  },
  {
   "cell_type": "code",
   "execution_count": 10,
   "id": "4f980b60",
   "metadata": {},
   "outputs": [
    {
     "data": {
      "text/plain": [
       "' He moistened his lips uneasily.'"
      ]
     },
     "execution_count": 10,
     "metadata": {},
     "output_type": "execute_result"
    }
   ],
   "source": [
    "aud = obj.dataset.audio(sent=32)\n",
    "inputs = processor(aud, return_tensors=\"pt\", sampling_rate=16000)\n",
    "input_features = inputs.input_features\n",
    "\n",
    "generated_ids = model.generate(inputs=input_features, max_new_tokens=400)\n",
    "\n",
    "transcription = processor.batch_decode(generated_ids, skip_special_tokens=True)[0]\n",
    "transcription\n"
   ]
  },
  {
   "attachments": {},
   "cell_type": "markdown",
   "id": "ed6f0006",
   "metadata": {},
   "source": [
    "#### Network and hidden layers.\n",
    "Whisper is transformer based network, with encoder having following architecture;\n",
    "- 02 convolution layers\n",
    "- 04 self attention layers  \n",
    "Decoder also has 04 layers of attention."
   ]
  },
  {
   "cell_type": "code",
   "execution_count": 28,
   "id": "0c8550ea",
   "metadata": {},
   "outputs": [
    {
     "data": {
      "text/plain": [
       "WhisperEncoder(\n",
       "  (conv1): Conv1d(80, 384, kernel_size=(3,), stride=(1,), padding=(1,))\n",
       "  (conv2): Conv1d(384, 384, kernel_size=(3,), stride=(2,), padding=(1,))\n",
       "  (embed_positions): Embedding(1500, 384)\n",
       "  (layers): ModuleList(\n",
       "    (0): WhisperEncoderLayer(\n",
       "      (self_attn): WhisperAttention(\n",
       "        (k_proj): Linear(in_features=384, out_features=384, bias=False)\n",
       "        (v_proj): Linear(in_features=384, out_features=384, bias=True)\n",
       "        (q_proj): Linear(in_features=384, out_features=384, bias=True)\n",
       "        (out_proj): Linear(in_features=384, out_features=384, bias=True)\n",
       "      )\n",
       "      (self_attn_layer_norm): LayerNorm((384,), eps=1e-05, elementwise_affine=True)\n",
       "      (activation_fn): GELUActivation()\n",
       "      (fc1): Linear(in_features=384, out_features=1536, bias=True)\n",
       "      (fc2): Linear(in_features=1536, out_features=384, bias=True)\n",
       "      (final_layer_norm): LayerNorm((384,), eps=1e-05, elementwise_affine=True)\n",
       "    )\n",
       "    (1): WhisperEncoderLayer(\n",
       "      (self_attn): WhisperAttention(\n",
       "        (k_proj): Linear(in_features=384, out_features=384, bias=False)\n",
       "        (v_proj): Linear(in_features=384, out_features=384, bias=True)\n",
       "        (q_proj): Linear(in_features=384, out_features=384, bias=True)\n",
       "        (out_proj): Linear(in_features=384, out_features=384, bias=True)\n",
       "      )\n",
       "      (self_attn_layer_norm): LayerNorm((384,), eps=1e-05, elementwise_affine=True)\n",
       "      (activation_fn): GELUActivation()\n",
       "      (fc1): Linear(in_features=384, out_features=1536, bias=True)\n",
       "      (fc2): Linear(in_features=1536, out_features=384, bias=True)\n",
       "      (final_layer_norm): LayerNorm((384,), eps=1e-05, elementwise_affine=True)\n",
       "    )\n",
       "    (2): WhisperEncoderLayer(\n",
       "      (self_attn): WhisperAttention(\n",
       "        (k_proj): Linear(in_features=384, out_features=384, bias=False)\n",
       "        (v_proj): Linear(in_features=384, out_features=384, bias=True)\n",
       "        (q_proj): Linear(in_features=384, out_features=384, bias=True)\n",
       "        (out_proj): Linear(in_features=384, out_features=384, bias=True)\n",
       "      )\n",
       "      (self_attn_layer_norm): LayerNorm((384,), eps=1e-05, elementwise_affine=True)\n",
       "      (activation_fn): GELUActivation()\n",
       "      (fc1): Linear(in_features=384, out_features=1536, bias=True)\n",
       "      (fc2): Linear(in_features=1536, out_features=384, bias=True)\n",
       "      (final_layer_norm): LayerNorm((384,), eps=1e-05, elementwise_affine=True)\n",
       "    )\n",
       "    (3): WhisperEncoderLayer(\n",
       "      (self_attn): WhisperAttention(\n",
       "        (k_proj): Linear(in_features=384, out_features=384, bias=False)\n",
       "        (v_proj): Linear(in_features=384, out_features=384, bias=True)\n",
       "        (q_proj): Linear(in_features=384, out_features=384, bias=True)\n",
       "        (out_proj): Linear(in_features=384, out_features=384, bias=True)\n",
       "      )\n",
       "      (self_attn_layer_norm): LayerNorm((384,), eps=1e-05, elementwise_affine=True)\n",
       "      (activation_fn): GELUActivation()\n",
       "      (fc1): Linear(in_features=384, out_features=1536, bias=True)\n",
       "      (fc2): Linear(in_features=1536, out_features=384, bias=True)\n",
       "      (final_layer_norm): LayerNorm((384,), eps=1e-05, elementwise_affine=True)\n",
       "    )\n",
       "  )\n",
       "  (layer_norm): LayerNorm((384,), eps=1e-05, elementwise_affine=True)\n",
       ")"
      ]
     },
     "execution_count": 28,
     "metadata": {},
     "output_type": "execute_result"
    }
   ],
   "source": [
    "dict([*model.named_modules()])['model.encoder']"
   ]
  },
  {
   "cell_type": "code",
   "execution_count": 27,
   "id": "0ccf3cd2",
   "metadata": {},
   "outputs": [
    {
     "data": {
      "text/plain": [
       "Conv1d(80, 384, kernel_size=(3,), stride=(1,), padding=(1,))"
      ]
     },
     "execution_count": 27,
     "metadata": {},
     "output_type": "execute_result"
    }
   ],
   "source": [
    "dict([*model.named_modules()])['model.encoder.conv1']\n"
   ]
  },
  {
   "cell_type": "code",
   "execution_count": 25,
   "id": "8219764b",
   "metadata": {},
   "outputs": [
    {
     "data": {
      "text/plain": [
       "LayerNorm((384,), eps=1e-05, elementwise_affine=True)"
      ]
     },
     "execution_count": 25,
     "metadata": {},
     "output_type": "execute_result"
    }
   ],
   "source": [
    "dict([*model.named_modules()])['model.encoder.layers.0.final_layer_norm']"
   ]
  },
  {
   "attachments": {},
   "cell_type": "markdown",
   "id": "e667babe",
   "metadata": {},
   "source": [
    "### pretrained 'speech2text'"
   ]
  },
  {
   "cell_type": "code",
   "execution_count": 8,
   "id": "de7fdc1d",
   "metadata": {},
   "outputs": [],
   "source": [
    "model = Speech2TextForConditionalGeneration.from_pretrained(\"facebook/s2t-large-librispeech-asr\")\n",
    "processor = Speech2TextProcessor.from_pretrained(\"facebook/s2t-large-librispeech-asr\")\n",
    "# model.encoder.layers.0.final_layer_norm"
   ]
  },
  {
   "cell_type": "code",
   "execution_count": 17,
   "id": "bff2a48e",
   "metadata": {},
   "outputs": [
    {
     "data": {
      "text/plain": [
       "Speech2TextModel(\n",
       "  (encoder): Speech2TextEncoder(\n",
       "    (conv): Conv1dSubsampler(\n",
       "      (conv_layers): ModuleList(\n",
       "        (0): Conv1d(80, 1024, kernel_size=(5,), stride=(2,), padding=(2,))\n",
       "        (1): Conv1d(512, 2048, kernel_size=(5,), stride=(2,), padding=(2,))\n",
       "      )\n",
       "    )\n",
       "    (embed_positions): Speech2TextSinusoidalPositionalEmbedding()\n",
       "    (layers): ModuleList(\n",
       "      (0): Speech2TextEncoderLayer(\n",
       "        (self_attn): Speech2TextAttention(\n",
       "          (k_proj): Linear(in_features=1024, out_features=1024, bias=True)\n",
       "          (v_proj): Linear(in_features=1024, out_features=1024, bias=True)\n",
       "          (q_proj): Linear(in_features=1024, out_features=1024, bias=True)\n",
       "          (out_proj): Linear(in_features=1024, out_features=1024, bias=True)\n",
       "        )\n",
       "        (self_attn_layer_norm): LayerNorm((1024,), eps=1e-05, elementwise_affine=True)\n",
       "        (activation_fn): ReLU()\n",
       "        (fc1): Linear(in_features=1024, out_features=4096, bias=True)\n",
       "        (fc2): Linear(in_features=4096, out_features=1024, bias=True)\n",
       "        (final_layer_norm): LayerNorm((1024,), eps=1e-05, elementwise_affine=True)\n",
       "      )\n",
       "      (1): Speech2TextEncoderLayer(\n",
       "        (self_attn): Speech2TextAttention(\n",
       "          (k_proj): Linear(in_features=1024, out_features=1024, bias=True)\n",
       "          (v_proj): Linear(in_features=1024, out_features=1024, bias=True)\n",
       "          (q_proj): Linear(in_features=1024, out_features=1024, bias=True)\n",
       "          (out_proj): Linear(in_features=1024, out_features=1024, bias=True)\n",
       "        )\n",
       "        (self_attn_layer_norm): LayerNorm((1024,), eps=1e-05, elementwise_affine=True)\n",
       "        (activation_fn): ReLU()\n",
       "        (fc1): Linear(in_features=1024, out_features=4096, bias=True)\n",
       "        (fc2): Linear(in_features=4096, out_features=1024, bias=True)\n",
       "        (final_layer_norm): LayerNorm((1024,), eps=1e-05, elementwise_affine=True)\n",
       "      )\n",
       "      (2): Speech2TextEncoderLayer(\n",
       "        (self_attn): Speech2TextAttention(\n",
       "          (k_proj): Linear(in_features=1024, out_features=1024, bias=True)\n",
       "          (v_proj): Linear(in_features=1024, out_features=1024, bias=True)\n",
       "          (q_proj): Linear(in_features=1024, out_features=1024, bias=True)\n",
       "          (out_proj): Linear(in_features=1024, out_features=1024, bias=True)\n",
       "        )\n",
       "        (self_attn_layer_norm): LayerNorm((1024,), eps=1e-05, elementwise_affine=True)\n",
       "        (activation_fn): ReLU()\n",
       "        (fc1): Linear(in_features=1024, out_features=4096, bias=True)\n",
       "        (fc2): Linear(in_features=4096, out_features=1024, bias=True)\n",
       "        (final_layer_norm): LayerNorm((1024,), eps=1e-05, elementwise_affine=True)\n",
       "      )\n",
       "      (3): Speech2TextEncoderLayer(\n",
       "        (self_attn): Speech2TextAttention(\n",
       "          (k_proj): Linear(in_features=1024, out_features=1024, bias=True)\n",
       "          (v_proj): Linear(in_features=1024, out_features=1024, bias=True)\n",
       "          (q_proj): Linear(in_features=1024, out_features=1024, bias=True)\n",
       "          (out_proj): Linear(in_features=1024, out_features=1024, bias=True)\n",
       "        )\n",
       "        (self_attn_layer_norm): LayerNorm((1024,), eps=1e-05, elementwise_affine=True)\n",
       "        (activation_fn): ReLU()\n",
       "        (fc1): Linear(in_features=1024, out_features=4096, bias=True)\n",
       "        (fc2): Linear(in_features=4096, out_features=1024, bias=True)\n",
       "        (final_layer_norm): LayerNorm((1024,), eps=1e-05, elementwise_affine=True)\n",
       "      )\n",
       "      (4): Speech2TextEncoderLayer(\n",
       "        (self_attn): Speech2TextAttention(\n",
       "          (k_proj): Linear(in_features=1024, out_features=1024, bias=True)\n",
       "          (v_proj): Linear(in_features=1024, out_features=1024, bias=True)\n",
       "          (q_proj): Linear(in_features=1024, out_features=1024, bias=True)\n",
       "          (out_proj): Linear(in_features=1024, out_features=1024, bias=True)\n",
       "        )\n",
       "        (self_attn_layer_norm): LayerNorm((1024,), eps=1e-05, elementwise_affine=True)\n",
       "        (activation_fn): ReLU()\n",
       "        (fc1): Linear(in_features=1024, out_features=4096, bias=True)\n",
       "        (fc2): Linear(in_features=4096, out_features=1024, bias=True)\n",
       "        (final_layer_norm): LayerNorm((1024,), eps=1e-05, elementwise_affine=True)\n",
       "      )\n",
       "      (5): Speech2TextEncoderLayer(\n",
       "        (self_attn): Speech2TextAttention(\n",
       "          (k_proj): Linear(in_features=1024, out_features=1024, bias=True)\n",
       "          (v_proj): Linear(in_features=1024, out_features=1024, bias=True)\n",
       "          (q_proj): Linear(in_features=1024, out_features=1024, bias=True)\n",
       "          (out_proj): Linear(in_features=1024, out_features=1024, bias=True)\n",
       "        )\n",
       "        (self_attn_layer_norm): LayerNorm((1024,), eps=1e-05, elementwise_affine=True)\n",
       "        (activation_fn): ReLU()\n",
       "        (fc1): Linear(in_features=1024, out_features=4096, bias=True)\n",
       "        (fc2): Linear(in_features=4096, out_features=1024, bias=True)\n",
       "        (final_layer_norm): LayerNorm((1024,), eps=1e-05, elementwise_affine=True)\n",
       "      )\n",
       "      (6): Speech2TextEncoderLayer(\n",
       "        (self_attn): Speech2TextAttention(\n",
       "          (k_proj): Linear(in_features=1024, out_features=1024, bias=True)\n",
       "          (v_proj): Linear(in_features=1024, out_features=1024, bias=True)\n",
       "          (q_proj): Linear(in_features=1024, out_features=1024, bias=True)\n",
       "          (out_proj): Linear(in_features=1024, out_features=1024, bias=True)\n",
       "        )\n",
       "        (self_attn_layer_norm): LayerNorm((1024,), eps=1e-05, elementwise_affine=True)\n",
       "        (activation_fn): ReLU()\n",
       "        (fc1): Linear(in_features=1024, out_features=4096, bias=True)\n",
       "        (fc2): Linear(in_features=4096, out_features=1024, bias=True)\n",
       "        (final_layer_norm): LayerNorm((1024,), eps=1e-05, elementwise_affine=True)\n",
       "      )\n",
       "      (7): Speech2TextEncoderLayer(\n",
       "        (self_attn): Speech2TextAttention(\n",
       "          (k_proj): Linear(in_features=1024, out_features=1024, bias=True)\n",
       "          (v_proj): Linear(in_features=1024, out_features=1024, bias=True)\n",
       "          (q_proj): Linear(in_features=1024, out_features=1024, bias=True)\n",
       "          (out_proj): Linear(in_features=1024, out_features=1024, bias=True)\n",
       "        )\n",
       "        (self_attn_layer_norm): LayerNorm((1024,), eps=1e-05, elementwise_affine=True)\n",
       "        (activation_fn): ReLU()\n",
       "        (fc1): Linear(in_features=1024, out_features=4096, bias=True)\n",
       "        (fc2): Linear(in_features=4096, out_features=1024, bias=True)\n",
       "        (final_layer_norm): LayerNorm((1024,), eps=1e-05, elementwise_affine=True)\n",
       "      )\n",
       "      (8): Speech2TextEncoderLayer(\n",
       "        (self_attn): Speech2TextAttention(\n",
       "          (k_proj): Linear(in_features=1024, out_features=1024, bias=True)\n",
       "          (v_proj): Linear(in_features=1024, out_features=1024, bias=True)\n",
       "          (q_proj): Linear(in_features=1024, out_features=1024, bias=True)\n",
       "          (out_proj): Linear(in_features=1024, out_features=1024, bias=True)\n",
       "        )\n",
       "        (self_attn_layer_norm): LayerNorm((1024,), eps=1e-05, elementwise_affine=True)\n",
       "        (activation_fn): ReLU()\n",
       "        (fc1): Linear(in_features=1024, out_features=4096, bias=True)\n",
       "        (fc2): Linear(in_features=4096, out_features=1024, bias=True)\n",
       "        (final_layer_norm): LayerNorm((1024,), eps=1e-05, elementwise_affine=True)\n",
       "      )\n",
       "      (9): Speech2TextEncoderLayer(\n",
       "        (self_attn): Speech2TextAttention(\n",
       "          (k_proj): Linear(in_features=1024, out_features=1024, bias=True)\n",
       "          (v_proj): Linear(in_features=1024, out_features=1024, bias=True)\n",
       "          (q_proj): Linear(in_features=1024, out_features=1024, bias=True)\n",
       "          (out_proj): Linear(in_features=1024, out_features=1024, bias=True)\n",
       "        )\n",
       "        (self_attn_layer_norm): LayerNorm((1024,), eps=1e-05, elementwise_affine=True)\n",
       "        (activation_fn): ReLU()\n",
       "        (fc1): Linear(in_features=1024, out_features=4096, bias=True)\n",
       "        (fc2): Linear(in_features=4096, out_features=1024, bias=True)\n",
       "        (final_layer_norm): LayerNorm((1024,), eps=1e-05, elementwise_affine=True)\n",
       "      )\n",
       "      (10): Speech2TextEncoderLayer(\n",
       "        (self_attn): Speech2TextAttention(\n",
       "          (k_proj): Linear(in_features=1024, out_features=1024, bias=True)\n",
       "          (v_proj): Linear(in_features=1024, out_features=1024, bias=True)\n",
       "          (q_proj): Linear(in_features=1024, out_features=1024, bias=True)\n",
       "          (out_proj): Linear(in_features=1024, out_features=1024, bias=True)\n",
       "        )\n",
       "        (self_attn_layer_norm): LayerNorm((1024,), eps=1e-05, elementwise_affine=True)\n",
       "        (activation_fn): ReLU()\n",
       "        (fc1): Linear(in_features=1024, out_features=4096, bias=True)\n",
       "        (fc2): Linear(in_features=4096, out_features=1024, bias=True)\n",
       "        (final_layer_norm): LayerNorm((1024,), eps=1e-05, elementwise_affine=True)\n",
       "      )\n",
       "      (11): Speech2TextEncoderLayer(\n",
       "        (self_attn): Speech2TextAttention(\n",
       "          (k_proj): Linear(in_features=1024, out_features=1024, bias=True)\n",
       "          (v_proj): Linear(in_features=1024, out_features=1024, bias=True)\n",
       "          (q_proj): Linear(in_features=1024, out_features=1024, bias=True)\n",
       "          (out_proj): Linear(in_features=1024, out_features=1024, bias=True)\n",
       "        )\n",
       "        (self_attn_layer_norm): LayerNorm((1024,), eps=1e-05, elementwise_affine=True)\n",
       "        (activation_fn): ReLU()\n",
       "        (fc1): Linear(in_features=1024, out_features=4096, bias=True)\n",
       "        (fc2): Linear(in_features=4096, out_features=1024, bias=True)\n",
       "        (final_layer_norm): LayerNorm((1024,), eps=1e-05, elementwise_affine=True)\n",
       "      )\n",
       "    )\n",
       "    (layer_norm): LayerNorm((1024,), eps=1e-05, elementwise_affine=True)\n",
       "  )\n",
       "  (decoder): Speech2TextDecoder(\n",
       "    (embed_tokens): Embedding(10000, 1024, padding_idx=1)\n",
       "    (embed_positions): Speech2TextSinusoidalPositionalEmbedding()\n",
       "    (layers): ModuleList(\n",
       "      (0): Speech2TextDecoderLayer(\n",
       "        (self_attn): Speech2TextAttention(\n",
       "          (k_proj): Linear(in_features=1024, out_features=1024, bias=True)\n",
       "          (v_proj): Linear(in_features=1024, out_features=1024, bias=True)\n",
       "          (q_proj): Linear(in_features=1024, out_features=1024, bias=True)\n",
       "          (out_proj): Linear(in_features=1024, out_features=1024, bias=True)\n",
       "        )\n",
       "        (activation_fn): ReLU()\n",
       "        (self_attn_layer_norm): LayerNorm((1024,), eps=1e-05, elementwise_affine=True)\n",
       "        (encoder_attn): Speech2TextAttention(\n",
       "          (k_proj): Linear(in_features=1024, out_features=1024, bias=True)\n",
       "          (v_proj): Linear(in_features=1024, out_features=1024, bias=True)\n",
       "          (q_proj): Linear(in_features=1024, out_features=1024, bias=True)\n",
       "          (out_proj): Linear(in_features=1024, out_features=1024, bias=True)\n",
       "        )\n",
       "        (encoder_attn_layer_norm): LayerNorm((1024,), eps=1e-05, elementwise_affine=True)\n",
       "        (fc1): Linear(in_features=1024, out_features=4096, bias=True)\n",
       "        (fc2): Linear(in_features=4096, out_features=1024, bias=True)\n",
       "        (final_layer_norm): LayerNorm((1024,), eps=1e-05, elementwise_affine=True)\n",
       "      )\n",
       "      (1): Speech2TextDecoderLayer(\n",
       "        (self_attn): Speech2TextAttention(\n",
       "          (k_proj): Linear(in_features=1024, out_features=1024, bias=True)\n",
       "          (v_proj): Linear(in_features=1024, out_features=1024, bias=True)\n",
       "          (q_proj): Linear(in_features=1024, out_features=1024, bias=True)\n",
       "          (out_proj): Linear(in_features=1024, out_features=1024, bias=True)\n",
       "        )\n",
       "        (activation_fn): ReLU()\n",
       "        (self_attn_layer_norm): LayerNorm((1024,), eps=1e-05, elementwise_affine=True)\n",
       "        (encoder_attn): Speech2TextAttention(\n",
       "          (k_proj): Linear(in_features=1024, out_features=1024, bias=True)\n",
       "          (v_proj): Linear(in_features=1024, out_features=1024, bias=True)\n",
       "          (q_proj): Linear(in_features=1024, out_features=1024, bias=True)\n",
       "          (out_proj): Linear(in_features=1024, out_features=1024, bias=True)\n",
       "        )\n",
       "        (encoder_attn_layer_norm): LayerNorm((1024,), eps=1e-05, elementwise_affine=True)\n",
       "        (fc1): Linear(in_features=1024, out_features=4096, bias=True)\n",
       "        (fc2): Linear(in_features=4096, out_features=1024, bias=True)\n",
       "        (final_layer_norm): LayerNorm((1024,), eps=1e-05, elementwise_affine=True)\n",
       "      )\n",
       "      (2): Speech2TextDecoderLayer(\n",
       "        (self_attn): Speech2TextAttention(\n",
       "          (k_proj): Linear(in_features=1024, out_features=1024, bias=True)\n",
       "          (v_proj): Linear(in_features=1024, out_features=1024, bias=True)\n",
       "          (q_proj): Linear(in_features=1024, out_features=1024, bias=True)\n",
       "          (out_proj): Linear(in_features=1024, out_features=1024, bias=True)\n",
       "        )\n",
       "        (activation_fn): ReLU()\n",
       "        (self_attn_layer_norm): LayerNorm((1024,), eps=1e-05, elementwise_affine=True)\n",
       "        (encoder_attn): Speech2TextAttention(\n",
       "          (k_proj): Linear(in_features=1024, out_features=1024, bias=True)\n",
       "          (v_proj): Linear(in_features=1024, out_features=1024, bias=True)\n",
       "          (q_proj): Linear(in_features=1024, out_features=1024, bias=True)\n",
       "          (out_proj): Linear(in_features=1024, out_features=1024, bias=True)\n",
       "        )\n",
       "        (encoder_attn_layer_norm): LayerNorm((1024,), eps=1e-05, elementwise_affine=True)\n",
       "        (fc1): Linear(in_features=1024, out_features=4096, bias=True)\n",
       "        (fc2): Linear(in_features=4096, out_features=1024, bias=True)\n",
       "        (final_layer_norm): LayerNorm((1024,), eps=1e-05, elementwise_affine=True)\n",
       "      )\n",
       "      (3): Speech2TextDecoderLayer(\n",
       "        (self_attn): Speech2TextAttention(\n",
       "          (k_proj): Linear(in_features=1024, out_features=1024, bias=True)\n",
       "          (v_proj): Linear(in_features=1024, out_features=1024, bias=True)\n",
       "          (q_proj): Linear(in_features=1024, out_features=1024, bias=True)\n",
       "          (out_proj): Linear(in_features=1024, out_features=1024, bias=True)\n",
       "        )\n",
       "        (activation_fn): ReLU()\n",
       "        (self_attn_layer_norm): LayerNorm((1024,), eps=1e-05, elementwise_affine=True)\n",
       "        (encoder_attn): Speech2TextAttention(\n",
       "          (k_proj): Linear(in_features=1024, out_features=1024, bias=True)\n",
       "          (v_proj): Linear(in_features=1024, out_features=1024, bias=True)\n",
       "          (q_proj): Linear(in_features=1024, out_features=1024, bias=True)\n",
       "          (out_proj): Linear(in_features=1024, out_features=1024, bias=True)\n",
       "        )\n",
       "        (encoder_attn_layer_norm): LayerNorm((1024,), eps=1e-05, elementwise_affine=True)\n",
       "        (fc1): Linear(in_features=1024, out_features=4096, bias=True)\n",
       "        (fc2): Linear(in_features=4096, out_features=1024, bias=True)\n",
       "        (final_layer_norm): LayerNorm((1024,), eps=1e-05, elementwise_affine=True)\n",
       "      )\n",
       "      (4): Speech2TextDecoderLayer(\n",
       "        (self_attn): Speech2TextAttention(\n",
       "          (k_proj): Linear(in_features=1024, out_features=1024, bias=True)\n",
       "          (v_proj): Linear(in_features=1024, out_features=1024, bias=True)\n",
       "          (q_proj): Linear(in_features=1024, out_features=1024, bias=True)\n",
       "          (out_proj): Linear(in_features=1024, out_features=1024, bias=True)\n",
       "        )\n",
       "        (activation_fn): ReLU()\n",
       "        (self_attn_layer_norm): LayerNorm((1024,), eps=1e-05, elementwise_affine=True)\n",
       "        (encoder_attn): Speech2TextAttention(\n",
       "          (k_proj): Linear(in_features=1024, out_features=1024, bias=True)\n",
       "          (v_proj): Linear(in_features=1024, out_features=1024, bias=True)\n",
       "          (q_proj): Linear(in_features=1024, out_features=1024, bias=True)\n",
       "          (out_proj): Linear(in_features=1024, out_features=1024, bias=True)\n",
       "        )\n",
       "        (encoder_attn_layer_norm): LayerNorm((1024,), eps=1e-05, elementwise_affine=True)\n",
       "        (fc1): Linear(in_features=1024, out_features=4096, bias=True)\n",
       "        (fc2): Linear(in_features=4096, out_features=1024, bias=True)\n",
       "        (final_layer_norm): LayerNorm((1024,), eps=1e-05, elementwise_affine=True)\n",
       "      )\n",
       "      (5): Speech2TextDecoderLayer(\n",
       "        (self_attn): Speech2TextAttention(\n",
       "          (k_proj): Linear(in_features=1024, out_features=1024, bias=True)\n",
       "          (v_proj): Linear(in_features=1024, out_features=1024, bias=True)\n",
       "          (q_proj): Linear(in_features=1024, out_features=1024, bias=True)\n",
       "          (out_proj): Linear(in_features=1024, out_features=1024, bias=True)\n",
       "        )\n",
       "        (activation_fn): ReLU()\n",
       "        (self_attn_layer_norm): LayerNorm((1024,), eps=1e-05, elementwise_affine=True)\n",
       "        (encoder_attn): Speech2TextAttention(\n",
       "          (k_proj): Linear(in_features=1024, out_features=1024, bias=True)\n",
       "          (v_proj): Linear(in_features=1024, out_features=1024, bias=True)\n",
       "          (q_proj): Linear(in_features=1024, out_features=1024, bias=True)\n",
       "          (out_proj): Linear(in_features=1024, out_features=1024, bias=True)\n",
       "        )\n",
       "        (encoder_attn_layer_norm): LayerNorm((1024,), eps=1e-05, elementwise_affine=True)\n",
       "        (fc1): Linear(in_features=1024, out_features=4096, bias=True)\n",
       "        (fc2): Linear(in_features=4096, out_features=1024, bias=True)\n",
       "        (final_layer_norm): LayerNorm((1024,), eps=1e-05, elementwise_affine=True)\n",
       "      )\n",
       "    )\n",
       "    (layer_norm): LayerNorm((1024,), eps=1e-05, elementwise_affine=True)\n",
       "  )\n",
       ")"
      ]
     },
     "execution_count": 17,
     "metadata": {},
     "output_type": "execute_result"
    }
   ],
   "source": [
    "dict([*model.named_modules()])['model']"
   ]
  },
  {
   "cell_type": "code",
   "execution_count": 9,
   "id": "7c5c9629",
   "metadata": {},
   "outputs": [
    {
     "data": {
      "text/plain": [
       "Conv1d(80, 1024, kernel_size=(5,), stride=(2,), padding=(2,))"
      ]
     },
     "execution_count": 9,
     "metadata": {},
     "output_type": "execute_result"
    }
   ],
   "source": [
    "dict([*model.named_modules()])['model.encoder.conv.conv_layers.0']"
   ]
  },
  {
   "cell_type": "code",
   "execution_count": 15,
   "id": "8b0cb3e3",
   "metadata": {},
   "outputs": [
    {
     "data": {
      "text/plain": [
       "LayerNorm((1024,), eps=1e-05, elementwise_affine=True)"
      ]
     },
     "execution_count": 15,
     "metadata": {},
     "output_type": "execute_result"
    }
   ],
   "source": [
    "dict([*model.named_modules()])['model.encoder.layers.0.final_layer_norm']\n",
    "# "
   ]
  },
  {
   "attachments": {},
   "cell_type": "markdown",
   "id": "b546997e",
   "metadata": {},
   "source": [
    "### pretrained 'wave2vec2'"
   ]
  },
  {
   "cell_type": "code",
   "execution_count": 8,
   "id": "3d7743d2",
   "metadata": {},
   "outputs": [],
   "source": [
    "audio = obj.dataset.audio(sent=12)"
   ]
  },
  {
   "cell_type": "code",
   "execution_count": 1,
   "id": "cd83a249",
   "metadata": {},
   "outputs": [
    {
     "name": "stderr",
     "output_type": "stream",
     "text": [
      "Some weights of Wav2Vec2ForCTC were not initialized from the model checkpoint at facebook/wav2vec2-base-960h and are newly initialized: ['wav2vec2.masked_spec_embed']\n",
      "You should probably TRAIN this model on a down-stream task to be able to use it for predictions and inference.\n"
     ]
    }
   ],
   "source": [
    "from transformers import Wav2Vec2Processor, Wav2Vec2Model, Wav2Vec2FeatureExtractor, Wav2Vec2ForCTC\n",
    "import torch\n",
    "\n",
    "# load model and tokenizer\n",
    "processor = Wav2Vec2Processor.from_pretrained(\"facebook/wav2vec2-base-960h\")\n",
    "# model = Wav2Vec2Model.from_pretrained(\"facebook/wav2vec2-base-960h\")\n",
    "model = Wav2Vec2ForCTC.from_pretrained(\"facebook/wav2vec2-base-960h\")\n",
    "\n",
    "feature_extractor = Wav2Vec2FeatureExtractor.from_pretrained(\"facebook/wav2vec2-base-960h\")\n",
    "\n",
    "# inputs = feature_extractor(audio, sampling_rate=16000, return_tensors=\"pt\").input_values\n",
    "# outputs = processor(inputs, output_hidden_states=True)\n",
    "\n"
   ]
  },
  {
   "cell_type": "code",
   "execution_count": 35,
   "id": "d8e06253",
   "metadata": {},
   "outputs": [
    {
     "data": {
      "text/plain": [
       "Wav2Vec2FeatureEncoder(\n",
       "  (conv_layers): ModuleList(\n",
       "    (0): Wav2Vec2GroupNormConvLayer(\n",
       "      (conv): Conv1d(1, 512, kernel_size=(10,), stride=(5,), bias=False)\n",
       "      (activation): GELUActivation()\n",
       "      (layer_norm): GroupNorm(512, 512, eps=1e-05, affine=True)\n",
       "    )\n",
       "    (1): Wav2Vec2NoLayerNormConvLayer(\n",
       "      (conv): Conv1d(512, 512, kernel_size=(3,), stride=(2,), bias=False)\n",
       "      (activation): GELUActivation()\n",
       "    )\n",
       "    (2): Wav2Vec2NoLayerNormConvLayer(\n",
       "      (conv): Conv1d(512, 512, kernel_size=(3,), stride=(2,), bias=False)\n",
       "      (activation): GELUActivation()\n",
       "    )\n",
       "    (3): Wav2Vec2NoLayerNormConvLayer(\n",
       "      (conv): Conv1d(512, 512, kernel_size=(3,), stride=(2,), bias=False)\n",
       "      (activation): GELUActivation()\n",
       "    )\n",
       "    (4): Wav2Vec2NoLayerNormConvLayer(\n",
       "      (conv): Conv1d(512, 512, kernel_size=(3,), stride=(2,), bias=False)\n",
       "      (activation): GELUActivation()\n",
       "    )\n",
       "    (5): Wav2Vec2NoLayerNormConvLayer(\n",
       "      (conv): Conv1d(512, 512, kernel_size=(2,), stride=(2,), bias=False)\n",
       "      (activation): GELUActivation()\n",
       "    )\n",
       "    (6): Wav2Vec2NoLayerNormConvLayer(\n",
       "      (conv): Conv1d(512, 512, kernel_size=(2,), stride=(2,), bias=False)\n",
       "      (activation): GELUActivation()\n",
       "    )\n",
       "  )\n",
       ")"
      ]
     },
     "execution_count": 35,
     "metadata": {},
     "output_type": "execute_result"
    }
   ],
   "source": [
    "conv_layer_index = 2\n",
    "model.base_model.feature_extractor"
   ]
  },
  {
   "cell_type": "code",
   "execution_count": 10,
   "id": "b0e9109e",
   "metadata": {},
   "outputs": [
    {
     "data": {
      "text/plain": [
       "GELUActivation()"
      ]
     },
     "execution_count": 10,
     "metadata": {},
     "output_type": "execute_result"
    }
   ],
   "source": [
    "dict([*model.named_modules()])['wav2vec2.feature_extractor.conv_layers.0.activation']"
   ]
  },
  {
   "cell_type": "code",
   "execution_count": 26,
   "id": "42f40c5d",
   "metadata": {},
   "outputs": [
    {
     "data": {
      "text/plain": [
       "Wav2Vec2FeatureEncoder(\n",
       "  (conv_layers): ModuleList(\n",
       "    (0): Wav2Vec2GroupNormConvLayer(\n",
       "      (conv): Conv1d(1, 512, kernel_size=(10,), stride=(5,), bias=False)\n",
       "      (activation): GELUActivation()\n",
       "      (layer_norm): GroupNorm(512, 512, eps=1e-05, affine=True)\n",
       "    )\n",
       "    (1): Wav2Vec2NoLayerNormConvLayer(\n",
       "      (conv): Conv1d(512, 512, kernel_size=(3,), stride=(2,), bias=False)\n",
       "      (activation): GELUActivation()\n",
       "    )\n",
       "    (2): Wav2Vec2NoLayerNormConvLayer(\n",
       "      (conv): Conv1d(512, 512, kernel_size=(3,), stride=(2,), bias=False)\n",
       "      (activation): GELUActivation()\n",
       "    )\n",
       "    (3): Wav2Vec2NoLayerNormConvLayer(\n",
       "      (conv): Conv1d(512, 512, kernel_size=(3,), stride=(2,), bias=False)\n",
       "      (activation): GELUActivation()\n",
       "    )\n",
       "    (4): Wav2Vec2NoLayerNormConvLayer(\n",
       "      (conv): Conv1d(512, 512, kernel_size=(3,), stride=(2,), bias=False)\n",
       "      (activation): GELUActivation()\n",
       "    )\n",
       "    (5): Wav2Vec2NoLayerNormConvLayer(\n",
       "      (conv): Conv1d(512, 512, kernel_size=(2,), stride=(2,), bias=False)\n",
       "      (activation): GELUActivation()\n",
       "    )\n",
       "    (6): Wav2Vec2NoLayerNormConvLayer(\n",
       "      (conv): Conv1d(512, 512, kernel_size=(2,), stride=(2,), bias=False)\n",
       "      (activation): GELUActivation()\n",
       "    )\n",
       "  )\n",
       ")"
      ]
     },
     "execution_count": 26,
     "metadata": {},
     "output_type": "execute_result"
    }
   ],
   "source": [
    "hidden_states"
   ]
  },
  {
   "cell_type": "code",
   "execution_count": 24,
   "id": "2ebb6ffd",
   "metadata": {},
   "outputs": [
    {
     "data": {
      "text/plain": [
       "(1, 21914)"
      ]
     },
     "execution_count": 24,
     "metadata": {},
     "output_type": "execute_result"
    }
   ],
   "source": [
    "outputs.input_values[0].shape"
   ]
  },
  {
   "cell_type": "code",
   "execution_count": 4,
   "id": "7a38c2b1",
   "metadata": {},
   "outputs": [
    {
     "ename": "FileNotFoundError",
     "evalue": "[Errno 2] No such file or directory: 'audio.wav'",
     "output_type": "error",
     "traceback": [
      "\u001b[0;31m---------------------------------------------------------------------------\u001b[0m",
      "\u001b[0;31mFileNotFoundError\u001b[0m                         Traceback (most recent call last)",
      "\u001b[1;32m/home/ahmedb/projects/Wav2Letter/Auditory_Cortex/experiments/pretrrained_models/pretrained_networks_setup.ipynb Cell 22\u001b[0m in \u001b[0;36m<cell line: 1>\u001b[0;34m()\u001b[0m\n\u001b[0;32m----> <a href='vscode-notebook-cell://ssh-remote%2Bgilbreth-b2/home/ahmedb/projects/Wav2Letter/Auditory_Cortex/experiments/pretrrained_models/pretrained_networks_setup.ipynb#X40sdnNjb2RlLXJlbW90ZQ%3D%3D?line=0'>1</a>\u001b[0m audio, sample_rate \u001b[39m=\u001b[39m torch\u001b[39m.\u001b[39;49mload(\u001b[39m'\u001b[39;49m\u001b[39maudio.wav\u001b[39;49m\u001b[39m'\u001b[39;49m)\n",
      "File \u001b[0;32m~/.conda/envs/cent7/2020.11-py38/wav2letter/lib/python3.8/site-packages/torch/serialization.py:594\u001b[0m, in \u001b[0;36mload\u001b[0;34m(f, map_location, pickle_module, **pickle_load_args)\u001b[0m\n\u001b[1;32m    591\u001b[0m \u001b[39mif\u001b[39;00m \u001b[39m'\u001b[39m\u001b[39mencoding\u001b[39m\u001b[39m'\u001b[39m \u001b[39mnot\u001b[39;00m \u001b[39min\u001b[39;00m pickle_load_args\u001b[39m.\u001b[39mkeys():\n\u001b[1;32m    592\u001b[0m     pickle_load_args[\u001b[39m'\u001b[39m\u001b[39mencoding\u001b[39m\u001b[39m'\u001b[39m] \u001b[39m=\u001b[39m \u001b[39m'\u001b[39m\u001b[39mutf-8\u001b[39m\u001b[39m'\u001b[39m\n\u001b[0;32m--> 594\u001b[0m \u001b[39mwith\u001b[39;00m _open_file_like(f, \u001b[39m'\u001b[39;49m\u001b[39mrb\u001b[39;49m\u001b[39m'\u001b[39;49m) \u001b[39mas\u001b[39;00m opened_file:\n\u001b[1;32m    595\u001b[0m     \u001b[39mif\u001b[39;00m _is_zipfile(opened_file):\n\u001b[1;32m    596\u001b[0m         \u001b[39m# The zipfile reader is going to advance the current file position.\u001b[39;00m\n\u001b[1;32m    597\u001b[0m         \u001b[39m# If we want to actually tail call to torch.jit.load, we need to\u001b[39;00m\n\u001b[1;32m    598\u001b[0m         \u001b[39m# reset back to the original position.\u001b[39;00m\n\u001b[1;32m    599\u001b[0m         orig_position \u001b[39m=\u001b[39m opened_file\u001b[39m.\u001b[39mtell()\n",
      "File \u001b[0;32m~/.conda/envs/cent7/2020.11-py38/wav2letter/lib/python3.8/site-packages/torch/serialization.py:230\u001b[0m, in \u001b[0;36m_open_file_like\u001b[0;34m(name_or_buffer, mode)\u001b[0m\n\u001b[1;32m    228\u001b[0m \u001b[39mdef\u001b[39;00m \u001b[39m_open_file_like\u001b[39m(name_or_buffer, mode):\n\u001b[1;32m    229\u001b[0m     \u001b[39mif\u001b[39;00m _is_path(name_or_buffer):\n\u001b[0;32m--> 230\u001b[0m         \u001b[39mreturn\u001b[39;00m _open_file(name_or_buffer, mode)\n\u001b[1;32m    231\u001b[0m     \u001b[39melse\u001b[39;00m:\n\u001b[1;32m    232\u001b[0m         \u001b[39mif\u001b[39;00m \u001b[39m'\u001b[39m\u001b[39mw\u001b[39m\u001b[39m'\u001b[39m \u001b[39min\u001b[39;00m mode:\n",
      "File \u001b[0;32m~/.conda/envs/cent7/2020.11-py38/wav2letter/lib/python3.8/site-packages/torch/serialization.py:211\u001b[0m, in \u001b[0;36m_open_file.__init__\u001b[0;34m(self, name, mode)\u001b[0m\n\u001b[1;32m    210\u001b[0m \u001b[39mdef\u001b[39;00m \u001b[39m__init__\u001b[39m(\u001b[39mself\u001b[39m, name, mode):\n\u001b[0;32m--> 211\u001b[0m     \u001b[39msuper\u001b[39m(_open_file, \u001b[39mself\u001b[39m)\u001b[39m.\u001b[39m\u001b[39m__init__\u001b[39m(\u001b[39mopen\u001b[39;49m(name, mode))\n",
      "\u001b[0;31mFileNotFoundError\u001b[0m: [Errno 2] No such file or directory: 'audio.wav'"
     ]
    }
   ],
   "source": [
    "audio, sample_rate = torch.load('audio.wav')"
   ]
  },
  {
   "cell_type": "code",
   "execution_count": 37,
   "id": "d925ceec",
   "metadata": {},
   "outputs": [
    {
     "data": {
      "text/plain": [
       "Wav2Vec2Model(\n",
       "  (feature_extractor): Wav2Vec2FeatureEncoder(\n",
       "    (conv_layers): ModuleList(\n",
       "      (0): Wav2Vec2GroupNormConvLayer(\n",
       "        (conv): Conv1d(1, 512, kernel_size=(10,), stride=(5,), bias=False)\n",
       "        (activation): GELUActivation()\n",
       "        (layer_norm): GroupNorm(512, 512, eps=1e-05, affine=True)\n",
       "      )\n",
       "      (1): Wav2Vec2NoLayerNormConvLayer(\n",
       "        (conv): Conv1d(512, 512, kernel_size=(3,), stride=(2,), bias=False)\n",
       "        (activation): GELUActivation()\n",
       "      )\n",
       "      (2): Wav2Vec2NoLayerNormConvLayer(\n",
       "        (conv): Conv1d(512, 512, kernel_size=(3,), stride=(2,), bias=False)\n",
       "        (activation): GELUActivation()\n",
       "      )\n",
       "      (3): Wav2Vec2NoLayerNormConvLayer(\n",
       "        (conv): Conv1d(512, 512, kernel_size=(3,), stride=(2,), bias=False)\n",
       "        (activation): GELUActivation()\n",
       "      )\n",
       "      (4): Wav2Vec2NoLayerNormConvLayer(\n",
       "        (conv): Conv1d(512, 512, kernel_size=(3,), stride=(2,), bias=False)\n",
       "        (activation): GELUActivation()\n",
       "      )\n",
       "      (5): Wav2Vec2NoLayerNormConvLayer(\n",
       "        (conv): Conv1d(512, 512, kernel_size=(2,), stride=(2,), bias=False)\n",
       "        (activation): GELUActivation()\n",
       "      )\n",
       "      (6): Wav2Vec2NoLayerNormConvLayer(\n",
       "        (conv): Conv1d(512, 512, kernel_size=(2,), stride=(2,), bias=False)\n",
       "        (activation): GELUActivation()\n",
       "      )\n",
       "    )\n",
       "  )\n",
       "  (feature_projection): Wav2Vec2FeatureProjection(\n",
       "    (layer_norm): LayerNorm((512,), eps=1e-05, elementwise_affine=True)\n",
       "    (projection): Linear(in_features=512, out_features=768, bias=True)\n",
       "    (dropout): Dropout(p=0.1, inplace=False)\n",
       "  )\n",
       "  (encoder): Wav2Vec2Encoder(\n",
       "    (pos_conv_embed): Wav2Vec2PositionalConvEmbedding(\n",
       "      (conv): Conv1d(768, 768, kernel_size=(128,), stride=(1,), padding=(64,), groups=16)\n",
       "      (padding): Wav2Vec2SamePadLayer()\n",
       "      (activation): GELUActivation()\n",
       "    )\n",
       "    (layer_norm): LayerNorm((768,), eps=1e-05, elementwise_affine=True)\n",
       "    (dropout): Dropout(p=0.1, inplace=False)\n",
       "    (layers): ModuleList(\n",
       "      (0): Wav2Vec2EncoderLayer(\n",
       "        (attention): Wav2Vec2Attention(\n",
       "          (k_proj): Linear(in_features=768, out_features=768, bias=True)\n",
       "          (v_proj): Linear(in_features=768, out_features=768, bias=True)\n",
       "          (q_proj): Linear(in_features=768, out_features=768, bias=True)\n",
       "          (out_proj): Linear(in_features=768, out_features=768, bias=True)\n",
       "        )\n",
       "        (dropout): Dropout(p=0.1, inplace=False)\n",
       "        (layer_norm): LayerNorm((768,), eps=1e-05, elementwise_affine=True)\n",
       "        (feed_forward): Wav2Vec2FeedForward(\n",
       "          (intermediate_dropout): Dropout(p=0.1, inplace=False)\n",
       "          (intermediate_dense): Linear(in_features=768, out_features=3072, bias=True)\n",
       "          (intermediate_act_fn): GELUActivation()\n",
       "          (output_dense): Linear(in_features=3072, out_features=768, bias=True)\n",
       "          (output_dropout): Dropout(p=0.1, inplace=False)\n",
       "        )\n",
       "        (final_layer_norm): LayerNorm((768,), eps=1e-05, elementwise_affine=True)\n",
       "      )\n",
       "      (1): Wav2Vec2EncoderLayer(\n",
       "        (attention): Wav2Vec2Attention(\n",
       "          (k_proj): Linear(in_features=768, out_features=768, bias=True)\n",
       "          (v_proj): Linear(in_features=768, out_features=768, bias=True)\n",
       "          (q_proj): Linear(in_features=768, out_features=768, bias=True)\n",
       "          (out_proj): Linear(in_features=768, out_features=768, bias=True)\n",
       "        )\n",
       "        (dropout): Dropout(p=0.1, inplace=False)\n",
       "        (layer_norm): LayerNorm((768,), eps=1e-05, elementwise_affine=True)\n",
       "        (feed_forward): Wav2Vec2FeedForward(\n",
       "          (intermediate_dropout): Dropout(p=0.1, inplace=False)\n",
       "          (intermediate_dense): Linear(in_features=768, out_features=3072, bias=True)\n",
       "          (intermediate_act_fn): GELUActivation()\n",
       "          (output_dense): Linear(in_features=3072, out_features=768, bias=True)\n",
       "          (output_dropout): Dropout(p=0.1, inplace=False)\n",
       "        )\n",
       "        (final_layer_norm): LayerNorm((768,), eps=1e-05, elementwise_affine=True)\n",
       "      )\n",
       "      (2): Wav2Vec2EncoderLayer(\n",
       "        (attention): Wav2Vec2Attention(\n",
       "          (k_proj): Linear(in_features=768, out_features=768, bias=True)\n",
       "          (v_proj): Linear(in_features=768, out_features=768, bias=True)\n",
       "          (q_proj): Linear(in_features=768, out_features=768, bias=True)\n",
       "          (out_proj): Linear(in_features=768, out_features=768, bias=True)\n",
       "        )\n",
       "        (dropout): Dropout(p=0.1, inplace=False)\n",
       "        (layer_norm): LayerNorm((768,), eps=1e-05, elementwise_affine=True)\n",
       "        (feed_forward): Wav2Vec2FeedForward(\n",
       "          (intermediate_dropout): Dropout(p=0.1, inplace=False)\n",
       "          (intermediate_dense): Linear(in_features=768, out_features=3072, bias=True)\n",
       "          (intermediate_act_fn): GELUActivation()\n",
       "          (output_dense): Linear(in_features=3072, out_features=768, bias=True)\n",
       "          (output_dropout): Dropout(p=0.1, inplace=False)\n",
       "        )\n",
       "        (final_layer_norm): LayerNorm((768,), eps=1e-05, elementwise_affine=True)\n",
       "      )\n",
       "      (3): Wav2Vec2EncoderLayer(\n",
       "        (attention): Wav2Vec2Attention(\n",
       "          (k_proj): Linear(in_features=768, out_features=768, bias=True)\n",
       "          (v_proj): Linear(in_features=768, out_features=768, bias=True)\n",
       "          (q_proj): Linear(in_features=768, out_features=768, bias=True)\n",
       "          (out_proj): Linear(in_features=768, out_features=768, bias=True)\n",
       "        )\n",
       "        (dropout): Dropout(p=0.1, inplace=False)\n",
       "        (layer_norm): LayerNorm((768,), eps=1e-05, elementwise_affine=True)\n",
       "        (feed_forward): Wav2Vec2FeedForward(\n",
       "          (intermediate_dropout): Dropout(p=0.1, inplace=False)\n",
       "          (intermediate_dense): Linear(in_features=768, out_features=3072, bias=True)\n",
       "          (intermediate_act_fn): GELUActivation()\n",
       "          (output_dense): Linear(in_features=3072, out_features=768, bias=True)\n",
       "          (output_dropout): Dropout(p=0.1, inplace=False)\n",
       "        )\n",
       "        (final_layer_norm): LayerNorm((768,), eps=1e-05, elementwise_affine=True)\n",
       "      )\n",
       "      (4): Wav2Vec2EncoderLayer(\n",
       "        (attention): Wav2Vec2Attention(\n",
       "          (k_proj): Linear(in_features=768, out_features=768, bias=True)\n",
       "          (v_proj): Linear(in_features=768, out_features=768, bias=True)\n",
       "          (q_proj): Linear(in_features=768, out_features=768, bias=True)\n",
       "          (out_proj): Linear(in_features=768, out_features=768, bias=True)\n",
       "        )\n",
       "        (dropout): Dropout(p=0.1, inplace=False)\n",
       "        (layer_norm): LayerNorm((768,), eps=1e-05, elementwise_affine=True)\n",
       "        (feed_forward): Wav2Vec2FeedForward(\n",
       "          (intermediate_dropout): Dropout(p=0.1, inplace=False)\n",
       "          (intermediate_dense): Linear(in_features=768, out_features=3072, bias=True)\n",
       "          (intermediate_act_fn): GELUActivation()\n",
       "          (output_dense): Linear(in_features=3072, out_features=768, bias=True)\n",
       "          (output_dropout): Dropout(p=0.1, inplace=False)\n",
       "        )\n",
       "        (final_layer_norm): LayerNorm((768,), eps=1e-05, elementwise_affine=True)\n",
       "      )\n",
       "      (5): Wav2Vec2EncoderLayer(\n",
       "        (attention): Wav2Vec2Attention(\n",
       "          (k_proj): Linear(in_features=768, out_features=768, bias=True)\n",
       "          (v_proj): Linear(in_features=768, out_features=768, bias=True)\n",
       "          (q_proj): Linear(in_features=768, out_features=768, bias=True)\n",
       "          (out_proj): Linear(in_features=768, out_features=768, bias=True)\n",
       "        )\n",
       "        (dropout): Dropout(p=0.1, inplace=False)\n",
       "        (layer_norm): LayerNorm((768,), eps=1e-05, elementwise_affine=True)\n",
       "        (feed_forward): Wav2Vec2FeedForward(\n",
       "          (intermediate_dropout): Dropout(p=0.1, inplace=False)\n",
       "          (intermediate_dense): Linear(in_features=768, out_features=3072, bias=True)\n",
       "          (intermediate_act_fn): GELUActivation()\n",
       "          (output_dense): Linear(in_features=3072, out_features=768, bias=True)\n",
       "          (output_dropout): Dropout(p=0.1, inplace=False)\n",
       "        )\n",
       "        (final_layer_norm): LayerNorm((768,), eps=1e-05, elementwise_affine=True)\n",
       "      )\n",
       "      (6): Wav2Vec2EncoderLayer(\n",
       "        (attention): Wav2Vec2Attention(\n",
       "          (k_proj): Linear(in_features=768, out_features=768, bias=True)\n",
       "          (v_proj): Linear(in_features=768, out_features=768, bias=True)\n",
       "          (q_proj): Linear(in_features=768, out_features=768, bias=True)\n",
       "          (out_proj): Linear(in_features=768, out_features=768, bias=True)\n",
       "        )\n",
       "        (dropout): Dropout(p=0.1, inplace=False)\n",
       "        (layer_norm): LayerNorm((768,), eps=1e-05, elementwise_affine=True)\n",
       "        (feed_forward): Wav2Vec2FeedForward(\n",
       "          (intermediate_dropout): Dropout(p=0.1, inplace=False)\n",
       "          (intermediate_dense): Linear(in_features=768, out_features=3072, bias=True)\n",
       "          (intermediate_act_fn): GELUActivation()\n",
       "          (output_dense): Linear(in_features=3072, out_features=768, bias=True)\n",
       "          (output_dropout): Dropout(p=0.1, inplace=False)\n",
       "        )\n",
       "        (final_layer_norm): LayerNorm((768,), eps=1e-05, elementwise_affine=True)\n",
       "      )\n",
       "      (7): Wav2Vec2EncoderLayer(\n",
       "        (attention): Wav2Vec2Attention(\n",
       "          (k_proj): Linear(in_features=768, out_features=768, bias=True)\n",
       "          (v_proj): Linear(in_features=768, out_features=768, bias=True)\n",
       "          (q_proj): Linear(in_features=768, out_features=768, bias=True)\n",
       "          (out_proj): Linear(in_features=768, out_features=768, bias=True)\n",
       "        )\n",
       "        (dropout): Dropout(p=0.1, inplace=False)\n",
       "        (layer_norm): LayerNorm((768,), eps=1e-05, elementwise_affine=True)\n",
       "        (feed_forward): Wav2Vec2FeedForward(\n",
       "          (intermediate_dropout): Dropout(p=0.1, inplace=False)\n",
       "          (intermediate_dense): Linear(in_features=768, out_features=3072, bias=True)\n",
       "          (intermediate_act_fn): GELUActivation()\n",
       "          (output_dense): Linear(in_features=3072, out_features=768, bias=True)\n",
       "          (output_dropout): Dropout(p=0.1, inplace=False)\n",
       "        )\n",
       "        (final_layer_norm): LayerNorm((768,), eps=1e-05, elementwise_affine=True)\n",
       "      )\n",
       "      (8): Wav2Vec2EncoderLayer(\n",
       "        (attention): Wav2Vec2Attention(\n",
       "          (k_proj): Linear(in_features=768, out_features=768, bias=True)\n",
       "          (v_proj): Linear(in_features=768, out_features=768, bias=True)\n",
       "          (q_proj): Linear(in_features=768, out_features=768, bias=True)\n",
       "          (out_proj): Linear(in_features=768, out_features=768, bias=True)\n",
       "        )\n",
       "        (dropout): Dropout(p=0.1, inplace=False)\n",
       "        (layer_norm): LayerNorm((768,), eps=1e-05, elementwise_affine=True)\n",
       "        (feed_forward): Wav2Vec2FeedForward(\n",
       "          (intermediate_dropout): Dropout(p=0.1, inplace=False)\n",
       "          (intermediate_dense): Linear(in_features=768, out_features=3072, bias=True)\n",
       "          (intermediate_act_fn): GELUActivation()\n",
       "          (output_dense): Linear(in_features=3072, out_features=768, bias=True)\n",
       "          (output_dropout): Dropout(p=0.1, inplace=False)\n",
       "        )\n",
       "        (final_layer_norm): LayerNorm((768,), eps=1e-05, elementwise_affine=True)\n",
       "      )\n",
       "      (9): Wav2Vec2EncoderLayer(\n",
       "        (attention): Wav2Vec2Attention(\n",
       "          (k_proj): Linear(in_features=768, out_features=768, bias=True)\n",
       "          (v_proj): Linear(in_features=768, out_features=768, bias=True)\n",
       "          (q_proj): Linear(in_features=768, out_features=768, bias=True)\n",
       "          (out_proj): Linear(in_features=768, out_features=768, bias=True)\n",
       "        )\n",
       "        (dropout): Dropout(p=0.1, inplace=False)\n",
       "        (layer_norm): LayerNorm((768,), eps=1e-05, elementwise_affine=True)\n",
       "        (feed_forward): Wav2Vec2FeedForward(\n",
       "          (intermediate_dropout): Dropout(p=0.1, inplace=False)\n",
       "          (intermediate_dense): Linear(in_features=768, out_features=3072, bias=True)\n",
       "          (intermediate_act_fn): GELUActivation()\n",
       "          (output_dense): Linear(in_features=3072, out_features=768, bias=True)\n",
       "          (output_dropout): Dropout(p=0.1, inplace=False)\n",
       "        )\n",
       "        (final_layer_norm): LayerNorm((768,), eps=1e-05, elementwise_affine=True)\n",
       "      )\n",
       "      (10): Wav2Vec2EncoderLayer(\n",
       "        (attention): Wav2Vec2Attention(\n",
       "          (k_proj): Linear(in_features=768, out_features=768, bias=True)\n",
       "          (v_proj): Linear(in_features=768, out_features=768, bias=True)\n",
       "          (q_proj): Linear(in_features=768, out_features=768, bias=True)\n",
       "          (out_proj): Linear(in_features=768, out_features=768, bias=True)\n",
       "        )\n",
       "        (dropout): Dropout(p=0.1, inplace=False)\n",
       "        (layer_norm): LayerNorm((768,), eps=1e-05, elementwise_affine=True)\n",
       "        (feed_forward): Wav2Vec2FeedForward(\n",
       "          (intermediate_dropout): Dropout(p=0.1, inplace=False)\n",
       "          (intermediate_dense): Linear(in_features=768, out_features=3072, bias=True)\n",
       "          (intermediate_act_fn): GELUActivation()\n",
       "          (output_dense): Linear(in_features=3072, out_features=768, bias=True)\n",
       "          (output_dropout): Dropout(p=0.1, inplace=False)\n",
       "        )\n",
       "        (final_layer_norm): LayerNorm((768,), eps=1e-05, elementwise_affine=True)\n",
       "      )\n",
       "      (11): Wav2Vec2EncoderLayer(\n",
       "        (attention): Wav2Vec2Attention(\n",
       "          (k_proj): Linear(in_features=768, out_features=768, bias=True)\n",
       "          (v_proj): Linear(in_features=768, out_features=768, bias=True)\n",
       "          (q_proj): Linear(in_features=768, out_features=768, bias=True)\n",
       "          (out_proj): Linear(in_features=768, out_features=768, bias=True)\n",
       "        )\n",
       "        (dropout): Dropout(p=0.1, inplace=False)\n",
       "        (layer_norm): LayerNorm((768,), eps=1e-05, elementwise_affine=True)\n",
       "        (feed_forward): Wav2Vec2FeedForward(\n",
       "          (intermediate_dropout): Dropout(p=0.1, inplace=False)\n",
       "          (intermediate_dense): Linear(in_features=768, out_features=3072, bias=True)\n",
       "          (intermediate_act_fn): GELUActivation()\n",
       "          (output_dense): Linear(in_features=3072, out_features=768, bias=True)\n",
       "          (output_dropout): Dropout(p=0.1, inplace=False)\n",
       "        )\n",
       "        (final_layer_norm): LayerNorm((768,), eps=1e-05, elementwise_affine=True)\n",
       "      )\n",
       "    )\n",
       "  )\n",
       ")"
      ]
     },
     "execution_count": 37,
     "metadata": {},
     "output_type": "execute_result"
    }
   ],
   "source": [
    "# modules['wav2vec2.encoder.layers.0.final_layer_norm'] #'wav2vec2.feature_extractor.conv_layers.0.conv']\n",
    "# dict([*model.named_modules()])['wav2vec2.encoder.conv.conv_layers.0']\n",
    "dict([*model.named_modules()])['wav2vec2']"
   ]
  },
  {
   "cell_type": "code",
   "execution_count": 3,
   "id": "68f2411d",
   "metadata": {},
   "outputs": [
    {
     "data": {
      "text/plain": [
       "LayerNorm((768,), eps=1e-05, elementwise_affine=True)"
      ]
     },
     "execution_count": 3,
     "metadata": {},
     "output_type": "execute_result"
    }
   ],
   "source": [
    "dict([*model.named_modules()])['wav2vec2.encoder.layer_norm']"
   ]
  },
  {
   "attachments": {},
   "cell_type": "markdown",
   "id": "2f838418",
   "metadata": {},
   "source": [
    "### rest of the code"
   ]
  },
  {
   "cell_type": "code",
   "execution_count": 2,
   "id": "66acfb08",
   "metadata": {},
   "outputs": [
    {
     "name": "stdout",
     "output_type": "stream",
     "text": [
      "Creating regression obj for: 'wave2letter_modified'\n",
      "Loading model features now...!\n",
      "Loading ANN features at bin-width: 20\n"
     ]
    }
   ],
   "source": [
    "obj = Reg.transformer_regression('wave2letter_modified', load_features=True)"
   ]
  },
  {
   "cell_type": "code",
   "execution_count": 10,
   "id": "3b753f7a",
   "metadata": {},
   "outputs": [],
   "source": [
    "results_dir = '/depot/jgmakin/data/auditory_cortex/correlation_results'\n",
    "sub_dir = 'cross_validated_correlations'"
   ]
  },
  {
   "cell_type": "code",
   "execution_count": 11,
   "id": "5155364c",
   "metadata": {},
   "outputs": [],
   "source": [
    "path = os.path.join(results_dir, sub_dir)"
   ]
  },
  {
   "cell_type": "code",
   "execution_count": 15,
   "id": "e3977326",
   "metadata": {},
   "outputs": [],
   "source": [
    "if not os.path.exists(path):\n",
    "    print(\"Path does not exist\")"
   ]
  },
  {
   "cell_type": "code",
   "execution_count": 14,
   "id": "0f73ae5f",
   "metadata": {},
   "outputs": [
    {
     "data": {
      "text/plain": [
       "True"
      ]
     },
     "execution_count": 14,
     "metadata": {},
     "output_type": "execute_result"
    }
   ],
   "source": [
    "os.path.exists(path)"
   ]
  },
  {
   "cell_type": "code",
   "execution_count": 16,
   "id": "794fb3a7",
   "metadata": {},
   "outputs": [],
   "source": [
    "results_dir = '/depot/jgmakin/data/auditory_cortex/correlation_results'\n",
    "sub_dir = 'optimal_inputs'\n",
    "model = 'wave2vec2'"
   ]
  },
  {
   "cell_type": "code",
   "execution_count": 21,
   "id": "e55c50cf",
   "metadata": {},
   "outputs": [
    {
     "name": "stdout",
     "output_type": "stream",
     "text": [
      "Path already exists...!\n"
     ]
    }
   ],
   "source": [
    "path = os.path.join(results_dir, sub_dir, model)\n",
    "if not os.path.exists(path):\n",
    "    print(\"Creating directory....\")\n",
    "    os.makedirs(path)\n",
    "    print(f\"Created: {path}\")\n",
    "else:\n",
    "    print(\"Path already exists...!\")"
   ]
  },
  {
   "cell_type": "code",
   "execution_count": 50,
   "id": "178e3027",
   "metadata": {},
   "outputs": [],
   "source": [
    "layer = 6\n",
    "ch = 32\n",
    "model = 'wave2vec2'\n",
    "session = '200206'\n",
    "sent = 00\n",
    "filename = f\"opt_input_{model}_{session}_{layer:02d}_{ch}_starting_{sent:03d}.jpg\""
   ]
  },
  {
   "cell_type": "code",
   "execution_count": 51,
   "id": "47325b85",
   "metadata": {},
   "outputs": [
    {
     "data": {
      "text/plain": [
       "'opt_input_wave2vec2_200206_06_32_starting_000.jpg'"
      ]
     },
     "execution_count": 51,
     "metadata": {},
     "output_type": "execute_result"
    }
   ],
   "source": [
    "filename"
   ]
  },
  {
   "cell_type": "code",
   "execution_count": 52,
   "id": "4ad87fe5",
   "metadata": {},
   "outputs": [
    {
     "data": {
      "text/plain": [
       "0"
      ]
     },
     "execution_count": 52,
     "metadata": {},
     "output_type": "execute_result"
    }
   ],
   "source": [
    "ind = filename.rfind('.jpg')\n",
    "int(filename[ind-3:ind])"
   ]
  },
  {
   "cell_type": "code",
   "execution_count": 29,
   "id": "b861aa08",
   "metadata": {},
   "outputs": [
    {
     "data": {
      "text/plain": [
       "'opt_input_wave2vec2_200206_06_32_starting_random.jpg'"
      ]
     },
     "execution_count": 29,
     "metadata": {},
     "output_type": "execute_result"
    }
   ],
   "source": [
    "layer_channels_done = []\n",
    "filenames = os.listdir(path)\n",
    "for filename in filenames:\n",
    "    ind = filename.rfind('.jpg')\n",
    "    starting_sent = int(filename[ind-3:ind])\n",
    "    if starting_sent == sent:    \n",
    "        ind = filename.rfind('_starting_')\n",
    "        layer_channels_done.append(filename[ind-5:ind])\n",
    "\n",
    "if f'{layer:02d}_{ch:02d}' not in layer_channels_done or force_redo:\n",
    "    \n",
    "\n"
   ]
  },
  {
   "cell_type": "code",
   "execution_count": 33,
   "id": "0ba53612",
   "metadata": {},
   "outputs": [
    {
     "data": {
      "text/plain": [
       "32"
      ]
     },
     "execution_count": 33,
     "metadata": {},
     "output_type": "execute_result"
    }
   ],
   "source": [
    "ind = filename.rfind('_starting_')\n",
    "ind"
   ]
  },
  {
   "cell_type": "code",
   "execution_count": 44,
   "id": "9b698ef2",
   "metadata": {},
   "outputs": [
    {
     "data": {
      "text/plain": [
       "'06_32'"
      ]
     },
     "execution_count": 44,
     "metadata": {},
     "output_type": "execute_result"
    }
   ],
   "source": [
    "filename[ind-5:ind]"
   ]
  },
  {
   "cell_type": "code",
   "execution_count": 39,
   "id": "acdde396",
   "metadata": {},
   "outputs": [
    {
     "data": {
      "text/plain": [
       "'06'"
      ]
     },
     "execution_count": 39,
     "metadata": {},
     "output_type": "execute_result"
    }
   ],
   "source": [
    "filename[ind-5:ind-3]"
   ]
  },
  {
   "cell_type": "code",
   "execution_count": 40,
   "id": "8dfe731c",
   "metadata": {},
   "outputs": [
    {
     "data": {
      "text/plain": [
       "6"
      ]
     },
     "execution_count": 40,
     "metadata": {},
     "output_type": "execute_result"
    }
   ],
   "source": [
    "layer = int(filename[ind-5:ind-3])\n",
    "layer"
   ]
  },
  {
   "cell_type": "code",
   "execution_count": 42,
   "id": "83af4288",
   "metadata": {},
   "outputs": [
    {
     "data": {
      "text/plain": [
       "'06_32'"
      ]
     },
     "execution_count": 42,
     "metadata": {},
     "output_type": "execute_result"
    }
   ],
   "source": [
    "f'{layer:02d}_{ch:02d}'"
   ]
  },
  {
   "cell_type": "code",
   "execution_count": 3,
   "id": "2284d116",
   "metadata": {},
   "outputs": [],
   "source": [
    "features = obj.unroll_features(numpy=False)"
   ]
  },
  {
   "cell_type": "code",
   "execution_count": 7,
   "id": "403f21ee",
   "metadata": {},
   "outputs": [
    {
     "data": {
      "text/plain": [
       "cupy._core.core.ndarray"
      ]
     },
     "execution_count": 7,
     "metadata": {},
     "output_type": "execute_result"
    }
   ],
   "source": [
    "type(features[0])"
   ]
  },
  {
   "cell_type": "code",
   "execution_count": 8,
   "id": "72385bd2",
   "metadata": {},
   "outputs": [],
   "source": [
    "import cupy as cp\n",
    "out = cp.stack([features[i] for i in range(obj.num_layers)], axis=0)"
   ]
  },
  {
   "cell_type": "code",
   "execution_count": 9,
   "id": "5c17f744",
   "metadata": {},
   "outputs": [
    {
     "data": {
      "text/plain": [
       "(12, 51333, 250)"
      ]
     },
     "execution_count": 9,
     "metadata": {},
     "output_type": "execute_result"
    }
   ],
   "source": [
    "out.shape"
   ]
  },
  {
   "cell_type": "code",
   "execution_count": 10,
   "id": "80add6ac",
   "metadata": {},
   "outputs": [],
   "source": [
    "out_np = np.stack([features[i] for i in range(obj.num_layers)], axis=0)"
   ]
  },
  {
   "cell_type": "code",
   "execution_count": 12,
   "id": "f800455a",
   "metadata": {},
   "outputs": [
    {
     "data": {
      "text/plain": [
       "cupy._core.core.ndarray"
      ]
     },
     "execution_count": 12,
     "metadata": {},
     "output_type": "execute_result"
    }
   ],
   "source": [
    "type(out_np)"
   ]
  },
  {
   "cell_type": "code",
   "execution_count": 8,
   "id": "d7a636bf",
   "metadata": {},
   "outputs": [
    {
     "data": {
      "text/plain": [
       "(51333, 1024)"
      ]
     },
     "execution_count": 8,
     "metadata": {},
     "output_type": "execute_result"
    }
   ],
   "source": [
    "obj.features[1].shape"
   ]
  },
  {
   "cell_type": "code",
   "execution_count": 1,
   "id": "94a87b20",
   "metadata": {},
   "outputs": [],
   "source": [
    "scratch_data_dir = '/scratch/gilbreth/ahmedb/auditory_cortex'\n",
    "depot_data_dir = '/depot/jgmakin/data/auditory_cortex/DownerData'"
   ]
  },
  {
   "cell_type": "code",
   "execution_count": 5,
   "id": "2f965791",
   "metadata": {},
   "outputs": [],
   "source": [
    "sessions = np.array(os.listdir(scratch_data_dir))\n",
    "sessions = np.delete(sessions, np.where(sessions == \"out_sentence_details_timit_all_loudness.mat\"))"
   ]
  },
  {
   "cell_type": "code",
   "execution_count": 8,
   "id": "a555bcd8",
   "metadata": {},
   "outputs": [
    {
     "data": {
      "text/plain": [
       "array(['180420', '180613', '191219', '180731', '200213', '180619',\n",
       "       '190726', '200312', '191206', '180720', '191125', '190605',\n",
       "       '200318', '190604', '180413', '191002', '200226', '190606',\n",
       "       '180814', '200207', '180501', '180724', '180622', '191210',\n",
       "       '191211', '191115', '180405', '191113', '190703', '180502',\n",
       "       '191209', '200401', '180719', '180406', '180725', '200212',\n",
       "       '180730', '191212', '180728', '180717', '180627', '180807',\n",
       "       '200205', '200219', '180808', '180810', '200313', '190801',\n",
       "       '190607', '191121', '200206'], dtype='<U43')"
      ]
     },
     "execution_count": 8,
     "metadata": {},
     "output_type": "execute_result"
    }
   ],
   "source": [
    "sessions"
   ]
  },
  {
   "cell_type": "code",
   "execution_count": 9,
   "id": "859930a4",
   "metadata": {},
   "outputs": [],
   "source": [
    "d_sessions = np.array(os.listdir(depot_data_dir))\n",
    "d_sessions = np.delete(d_sessions, np.where(d_sessions == \"out_sentence_details_timit_all_loudness.mat\"))"
   ]
  },
  {
   "cell_type": "code",
   "execution_count": 2,
   "id": "abbb017e",
   "metadata": {},
   "outputs": [],
   "source": [
    "neural_data_dir = '/scratch/gilbreth/ahmedb/auditory_cortex'\n",
    "session = '200206'\n",
    "model = 'wave2letter_modified'"
   ]
  },
  {
   "cell_type": "code",
   "execution_count": 3,
   "id": "36911fd7",
   "metadata": {},
   "outputs": [
    {
     "name": "stdout",
     "output_type": "stream",
     "text": [
      "Regression object...\n",
      "Creating regression obj for: 'wave2letter_modified'\n"
     ]
    }
   ],
   "source": [
    "obj = Reg.transformer_regression(session, model_name=model, load_features=True)"
   ]
  },
  {
   "attachments": {},
   "cell_type": "markdown",
   "id": "4b5ebf37",
   "metadata": {},
   "source": [
    "### testing after changes..."
   ]
  },
  {
   "cell_type": "code",
   "execution_count": 1,
   "id": "4bf1a41a",
   "metadata": {},
   "outputs": [
    {
     "name": "stdout",
     "output_type": "stream",
     "text": [
      "Creating regression obj for: 'wave2letter_modified'\n",
      "Loading model features now...!\n",
      "Loading ANN features at bin-width: 20\n"
     ]
    }
   ],
   "source": [
    "import os\n",
    "import pandas as pd\n",
    "import soundfile\n",
    "import yaml\n",
    "from wav2letter.datasets import Dataset, LSDataModule, DataModuleRF\n",
    "from wav2letter.models import LitWav2Letter, Wav2LetterRF\n",
    "import torchaudio\n",
    "import scipy\n",
    "import matplotlib.pyplot as plt\n",
    "import torch\n",
    "from scipy.io import wavfile\n",
    "import auditory_cortex.regression as Reg\n",
    "import auditory_cortex.utils as utils\n",
    "import numpy as np\n",
    "import pickle\n",
    "import time\n",
    "\n",
    "START = time.time()\n",
    "\n",
    "reg_conf = '/home/ahmedb/projects/Wav2Letter/Auditory_Cortex/conf/regression_w2l.yaml'\n",
    "with open(reg_conf, 'r') as f:\n",
    "    config = yaml.load(f, Loader=yaml.FullLoader)\n",
    "\n",
    "\n",
    "\n",
    "data_dir = config['data_dir']\n",
    "bad_sessions = config['bad_sessions']\n",
    "results_dir = config['results_dir']\n",
    "delays = config['delays']\n",
    "bin_widths = config['bin_widths']\n",
    "pretrained = config['pretrained']\n",
    "k_folds_validation = config['k_folds_validation']\n",
    "iterations = config['iterations']\n",
    "use_cpu = config['use_cpu']\n",
    "dataset_sizes = config['dataset_sizes']\n",
    "dataset_sizes = np.arange(dataset_sizes[0], dataset_sizes[1], dataset_sizes[2])\n",
    "\n",
    "# # Create w2l model..\n",
    "# if pretrained:\n",
    "# # Create model with pretrained weights....!\n",
    "#     # checkpoint_file = \"Wav2letter-epoch=024-val_loss=0.37.ckpt\"\n",
    "#     checkpoint_file = config['checkpoint']\n",
    "#     pretrained_dir = config['pretrained_dir']\n",
    "#     checkpoint = os.path.join(pretrained_dir, checkpoint_file)\n",
    "#     mod = Wav2LetterRF.load_from_checkpoint(checkpoint)\n",
    "#     csv_file_name = config['pretrained_correlations_file']\n",
    "# else:\n",
    "#     mod = Wav2LetterRF()\n",
    "#     csv_file_name = config['untrained_correlations_file']\n",
    "csv_file_name = config['pretrained_correlations_file']\n",
    "model_name = 'wave2letter_modified'\n",
    "\n",
    "# CSV file to save the results at\n",
    "file_exists = False\n",
    "file_path = os.path.join(results_dir, csv_file_name)\n",
    "if os.path.exists(file_path):\n",
    "    data = pd.read_csv(file_path)\n",
    "    file_exists = True\n",
    "\n",
    "## read the sessions available in data_dir\n",
    "sessions = np.array(os.listdir(data_dir))\n",
    "sessions = np.delete(sessions, np.where(sessions == \"out_sentence_details_timit_all_loudness.mat\"))\n",
    "for s in bad_sessions:\n",
    "    sessions = np.delete(sessions, np.where(sessions == s))\n",
    "\n",
    "obj = Reg.transformer_regression(model_name=model_name)\n",
    "\n",
    "# sents = [12,13,32,43,56,163,212,218,287,308]\n",
    "# for delay in delays:\n",
    "#     for bin_width in bin_widths:\n",
    "\n",
    "#         # Session in data_dir that we do not have results for...\n",
    "#         if file_exists:\n",
    "#             sessions_done = data[(data['delay']==delay) & (data['bin_width']==bin_width)]['session'].unique()\n",
    "#             subjects = sessions[np.isin(sessions,sessions_done.astype(int).astype(str), invert=True)]\n",
    "#         else:\n",
    "#             subjects = sessions\n",
    "#         subjects = ['200206']\n",
    "#         for sub in subjects:\n",
    "#             print(f\"Working with '{sub}'\")\n",
    "#             # obj = get_reg_obj(data_dir, sub)\n",
    "#             obj = Reg.transformer_regression(sub, model_name=model_name, load_features=True)\n",
    "#             norm = obj.get_normalizer(bin_width=bin_width, delay=delay)\n",
    "#             for N_sents in dataset_sizes:\n",
    "#                 corr_dict = obj.cross_validated_regression(bin_width=bin_width, delay=delay, N=iterations,\n",
    "#                             k=k_folds_validation, N_sents=N_sents, sents=sents,\n",
    "#                             load_features=True, return_dict=True, numpy=use_cpu)\n",
    "#                 df = utils.write_to_disk(corr_dict, file_path, normalizer=norm)\n",
    "\n",
    "# END = time.time()\n",
    "# print(f\"Took {(END-START)/60:.2f} min., for bin_widths: '{bin_widths}' and delays: '{delays}'.\")\n",
    "\n"
   ]
  },
  {
   "cell_type": "code",
   "execution_count": null,
   "id": "20b808ed",
   "metadata": {},
   "outputs": [],
   "source": [
    "bin_width = 20\n",
    "delay = 0\n",
    "\n",
    "session = '200206'\n",
    "\n",
    "# session = '180420'\n",
    "print(f\"Working with '{session}'\")\n",
    "# obj = get_reg_obj(data_dir, sub)\n",
    "# obj = Reg.transformer_regression(session, model_name=model_name, load_features=True)\n",
    "# norm = obj.get_normalizer(bin_width=bin_width, delay=delay)\n",
    "for N_sents in dataset_sizes:\n",
    "    corr_dict = obj.cross_validated_regression(session, bin_width=bin_width, delay=delay, N=iterations,\n",
    "                k=k_folds_validation, N_sents=N_sents,\n",
    "                load_features=True, return_dict=True, numpy=use_cpu)"
   ]
  },
  {
   "cell_type": "code",
   "execution_count": null,
   "id": "25bcb57b",
   "metadata": {},
   "outputs": [],
   "source": [
    "bin_width = 20\n",
    "delay = 0\n",
    "norm = obj.get_normalizer(bin_width=bin_width, delay=delay)"
   ]
  },
  {
   "cell_type": "code",
   "execution_count": 4,
   "id": "a44017f2",
   "metadata": {},
   "outputs": [],
   "source": [
    "csv_file_name = 'testing_for_modified_code.csv'\n",
    "model_name = 'wave2letter_modified'\n",
    "\n",
    "csv_file_name = model_name + '_' + csv_file_name"
   ]
  },
  {
   "cell_type": "code",
   "execution_count": 5,
   "id": "8dbf3133",
   "metadata": {},
   "outputs": [],
   "source": [
    "mean = np.mean(corr_dict['test_cc_raw'], axis=1)\n",
    "std = np.std(corr_dict['test_cc_raw'], axis=1)"
   ]
  },
  {
   "cell_type": "code",
   "execution_count": 3,
   "id": "cdc07f5f",
   "metadata": {},
   "outputs": [
    {
     "data": {
      "text/plain": [
       "<BarContainer object of 12 artists>"
      ]
     },
     "execution_count": 3,
     "metadata": {},
     "output_type": "execute_result"
    },
    {
     "data": {
      "image/png": "[encoded data removed]",
      "text/plain": [
       "<Figure size 432x288 with 1 Axes>"
      ]
     },
     "metadata": {
      "needs_background": "light"
     },
     "output_type": "display_data"
    }
   ],
   "source": [
    "mean = np.mean(corr_dict['test_cc_raw'], axis=1)\n",
    "std = np.std(corr_dict['test_cc_raw'], axis=1)\n",
    "\n",
    "import matplotlib.cm as cm\n",
    "cmap = cm.get_cmap('magma')\n",
    "colors = cmap(np.arange(mean.shape[0])/mean.shape[0])\n",
    "plt.bar(x=np.arange(mean.shape[0]), height=mean, yerr=std, color=colors)\n",
    "# plt.ylim([0, 0.7])\n"
   ]
  }
 ],
 "metadata": {
  "kernelspec": {
   "display_name": "Python (My wav2letter Kernel)",
   "language": "python",
   "name": "wav2letter"
  },
  "language_info": {
   "codemirror_mode": {
    "name": "ipython",
    "version": 3
   },
   "file_extension": ".py",
   "mimetype": "text/x-python",
   "name": "python",
   "nbconvert_exporter": "python",
   "pygments_lexer": "ipython3",
   "version": "3.8.5"
  }
 },
 "nbformat": 4,
 "nbformat_minor": 5
}
