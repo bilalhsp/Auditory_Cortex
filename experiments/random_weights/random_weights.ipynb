{
 "cells": [
  {
   "cell_type": "code",
   "execution_count": 1,
   "metadata": {},
   "outputs": [
    {
     "name": "stderr",
     "output_type": "stream",
     "text": [
      "/home/ahmedb/projects/Wav2Letter/deepspeech.pytorch/deepspeech_pytorch/loader/data_loader.py:17: UserWarning: torchaudio._backend.set_audio_backend has been deprecated. With dispatcher enabled, this function is no-op. You can remove the function call.\n",
      "  torchaudio.set_audio_backend(\"sox_io\")\n"
     ]
    }
   ],
   "source": [
    "from auditory_cortex.plotters.plotter_utils import PlotterUtils\n",
    "from auditory_cortex.plotters.correlation_plotter import RegPlotter\n",
    "from auditory_cortex.analyses import Correlations\n",
    "from auditory_cortex.models import Regression\n",
    "from auditory_cortex.neural_data.neural_meta_data import NeuralMetaData\n",
    "from auditory_cortex.dataloader import DataLoader\n",
    "\n",
    "import torch\n",
    "import numpy as np\n",
    "import seaborn as sns\n",
    "import scipy\n",
    "\n",
    "import matplotlib.pylab as plt\n",
    "import matplotlib as mpl\n",
    "%matplotlib inline"
   ]
  },
  {
   "cell_type": "code",
   "execution_count": 2,
   "metadata": {},
   "outputs": [
    {
     "name": "stdout",
     "output_type": "stream",
     "text": [
      "Model on device: cuda\n"
     ]
    },
    {
     "name": "stderr",
     "output_type": "stream",
     "text": [
      "/home/ahmedb/.conda/envs/cent7/2020.11-py38/wav2letter/lib/python3.8/site-packages/pytorch_lightning/utilities/migration/migration.py:203: PossibleUserWarning: You have multiple `ModelCheckpoint` callback states in this checkpoint, but we found state keys that would end up colliding with each other after an upgrade, which means we can't differentiate which of your checkpoint callbacks needs which states. At least one of your `ModelCheckpoint` callbacks will not be able to reload the state.\n",
      "  rank_zero_warn(\n",
      "Lightning automatically upgraded your loaded checkpoint from v1.1.5 to v2.0.8. To apply the upgrade to your files permanently, run `python -m pytorch_lightning.utilities.upgrade_checkpoint --file ../../../../depot/jgmakin/data/auditory_cortex/results/pretrained_weights/deepspeech2/librispeech_pretrained_v3.ckpt`\n",
      "/home/ahmedb/.conda/envs/cent7/2020.11-py38/wav2letter/lib/python3.8/site-packages/torchmetrics/utilities/prints.py:36: UserWarning: Torchmetrics v0.9 introduced a new argument class property called `full_state_update` that has\n",
      "                not been set for this class (WordErrorRate). The property determines if `update` by\n",
      "                default needs access to the full metric state. If this is not the case, significant speedups can be\n",
      "                achieved and we recommend setting this to `False`.\n",
      "                We provide an checking function\n",
      "                `from torchmetrics.utilities import check_forward_no_full_state`\n",
      "                that can be used to check if the `full_state_update=True` (old and potential slower behaviour,\n",
      "                default for now) or if `full_state_update=False` can be used safely.\n",
      "                \n",
      "  warnings.warn(*args, **kwargs)\n",
      "/home/ahmedb/.conda/envs/cent7/2020.11-py38/wav2letter/lib/python3.8/site-packages/torchmetrics/utilities/prints.py:36: UserWarning: Torchmetrics v0.9 introduced a new argument class property called `full_state_update` that has\n",
      "                not been set for this class (CharErrorRate). The property determines if `update` by\n",
      "                default needs access to the full metric state. If this is not the case, significant speedups can be\n",
      "                achieved and we recommend setting this to `False`.\n",
      "                We provide an checking function\n",
      "                `from torchmetrics.utilities import check_forward_no_full_state`\n",
      "                that can be used to check if the `full_state_update=True` (old and potential slower behaviour,\n",
      "                default for now) or if `full_state_update=False` can be used safely.\n",
      "                \n",
      "  warnings.warn(*args, **kwargs)\n",
      "Special tokens have been added in the vocabulary, make sure the associated word embeddings are fine-tuned or trained.\n"
     ]
    }
   ],
   "source": [
    "dataloader = DataLoader()\n",
    "model_name = 'deepspeech2'\n",
    "dnn_obj = dataloader.get_DNN_obj(model_name)"
   ]
  },
  {
   "cell_type": "code",
   "execution_count": 3,
   "metadata": {},
   "outputs": [],
   "source": [
    "state_dict = dnn_obj.extractor.model.state_dict()\n",
    "for k,v in state_dict.items():\n",
    "\tstate_dict[k] = v.cpu().numpy()\n"
   ]
  },
  {
   "cell_type": "code",
   "execution_count": 3,
   "metadata": {},
   "outputs": [],
   "source": [
    "import os\n",
    "from auditory_cortex import cache_dir\n",
    "weights_factor = 1\n",
    "state_dict_path = os.path.join(cache_dir, model_name, 'shuffled', f'shuffled_weights_factor_{weights_factor}.pth')\n",
    "state_dict = dnn_obj.extractor.model.state_dict()\n",
    "# for k,v in state_dict.items():\n",
    "# \tstate_dict[k] = v.cpu().numpy()\n",
    "# torch.save(state_dict, state_dict_path)"
   ]
  },
  {
   "cell_type": "code",
   "execution_count": 22,
   "metadata": {},
   "outputs": [],
   "source": []
  },
  {
   "cell_type": "code",
   "execution_count": 24,
   "metadata": {},
   "outputs": [],
   "source": [
    "state_dict = torch.load(state_dict_path)"
   ]
  },
  {
   "cell_type": "code",
   "execution_count": null,
   "metadata": {},
   "outputs": [],
   "source": [
    "state_dict.keys()"
   ]
  },
  {
   "cell_type": "code",
   "execution_count": 6,
   "metadata": {},
   "outputs": [],
   "source": [
    "feat = state_dict['conv.seq_module.0.weight']"
   ]
  },
  {
   "cell_type": "code",
   "execution_count": 7,
   "metadata": {},
   "outputs": [
    {
     "data": {
      "image/png": "[encoded data removed]",
      "text/plain": [
       "<Figure size 432x288 with 1 Axes>"
      ]
     },
     "metadata": {
      "needs_background": "light"
     },
     "output_type": "display_data"
    }
   ],
   "source": [
    "plt.hist(feat.flatten())\n",
    "plt.title(np.linalg.norm(feat))\n",
    "plt.show()"
   ]
  },
  {
   "cell_type": "code",
   "execution_count": null,
   "metadata": {},
   "outputs": [],
   "source": [
    "scaled_param = feat*100\n",
    "plt.hist(scaled_param.flatten())\n",
    "plt.title(np.linalg.norm(scaled_param))\n",
    "plt.show()"
   ]
  },
  {
   "cell_type": "code",
   "execution_count": null,
   "metadata": {},
   "outputs": [],
   "source": [
    "plt.hist(feat.flatten())\n",
    "plt.title(np.linalg.norm(feat))\n",
    "plt.show()"
   ]
  },
  {
   "cell_type": "code",
   "execution_count": null,
   "metadata": {},
   "outputs": [],
   "source": [
    "dataloader = DataLoader()\n",
    "model_name = 'deepspeech2'\n",
    "dnn_obj = dataloader.get_DNN_obj(model_name)"
   ]
  },
  {
   "cell_type": "code",
   "execution_count": null,
   "metadata": {},
   "outputs": [],
   "source": [
    "dnn_obj.layer_names"
   ]
  },
  {
   "cell_type": "code",
   "execution_count": 10,
   "metadata": {},
   "outputs": [],
   "source": [
    "layers_with_weights = [\n",
    "    'conv.seq_module.0.weight',\n",
    "    'conv.seq_module.3.weight',\n",
    "    'rnns.0.rnn.weight_ih_l0',\n",
    "    # 'rnns.0.rnn.weight_hh_l0',\n",
    "    'rnns.1.rnn.weight_ih_l0',\n",
    "    'rnns.2.rnn.weight_ih_l0',\n",
    "    'rnns.3.rnn.weight_ih_l0',\n",
    "    'rnns.4.rnn.weight_ih_l0',\n",
    "    'fc.0.module.0.weight',\n",
    "]\n"
   ]
  },
  {
   "cell_type": "code",
   "execution_count": null,
   "metadata": {},
   "outputs": [],
   "source": [
    "dataloader = DataLoader()\n",
    "model_name = 'deepspeech2'\n",
    "dnn_obj = dataloader.get_DNN_obj(model_name)\n",
    "\n",
    "num_layers = len(layers_with_weights)\n",
    "fig, axes = plt.subplots(nrows=2, ncols=num_layers, figsize=(16,8))\n",
    "\n",
    "i = 0\n",
    "for j, layer_name in enumerate(layers_with_weights):\n",
    "    weights = dnn_obj.extractor.model.state_dict()[layer_name].flatten().cpu().numpy()\n",
    "    norm = np.linalg.norm(weights)\n",
    "\n",
    "    ax = axes[i, j]\n",
    "    ax.hist(weights)\n",
    "    ax.set_title(f\"{norm:.2f}\")\n",
    "    ax.set_yticks([])\n",
    "\n",
    "# reset weights..\n",
    "out = dnn_obj.reset_model_parameters()\n",
    "i = 1\n",
    "for j, layer_name in enumerate(layers_with_weights):\n",
    "    weights = dnn_obj.extractor.model.state_dict()[layer_name].flatten().cpu().numpy()\n",
    "    norm = np.linalg.norm(weights)\n",
    "\n",
    "    ax = axes[i, j]\n",
    "    ax.hist(weights)\n",
    "    ax.set_title(f\"{norm:.2f}\")\n",
    "    ax.set_yticks([])"
   ]
  },
  {
   "cell_type": "code",
   "execution_count": null,
   "metadata": {},
   "outputs": [],
   "source": []
  },
  {
   "cell_type": "code",
   "execution_count": null,
   "metadata": {},
   "outputs": [],
   "source": [
    "dict([*dnn_obj.extractor.model.named_modules()])"
   ]
  },
  {
   "cell_type": "code",
   "execution_count": null,
   "metadata": {},
   "outputs": [],
   "source": []
  },
  {
   "cell_type": "code",
   "execution_count": 65,
   "metadata": {},
   "outputs": [],
   "source": [
    "def compare_weight_initializations(model_name, layer_name):\n",
    "    dataloader = DataLoader()\n",
    "    dnn_obj = dataloader.get_DNN_obj(model_name)\n",
    "    fig, axes = plt.subplots(nrows=2, ncols=2, figsize=(10,8))\n",
    "\n",
    "    # layer_name = 'conv.seq_module.0.weight'\n",
    "\n",
    "    weights = dnn_obj.extractor.model.state_dict()[layer_name].flatten().cpu().numpy()\n",
    "    norm = np.linalg.norm(weights)\n",
    "\n",
    "    i=0\n",
    "    ax = axes[i//2, i%2]\n",
    "    ax.hist(weights)\n",
    "    ax.set_title(f\"original Norm={norm:.2f}\")\n",
    "\n",
    "    # reset weights..\n",
    "    out = dnn_obj.reset_model_parameters()\n",
    "    weights = dnn_obj.extractor.model.state_dict()[layer_name].flatten().cpu().numpy()\n",
    "    norm = np.linalg.norm(weights)\n",
    "\n",
    "    i=1\n",
    "    ax = axes[i//2, i%2]\n",
    "    ax.hist(weights)\n",
    "    ax.set_title(f\"reset Norm={norm:.2f}\")\n",
    "\n",
    "    # randn weights..\n",
    "    out = dnn_obj.randomly_reinitialize_weights(False)\n",
    "    weights = dnn_obj.extractor.model.state_dict()[layer_name].flatten().cpu().numpy()\n",
    "    norm = np.linalg.norm(weights)\n",
    "\n",
    "    i=2\n",
    "    ax = axes[i//2, i%2]\n",
    "    ax.hist(weights)\n",
    "    ax.set_title(f\"randn Norm={norm:.2f}\")\n",
    "\n",
    "    # rand weights..\n",
    "    out = dnn_obj.randomly_reinitialize_weights(True)\n",
    "    weights = dnn_obj.extractor.model.state_dict()[layer_name].flatten().cpu().numpy()\n",
    "    norm = np.linalg.norm(weights)\n",
    "\n",
    "    i=3\n",
    "    ax = axes[i//2, i%2]\n",
    "    ax.hist(weights)\n",
    "    ax.set_title(f\"rand Norm={norm:.2f}\")\n",
    "\n",
    "    plt.suptitle(layer_name)\n",
    "\n",
    "    "
   ]
  },
  {
   "cell_type": "code",
   "execution_count": null,
   "metadata": {},
   "outputs": [],
   "source": [
    "model_name = 'deepspeech2'\n",
    "layer_name = 'conv.seq_module.0.weight'\n",
    "compare_weight_initializations(model_name, layer_name)"
   ]
  },
  {
   "cell_type": "code",
   "execution_count": null,
   "metadata": {},
   "outputs": [],
   "source": [
    "model_name = 'deepspeech2'\n",
    "layer_name = 'conv.seq_module.0.bias'\n",
    "compare_weight_initializations(model_name, layer_name)"
   ]
  },
  {
   "cell_type": "code",
   "execution_count": null,
   "metadata": {},
   "outputs": [],
   "source": [
    "model_name = 'deepspeech2'\n",
    "layer_name = 'conv.seq_module.3.weight'\n",
    "compare_weight_initializations(model_name, layer_name)"
   ]
  },
  {
   "cell_type": "code",
   "execution_count": null,
   "metadata": {},
   "outputs": [],
   "source": [
    "model_name = 'deepspeech2'\n",
    "layer_name = 'conv.seq_module.3.bias'\n",
    "compare_weight_initializations(model_name, layer_name)"
   ]
  },
  {
   "cell_type": "markdown",
   "metadata": {},
   "source": [
    "### whisper_tiny.."
   ]
  },
  {
   "cell_type": "code",
   "execution_count": null,
   "metadata": {},
   "outputs": [],
   "source": [
    "dataloader = DataLoader()\n",
    "model_name = 'whisper_tiny'\n",
    "dnn_obj = dataloader.get_DNN_obj(model_name)"
   ]
  },
  {
   "cell_type": "code",
   "execution_count": null,
   "metadata": {},
   "outputs": [],
   "source": [
    "dict([*dnn_obj.extractor.model.named_modules()])"
   ]
  },
  {
   "cell_type": "code",
   "execution_count": null,
   "metadata": {},
   "outputs": [],
   "source": [
    "dataloader = DataLoader()\n",
    "model_name = 'speech2text'\n",
    "dnn_obj = dataloader.get_DNN_obj(model_name)\n",
    "dict([*dnn_obj.extractor.model.named_modules()])"
   ]
  },
  {
   "cell_type": "code",
   "execution_count": null,
   "metadata": {},
   "outputs": [],
   "source": [
    "dataloader = DataLoader()\n",
    "model_name = 'deepspeech2'\n",
    "dnn_obj = dataloader.get_DNN_obj(model_name)\n",
    "dict([*dnn_obj.extractor.model.named_modules()])"
   ]
  },
  {
   "cell_type": "code",
   "execution_count": null,
   "metadata": {},
   "outputs": [],
   "source": [
    "model_name = 'whisper_tiny'\n",
    "layer_name = 'model.encoder.conv1.weight'\n",
    "compare_weight_initializations(model_name, layer_name)"
   ]
  },
  {
   "cell_type": "code",
   "execution_count": null,
   "metadata": {},
   "outputs": [],
   "source": [
    "model_name = 'whisper_tiny'\n",
    "layer_name = 'model.encoder.conv2.weight'\n",
    "compare_weight_initializations(model_name, layer_name)"
   ]
  },
  {
   "cell_type": "code",
   "execution_count": null,
   "metadata": {},
   "outputs": [],
   "source": [
    "model_name = 'whisper_tiny'\n",
    "layer_name = 'model.encoder.layers.0.fc1.weight'\n",
    "compare_weight_initializations(model_name, layer_name)"
   ]
  },
  {
   "cell_type": "markdown",
   "metadata": {},
   "source": [
    "### wav2letter"
   ]
  },
  {
   "cell_type": "code",
   "execution_count": null,
   "metadata": {},
   "outputs": [],
   "source": [
    "model_name = 'wav2letter_modified'\n",
    "layer_name = 'conv1.conv.weight'\n",
    "compare_weight_initializations(model_name, layer_name)"
   ]
  },
  {
   "cell_type": "code",
   "execution_count": null,
   "metadata": {},
   "outputs": [],
   "source": [
    "model_name = 'wav2letter_modified'\n",
    "layer_name = 'conv2.conv.weight'\n",
    "compare_weight_initializations(model_name, layer_name)"
   ]
  },
  {
   "cell_type": "code",
   "execution_count": null,
   "metadata": {},
   "outputs": [],
   "source": [
    "model_name = 'wav2letter_modified'\n",
    "layer_name = 'conv6.conv.weight'\n",
    "compare_weight_initializations(model_name, layer_name)"
   ]
  },
  {
   "cell_type": "code",
   "execution_count": null,
   "metadata": {},
   "outputs": [],
   "source": [
    "dataloader = DataLoader()\n",
    "model_name = 'wav2letter_modified'\n",
    "dnn_obj = dataloader.get_DNN_obj(model_name)"
   ]
  },
  {
   "cell_type": "code",
   "execution_count": null,
   "metadata": {},
   "outputs": [],
   "source": [
    "dict([*dnn_obj.extractor.model.named_modules()])"
   ]
  },
  {
   "cell_type": "code",
   "execution_count": null,
   "metadata": {},
   "outputs": [],
   "source": [
    "dnn_obj.extractor.model.state_dict()['conv1.conv.weight']"
   ]
  },
  {
   "cell_type": "code",
   "execution_count": null,
   "metadata": {},
   "outputs": [],
   "source": []
  },
  {
   "cell_type": "code",
   "execution_count": null,
   "metadata": {},
   "outputs": [],
   "source": []
  }
 ],
 "metadata": {
  "kernelspec": {
   "display_name": "Python 3",
   "language": "python",
   "name": "python3"
  },
  "language_info": {
   "codemirror_mode": {
    "name": "ipython",
    "version": 3
   },
   "file_extension": ".py",
   "mimetype": "text/x-python",
   "name": "python",
   "nbconvert_exporter": "python",
   "pygments_lexer": "ipython3",
   "version": "3.8.5"
  }
 },
 "nbformat": 4,
 "nbformat_minor": 2
}
